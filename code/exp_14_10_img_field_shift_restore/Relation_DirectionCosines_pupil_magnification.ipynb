{
 "cells": [
  {
   "cell_type": "markdown",
   "metadata": {},
   "source": [
    "#Verify the various relationships between pupil magnification and direction cosines"
   ]
  },
  {
   "cell_type": "markdown",
   "metadata": {},
   "source": [
    "##References\n",
    "\n",
    "<div class=\"cite2c-biblio\"></div>"
   ]
  },
  {
   "cell_type": "code",
   "execution_count": 1,
   "metadata": {
    "collapsed": true
   },
   "outputs": [],
   "source": [
    "# Common imports for both sections\n",
    "from __future__ import print_function, division\n",
    "import numpy as np\n",
    "import os\n",
    "import pyzdde.zdde as pyz\n",
    "import iutils.math.general as mgu\n",
    "import iutils.optics.fourier as fou"
   ]
  },
  {
   "cell_type": "markdown",
   "metadata": {},
   "source": [
    "##TOC\n",
    "\n",
    "1. [Relation between pupil magnification and direction cosines](#Relation-between-pupil-magnification-and-direction-cosines)\n",
    "\n",
    "2. [Relation between direction cosines at the ENP and the EXP](#Relation-between-direction-cosines-at-the-ENP-and-the-EXP)\n",
    "\n"
   ]
  },
  {
   "cell_type": "markdown",
   "metadata": {},
   "source": [
    "##Relation between pupil magnification and direction cosines"
   ]
  },
  {
   "cell_type": "markdown",
   "metadata": {},
   "source": [
    "###Introduction"
   ]
  },
  {
   "cell_type": "markdown",
   "metadata": {},
   "source": [
    "One of the definitions of the **pupil magnification**, $m_p$, is the ratio of the exit pupil diameter to the entrance pupil diameter:\n",
    "\n",
    "$$\n",
    "m_p = \\frac{EXP_{diameter}}{ENP_{diameter}} \\hspace{40pt} (1)\n",
    "$$"
   ]
  },
  {
   "cell_type": "markdown",
   "metadata": {},
   "source": [
    "The pupil $m_p$ also relates the input angle ($\\theta$) at the $ENP$ and the output angle ($\\theta'$) at the $EXP$ that a chief ray makes with the optical axis <cite data-cite=\"443206/X2FEQBXG\"></cite>:\n",
    "\n",
    "$$\n",
    "m_p = \\frac{tan(\\theta)}{tan(\\theta')} \\hspace{40pt}(2)\n",
    "$$\n",
    "\n",
    "Using the above relation, we can derive a relation between the input (to the $ENP$) and output (from the $EXP$) direction cosines associated with the chief ray."
   ]
  },
  {
   "cell_type": "markdown",
   "metadata": {},
   "source": [
    "####Derivation of the relations"
   ]
  },
  {
   "cell_type": "markdown",
   "metadata": {},
   "source": [
    "**<font color='red'>TO DO</font>**\n",
    "\n",
    "[Import from handwritten derivation]"
   ]
  },
  {
   "cell_type": "markdown",
   "metadata": {},
   "source": [
    "###Verification using Zemax"
   ]
  },
  {
   "cell_type": "code",
   "execution_count": 2,
   "metadata": {
    "collapsed": false
   },
   "outputs": [
    {
     "data": {
      "text/plain": [
       "0"
      ]
     },
     "execution_count": 2,
     "metadata": {},
     "output_type": "execute_result"
    }
   ],
   "source": [
    "ln = pyz.createLink()\n",
    "lens = \"paraxialDoubleLensF180mm_EnppExpp36_88mm_pMag0_82_TiltAbtENPP_wSensorShift.zmx\"\n",
    "zmxdir = os.path.join(os.getcwd(), \"zmxfiles\")\n",
    "lensPath = os.path.join(zmxdir, lens)\n",
    "ln.zLoadFile(lensPath)"
   ]
  },
  {
   "cell_type": "code",
   "execution_count": 3,
   "metadata": {
    "collapsed": false
   },
   "outputs": [
    {
     "data": {
      "text/plain": [
       "(1, 3, 0)"
      ]
     },
     "execution_count": 3,
     "metadata": {},
     "output_type": "execute_result"
    }
   ],
   "source": [
    "ln.zSetConfig(config=1)"
   ]
  },
  {
   "cell_type": "code",
   "execution_count": 4,
   "metadata": {
    "collapsed": false
   },
   "outputs": [
    {
     "data": {
      "text/plain": [
       "0.8225806452000001"
      ]
     },
     "execution_count": 4,
     "metadata": {},
     "output_type": "execute_result"
    }
   ],
   "source": [
    "mp = ln.zGetPupilMagnification()\n",
    "mp"
   ]
  },
  {
   "cell_type": "markdown",
   "metadata": {},
   "source": [
    "In order to get the direction cosines at the two surfaces the chief ray is traced in Zemax and the direction cosines at the relevant surfaces are querried.\n"
   ]
  },
  {
   "cell_type": "code",
   "execution_count": 13,
   "metadata": {
    "collapsed": false
   },
   "outputs": [],
   "source": [
    "# Helper function \n",
    "\n",
    "def get_dircos_pupilmag(hx=0, hy=1):\n",
    "    '''returns direction cosines of the chief-ray at the ENP and EXP\n",
    "       and the pupil magnifications computed using the 3 relations\n",
    "       \n",
    "    Parameters\n",
    "    ----------\n",
    "    hx, hy: floats\n",
    "        normalized field position of the ray in the object space\n",
    "    \n",
    "    Returns\n",
    "    -------\n",
    "    a, b, g : floats\n",
    "        direction cosines alpha, beta & gamma @ ENP\n",
    "    aDash, bDash, gDash : floats\n",
    "        direction cosines alpha, beta & gamma @ EXP\n",
    "    mp1, mp2, mp3 : floats\n",
    "        pupil magnification using the 3 relations\n",
    "    '''\n",
    "    # trace ray to the Entrance Pupil Surface (surface 9)\n",
    "    rt1 = ln.zGetTrace(waveNum=1, mode=0, surf=9, hx=hx, hy=hy, px=0, py=0)\n",
    "    a, b, g = rt1.dcos_l, rt1.dcos_m, rt1.dcos_n\n",
    "    # trace ray to the surface just after the Exit Pupil surface (EXP surface = 14)\n",
    "    rt2 = ln.zGetTrace(waveNum=1, mode=0, surf=15, hx=hx, hy=hy, px=0, py=0)\n",
    "    aDash, bDash, gDash = rt2.dcos_l, rt2.dcos_m, rt2.dcos_n\n",
    "    # compute the pupil magnification using the three relationships\n",
    "    with np.errstate(divide='ignore', invalid='ignore'):\n",
    "        mp1 = np.divide(a, aDash)*np.divide(gDash, g)\n",
    "        mp2 = np.divide(b, bDash)*np.divide(gDash, g)\n",
    "        mp3 = np.sqrt((a**2 + b**2)/(aDash**2 + bDash**2))*np.divide(gDash, g)\n",
    "    return a, b, g, aDash, bDash, gDash, mp1, mp2, mp3 \n",
    "    \n",
    "\n",
    "def print_dircos_pupilmag(data, ppm=True, verbose=True):\n",
    "    '''print the direction cosines and pupil magnification\n",
    "    \n",
    "    Parameters\n",
    "    ----------\n",
    "    data : tuple\n",
    "        the tuple returned by the function get_dircos_pupilmag()\n",
    "    ppm : bool\n",
    "        if `True`, the pupil magnifications are printed\n",
    "    verbose : bool\n",
    "        if `True`, the polar, azimuth angles and angles w.r.t. the\n",
    "        axes.\n",
    "    \n",
    "    Returns\n",
    "    -------\n",
    "    None\n",
    "    '''\n",
    "    a, b, g, aDash, bDash, gDash, mp1, mp2, mp3 = data\n",
    "    zen, azi = fou.zenith_azimuth_from_dir_cos(g, a, b)\n",
    "    zenDash, aziDash = fou.zenith_azimuth_from_dir_cos(gDash, aDash, bDash)\n",
    "    angZ, angX, angY = fou.angles_from_dir_cos(g, a, b)\n",
    "    angZDash, angXDash, angYDash = fou.angles_from_dir_cos(gDash, aDash, bDash)\n",
    "    print('Direction cosines @ ENP:')\n",
    "    print('alpha =', a, ', beta =', b, ', gamma =', g)\n",
    "    if verbose:\n",
    "        print('zenith =', zen, ', azimuth =', azi)\n",
    "        print('angle_x =', angX, ', angle_y =', angY, ', angle_z =', angZ)\n",
    "    print('\\nDirection cosines @ EXP:')\n",
    "    print(\"alpha' =\", aDash, \", beta' =\", bDash, \", gamma' =\", gDash)\n",
    "    if verbose:\n",
    "        print(\"zenith' =\", zenDash, \", azimuth' =\", aziDash)\n",
    "        print(\"angle_x' =\", angXDash, \", angle_y' =\", angYDash, \", angle_z' =\", angZDash)\n",
    "    if ppm:\n",
    "        print('\\nPupil Magnification:')\n",
    "        print('mp1 (def#1) =', mp1, ', mp2 (def#2) =', mp2, ', mp3 (def#3) =', mp3)   \n"
   ]
  },
  {
   "cell_type": "markdown",
   "metadata": {},
   "source": [
    "######Trace a chief-ray that is in the Tangential plane"
   ]
  },
  {
   "cell_type": "code",
   "execution_count": 14,
   "metadata": {
    "collapsed": false
   },
   "outputs": [
    {
     "name": "stdout",
     "output_type": "stream",
     "text": [
      "Direction cosines @ ENP:\n",
      "alpha = 0.0 , beta = -0.18721331631 , gamma = 0.982319283225\n",
      "zenith = 10.7902009975 , azimuth = -90.0\n",
      "angle_x = 90.0 , angle_y = 100.790200998 , angle_z = 10.7902009975\n",
      "\n",
      "Direction cosines @ EXP:\n",
      "alpha' = 0.0 , beta' = -0.225710231566 , gamma' = 0.974194483338\n",
      "zenith' = 13.0446458379 , azimuth' = -90.0\n",
      "angle_x' = 90.0 , angle_y' = 103.044645838 , angle_z' = 13.0446458379\n",
      "\n",
      "Pupil Magnification:\n",
      "mp1 (def#1) = nan , mp2 (def#2) = 0.822580645161 , mp3 (def#3) = 0.822580645161\n"
     ]
    }
   ],
   "source": [
    "ret = get_dircos_pupilmag(hx=0, hy=1)\n",
    "print_dircos_pupilmag(ret)"
   ]
  },
  {
   "cell_type": "markdown",
   "metadata": {},
   "source": [
    "######Trace a chief ray that is in the sagittal plane"
   ]
  },
  {
   "cell_type": "code",
   "execution_count": 17,
   "metadata": {
    "collapsed": false
   },
   "outputs": [
    {
     "name": "stdout",
     "output_type": "stream",
     "text": [
      "Direction cosines @ ENP:\n",
      "alpha = -0.18721331631 , beta = 0.0 , gamma = 0.982319283225\n",
      "zenith = 10.7902009975 , azimuth = 180.0\n",
      "angle_x = 100.790200998 , angle_y = 90.0 , angle_z = 10.7902009975\n",
      "\n",
      "Direction cosines @ EXP:\n",
      "alpha' = -0.225710231566 , beta' = 0.0 , gamma' = 0.974194483338\n",
      "zenith' = 13.0446458379 , azimuth' = 180.0\n",
      "angle_x' = 103.044645838 , angle_y' = 90.0 , angle_z' = 13.0446458379\n",
      "\n",
      "Pupil Magnification:\n",
      "mp1 (def#1) = 0.822580645161 , mp2 (def#2) = nan , mp3 (def#3) = 0.822580645161\n"
     ]
    }
   ],
   "source": [
    "ret = get_dircos_pupilmag(hx=1, hy=0)\n",
    "print_dircos_pupilmag(ret)"
   ]
  },
  {
   "cell_type": "markdown",
   "metadata": {},
   "source": [
    "######Trace a ray that is neither in the tangential plane nor in the sagittal plane"
   ]
  },
  {
   "cell_type": "code",
   "execution_count": 18,
   "metadata": {
    "collapsed": false
   },
   "outputs": [
    {
     "name": "stdout",
     "output_type": "stream",
     "text": [
      "Direction cosines @ ENP:\n",
      "alpha = -0.132360515134 , beta = -0.132360515134 , gamma = 0.982324482066\n",
      "zenith = 10.7886098001 , azimuth = -135.0\n",
      "angle_x = 97.60601883 , angle_y = 97.60601883 , angle_z = 10.7886098001\n",
      "\n",
      "Direction cosines @ EXP:\n",
      "alpha' = -0.159578361312 , beta' = -0.159578361312 , gamma' = 0.974201977622\n",
      "zenith' = 13.0427433031 , azimuth' = -135.0\n",
      "angle_x' = 99.1824236599 , angle_y' = 99.1824236599 , angle_z' = 13.0427433031\n",
      "\n",
      "Pupil Magnification:\n",
      "mp1 (def#1) = 0.822580645161 , mp2 (def#2) = 0.822580645161 , mp3 (def#3) = 0.822580645161\n"
     ]
    }
   ],
   "source": [
    "ret = get_dircos_pupilmag(hx=0.707, hy=0.707)\n",
    "print_dircos_pupilmag(ret)"
   ]
  },
  {
   "cell_type": "code",
   "execution_count": 19,
   "metadata": {
    "collapsed": false
   },
   "outputs": [
    {
     "name": "stdout",
     "output_type": "stream",
     "text": [
      "Direction cosines @ ENP:\n",
      "alpha = -0.111625972615 , beta = -0.186043287691 , gamma = 0.97618007424\n",
      "zenith = 12.5306527065 , azimuth = -120.963756532\n",
      "angle_x = 96.4090542593 , angle_y = 100.721964415 , angle_z = 12.5306527065\n",
      "\n",
      "Direction cosines @ EXP:\n",
      "alpha' = -0.134201090298 , beta' = -0.22366848383 , gamma' = 0.965382036659\n",
      "zenith' = 15.1199126143 , azimuth' = -120.963756532\n",
      "angle_x' = 97.7124253602 , angle_y' = 102.924592577 , angle_z' = 15.1199126143\n",
      "\n",
      "Pupil Magnification:\n",
      "mp1 (def#1) = 0.822580645161 , mp2 (def#2) = 0.822580645161 , mp3 (def#3) = 0.822580645161\n"
     ]
    }
   ],
   "source": [
    "ret = get_dircos_pupilmag(hx=0.6, hy=1.0)\n",
    "print_dircos_pupilmag(ret)"
   ]
  },
  {
   "cell_type": "code",
   "execution_count": 20,
   "metadata": {
    "collapsed": true
   },
   "outputs": [],
   "source": [
    "ln.close()"
   ]
  },
  {
   "cell_type": "markdown",
   "metadata": {
    "collapsed": true
   },
   "source": [
    "##Relation between direction cosines at the ENP and the EXP"
   ]
  },
  {
   "cell_type": "markdown",
   "metadata": {},
   "source": [
    "###Relationship"
   ]
  },
  {
   "cell_type": "markdown",
   "metadata": {},
   "source": [
    "Let $\\{\\alpha, \\beta, \\gamma \\}$ and $\\{\\alpha', \\beta', \\gamma' \\}$ be the sets of direction cosines at the ENP and EXP respectively. Then the relations between the elements of the sets are given as follows:\n",
    "\n",
    "$$\n",
    "\\begin{array}{cc}\n",
    "\\alpha' &=& \\frac{1}{m_p} \\left(\\frac{\\gamma'}{\\gamma} \\right) \\alpha \\\\\n",
    "\\beta' &=& \\frac{1}{m_p} \\left(\\frac{\\gamma'}{\\gamma} \\right) \\beta \\\\\n",
    "\\gamma' &=& \\pm \\frac{m_p}{\\sqrt{1 + (m_p - 1)\\gamma^2}} \\gamma\n",
    "\\end{array}\n",
    "$$"
   ]
  },
  {
   "cell_type": "markdown",
   "metadata": {},
   "source": [
    "####Derivation of the relations"
   ]
  },
  {
   "cell_type": "markdown",
   "metadata": {},
   "source": [
    "**<font color='red'>TO DO</font>**\n",
    "\n",
    "[Import from handwritten derivation]"
   ]
  },
  {
   "cell_type": "markdown",
   "metadata": {},
   "source": [
    "###Verification using Zemax"
   ]
  },
  {
   "cell_type": "code",
   "execution_count": 4,
   "metadata": {
    "collapsed": false
   },
   "outputs": [
    {
     "data": {
      "text/plain": [
       "0"
      ]
     },
     "execution_count": 4,
     "metadata": {},
     "output_type": "execute_result"
    }
   ],
   "source": [
    "if not ln:\n",
    "    ln = pyz.createLink()\n",
    "lens = \"paraxialDoubleLensF180mm_EnppExpp36_88mm_pMag0_82_TiltAbtENPP_wSensorShift.zmx\"\n",
    "zmxdir = os.path.join(os.getcwd(), \"zmxfiles\")\n",
    "lensPath = os.path.join(zmxdir, lens)\n",
    "ln.zLoadFile(lensPath)"
   ]
  },
  {
   "cell_type": "code",
   "execution_count": 5,
   "metadata": {
    "collapsed": false
   },
   "outputs": [
    {
     "data": {
      "text/plain": [
       "(1, 3, 0)"
      ]
     },
     "execution_count": 5,
     "metadata": {},
     "output_type": "execute_result"
    }
   ],
   "source": [
    "ln.zSetConfig(config=1)"
   ]
  },
  {
   "cell_type": "code",
   "execution_count": 6,
   "metadata": {
    "collapsed": false
   },
   "outputs": [
    {
     "data": {
      "text/plain": [
       "0.8225806452000001"
      ]
     },
     "execution_count": 6,
     "metadata": {},
     "output_type": "execute_result"
    }
   ],
   "source": [
    "mp = ln.zGetPupilMagnification()\n",
    "mp"
   ]
  },
  {
   "cell_type": "code",
   "execution_count": 10,
   "metadata": {
    "collapsed": false
   },
   "outputs": [],
   "source": [
    "def evaluate_dircos_exp(a, b, g, mp):\n",
    "    '''evaluates the direction cosines at the EXP based on the\n",
    "       above expression\n",
    "       \n",
    "    Parameters\n",
    "    ----------\n",
    "    a, b, g : floats\n",
    "        direction cosines, $cos(\\theta_x)$, $cos(\\theta_y)$, $cos(\\theta_z)$,\n",
    "        at the ENP\n",
    "    mp : float\n",
    "        pupil magnification\n",
    "        \n",
    "    Returns\n",
    "    -------\n",
    "    aDash, bDash, gDash : floats\n",
    "        direction cosines at the EXP\n",
    "    \n",
    "    Note\n",
    "    ----\n",
    "    The function evaluates and returns only the positive value of gDash.\n",
    "    '''\n",
    "    gDash = mp*g/np.sqrt(1.0 + (mp**2 - 1)*g**2)\n",
    "    comnFactor = (1.0/mp)*(gDash/g)\n",
    "    aDash = comnFactor*a\n",
    "    bDash = comnFactor*b\n",
    "    return aDash, bDash, gDash"
   ]
  },
  {
   "cell_type": "markdown",
   "metadata": {},
   "source": [
    "######Trace a chief-ray that is in the Tangential plane"
   ]
  },
  {
   "cell_type": "code",
   "execution_count": 15,
   "metadata": {
    "collapsed": false
   },
   "outputs": [
    {
     "name": "stdout",
     "output_type": "stream",
     "text": [
      "Direction cosines @ ENP:\n",
      "alpha = 0.0 , beta = -0.18721331631 , gamma = 0.982319283225\n",
      "\n",
      "Direction cosines @ EXP:\n",
      "alpha' = 0.0 , beta' = -0.225710231566 , gamma' = 0.974194483338\n",
      "\n",
      "Direction cosine @ EXP (EVALUATED):\n",
      "alpha' = 0.0 , beta' = -0.225710231566 , gamma' = 0.974194483338\n"
     ]
    }
   ],
   "source": [
    "ret = get_dircos_pupilmag(hx=0, hy=1)\n",
    "print_dircos_pupilmag(ret, False, False)\n",
    "aDash, bDash, gDash = evaluate_dircos_exp(a=ret[0], b=ret[1], g=ret[2], mp=ret[-1])\n",
    "print(\"\\nDirection cosine @ EXP (EVALUATED):\")\n",
    "print(\"alpha' =\", aDash, \", beta' =\", bDash, \", gamma' =\", gDash)"
   ]
  },
  {
   "cell_type": "markdown",
   "metadata": {},
   "source": [
    "######Trace a chief ray that is in the sagittal plane"
   ]
  },
  {
   "cell_type": "code",
   "execution_count": 17,
   "metadata": {
    "collapsed": false
   },
   "outputs": [
    {
     "name": "stdout",
     "output_type": "stream",
     "text": [
      "Direction cosines @ ENP:\n",
      "alpha = -0.18721331631 , beta = 0.0 , gamma = 0.982319283225\n",
      "\n",
      "Direction cosines @ EXP:\n",
      "alpha' = -0.225710231566 , beta' = 0.0 , gamma' = 0.974194483338\n",
      "\n",
      "Direction cosine @ EXP (EVALUATED):\n",
      "alpha' = -0.225710231566 , beta' = 0.0 , gamma' = 0.974194483338\n"
     ]
    }
   ],
   "source": [
    "ret = get_dircos_pupilmag(hx=1, hy=0)\n",
    "print_dircos_pupilmag(ret, False, False)\n",
    "aDash, bDash, gDash = evaluate_dircos_exp(a=ret[0], b=ret[1], g=ret[2], mp=ret[-1])\n",
    "print(\"\\nDirection cosine @ EXP (EVALUATED):\")\n",
    "print(\"alpha' =\", aDash, \", beta' =\", bDash, \", gamma' =\", gDash)"
   ]
  },
  {
   "cell_type": "markdown",
   "metadata": {},
   "source": [
    "######Trace a ray that is neither in the tangential plane nor in the sagittal plane"
   ]
  },
  {
   "cell_type": "code",
   "execution_count": 18,
   "metadata": {
    "collapsed": false
   },
   "outputs": [
    {
     "name": "stdout",
     "output_type": "stream",
     "text": [
      "Direction cosines @ ENP:\n",
      "alpha = -0.111625972615 , beta = -0.186043287691 , gamma = 0.97618007424\n",
      "\n",
      "Direction cosines @ EXP:\n",
      "alpha' = -0.134201090298 , beta' = -0.22366848383 , gamma' = 0.965382036659\n",
      "\n",
      "Direction cosine @ EXP (EVALUATED):\n",
      "alpha' = -0.134201090298 , beta' = -0.22366848383 , gamma' = 0.965382036659\n"
     ]
    }
   ],
   "source": [
    "ret = get_dircos_pupilmag(hx=0.6, hy=1.0)\n",
    "print_dircos_pupilmag(ret, False, False)\n",
    "aDash, bDash, gDash = evaluate_dircos_exp(a=ret[0], b=ret[1], g=ret[2], mp=ret[-1])\n",
    "print(\"\\nDirection cosine @ EXP (EVALUATED):\")\n",
    "print(\"alpha' =\", aDash, \", beta' =\", bDash, \", gamma' =\", gDash)"
   ]
  },
  {
   "cell_type": "code",
   "execution_count": null,
   "metadata": {
    "collapsed": true
   },
   "outputs": [],
   "source": []
  },
  {
   "cell_type": "code",
   "execution_count": null,
   "metadata": {
    "collapsed": true
   },
   "outputs": [],
   "source": []
  },
  {
   "cell_type": "code",
   "execution_count": 19,
   "metadata": {
    "collapsed": true
   },
   "outputs": [],
   "source": [
    "ln.close()"
   ]
  },
  {
   "cell_type": "code",
   "execution_count": null,
   "metadata": {
    "collapsed": true
   },
   "outputs": [],
   "source": []
  },
  {
   "cell_type": "code",
   "execution_count": null,
   "metadata": {
    "collapsed": true
   },
   "outputs": [],
   "source": []
  }
 ],
 "metadata": {
  "cite2c": {
   "citations": {
    "443206/X2FEQBXG": {
     "ISBN": "978-3-527-40584-8",
     "author": [
      {
       "family": "Hornberg",
       "given": "Alexander"
      }
     ],
     "edition": "1 edition",
     "event-place": "Weinheim : Chichester",
     "id": "443206/X2FEQBXG",
     "issued": {
      "day": 23,
      "month": "8",
      "year": "2006"
     },
     "language": "English",
     "note": "00004",
     "number-of-pages": "821",
     "publisher": "Wiley-VCH",
     "publisher-place": "Weinheim : Chichester",
     "title": "Handbook of Machine Vision",
     "type": "book"
    }
   }
  },
  "kernelspec": {
   "display_name": "Python 2",
   "language": "python",
   "name": "python2"
  },
  "language_info": {
   "codemirror_mode": {
    "name": "ipython",
    "version": 2
   },
   "file_extension": ".py",
   "mimetype": "text/x-python",
   "name": "python",
   "nbconvert_exporter": "python",
   "pygments_lexer": "ipython2",
   "version": "2.7.10"
  }
 },
 "nbformat": 4,
 "nbformat_minor": 0
}
