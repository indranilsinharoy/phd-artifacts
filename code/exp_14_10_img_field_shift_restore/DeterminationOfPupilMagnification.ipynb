{
 "cells": [
  {
   "cell_type": "markdown",
   "metadata": {},
   "source": [
    "# Determination of Pupil Magnification"
   ]
  },
  {
   "cell_type": "markdown",
   "metadata": {},
   "source": [
    "## Theory"
   ]
  },
  {
   "cell_type": "code",
   "execution_count": 0,
   "metadata": {
    "collapsed": false
   },
   "outputs": [],
   "source": []
  },
  {
   "cell_type": "markdown",
   "metadata": {},
   "source": [
    "#### Experimental setup and information"
   ]
  },
  {
   "cell_type": "markdown",
   "metadata": {},
   "source": [
    "The transverse magnification, $\\beta$, was empirically determined by taking the ratio of image height to object height :\n",
    "\n",
    "* Camera pixel pitch: 2.2 micron\n",
    "* Camera settings: Exposure time = 1/18 sec, gain = 4\n",
    "\n",
    "\n",
    "Target: \n",
    "\n",
    "* [Applied Imaging Inc. QA-72-2-P-RM](http://www.aig-imaging.com/mm5/merchant.mvc?Screen=PROD&Store_Code=AIIPI&Product_Code=QA-72&Category_Code=Imatest)"
   ]
  },
  {
   "cell_type": "markdown",
   "metadata": {},
   "source": [
    "Object width of 16:9 markings (measured horizontally, along the longer dimension)\n",
    "\n",
    "* 178 mm\n",
    "\n",
    "Image width \n",
    "\n",
    "* cop_0mm = 1693 pixels = 3.7246 mm  \n",
    "* cop_-12.7mm = 1684 pixels = 3.7048 mm\n",
    "* cop_+12.7mm = 1702 pixels = 3.7444 mm\n"
   ]
  },
  {
   "cell_type": "code",
   "execution_count": 14,
   "metadata": {
    "collapsed": false
   },
   "outputs": [
    {
     "name": "stdout",
     "output_type": "stream",
     "text": [
      "beta [0.020924719101123597, 0.020813483146067416, 0.021035955056179775]\n"
     ]
    },
    {
     "data": {
      "text/plain": [
       "[-0.47838495308113027, -0.4780621007933696, -0.47809003414403495]"
      ]
     },
     "execution_count": 14,
     "metadata": {},
     "output_type": "execute_result"
    }
   ],
   "source": [
    "f = 50.0                 # mm\n",
    "p = 2285.0               # mm\n",
    "delE = [0, 12.7, -12.7]  # mm\n",
    "pixelPitch = 2.2e-3      # mm\n",
    "samples = [1693, 1684, 1702]\n",
    "imageWidth = [s*pixelPitch for s in samples]\n",
    "objectWidth = 178.0      # mm\n",
    "beta = [i/objectWidth for i in imageWidth]\n",
    "\n",
    "print \"beta\", beta\n",
    "\n",
    "betaP = [f*b/((p+e)*b -f) for e, b in zip(delE, beta)]\n",
    "betaP"
   ]
  },
  {
   "cell_type": "markdown",
   "metadata": {},
   "source": [
    "| $\\Delta_{cop}=$ (*mm*) | $p_{object}$ (*mm*) |  $\\beta$ | \n",
    "|------------------------|---------------------|----------|\n",
    "|        0               |   2285.0            |          | \n",
    "|       12.7             |   2297.7            |          |\n",
    "|      -12.7             |   2272.3            |          |"
   ]
  },
  {
   "cell_type": "code",
   "execution_count": 15,
   "metadata": {
    "collapsed": false
   },
   "outputs": [
    {
     "data": {
      "text/plain": [
       "0.2867422005047522"
      ]
     },
     "execution_count": 15,
     "metadata": {},
     "output_type": "execute_result"
    }
   ],
   "source": [
    "6e-3/beta[0]"
   ]
  },
  {
   "cell_type": "code",
   "execution_count": null,
   "metadata": {
    "collapsed": false
   },
   "outputs": [],
   "source": []
  }
 ],
 "metadata": {
  "kernelspec": {
   "display_name": "Python 2",
   "language": "python",
   "name": "python2"
  },
  "language_info": {
   "codemirror_mode": {
    "name": "ipython",
    "version": 2
   },
   "file_extension": ".py",
   "mimetype": "text/x-python",
   "name": "python",
   "nbconvert_exporter": "python",
   "pygments_lexer": "ipython2",
   "version": "2.7.11"
  }
 },
 "nbformat": 4,
 "nbformat_minor": 0
}
