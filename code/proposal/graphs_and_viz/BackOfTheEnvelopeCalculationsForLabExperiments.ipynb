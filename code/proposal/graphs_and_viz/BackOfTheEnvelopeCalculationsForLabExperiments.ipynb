{
 "metadata": {
  "name": ""
 },
 "nbformat": 3,
 "nbformat_minor": 0,
 "worksheets": [
  {
   "cells": [
    {
     "cell_type": "heading",
     "level": 1,
     "metadata": {},
     "source": [
      "Back of the envelope calculations for Lab experiments"
     ]
    },
    {
     "cell_type": "heading",
     "level": 2,
     "metadata": {},
     "source": [
      "Given focal length, required pixel resolution on the iris, pixel size of the sensor, and iris diameter what should be an appropriate standoff distance"
     ]
    },
    {
     "cell_type": "code",
     "collapsed": false,
     "input": [
      "from __future__ import division\n",
      "\n",
      "\n",
      "def standoff_pixelResolution(num_px_iris=200, focal_length=180, px_h=6e-3, iris_h=11):\n",
      "    \"\"\"Get the maximum standoff distance to satisfy the given pixel resolution. \n",
      "    \n",
      "    The calculations use first order optical formula for rigid camera configuration\n",
      "    \n",
      "    Parameters\n",
      "    ----------\n",
      "    num_px_iris : integer\n",
      "        number of pixels across the iris (in the object plane)\n",
      "    focal_length : float\n",
      "        focal length in mm\n",
      "    px_h : float\n",
      "        acutual pixel height (in the image plane, in mm units)\n",
      "    iris_h : float \n",
      "        actual iris height (in the object plane, in mm units)\n",
      "    \n",
      "    Returns\n",
      "    -------\n",
      "    obj_dist : float\n",
      "        object distance in mm\n",
      "    \"\"\"\n",
      "    px_h_obj = iris_h/num_px_iris   # pixel height in the object space\n",
      "    mag_lateral = px_h/px_h_obj     # required magnification to satisfy pixel resolution\n",
      "    obj_dist = focal_length*(mag_lateral + 1)/mag_lateral\n",
      "    return obj_dist"
     ],
     "language": "python",
     "metadata": {},
     "outputs": [],
     "prompt_number": 7
    },
    {
     "cell_type": "code",
     "collapsed": false,
     "input": [
      "print(standoff_pixelResolution())\n",
      "print(standoff_pixelResolution(num_px_iris=90))"
     ],
     "language": "python",
     "metadata": {},
     "outputs": [
      {
       "output_type": "stream",
       "stream": "stdout",
       "text": [
        "1830.0\n",
        "3846.66666667\n"
       ]
      }
     ],
     "prompt_number": 9
    },
    {
     "cell_type": "code",
     "collapsed": false,
     "input": [],
     "language": "python",
     "metadata": {},
     "outputs": []
    }
   ],
   "metadata": {}
  }
 ]
}