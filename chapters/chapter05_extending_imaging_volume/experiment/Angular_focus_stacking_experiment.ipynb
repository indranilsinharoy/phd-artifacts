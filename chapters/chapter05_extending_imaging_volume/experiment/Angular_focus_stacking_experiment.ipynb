{
 "cells": [
  {
   "cell_type": "markdown",
   "metadata": {},
   "source": [
    "# Angular focus stacking experiment"
   ]
  },
  {
   "cell_type": "code",
   "execution_count": 60,
   "metadata": {
    "collapsed": true
   },
   "outputs": [],
   "source": [
    "from __future__ import print_function, division\n",
    "import numpy as np\n",
    "import collections as co\n",
    "\n",
    "# constants\n",
    "pi = np.pi\n",
    "\n",
    "# trig functions\n",
    "sind = lambda x : np.sin(np.deg2rad(x))\n",
    "cosd = lambda x : np.cos(np.deg2rad(x))\n",
    "tand = lambda x : np.tan(np.deg2rad(x))\n",
    "arcsind = lambda x : np.rad2deg(np.arcsin(x))\n",
    "arctand = lambda x : np.rad2deg(np.arctan(x))"
   ]
  },
  {
   "cell_type": "code",
   "execution_count": 10,
   "metadata": {
    "collapsed": false
   },
   "outputs": [
    {
     "data": {
      "text/plain": [
       "u'%.2f'"
      ]
     },
     "execution_count": 10,
     "metadata": {},
     "output_type": "execute_result"
    }
   ],
   "source": [
    "%precision 2"
   ]
  },
  {
   "cell_type": "markdown",
   "metadata": {},
   "source": [
    "## Test COP shift compensation"
   ]
  },
  {
   "cell_type": "code",
   "execution_count": 109,
   "metadata": {
    "collapsed": true
   },
   "outputs": [],
   "source": [
    "# cop compensation  \n",
    "\n",
    "def get_COP_shift_compensation(alpha, hy, hz):\n",
    "    \"\"\"returns the amount of compensation required to restore the COP following\n",
    "    a rotation of the lens about a pivot point away from the COP\n",
    "    \n",
    "    Parameters\n",
    "    ----------\n",
    "    alpha : real\n",
    "        angle of rotation of the lens about x-axis in degrees\n",
    "    hy : real\n",
    "        y component of the distance of the COP from the pivot \n",
    "    hz : real \n",
    "        z component of the distance of the COP from the pivot\n",
    "    \"\"\"\n",
    "    shiftYZ = co.namedtuple('comp', ['delY', 'delZ'])\n",
    "    # shiftY, shiftZ are the shift of the COP along the y and z directions\n",
    "    shiftY = -hz*sind(alpha) + hy*(1 - cosd(alpha))\n",
    "    shiftZ = -hy*sind(alpha) - hz*(1 - cosd(alpha))\n",
    "    return shiftYZ(-shiftY, -shiftZ)"
   ]
  },
  {
   "cell_type": "code",
   "execution_count": 222,
   "metadata": {
    "collapsed": false
   },
   "outputs": [
    {
     "name": "stdout",
     "output_type": "stream",
     "text": [
      "alpha = 15.0, dely = 8.62, delz = -1.50\n",
      "alpha = 10.0, dely = 5.71, delz = -1.25\n",
      "alpha = 5.0, dely = 2.83, delz = -0.75\n",
      "alpha = 0.0, dely = 0.00, delz = -0.00\n",
      "alpha = -5.0, dely = -2.75, delz = 0.99\n",
      "alpha = -10.0, dely = -5.40, delz = 2.22\n",
      "alpha = -15.0, dely = -7.94, delz = 3.68\n"
     ]
    }
   ],
   "source": [
    "\n",
    "alphas = [15.0, 10.0, 5.0, 0, -5.0, -10.0, -15.0]\n",
    "\n",
    "hz = 32\n",
    "hy = -10\n",
    "for alpha in alphas:\n",
    "    delyz = get_COP_shift_compensation(alpha=alpha, hy=hy, hz=hz)\n",
    "    print('alpha = {:2.1f}, dely = {:2.2f}, delz = {:2.2f}'.format(alpha, delyz.delY, delyz.delZ))"
   ]
  },
  {
   "cell_type": "markdown",
   "metadata": {},
   "source": [
    "## Focusing on tilted plane"
   ]
  },
  {
   "cell_type": "code",
   "execution_count": 61,
   "metadata": {
    "collapsed": true
   },
   "outputs": [],
   "source": [
    "#  helper f\n",
    "def compute_zoDash(zo, f, mp, d, alpha):\n",
    "    \"\"\"formula for computing the image plane distance from the pivot (origin of {C}) if\n",
    "    lens is tilted about the ENPP. That is de=0, deDash = d\n",
    "    \n",
    "    @param: zo: object distance along z-axis\n",
    "    @param: f: focal length\n",
    "    @param: mp: pupil magnification\n",
    "    @param: d: distance from ENPP to EXPP\n",
    "    @param: alpha: angle of image plane tilt about x-axis (in degrees)\n",
    "    \"\"\"\n",
    "    c = cosd(alpha)\n",
    "    s = sind(alpha)\n",
    "    return d*c + mp*f*zo*(mp*c**2 + s**2)/(zo*mp*c + f)\n",
    "\n",
    "def compute_beta(zo, f, mp, alpha):\n",
    "    \"\"\"formula for computing the object plane tilt angle if\n",
    "    lens is tilted about the ENPP. That is de=0, deDash = d\n",
    "    \n",
    "    @param: zo: object distance along z-axis\n",
    "    @param: f: focal length\n",
    "    @param: mp: pupil magnification\n",
    "    @param: alpha: angle of image plane tilt about x-axis (in degrees)\n",
    "    \"\"\"\n",
    "    c = cosd(alpha)\n",
    "    s = sind(alpha)\n",
    "    t = -s*(mp*zo + (1-mp)*f*c)/(f*(mp*c**2 + s**2))\n",
    "    return arctand(t)"
   ]
  },
  {
   "cell_type": "code",
   "execution_count": 62,
   "metadata": {
    "collapsed": true
   },
   "outputs": [],
   "source": [
    "# Iterative algorithm to find alpha, given beta\n",
    "\n",
    "def g_of_alpha_is_monotonic(zo, f, mp):\n",
    "    \"\"\"test (method 2) to see if first derivative has real roots\n",
    "    \n",
    "    Note:\n",
    "    -----\n",
    "    The test for monotonicity using D is only relevant if mp < 1.\n",
    "    \"\"\"\n",
    "    if mp == 1:\n",
    "        D = 1  # the equation is linear\n",
    "    else:\n",
    "        a = 1\n",
    "        b = f*(1 + mp)/(mp*zo)\n",
    "        c = -(1 - 2*mp)/(1 - mp)\n",
    "        d = -f/(mp*zo)\n",
    "        Q = c/(3.0*a) - b**2/(9.0*a**2)\n",
    "        R = -b**3/(27.0*a**3) + b*c/(6.0*a**2) - d/(2.0*a)\n",
    "        D = Q**3 + R**2\n",
    "    monotonicity = D > 0 if mp < 1 else True\n",
    "    return monotonicity, D\n",
    "\n",
    "def alpha_thin(zo, f, beta):\n",
    "    return -arcsind(f*tand(beta)/zo)\n",
    "\n",
    "def get_step(err):\n",
    "    return 0.5*err\n",
    "\n",
    "def estimate_alpha(zo, f, mp, beta, maxSteps=250, maxError=1e-16, retSteps=False):\n",
    "    \"\"\"iterative method to estimate alpha given beta and other parameters\n",
    "    \"\"\"\n",
    "    assert g_of_alpha_is_monotonic(zo, f, mp)[0], 'g(alpha) is not monotonic'\n",
    "    i = 0\n",
    "    t = tand(beta)\n",
    "    alphaInit = alpha_thin(zo=zo, f=f, beta=beta)\n",
    "    s = sind(alphaInit)\n",
    "    c = cosd(alphaInit)\n",
    "    err = t + s*(mp*zo + f*(1-mp)*c)/(f*(mp*c**2 + s**2)) # Initial merit function value\n",
    "    prevErr = 0\n",
    "    alpha_i = alphaInit\n",
    "    deltaStep = get_step(err)  # deltaErr = err - prevErr = err\n",
    "    if retSteps:\n",
    "        alphas, errors, steps = [], [], []\n",
    "        alphas.append(alphaInit)\n",
    "        errors.append(err)\n",
    "        steps.append(deltaStep)\n",
    "    # begin iteration\n",
    "    while (abs(err) > maxError) and (i < maxSteps):\n",
    "        i += 1\n",
    "        alpha_i += deltaStep\n",
    "        prevErr = err\n",
    "        s = sind(alpha_i)\n",
    "        c = cosd(alpha_i)\n",
    "        err = t + s*(mp*zo + f*(1-mp)*c)/(f*(mp*c**2 + s**2))\n",
    "        if err*prevErr < 0:  # if error changes sign\n",
    "            deltaErr = err - prevErr\n",
    "            deltaStep = get_step(deltaErr)\n",
    "        if retSteps:\n",
    "            alphas.append(alpha_i)\n",
    "            errors.append(err)\n",
    "            steps.append(deltaStep)\n",
    "    # end of iteration ----\n",
    "    if retSteps:\n",
    "        return alpha_i, i, err, alphas, errors, steps\n",
    "    else:\n",
    "        return alpha_i, i, err"
   ]
  },
  {
   "cell_type": "code",
   "execution_count": 92,
   "metadata": {
    "collapsed": false
   },
   "outputs": [],
   "source": [
    "# Optical system\n",
    "mp = 1.0 \n",
    "f = 180.0\n",
    "zo = -4038.6  # 159 inch "
   ]
  },
  {
   "cell_type": "markdown",
   "metadata": {},
   "source": [
    "### finding $d$ "
   ]
  },
  {
   "cell_type": "markdown",
   "metadata": {},
   "source": [
    "The idea is to focus on the three planes without tilting the lens, and measure the image plane distance from the COP (already located), "
   ]
  },
  {
   "cell_type": "code",
   "execution_count": 187,
   "metadata": {
    "collapsed": false
   },
   "outputs": [
    {
     "data": {
      "text/plain": [
       "180.00"
      ]
     },
     "execution_count": 187,
     "metadata": {},
     "output_type": "execute_result"
    }
   ],
   "source": [
    "# observed zoDash was about 180 mm\n",
    "d = -7.25\n",
    "compute_zoDash(-4648.2, 180.0, 1.0, d, 0)"
   ]
  },
  {
   "cell_type": "code",
   "execution_count": 189,
   "metadata": {
    "collapsed": false
   },
   "outputs": [
    {
     "data": {
      "text/plain": [
       "181.00"
      ]
     },
     "execution_count": 189,
     "metadata": {},
     "output_type": "execute_result"
    }
   ],
   "source": [
    "# observed zoDash was about 181 mm\n",
    "d = -7.4\n",
    "compute_zoDash(-4038.6, 180.0, 1.0, d, 0)"
   ]
  },
  {
   "cell_type": "code",
   "execution_count": 201,
   "metadata": {
    "collapsed": false
   },
   "outputs": [
    {
     "data": {
      "text/plain": [
       "183.00"
      ]
     },
     "execution_count": 201,
     "metadata": {},
     "output_type": "execute_result"
    }
   ],
   "source": [
    "# observed zoDash was about 183 mm\n",
    "d = -6.97\n",
    "compute_zoDash(-3429.0, 180.0, 1.0, d, 0)"
   ]
  },
  {
   "cell_type": "code",
   "execution_count": 218,
   "metadata": {
    "collapsed": false
   },
   "outputs": [
    {
     "data": {
      "text/plain": [
       "195.00"
      ]
     },
     "execution_count": 218,
     "metadata": {},
     "output_type": "execute_result"
    }
   ],
   "source": [
    "# observed zoDash was about 195 mm\n",
    "d = -8.53\n",
    "compute_zoDash(-1557.02, 180.0, 1.0, d, 0)"
   ]
  },
  {
   "cell_type": "code",
   "execution_count": 219,
   "metadata": {
    "collapsed": false
   },
   "outputs": [
    {
     "data": {
      "text/plain": [
       "-7.54"
      ]
     },
     "execution_count": 219,
     "metadata": {},
     "output_type": "execute_result"
    }
   ],
   "source": [
    "(-8.53 -6.97 -7.4 -7.25)/4.0"
   ]
  },
  {
   "cell_type": "markdown",
   "metadata": {},
   "source": [
    "We assume d =-8.0 mm"
   ]
  },
  {
   "cell_type": "markdown",
   "metadata": {},
   "source": [
    "<del>So, we will use $\\pm 19^o$ tilt of the lens.<\\del>\n",
    "\n",
    "Have to use a different strategy"
   ]
  },
  {
   "cell_type": "code",
   "execution_count": 124,
   "metadata": {
    "collapsed": false
   },
   "outputs": [
    {
     "name": "stdout",
     "output_type": "stream",
     "text": [
      "alpha = -5.0, dely = -2.75, delz = 0.99\n",
      "alpha = 5.0, dely = 2.83, delz = -0.75\n"
     ]
    }
   ],
   "source": [
    "# compensation required for tilting the lens\n",
    "#alphas = [-19, 19]\n",
    "\n",
    "alphas = [-5, 5]\n",
    "\n",
    "hz = 32\n",
    "hy = -10\n",
    "for alpha in alphas:\n",
    "    delyz = get_COP_shift_compensation(alpha=alpha, hy=hy, hz=hz)\n",
    "    print('alpha = {:2.1f}, dely = {:2.2f}, delz = {:2.2f}'.format(alpha, delyz.delY, delyz.delZ))\n"
   ]
  },
  {
   "cell_type": "code",
   "execution_count": 221,
   "metadata": {
    "collapsed": false
   },
   "outputs": [
    {
     "name": "stdout",
     "output_type": "stream",
     "text": [
      "alpha = -5\n",
      "beta = -77.1291994174\n",
      "betaDash = 167.129199417\n",
      "new zo = -9038.6 mm\n",
      "new zo = -29.654200424 foot\n"
     ]
    }
   ],
   "source": [
    "print('alpha =', -5)\n",
    "zoOffset = -5000\n",
    "zoNew = zo+zoOffset\n",
    "beta = compute_beta(zoNew , f, mp, alpha=-5)\n",
    "betaDash = 90 - beta\n",
    "print('beta =', beta)\n",
    "print('betaDash =', betaDash)\n",
    "print('new zo =', zoNew, 'mm')\n",
    "print('new zo =', zoNew*0.00328084, 'foot')"
   ]
  },
  {
   "cell_type": "code",
   "execution_count": 220,
   "metadata": {
    "collapsed": false
   },
   "outputs": [
    {
     "data": {
      "text/plain": [
       "176.40"
      ]
     },
     "execution_count": 220,
     "metadata": {},
     "output_type": "execute_result"
    }
   ],
   "source": [
    "d = -8.0\n",
    "compute_zoDash(zoNew, f, mp, d, alpha=-5)"
   ]
  },
  {
   "cell_type": "code",
   "execution_count": 223,
   "metadata": {
    "collapsed": false
   },
   "outputs": [
    {
     "name": "stdout",
     "output_type": "stream",
     "text": [
      "alpha = -5.0, dely = -2.75, delz = 0.99\n"
     ]
    }
   ],
   "source": [
    "alphas = [-5.0,]\n",
    "\n",
    "hz = 32\n",
    "hy = -10\n",
    "for alpha in alphas:\n",
    "    delyz = get_COP_shift_compensation(alpha=alpha, hy=hy, hz=hz)\n",
    "    print('alpha = {:2.1f}, dely = {:2.2f}, delz = {:2.2f}'.format(alpha, delyz.delY, delyz.delZ))"
   ]
  },
  {
   "cell_type": "markdown",
   "metadata": {
    "collapsed": true
   },
   "source": [
    "##### Date: 11-12-2016"
   ]
  },
  {
   "cell_type": "markdown",
   "metadata": {},
   "source": [
    "We will use $\\pm 19^o$ tilt of the lens, with $z_o$ being the middle cutout"
   ]
  },
  {
   "cell_type": "code",
   "execution_count": 226,
   "metadata": {
    "collapsed": true
   },
   "outputs": [],
   "source": [
    "mp = 1.0 \n",
    "d = -8.0\n",
    "f = 180.0\n",
    "zo = -4038.6  # 159 inch "
   ]
  },
  {
   "cell_type": "code",
   "execution_count": 229,
   "metadata": {
    "collapsed": false
   },
   "outputs": [
    {
     "data": {
      "text/plain": [
       "-82.20"
      ]
     },
     "execution_count": 229,
     "metadata": {},
     "output_type": "execute_result"
    }
   ],
   "source": [
    "compute_beta(zo, f, mp, alpha=-19)"
   ]
  },
  {
   "cell_type": "code",
   "execution_count": null,
   "metadata": {
    "collapsed": false
   },
   "outputs": [],
   "source": []
  },
  {
   "cell_type": "code",
   "execution_count": 234,
   "metadata": {
    "collapsed": false
   },
   "outputs": [
    {
     "name": "stdout",
     "output_type": "stream",
     "text": [
      "alpha = -19.0, dely = -9.87, delz = 5.00\n",
      "alpha = -18.0, dely = -9.40, delz = 4.66\n",
      "alpha = -17.0, dely = -8.92, delz = 4.32\n",
      "alpha = -16.0, dely = -8.43, delz = 4.00\n"
     ]
    }
   ],
   "source": [
    "# compensation required for tilting the lens\n",
    "alphas = [-19, -18, -17, -16]\n",
    "\n",
    "hz = 32\n",
    "hy = -10\n",
    "for alpha in alphas:\n",
    "    delyz = get_COP_shift_compensation(alpha=alpha, hy=hy, hz=hz)\n",
    "    print('alpha = {:2.1f}, dely = {:2.2f}, delz = {:2.2f}'.format(alpha, delyz.delY, delyz.delZ))\n"
   ]
  },
  {
   "cell_type": "code",
   "execution_count": 237,
   "metadata": {
    "collapsed": false
   },
   "outputs": [
    {
     "name": "stdout",
     "output_type": "stream",
     "text": [
      "alpha = -16.0, dely = -8.43, delz = 4.00\n",
      "alpha = -16.5, dely = -8.68, delz = 4.16\n",
      "alpha = -17.0, dely = -8.92, delz = 4.32\n",
      "alpha = -17.5, dely = -9.16, delz = 4.49\n",
      "alpha = -18.0, dely = -9.40, delz = 4.66\n",
      "alpha = -18.5, dely = -9.64, delz = 4.83\n",
      "alpha = -19.0, dely = -9.87, delz = 5.00\n"
     ]
    }
   ],
   "source": [
    "alphas = [-16, -16.5, -17, -17.5, -18, -18.5, -19]\n",
    "\n",
    "hz = 32\n",
    "hy = -10\n",
    "for alpha in alphas:\n",
    "    delyz = get_COP_shift_compensation(alpha=alpha, hy=hy, hz=hz)\n",
    "    print('alpha = {:2.1f}, dely = {:2.2f}, delz = {:2.2f}'.format(alpha, delyz.delY, delyz.delZ))"
   ]
  },
  {
   "cell_type": "code",
   "execution_count": null,
   "metadata": {
    "collapsed": false
   },
   "outputs": [],
   "source": []
  },
  {
   "cell_type": "code",
   "execution_count": null,
   "metadata": {
    "collapsed": true
   },
   "outputs": [],
   "source": []
  },
  {
   "cell_type": "code",
   "execution_count": null,
   "metadata": {
    "collapsed": true
   },
   "outputs": [],
   "source": []
  },
  {
   "cell_type": "code",
   "execution_count": null,
   "metadata": {
    "collapsed": true
   },
   "outputs": [],
   "source": []
  },
  {
   "cell_type": "code",
   "execution_count": null,
   "metadata": {
    "collapsed": true
   },
   "outputs": [],
   "source": []
  }
 ],
 "metadata": {
  "kernelspec": {
   "display_name": "Python 2",
   "language": "python",
   "name": "python2"
  },
  "language_info": {
   "codemirror_mode": {
    "name": "ipython",
    "version": 2
   },
   "file_extension": ".py",
   "mimetype": "text/x-python",
   "name": "python",
   "nbconvert_exporter": "python",
   "pygments_lexer": "ipython2",
   "version": "2.7.11"
  }
 },
 "nbformat": 4,
 "nbformat_minor": 0
}
