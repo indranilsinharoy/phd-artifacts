{
 "cells": [
  {
   "cell_type": "markdown",
   "metadata": {},
   "source": [
    "# DOF from specified object-space resolution in frontoparallel imaging "
   ]
  },
  {
   "cell_type": "code",
   "execution_count": 1,
   "metadata": {
    "collapsed": true
   },
   "outputs": [],
   "source": [
    "from __future__ import print_function, division\n",
    "import numpy as np\n",
    "import iutils.optics.fourier as fou\n",
    "import iutils.optics.goptics as go\n",
    "import sympy as sy"
   ]
  },
  {
   "cell_type": "code",
   "execution_count": 2,
   "metadata": {
    "collapsed": true
   },
   "outputs": [],
   "source": [
    "sy.init_printing(use_latex='mathjax', print_builtin=False)"
   ]
  },
  {
   "cell_type": "code",
   "execution_count": 3,
   "metadata": {
    "collapsed": true
   },
   "outputs": [],
   "source": [
    "# symbols\n",
    "# d : half depth of focus (diffraction based)\n",
    "# lam : optical wavelength\n",
    "# N : effective F-number\n",
    "# v : image plane distance \n",
    "# u : object plane distance\n",
    "# f : focal length\n",
    "d, lam, N = sy.symbols('\\delta_h, \\lambda, N', real=True, positive=True)\n",
    "u, v, f = sy.symbols('u, v, f', real=True)"
   ]
  },
  {
   "cell_type": "markdown",
   "metadata": {},
   "source": [
    "The half depth of focus:"
   ]
  },
  {
   "cell_type": "code",
   "execution_count": 4,
   "metadata": {
    "collapsed": false
   },
   "outputs": [
    {
     "data": {
      "text/latex": [
       "$$\\delta_h = \\frac{6.4 \\lambda}{\\pi} N^{2}$$"
      ],
      "text/plain": [
       "                2        \n",
       "           6.4⋅N ⋅\\lambda\n",
       "\\delta_h = ──────────────\n",
       "                 π       "
      ]
     },
     "execution_count": 4,
     "metadata": {},
     "output_type": "execute_result"
    }
   ],
   "source": [
    "sy.Eq(d, 6.4*lam*N**2 / sy.pi)"
   ]
  },
  {
   "cell_type": "markdown",
   "metadata": {},
   "source": [
    "We obtain the object space depth of field (DOF) extents by applying the Gaussian lens equation to the image distances $v + \\delta$ (for the near extent) and $v - \\delta$ (for the far extent):"
   ]
  },
  {
   "cell_type": "code",
   "execution_count": 5,
   "metadata": {
    "collapsed": false
   },
   "outputs": [],
   "source": [
    "DOF_n = (v + d)*f / (v + d - f)\n",
    "DOF_f = (v - d)*f / (v - d - f)"
   ]
  },
  {
   "cell_type": "code",
   "execution_count": 6,
   "metadata": {
    "collapsed": false
   },
   "outputs": [
    {
     "data": {
      "text/latex": [
       "$$\\frac{f \\left(\\delta_h + v\\right)}{\\delta_h - f + v}$$"
      ],
      "text/plain": [
       "f⋅(\\delta_h + v)\n",
       "────────────────\n",
       "\\delta_h - f + v"
      ]
     },
     "execution_count": 6,
     "metadata": {},
     "output_type": "execute_result"
    }
   ],
   "source": [
    "DOF_n"
   ]
  },
  {
   "cell_type": "code",
   "execution_count": 7,
   "metadata": {
    "collapsed": false
   },
   "outputs": [
    {
     "data": {
      "text/latex": [
       "$$\\frac{f \\left(- \\delta_h + v\\right)}{- \\delta_h - f + v}$$"
      ],
      "text/plain": [
       "f⋅(-\\delta_h + v)\n",
       "─────────────────\n",
       "-\\delta_h - f + v"
      ]
     },
     "execution_count": 7,
     "metadata": {},
     "output_type": "execute_result"
    }
   ],
   "source": [
    "DOF_f"
   ]
  },
  {
   "cell_type": "code",
   "execution_count": 8,
   "metadata": {
    "collapsed": true
   },
   "outputs": [],
   "source": [
    "dof = DOF_f - DOF_n"
   ]
  },
  {
   "cell_type": "code",
   "execution_count": 9,
   "metadata": {
    "collapsed": false
   },
   "outputs": [
    {
     "data": {
      "text/latex": [
       "$$\\frac{f \\left(- \\delta_h + v\\right)}{- \\delta_h - f + v} - \\frac{f \\left(\\delta_h + v\\right)}{\\delta_h - f + v}$$"
      ],
      "text/plain": [
       "f⋅(-\\delta_h + v)   f⋅(\\delta_h + v)\n",
       "───────────────── - ────────────────\n",
       "-\\delta_h - f + v   \\delta_h - f + v"
      ]
     },
     "execution_count": 9,
     "metadata": {},
     "output_type": "execute_result"
    }
   ],
   "source": [
    "dof"
   ]
  },
  {
   "cell_type": "code",
   "execution_count": 10,
   "metadata": {
    "collapsed": false
   },
   "outputs": [],
   "source": [
    "dof = dof.simplify().factor()"
   ]
  },
  {
   "cell_type": "code",
   "execution_count": 11,
   "metadata": {
    "collapsed": false
   },
   "outputs": [
    {
     "data": {
      "text/latex": [
       "$$\\frac{2 \\delta_h f^{2}}{\\left(- \\delta_h - f + v\\right) \\left(\\delta_h - f + v\\right)}$$"
      ],
      "text/plain": [
       "                        2             \n",
       "            2⋅\\delta_h⋅f              \n",
       "──────────────────────────────────────\n",
       "(-\\delta_h - f + v)⋅(\\delta_h - f + v)"
      ]
     },
     "execution_count": 11,
     "metadata": {},
     "output_type": "execute_result"
    }
   ],
   "source": [
    "dof"
   ]
  },
  {
   "cell_type": "markdown",
   "metadata": {},
   "source": [
    "Now, "
   ]
  },
  {
   "cell_type": "code",
   "execution_count": 12,
   "metadata": {
    "collapsed": true
   },
   "outputs": [],
   "source": [
    "mt = sy.symbols('m_t', real=True)\n",
    "ro = sy.symbols('r_o', real=True, positive=True)"
   ]
  },
  {
   "cell_type": "code",
   "execution_count": 13,
   "metadata": {
    "collapsed": false
   },
   "outputs": [
    {
     "data": {
      "text/latex": [
       "$$\\frac{0.819672131147541 m_{t}}{N r_{o}}$$"
      ],
      "text/plain": [
       "0.819672131147541⋅m_t\n",
       "─────────────────────\n",
       "         N⋅rₒ        "
      ]
     },
     "execution_count": 13,
     "metadata": {},
     "output_type": "execute_result"
    }
   ],
   "source": [
    "lam_equiv = mt / (1.22*ro*N)\n",
    "lam_equiv"
   ]
  },
  {
   "cell_type": "code",
   "execution_count": 14,
   "metadata": {
    "collapsed": false
   },
   "outputs": [
    {
     "data": {
      "text/latex": [
       "$$\\frac{6.4 \\lambda}{\\pi} N^{2}$$"
      ],
      "text/plain": [
       "     2        \n",
       "6.4⋅N ⋅\\lambda\n",
       "──────────────\n",
       "      π       "
      ]
     },
     "execution_count": 14,
     "metadata": {},
     "output_type": "execute_result"
    }
   ],
   "source": [
    "dh = 6.4*lam*N**2 / sy.pi\n",
    "dh"
   ]
  },
  {
   "cell_type": "code",
   "execution_count": 15,
   "metadata": {
    "collapsed": false
   },
   "outputs": [
    {
     "data": {
      "text/latex": [
       "$$\\frac{5.24590163934426 N m_{t}}{\\pi r_{o}}$$"
      ],
      "text/plain": [
       "5.24590163934426⋅N⋅m_t\n",
       "──────────────────────\n",
       "         π⋅rₒ         "
      ]
     },
     "execution_count": 15,
     "metadata": {},
     "output_type": "execute_result"
    }
   ],
   "source": [
    "dh = dh.subs(lam, lam_equiv)\n",
    "dh"
   ]
  },
  {
   "cell_type": "code",
   "execution_count": 16,
   "metadata": {
    "collapsed": false
   },
   "outputs": [
    {
     "data": {
      "text/latex": [
       "$$\\frac{5.25 N m_{t}}{\\pi r_{o}}$$"
      ],
      "text/plain": [
       "5.25⋅N⋅m_t\n",
       "──────────\n",
       "   π⋅rₒ   "
      ]
     },
     "execution_count": 16,
     "metadata": {},
     "output_type": "execute_result"
    }
   ],
   "source": [
    "dh = (5.25 * N * mt)  / (sy.pi * ro)\n",
    "dh"
   ]
  },
  {
   "cell_type": "code",
   "execution_count": 17,
   "metadata": {
    "collapsed": false
   },
   "outputs": [
    {
     "data": {
      "text/latex": [
       "$$\\frac{10.5 N f^{2} m_{t}}{\\pi r_{o} \\left(- \\frac{5.25 N m_{t}}{\\pi r_{o}} - f + v\\right) \\left(\\frac{5.25 N m_{t}}{\\pi r_{o}} - f + v\\right)}$$"
      ],
      "text/plain": [
       "                         2                      \n",
       "                 10.5⋅N⋅f ⋅m_t                  \n",
       "────────────────────────────────────────────────\n",
       "     ⎛  5.25⋅N⋅m_t        ⎞ ⎛5.25⋅N⋅m_t        ⎞\n",
       "π⋅rₒ⋅⎜- ────────── - f + v⎟⋅⎜────────── - f + v⎟\n",
       "     ⎝     π⋅rₒ           ⎠ ⎝   π⋅rₒ           ⎠"
      ]
     },
     "execution_count": 17,
     "metadata": {},
     "output_type": "execute_result"
    }
   ],
   "source": [
    "dof1 = dof.subs(d, dh)\n",
    "dof1"
   ]
  },
  {
   "cell_type": "code",
   "execution_count": 18,
   "metadata": {
    "collapsed": false
   },
   "outputs": [
    {
     "data": {
      "text/latex": [
       "$$- \\frac{10.5 \\pi N f^{2} m_{t} r_{o}}{\\left(5.25 N m_{t} - \\pi r_{o} \\left(f - v\\right)\\right) \\left(5.25 N m_{t} + \\pi r_{o} \\left(f - v\\right)\\right)}$$"
      ],
      "text/plain": [
       "                             2                         \n",
       "                  -10.5⋅π⋅N⋅f ⋅m_t⋅rₒ                  \n",
       "───────────────────────────────────────────────────────\n",
       "(5.25⋅N⋅m_t - π⋅rₒ⋅(f - v))⋅(5.25⋅N⋅m_t + π⋅rₒ⋅(f - v))"
      ]
     },
     "execution_count": 18,
     "metadata": {},
     "output_type": "execute_result"
    }
   ],
   "source": [
    "dof1.simplify()"
   ]
  },
  {
   "cell_type": "markdown",
   "metadata": {},
   "source": [
    "We will rewrite the above expression as:\n",
    "\n",
    "$$\n",
    "DOF(r_o) = \\frac{10.5 \\pi N f^2 m_t r_o}{\\left[\\pi r_o (v-f) - 5.25 N m_t\\right] \\left[\\pi r_o (v-f) + 5.25 N m_t\\right]}\n",
    "$$"
   ]
  },
  {
   "cell_type": "markdown",
   "metadata": {},
   "source": [
    "Substituting $(v-f)=\\frac{v f}{u}$ and $m_t = \\frac{v}{u}$, we can further simplify the above expression to obtain:\n",
    "\n",
    "$$\n",
    "DOF(r_o) = \\frac{10.5 \\pi N f^2 r_o}{m_t (\\pi r_o f - 5.25 N) (\\pi r_o f + 5.25 N)}\n",
    "$$"
   ]
  },
  {
   "cell_type": "markdown",
   "metadata": {},
   "source": [
    "### Verification with experimental observation"
   ]
  },
  {
   "cell_type": "code",
   "execution_count": 19,
   "metadata": {
    "collapsed": true
   },
   "outputs": [],
   "source": [
    "def dof_from_object_resolution(r, m, f, N):\n",
    "    \"\"\"returns the total diffraction based depth of field in the object space for \n",
    "    a prescribed object space resolution\n",
    "    \n",
    "    Parameters\n",
    "    ----------\n",
    "    r : real\n",
    "        prescribed object space resolution (lp/mm)\n",
    "    m : real\n",
    "        absolute value of the transverse magnification between the\n",
    "        conjugate planes\n",
    "    f : real\n",
    "        focal length (mm)\n",
    "    N : real\n",
    "        effective F-number\n",
    "        \n",
    "    Returns\n",
    "    -------\n",
    "    dof : real\n",
    "        total depth of field (mm)\n",
    "    \"\"\"\n",
    "    num = 10.5 * np.pi * N * f**2 * r\n",
    "    a = np.pi*r*f\n",
    "    b = 5.25*N\n",
    "    deno = m * (a - b) * (a + b)\n",
    "    return num/deno\n",
    "\n",
    "def control_function(r, m, f, N, u):\n",
    "    \"\"\"\n",
    "    \"\"\"\n",
    "    lamEqui = m/(1.22*N*r)\n",
    "    dof, _, _, = fou.depth_of_field(f, N, u, lamEqui)\n",
    "    return dof\n"
   ]
  },
  {
   "cell_type": "code",
   "execution_count": 20,
   "metadata": {
    "collapsed": false
   },
   "outputs": [
    {
     "name": "stdout",
     "output_type": "stream",
     "text": [
      "DOF (using control function) = 30.9837 cm\n",
      "DOF = 29.1032 cm\n"
     ]
    }
   ],
   "source": [
    "# case 1\n",
    "f = 180.0  # mm\n",
    "N = 8.0\n",
    "mt = 0.046\n",
    "u = 4038.6 # mm\n",
    "r = 2.0    # lp/mm\n",
    "\n",
    "print('DOF (using control function) = {:2.4f} cm'.format(control_function(r, mt, f, N, u)/10))\n",
    "print('DOF = {:2.4f} cm'.format(dof_from_object_resolution(r, mt, f, N)/10))"
   ]
  },
  {
   "cell_type": "code",
   "execution_count": 26,
   "metadata": {
    "collapsed": false
   },
   "outputs": [
    {
     "name": "stdout",
     "output_type": "stream",
     "text": [
      "DOF (using control function) = 13.4800 cm\n",
      "DOF = 12.4564 cm\n"
     ]
    }
   ],
   "source": [
    "# case 2\n",
    "f = 180.0  # mm\n",
    "N = 8.0\n",
    "mt = 0.0545\n",
    "u = 3437 # mm\n",
    "#r = 3.937    # lp/mm\n",
    "r = 3.94    # lp/mm\n",
    "\n",
    "print('DOF (using control function) = {:2.4f} cm'.format(control_function(r, mt, f, N, u)/10))\n",
    "print('DOF = {:2.4f} cm'.format(dof_from_object_resolution(r, mt, f, N)/10))"
   ]
  },
  {
   "cell_type": "code",
   "execution_count": null,
   "metadata": {
    "collapsed": true
   },
   "outputs": [],
   "source": []
  },
  {
   "cell_type": "markdown",
   "metadata": {},
   "source": [
    "DOF gain in case 1:"
   ]
  },
  {
   "cell_type": "code",
   "execution_count": 23,
   "metadata": {
    "collapsed": false
   },
   "outputs": [
    {
     "data": {
      "text/plain": [
       "4.189230050303747"
      ]
     },
     "execution_count": 23,
     "metadata": {},
     "output_type": "execute_result"
    }
   ],
   "source": [
    "1219.2/ 291.032"
   ]
  },
  {
   "cell_type": "markdown",
   "metadata": {},
   "source": [
    "DOF gain in case 2:"
   ]
  },
  {
   "cell_type": "code",
   "execution_count": 27,
   "metadata": {
    "collapsed": false
   },
   "outputs": [
    {
     "data": {
      "text/plain": [
       "9.7962332069165"
      ]
     },
     "execution_count": 27,
     "metadata": {},
     "output_type": "execute_result"
    }
   ],
   "source": [
    "1219.2/124.456"
   ]
  },
  {
   "cell_type": "code",
   "execution_count": null,
   "metadata": {
    "collapsed": true
   },
   "outputs": [],
   "source": []
  }
 ],
 "metadata": {
  "kernelspec": {
   "display_name": "Python 2",
   "language": "python",
   "name": "python2"
  },
  "language_info": {
   "codemirror_mode": {
    "name": "ipython",
    "version": 2
   },
   "file_extension": ".py",
   "mimetype": "text/x-python",
   "name": "python",
   "nbconvert_exporter": "python",
   "pygments_lexer": "ipython2",
   "version": "2.7.11"
  }
 },
 "nbformat": 4,
 "nbformat_minor": 0
}
