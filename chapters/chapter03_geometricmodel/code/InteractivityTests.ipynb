{
 "cells": [
  {
   "cell_type": "code",
   "execution_count": null,
   "metadata": {
    "collapsed": true
   },
   "outputs": [],
   "source": [
    "import matplotlib.pyplot as plt\n",
    "from IPython.core import display\n",
    "import ipywidgets as widgets\n",
    "from ipywidgets import interactive, interact, fixed"
   ]
  },
  {
   "cell_type": "code",
   "execution_count": null,
   "metadata": {
    "collapsed": true
   },
   "outputs": [],
   "source": [
    "fwhm = 10\n",
    "\n",
    "gauss = np.empty((100, 100, 3))\n",
    "for i in range(-1, 2):\n",
    "    gauss[:,:,i+1] = makeGaussian(100, fwhm - 5*i)\n",
    "    \n",
    "a = np.random.randint(0, 255, (100, 100, 3))\n",
    "b = 255*gauss\n",
    "\n",
    "M, N, _ = a.shape"
   ]
  },
  {
   "cell_type": "code",
   "execution_count": null,
   "metadata": {
    "collapsed": true
   },
   "outputs": [],
   "source": [
    "class InteractiveShowAround(object):\n",
    "    \"\"\"quick and dirty class for using the function `show_around()`\n",
    "    using ipywidgets\n",
    "    \n",
    "    Usage: isa = InteractiveShowAround(a); display(isa.wig)\n",
    "    \"\"\"\n",
    "    def __init__(self, img, pixSldrVal=20, pixSldrMin=10, pixSldrMax=50, SldrOri='horizontal'):\n",
    "        img = np.array(img, dtype='uint8')\n",
    "        M, N, _ = img.shape\n",
    "        self.pixSldr = widgets.IntSlider(value=pixSldrVal, \n",
    "                                         min=pixSldrMin, \n",
    "                                         max=pixSldrMax, \n",
    "                                         step=1, description='Pixels', \n",
    "                                         orientation=SldrOri)\n",
    "        self.ctrXSldr = widgets.IntSlider(value=N//2, step=1, \n",
    "                                          description='ctrX', \n",
    "                                          orientation=SldrOri)\n",
    "        self.ctrYSldr = widgets.IntSlider(value=M//2, step=1, \n",
    "                                          description='ctrY', \n",
    "                                          orientation=SldrOri)\n",
    "        self.pixGrdBut = widgets.Checkbox(description='Grid', value=True) \n",
    "        self.wig = interactive(gm.show_around, img_data=fixed(img),\n",
    "                               pixX=self.pixSldr, pixY=fixed(0), ctrX=self.ctrXSldr, \n",
    "                               ctrY=self.ctrYSldr, pixSize=fixed(1), pixGrid=self.pixGrdBut, \n",
    "                               retData=fixed(False), ax=fixed(0))"
   ]
  },
  {
   "cell_type": "code",
   "execution_count": null,
   "metadata": {
    "collapsed": true
   },
   "outputs": [],
   "source": [
    "isa1 = InteractiveShowAround(a)\n",
    "isa2 = InteractiveShowAround(b)"
   ]
  },
  {
   "cell_type": "code",
   "execution_count": null,
   "metadata": {
    "collapsed": true
   },
   "outputs": [],
   "source": [
    "tabs = widgets.Tab(children=(isa1.wig, isa2.wig))\n",
    "tabs.set_title(0, 'Image')\n",
    "tabs.set_title(1, 'PSF')"
   ]
  },
  {
   "cell_type": "code",
   "execution_count": null,
   "metadata": {
    "collapsed": true
   },
   "outputs": [],
   "source": [
    "display(tabs)"
   ]
  },
  {
   "cell_type": "code",
   "execution_count": null,
   "metadata": {
    "collapsed": true
   },
   "outputs": [],
   "source": []
  },
  {
   "cell_type": "code",
   "execution_count": null,
   "metadata": {
    "collapsed": true
   },
   "outputs": [],
   "source": []
  },
  {
   "cell_type": "code",
   "execution_count": null,
   "metadata": {
    "collapsed": true
   },
   "outputs": [],
   "source": []
  },
  {
   "cell_type": "code",
   "execution_count": null,
   "metadata": {
    "collapsed": true
   },
   "outputs": [],
   "source": []
  }
 ],
 "metadata": {
  "kernelspec": {
   "display_name": "Python 2",
   "language": "python",
   "name": "python2"
  },
  "language_info": {
   "codemirror_mode": {
    "name": "ipython",
    "version": 2
   },
   "file_extension": ".py",
   "mimetype": "text/x-python",
   "name": "python",
   "nbconvert_exporter": "python",
   "pygments_lexer": "ipython2",
   "version": "2.7.11"
  }
 },
 "nbformat": 4,
 "nbformat_minor": 0
}
