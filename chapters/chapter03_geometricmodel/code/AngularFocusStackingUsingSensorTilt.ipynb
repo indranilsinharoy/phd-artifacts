{
 "cells": [
  {
   "cell_type": "markdown",
   "metadata": {},
   "source": [
    "# Angular focus stacking using sensor tilt"
   ]
  },
  {
   "cell_type": "markdown",
   "metadata": {},
   "source": [
    "## Image-object point relationship when only the sensor is tilted"
   ]
  },
  {
   "cell_type": "markdown",
   "metadata": {},
   "source": [
    "The general image-object point relationship is given as:\n",
    "\n",
    "$$\n",
    "^{i}\\acute{{\\bf x}} = R_i^T \\left( \\acute{d}_e \\, {\\bf r} _{l,3}  - {\\bf t}_i \\right)  + \n",
    "\\frac{\\left( \\hat{{\\bf n}}_i (3) \\, \\acute{z}_o  - \\acute{d}_e \\, \\hat{{\\bf n}}_i^T \\, {\\bf r} _{l,3} \\right)}{\\hat{{\\bf n}}_i^T R_l M_p R_l^T ({\\bf x} - d_e\\,{\\bf r} _{l,3})}\n",
    "R_i^T R_l M_p R_l^T ({\\bf x} - d_e\\,{\\bf r} _{l,3})  \\hspace{25pt} \\color{Turquoise}{(1)}\n",
    "$$\n"
   ]
  },
  {
   "cell_type": "markdown",
   "metadata": {},
   "source": [
    "Since only the sensor is tilted about the $x$-axis by $\\beta$, we substitute:\n",
    "\n",
    "* $R_{l} = I$\n",
    "* $r_{l, 3} = [0, 0, 1]^T = \\bar{c}_z$\n",
    "* $\\acute{d}_e = d$\n",
    "* $d_e = 0$\n",
    "* $R_i=\\begin{bmatrix} 1 & 0 & 0 \\\\ 0 & cos (\\beta) & -sin (\\beta) \\\\ 0 & sin(\\beta)  & cos(\\beta) \\end{bmatrix}$\n"
   ]
  },
  {
   "cell_type": "markdown",
   "metadata": {},
   "source": [
    "Substituting into the general equation, we obtain:\n",
    "\n",
    "$$\n",
    "^{i}\\acute{{\\bf x}} = (d  - \\acute{z}_o) \\, R_i^T \\bar{c}_z + \n",
    "\\frac{(\\acute{z}_o  - d) \\, cos (\\beta)}{\\hat{{\\bf n}}_i^T M_p {\\bf x}}\n",
    "R_i^T M_p {\\bf x} \\hspace{25pt} \\color{Turquoise}{(2)}\n",
    "$$\n"
   ]
  },
  {
   "cell_type": "code",
   "execution_count": 1,
   "metadata": {
    "collapsed": true
   },
   "outputs": [],
   "source": [
    "import sympy as sy"
   ]
  },
  {
   "cell_type": "code",
   "execution_count": 2,
   "metadata": {
    "collapsed": true
   },
   "outputs": [],
   "source": [
    "sy.init_printing(use_latex='mathjax', print_builtin=False)"
   ]
  },
  {
   "cell_type": "code",
   "execution_count": 3,
   "metadata": {
    "collapsed": true
   },
   "outputs": [],
   "source": [
    "beta = sy.symbols('beta', real=True)               # sensor tilt angle\n",
    "mp = sy.symbols('m_p', real=True, positive=True)   # pupil magnification"
   ]
  },
  {
   "cell_type": "code",
   "execution_count": 4,
   "metadata": {
    "collapsed": true
   },
   "outputs": [],
   "source": [
    "Mp = sy.Matrix(((1, 0, 0), \n",
    "                (0, 1, 0),\n",
    "                (0, 0, mp))\n",
    "              )"
   ]
  },
  {
   "cell_type": "code",
   "execution_count": 5,
   "metadata": {
    "collapsed": false
   },
   "outputs": [
    {
     "data": {
      "text/latex": [
       "$$\\left[\\begin{matrix}1 & 0 & 0\\\\0 & \\cos{\\left (\\beta \\right )} & - \\sin{\\left (\\beta \\right )}\\\\0 & \\sin{\\left (\\beta \\right )} & \\cos{\\left (\\beta \\right )}\\end{matrix}\\right]$$"
      ],
      "text/plain": [
       "⎡1    0        0   ⎤\n",
       "⎢                  ⎥\n",
       "⎢0  cos(β)  -sin(β)⎥\n",
       "⎢                  ⎥\n",
       "⎣0  sin(β)  cos(β) ⎦"
      ]
     },
     "execution_count": 5,
     "metadata": {},
     "output_type": "execute_result"
    }
   ],
   "source": [
    "Ri = sy.Matrix(((1,       0,              0      ), \n",
    "                (0,  sy.cos(beta),  -sy.sin(beta)),\n",
    "                (0,  sy.sin(beta),   sy.cos(beta)),\n",
    "                 ))\n",
    "Ri"
   ]
  },
  {
   "cell_type": "code",
   "execution_count": 6,
   "metadata": {
    "collapsed": false
   },
   "outputs": [
    {
     "data": {
      "text/latex": [
       "$$\\left[\\begin{matrix}0\\\\- \\sin{\\left (\\beta \\right )}\\\\\\cos{\\left (\\beta \\right )}\\end{matrix}\\right]$$"
      ],
      "text/plain": [
       "⎡   0   ⎤\n",
       "⎢       ⎥\n",
       "⎢-sin(β)⎥\n",
       "⎢       ⎥\n",
       "⎣cos(β) ⎦"
      ]
     },
     "execution_count": 6,
     "metadata": {},
     "output_type": "execute_result"
    }
   ],
   "source": [
    "ni = Ri[:,2]\n",
    "ni"
   ]
  },
  {
   "cell_type": "code",
   "execution_count": 7,
   "metadata": {
    "collapsed": true
   },
   "outputs": [],
   "source": [
    "cz = sy.Matrix(((0),(0),(1)))"
   ]
  },
  {
   "cell_type": "code",
   "execution_count": 8,
   "metadata": {
    "collapsed": false
   },
   "outputs": [
    {
     "data": {
      "text/latex": [
       "$$\\left[\\begin{matrix}0\\\\- \\sin{\\left (\\beta \\right )}\\\\\\cos{\\left (\\beta \\right )}\\end{matrix}\\right]$$"
      ],
      "text/plain": [
       "⎡   0   ⎤\n",
       "⎢       ⎥\n",
       "⎢-sin(β)⎥\n",
       "⎢       ⎥\n",
       "⎣cos(β) ⎦"
      ]
     },
     "execution_count": 8,
     "metadata": {},
     "output_type": "execute_result"
    }
   ],
   "source": [
    "Ri*cz  #(ni = Ri*cz)"
   ]
  },
  {
   "cell_type": "code",
   "execution_count": 9,
   "metadata": {
    "collapsed": false
   },
   "outputs": [
    {
     "data": {
      "text/latex": [
       "$$\\left[\\begin{matrix}x\\\\y\\\\z\\end{matrix}\\right]$$"
      ],
      "text/plain": [
       "⎡x⎤\n",
       "⎢ ⎥\n",
       "⎢y⎥\n",
       "⎢ ⎥\n",
       "⎣z⎦"
      ]
     },
     "execution_count": 9,
     "metadata": {},
     "output_type": "execute_result"
    }
   ],
   "source": [
    "x, y, z = sy.symbols('x, y, z', real=True)\n",
    "X = sy.Matrix(((x), (y), (z)))\n",
    "\n",
    "X "
   ]
  },
  {
   "cell_type": "code",
   "execution_count": 10,
   "metadata": {
    "collapsed": false
   },
   "outputs": [
    {
     "data": {
      "text/latex": [
       "$$\\left[\\begin{matrix}x\\\\m_{p} z \\sin{\\left (\\beta \\right )} + y \\cos{\\left (\\beta \\right )}\\\\m_{p} z \\cos{\\left (\\beta \\right )} - y \\sin{\\left (\\beta \\right )}\\end{matrix}\\right]$$"
      ],
      "text/plain": [
       "⎡           x           ⎤\n",
       "⎢                       ⎥\n",
       "⎢m_p⋅z⋅sin(β) + y⋅cos(β)⎥\n",
       "⎢                       ⎥\n",
       "⎣m_p⋅z⋅cos(β) - y⋅sin(β)⎦"
      ]
     },
     "execution_count": 10,
     "metadata": {},
     "output_type": "execute_result"
    }
   ],
   "source": [
    "Ri.T * Mp * X"
   ]
  },
  {
   "cell_type": "code",
   "execution_count": 11,
   "metadata": {
    "collapsed": false
   },
   "outputs": [
    {
     "data": {
      "text/latex": [
       "$$\\left[\\begin{matrix}m_{p} z \\cos{\\left (\\beta \\right )} - y \\sin{\\left (\\beta \\right )}\\end{matrix}\\right]$$"
      ],
      "text/plain": [
       "[m_p⋅z⋅cos(β) - y⋅sin(β)]"
      ]
     },
     "execution_count": 11,
     "metadata": {},
     "output_type": "execute_result"
    }
   ],
   "source": [
    "(ni.T)*Mp*X"
   ]
  },
  {
   "cell_type": "markdown",
   "metadata": {
    "collapsed": false
   },
   "source": [
    "Substituting the above expressions into Eq. (2) we further obtain:\n",
    "\n",
    "(note that the object coordinates are expressed in the camera coordinate $\\{c\\}$, but we dropped the superscript that indicate the coordinate frame for simplicity)\n",
    "\n",
    "\n",
    "$$\n",
    "^{i}\\acute{x} = \\frac{(\\acute{z}_o - d)\\,cos(\\beta)}{\\left(-y \\,sin (\\beta) + m_p \\, z \\, cos(\\beta) \\right)} x\n",
    "$$\n",
    "\n",
    "\n",
    "$$\n",
    "^{i}\\acute{y} =  (d - \\acute{z_o})\\,sin(\\beta) +  \\frac{(\\acute{z}_o - d)\\,cos(\\beta)}{\\left(-y \\,sin (\\beta) + m_p \\, z \\, cos(\\beta) \\right)} \\, \\left( y \\, cos(\\beta) + m_p \\, z \\, sin(\\beta)  \\right)\n",
    "$$\n",
    "\n",
    "\n",
    "$$\n",
    "^{i}\\acute{z} = 0\n",
    "$$\n",
    "\n",
    "\n",
    "Following algebraic simplification, $^{i}\\acute{y}$ reduces to:\n",
    "\n",
    "$$\n",
    "^{i}\\acute{y} =  \\frac{(\\acute{z}_o - d)}{\\left(-y \\,sin (\\beta) + m_p \\, z \\, cos(\\beta) \\right)} y \n",
    "$$\n",
    "\n"
   ]
  },
  {
   "cell_type": "markdown",
   "metadata": {},
   "source": [
    "We can write the above relationship using homogeneous matrix as:\n",
    "\n",
    "\n",
    "$$\n",
    "\\left [\\begin{array}{c} \n",
    "^{i}\\acute{x} \\\\\n",
    "^{i}\\acute{y} \\\\\n",
    "w \n",
    "\\end{array}\\right] =\n",
    "\\begin{bmatrix}\n",
    "(\\acute{z}_o -d) \\, cos (\\beta) & 0 & 0 \\\\ \n",
    "0 & (\\acute{z}_o -d) & 0 \\\\ \n",
    "0 & -sin (\\beta)  & m_p \\, cos(\\beta) \n",
    "\\end{bmatrix}\n",
    "\\left [\\begin{array}{c} \n",
    "x \\\\ y \\\\ z \n",
    "\\end{array}\\right]  \\hspace{25pt} \\color{Turquoise}{(3)}\n",
    "$$\n",
    "\n",
    "\n",
    "The image coordinates in inhomogeneous coordinates is obtained as $^{i}\\acute{x} = \\frac{^{i}\\acute{x}}{w}$ and\n",
    "$^{i}\\acute{y} = \\frac{^{i}\\acute{y}}{w}$. \n"
   ]
  },
  {
   "cell_type": "markdown",
   "metadata": {
    "collapsed": true
   },
   "source": [
    "## Image of a grid of points in the object space"
   ]
  },
  {
   "cell_type": "code",
   "execution_count": 12,
   "metadata": {
    "collapsed": true
   },
   "outputs": [],
   "source": [
    "from __future__ import print_function, division\n",
    "import numpy as np\n",
    "import matplotlib.pyplot as plt\n",
    "from matplotlib.font_manager import FontProperties\n",
    "from matplotlib.colorbar import make_axes\n",
    "import matplotlib.patches as mpatches\n",
    "import geometric_model_zemax_commons as gm\n",
    "import iutils.cv.transforms as cvt\n",
    "#\n",
    "# Other useful functions\n",
    "sind = lambda x : np.sin(np.deg2rad(x))\n",
    "cosd = lambda x : np.cos(np.deg2rad(x))\n",
    "tand = lambda x : np.tan(np.deg2rad(x))\n",
    "arcsind = lambda x : np.rad2deg(np.arcsin(x))\n",
    "arctand = lambda x : np.rad2deg(np.arctan(x))"
   ]
  },
  {
   "cell_type": "code",
   "execution_count": 13,
   "metadata": {
    "collapsed": true
   },
   "outputs": [],
   "source": [
    "%matplotlib inline"
   ]
  },
  {
   "cell_type": "code",
   "execution_count": 14,
   "metadata": {
    "collapsed": true
   },
   "outputs": [],
   "source": [
    "def get_image_point(X, beta, zoDash, d, mp):\n",
    "    \"\"\"returns geometric image point in inhomogeneous coordinates obtained under\n",
    "    sensor tilt about the x-axis\n",
    "    \n",
    "    Parameters\n",
    "    ----------\n",
    "    X : ndarray\n",
    "        X = [x, y, z]^T\n",
    "    beta : float\n",
    "        rotation angle about x-axis\n",
    "    zoDash : float\n",
    "        directed distance of the sensor pivot from entrance pupil\n",
    "    d : float\n",
    "        directed distance of the exit pupil from the entrance pupil\n",
    "    mp : float\n",
    "        pupil magnification\n",
    "    \"\"\"\n",
    "    A = np.array([[(zoDash - d) * cosd(beta),          0       ,           0       ],\n",
    "                  [           0             ,      (zoDash - d),           0       ],\n",
    "                  [           0             ,       -sind(beta),      mp*cosd(beta)]])\n",
    "    XDashHomo = np.dot(A, X)\n",
    "    return XDashHomo/XDashHomo[2]"
   ]
  },
  {
   "cell_type": "code",
   "execution_count": 15,
   "metadata": {
    "collapsed": false
   },
   "outputs": [
    {
     "data": {
      "text/plain": [
       "array([[-0.        , -0.48169557],\n",
       "       [-0.        , -0.        ],\n",
       "       [ 1.        ,  1.        ]])"
      ]
     },
     "execution_count": 15,
     "metadata": {},
     "output_type": "execute_result"
    }
   ],
   "source": [
    "#X = np.array([0, 0, -509]).reshape(3, 1)\n",
    "X = np.array([ [  0,   10 ],\n",
    "               [  0,    0 ],\n",
    "               [-509, -519]\n",
    "              ])\n",
    "get_image_point(X, 10.0, 20, -5, 1)"
   ]
  },
  {
   "cell_type": "markdown",
   "metadata": {},
   "source": [
    "Plot of the image of two planes obtained using the equation:"
   ]
  },
  {
   "cell_type": "code",
   "execution_count": 16,
   "metadata": {
    "collapsed": false
   },
   "outputs": [
    {
     "data": {
      "image/png": "[encoded data removed]",
      "text/plain": [
       "<matplotlib.figure.Figure at 0xb4ed4e0>"
      ]
     },
     "metadata": {},
     "output_type": "display_data"
    }
   ],
   "source": [
    "# This is a simplified version of the plot in the notebook \n",
    "# \"Verification and study of the geometric imaging equations\" \n",
    "# only for the special case of sensor plane tilt considered in this notebook\n",
    "\n",
    "beta = 20.0\n",
    "\n",
    "OPTICAL_SYSTEM = 1\n",
    "\n",
    "f = 24.0 # focal length\n",
    "if OPTICAL_SYSTEM == 1: # mp = 0.550000000\n",
    "    # Optical System 1\n",
    "    d = -16.8363636\n",
    "    zoDash = -2.4656319\n",
    "    mp = 0.55\n",
    "elif OPTICAL_SYSTEM == 2: # mp = 1.0\n",
    "    # Optical System 2\n",
    "    d = -8.0\n",
    "    zoDash = 17.1707317\n",
    "    mp = 1.0\n",
    "else: # mp = 2.0\n",
    "    # Optical System 3\n",
    "    d = -20.0\n",
    "    zoDash = 29.1707317\n",
    "    mp = 2.0\n",
    "    \n",
    "\n",
    "n = 7   # THIS NUMBER SHOULD BE ODD, in order to have the on-axis point (0,0)\n",
    "nx = np.linspace(-1, 1, n)\n",
    "hx, hy = np.meshgrid(nx, nx)\n",
    "yDashNearMax = 4.3  # determines the extent of the image for near plane\n",
    "\n",
    "# points for the near plane\n",
    "# -------------------------\n",
    "zeDash = zoDash - d\n",
    "ze = -gm.pupil_centric_lens_formula(u=None, v=zeDash, f=f, mp=mp).u\n",
    "yNearMax = abs(mp*(ze/zeDash)*yDashNearMax)\n",
    "\n",
    "zNear = ze + 0 # ze = zo - de, where zo is zNear i.e object distance from pivot/coordinate origin\n",
    "\n",
    "# points @ object plane Z1\n",
    "XNear = np.vstack((yNearMax*hx.reshape(1, n**2), \n",
    "                   yNearMax*hy.reshape(1, n**2), \n",
    "                   zNear*np.ones((1, n**2))))\n",
    "\n",
    "\n",
    "# image points for zero tilts @ object plane Z1\n",
    "x1 = get_image_point(XNear, 0, zoDash, d ,mp)\n",
    "\n",
    "# image points for finite tilts @ object plane Z1\n",
    "x2 = get_image_point(XNear, beta, zoDash, d ,mp)\n",
    "\n",
    "\n",
    "# points for far plane\n",
    "# --------------------\n",
    "\n",
    "# Let the height of the image of the grid of points from the far plane be \n",
    "# equal to height of grid of points image from the near plane \n",
    "\n",
    "yDashFarMax = abs(x1[0, 0])  # determines the extent of the image for the far plane \n",
    "\n",
    "# What should be the object distance, zFar, if the object height is the double\n",
    "# Since this plane is not in geometrical focus, we can't use the function\n",
    "# get_image_coordinates(); so we use magnification relationship\n",
    "yFarMax = 2*yNearMax\n",
    "mt = -yDashFarMax/yFarMax  # transverse magnification\n",
    "ze = zeDash/(mp*mt)\n",
    "zFar = ze + 0 # ze = zo - de where zo is zNear i.e object distance from pivot/coordinate origin\n",
    "\n",
    "XFar = np.vstack((yFarMax*hx.reshape(1, n**2), \n",
    "                  yFarMax*hy.reshape(1, n**2), \n",
    "                  zFar*np.ones((1, n**2))))\n",
    "\n",
    "# image points for zero tilts @ object plane Z2\n",
    "x3 = get_image_point(XFar, 0, zoDash, d ,mp)\n",
    "\n",
    "# image points for finite tilts @ object plane Z2\n",
    "x4 = get_image_point(XFar, beta, zoDash, d ,mp)\n",
    "\n",
    "# figure\n",
    "figBGCol = '#343434' \n",
    "fig, ax = plt.subplots(1, 1, figsize=(8.45, 5.), dpi=120) \n",
    "ax.set_axis_bgcolor(figBGCol)\n",
    "\n",
    "# Scatter plots' marker colors coding\n",
    "mcols = ['#FFB796', '#FF5500', '#7CD9FF', '#00B4FF']   # orange and blue\n",
    "\n",
    "# displace plot for Z1 and Z2\n",
    "xOffset, yOffset = 5, 0\n",
    "\n",
    "ax.text(xOffset-1.15, -5.5, 'NEAR', color='#888888', alpha=0.45, fontsize=14, fontweight='bold', zorder=1)\n",
    "\n",
    "smarker1 = '1'\n",
    "smarker2 = '2'\n",
    "ssize1 = 65\n",
    "ssize2 = 60\n",
    "\n",
    "# Object plane at Z1\n",
    "\n",
    "ax.scatter(x1[0, :] + xOffset, x1[1, :] + yOffset, marker=smarker1, s=ssize1, \n",
    "           facecolor='k', lw=2.1, alpha=1.0, zorder=13)\n",
    "ax.scatter(x1[0, :] + xOffset, x1[1, :] + yOffset, marker=smarker1, s=ssize1, \n",
    "           facecolor=mcols[0], lw=1.7, alpha=1.0, zorder=13,\n",
    "           label=r'$\\rm{{Frontoparallel}} \\,;\\,\\,  z_o={{{:.1f}}}\\, \\it{{mm}}$'.format(zNear))\n",
    "\n",
    "\n",
    "# shade region to show the span of the grid of points\n",
    "for i in range(n-1):\n",
    "    plt.fill_between(x=x1[0, i*n:(i+1)*n] + xOffset, \n",
    "                     y1=x1[1, i*n:(i+1)*n] + yOffset, \n",
    "                     y2=x1[1, (i+1)*n:(i+2)*n] + yOffset, \n",
    "                     alpha=0.1, facecolor=mcols[0], edgecolor='none', zorder=2)\n",
    "\n",
    "# grid to show the undistorted shape of points\n",
    "xGridPts = x1[0, :][:n] + xOffset\n",
    "yGridPts = x1[1, :][::n] + yOffset\n",
    "ax.vlines(xGridPts, ymin=min(yGridPts), ymax=max(yGridPts), zorder=2, colors=mcols[0], \n",
    "          lw=0.8, alpha=0.6)\n",
    "ax.hlines(yGridPts, xmin=min(xGridPts), xmax=max(xGridPts), zorder=2, colors=mcols[0], \n",
    "          lw=0.8, alpha=0.6)\n",
    "\n",
    "# finite tilt\n",
    "ax.scatter(x2[0, :] + xOffset, x2[1, :] + yOffset, \n",
    "           marker=smarker1, s=ssize1, facecolor='k', lw=2.1, alpha=1.0, zorder=13, clip_on=False)\n",
    "ax.scatter(x2[0, :] + xOffset, x2[1, :] + yOffset, \n",
    "           marker=smarker1, s=ssize1, facecolor=mcols[1], lw=1.7, alpha=1.0, zorder=13, clip_on=False, \n",
    "           label=r'$\\rm{{Tilted}} \\,;\\,\\, z_o={{{:.1f}}}\\, \\it{{mm}}$'.format(zNear))\n",
    "\n",
    "\n",
    "# shade region to show the span of the grid of points\n",
    "for i in range(n-1):\n",
    "    x_row1 = x2[0, i*n:(i+1)*n] + xOffset\n",
    "    x_row2 = x2[0, (i+1)*n:(i+2)*n] + xOffset\n",
    "    y_row1 = x2[1, i*n:(i+1)*n] + yOffset\n",
    "    y_row2 = x2[1, (i+1)*n:(i+2)*n] + yOffset\n",
    "    # we need to reverse the order of points from the second row\n",
    "    # so that the order of points (at the transition between rows) \n",
    "    # is circular and not zig-zag\n",
    "    x_pts = np.concatenate((x_row1, x_row2[::-1]))\n",
    "    y_pts = np.concatenate((y_row1, y_row2[::-1]))\n",
    "    k = np.hstack((x_pts[:, np.newaxis], y_pts[:, np.newaxis]))\n",
    "    patch = mpatches.Polygon(xy=k, closed=True, facecolor=mcols[1], \n",
    "                             edgecolor='none', alpha=0.1, zorder=3, clip_on=False)\n",
    "    ax.add_patch(patch)\n",
    "\n",
    "# draw outer boundery\n",
    "ax.plot(x2[0, :n] + xOffset, x2[1, :n], color=mcols[1], \n",
    "        lw=0.9, zorder=2, alpha=0.5, clip_on=False) # top\n",
    "ax.plot(x2[0, -n::] + xOffset, x2[1, -n::], color=mcols[1], \n",
    "        lw=0.9, zorder=2, alpha=0.5,  clip_on=False) # bottom\n",
    "ax.plot(x2[0, n-1::n] + xOffset, x2[1, n-1::n], color=mcols[1], \n",
    "        lw=1.0, zorder=2, alpha=0.9,  clip_on=False) # left side\n",
    "ax.plot(x2[0, ::n] + xOffset, x2[1, ::n], color=mcols[1], \n",
    "        lw=1.0, zorder=2, alpha=0.9,  clip_on=False) # right side\n",
    "\n",
    "\n",
    "# Object plane at Z2\n",
    "xOffset, yOffset = -5, 0\n",
    "\n",
    "ax.text(xOffset-0.8, -5.5, 'FAR', color='#888888', alpha=0.45, fontsize=14, fontweight='bold', zorder=1)\n",
    "\n",
    "ax.scatter(x3[0, :] + xOffset, x3[1, :] + yOffset, marker=smarker2, s=ssize2, \n",
    "           color='k', lw=2.1, alpha=1.0, zorder=12)\n",
    "ax.scatter(x3[0, :] + xOffset, x3[1, :] + yOffset, marker=smarker2, s=ssize2, \n",
    "           color=mcols[2], lw=1.7, alpha=1.0, zorder=12,\n",
    "           label=r'$\\rm{{Frontoparallel}} \\,;\\, \\, z_o={{{:.1f}}}\\,\\it{{mm}}$'.format(zFar))\n",
    "\n",
    "# shade region to show the span of the grid of points\n",
    "for i in range(n-1):\n",
    "    plt.fill_between(x=x3[0, i*n:(i+1)*n] + xOffset, \n",
    "                     y1=x3[1, i*n:(i+1)*n] + yOffset, \n",
    "                     y2=x3[1, (i+1)*n:(i+2)*n] + yOffset, \n",
    "                     alpha=0.1, facecolor=mcols[2], edgecolor='none', zorder=2)\n",
    "\n",
    "# grid to show the undistorted shape of points\n",
    "xGridPts = x3[0, :][:n] + xOffset\n",
    "yGridPts = x3[1, :][::n] + yOffset\n",
    "ax.vlines(xGridPts, ymin=min(yGridPts), ymax=max(yGridPts), zorder=2, colors=mcols[2], \n",
    "          lw=0.8, alpha=0.6)\n",
    "ax.hlines(yGridPts, xmin=min(xGridPts), xmax=max(xGridPts), zorder=2, colors=mcols[2], \n",
    "          lw=0.8, alpha=0.6)\n",
    "\n",
    "# finite tilts\n",
    "ax.scatter(x4[0, :] + xOffset, x4[1, :] + yOffset, \n",
    "           marker=smarker2, s=ssize2, color='k', lw=2.1, alpha=1.0, clip_on=False, zorder=12,)\n",
    "ax.scatter(x4[0, :] + xOffset, x4[1, :] + yOffset, \n",
    "           marker=smarker2, s=ssize2, color=mcols[3], lw=1.7, alpha=1.0, clip_on=False, zorder=12, \n",
    "           label=r'$\\rm{{Tilted}} \\,;\\,\\, z_o={{{:.1f}}}\\, \\it{{mm}}$'.format(zFar))\n",
    "\n",
    "# shade region to show the span of the grid of points\n",
    "for i in range(n-1):\n",
    "    x_row1 = x4[0, i*n:(i+1)*n] + xOffset\n",
    "    x_row2 = x4[0, (i+1)*n:(i+2)*n] + xOffset\n",
    "    y_row1 = x4[1, i*n:(i+1)*n] + yOffset\n",
    "    y_row2 = x4[1, (i+1)*n:(i+2)*n] + yOffset\n",
    "    # we need to reverse the order of points from the second row\n",
    "    # so that the order of points (at the transition between rows) \n",
    "    # is circular and not zig-zag\n",
    "    x_pts = np.concatenate((x_row1, x_row2[::-1]))\n",
    "    y_pts = np.concatenate((y_row1, y_row2[::-1]))\n",
    "    k = np.hstack((x_pts[:, np.newaxis], y_pts[:, np.newaxis]))\n",
    "    patch = mpatches.Polygon(xy=k, closed=True, facecolor=mcols[3], \n",
    "                             edgecolor='none', alpha=0.1, zorder=3, clip_on=False)\n",
    "    ax.add_patch(patch)\n",
    "\n",
    "# draw outer boundery\n",
    "ax.plot(x4[0, :n] + xOffset, x4[1, :n], color=mcols[3], \n",
    "        lw=0.9, alpha=0.5, clip_on=False, zorder=2) # top\n",
    "ax.plot(x4[0, -n::] + xOffset, x4[1, -n::], color=mcols[3], \n",
    "        lw=0.9, alpha=0.5, clip_on=False, zorder=2) # bottom\n",
    "ax.plot(x4[0, n-1::n] + xOffset, x4[1, n-1::n], color=mcols[3], \n",
    "        clip_on=False, alpha=0.9, lw=1.0, zorder=2) # left side\n",
    "ax.plot(x4[0, ::n] + xOffset, x4[1, ::n], color=mcols[3], \n",
    "        lw=1.0, alpha=0.9, clip_on=False, zorder=2) # right side\n",
    "\n",
    "#\n",
    "ax.set_xlim(-11.5, 11.5)\n",
    "ax.set_ylim(-6, 10)\n",
    "ax.set_aspect('equal')\n",
    "\n",
    "ax.set_ylabel(r'$\\'{\\bf{y}} \\,\\it{(mm)}$', fontsize=15.5, color='#333333', labelpad=-10)\n",
    "ax.set_xlabel(r'$\\'{\\bf{x}} \\,\\it{(mm)}$', fontsize=15.5, color='#333333', labelpad=-2)\n",
    "\n",
    "ax.xaxis.set_ticks_position('bottom')\n",
    "ax.yaxis.set_ticks_position('left')\n",
    "\n",
    "# draw center markers\n",
    "ctrMCol = '#BBBBBB'\n",
    "ax.axvline(x=xOffset, ymin=0, ymax=0.02, lw=1.5, color=ctrMCol)\n",
    "ax.axvline(x=-xOffset, ymin=0, ymax=0.02, lw=1.5, color=ctrMCol)\n",
    "ax.axvline(x=xOffset, ymin=0.98, ymax=1, lw=1.5, color=ctrMCol)\n",
    "ax.axvline(x=-xOffset, ymin=0.98, ymax=1, lw=1.5, color=ctrMCol)\n",
    "\n",
    "ax.axhline(y=yOffset, xmin=0, xmax=0.01, lw=1.5, color=ctrMCol)\n",
    "ax.axhline(y=yOffset, xmin=0.99, xmax=1, lw=1.5, color=ctrMCol)\n",
    "\n",
    "\n",
    "txt1 = r'$m_p ={}$'.format(mp)\n",
    "txt2 = r'$\\beta ={}^o$'.format(beta) \n",
    "# at top right (outside the axes)\n",
    "txtOff = -0.32  \n",
    "fig.text(0.87, 0.93 + txtOff, txt1, fontsize=18, color='#333333')\n",
    "fig.text(0.87, 0.86 + txtOff, txt2, fontsize=18, color='#333333')\n",
    "\n",
    "# Legend and other information\n",
    "ax.legend(fontsize=16.5, scatterpoints=1, markerscale=1.12, scatteryoffsets=[0.5],\n",
    "          ncol=1, loc='upper right', bbox_to_anchor=(1.3, 0.945), labelspacing=0.1,\n",
    "          bbox_transform=fig.transFigure, handletextpad=0.38, handlelength=0.2)\n",
    "\n",
    "\n",
    "plt.show()"
   ]
  },
  {
   "cell_type": "markdown",
   "metadata": {},
   "source": [
    "## Inter-image homography"
   ]
  },
  {
   "cell_type": "markdown",
   "metadata": {},
   "source": [
    "The relationship been the image and object coordinates under sensor (only) tilt (about the x-axis by $\\beta$) is given as:\n",
    "\n",
    "$$\n",
    "\\left [\\begin{array}{c} \n",
    "^{i}\\acute{x} \\\\\n",
    "^{i}\\acute{y} \\\\\n",
    "w \n",
    "\\end{array}\\right] =\n",
    "\\underbrace{\n",
    "\\begin{bmatrix}\n",
    "(\\acute{z}_o -d) \\, cos (\\beta) & 0 & 0 \\\\ \n",
    "0 & (\\acute{z}_o -d) & 0 \\\\ \n",
    "0 & -sin (\\beta)  & m_p \\, cos(\\beta) \n",
    "\\end{bmatrix}\n",
    "}_{A(\\beta)}\n",
    "\\left [\\begin{array}{c} \n",
    "x \\\\ y \\\\ z \n",
    "\\end{array}\\right]  \\hspace{25pt} \\color{Turquoise}{(3)}\n",
    "$$"
   ]
  },
  {
   "cell_type": "markdown",
   "metadata": {},
   "source": [
    "Let's represent the image-object relationship under two different orientations of the sensor tilts as follows:\n",
    "\n",
    "\n",
    "$$\n",
    "\\begin{array}{cc}\n",
    "^{i}\\acute{{\\bf x}}_1 & = & A(\\beta_1) \\, \\bf x \\\\\n",
    "^{i}\\acute{{\\bf x}}_2 & = & A(\\beta_2) \\, \\bf x\n",
    "\\end{array}  \\hspace{25pt} \\color{Turquoise}{(4)}\n",
    "$$  "
   ]
  },
  {
   "cell_type": "markdown",
   "metadata": {},
   "source": [
    "Then, the inter-image homography can be obtained as:\n",
    "\n",
    "$$\n",
    "^{i}\\acute{{\\bf x}}_2 = \\underbrace{A(\\beta_2) \\, A(\\beta_1)^{-1}}_{H(\\beta_2, \\, \\beta_1)} \\, ^{i}\\acute{{\\bf x}}_1 \\hspace{25pt} \\color{Turquoise}{(5)} \n",
    "$$"
   ]
  },
  {
   "cell_type": "code",
   "execution_count": 17,
   "metadata": {
    "collapsed": false
   },
   "outputs": [],
   "source": [
    "beta1 = sy.symbols('beta_1', real=True)           # sensor tilt angle\n",
    "beta2 = sy.symbols('beta_2', real=True)           # sensor tilt angle\n",
    "mp = sy.symbols('m_p', real=True, positive=True)  # pupil magnification\n",
    "d = sy.symbols('d', real=True)                    # directed distance of the exit-pupil from the entrance pupil\n",
    "zoDash = sy.symbols(\"z'_o\", real=True)            # directed distance of the image-plane pivot from entrance pupil\n",
    "\n",
    "A1 = sy.Matrix((( (zoDash -d)*sy.cos(beta1),         0    ,            0      ), \n",
    "                (        0,                    (zoDash -d),            0      ),\n",
    "                (        0,                 -sy.sin(beta1),   mp*sy.cos(beta1)),\n",
    "                ))\n",
    "\n",
    "A2 = sy.Matrix((( (zoDash -d)*sy.cos(beta2),         0    ,            0      ), \n",
    "                (        0,                    (zoDash -d),            0      ),\n",
    "                (        0,                 -sy.sin(beta2),   mp*sy.cos(beta2)),\n",
    "                ))"
   ]
  },
  {
   "cell_type": "code",
   "execution_count": 18,
   "metadata": {
    "collapsed": false
   },
   "outputs": [
    {
     "data": {
      "text/latex": [
       "$$\\left[\\begin{matrix}\\left(- d + z'_{o}\\right) \\cos{\\left (\\beta_{1} \\right )} & 0 & 0\\\\0 & - d + z'_{o} & 0\\\\0 & - \\sin{\\left (\\beta_{1} \\right )} & m_{p} \\cos{\\left (\\beta_{1} \\right )}\\end{matrix}\\right]$$"
      ],
      "text/plain": [
       "⎡(-d + z'ₒ)⋅cos(β₁)     0           0     ⎤\n",
       "⎢                                         ⎥\n",
       "⎢        0           -d + z'ₒ       0     ⎥\n",
       "⎢                                         ⎥\n",
       "⎣        0           -sin(β₁)  m_p⋅cos(β₁)⎦"
      ]
     },
     "execution_count": 18,
     "metadata": {},
     "output_type": "execute_result"
    }
   ],
   "source": [
    "A1"
   ]
  },
  {
   "cell_type": "code",
   "execution_count": 19,
   "metadata": {
    "collapsed": false
   },
   "outputs": [
    {
     "data": {
      "text/latex": [
       "$$\\left[\\begin{matrix}\\left(- d + z'_{o}\\right) \\cos{\\left (\\beta_{2} \\right )} & 0 & 0\\\\0 & - d + z'_{o} & 0\\\\0 & - \\sin{\\left (\\beta_{2} \\right )} & m_{p} \\cos{\\left (\\beta_{2} \\right )}\\end{matrix}\\right]$$"
      ],
      "text/plain": [
       "⎡(-d + z'ₒ)⋅cos(β₂)     0           0     ⎤\n",
       "⎢                                         ⎥\n",
       "⎢        0           -d + z'ₒ       0     ⎥\n",
       "⎢                                         ⎥\n",
       "⎣        0           -sin(β₂)  m_p⋅cos(β₂)⎦"
      ]
     },
     "execution_count": 19,
     "metadata": {},
     "output_type": "execute_result"
    }
   ],
   "source": [
    "A2"
   ]
  },
  {
   "cell_type": "code",
   "execution_count": 20,
   "metadata": {
    "collapsed": false
   },
   "outputs": [
    {
     "data": {
      "text/latex": [
       "$$\\left[\\begin{matrix}\\frac{\\cos{\\left (\\beta_{2} \\right )}}{\\cos{\\left (\\beta_{1} \\right )}} & 0 & 0\\\\0 & 1 & 0\\\\0 & \\frac{\\sin{\\left (\\beta_{1} \\right )} \\cos{\\left (\\beta_{2} \\right )}}{\\left(- d + z'_{o}\\right) \\cos{\\left (\\beta_{1} \\right )}} - \\frac{\\sin{\\left (\\beta_{2} \\right )}}{- d + z'_{o}} & \\frac{\\cos{\\left (\\beta_{2} \\right )}}{\\cos{\\left (\\beta_{1} \\right )}}\\end{matrix}\\right]$$"
      ],
      "text/plain": [
       "⎡cos(β₂)                                        ⎤\n",
       "⎢───────                0                   0   ⎥\n",
       "⎢cos(β₁)                                        ⎥\n",
       "⎢                                               ⎥\n",
       "⎢   0                   1                   0   ⎥\n",
       "⎢                                               ⎥\n",
       "⎢          sin(β₁)⋅cos(β₂)     sin(β₂)   cos(β₂)⎥\n",
       "⎢   0     ────────────────── - ────────  ───────⎥\n",
       "⎣         (-d + z'ₒ)⋅cos(β₁)   -d + z'ₒ  cos(β₁)⎦"
      ]
     },
     "execution_count": 20,
     "metadata": {},
     "output_type": "execute_result"
    }
   ],
   "source": [
    "H = A2*A1.inv()\n",
    "H"
   ]
  },
  {
   "cell_type": "code",
   "execution_count": 21,
   "metadata": {
    "collapsed": false
   },
   "outputs": [
    {
     "data": {
      "text/latex": [
       "$$\\left[\\begin{matrix}\\frac{\\cos{\\left (\\beta_{2} \\right )}}{\\cos{\\left (\\beta_{1} \\right )}} & 0 & 0\\\\0 & 1 & 0\\\\0 & - \\frac{\\sin{\\left (\\beta_{1} - \\beta_{2} \\right )}}{\\left(d - z'_{o}\\right) \\cos{\\left (\\beta_{1} \\right )}} & \\frac{\\cos{\\left (\\beta_{2} \\right )}}{\\cos{\\left (\\beta_{1} \\right )}}\\end{matrix}\\right]$$"
      ],
      "text/plain": [
       "⎡cos(β₂)                            ⎤\n",
       "⎢───────          0             0   ⎥\n",
       "⎢cos(β₁)                            ⎥\n",
       "⎢                                   ⎥\n",
       "⎢   0             1             0   ⎥\n",
       "⎢                                   ⎥\n",
       "⎢           -sin(β₁ - β₂)    cos(β₂)⎥\n",
       "⎢   0     ─────────────────  ───────⎥\n",
       "⎣         (d - z'ₒ)⋅cos(β₁)  cos(β₁)⎦"
      ]
     },
     "execution_count": 21,
     "metadata": {},
     "output_type": "execute_result"
    }
   ],
   "source": [
    "H.simplify()\n",
    "H"
   ]
  },
  {
   "cell_type": "markdown",
   "metadata": {},
   "source": [
    "The inter-image homography, in physical units, is represented as:\n",
    "\n",
    "$$\n",
    "H(\\beta_2, \\, \\beta_1) = \n",
    "\\left[\\begin{matrix}\\frac{\\cos{\\left (\\beta_{2} \\right )}}{\\cos{\\left (\\beta_{1} \\right )}} & 0 & 0\\\\0 & 1 & 0\\\\0 & \\frac{\\sin{\\left (\\beta_{1} - \\beta_{2} \\right )}}{\\left(z'_{o} - d\\right) \\cos{\\left (\\beta_{1} \\right )}} & \\frac{\\cos{\\left (\\beta_{2} \\right )}}{\\cos{\\left (\\beta_{1} \\right )}}\\end{matrix}\\right]\n",
    "$$"
   ]
  },
  {
   "cell_type": "markdown",
   "metadata": {
    "collapsed": true
   },
   "source": [
    "Note that the diagonal components of the above inter-image homography are unitless. The element in the third row and second column has the unit of $1/mm$ (inverse of the physical dimension). Therefore, if $p$ is the pixel pitch in $mm$, then, the inter-image homography is obtained as:\n",
    "\n",
    "\n",
    "$$\n",
    "H(\\beta_2, \\, \\beta_1) = \n",
    "\\left[\\begin{matrix}\\frac{\\cos{\\left (\\beta_{2} \\right )}}{\\cos{\\left (\\beta_{1} \\right )}} & 0 & 0\\\\0 & 1 & 0\\\\0 & \\frac{\\sin{\\left (\\beta_{1} - \\beta_{2} \\right )}}{p \\, \\left(z'_{o} - d\\right) \\cos{\\left (\\beta_{1} \\right )}} & \\frac{\\cos{\\left (\\beta_{2} \\right )}}{\\cos{\\left (\\beta_{1} \\right )}}\\end{matrix}\\right]\n",
    "$$\n"
   ]
  },
  {
   "cell_type": "markdown",
   "metadata": {},
   "source": [
    "Furthermore, if $\\beta_1 = 0$, then the inter image homography is given as:\n",
    "\n",
    "\n",
    "$$\n",
    "H(\\beta_2, 0) = \n",
    "\\begin{bmatrix} \n",
    "cos (\\beta_2) & 0 & 0 \\\\ \n",
    "0 & 1 & 0 \\\\ \n",
    "0 & \\frac{-sin(\\beta_2)}{p \\, (z'_o - d)}  & cos(\\beta_2) \n",
    "\\end{bmatrix}\n",
    "$$"
   ]
  },
  {
   "cell_type": "markdown",
   "metadata": {},
   "source": [
    "### Verification of the inter-image homography expression"
   ]
  },
  {
   "cell_type": "markdown",
   "metadata": {},
   "source": [
    "The basic idea for this verification is that $x_2 = H(\\beta_2, 0) \\, x_1$,  where $x_1$ is the image obtained when the sensor is untilted, and $x_2$ is the image obtained when the sensor is tilted about the x-axis by $\\beta_2$.\n",
    "\n",
    "Sence we have both the set of points--$x_2$ and $x_1$--from the above plot example, we can verify if the estimate $\\hat{x}_2$ obtained $H(\\beta_2, 0) \\, x_1$ equals $x_2$. \n",
    "\n",
    "Also, note that $H(\\beta_2, 0) \\, x_1$ gives $\\hat{x}_2$ in homogeneous coordinates. To convert to inhomogeneous coordinates, we have to divide by the thrid element for each coordinate."
   ]
  },
  {
   "cell_type": "code",
   "execution_count": 22,
   "metadata": {
    "collapsed": false
   },
   "outputs": [],
   "source": [
    "beta1 = 0.0\n",
    "beta2 = 20.0\n",
    "\n",
    "\n",
    "OPTICAL_SYSTEM = 1\n",
    "\n",
    "f = 24.0 # focal length\n",
    "if OPTICAL_SYSTEM == 1: # mp = 0.550000000\n",
    "    # Optical System 1\n",
    "    d = -16.8363636\n",
    "    zoDash = -2.4656319\n",
    "    mp = 0.55\n",
    "elif OPTICAL_SYSTEM == 2: # mp = 1.0\n",
    "    # Optical System 2\n",
    "    d = -8.0\n",
    "    zoDash = 17.1707317\n",
    "    mp = 1.0\n",
    "else: # mp = 2.0\n",
    "    # Optical System 3\n",
    "    d = -20.0\n",
    "    zoDash = 29.1707317\n",
    "    mp = 2.0\n",
    "    \n",
    "\n",
    "n = 5   # THIS NUMBER SHOULD BE ODD, in order to have the on-axis point (0,0)\n",
    "nx = np.linspace(-1, 1, n)\n",
    "hx, hy = np.meshgrid(nx, nx)\n",
    "yDashNearMax = 4.3  # determines the extent of the image for near plane\n",
    "\n",
    "# points for a plane\n",
    "# ------------------\n",
    "zeDash = zoDash - d\n",
    "ze = -gm.pupil_centric_lens_formula(u=None, v=zeDash, f=f, mp=mp).u\n",
    "yNearMax = abs(mp*(ze/zeDash)*yDashNearMax)\n",
    "\n",
    "zNear = ze + 0 # ze = zo - de, where zo is zNear i.e object distance from pivot/coordinate origin\n",
    "\n",
    "# points @ object plane Z1\n",
    "XNear = np.vstack((yNearMax*hx.reshape(1, n**2), \n",
    "                   yNearMax*hy.reshape(1, n**2), \n",
    "                   zNear*np.ones((1, n**2))))\n",
    "\n",
    "\n",
    "# image points for zero tilts @ object plane Z1\n",
    "x1 = get_image_point(XNear, beta1, zoDash, d, mp)\n",
    "\n",
    "# image points for finite tilts @ object plane Z1\n",
    "x2 = get_image_point(XNear, beta2, zoDash, d, mp)\n",
    "\n",
    "\n",
    "# Homography H(beta2, beta1)\n",
    "\n",
    "p = 1 # pixel size\n",
    "H = np.array([[cosd(beta2),                  0                 ,      0      ],\n",
    "              [       0      ,               1                 ,      0      ],\n",
    "              [       0      ,  -sind(beta2)/(p*(zoDash - d))  ,  cosd(beta2)]])"
   ]
  },
  {
   "cell_type": "code",
   "execution_count": 23,
   "metadata": {
    "collapsed": false
   },
   "outputs": [
    {
     "data": {
      "text/plain": [
       "array([[ -88.15000055,  -44.07500028,    0.        ,   44.07500028,\n",
       "          88.15000055,  -88.15000055,  -44.07500028,    0.        ,\n",
       "          44.07500028,   88.15000055,  -88.15000055,  -44.07500028,\n",
       "           0.        ,   44.07500028,   88.15000055,  -88.15000055,\n",
       "         -44.07500028,    0.        ,   44.07500028,   88.15000055,\n",
       "         -88.15000055,  -44.07500028,    0.        ,   44.07500028,\n",
       "          88.15000055],\n",
       "       [ -88.15000055,  -88.15000055,  -88.15000055,  -88.15000055,\n",
       "         -88.15000055,  -44.07500028,  -44.07500028,  -44.07500028,\n",
       "         -44.07500028,  -44.07500028,    0.        ,    0.        ,\n",
       "           0.        ,    0.        ,    0.        ,   44.07500028,\n",
       "          44.07500028,   44.07500028,   44.07500028,   44.07500028,\n",
       "          88.15000055,   88.15000055,   88.15000055,   88.15000055,\n",
       "          88.15000055],\n",
       "       [-535.63636671, -535.63636671, -535.63636671, -535.63636671,\n",
       "        -535.63636671, -535.63636671, -535.63636671, -535.63636671,\n",
       "        -535.63636671, -535.63636671, -535.63636671, -535.63636671,\n",
       "        -535.63636671, -535.63636671, -535.63636671, -535.63636671,\n",
       "        -535.63636671, -535.63636671, -535.63636671, -535.63636671,\n",
       "        -535.63636671, -535.63636671, -535.63636671, -535.63636671,\n",
       "        -535.63636671]])"
      ]
     },
     "execution_count": 23,
     "metadata": {},
     "output_type": "execute_result"
    }
   ],
   "source": [
    "XNear"
   ]
  },
  {
   "cell_type": "code",
   "execution_count": 24,
   "metadata": {
    "collapsed": false
   },
   "outputs": [
    {
     "data": {
      "text/plain": [
       "array([[ 4.3 ,  2.15, -0.  , -2.15, -4.3 ,  4.3 ,  2.15, -0.  , -2.15,\n",
       "        -4.3 ,  4.3 ,  2.15, -0.  , -2.15, -4.3 ,  4.3 ,  2.15, -0.  ,\n",
       "        -2.15, -4.3 ,  4.3 ,  2.15, -0.  , -2.15, -4.3 ],\n",
       "       [ 4.3 ,  4.3 ,  4.3 ,  4.3 ,  4.3 ,  2.15,  2.15,  2.15,  2.15,\n",
       "         2.15, -0.  , -0.  , -0.  , -0.  , -0.  , -2.15, -2.15, -2.15,\n",
       "        -2.15, -2.15, -4.3 , -4.3 , -4.3 , -4.3 , -4.3 ],\n",
       "       [ 1.  ,  1.  ,  1.  ,  1.  ,  1.  ,  1.  ,  1.  ,  1.  ,  1.  ,\n",
       "         1.  ,  1.  ,  1.  ,  1.  ,  1.  ,  1.  ,  1.  ,  1.  ,  1.  ,\n",
       "         1.  ,  1.  ,  1.  ,  1.  ,  1.  ,  1.  ,  1.  ]])"
      ]
     },
     "execution_count": 24,
     "metadata": {},
     "output_type": "execute_result"
    }
   ],
   "source": [
    "x1"
   ]
  },
  {
   "cell_type": "code",
   "execution_count": 25,
   "metadata": {
    "collapsed": false
   },
   "outputs": [
    {
     "data": {
      "text/plain": [
       "array([[ 4.82553401,  2.412767  , -0.        , -2.412767  , -4.82553401,\n",
       "         4.54763441,  2.2738172 , -0.        , -2.2738172 , -4.54763441,\n",
       "         4.3       ,  2.15      , -0.        , -2.15      , -4.3       ,\n",
       "         4.07794197,  2.03897098, -0.        , -2.03897098, -4.07794197,\n",
       "         3.87769249,  1.93884624, -0.        , -1.93884624, -3.87769249],\n",
       "       [ 5.13522603,  5.13522603,  5.13522603,  5.13522603,  5.13522603,\n",
       "         2.41974573,  2.41974573,  2.41974573,  2.41974573,  2.41974573,\n",
       "        -0.        , -0.        , -0.        , -0.        , -0.        ,\n",
       "        -2.1698276 , -2.1698276 , -2.1698276 , -2.1698276 , -2.1698276 ,\n",
       "        -4.12655415, -4.12655415, -4.12655415, -4.12655415, -4.12655415],\n",
       "       [ 1.        ,  1.        ,  1.        ,  1.        ,  1.        ,\n",
       "         1.        ,  1.        ,  1.        ,  1.        ,  1.        ,\n",
       "         1.        ,  1.        ,  1.        ,  1.        ,  1.        ,\n",
       "         1.        ,  1.        ,  1.        ,  1.        ,  1.        ,\n",
       "         1.        ,  1.        ,  1.        ,  1.        ,  1.        ]])"
      ]
     },
     "execution_count": 25,
     "metadata": {},
     "output_type": "execute_result"
    }
   ],
   "source": [
    "x2"
   ]
  },
  {
   "cell_type": "code",
   "execution_count": 26,
   "metadata": {
    "collapsed": false
   },
   "outputs": [
    {
     "data": {
      "text/plain": [
       "array([[ 0.93969262,  0.        ,  0.        ],\n",
       "       [ 0.        ,  1.        ,  0.        ],\n",
       "       [ 0.        , -0.02379977,  0.93969262]])"
      ]
     },
     "execution_count": 26,
     "metadata": {},
     "output_type": "execute_result"
    }
   ],
   "source": [
    "H"
   ]
  },
  {
   "cell_type": "code",
   "execution_count": 27,
   "metadata": {
    "collapsed": false
   },
   "outputs": [
    {
     "name": "stdout",
     "output_type": "stream",
     "text": [
      "(3L, 25L)\n",
      "(3L, 3L)\n"
     ]
    }
   ],
   "source": [
    "print(x1.shape)\n",
    "print(H.shape)"
   ]
  },
  {
   "cell_type": "code",
   "execution_count": 28,
   "metadata": {
    "collapsed": false
   },
   "outputs": [
    {
     "data": {
      "text/plain": [
       "array([[ 4.04067827,  2.02033913,  0.        , -2.02033913, -4.04067827,\n",
       "         4.04067827,  2.02033913,  0.        , -2.02033913, -4.04067827,\n",
       "         4.04067827,  2.02033913,  0.        , -2.02033913, -4.04067827,\n",
       "         4.04067827,  2.02033913,  0.        , -2.02033913, -4.04067827,\n",
       "         4.04067827,  2.02033913,  0.        , -2.02033913, -4.04067827],\n",
       "       [ 4.3       ,  4.3       ,  4.3       ,  4.3       ,  4.3       ,\n",
       "         2.15      ,  2.15      ,  2.15      ,  2.15      ,  2.15      ,\n",
       "         0.        ,  0.        ,  0.        ,  0.        ,  0.        ,\n",
       "        -2.15      , -2.15      , -2.15      , -2.15      , -2.15      ,\n",
       "        -4.3       , -4.3       , -4.3       , -4.3       , -4.3       ],\n",
       "       [ 0.8373536 ,  0.8373536 ,  0.8373536 ,  0.8373536 ,  0.8373536 ,\n",
       "         0.88852311,  0.88852311,  0.88852311,  0.88852311,  0.88852311,\n",
       "         0.93969262,  0.93969262,  0.93969262,  0.93969262,  0.93969262,\n",
       "         0.99086213,  0.99086213,  0.99086213,  0.99086213,  0.99086213,\n",
       "         1.04203164,  1.04203164,  1.04203164,  1.04203164,  1.04203164]])"
      ]
     },
     "execution_count": 28,
     "metadata": {},
     "output_type": "execute_result"
    }
   ],
   "source": [
    "x2_est_h = np.dot(H, x1)\n",
    "x2_est_h "
   ]
  },
  {
   "cell_type": "code",
   "execution_count": 29,
   "metadata": {
    "collapsed": false
   },
   "outputs": [
    {
     "data": {
      "text/plain": [
       "array([[  8.88178420e-16,   4.44089210e-16,   0.00000000e+00,\n",
       "         -4.44089210e-16,  -8.88178420e-16,   8.88178420e-16,\n",
       "          4.44089210e-16,   0.00000000e+00,  -4.44089210e-16,\n",
       "         -8.88178420e-16,   8.88178420e-16,   4.44089210e-16,\n",
       "          0.00000000e+00,  -4.44089210e-16,  -8.88178420e-16,\n",
       "          0.00000000e+00,   0.00000000e+00,   0.00000000e+00,\n",
       "          0.00000000e+00,   0.00000000e+00,   8.88178420e-16,\n",
       "          4.44089210e-16,   0.00000000e+00,  -4.44089210e-16,\n",
       "         -8.88178420e-16],\n",
       "       [  8.88178420e-16,   8.88178420e-16,   8.88178420e-16,\n",
       "          8.88178420e-16,   8.88178420e-16,   4.44089210e-16,\n",
       "          4.44089210e-16,   4.44089210e-16,   4.44089210e-16,\n",
       "          4.44089210e-16,   0.00000000e+00,   0.00000000e+00,\n",
       "          0.00000000e+00,   0.00000000e+00,   0.00000000e+00,\n",
       "          0.00000000e+00,   0.00000000e+00,   0.00000000e+00,\n",
       "          0.00000000e+00,   0.00000000e+00,  -8.88178420e-16,\n",
       "         -8.88178420e-16,  -8.88178420e-16,  -8.88178420e-16,\n",
       "         -8.88178420e-16],\n",
       "       [  0.00000000e+00,   0.00000000e+00,   0.00000000e+00,\n",
       "          0.00000000e+00,   0.00000000e+00,   0.00000000e+00,\n",
       "          0.00000000e+00,   0.00000000e+00,   0.00000000e+00,\n",
       "          0.00000000e+00,   0.00000000e+00,   0.00000000e+00,\n",
       "          0.00000000e+00,   0.00000000e+00,   0.00000000e+00,\n",
       "          0.00000000e+00,   0.00000000e+00,   0.00000000e+00,\n",
       "          0.00000000e+00,   0.00000000e+00,   0.00000000e+00,\n",
       "          0.00000000e+00,   0.00000000e+00,   0.00000000e+00,\n",
       "          0.00000000e+00]])"
      ]
     },
     "execution_count": 29,
     "metadata": {},
     "output_type": "execute_result"
    }
   ],
   "source": [
    "x2_est_h/x2_est_h[2] - x2"
   ]
  },
  {
   "cell_type": "code",
   "execution_count": null,
   "metadata": {
    "collapsed": true
   },
   "outputs": [],
   "source": []
  },
  {
   "cell_type": "markdown",
   "metadata": {},
   "source": [
    "Given X1 and X2 what is the homography returned by OpenCV's `get_homography2D()` function?"
   ]
  },
  {
   "cell_type": "code",
   "execution_count": 30,
   "metadata": {
    "collapsed": false
   },
   "outputs": [
    {
     "data": {
      "text/plain": [
       "array([[  1.00000000e+00,   4.00641641e-16,  -9.68046243e-16],\n",
       "       [ -5.27449667e-17,   1.06417777e+00,  -3.35594010e-16],\n",
       "       [ -3.68732582e-17,  -2.53271888e-02,   1.00000000e+00]])"
      ]
     },
     "execution_count": 30,
     "metadata": {},
     "output_type": "execute_result"
    }
   ],
   "source": [
    "H_est_DLT = cvt.get_homography2D(fp=x1, tp=x2)\n",
    "H_est_DLT"
   ]
  },
  {
   "cell_type": "code",
   "execution_count": 31,
   "metadata": {
    "collapsed": false
   },
   "outputs": [
    {
     "data": {
      "text/plain": [
       "array([[ 1.        ,  0.        ,  0.        ],\n",
       "       [ 0.        ,  1.06417777,  0.        ],\n",
       "       [ 0.        , -0.02532719,  1.        ]])"
      ]
     },
     "execution_count": 31,
     "metadata": {},
     "output_type": "execute_result"
    }
   ],
   "source": [
    "Hnew = H/H[2,2]\n",
    "Hnew"
   ]
  },
  {
   "cell_type": "code",
   "execution_count": 32,
   "metadata": {
    "collapsed": false
   },
   "outputs": [],
   "source": [
    "x2_est_new = np.dot(Hnew, x1)"
   ]
  },
  {
   "cell_type": "code",
   "execution_count": 33,
   "metadata": {
    "collapsed": false
   },
   "outputs": [
    {
     "data": {
      "text/plain": [
       "array([[  0.00000000e+00,   0.00000000e+00,   0.00000000e+00,\n",
       "          0.00000000e+00,   0.00000000e+00,   0.00000000e+00,\n",
       "          0.00000000e+00,   0.00000000e+00,   0.00000000e+00,\n",
       "          0.00000000e+00,   0.00000000e+00,   0.00000000e+00,\n",
       "          0.00000000e+00,   0.00000000e+00,   0.00000000e+00,\n",
       "          0.00000000e+00,   0.00000000e+00,   0.00000000e+00,\n",
       "          0.00000000e+00,   0.00000000e+00,   4.44089210e-16,\n",
       "          2.22044605e-16,   0.00000000e+00,  -2.22044605e-16,\n",
       "         -4.44089210e-16],\n",
       "       [  0.00000000e+00,   0.00000000e+00,   0.00000000e+00,\n",
       "          0.00000000e+00,   0.00000000e+00,   4.44089210e-16,\n",
       "          4.44089210e-16,   4.44089210e-16,   4.44089210e-16,\n",
       "          4.44089210e-16,   0.00000000e+00,   0.00000000e+00,\n",
       "          0.00000000e+00,   0.00000000e+00,   0.00000000e+00,\n",
       "          0.00000000e+00,   0.00000000e+00,   0.00000000e+00,\n",
       "          0.00000000e+00,   0.00000000e+00,  -8.88178420e-16,\n",
       "         -8.88178420e-16,  -8.88178420e-16,  -8.88178420e-16,\n",
       "         -8.88178420e-16],\n",
       "       [  0.00000000e+00,   0.00000000e+00,   0.00000000e+00,\n",
       "          0.00000000e+00,   0.00000000e+00,   0.00000000e+00,\n",
       "          0.00000000e+00,   0.00000000e+00,   0.00000000e+00,\n",
       "          0.00000000e+00,   0.00000000e+00,   0.00000000e+00,\n",
       "          0.00000000e+00,   0.00000000e+00,   0.00000000e+00,\n",
       "          0.00000000e+00,   0.00000000e+00,   0.00000000e+00,\n",
       "          0.00000000e+00,   0.00000000e+00,   0.00000000e+00,\n",
       "          0.00000000e+00,   0.00000000e+00,   0.00000000e+00,\n",
       "          0.00000000e+00]])"
      ]
     },
     "execution_count": 33,
     "metadata": {},
     "output_type": "execute_result"
    }
   ],
   "source": [
    "x2_est_new/x2_est_new[2] - x2"
   ]
  },
  {
   "cell_type": "markdown",
   "metadata": {},
   "source": [
    "The above experiment implies that the homographies H and H/H[2,2] are equivalent!"
   ]
  },
  {
   "cell_type": "code",
   "execution_count": null,
   "metadata": {
    "collapsed": true
   },
   "outputs": [],
   "source": []
  },
  {
   "cell_type": "code",
   "execution_count": null,
   "metadata": {
    "collapsed": true
   },
   "outputs": [],
   "source": []
  },
  {
   "cell_type": "code",
   "execution_count": null,
   "metadata": {
    "collapsed": true
   },
   "outputs": [],
   "source": []
  },
  {
   "cell_type": "markdown",
   "metadata": {
    "collapsed": false
   },
   "source": [
    "### Determination of image plane distance and angles"
   ]
  },
  {
   "cell_type": "code",
   "execution_count": 34,
   "metadata": {
    "collapsed": true
   },
   "outputs": [],
   "source": [
    "def get_zoDash(zo, deDash, de=0, mp=1.0, f=180.0):\n",
    "    \"\"\"return the image plane pivot distance from the origin of {C}\n",
    "    \"\"\"\n",
    "    return deDash + (mp**2 * f * (zo - de)) / (mp * (zo - de) + f)\n",
    "\n",
    "def get_beta(theta, zo, zoDash, deDash, de=0, mp=1):\n",
    "    \"\"\"return the image plane tilt angle \n",
    "    \n",
    "    Parameters\n",
    "    ----------\n",
    "    theta : float\n",
    "        object plane tilt angle\n",
    "    zo : float\n",
    "        object plane distance from origin of {C}\n",
    "    zoDash : float\n",
    "        image plane distance from origin of {C}\n",
    "    deDash : float\n",
    "    de : float\n",
    "    mp : float\n",
    "    \n",
    "    Returns\n",
    "    -------\n",
    "    beta : float\n",
    "        image plane tilt angle\n",
    "    \"\"\"\n",
    "    tanBeta = ((zoDash - deDash) / (mp * (zo - de))) * tand(theta)\n",
    "    return arctand(tanBeta)\n",
    "    \n",
    "\n",
    "def get_theta(beta, zo, zoDash, deDash, de=0, mp=1):\n",
    "    \"\"\"return the image plane tilt angle \n",
    "    \n",
    "    Parameters\n",
    "    ----------\n",
    "    beta : float\n",
    "        sensor plane tilt angle\n",
    "    zo : float\n",
    "        object plane distance from origin of {C}\n",
    "    zoDash : float\n",
    "        image plane distance from origin of {C}\n",
    "    deDash : float\n",
    "    de : float\n",
    "    mp : float\n",
    "    \n",
    "    Returns\n",
    "    -------\n",
    "    theta : float\n",
    "        object plane tilt angle\n",
    "    \"\"\"\n",
    "    tanTheta = ((mp * (zo - de)) / (zoDash - deDash) ) * tand(beta)\n",
    "    return arctand(tanTheta)"
   ]
  },
  {
   "cell_type": "markdown",
   "metadata": {},
   "source": [
    "Fronto-parallel focus on the front plane"
   ]
  },
  {
   "cell_type": "code",
   "execution_count": 35,
   "metadata": {
    "collapsed": false
   },
   "outputs": [
    {
     "data": {
      "text/plain": [
       "186.16217094572636"
      ]
     },
     "execution_count": 35,
     "metadata": {},
     "output_type": "execute_result"
    }
   ],
   "source": [
    "zoDash = get_zoDash(zo=-2641.6, deDash=-7)\n",
    "zoDash"
   ]
  },
  {
   "cell_type": "code",
   "execution_count": 36,
   "metadata": {
    "collapsed": false
   },
   "outputs": [
    {
     "data": {
      "text/plain": [
       "7.218252908210979"
      ]
     },
     "execution_count": 36,
     "metadata": {},
     "output_type": "execute_result"
    }
   ],
   "source": [
    "beta = get_beta(theta=-60.0, zo=-2641.6, zoDash=zoDash, deDash=-7)\n",
    "beta"
   ]
  },
  {
   "cell_type": "code",
   "execution_count": 37,
   "metadata": {
    "collapsed": false
   },
   "outputs": [
    {
     "data": {
      "text/plain": [
       "19.769039658371433"
      ]
     },
     "execution_count": 37,
     "metadata": {},
     "output_type": "execute_result"
    }
   ],
   "source": [
    "beta = get_beta(theta=-78.5, zo=-2641.6, zoDash=zoDash, deDash=-7)\n",
    "beta"
   ]
  },
  {
   "cell_type": "markdown",
   "metadata": {},
   "source": [
    "Fronto-parallel focus on the middle plane"
   ]
  },
  {
   "cell_type": "code",
   "execution_count": 38,
   "metadata": {
    "collapsed": false
   },
   "outputs": [
    {
     "data": {
      "text/plain": [
       "183.0114328090721"
      ]
     },
     "execution_count": 38,
     "metadata": {},
     "output_type": "execute_result"
    }
   ],
   "source": [
    "zoDash = get_zoDash(zo=-3416.3, deDash=-7)\n",
    "zoDash"
   ]
  },
  {
   "cell_type": "code",
   "execution_count": 39,
   "metadata": {
    "collapsed": false
   },
   "outputs": [
    {
     "data": {
      "text/plain": [
       "78.273458193862751"
      ]
     },
     "execution_count": 39,
     "metadata": {},
     "output_type": "execute_result"
    }
   ],
   "source": [
    "theta = get_theta(beta=-15, zo=-3416.3, zoDash=zoDash, deDash=-7)\n",
    "theta"
   ]
  },
  {
   "cell_type": "code",
   "execution_count": 40,
   "metadata": {
    "collapsed": false
   },
   "outputs": [
    {
     "data": {
      "text/plain": [
       "12.120786775054704"
      ]
     },
     "execution_count": 40,
     "metadata": {},
     "output_type": "execute_result"
    }
   ],
   "source": [
    "30*tand(22)"
   ]
  },
  {
   "cell_type": "code",
   "execution_count": 41,
   "metadata": {
    "collapsed": false
   },
   "outputs": [
    {
     "data": {
      "text/plain": [
       "181.07778608825728"
      ]
     },
     "execution_count": 41,
     "metadata": {},
     "output_type": "execute_result"
    }
   ],
   "source": [
    "zoDash = get_zoDash(zo=-4191, deDash=-7)\n",
    "zoDash"
   ]
  },
  {
   "cell_type": "code",
   "execution_count": 42,
   "metadata": {
    "collapsed": false
   },
   "outputs": [
    {
     "data": {
      "text/plain": [
       "80.492247294618195"
      ]
     },
     "execution_count": 42,
     "metadata": {},
     "output_type": "execute_result"
    }
   ],
   "source": [
    "theta = get_theta(beta=-15, zo=-4191, zoDash=zoDash, deDash=-7)\n",
    "theta"
   ]
  },
  {
   "cell_type": "markdown",
   "metadata": {
    "collapsed": true
   },
   "source": [
    "## Registration and blending of images"
   ]
  },
  {
   "cell_type": "code",
   "execution_count": 43,
   "metadata": {
    "collapsed": true
   },
   "outputs": [],
   "source": [
    "from __future__ import print_function, division\n",
    "import os\n",
    "import gc\n",
    "import cv2\n",
    "import numpy as np\n",
    "import iutils.image.general as ig\n",
    "from scipy.misc import imread, imsave\n",
    "import scipy.ndimage as ndi\n",
    "import matplotlib.pyplot as plt\n",
    "import iutils.cv.transforms as cvt\n",
    "#from IPython.display import display\n",
    "#from ipywidgets import interactive\n",
    "\n",
    "\n",
    "sind = lambda x : np.sin(np.deg2rad(x))\n",
    "cosd = lambda x : np.cos(np.deg2rad(x))\n",
    "tand = lambda x : np.tan(np.deg2rad(x))\n",
    "arcsind = lambda x : np.rad2deg(np.arcsin(x))\n",
    "arctand = lambda x : np.rad2deg(np.arctan(x))"
   ]
  },
  {
   "cell_type": "code",
   "execution_count": 44,
   "metadata": {
    "collapsed": false
   },
   "outputs": [],
   "source": [
    "%matplotlib inline"
   ]
  },
  {
   "cell_type": "code",
   "execution_count": 107,
   "metadata": {
    "collapsed": true
   },
   "outputs": [],
   "source": [
    "\n"
   ]
  },
  {
   "cell_type": "code",
   "execution_count": null,
   "metadata": {
    "collapsed": false
   },
   "outputs": [],
   "source": []
  },
  {
   "cell_type": "code",
   "execution_count": null,
   "metadata": {
    "collapsed": false
   },
   "outputs": [],
   "source": []
  },
  {
   "cell_type": "code",
   "execution_count": 50,
   "metadata": {
    "collapsed": true
   },
   "outputs": [],
   "source": [
    "# Inter-image homography\n",
    "\n",
    "def get_inter_image_homography(beta2, beta1, p, d, zoDash, xo, yo):\n",
    "    \"\"\"returns the inter-image homography matrix H(beta2, beta1) \n",
    "    \n",
    "    I2 = H(beta2, beta1) I1\n",
    "    \n",
    "    \"\"\"\n",
    "    A = np.array([[cosd(beta2)/cosd(beta1),               0                 ,                       0           ],\n",
    "                  [       0      ,                        1                 ,                       0           ],\n",
    "                  [       0      ,  sind(beta1 - beta2)/((zoDash - d)*cosd(beta1))  ,  cosd(beta2)/cosd(beta2)]])\n",
    "    \n",
    "    K = np.array([[-1/px,    0  ,   xo],\n",
    "                  [  0  ,  -1/py,   yo],\n",
    "                  [  0  ,    0,     1]])\n",
    "    Kinv = np.linalg.inv(K)\n",
    "    H = np.dot( K  , np.dot(A, Kinv))\n",
    "    \n",
    "    return H"
   ]
  },
  {
   "cell_type": "code",
   "execution_count": 46,
   "metadata": {
    "collapsed": true
   },
   "outputs": [],
   "source": [
    "# Image information\n",
    "# 002: + 19°   \n",
    "# 003: + 15°\n",
    "# 004: + 10°\n",
    "# 006: - 10°\n",
    "\n",
    "px = py = 0.006\n",
    "xo = 4182//2\n",
    "yo = 4772//2\n",
    "p = 0.006\n",
    "d = -7.0\n",
    "zoDash = 181.0\n",
    "\n",
    "\n",
    "unregisteredImgNames = ['bild002.png', 'bild003.png', 'bild004.png', 'bild006.png']\n",
    "sensorRotationAngles = [19.0, 15.0, 10.0, -10.0]\n",
    "unregisteredImgDir = \"C:\\\\thesis_images\\\\2016-12-10\\\\unregistered_images\"\n",
    "registeredImgDir = \"C:\\\\thesis_images\\\\2016-12-10\\\\registered_images\""
   ]
  },
  {
   "cell_type": "code",
   "execution_count": 51,
   "metadata": {
    "collapsed": false
   },
   "outputs": [
    {
     "name": "stdout",
     "output_type": "stream",
     "text": [
      "beta = 19.0\n",
      "H =\n",
      " [[  9.22644675e-01  -2.12008740e-02  -1.61749985e+02]\n",
      " [  0.00000000e+00   9.51616178e-01  -5.77218991e+01]\n",
      " [  0.00000000e+00   1.01391076e-05   1.00000000e+00]]\n",
      "\n",
      "\n",
      "beta = 15.0\n",
      "H =\n",
      " [[  9.47256541e-01  -1.69382095e-02  -1.10286572e+02]\n",
      " [  0.00000000e+00   9.61344268e-01  -4.61162883e+01]\n",
      " [  0.00000000e+00   8.10053059e-06   1.00000000e+00]]\n",
      "\n",
      "\n",
      "beta = 10.0\n",
      "H =\n",
      " [[  9.71955465e-01  -1.14370119e-02  -5.86411219e+01]\n",
      " [  0.00000000e+00   9.73898890e-01  -3.11386240e+01]\n",
      " [  0.00000000e+00   5.46963742e-06   1.00000000e+00]]\n",
      "\n",
      "\n",
      "beta = -10.0\n",
      "H =\n",
      " [[  9.98004490e-01   1.17435310e-02  -4.17261113e+00]\n",
      " [  0.00000000e+00   1.02680064e+00   3.19731589e+01]\n",
      " [  0.00000000e+00  -5.61622719e-06   1.00000000e+00]]\n",
      "\n",
      "\n"
     ]
    }
   ],
   "source": [
    "for uri, beta in zip(unregisteredImgNames, sensorRotationAngles):\n",
    "    unRegImg = imread(os.path.join(unregisteredImgDir, uri))\n",
    "    rows, cols, _ = unRegImg.shape\n",
    "    H = get_inter_image_homography(beta, 0, p, d, zoDash, xo, yo)\n",
    "    H = H/H[2,2]\n",
    "    print('beta =', beta)\n",
    "    print('H =\\n', H)\n",
    "    print('\\n')\n",
    "    regImg = cv2.warpPerspective(unRegImg, H, (cols, rows))\n",
    "    imsave(os.path.join(registeredImgDir, uri), regImg)"
   ]
  },
  {
   "cell_type": "code",
   "execution_count": null,
   "metadata": {
    "collapsed": false
   },
   "outputs": [],
   "source": []
  },
  {
   "cell_type": "code",
   "execution_count": 114,
   "metadata": {
    "collapsed": true
   },
   "outputs": [],
   "source": []
  },
  {
   "cell_type": "code",
   "execution_count": null,
   "metadata": {
    "collapsed": true
   },
   "outputs": [],
   "source": []
  },
  {
   "cell_type": "code",
   "execution_count": null,
   "metadata": {
    "collapsed": false
   },
   "outputs": [],
   "source": []
  },
  {
   "cell_type": "code",
   "execution_count": null,
   "metadata": {
    "collapsed": false
   },
   "outputs": [],
   "source": []
  },
  {
   "cell_type": "code",
   "execution_count": 120,
   "metadata": {
    "collapsed": false
   },
   "outputs": [],
   "source": []
  },
  {
   "cell_type": "code",
   "execution_count": null,
   "metadata": {
    "collapsed": false
   },
   "outputs": [],
   "source": []
  },
  {
   "cell_type": "code",
   "execution_count": null,
   "metadata": {
    "collapsed": true
   },
   "outputs": [],
   "source": []
  },
  {
   "cell_type": "code",
   "execution_count": null,
   "metadata": {
    "collapsed": true
   },
   "outputs": [],
   "source": []
  }
 ],
 "metadata": {
  "kernelspec": {
   "display_name": "Python 2",
   "language": "python",
   "name": "python2"
  },
  "language_info": {
   "codemirror_mode": {
    "name": "ipython",
    "version": 2
   },
   "file_extension": ".py",
   "mimetype": "text/x-python",
   "name": "python",
   "nbconvert_exporter": "python",
   "pygments_lexer": "ipython2",
   "version": "2.7.11"
  }
 },
 "nbformat": 4,
 "nbformat_minor": 0
}
