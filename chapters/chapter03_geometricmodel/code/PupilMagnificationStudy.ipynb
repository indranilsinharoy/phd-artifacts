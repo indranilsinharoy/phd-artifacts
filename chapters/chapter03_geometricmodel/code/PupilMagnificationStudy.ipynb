{
 "cells": [
  {
   "cell_type": "markdown",
   "metadata": {},
   "source": [
    "# Study of Pupil magnification"
   ]
  },
  {
   "cell_type": "markdown",
   "metadata": {},
   "source": [
    "## Survey of pupil magnification in lens designs that form *real* images"
   ]
  },
  {
   "cell_type": "code",
   "execution_count": 1,
   "metadata": {
    "collapsed": false
   },
   "outputs": [],
   "source": [
    "# imports\n",
    "from __future__ import print_function, division\n",
    "import os\n",
    "import numpy as np\n",
    "import matplotlib.pyplot as plt\n",
    "from IPython.display import Math, display\n",
    "import pyzdde.zdde as pyz\n",
    "from geometric_model_zemax_commons import * "
   ]
  },
  {
   "cell_type": "code",
   "execution_count": 2,
   "metadata": {
    "collapsed": false
   },
   "outputs": [],
   "source": [
    "%matplotlib inline"
   ]
  },
  {
   "cell_type": "markdown",
   "metadata": {},
   "source": [
    "### Functions for retrieving and plotting pupil magnification data from Zemax files "
   ]
  },
  {
   "cell_type": "markdown",
   "metadata": {},
   "source": [
    "#### Function to retrieve pupil magnification data"
   ]
  },
  {
   "cell_type": "markdown",
   "metadata": {},
   "source": [
    "Note that irrespective of the Lens Unit set in the lens file, Zemax always returns the focal length in mm, so there is no need to check and/or change the lens unit before getting the focal length."
   ]
  },
  {
   "cell_type": "code",
   "execution_count": 3,
   "metadata": {
    "collapsed": true
   },
   "outputs": [],
   "source": [
    "def get_pupilMagnification_data(ln):\n",
    "    \"\"\"return pupil magnification and other relevant data\n",
    "    \n",
    "    Parameters\n",
    "    ----------\n",
    "    ln : object\n",
    "        pyzdde object\n",
    "    \n",
    "    Returns\n",
    "    -------\n",
    "    zFileName : string\n",
    "        zmx file name (without extension and path)\n",
    "    zTitle : string\n",
    "        zmx lens title\n",
    "    fl : real\n",
    "        focal length (mm)\n",
    "    imgFNum : real\n",
    "        the image space F/# is the infinite conjugate paraxial F/# \n",
    "        i.e. eff. focal length / paraxial entrance pupil diameter\n",
    "    mp : real\n",
    "        pupil magnification \n",
    "    \"\"\"\n",
    "    LENS_TITLE = 16\n",
    "    zfileName = os.path.split(ln.zGetFile())[1].split('.')[0]\n",
    "    zTitle = ln.zGetSystemProperty(code=LENS_TITLE)\n",
    "    mp = ln.zGetPupilMagnification()\n",
    "    imgNAper = ln.zGetImageSpaceNA()\n",
    "    imgFNum = pyz.numAper2fnum(imgNAper) if imgNAper else np.Inf\n",
    "    fl = ln.zGetFirst().EFL\n",
    "    return zfileName, zTitle, fl, imgFNum, mp\n"
   ]
  },
  {
   "cell_type": "markdown",
   "metadata": {},
   "source": [
    "#### Function to generate pupil magnification data files"
   ]
  },
  {
   "cell_type": "code",
   "execution_count": 4,
   "metadata": {
    "collapsed": false
   },
   "outputs": [],
   "source": [
    "def create_pupil_mag_data_files(dirList):\n",
    "    \"\"\"creates text files in the current directory with names\n",
    "    \"pupil_mag_data_xxx.txt\". \n",
    "    \n",
    "    Parameters\n",
    "    ----------\n",
    "    dirList : list of strings\n",
    "        list of directory names (strings) under \"<curr_dir>\\zmxfiles\".\n",
    "        Each directory in the ``dirList`` contain zemax files\n",
    "        \n",
    "    Returns\n",
    "    -------\n",
    "    None\n",
    "    \n",
    "    Notes\n",
    "    -----\n",
    "    1. Each file contains data (as shown below) produced from the \n",
    "       zmx files present in the directory named \"xxx\", where, \n",
    "       \"xxx\" are directory names in the ``dirList``, such as \n",
    "       \"doublegauss\", \"doubleMeniscus\", etc.\n",
    "    \n",
    "       Format of pupil magnification data:\n",
    "    \n",
    "       FILENAME, LENS TITLE, FOCAL LENGTH (mm), F-NUMBER, PUPIL MAG\n",
    "    \n",
    "       E.g. E_001, COOKE TRIPLET ANASTIGMAT, 127.04, 3.50, 1.0197\n",
    "    \n",
    "    2. Call this function to generate new data. Data files shall be \n",
    "       overwritten.\n",
    "    \"\"\"\n",
    "    currDir = os.path.join(os.getcwd(), 'zmxfiles')\n",
    "    ln = pyz.createLink()\n",
    "    for eachDir in dirList:\n",
    "        eachDirPath = os.path.join(currDir, eachDir)\n",
    "        fnames = [os.path.join(eachDirPath, zfile)\n",
    "                  for zfile in os.listdir(eachDirPath) if zfile.lower().endswith(\".zmx\")]\n",
    "        txtFileName = 'pupil_mag_data_{}.txt'.format(eachDir)\n",
    "        with open(txtFileName, 'w') as dfile:\n",
    "            for eachFile in fnames:\n",
    "                ln.zLoadFile(eachFile)\n",
    "                data = get_pupilMagnification_data(ln)\n",
    "                if data[3] < 5000: # if f-number are < 5000\n",
    "                    dfile.write('{}, {}, {:0.2f}, {:0.2f}, {:0.4f}\\n'\n",
    "                                .format(data[0], data[1].replace(',','-'),\n",
    "                                        data[2], data[3], data[4]))\n",
    "    ln.close()\n",
    "    print('Created data files in the directory:\\n{}'.format(currDir))"
   ]
  },
  {
   "cell_type": "markdown",
   "metadata": {},
   "source": [
    "#### Function to plot pupil magnification data"
   ]
  },
  {
   "cell_type": "code",
   "execution_count": 5,
   "metadata": {
    "collapsed": false
   },
   "outputs": [],
   "source": [
    "def plot_pupil_magnification(dirList, legTxt, cols, which='focalLength', xMax=16, \n",
    "                             yMax=None, savefig=False, figFileName=None):\n",
    "    \"\"\"function to create a scatter plot from pupil magnification data\n",
    "    \n",
    "    Parameters\n",
    "    ----------\n",
    "    dirList : list\n",
    "        list of directory names \n",
    "    legTxt : list\n",
    "        list of legend text\n",
    "    cols : list\n",
    "        list of colors\n",
    "    which : string, optional\n",
    "        `focalLength` or `fnumber` to plot the pupil mag. against\n",
    "        focal length or fnumber.\n",
    "    xMax : real, optional\n",
    "        the maximum value of pupil magnification to plot\n",
    "        i.e. maximum x-axis value. The x-axis is always logarithmically\n",
    "        scaled with base 2.\n",
    "    yMax : real, optional\n",
    "        the maximum value of y-axis to plot. If `yMax` > 1000, then the\n",
    "        y-axis is logarithmically scaled with base 10.\n",
    "    savefig : bool, optional\n",
    "        whether to save the figure in the current directory\n",
    "    figFileName : bool, optional\n",
    "        filename for the figure if it is going to be saved. If not\n",
    "        given, then the file name \"pupil_mag_plot.png\" is used.\n",
    "        \n",
    "    Returns\n",
    "    -------\n",
    "    None\n",
    "    \"\"\"\n",
    "    if (len(dirList) * len(legTxt) * len(cols) / len(cols)**3) - 1:\n",
    "        raise ValueError, 'The lists must have equal length!'\n",
    "    \n",
    "    curDir = os.getcwd()\n",
    "    fig, ax = plt.subplots(nrows=1, ncols=1, figsize=(10, 5))\n",
    "    \n",
    "    # actual plot of the data\n",
    "    ydataIndex = 3 if which == 'fnumber' else 2\n",
    "    for i, each in enumerate(dirList):\n",
    "        txtFileName = os.path.join(curDir, 'pupil_mag_data_{}.txt'.format(each))\n",
    "        ydata = []\n",
    "        pupilmag = []\n",
    "        with open(txtFileName, 'r') as dfile:\n",
    "            for line in dfile:\n",
    "                data = line.rstrip().split(',')\n",
    "                ydata.append(abs(float(data[ydataIndex])))\n",
    "                pupilmag.append(float(data[4]))\n",
    "        ax.scatter(pupilmag, ydata, c=cols[i], s=50, alpha=0.7, lw=0.4, label=legTxt[i])\n",
    "\n",
    "    # figure decorations\n",
    "    if which == 'focalLength':\n",
    "        ylabel = 'Focal Length (mm)'\n",
    "    else:\n",
    "        ylabel = 'F/# (infinite conjugate)'\n",
    "    ax.set_ylabel(ylabel, fontsize=14)\n",
    "    ax.set_xlabel('Pupil Magnification ($m_p$)', fontsize=14)\n",
    "    \n",
    "    #set axis limits\n",
    "    ax.set_xlim(0, xMax)\n",
    "    \n",
    "    if yMax == None:\n",
    "        yMax = 20.25 if which == 'fnumber' else 250\n",
    "    \n",
    "    \n",
    "    if yMax < 1000: # if yMax > 1000, use log10 scale for y\n",
    "        yMin = -0.1 if which == 'fnumber' else -5\n",
    "        ax.set_ylim(yMin, yMax)\n",
    "    else:\n",
    "        ax.set_ylim(ymin=0) \n",
    "    \n",
    "    #set spines and tick positions, x-axis scale\n",
    "    ax.spines['right'].set_visible(False)\n",
    "    ax.spines['top'].set_visible(False)\n",
    "    ax.xaxis.set_ticks_position('bottom')\n",
    "    ax.yaxis.set_ticks_position('left')\n",
    "    \n",
    "    # scale x-axis\n",
    "    ax.set_xscale(value='symlog', basex=2, linthreshx=1.0, \n",
    "                  subsx=[0.25, 0.5, 0.75, 4, 8])\n",
    "    ticloc = ax.xaxis.get_ticklocs()\n",
    "    ax.xaxis.set_ticklabels(ticloc)\n",
    "    \n",
    "    # scale y-axis if yMax > 1000\n",
    "    if yMax > 1000:\n",
    "        ax.set_yscale(value='symlog', basey=10, linthreshy=1.0)\n",
    "        ticloc = ax.yaxis.get_ticklocs()\n",
    "        ax.yaxis.set_ticklabels(ticloc)\n",
    "    # vertical line at x=1.0 to show mp=1\n",
    "    ax.axvline(x=1.0, color='k', linestyle='dashed', \n",
    "               linewidth=0.7, alpha=0.4)\n",
    "    # mark x=0.5 if xMax=16\n",
    "    if xMax==16:\n",
    "        xtickCol = ax.xaxis.get_ticklabels()[0].get_color()\n",
    "        xtickFontSize = ax.xaxis.get_ticklabels()[0].get_fontsize()\n",
    "        fig.text(x=0.243, y=0.075, s='0.5', fontsize=xtickFontSize, color=xtickCol)\n",
    "\n",
    "    ax.legend(fontsize=12, scatterpoints=1, markerscale=1.0, scatteryoffsets=[0.5])\n",
    "    \n",
    "    # \n",
    "    if savefig:\n",
    "        figname = figFileName if figFileName else \"pupil_mag_plot.png\"\n",
    "        fig.savefig(figname, dpi=400, bbox_inches='tight', pad_inches=0.04)\n",
    "\n",
    "    plt.show()"
   ]
  },
  {
   "cell_type": "markdown",
   "metadata": {},
   "source": [
    "### Pupil magnification data for imaging lenses "
   ]
  },
  {
   "cell_type": "markdown",
   "metadata": {},
   "source": [
    "Generate the pupil magnification data for imaging lenses"
   ]
  },
  {
   "cell_type": "code",
   "execution_count": 6,
   "metadata": {
    "collapsed": false
   },
   "outputs": [
    {
     "name": "stdout",
     "output_type": "stream",
     "text": [
      "Created data files in the directory:\n",
      "C:\\GIT_REPOSITORIES\\phd-artifacts\\chapters\\chapter03_geometricmodel\\code\\zmxfiles\n"
     ]
    }
   ],
   "source": [
    "# Call this function if new data has to be generated.\n",
    "# Pupil magnification data for imaging lenses in the database\n",
    "zmxLensDirList = ['doublegauss', 'doubleMeniscus', \n",
    "                  'inversetele_retrofocus_wideangle',\n",
    "                  'microscopeObjectives', 'telephoto', 'triplets']\n",
    "\n",
    "create_pupil_mag_data_files(zmxLensDirList)"
   ]
  },
  {
   "cell_type": "markdown",
   "metadata": {
    "collapsed": true
   },
   "source": [
    "##### Plot of focal length vs pupil magnification for imaging lenses "
   ]
  },
  {
   "cell_type": "code",
   "execution_count": 9,
   "metadata": {
    "collapsed": false
   },
   "outputs": [
    {
     "data": {
      "image/png": "[encoded data removed]",
      "text/plain": [
       "<matplotlib.figure.Figure at 0xabeba58>"
      ]
     },
     "metadata": {},
     "output_type": "display_data"
    }
   ],
   "source": [
    "zmxLensDirList = ['triplets', 'telephoto','doublegauss', 'doubleMeniscus',\n",
    "                  'inversetele_retrofocus_wideangle', 'microscopeObjectives']\n",
    "\n",
    "legendtxt = ['Triplets', 'Telephoto', 'Double Gauss', 'Double Meniscus',\n",
    "          'Retrofocus wide-angle', 'Microscope Objectives']\n",
    "\n",
    "colors = ['#4daf4a', '#377eb8', '#ff7f00', '#e41a1c',  '#f781bf', '#984ea3'] \n",
    "\n",
    "plot_pupil_magnification(zmxLensDirList, legendtxt, colors, savefig=False)"
   ]
  },
  {
   "cell_type": "markdown",
   "metadata": {},
   "source": [
    "##### Plot of F-number vs pupil magnification for imaging lenses "
   ]
  },
  {
   "cell_type": "code",
   "execution_count": 10,
   "metadata": {
    "collapsed": false
   },
   "outputs": [
    {
     "data": {
      "image/png": "[encoded data removed]",
      "text/plain": [
       "<matplotlib.figure.Figure at 0xabebcf8>"
      ]
     },
     "metadata": {},
     "output_type": "display_data"
    }
   ],
   "source": [
    "plot_pupil_magnification(zmxLensDirList, legendtxt, colors, which='fnumber')"
   ]
  },
  {
   "cell_type": "markdown",
   "metadata": {},
   "source": [
    "#### Inference"
   ]
  },
  {
   "cell_type": "markdown",
   "metadata": {},
   "source": [
    "We can infer the following by observing the plots:\n",
    "\n",
    "1. There is no correlation between pupil magnification ($m_p$) and focal length or F-number.\n",
    "2. Telephoto lenses have $m_p < 1.0$ (an explanation follows).\n",
    "3. Retro-focus wide-angle (or inverse telephoto) lenses have $m_p > 1.0$.\n",
    "4. Double meniscus lenses, which are tend to be exhibit symmetry about a plane through the lens center, have $m_p \\approx 1.0$.  \n",
    "\n",
    "The (effective) focal length of a normal lens is the distance from the rear principal plane to the plane in which an object at infinity is brought to focus. The distance required to focus an object at a finite distance is greater than the focal length as predicted by the Gaussian lens equation. The rear principal plane is located within the physical extents in a normal lens. Therefore, normal (or \"true\") long focal length lenses are at least as long as the focal length of the lens. \n",
    "\n",
    "To make *long* focal length lenses within a compact body, lens designers employ a negative focal length lens (or a group of elements with net negative focal length) behind a positive focal length lens (or a group of elements with net positive focal length). This system of combined lenses attains a positive *long* focal length within a short body (see [ref] for the governing formulae) and behaves identical to an equivalent true long focal length in terms the geometric characteristics of the image. For example, the length of a 200 mm normal lens would be at least 200 mm (at infinite conjugate). However, combining a 75 mm and a -25 mm focal length lens with a 60 mm separation produces a two-lens system with effective focal length equal to 200 mm and having a back focal length (BFL) of 40 mm. Therefore, the body of this combined lens system is only 100 mm (the separation distance plus the BFL) at infinite conjugate, which is half the length of the true long focal length lens. \n",
    "\n",
    "While the negative focal length lens (or group of elements) compacts the design, qua diverging lens, it also forms a diminutive image of the stop viewed from the image side compared to the image of the stop formed by the positive focal length elements viewed from the object side. In other words, a consequence of the telephoto design is that the exit pupil becomes smaller compared to the entrance pupil. Therefore, the pupil magnification for telephoto lenses is less than one. \n",
    "\n",
    "On the other hand, retro focus (or inverse telephoto) lens designs employ a negative focal length lens (or group) in front of a positive focal length lens (or group) in order to create sufficient space between the lens and the sensor in short focal length wide angle lenses. This arrangement results in an entrance pupil that is relatively smaller compared to the exit pupil. Therefore, the pupil magnification for retro-focus wide-angle lenses is greater than one.  \n",
    "\n",
    "\n"
   ]
  },
  {
   "cell_type": "code",
   "execution_count": 11,
   "metadata": {
    "collapsed": true
   },
   "outputs": [],
   "source": [
    "# Other statistics\n",
    "curDir = os.getcwd()\n",
    "zmxLensDirList = ['triplets', 'telephoto','doublegauss',  \n",
    "                  'doubleMeniscus', 'microscopeObjectives',\n",
    "                  'inversetele_retrofocus_wideangle']\n",
    "pupilmag = []\n",
    "\n",
    "for i, each in enumerate(zmxLensDirList):\n",
    "    txtFileName = os.path.join(curDir, 'pupil_mag_data_{}.txt'.format(each))\n",
    "    with open(txtFileName, 'r') as dfile:\n",
    "        for line in dfile:\n",
    "            data = line.rstrip().split(',')\n",
    "            pupilmag.append(float(data[4]))\n",
    "            \n",
    "pupilmag = np.array(pupilmag)"
   ]
  },
  {
   "cell_type": "code",
   "execution_count": 12,
   "metadata": {
    "collapsed": false
   },
   "outputs": [
    {
     "data": {
      "text/plain": [
       "120"
      ]
     },
     "execution_count": 12,
     "metadata": {},
     "output_type": "execute_result"
    }
   ],
   "source": [
    "len(pupilmag)"
   ]
  },
  {
   "cell_type": "code",
   "execution_count": 13,
   "metadata": {
    "collapsed": false
   },
   "outputs": [
    {
     "name": "stdout",
     "output_type": "stream",
     "text": [
      "mean m_p = 1.8309, median m_p = 1.0449\n"
     ]
    }
   ],
   "source": [
    "# mean and median\n",
    "print('mean m_p = {:0.4f}, median m_p = {:0.4f}'.format(np.mean(pupilmag), np.median(pupilmag)))"
   ]
  },
  {
   "cell_type": "code",
   "execution_count": 14,
   "metadata": {
    "collapsed": false
   },
   "outputs": [
    {
     "name": "stdout",
     "output_type": "stream",
     "text": [
      "Number of lenses = 20\n",
      "% of lenses = 17\n"
     ]
    }
   ],
   "source": [
    "# percentage of pupil magnification near 1.0\n",
    "pupilmagNearOne = np.sum(np.logical_and(0.95 < pupilmag, pupilmag < 1.05)) # within 5% of 1.0\n",
    "percentagePupilmagNearOne = np.round((100*pupilmagNearOne)/len(pupilmag))\n",
    "print('Number of lenses = {}\\n% of lenses = {:0.0f}'.format(pupilmagNearOne, percentagePupilmagNearOne))"
   ]
  },
  {
   "cell_type": "code",
   "execution_count": 15,
   "metadata": {
    "collapsed": false
   },
   "outputs": [
    {
     "data": {
      "text/plain": [
       "0.16666666666666666"
      ]
     },
     "execution_count": 15,
     "metadata": {},
     "output_type": "execute_result"
    }
   ],
   "source": [
    "1/6 # one is six lens"
   ]
  },
  {
   "cell_type": "code",
   "execution_count": 16,
   "metadata": {
    "collapsed": false
   },
   "outputs": [
    {
     "name": "stdout",
     "output_type": "stream",
     "text": [
      "Number of lenses = 112\n",
      "% of lenses = 93\n"
     ]
    }
   ],
   "source": [
    "# percentage of pupil magnification greater than 0.5\n",
    "pupilmagGrt05 = np.sum(pupilmag > 0.5)\n",
    "percentagepupilmagGrt05 = np.round((100*pupilmagGrt05)/len(pupilmag))\n",
    "print('Number of lenses = {}\\n% of lenses = {:0.0f}'.format(pupilmagGrt05, percentagepupilmagGrt05))"
   ]
  },
  {
   "cell_type": "markdown",
   "metadata": {
    "collapsed": true
   },
   "source": [
    "### Pupil magnification data for imaging and non-lenses "
   ]
  },
  {
   "cell_type": "markdown",
   "metadata": {},
   "source": [
    "#### Pupil magnification of afocal systems and beam expanders"
   ]
  },
  {
   "cell_type": "code",
   "execution_count": 17,
   "metadata": {
    "collapsed": false
   },
   "outputs": [
    {
     "name": "stdout",
     "output_type": "stream",
     "text": [
      "Created data files in the directory:\n",
      "C:\\GIT_REPOSITORIES\\phd-artifacts\\chapters\\chapter03_geometricmodel\\code\\zmxfiles\n"
     ]
    }
   ],
   "source": [
    "# Pupil magnification data for afocals, and beam-expanders\n",
    "zmxLensDirList = ['afocal_beamexpanders',]\n",
    "\n",
    "create_pupil_mag_data_files(zmxLensDirList)"
   ]
  },
  {
   "cell_type": "code",
   "execution_count": 18,
   "metadata": {
    "collapsed": false
   },
   "outputs": [
    {
     "name": "stdout",
     "output_type": "stream",
     "text": [
      "\tLens name\t\t\tPupil magnification\n",
      " 5X HENE BEAM EXPANDER............................4.9981\n",
      " 50X HENE BEAM EXPANDER...........................50.0041\n",
      " 4X TELESCOPE.....................................0.2563\n",
      " ALBADA VIEWFINDER................................1.2920\n",
      " 2X ANAMORPHIC LENS...............................1.9882\n",
      " Front conversion afocal, example 1, 4929068......0.7149\n",
      " Viewfinder, zoom, embodiment 1, 4906078..........2.1836\n"
     ]
    }
   ],
   "source": [
    "curDir = os.getcwd()\n",
    "print('\\tLens name\\t\\t\\tPupil magnification')\n",
    "for i, each in enumerate(zmxLensDirList):\n",
    "    txtFileName = os.path.join(curDir, 'pupil_mag_data_{}.txt'.format(each))\n",
    "    with open(txtFileName, 'r') as dfile:\n",
    "        for line in dfile:\n",
    "            data = line.rstrip().split(',')\n",
    "            lensName = data[1].replace('-', ',')\n",
    "            print('{:.<50}{:2.4f}'.format(lensName, float(data[4])))"
   ]
  },
  {
   "cell_type": "markdown",
   "metadata": {},
   "source": [
    "#### Pupil magnification of mirror telescopes and catadioptric systems"
   ]
  },
  {
   "cell_type": "code",
   "execution_count": 19,
   "metadata": {
    "collapsed": false
   },
   "outputs": [
    {
     "name": "stdout",
     "output_type": "stream",
     "text": [
      "Created data files in the directory:\n",
      "C:\\GIT_REPOSITORIES\\phd-artifacts\\chapters\\chapter03_geometricmodel\\code\\zmxfiles\n"
     ]
    }
   ],
   "source": [
    "# Pupil magnification data for mirror telescopes and catadioptric systems\n",
    "zmxLensDirList = ['mirror_telescopes_catadioptric',]\n",
    "create_pupil_mag_data_files(zmxLensDirList)"
   ]
  },
  {
   "cell_type": "code",
   "execution_count": 20,
   "metadata": {
    "collapsed": false
   },
   "outputs": [],
   "source": [
    "curDir = os.getcwd()\n",
    "focallength = []\n",
    "pupilmag = []\n",
    "for i, each in enumerate(zmxLensDirList):\n",
    "    txtFileName = os.path.join(curDir, 'pupil_mag_data_{}.txt'.format(each))\n",
    "    with open(txtFileName, 'r') as dfile:\n",
    "        for line in dfile:\n",
    "            data = line.rstrip().split(',')\n",
    "            focallength.append(abs(float(data[2])))\n",
    "            pupilmag.append(float(data[4]))\n",
    "            \n",
    "pupilmag = np.array(pupilmag)\n",
    "focallength = np.array(focallength)"
   ]
  },
  {
   "cell_type": "code",
   "execution_count": 21,
   "metadata": {
    "collapsed": false
   },
   "outputs": [
    {
     "name": "stdout",
     "output_type": "stream",
     "text": [
      "Number of lenses: 75\n",
      "Maximum value of focal length: 57611.92\n",
      "Minimum value of focal length: 4.0\n",
      "Maximum value of pupil magnification: 303.364\n",
      "Minimum value of pupil magnification: 0.0633\n"
     ]
    }
   ],
   "source": [
    "print('Number of lenses:', len(focallength))\n",
    "print('Maximum value of focal length:', np.max(focallength))\n",
    "print('Minimum value of focal length:', np.min(focallength))\n",
    "print('Maximum value of pupil magnification:', np.max(pupilmag))\n",
    "print('Minimum value of pupil magnification:', np.min(pupilmag))\n"
   ]
  },
  {
   "cell_type": "markdown",
   "metadata": {},
   "source": [
    "Plot the pupil magnification data for the mirror telescopes and catadioptric lenses"
   ]
  },
  {
   "cell_type": "code",
   "execution_count": 22,
   "metadata": {
    "collapsed": false
   },
   "outputs": [
    {
     "data": {
      "image/png": "[encoded data removed]",
      "text/plain": [
       "<matplotlib.figure.Figure at 0xce1ce48>"
      ]
     },
     "metadata": {},
     "output_type": "display_data"
    }
   ],
   "source": [
    "zmxLensDirList = ['mirror_telescopes_catadioptric',]\n",
    "legendtxt = ['Mirror telescopes & Catadioptric', ]\n",
    "colors = ['#e41a1c',] \n",
    "\n",
    "plot_pupil_magnification(zmxLensDirList, legendtxt, colors, xMax=16, yMax=6000)"
   ]
  },
  {
   "cell_type": "markdown",
   "metadata": {},
   "source": [
    "## Variation of pupil magnification in a paraxial double lens system of constant focal length"
   ]
  },
  {
   "cell_type": "code",
   "execution_count": 1,
   "metadata": {
    "collapsed": false
   },
   "outputs": [],
   "source": [
    "%load_ext autoreload"
   ]
  },
  {
   "cell_type": "code",
   "execution_count": 2,
   "metadata": {
    "collapsed": true
   },
   "outputs": [],
   "source": [
    "%autoreload 1 "
   ]
  },
  {
   "cell_type": "code",
   "execution_count": 3,
   "metadata": {
    "collapsed": true
   },
   "outputs": [],
   "source": [
    "# imports\n",
    "from __future__ import print_function, division\n",
    "import os\n",
    "import numpy as np\n",
    "import matplotlib.pyplot as plt\n",
    "from IPython.display import Math, display\n",
    "import pyzdde.zdde as pyz\n",
    "%matplotlib inline"
   ]
  },
  {
   "cell_type": "code",
   "execution_count": 4,
   "metadata": {
    "collapsed": true
   },
   "outputs": [],
   "source": [
    "%aimport geometric_model_zemax_commons\n",
    "from geometric_model_zemax_commons import * "
   ]
  },
  {
   "cell_type": "code",
   "execution_count": 5,
   "metadata": {
    "collapsed": true
   },
   "outputs": [],
   "source": [
    "curDir = os.getcwd()\n",
    "# Location of the Zemax lens files for this notebook\n",
    "zmxdir = os.path.join(curDir, 'zmxfiles')\n",
    "ln = pyz.createLink()"
   ]
  },
  {
   "cell_type": "code",
   "execution_count": 39,
   "metadata": {
    "collapsed": false
   },
   "outputs": [
    {
     "data": {
      "text/plain": [
       "0"
      ]
     },
     "execution_count": 39,
     "metadata": {},
     "output_type": "execute_result"
    }
   ],
   "source": [
    "lens = \"paraxialDoubleLensInfConj.zmx\"\n",
    "lensPath = os.path.join(zmxdir, lens)\n",
    "ln.zLoadFile(lensPath)"
   ]
  },
  {
   "cell_type": "markdown",
   "metadata": {},
   "source": [
    "### Description of the lens file for study\n",
    "\n",
    "\n",
    "The lens `paraxialDoubleLensInfConj` consists of two paraxial surfaces (thin lenses) of focal lengths `f1 = 40 mm` and `f2 = 30 mm` with a stop between the two surfaces. The semi-diameter of the stop surface was determined, in Zemax, such that the value if the entrance pupil diameter is `10 mm` when then pupil magnification equals 1. Then, we fixed the semi-diameter value by setting the aperture type to *Float by Stop* in Zemax. \n",
    "\n",
    "The *equvalent* or *effective\" focal-length $f$ of the two-lens system is [Kingslake, 2009]:\n",
    "\n",
    "$$\n",
    "\\frac{1}{f} = \\frac{1}{f_1} + \\frac{1}{f_2} - \\frac{s}{f_1 f_2} \n",
    "$$\n",
    "\n",
    "where $s$ is the separation between the two lenses.  \n",
    "\n",
    "The *back focal length* (BFL) is given by [Kingslake, 2009]:\n",
    "\n",
    "$$\n",
    "BFL = f \\left(\\frac{f_1 - s}{f_1}\\right)\n",
    "$$\n",
    "\n",
    "The Zemax layout plot of the lens (with the object at infinity) is shown in the [figure](#Layout-plot-of-the-lens-system) below."
   ]
  },
  {
   "cell_type": "markdown",
   "metadata": {},
   "source": [
    "We chose `s = 20 mm` for this study. The equivalent focal length `f` and the back focal length `BFL` computed using the above formuale are the whole numbers `24 mm` and `12 mm` respectively.\n",
    "\n",
    "Of course, we will let Zemax compute these values. To do so, we set a `variable solve` on the `thickness` of the first lens surface (distance between the first lens and the stop). In the figure below, this parameter is designated as $a$. We also place a `pickup solve` on the `thickness` of the stop surface (distance between the stop and second lens) and constrain it such that the total thickness between the two lens surfaces is `20 mm`. In addition, we place another `variable solve` on the thickness of the second lens surface (preceding the image plane).\n",
    "\n",
    "Next, we set up the merit function editor (MFE) using the default merit function (so that Zemax can compute the BFL). In addition, we insert two more rows at the top of the MFE. The operand in the first row is `AMAG`, that shows the angular magnification. In the second row we use the operand `RECI` to get the reciprocal of the angular magnification. It follows from the *Lagrange Invariant Property*, that the inverse of the angular magnification (computed at the pupils) is the pupil magnification. The purpose using these two additional operands is that we can set a target pupil magnification and ask Zemax to solve for the corresponding value of $a$.\n"
   ]
  },
  {
   "cell_type": "markdown",
   "metadata": {},
   "source": [
    "$$\n",
    "\\frac{\\ell_1}{a} = \\frac{f_1}{a - f_1} = \\frac{ENPD}{d}\n",
    "$$\n",
    "\n",
    "and\n",
    "\n",
    "$$\n",
    "\\frac{\\ell_2}{s - a} = \\frac{f_2}{s - a - f_2} = \\frac{EXPD}{d}\n",
    "$$\n",
    "\n",
    "Following simple algebraic manipulations we get:\n",
    "\n",
    "$$\n",
    "m_p = \\left(\\frac{f_2}{f_1}\\right) \\frac{a - f_1}{s - a - f_2} \\, ,\n",
    "$$\n",
    "\n",
    "$$\n",
    "ENPD = \\frac{d\\,f_1}{a - f_1} \\, ,\n",
    "$$\n",
    "\n",
    "\n",
    "$$\n",
    "EXPD = \\frac{d\\,f_2}{s - a - f_2} \\, .\n",
    "$$"
   ]
  },
  {
   "cell_type": "markdown",
   "metadata": {},
   "source": [
    "#### Layout plot of the lens system"
   ]
  },
  {
   "cell_type": "code",
   "execution_count": 40,
   "metadata": {
    "collapsed": false
   },
   "outputs": [
    {
     "data": {
      "text/plain": [
       "0"
      ]
     },
     "execution_count": 40,
     "metadata": {},
     "output_type": "execute_result"
    }
   ],
   "source": [
    "# insert a dummy surface in front to show the input rays\n",
    "ln.zInsertSurface(surfNum=1)\n",
    "ln.zSetSurfaceData(surfNum=1, code=ln.SDAT_THICK, value=10)\n",
    "set_surface_semidia(ln, surf=1, value=0)\n",
    "ln.zGetUpdate()"
   ]
  },
  {
   "cell_type": "code",
   "execution_count": 41,
   "metadata": {
    "collapsed": true
   },
   "outputs": [],
   "source": [
    "layPlotArr = ln.ipzCaptureWindow('Lay', percent=15, gamma=0.12, retArr=True)"
   ]
  },
  {
   "cell_type": "code",
   "execution_count": 42,
   "metadata": {
    "collapsed": false
   },
   "outputs": [
    {
     "data": {
      "image/png": "[encoded data removed]",
      "text/plain": [
       "<matplotlib.figure.Figure at 0xbe42668>"
      ]
     },
     "metadata": {},
     "output_type": "display_data"
    }
   ],
   "source": [
    "fig = plt.figure(figsize=(10, 8), dpi=250)\n",
    "ax = fig.add_subplot(111)\n",
    "pyz.imshow(layPlotArr, cropBorderPixels=(2, 2, 40, 40), fig=fig, faxes=ax)\n",
    "\n",
    "arrCol =  '#3A3A3A'   \n",
    "cadTxtCol = '#3A3A3A'    \n",
    "pupTxtCol = '#1B1B1B'   \n",
    "pupArrCol = '#2B2B2B'   \n",
    "\n",
    "ax.annotate(r\"$1/f = 1/f_1 + 1/f_2 - s/(f_1f_2)$\", xy=(330, 25), \n",
    "            fontsize=17, color=cadTxtCol)\n",
    "ax.annotate(\"$f_1$\", xy=(120, 72), fontsize=17, color=cadTxtCol)\n",
    "ax.annotate(\"$f_2$\", xy=(356, 114), fontsize=17, color=cadTxtCol)\n",
    "ax.annotate(\"STOP\", xy=(258, 108), fontsize=13, color=cadTxtCol)\n",
    "\n",
    "\n",
    "arpops = dict(arrowstyle=\"<->\", mutation_scale=20, linewidth=1, color=arrCol,)\n",
    "\n",
    "arrY = 300\n",
    "ax.annotate(s=\"\", xy=(140, arrY), xytext=(278, arrY), arrowprops=arpops)\n",
    "ax.annotate(s=\"\", xy=(273, arrY), xytext=(378, arrY), arrowprops=arpops)\n",
    "ax.annotate(s=\"\", xy=(373, arrY), xytext=(519, arrY), arrowprops=arpops)\n",
    "\n",
    "arpops = dict(arrowstyle=\"-\", linewidth=1, color=arrCol,)\n",
    "\n",
    "for arrX in [141.5, 275, 375, 516.5]:\n",
    "    ax.annotate(s=\"\", xy=(arrX, arrY-10), xytext=(arrX, arrY+10), arrowprops=arpops)\n",
    "\n",
    "ax.annotate(\"$a$\", xy=(205, arrY-5), fontsize=16, color=cadTxtCol)\n",
    "ax.annotate(\"$s - a$\", xy=(310, arrY-5), fontsize=16, color=cadTxtCol)\n",
    "ax.annotate(\"$BFL$\", xy=(435, arrY-5), fontsize=14, color=cadTxtCol)\n",
    "\n",
    "plt.show()"
   ]
  },
  {
   "cell_type": "markdown",
   "metadata": {},
   "source": [
    "Now, we find the values of $a$ for which the pupil magnification $m_p$ is equal to `0.55`, `1.0` and `2.0` respectively. The low value, `0.55`, was choosen empirically in Zemax. For target pupil magnification values lesser than `0.55`, the optimization failed to produce zero merit-function value. "
   ]
  },
  {
   "cell_type": "code",
   "execution_count": 43,
   "metadata": {
    "collapsed": false
   },
   "outputs": [],
   "source": [
    "pupilMagArr = [0.55, 1.0, 2.0]\n",
    "lens1toStopArr = []\n",
    "\n",
    "for each in pupilMagArr:\n",
    "    ln.zSetOperand(row=2, column=8, value=each)\n",
    "    ln.zOptimize()\n",
    "    lens1toStopArr.append(ln.zGetSurfaceData(surfNum=2, code=ln.SDAT_THICK))"
   ]
  },
  {
   "cell_type": "markdown",
   "metadata": {},
   "source": [
    "The values for $a$ for which the pupil magnifications are respectively equal to 0.55, 1.0 and 2.0 are:"
   ]
  },
  {
   "cell_type": "code",
   "execution_count": 46,
   "metadata": {
    "collapsed": false
   },
   "outputs": [
    {
     "data": {
      "text/latex": [
       "$$a(m_p=0.55) = 18.84615384$$"
      ],
      "text/plain": [
       "<IPython.core.display.Math object>"
      ]
     },
     "metadata": {},
     "output_type": "display_data"
    },
    {
     "data": {
      "text/latex": [
       "$$a(m_p=1.0) = 11.4285714277$$"
      ],
      "text/plain": [
       "<IPython.core.display.Math object>"
      ]
     },
     "metadata": {},
     "output_type": "display_data"
    },
    {
     "data": {
      "text/latex": [
       "$$a(m_p=2.0) = 3.63636363642$$"
      ],
      "text/plain": [
       "<IPython.core.display.Math object>"
      ]
     },
     "metadata": {},
     "output_type": "display_data"
    }
   ],
   "source": [
    "for i, j in zip(pupilMagArr, lens1toStopArr):\n",
    "    display(Math(\"$a(m_p={}) = {}$\".format(i, j)))"
   ]
  },
  {
   "cell_type": "markdown",
   "metadata": {},
   "source": [
    "#### Plot of pupil magnification as a function of $a$"
   ]
  },
  {
   "cell_type": "code",
   "execution_count": 47,
   "metadata": {
    "collapsed": false
   },
   "outputs": [],
   "source": [
    "a = np.linspace(lens1toStopArr[2], lens1toStopArr[0], 50)"
   ]
  },
  {
   "cell_type": "code",
   "execution_count": 48,
   "metadata": {
    "collapsed": true
   },
   "outputs": [],
   "source": [
    "#effective f-number\n",
    "\n",
    "def eff_f_number(fnumber, m, mp):\n",
    "    \"\"\"returns the effective f-number at finite conjugates\n",
    "    \n",
    "    Parameters\n",
    "    ----------\n",
    "    fnumber : real\n",
    "        infinite conjugate paraxial f-number\n",
    "    m : real\n",
    "        transverse magnification\n",
    "    mp : real\n",
    "        pupil magnification\n",
    "    \"\"\"\n",
    "    return fnumber*(1.0 - m/mp)"
   ]
  },
  {
   "cell_type": "code",
   "execution_count": 49,
   "metadata": {
    "collapsed": false
   },
   "outputs": [],
   "source": [
    "# Data generated using Zemax\n",
    "pupilMagArr = []\n",
    "fnum = []\n",
    "enpd = []\n",
    "expd = []\n",
    "effFnumTmag0 = []\n",
    "effFnumTmag1 = []\n",
    "tmag = [0.01, 0.9]\n",
    "for each in a:\n",
    "    ln.zSetSurfaceData(surfNum=2, code=ln.SDAT_THICK, value=each)\n",
    "    ln.zGetUpdate()\n",
    "    pumag = ln.zGetPupilMagnification()\n",
    "    pupilMagArr.append(pumag)\n",
    "    fn = pyz.numAper2fnum(ln.zGetImageSpaceNA())\n",
    "    fnum.append(fn)\n",
    "    effFnumTmag0.append(eff_f_number(fn, tmag[0], pumag))\n",
    "    effFnumTmag1.append(eff_f_number(fn, tmag[1], pumag))\n",
    "    pupilData = ln.zGetPupil()\n",
    "    enpd.append(pupilData.ENPD)\n",
    "    expd.append(pupilData.EXPD)\n",
    "    "
   ]
  },
  {
   "cell_type": "code",
   "execution_count": 50,
   "metadata": {
    "collapsed": true
   },
   "outputs": [],
   "source": [
    "# data generated from analytical expressions\n",
    "def get_mp_enpd_expd_analytic(a, f1, f2, s, d):\n",
    "    \"\"\"return pupil-magnification, entrance pupil diameter, \n",
    "    exit pupil diameter given two-lens system parameters\n",
    "    \n",
    "    Parameters\n",
    "    ----------\n",
    "    a : real\n",
    "        distance between first lens and stop\n",
    "    f1 : real\n",
    "        focal length of first lens\n",
    "    f2 : real\n",
    "        focal length of second lens\n",
    "    s : real\n",
    "        distance between the first and second lens\n",
    "    d : real\n",
    "        diameter of the stop\n",
    "        \n",
    "    Returns\n",
    "    -------\n",
    "    mp : real\n",
    "        pupil magnification\n",
    "    enpd : real\n",
    "        entrance pupil diameter\n",
    "    expd : real\n",
    "        exit pupil diameter\n",
    "    \"\"\"\n",
    "    mp = (f2/f1)*(a - f1)/(s - a - f2)\n",
    "    enpd = d*f1/(a - f1)\n",
    "    expd = d*f2/(s - a - f2)\n",
    "    return abs(mp), abs(enpd), abs(expd)\n",
    "\n",
    "# Diameter of the stop\n",
    "d = ln.zGetSurfaceData(surfNum=3, code=ln.SDAT_SEMIDIA)*2.0\n",
    "s = (ln.zGetSurfaceData(surfNum=2, code=ln.SDAT_THICK) + \n",
    "     ln.zGetSurfaceData(surfNum=3, code=ln.SDAT_THICK))\n",
    "f1 = ln.zGetSurfaceParameter(surfNum=2, param=1)\n",
    "f2 = ln.zGetSurfaceParameter(surfNum=4, param=1)\n",
    "a = np.linspace(lens1toStopArr[2], lens1toStopArr[0], 50)\n",
    "mp_ana = []\n",
    "enpd_ana = []\n",
    "expd_ana = []\n",
    "\n",
    "for each in a:\n",
    "    data = get_mp_enpd_expd_analytic(each, f1, f2, s, d)\n",
    "    mp_ana.append(data[0])\n",
    "    enpd_ana.append(data[1])\n",
    "    expd_ana.append(data[2])\n",
    "    "
   ]
  },
  {
   "cell_type": "code",
   "execution_count": 51,
   "metadata": {
    "collapsed": false
   },
   "outputs": [
    {
     "name": "stdout",
     "output_type": "stream",
     "text": [
      "  a\tpMag (RT)\tpMag (A)\tENPD (RT)\tENPD (A)\tEXPD (RT)\tEXPD (A)\n",
      "3.64\t2.000000\t2.000000\t7.857143\t7.857143\t15.714286\t15.714286\n",
      "5.19\t1.718992\t1.718992\t8.207441\t8.207441\t14.108527\t14.108527\n",
      "6.74\t1.490090\t1.490090\t8.590431\t8.590431\t12.800512\t12.800512\n",
      "8.29\t1.300029\t1.300029\t9.010915\t9.010915\t11.714453\t11.714453\n",
      "9.84\t1.139698\t1.139698\t9.474681\t9.474681\t10.798274\t10.798274\n",
      "11.40\t1.002626\t1.002626\t9.988774\t9.988774\t10.015008\t10.015008\n",
      "12.95\t0.884095\t0.884095\t10.561857\t10.561857\t9.337687\t9.337687\n",
      "14.50\t0.780581\t0.780581\t11.204701\t11.204701\t8.746177\t8.746177\n",
      "16.05\t0.689400\t0.689400\t11.930870\t11.930870\t8.225144\t8.225144\n",
      "17.60\t0.608472\t0.608472\t12.757687\t12.757687\t7.762699\t7.762699\n"
     ]
    }
   ],
   "source": [
    "# compare analytical data with ray traced data\n",
    "# RT stands data from ray trace in Zemax\n",
    "# A stands analytically generated\n",
    "print(\"  a\\tpMag (RT)\\tpMag (A)\\tENPD (RT)\\tENPD (A)\\tEXPD (RT)\\tEXPD (A)\")\n",
    "for i in range(0, 50, 5):\n",
    "    print((\"{:<4.2f}\\t{:<8.6f}\\t{:<8.6f}\\t{:<8.6f}\\t{:<8.6f}\\t{:<8.6f}\\t{:<8.6f}\"\n",
    "           .format(a[i], pupilMagArr[i], mp_ana[i], enpd[i], enpd_ana[i], expd[i], expd_ana[i])))"
   ]
  },
  {
   "cell_type": "markdown",
   "metadata": {},
   "source": [
    "The above table demonstrates the equivalence of the data, and hence the validity of the analytic expressions."
   ]
  },
  {
   "cell_type": "code",
   "execution_count": 74,
   "metadata": {
    "collapsed": false
   },
   "outputs": [
    {
     "data": {
      "image/png": "[encoded data removed]",
      "text/plain": [
       "<matplotlib.figure.Figure at 0xbe07208>"
      ]
     },
     "metadata": {},
     "output_type": "display_data"
    }
   ],
   "source": [
    "# Plot the data\n",
    "\n",
    "fig, ax1 = plt.subplots(figsize=(12, 10))\n",
    "\n",
    "col = ['#e41a1c', '#1f78b4', '#fdb462',  '#a6d854',  '#8da0cb', '#e78ac3',]\n",
    "          \n",
    "ax1.plot(a, pupilMagArr, color=col[0], linestyle='-', lw=2, label='$m_p$')\n",
    "ax1.plot(a, fnum, color=col[1], linestyle='-', label='$f/\\#$')\n",
    "ax1.plot(a, effFnumTmag0, color=col[2], linestyle='-', label='$f/\\#_{eff}\\, ,' + '\\,m={}$'.format(tmag[0]))\n",
    "ax1.plot(a, effFnumTmag1, color=col[3], linestyle='-', label='$f/\\#_{eff}\\, ,' + '\\,m={}$'.format(tmag[1]))\n",
    "ax1.set_xlabel(r'$\\rm{Distance\\,of\\,first\\,lens\\,from\\,stop\\,(}\\it{a}\\rm{)\\,in}\\,\\it{mm}$', fontsize=18)\n",
    "yl = r'$\\rm{F-numbers\\,(}\\,f/\\#,\\,f/\\#_{eff} \\rm{)\\,and}\\,\\rm{Pupil\\,magnification\\,(}\\it{m_p}\\rm{)}$'\n",
    "ax1.set_ylabel(yl, fontsize=18)\n",
    "ax1.set_ylim(ymin=0)\n",
    "ax1.legend(loc=(0.77, 0.78), fontsize=14)\n",
    "ax1.grid(alpha=0.3)\n",
    "ax1.spines['top'].set_color('none')\n",
    "ax1.xaxis.set_ticks_position('bottom')\n",
    "\n",
    "# pupil diameters\n",
    "ax2 = ax1.twinx()\n",
    "ax2.plot(a, enpd, color=col[4], linestyle='--', lw=1, label='$ENPD$')\n",
    "ax2.plot(a, expd, color=col[5], linestyle='--', lw=1, label='$EXPD$')\n",
    "ax2.set_ylabel(r'$\\rm{Pupil\\,diameters\\,(ENPD,\\,EXPD)\\,in\\,}\\it{mm}$', fontsize=18)\n",
    "ax2.legend(loc=(0.77, 0.7), fontsize=14)\n",
    "ax2.axis('tight')\n",
    "ax2.grid(alpha=0.3)\n",
    "ax2.spines['top'].set_color('none')\n",
    "\n",
    "ax3 = fig.add_axes([0.32, 0.63, 0.4, 0.29])\n",
    "pyz.imshow(layPlotArr, cropBorderPixels=(20, 15, 82, 82), fig=fig, faxes=ax3)\n",
    "ax3.spines['right'].set_color('#ababab')\n",
    "ax3.spines['left'].set_color('#ababab')\n",
    "ax3.spines['top'].set_color('#ababab')\n",
    "ax3.spines['bottom'].set_color('#ababab')\n",
    "\n",
    "\n",
    "ax3.annotate(\"$f_1$\", xy=(95, 30), fontsize=15, color=cadTxtCol)\n",
    "ax3.annotate(\"$f_2$\", xy=(330, 73), fontsize=15, color=cadTxtCol)\n",
    "ax3.annotate(\"STOP\", xy=(241, 65), fontsize=10, color=cadTxtCol)\n",
    "\n",
    "arpops = dict(arrowstyle=\"<->\", mutation_scale=13, linewidth=1, color=arrCol,)\n",
    "\n",
    "arrY = 208\n",
    "ax3.annotate(s=\"\", xy=(120, arrY), xytext=(262, arrY), arrowprops=arpops)\n",
    "ax3.annotate(s=\"\", xy=(254, arrY), xytext=(363, arrY), arrowprops=arpops)\n",
    "ax3.annotate(s=\"\", xy=(354, arrY), xytext=(503, arrY), arrowprops=arpops)\n",
    "\n",
    "arpops = dict(arrowstyle=\"-\", linewidth=1, color=arrCol,)\n",
    "\n",
    "for arrX in [258, 358, 498.5]:\n",
    "    ax3.annotate(s=\"\", xy=(arrX, arrY-10), xytext=(arrX, arrY+10), arrowprops=arpops)\n",
    "\n",
    "ax3.annotate(\"$a$\", xy=(185, arrY-6), fontsize=15, color=cadTxtCol)\n",
    "ax3.annotate(\"$s - a$\", xy=(285, arrY-6), fontsize=15, color=cadTxtCol)\n",
    "ax3.annotate(\"$BFL$\", xy=(410, arrY-6), fontsize=12.5, color=cadTxtCol)\n",
    "\n",
    "plt.show()"
   ]
  },
  {
   "cell_type": "code",
   "execution_count": null,
   "metadata": {
    "collapsed": true
   },
   "outputs": [],
   "source": []
  },
  {
   "cell_type": "code",
   "execution_count": 48,
   "metadata": {
    "collapsed": false
   },
   "outputs": [],
   "source": [
    "ln.close()"
   ]
  },
  {
   "cell_type": "code",
   "execution_count": null,
   "metadata": {
    "collapsed": true
   },
   "outputs": [],
   "source": []
  },
  {
   "cell_type": "markdown",
   "metadata": {
    "collapsed": true
   },
   "source": [
    "## Effect of lens tilts and pupil magnification on image distortions "
   ]
  },
  {
   "cell_type": "code",
   "execution_count": 1,
   "metadata": {
    "collapsed": false
   },
   "outputs": [],
   "source": [
    "%load_ext autoreload"
   ]
  },
  {
   "cell_type": "code",
   "execution_count": 2,
   "metadata": {
    "collapsed": true
   },
   "outputs": [],
   "source": [
    "%autoreload 1 "
   ]
  },
  {
   "cell_type": "code",
   "execution_count": 3,
   "metadata": {
    "collapsed": true
   },
   "outputs": [],
   "source": [
    "# imports\n",
    "from __future__ import print_function, division\n",
    "import os\n",
    "import numpy as np\n",
    "import matplotlib.pyplot as plt\n",
    "import pyzdde.zdde as pyz\n",
    "%matplotlib inline"
   ]
  },
  {
   "cell_type": "code",
   "execution_count": 4,
   "metadata": {
    "collapsed": true
   },
   "outputs": [],
   "source": [
    "%aimport geometric_model_zemax_commons\n",
    "from geometric_model_zemax_commons import * "
   ]
  },
  {
   "cell_type": "code",
   "execution_count": 5,
   "metadata": {
    "collapsed": false
   },
   "outputs": [],
   "source": [
    "curDir = os.getcwd()\n",
    "# Location of the Zemax lens files for this notebook\n",
    "zmxdir = os.path.join(curDir, 'zmxfiles')\n",
    "ln = pyz.createLink()"
   ]
  },
  {
   "cell_type": "markdown",
   "metadata": {},
   "source": [
    " "
   ]
  },
  {
   "cell_type": "markdown",
   "metadata": {},
   "source": [
    "### Pupil magnification = 1"
   ]
  },
  {
   "cell_type": "code",
   "execution_count": 27,
   "metadata": {
    "collapsed": false
   },
   "outputs": [
    {
     "data": {
      "text/plain": [
       "0"
      ]
     },
     "execution_count": 27,
     "metadata": {},
     "output_type": "execute_result"
    }
   ],
   "source": [
    "lens = \"paraxialDoubleLensInfConj.zmx\"\n",
    "lensPath = os.path.join(zmxdir, lens)\n",
    "ln.zLoadFile(lensPath)"
   ]
  },
  {
   "cell_type": "code",
   "execution_count": 28,
   "metadata": {
    "collapsed": false
   },
   "outputs": [
    {
     "name": "stdout",
     "output_type": "stream",
     "text": [
      "Exit pupil distance from IMG: -24.0\n",
      "Entrance pupil from Surf 1: 16.0\n",
      "Focal plane obj:  -8.0 \n",
      "Focal plane img:  0.0\n",
      "Principal plane obj:  16.0 \n",
      "Principal plane img:  -24.0\n",
      "Focal length:  24.0\n",
      "Principal plane H to ENPP:  0.0\n",
      "Principal plane H' to EXPP:  0.0\n",
      "Principal plane H' to EXPP (absolute distance) calculated using lens equation:  0.0\n",
      "Principal plane H' to rear focal plane:  24.0\n",
      "Principal plane H to front focal plane:  -24.0\n"
     ]
    }
   ],
   "source": [
    "draw_pupil_cardinal_planes(ln, firstDummySurfOff=10, push=True)"
   ]
  },
  {
   "cell_type": "markdown",
   "metadata": {
    "collapsed": true
   },
   "source": [
    "After setting \"Ignore rays to surfaces\" to the rendered cardinal plane surfaces, the EXPP and the ENPP in the LDE, the lens was saved as `paraxialDoubleLensInfConj_mp1_cardinalsDrawn.zmx`"
   ]
  },
  {
   "cell_type": "markdown",
   "metadata": {
    "collapsed": true
   },
   "source": [
    "Notice that the distance of the entrance and exit pupils from the object and image side principal planes are both zero. This result, indeed, is not a coincidence? Since the pupil magnification is 1, the exit-pupil-to-image-side-principal-plane and the entrance-pupil-to-object-side-principal-plane distances must be equal. The pair of locations of the object and image side principal planes are certainly one such pair. But is this pair the only possibility? Is is because of the constraint on the input-output angle of the chief ray that for pupil magnification =1, the angles are equal, and this is true for the principal planes?"
   ]
  },
  {
   "cell_type": "code",
   "execution_count": 80,
   "metadata": {
    "collapsed": false
   },
   "outputs": [
    {
     "data": {
      "text/plain": [
       "0"
      ]
     },
     "execution_count": 80,
     "metadata": {},
     "output_type": "execute_result"
    }
   ],
   "source": [
    "# Finite conjugate\n",
    "lens = \"paraxialDoubleLensFiniteConj.zmx\"\n",
    "lensPath = os.path.join(zmxdir, lens)\n",
    "ln.zLoadFile(lensPath)"
   ]
  },
  {
   "cell_type": "code",
   "execution_count": 81,
   "metadata": {
    "collapsed": false
   },
   "outputs": [
    {
     "name": "stdout",
     "output_type": "stream",
     "text": [
      "Exit pupil distance from IMG: -24.58064516\n",
      "Entrance pupil from Surf 1: 16.0\n",
      "Focal plane obj:  -8.0 \n",
      "Focal plane img:  -0.580645\n",
      "Principal plane obj:  16.0 \n",
      "Principal plane img:  -24.580645\n",
      "Focal length:  24.0\n",
      "Principal plane H to ENPP:  0.0\n",
      "Principal plane H' to EXPP:  1.59999999028e-07\n",
      "Principal plane H' to EXPP (absolute distance) calculated using lens equation:  0.0\n",
      "Principal plane H' to rear focal plane:  24.0\n",
      "Principal plane H to front focal plane:  -24.0\n"
     ]
    }
   ],
   "source": [
    "draw_pupil_cardinal_planes(ln, firstDummySurfOff=10, push=True)"
   ]
  },
  {
   "cell_type": "markdown",
   "metadata": {},
   "source": [
    "Note in the above output the `Exit pupil distance from IMG` has increased from `24.0 mm` (for the infinite conjugate) to `24.58064516 mm`. This increase in the distance is expected as the image distance would have increased. However, the `Principal plane H' to EXPP` shows a very small residual value whereas it should have been exactly zero. This residual value is produced due to the loss of precision of the floating point values (`Exit pupil distance from IMG` and `Principal plane img`) during the write to and read from the prescription text file. This residual error, however, doesn't affect any other computation. "
   ]
  },
  {
   "cell_type": "code",
   "execution_count": 33,
   "metadata": {
    "collapsed": false
   },
   "outputs": [
    {
     "data": {
      "text/plain": [
       "1.5999999902760464e-07"
      ]
     },
     "execution_count": 33,
     "metadata": {},
     "output_type": "execute_result"
    }
   ],
   "source": [
    "24.58064516 - 24.580645 # residual error in Principal plane H' to EXPP"
   ]
  },
  {
   "cell_type": "markdown",
   "metadata": {},
   "source": [
    "After setting \"Ignore rays to surfaces\" to the rendered cardinal plane surfaces, the EXPP and the ENPP in the LDE, the lens was saved as `paraxialDoubleLensFiniteConj_mp1_cardinalsDrawn.zmx`.\n",
    "\n",
    "<font color='red'>I have also set the global reference surface to 0 to prepare for manually (for now) setting the coordinate breaks to tilt the lens.<br><b> Should I incorporate this in the draw_pupil_cardinal_planes() function itself?</b><font>"
   ]
  },
  {
   "cell_type": "code",
   "execution_count": null,
   "metadata": {
    "collapsed": true
   },
   "outputs": [],
   "source": []
  },
  {
   "cell_type": "code",
   "execution_count": null,
   "metadata": {
    "collapsed": true
   },
   "outputs": [],
   "source": []
  },
  {
   "cell_type": "code",
   "execution_count": 30,
   "metadata": {
    "collapsed": false
   },
   "outputs": [
    {
     "data": {
      "text/plain": [
       "0"
      ]
     },
     "execution_count": 30,
     "metadata": {},
     "output_type": "execute_result"
    }
   ],
   "source": [
    "# Finite conjugate\n",
    "lens = \"paraxialDoubleLensFiniteConj_mp1_cardinalsDrawn.zmx\"\n",
    "lensPath = os.path.join(zmxdir, lens)\n",
    "ln.zLoadFile(lensPath)"
   ]
  },
  {
   "cell_type": "code",
   "execution_count": 31,
   "metadata": {
    "collapsed": false
   },
   "outputs": [],
   "source": [
    "insert_cbs_to_tilt(ln, pivot='ENPP')"
   ]
  },
  {
   "cell_type": "code",
   "execution_count": null,
   "metadata": {
    "collapsed": false
   },
   "outputs": [],
   "source": [
    " ln.zInsertSurface"
   ]
  },
  {
   "cell_type": "code",
   "execution_count": null,
   "metadata": {
    "collapsed": true
   },
   "outputs": [],
   "source": []
  },
  {
   "cell_type": "code",
   "execution_count": null,
   "metadata": {
    "collapsed": true
   },
   "outputs": [],
   "source": []
  },
  {
   "cell_type": "code",
   "execution_count": null,
   "metadata": {
    "collapsed": true
   },
   "outputs": [],
   "source": []
  },
  {
   "cell_type": "code",
   "execution_count": 32,
   "metadata": {
    "collapsed": true
   },
   "outputs": [],
   "source": [
    "ln.close()"
   ]
  },
  {
   "cell_type": "markdown",
   "metadata": {},
   "source": [
    "### Pupil magnification = 0.55"
   ]
  },
  {
   "cell_type": "code",
   "execution_count": 45,
   "metadata": {
    "collapsed": false
   },
   "outputs": [
    {
     "data": {
      "text/plain": [
       "0"
      ]
     },
     "execution_count": 45,
     "metadata": {},
     "output_type": "execute_result"
    }
   ],
   "source": [
    "lens = \"paraxialDoubleLensInfConj.zmx\"\n",
    "lensPath = os.path.join(zmxdir, lens)\n",
    "ln.zLoadFile(lensPath)"
   ]
  },
  {
   "cell_type": "code",
   "execution_count": 46,
   "metadata": {
    "collapsed": false
   },
   "outputs": [
    {
     "data": {
      "text/plain": [
       "18.84615384669"
      ]
     },
     "execution_count": 46,
     "metadata": {},
     "output_type": "execute_result"
    }
   ],
   "source": [
    "# get value of a for which the pupil magnification is 0.55\n",
    "pupilMagTgt = 0.55\n",
    "ln.zSetOperand(row=2, column=8, value=pupilMagTgt)\n",
    "ln.zOptimize()\n",
    "a = ln.zGetSurfaceData(surfNum=1, code=ln.SDAT_THICK)\n",
    "a"
   ]
  },
  {
   "cell_type": "code",
   "execution_count": 47,
   "metadata": {
    "collapsed": false
   },
   "outputs": [
    {
     "data": {
      "text/plain": [
       "0.5499999998149038"
      ]
     },
     "execution_count": 47,
     "metadata": {},
     "output_type": "execute_result"
    }
   ],
   "source": [
    "# set the thickness of lens surface 1 to a and ensure the value pupil magnification\n",
    "ln.zSetSurfaceData(surfNum=1, code=ln.SDAT_THICK, value=a)\n",
    "ln.zGetUpdate()\n",
    "ln.zGetPupilMagnification()"
   ]
  },
  {
   "cell_type": "code",
   "execution_count": 48,
   "metadata": {
    "collapsed": false
   },
   "outputs": [
    {
     "name": "stdout",
     "output_type": "stream",
     "text": [
      "Exit pupil distance from IMG: -13.2\n",
      "Entrance pupil from Surf 1: 35.63636364\n",
      "Focal plane obj:  -8.0 \n",
      "Focal plane img:  0.0\n",
      "Principal plane obj:  16.0 \n",
      "Principal plane img:  -24.0\n",
      "Focal length:  24.0\n",
      "Principal plane H to ENPP:  -19.63636364\n",
      "Principal plane H' to EXPP:  -10.8\n",
      "Principal plane H' to EXPP (absolute distance) calculated using lens equation:  10.8000000011\n",
      "Principal plane H' to rear focal plane:  24.0\n",
      "Principal plane H to front focal plane:  -24.0\n"
     ]
    }
   ],
   "source": [
    "draw_pupil_cardinal_planes(ln, firstDummySurfOff=10, push=True)"
   ]
  },
  {
   "cell_type": "code",
   "execution_count": null,
   "metadata": {
    "collapsed": true
   },
   "outputs": [],
   "source": []
  },
  {
   "cell_type": "code",
   "execution_count": null,
   "metadata": {
    "collapsed": true
   },
   "outputs": [],
   "source": []
  },
  {
   "cell_type": "code",
   "execution_count": null,
   "metadata": {
    "collapsed": true
   },
   "outputs": [],
   "source": []
  },
  {
   "cell_type": "code",
   "execution_count": null,
   "metadata": {
    "collapsed": true
   },
   "outputs": [],
   "source": []
  },
  {
   "cell_type": "markdown",
   "metadata": {},
   "source": [
    "### Pupil magnification = 2.0"
   ]
  },
  {
   "cell_type": "code",
   "execution_count": 49,
   "metadata": {
    "collapsed": false
   },
   "outputs": [
    {
     "data": {
      "text/plain": [
       "0"
      ]
     },
     "execution_count": 49,
     "metadata": {},
     "output_type": "execute_result"
    }
   ],
   "source": [
    "lens = \"paraxialDoubleLensInfConj.zmx\"\n",
    "lensPath = os.path.join(zmxdir, lens)\n",
    "ln.zLoadFile(lensPath)"
   ]
  },
  {
   "cell_type": "code",
   "execution_count": 50,
   "metadata": {
    "collapsed": false
   },
   "outputs": [
    {
     "data": {
      "text/plain": [
       "3.636363636514"
      ]
     },
     "execution_count": 50,
     "metadata": {},
     "output_type": "execute_result"
    }
   ],
   "source": [
    "# get value of a for which the pupil magnification is 2.0\n",
    "pupilMagTgt = 2.0\n",
    "ln.zSetOperand(row=2, column=8, value=pupilMagTgt)\n",
    "ln.zOptimize()\n",
    "a = ln.zGetSurfaceData(surfNum=1, code=ln.SDAT_THICK)\n",
    "a"
   ]
  },
  {
   "cell_type": "code",
   "execution_count": 51,
   "metadata": {
    "collapsed": false
   },
   "outputs": [
    {
     "data": {
      "text/plain": [
       "1.999999999490909"
      ]
     },
     "execution_count": 51,
     "metadata": {},
     "output_type": "execute_result"
    }
   ],
   "source": [
    "# set the thickness of lens surface 1 to a and ensure the value pupil magnification\n",
    "ln.zSetSurfaceData(surfNum=1, code=ln.SDAT_THICK, value=a)\n",
    "ln.zGetUpdate()\n",
    "ln.zGetPupilMagnification()"
   ]
  },
  {
   "cell_type": "code",
   "execution_count": 52,
   "metadata": {
    "collapsed": false
   },
   "outputs": [
    {
     "name": "stdout",
     "output_type": "stream",
     "text": [
      "Exit pupil distance from IMG: -48.0\n",
      "Entrance pupil from Surf 1: 4.0\n",
      "Focal plane obj:  -8.0 \n",
      "Focal plane img:  0.0\n",
      "Principal plane obj:  16.0 \n",
      "Principal plane img:  -24.0\n",
      "Focal length:  24.0\n",
      "Principal plane H to ENPP:  12.0\n",
      "Principal plane H' to EXPP:  24.0\n",
      "Principal plane H' to EXPP (absolute distance) calculated using lens equation:  24.0\n",
      "Principal plane H' to rear focal plane:  24.0\n",
      "Principal plane H to front focal plane:  -24.0\n"
     ]
    }
   ],
   "source": [
    "draw_pupil_cardinal_planes(ln, firstDummySurfOff=20, push=True)"
   ]
  },
  {
   "cell_type": "code",
   "execution_count": null,
   "metadata": {
    "collapsed": true
   },
   "outputs": [],
   "source": []
  },
  {
   "cell_type": "code",
   "execution_count": null,
   "metadata": {
    "collapsed": true
   },
   "outputs": [],
   "source": []
  },
  {
   "cell_type": "code",
   "execution_count": null,
   "metadata": {
    "collapsed": true
   },
   "outputs": [],
   "source": []
  },
  {
   "cell_type": "code",
   "execution_count": 53,
   "metadata": {
    "collapsed": false
   },
   "outputs": [],
   "source": [
    "ln.close()"
   ]
  },
  {
   "cell_type": "code",
   "execution_count": null,
   "metadata": {
    "collapsed": true
   },
   "outputs": [],
   "source": []
  },
  {
   "cell_type": "code",
   "execution_count": null,
   "metadata": {
    "collapsed": true
   },
   "outputs": [],
   "source": []
  },
  {
   "cell_type": "code",
   "execution_count": null,
   "metadata": {
    "collapsed": true
   },
   "outputs": [],
   "source": []
  },
  {
   "cell_type": "code",
   "execution_count": null,
   "metadata": {
    "collapsed": true
   },
   "outputs": [],
   "source": []
  }
 ],
 "metadata": {
  "kernelspec": {
   "display_name": "Python 2",
   "language": "python",
   "name": "python2"
  },
  "language_info": {
   "codemirror_mode": {
    "name": "ipython",
    "version": 2
   },
   "file_extension": ".py",
   "mimetype": "text/x-python",
   "name": "python",
   "nbconvert_exporter": "python",
   "pygments_lexer": "ipython2",
   "version": "2.7.10"
  }
 },
 "nbformat": 4,
 "nbformat_minor": 0
}
