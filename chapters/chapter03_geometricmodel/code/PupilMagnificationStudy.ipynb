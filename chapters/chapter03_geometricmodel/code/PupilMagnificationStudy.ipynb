{
 "cells": [
  {
   "cell_type": "markdown",
   "metadata": {},
   "source": [
    "# Study of Pupil magnification"
   ]
  },
  {
   "cell_type": "markdown",
   "metadata": {},
   "source": [
    "## Survey of pupil magnification in lens designs that form *real* images"
   ]
  },
  {
   "cell_type": "code",
   "execution_count": 1,
   "metadata": {
    "collapsed": false
   },
   "outputs": [],
   "source": [
    "from __future__ import print_function, division\n",
    "import os\n",
    "import numpy as np\n",
    "import matplotlib.pyplot as plt\n",
    "import pyzdde.zdde as pyz"
   ]
  },
  {
   "cell_type": "code",
   "execution_count": 2,
   "metadata": {
    "collapsed": false
   },
   "outputs": [],
   "source": [
    "%matplotlib inline"
   ]
  },
  {
   "cell_type": "code",
   "execution_count": 3,
   "metadata": {
    "collapsed": true
   },
   "outputs": [],
   "source": [
    "def get_pupilMagnification_data(ln):\n",
    "    \"\"\"return pupil magnification and other relevant data\n",
    "    \n",
    "    Parameters\n",
    "    ----------\n",
    "    None\n",
    "    \n",
    "    Returns\n",
    "    -------\n",
    "    zFileName : string\n",
    "        zmx file name (without extension and path)\n",
    "    zTitle : string\n",
    "        zmx lens title\n",
    "    fl : real\n",
    "        focal length (mm)\n",
    "    imgFNum : real\n",
    "        the image space F/# is the infinite conjugate paraxial F/# \n",
    "        i.e. eff. focal length / paraxial entrance pupil diameter\n",
    "    mp : real\n",
    "        pupil magnification \n",
    "    \"\"\"\n",
    "    LENS_TITLE = 16\n",
    "    zfileName = os.path.split(ln.zGetFile())[1].split('.')[0]\n",
    "    zTitle = ln.zGetSystemProperty(code=LENS_TITLE)\n",
    "    mp = ln.zGetPupilMagnification()\n",
    "    imgFNum = pyz.numAper2fnum(ln.zGetImageSpaceNA())\n",
    "    fl = ln.zGetFirst().EFL\n",
    "    return zfileName, zTitle, fl, imgFNum, mp\n",
    "\n",
    "# Notes:\n",
    "# Irrespective of the Lens Unit set in the lens file, Zemax always returns the\n",
    "# focal length in mm, so there is no need to check and/or change the lens unit\n",
    "# before getting the focal length."
   ]
  },
  {
   "cell_type": "markdown",
   "metadata": {},
   "source": [
    "##### Generation of new pupil magnification data"
   ]
  },
  {
   "cell_type": "code",
   "execution_count": 4,
   "metadata": {
    "collapsed": false
   },
   "outputs": [],
   "source": [
    "parentDir = os.path.join(os.getcwd(), 'zmxfiles')\n",
    "zmxLensDirList = ['doublegauss', 'doubleMeniscus', \n",
    "                 'inversetele_retrofocus_wideangle',\n",
    "                 'microscopeObjectives', 'telephoto', 'triplets']\n",
    "fext = \".zmx\"\n",
    "\n",
    "\n",
    "def retrieve_pupil_mag_data():\n",
    "    \"\"\"creates text files in the current directory with names\n",
    "    \"pupil_mag_data_xxx.txt\". Each file contains data (as shown below)\n",
    "    produced from the zmx files present in the directory named xxx.\n",
    "    \n",
    "    assumption: 'xxx' are directory names under the directory 'zmxfiles',\n",
    "    such as 'doublegauss', 'doubleMeniscus', etc.\n",
    "    \n",
    "    Format of pupil magnification data:\n",
    "    \n",
    "    FILENAME, LENS TITLE, FOCAL LENGTH (mm), F-NUMBER, PUPIL MAG\n",
    "    \n",
    "    E.g. E_001, COOKE TRIPLET ANASTIGMAT, 127.04, 3.50, 1.0197\n",
    "    \n",
    "    Note\n",
    "    ----\n",
    "    Call this function to generate new data. Data files\n",
    "    shall be overwritten.\n",
    "    \"\"\"\n",
    "    ln = pyz.createLink()\n",
    "    for eachDir in zmxLensDirList:\n",
    "        eachDirPath = os.path.join(parentDir, eachDir)\n",
    "        fnames = [os.path.join(eachDirPath, zfile)\n",
    "                  for zfile in os.listdir(eachDirPath) if zfile.lower().endswith(fext)]\n",
    "        txtFileName = 'pupil_mag_data_{}.txt'.format(eachDir)\n",
    "        with open(txtFileName, 'w') as dfile:\n",
    "            for eachFile in fnames:\n",
    "                ln.zLoadFile(eachFile)\n",
    "                data = get_pupilMagnification_data(ln)\n",
    "                dfile.write('{}, {}, {:0.2f}, {:0.2f}, {:0.4f}\\n'\n",
    "                            .format(data[0], data[1].replace(',','-'),\n",
    "                                    data[2], data[3], data[4]))\n",
    "    ln.close()\n",
    "    print('Generated data!')"
   ]
  },
  {
   "cell_type": "code",
   "execution_count": 47,
   "metadata": {
    "collapsed": false
   },
   "outputs": [
    {
     "name": "stdout",
     "output_type": "stream",
     "text": [
      "Generated data!\n"
     ]
    }
   ],
   "source": [
    "# Call this function if new data has to be generated.\n",
    "\n",
    "retrieve_pupil_mag_data()"
   ]
  },
  {
   "cell_type": "markdown",
   "metadata": {
    "collapsed": true
   },
   "source": [
    "##### Plot and analysis of pupil magnification data"
   ]
  },
  {
   "cell_type": "code",
   "execution_count": 11,
   "metadata": {
    "collapsed": false
   },
   "outputs": [
    {
     "data": {
      "image/png": "[encoded data removed]",
      "text/plain": [
       "<matplotlib.figure.Figure at 0xcf4a4a8>"
      ]
     },
     "metadata": {},
     "output_type": "display_data"
    }
   ],
   "source": [
    "bSAVE_FIG = False  # Toggle flag to choose\n",
    "\n",
    "curDir = os.getcwd()\n",
    "\n",
    "zmxLensDirList = ['triplets', 'telephoto','doublegauss', 'doubleMeniscus',\n",
    "                  'inversetele_retrofocus_wideangle', 'microscopeObjectives']\n",
    "\n",
    "legtxt = ['Triplets', 'Telephoto', 'Double Gauss', 'Double Meniscus',\n",
    "          'Retrofocus wide-angle', 'Microscope Objectives']\n",
    "\n",
    "#cols = ['#4daf4a', '#377eb8', '#ff7f00', '#e41a1c',  '#984ea3', '#f781bf', ] \n",
    "#cols = ['#4daf4a', '#377eb8', '#ffe600', '#e41a1c',  '#ff7f00', '#f781bf', ] \n",
    "cols = ['#4daf4a', '#377eb8', '#ff7f00', '#e41a1c',  '#f781bf', '#984ea3',  ] \n",
    "\n",
    "fig, axes = plt.subplots(nrows=2, ncols=1, sharex=True, figsize=(10, 8))\n",
    "\n",
    "ax0, ax1 = axes.flatten()\n",
    "\n",
    "# figure decorations\n",
    "#ax0.set_xlabel('Pupil Magnification', fontsize=14)\n",
    "ax1.set_xlabel('Pupil Magnification ($m_p$)', fontsize=14)\n",
    "ax0.set_ylabel('F/# (infinite conjugate)', fontsize=14)\n",
    "ax1.set_ylabel('Focal Length (mm)', fontsize=14)\n",
    "#ax0.set_title('Focal length vs Pupil Magnification', y=1.01, fontsize=14)\n",
    "#ax1.set_title('F-number vs Pupil Magnification', y=1.01, fontsize=14)\n",
    "\n",
    "ax0.set_xlim(0, 16)\n",
    "ax1.set_xlim(0, 16)\n",
    "ax0.set_ylim(-0.1, 20.25)\n",
    "ax1.set_ylim(-5, 250)\n",
    "\n",
    "ax0.spines['right'].set_visible(False)\n",
    "ax0.spines['top'].set_visible(False)\n",
    "ax1.spines['right'].set_visible(False)\n",
    "ax1.spines['top'].set_visible(False)\n",
    "ax0.xaxis.set_ticks_position('bottom')\n",
    "ax0.yaxis.set_ticks_position('left')\n",
    "ax1.xaxis.set_ticks_position('bottom')\n",
    "ax1.yaxis.set_ticks_position('left')\n",
    "\n",
    "ax0.set_xscale(value='symlog', basex=2, linthreshx=1.0, subsx=[0.25, 0.5, 0.75, 4, 8])\n",
    "ax1.set_xscale(value='symlog', basex=2, linthreshx=1.0, subsx=[0.25, 0.5, 0.75, 4, 8])\n",
    "\n",
    "ticloc = ax0.xaxis.get_ticklocs()\n",
    "ax0.xaxis.set_ticklabels(ticloc)\n",
    "ax1.xaxis.set_ticklabels(ticloc)\n",
    "\n",
    "\n",
    "fig.subplots_adjust(hspace=0.1)\n",
    "\n",
    "ax0.axvline(x=1.0, color='k', linestyle='dashed', linewidth=0.7, alpha=0.4)\n",
    "ax1.axvline(x=1.0, color='k', linestyle='dashed', linewidth=0.7, alpha=0.4)\n",
    "\n",
    "# actual plot of the data \n",
    "for i, each in enumerate(zmxLensDirList):\n",
    "    txtFileName = os.path.join(curDir, 'pupil_mag_data_{}.txt'.format(each))\n",
    "    focalLength = []\n",
    "    fnumber = []\n",
    "    pupilmag = []\n",
    "    with open(txtFileName, 'r') as dfile:\n",
    "        for line in dfile:\n",
    "            data = line.rstrip().split(',')\n",
    "            focalLength.append(float(data[2]))\n",
    "            fnumber.append(float(data[3]))\n",
    "            pupilmag.append(float(data[4]))\n",
    "    ax0.scatter(pupilmag, fnumber, c=cols[i], s=50, alpha=0.7, \n",
    "                lw=0.4, label=legtxt[i])\n",
    "    ax1.scatter(pupilmag, focalLength, c=cols[i], s=50, alpha=0.7, \n",
    "                lw=0.4, label=legtxt[i])\n",
    "    \n",
    "ax0.legend(fontsize=13, scatterpoints=1, markerscale=1.0, scatteryoffsets=[0.5])\n",
    "#ax1.legend(fontsize=12, scatterpoints=1, markerscale=1.0, scatteryoffsets=[0.5])\n",
    "\n",
    "if bSAVE_FIG:\n",
    "    fig.savefig(\"pupil_mag_vs_fnum_focal.png\", dpi=400, bbox_inches='tight', pad_inches=0.04)\n",
    "\n",
    "plt.show()"
   ]
  },
  {
   "cell_type": "markdown",
   "metadata": {},
   "source": [
    "We can infer the following by observing the plots:\n",
    "\n",
    "1. There is no correlation between pupil magnification and focal length or F-number.\n",
    "2. Pupil magnification of telephoto lenses tend to be less than 1.0.\n",
    "3. Pupil magnification of retro-focus wide-angle lenses (also called inverse telephoto lens) tend to be greater than 1.0\n",
    "4. The double meniscus lenses tend to have pupil magnification approximately equal to 1.0. This is due to their symmetric lens design. \n",
    "\n",
    "The (effective) focal length of a normal lens is the distance from the rear principal plane to the plane at which an object at infinity is brought to focus. The distance required to focus an object at finite distance from the lens is greater than the focal length as predicted by the Guassian lens equation. The rear principal plane is located within the physical extents in a normal lenses. Therefore, normal (or \"true\") long focal length lenses are at least as long as the focal length of the lens. \n",
    "\n",
    "To make long focal length lenses within a compact body, lens designers employ a negative focal length lens (or a group of elements with net negative focal length) behind a positive focal length lens (or a group of elements). This combination of lenses system attains a positive long focal length within a short body (see [ref]) and behaves identical to an equivalent true long focal length in terms the geometric characteristics of the image. For example, the length of a 200 mm normal lens would be at least 200 mm (at infinite conjugate). However, combining a 75 mm and -25 mm with a 60 mm separation produces a two-lens system with effective focal length of 200 mm and back focal length (bfl) of 40 mm. Therefore, the the body of this combined lens system is only 100 mm (separation distance plus the bfl) at infinite conjugate.\n",
    "\n",
    "While the negative focal length lens (or group) compacts the lens, being a diverging lens, it also produces a dimunitive image of the stop viewed from the image side compared to the image of the stop formed by the positive focal length elements viewed from the object side. In other words, a consequence of the telephoto design is that the exit pupil becomes smaller compared to the entrace pupil. Therefore, the pupil magnification for telephoto lenses is less than one.\n",
    "\n"
   ]
  },
  {
   "cell_type": "code",
   "execution_count": 37,
   "metadata": {
    "collapsed": true
   },
   "outputs": [],
   "source": [
    "# Other statistics\n",
    "curDir = os.getcwd()\n",
    "\n",
    "zmxLensDirList = ['triplets', 'telephoto','doublegauss',  \n",
    "                  'doubleMeniscus', 'microscopeObjectives',\n",
    "                  'inversetele_retrofocus_wideangle']\n",
    "\n",
    "pupilmag = []\n",
    "\n",
    "for i, each in enumerate(zmxLensDirList):\n",
    "    txtFileName = os.path.join(curDir, 'pupil_mag_data_{}.txt'.format(each))\n",
    "    with open(txtFileName, 'r') as dfile:\n",
    "        for line in dfile:\n",
    "            data = line.rstrip().split(',')\n",
    "            pupilmag.append(float(data[4]))\n",
    "            \n",
    "pupilmag = np.array(pupilmag)"
   ]
  },
  {
   "cell_type": "code",
   "execution_count": 38,
   "metadata": {
    "collapsed": false
   },
   "outputs": [
    {
     "data": {
      "text/plain": [
       "120"
      ]
     },
     "execution_count": 38,
     "metadata": {},
     "output_type": "execute_result"
    }
   ],
   "source": [
    "len(pupilmag)"
   ]
  },
  {
   "cell_type": "code",
   "execution_count": 43,
   "metadata": {
    "collapsed": false
   },
   "outputs": [
    {
     "name": "stdout",
     "output_type": "stream",
     "text": [
      "mean m_p = 1.8309, median m_p = 1.0449\n"
     ]
    }
   ],
   "source": [
    "# mean and median\n",
    "print('mean m_p = {:0.4f}, median m_p = {:0.4f}'.format(np.mean(pupilmag), np.median(pupilmag)))"
   ]
  },
  {
   "cell_type": "code",
   "execution_count": 71,
   "metadata": {
    "collapsed": false
   },
   "outputs": [
    {
     "name": "stdout",
     "output_type": "stream",
     "text": [
      "Number of lenses = 20\n",
      " % of lenses = 17\n"
     ]
    }
   ],
   "source": [
    "# percentage of pupil magnification near 1.0\n",
    "pupilmagNearOne = np.sum(np.logical_and(0.95 < pupilmag, pupilmag < 1.05)) # within 5% of 1.0\n",
    "percentagePupilmagNearOne = np.round((100*pupilmagNearOne)/len(pupilmag))\n",
    "print('Number of lenses = {}\\n % of lenses = {:0.0f}'.format(pupilmagNearOne, percentagePupilmagNearOne))"
   ]
  },
  {
   "cell_type": "code",
   "execution_count": 73,
   "metadata": {
    "collapsed": false
   },
   "outputs": [
    {
     "data": {
      "text/plain": [
       "0.16666666666666666"
      ]
     },
     "execution_count": 73,
     "metadata": {},
     "output_type": "execute_result"
    }
   ],
   "source": [
    "1/6 # one is six lens"
   ]
  },
  {
   "cell_type": "code",
   "execution_count": null,
   "metadata": {
    "collapsed": true
   },
   "outputs": [],
   "source": []
  },
  {
   "cell_type": "code",
   "execution_count": null,
   "metadata": {
    "collapsed": true
   },
   "outputs": [],
   "source": []
  },
  {
   "cell_type": "code",
   "execution_count": null,
   "metadata": {
    "collapsed": true
   },
   "outputs": [],
   "source": []
  }
 ],
 "metadata": {
  "kernelspec": {
   "display_name": "Python 2",
   "language": "python",
   "name": "python2"
  },
  "language_info": {
   "codemirror_mode": {
    "name": "ipython",
    "version": 2
   },
   "file_extension": ".py",
   "mimetype": "text/x-python",
   "name": "python",
   "nbconvert_exporter": "python",
   "pygments_lexer": "ipython2",
   "version": "2.7.10"
  }
 },
 "nbformat": 4,
 "nbformat_minor": 0
}
