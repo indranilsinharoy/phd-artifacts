{
 "cells": [
  {
   "cell_type": "markdown",
   "metadata": {},
   "source": [
    "# Study of Pupil magnification"
   ]
  },
  {
   "cell_type": "markdown",
   "metadata": {},
   "source": [
    "## Survey of pupil magnification in lens designs that form *real* images"
   ]
  },
  {
   "cell_type": "code",
   "execution_count": 1,
   "metadata": {
    "collapsed": false
   },
   "outputs": [],
   "source": [
    "# imports\n",
    "from __future__ import print_function, division\n",
    "import os\n",
    "import numpy as np\n",
    "import matplotlib.pyplot as plt\n",
    "import pyzdde.zdde as pyz\n",
    "from geometric_model_zemax_commons import * "
   ]
  },
  {
   "cell_type": "code",
   "execution_count": 2,
   "metadata": {
    "collapsed": false
   },
   "outputs": [],
   "source": [
    "%matplotlib inline"
   ]
  },
  {
   "cell_type": "markdown",
   "metadata": {},
   "source": [
    "### Functions for retrieving and plotting pupil magnification data from Zemax files "
   ]
  },
  {
   "cell_type": "markdown",
   "metadata": {},
   "source": [
    "#### Function to retrieve pupil magnification data"
   ]
  },
  {
   "cell_type": "markdown",
   "metadata": {},
   "source": [
    "Note that irrespective of the Lens Unit set in the lens file, Zemax always returns the focal length in mm, so there is no need to check and/or change the lens unit before getting the focal length."
   ]
  },
  {
   "cell_type": "code",
   "execution_count": 3,
   "metadata": {
    "collapsed": true
   },
   "outputs": [],
   "source": [
    "def get_pupilMagnification_data(ln):\n",
    "    \"\"\"return pupil magnification and other relevant data\n",
    "    \n",
    "    Parameters\n",
    "    ----------\n",
    "    ln : object\n",
    "        pyzdde object\n",
    "    \n",
    "    Returns\n",
    "    -------\n",
    "    zFileName : string\n",
    "        zmx file name (without extension and path)\n",
    "    zTitle : string\n",
    "        zmx lens title\n",
    "    fl : real\n",
    "        focal length (mm)\n",
    "    imgFNum : real\n",
    "        the image space F/# is the infinite conjugate paraxial F/# \n",
    "        i.e. eff. focal length / paraxial entrance pupil diameter\n",
    "    mp : real\n",
    "        pupil magnification \n",
    "    \"\"\"\n",
    "    LENS_TITLE = 16\n",
    "    zfileName = os.path.split(ln.zGetFile())[1].split('.')[0]\n",
    "    zTitle = ln.zGetSystemProperty(code=LENS_TITLE)\n",
    "    mp = ln.zGetPupilMagnification()\n",
    "    imgNAper = ln.zGetImageSpaceNA()\n",
    "    imgFNum = pyz.numAper2fnum(imgNAper) if imgNAper else np.Inf\n",
    "    fl = ln.zGetFirst().EFL\n",
    "    return zfileName, zTitle, fl, imgFNum, mp\n"
   ]
  },
  {
   "cell_type": "markdown",
   "metadata": {},
   "source": [
    "#### Function to generate pupil magnification data files"
   ]
  },
  {
   "cell_type": "code",
   "execution_count": 4,
   "metadata": {
    "collapsed": false
   },
   "outputs": [],
   "source": [
    "def create_pupil_mag_data_files(dirList):\n",
    "    \"\"\"creates text files in the current directory with names\n",
    "    \"pupil_mag_data_xxx.txt\". \n",
    "    \n",
    "    Parameters\n",
    "    ----------\n",
    "    dirList : list of strings\n",
    "        list of directory names (strings) under \"<curr_dir>\\zmxfiles\".\n",
    "        Each directory in the ``dirList`` contain zemax files\n",
    "        \n",
    "    Returns\n",
    "    -------\n",
    "    None\n",
    "    \n",
    "    Notes\n",
    "    -----\n",
    "    1. Each file contains data (as shown below) produced from the \n",
    "       zmx files present in the directory named \"xxx\", where, \n",
    "       \"xxx\" are directory names in the ``dirList``, such as \n",
    "       \"doublegauss\", \"doubleMeniscus\", etc.\n",
    "    \n",
    "       Format of pupil magnification data:\n",
    "    \n",
    "       FILENAME, LENS TITLE, FOCAL LENGTH (mm), F-NUMBER, PUPIL MAG\n",
    "    \n",
    "       E.g. E_001, COOKE TRIPLET ANASTIGMAT, 127.04, 3.50, 1.0197\n",
    "    \n",
    "    2. Call this function to generate new data. Data files shall be \n",
    "       overwritten.\n",
    "    \"\"\"\n",
    "    currDir = os.path.join(os.getcwd(), 'zmxfiles')\n",
    "    ln = pyz.createLink()\n",
    "    for eachDir in dirList:\n",
    "        eachDirPath = os.path.join(currDir, eachDir)\n",
    "        fnames = [os.path.join(eachDirPath, zfile)\n",
    "                  for zfile in os.listdir(eachDirPath) if zfile.lower().endswith(\".zmx\")]\n",
    "        txtFileName = 'pupil_mag_data_{}.txt'.format(eachDir)\n",
    "        with open(txtFileName, 'w') as dfile:\n",
    "            for eachFile in fnames:\n",
    "                ln.zLoadFile(eachFile)\n",
    "                data = get_pupilMagnification_data(ln)\n",
    "                if data[3] < 5000: # if f-number are < 5000\n",
    "                    dfile.write('{}, {}, {:0.2f}, {:0.2f}, {:0.4f}\\n'\n",
    "                                .format(data[0], data[1].replace(',','-'),\n",
    "                                        data[2], data[3], data[4]))\n",
    "    ln.close()\n",
    "    print('Created data files in the directory:\\n{}'.format(currDir))"
   ]
  },
  {
   "cell_type": "markdown",
   "metadata": {},
   "source": [
    "#### Function to plot pupil magnification data"
   ]
  },
  {
   "cell_type": "code",
   "execution_count": 5,
   "metadata": {
    "collapsed": false
   },
   "outputs": [],
   "source": [
    "def plot_pupil_magnification(dirList, legTxt, cols, which='focalLength', xMax=16, \n",
    "                             yMax=None, savefig=False, figFileName=None):\n",
    "    \"\"\"function to create a scatter plot from pupil magnification data\n",
    "    \n",
    "    Parameters\n",
    "    ----------\n",
    "    dirList : list\n",
    "        list of directory names \n",
    "    legTxt : list\n",
    "        list of legend text\n",
    "    cols : list\n",
    "        list of colors\n",
    "    which : string, optional\n",
    "        `focalLength` or `fnumber` to plot the pupil mag. against\n",
    "        focal length or fnumber.\n",
    "    xMax : real, optional\n",
    "        the maximum value of pupil magnification to plot\n",
    "        i.e. maximum x-axis value. The x-axis is always logarithmically\n",
    "        scaled with base 2.\n",
    "    yMax : real, optional\n",
    "        the maximum value of y-axis to plot. If `yMax` > 1000, then the\n",
    "        y-axis is logarithmically scaled with base 10.\n",
    "    savefig : bool, optional\n",
    "        whether to save the figure in the current directory\n",
    "    figFileName : bool, optional\n",
    "        filename for the figure if it is going to be saved. If not\n",
    "        given, then the file name \"pupil_mag_plot.png\" is used.\n",
    "        \n",
    "    Returns\n",
    "    -------\n",
    "    None\n",
    "    \"\"\"\n",
    "    if (len(dirList) * len(legTxt) * len(cols) / len(cols)**3) - 1:\n",
    "        raise ValueError, 'The lists must have equal length!'\n",
    "    \n",
    "    curDir = os.getcwd()\n",
    "    fig, ax = plt.subplots(nrows=1, ncols=1, figsize=(10, 5))\n",
    "    \n",
    "    # actual plot of the data\n",
    "    ydataIndex = 3 if which == 'fnumber' else 2\n",
    "    for i, each in enumerate(dirList):\n",
    "        txtFileName = os.path.join(curDir, 'pupil_mag_data_{}.txt'.format(each))\n",
    "        ydata = []\n",
    "        pupilmag = []\n",
    "        with open(txtFileName, 'r') as dfile:\n",
    "            for line in dfile:\n",
    "                data = line.rstrip().split(',')\n",
    "                ydata.append(abs(float(data[ydataIndex])))\n",
    "                pupilmag.append(float(data[4]))\n",
    "        ax.scatter(pupilmag, ydata, c=cols[i], s=50, alpha=0.7, lw=0.4, label=legTxt[i])\n",
    "\n",
    "    # figure decorations\n",
    "    if which == 'focalLength':\n",
    "        ylabel = 'Focal Length (mm)'\n",
    "    else:\n",
    "        ylabel = 'F/# (infinite conjugate)'\n",
    "    ax.set_ylabel(ylabel, fontsize=14)\n",
    "    ax.set_xlabel('Pupil Magnification ($m_p$)', fontsize=14)\n",
    "    \n",
    "    #set axis limits\n",
    "    ax.set_xlim(0, xMax)\n",
    "    \n",
    "    if yMax == None:\n",
    "        yMax = 20.25 if which == 'fnumber' else 250\n",
    "    \n",
    "    \n",
    "    if yMax < 1000: # if yMax > 1000, use log10 scale for y\n",
    "        yMin = -0.1 if which == 'fnumber' else -5\n",
    "        ax.set_ylim(yMin, yMax)\n",
    "    else:\n",
    "        ax.set_ylim(ymin=0) \n",
    "    \n",
    "    #set spines and tick positions, x-axis scale\n",
    "    ax.spines['right'].set_visible(False)\n",
    "    ax.spines['top'].set_visible(False)\n",
    "    ax.xaxis.set_ticks_position('bottom')\n",
    "    ax.yaxis.set_ticks_position('left')\n",
    "    \n",
    "    # scale x-axis\n",
    "    ax.set_xscale(value='symlog', basex=2, linthreshx=1.0, \n",
    "                  subsx=[0.25, 0.5, 0.75, 4, 8])\n",
    "    ticloc = ax.xaxis.get_ticklocs()\n",
    "    ax.xaxis.set_ticklabels(ticloc)\n",
    "    \n",
    "    # scale y-axis if yMax > 1000\n",
    "    if yMax > 1000:\n",
    "        ax.set_yscale(value='symlog', basey=10, linthreshy=1.0)\n",
    "        ticloc = ax.yaxis.get_ticklocs()\n",
    "        ax.yaxis.set_ticklabels(ticloc)\n",
    "    # vertical line at x=1.0 to show mp=1\n",
    "    ax.axvline(x=1.0, color='k', linestyle='dashed', \n",
    "               linewidth=0.7, alpha=0.4)\n",
    "    # mark x=0.5 if xMax=16\n",
    "    if xMax==16:\n",
    "        xtickCol = ax.xaxis.get_ticklabels()[0].get_color()\n",
    "        xtickFontSize = ax.xaxis.get_ticklabels()[0].get_fontsize()\n",
    "        fig.text(x=0.243, y=0.075, s='0.5', fontsize=xtickFontSize, color=xtickCol)\n",
    "\n",
    "    ax.legend(fontsize=12, scatterpoints=1, markerscale=1.0, scatteryoffsets=[0.5])\n",
    "    \n",
    "    # \n",
    "    if savefig:\n",
    "        figname = figFileName if figFileName else \"pupil_mag_plot.png\"\n",
    "        fig.savefig(figname, dpi=400, bbox_inches='tight', pad_inches=0.04)\n",
    "\n",
    "    plt.show()"
   ]
  },
  {
   "cell_type": "markdown",
   "metadata": {},
   "source": [
    "### Pupil magnification data for imaging lenses "
   ]
  },
  {
   "cell_type": "markdown",
   "metadata": {},
   "source": [
    "Generate the pupil magnification data for imaging lenses"
   ]
  },
  {
   "cell_type": "code",
   "execution_count": 6,
   "metadata": {
    "collapsed": false
   },
   "outputs": [
    {
     "name": "stdout",
     "output_type": "stream",
     "text": [
      "Created data files in the directory:\n",
      "C:\\GIT_REPOSITORIES\\phd-artifacts\\chapters\\chapter03_geometricmodel\\code\\zmxfiles\n"
     ]
    }
   ],
   "source": [
    "# Call this function if new data has to be generated.\n",
    "# Pupil magnification data for imaging lenses in the database\n",
    "zmxLensDirList = ['doublegauss', 'doubleMeniscus', \n",
    "                  'inversetele_retrofocus_wideangle',\n",
    "                  'microscopeObjectives', 'telephoto', 'triplets']\n",
    "\n",
    "create_pupil_mag_data_files(zmxLensDirList)"
   ]
  },
  {
   "cell_type": "markdown",
   "metadata": {
    "collapsed": true
   },
   "source": [
    "##### Plot of focal length vs pupil magnification for imaging lenses "
   ]
  },
  {
   "cell_type": "code",
   "execution_count": 9,
   "metadata": {
    "collapsed": false
   },
   "outputs": [
    {
     "data": {
      "image/png": "[encoded data removed]",
      "text/plain": [
       "<matplotlib.figure.Figure at 0xabeba58>"
      ]
     },
     "metadata": {},
     "output_type": "display_data"
    }
   ],
   "source": [
    "zmxLensDirList = ['triplets', 'telephoto','doublegauss', 'doubleMeniscus',\n",
    "                  'inversetele_retrofocus_wideangle', 'microscopeObjectives']\n",
    "\n",
    "legendtxt = ['Triplets', 'Telephoto', 'Double Gauss', 'Double Meniscus',\n",
    "          'Retrofocus wide-angle', 'Microscope Objectives']\n",
    "\n",
    "colors = ['#4daf4a', '#377eb8', '#ff7f00', '#e41a1c',  '#f781bf', '#984ea3'] \n",
    "\n",
    "plot_pupil_magnification(zmxLensDirList, legendtxt, colors, savefig=False)"
   ]
  },
  {
   "cell_type": "markdown",
   "metadata": {},
   "source": [
    "##### Plot of F-number vs pupil magnification for imaging lenses "
   ]
  },
  {
   "cell_type": "code",
   "execution_count": 10,
   "metadata": {
    "collapsed": false
   },
   "outputs": [
    {
     "data": {
      "image/png": "[encoded data removed]",
      "text/plain": [
       "<matplotlib.figure.Figure at 0xabebcf8>"
      ]
     },
     "metadata": {},
     "output_type": "display_data"
    }
   ],
   "source": [
    "plot_pupil_magnification(zmxLensDirList, legendtxt, colors, which='fnumber')"
   ]
  },
  {
   "cell_type": "markdown",
   "metadata": {},
   "source": [
    "#### Inference"
   ]
  },
  {
   "cell_type": "markdown",
   "metadata": {},
   "source": [
    "We can infer the following by observing the plots:\n",
    "\n",
    "1. There is no correlation between pupil magnification ($m_p$) and focal length or F-number.\n",
    "2. Telephoto lenses have $m_p < 1.0$ (an explanation follows).\n",
    "3. Retro-focus wide-angle (or inverse telephoto) lenses have $m_p > 1.0$.\n",
    "4. Double meniscus lenses, which are tend to be exhibit symmetry about a plane through the lens center, have $m_p \\approx 1.0$.  \n",
    "\n",
    "The (effective) focal length of a normal lens is the distance from the rear principal plane to the plane in which an object at infinity is brought to focus. The distance required to focus an object at a finite distance is greater than the focal length as predicted by the Gaussian lens equation. The rear principal plane is located within the physical extents in a normal lens. Therefore, normal (or \"true\") long focal length lenses are at least as long as the focal length of the lens. \n",
    "\n",
    "To make *long* focal length lenses within a compact body, lens designers employ a negative focal length lens (or a group of elements with net negative focal length) behind a positive focal length lens (or a group of elements with net positive focal length). This system of combined lenses attains a positive *long* focal length within a short body (see [ref] for the governing formulae) and behaves identical to an equivalent true long focal length in terms the geometric characteristics of the image. For example, the length of a 200 mm normal lens would be at least 200 mm (at infinite conjugate). However, combining a 75 mm and a -25 mm focal length lens with a 60 mm separation produces a two-lens system with effective focal length equal to 200 mm and having a back focal length (BFL) of 40 mm. Therefore, the body of this combined lens system is only 100 mm (the separation distance plus the BFL) at infinite conjugate, which is half the length of the true long focal length lens. \n",
    "\n",
    "While the negative focal length lens (or group of elements) compacts the design, qua diverging lens, it also forms a diminutive image of the stop viewed from the image side compared to the image of the stop formed by the positive focal length elements viewed from the object side. In other words, a consequence of the telephoto design is that the exit pupil becomes smaller compared to the entrance pupil. Therefore, the pupil magnification for telephoto lenses is less than one. \n",
    "\n",
    "On the other hand, retro focus (or inverse telephoto) lens designs employ a negative focal length lens (or group) in front of a positive focal length lens (or group) in order to create sufficient space between the lens and the sensor in short focal length wide angle lenses. This arrangement results in an entrance pupil that is relatively smaller compared to the exit pupil. Therefore, the pupil magnification for retro-focus wide-angle lenses is greater than one.  \n",
    "\n",
    "\n"
   ]
  },
  {
   "cell_type": "code",
   "execution_count": 11,
   "metadata": {
    "collapsed": true
   },
   "outputs": [],
   "source": [
    "# Other statistics\n",
    "curDir = os.getcwd()\n",
    "zmxLensDirList = ['triplets', 'telephoto','doublegauss',  \n",
    "                  'doubleMeniscus', 'microscopeObjectives',\n",
    "                  'inversetele_retrofocus_wideangle']\n",
    "pupilmag = []\n",
    "\n",
    "for i, each in enumerate(zmxLensDirList):\n",
    "    txtFileName = os.path.join(curDir, 'pupil_mag_data_{}.txt'.format(each))\n",
    "    with open(txtFileName, 'r') as dfile:\n",
    "        for line in dfile:\n",
    "            data = line.rstrip().split(',')\n",
    "            pupilmag.append(float(data[4]))\n",
    "            \n",
    "pupilmag = np.array(pupilmag)"
   ]
  },
  {
   "cell_type": "code",
   "execution_count": 12,
   "metadata": {
    "collapsed": false
   },
   "outputs": [
    {
     "data": {
      "text/plain": [
       "120"
      ]
     },
     "execution_count": 12,
     "metadata": {},
     "output_type": "execute_result"
    }
   ],
   "source": [
    "len(pupilmag)"
   ]
  },
  {
   "cell_type": "code",
   "execution_count": 13,
   "metadata": {
    "collapsed": false
   },
   "outputs": [
    {
     "name": "stdout",
     "output_type": "stream",
     "text": [
      "mean m_p = 1.8309, median m_p = 1.0449\n"
     ]
    }
   ],
   "source": [
    "# mean and median\n",
    "print('mean m_p = {:0.4f}, median m_p = {:0.4f}'.format(np.mean(pupilmag), np.median(pupilmag)))"
   ]
  },
  {
   "cell_type": "code",
   "execution_count": 14,
   "metadata": {
    "collapsed": false
   },
   "outputs": [
    {
     "name": "stdout",
     "output_type": "stream",
     "text": [
      "Number of lenses = 20\n",
      "% of lenses = 17\n"
     ]
    }
   ],
   "source": [
    "# percentage of pupil magnification near 1.0\n",
    "pupilmagNearOne = np.sum(np.logical_and(0.95 < pupilmag, pupilmag < 1.05)) # within 5% of 1.0\n",
    "percentagePupilmagNearOne = np.round((100*pupilmagNearOne)/len(pupilmag))\n",
    "print('Number of lenses = {}\\n% of lenses = {:0.0f}'.format(pupilmagNearOne, percentagePupilmagNearOne))"
   ]
  },
  {
   "cell_type": "code",
   "execution_count": 15,
   "metadata": {
    "collapsed": false
   },
   "outputs": [
    {
     "data": {
      "text/plain": [
       "0.16666666666666666"
      ]
     },
     "execution_count": 15,
     "metadata": {},
     "output_type": "execute_result"
    }
   ],
   "source": [
    "1/6 # one is six lens"
   ]
  },
  {
   "cell_type": "code",
   "execution_count": 16,
   "metadata": {
    "collapsed": false
   },
   "outputs": [
    {
     "name": "stdout",
     "output_type": "stream",
     "text": [
      "Number of lenses = 112\n",
      "% of lenses = 93\n"
     ]
    }
   ],
   "source": [
    "# percentage of pupil magnification greater than 0.5\n",
    "pupilmagGrt05 = np.sum(pupilmag > 0.5)\n",
    "percentagepupilmagGrt05 = np.round((100*pupilmagGrt05)/len(pupilmag))\n",
    "print('Number of lenses = {}\\n% of lenses = {:0.0f}'.format(pupilmagGrt05, percentagepupilmagGrt05))"
   ]
  },
  {
   "cell_type": "markdown",
   "metadata": {
    "collapsed": true
   },
   "source": [
    "### Pupil magnification data for imaging and non-lenses "
   ]
  },
  {
   "cell_type": "markdown",
   "metadata": {},
   "source": [
    "#### Pupil magnification of afocal systems and beam expanders"
   ]
  },
  {
   "cell_type": "code",
   "execution_count": 17,
   "metadata": {
    "collapsed": false
   },
   "outputs": [
    {
     "name": "stdout",
     "output_type": "stream",
     "text": [
      "Created data files in the directory:\n",
      "C:\\GIT_REPOSITORIES\\phd-artifacts\\chapters\\chapter03_geometricmodel\\code\\zmxfiles\n"
     ]
    }
   ],
   "source": [
    "# Pupil magnification data for afocals, and beam-expanders\n",
    "zmxLensDirList = ['afocal_beamexpanders',]\n",
    "\n",
    "create_pupil_mag_data_files(zmxLensDirList)"
   ]
  },
  {
   "cell_type": "code",
   "execution_count": 18,
   "metadata": {
    "collapsed": false
   },
   "outputs": [
    {
     "name": "stdout",
     "output_type": "stream",
     "text": [
      "\tLens name\t\t\tPupil magnification\n",
      " 5X HENE BEAM EXPANDER............................4.9981\n",
      " 50X HENE BEAM EXPANDER...........................50.0041\n",
      " 4X TELESCOPE.....................................0.2563\n",
      " ALBADA VIEWFINDER................................1.2920\n",
      " 2X ANAMORPHIC LENS...............................1.9882\n",
      " Front conversion afocal, example 1, 4929068......0.7149\n",
      " Viewfinder, zoom, embodiment 1, 4906078..........2.1836\n"
     ]
    }
   ],
   "source": [
    "curDir = os.getcwd()\n",
    "print('\\tLens name\\t\\t\\tPupil magnification')\n",
    "for i, each in enumerate(zmxLensDirList):\n",
    "    txtFileName = os.path.join(curDir, 'pupil_mag_data_{}.txt'.format(each))\n",
    "    with open(txtFileName, 'r') as dfile:\n",
    "        for line in dfile:\n",
    "            data = line.rstrip().split(',')\n",
    "            lensName = data[1].replace('-', ',')\n",
    "            print('{:.<50}{:2.4f}'.format(lensName, float(data[4])))"
   ]
  },
  {
   "cell_type": "markdown",
   "metadata": {},
   "source": [
    "#### Pupil magnification of mirror telescopes and catadioptric systems"
   ]
  },
  {
   "cell_type": "code",
   "execution_count": 19,
   "metadata": {
    "collapsed": false
   },
   "outputs": [
    {
     "name": "stdout",
     "output_type": "stream",
     "text": [
      "Created data files in the directory:\n",
      "C:\\GIT_REPOSITORIES\\phd-artifacts\\chapters\\chapter03_geometricmodel\\code\\zmxfiles\n"
     ]
    }
   ],
   "source": [
    "# Pupil magnification data for mirror telescopes and catadioptric systems\n",
    "zmxLensDirList = ['mirror_telescopes_catadioptric',]\n",
    "create_pupil_mag_data_files(zmxLensDirList)"
   ]
  },
  {
   "cell_type": "code",
   "execution_count": 20,
   "metadata": {
    "collapsed": false
   },
   "outputs": [],
   "source": [
    "curDir = os.getcwd()\n",
    "focallength = []\n",
    "pupilmag = []\n",
    "for i, each in enumerate(zmxLensDirList):\n",
    "    txtFileName = os.path.join(curDir, 'pupil_mag_data_{}.txt'.format(each))\n",
    "    with open(txtFileName, 'r') as dfile:\n",
    "        for line in dfile:\n",
    "            data = line.rstrip().split(',')\n",
    "            focallength.append(abs(float(data[2])))\n",
    "            pupilmag.append(float(data[4]))\n",
    "            \n",
    "pupilmag = np.array(pupilmag)\n",
    "focallength = np.array(focallength)"
   ]
  },
  {
   "cell_type": "code",
   "execution_count": 21,
   "metadata": {
    "collapsed": false
   },
   "outputs": [
    {
     "name": "stdout",
     "output_type": "stream",
     "text": [
      "Number of lenses: 75\n",
      "Maximum value of focal length: 57611.92\n",
      "Minimum value of focal length: 4.0\n",
      "Maximum value of pupil magnification: 303.364\n",
      "Minimum value of pupil magnification: 0.0633\n"
     ]
    }
   ],
   "source": [
    "print('Number of lenses:', len(focallength))\n",
    "print('Maximum value of focal length:', np.max(focallength))\n",
    "print('Minimum value of focal length:', np.min(focallength))\n",
    "print('Maximum value of pupil magnification:', np.max(pupilmag))\n",
    "print('Minimum value of pupil magnification:', np.min(pupilmag))\n"
   ]
  },
  {
   "cell_type": "markdown",
   "metadata": {},
   "source": [
    "Plot the pupil magnification data for the mirror telescopes and catadioptric lenses"
   ]
  },
  {
   "cell_type": "code",
   "execution_count": 22,
   "metadata": {
    "collapsed": false
   },
   "outputs": [
    {
     "data": {
      "image/png": "[encoded data removed]",
      "text/plain": [
       "<matplotlib.figure.Figure at 0xce1ce48>"
      ]
     },
     "metadata": {},
     "output_type": "display_data"
    }
   ],
   "source": [
    "zmxLensDirList = ['mirror_telescopes_catadioptric',]\n",
    "legendtxt = ['Mirror telescopes & Catadioptric', ]\n",
    "colors = ['#e41a1c',] \n",
    "\n",
    "plot_pupil_magnification(zmxLensDirList, legendtxt, colors, xMax=16, yMax=6000)"
   ]
  },
  {
   "cell_type": "markdown",
   "metadata": {
    "collapsed": true
   },
   "source": [
    "## Effect of lens tilts and pupil magnification on image distortions "
   ]
  },
  {
   "cell_type": "code",
   "execution_count": 1,
   "metadata": {
    "collapsed": false
   },
   "outputs": [],
   "source": [
    "%load_ext autoreload"
   ]
  },
  {
   "cell_type": "code",
   "execution_count": 2,
   "metadata": {
    "collapsed": true
   },
   "outputs": [],
   "source": [
    "%autoreload 1 "
   ]
  },
  {
   "cell_type": "code",
   "execution_count": 3,
   "metadata": {
    "collapsed": true
   },
   "outputs": [],
   "source": [
    "# imports\n",
    "from __future__ import print_function, division\n",
    "import os\n",
    "import numpy as np\n",
    "import matplotlib.pyplot as plt\n",
    "import pyzdde.zdde as pyz\n",
    "%matplotlib inline"
   ]
  },
  {
   "cell_type": "code",
   "execution_count": 4,
   "metadata": {
    "collapsed": true
   },
   "outputs": [],
   "source": [
    "%aimport geometric_model_zemax_commons\n",
    "from geometric_model_zemax_commons import * "
   ]
  },
  {
   "cell_type": "code",
   "execution_count": 7,
   "metadata": {
    "collapsed": false
   },
   "outputs": [],
   "source": [
    "curDir = os.getcwd()\n",
    "# Location of the Zemax lens files for this notebook\n",
    "zmxdir = os.path.join(curDir, 'zmxfiles')\n",
    "ln = pyz.createLink()"
   ]
  },
  {
   "cell_type": "markdown",
   "metadata": {},
   "source": [
    "We load a "
   ]
  },
  {
   "cell_type": "code",
   "execution_count": 8,
   "metadata": {
    "collapsed": false
   },
   "outputs": [
    {
     "name": "stdout",
     "output_type": "stream",
     "text": [
      "Exit pupil distance from IMG: -40.0\n",
      "Entrance pupil from Surf 1: 30.0\n",
      "Focal plane obj:  -10.0 \n",
      "Focal plane img:  0.0\n",
      "Principal plane obj:  30.0 \n",
      "Principal plane img:  -40.0\n",
      "Focal length:  40.0\n",
      "Principal plane H to ENPP:  0.0\n",
      "Principal plane H' to EXPP:  0.0\n",
      "u =  0.0\n",
      "v = None\n"
     ]
    },
    {
     "ename": "TypeError",
     "evalue": "unsupported operand type(s) for *: 'NoneType' and 'float'",
     "output_type": "error",
     "traceback": [
      "\u001b[1;31m---------------------------------------------------------------------------\u001b[0m",
      "\u001b[1;31mTypeError\u001b[0m                                 Traceback (most recent call last)",
      "\u001b[1;32m<ipython-input-8-a310e2a5e5b5>\u001b[0m in \u001b[0;36m<module>\u001b[1;34m()\u001b[0m\n\u001b[0;32m      2\u001b[0m \u001b[0mlensPath\u001b[0m \u001b[1;33m=\u001b[0m \u001b[0mos\u001b[0m\u001b[1;33m.\u001b[0m\u001b[0mpath\u001b[0m\u001b[1;33m.\u001b[0m\u001b[0mjoin\u001b[0m\u001b[1;33m(\u001b[0m\u001b[0mzmxdir\u001b[0m\u001b[1;33m,\u001b[0m \u001b[0mlens\u001b[0m\u001b[1;33m)\u001b[0m\u001b[1;33m\u001b[0m\u001b[0m\n\u001b[0;32m      3\u001b[0m \u001b[0mln\u001b[0m\u001b[1;33m.\u001b[0m\u001b[0mzLoadFile\u001b[0m\u001b[1;33m(\u001b[0m\u001b[0mlensPath\u001b[0m\u001b[1;33m)\u001b[0m\u001b[1;33m\u001b[0m\u001b[0m\n\u001b[1;32m----> 4\u001b[1;33m \u001b[0mdraw_pupil_cardinal_planes\u001b[0m\u001b[1;33m(\u001b[0m\u001b[0mln\u001b[0m\u001b[1;33m,\u001b[0m \u001b[0mfirstDummySurfOff\u001b[0m\u001b[1;33m=\u001b[0m\u001b[1;36m40\u001b[0m\u001b[1;33m,\u001b[0m \u001b[0mpush\u001b[0m\u001b[1;33m=\u001b[0m\u001b[0mTrue\u001b[0m\u001b[1;33m)\u001b[0m\u001b[1;33m\u001b[0m\u001b[0m\n\u001b[0m",
      "\u001b[1;32mC:\\GIT_REPOSITORIES\\phd-artifacts\\chapters\\chapter03_geometricmodel\\code\\geometric_model_zemax_commons.py\u001b[0m in \u001b[0;36mdraw_pupil_cardinal_planes\u001b[1;34m(ln, firstDummySurfOff, push)\u001b[0m\n\u001b[0;32m    259\u001b[0m     \u001b[1;32mprint\u001b[0m\u001b[1;33m(\u001b[0m\u001b[1;34m\"Principal plane H to ENPP: \"\u001b[0m\u001b[1;33m,\u001b[0m \u001b[0mppObjToEnpp\u001b[0m\u001b[1;33m)\u001b[0m\u001b[1;33m\u001b[0m\u001b[0m\n\u001b[0;32m    260\u001b[0m     \u001b[1;32mprint\u001b[0m\u001b[1;33m(\u001b[0m\u001b[1;34m\"Principal plane H' to EXPP: \"\u001b[0m\u001b[1;33m,\u001b[0m \u001b[0mppImgToExpp\u001b[0m\u001b[1;33m)\u001b[0m\u001b[1;33m\u001b[0m\u001b[0m\n\u001b[1;32m--> 261\u001b[1;33m     \u001b[0mv\u001b[0m \u001b[1;33m=\u001b[0m \u001b[0mgaussian_lens_formula\u001b[0m\u001b[1;33m(\u001b[0m\u001b[0mu\u001b[0m\u001b[1;33m=\u001b[0m\u001b[0mppObjToEnpp\u001b[0m\u001b[1;33m,\u001b[0m \u001b[0mv\u001b[0m\u001b[1;33m=\u001b[0m\u001b[0mNone\u001b[0m\u001b[1;33m,\u001b[0m \u001b[0mf\u001b[0m\u001b[1;33m=\u001b[0m\u001b[0mfocal\u001b[0m\u001b[1;33m)\u001b[0m\u001b[1;33m\u001b[0m\u001b[0m\n\u001b[0m\u001b[0;32m    262\u001b[0m     print(\"Principal plane H' to EXPP (absolute distance) \"\n\u001b[0;32m    263\u001b[0m           \"calculated using lens equation: \", abs(v))\n",
      "\u001b[1;32mC:\\GIT_REPOSITORIES\\phd-artifacts\\chapters\\chapter03_geometricmodel\\code\\geometric_model_zemax_commons.py\u001b[0m in \u001b[0;36mgaussian_lens_formula\u001b[1;34m(u, v, f, infinity)\u001b[0m\n\u001b[0;32m     62\u001b[0m     \u001b[1;32melse\u001b[0m\u001b[1;33m:\u001b[0m\u001b[1;33m\u001b[0m\u001b[0m\n\u001b[0;32m     63\u001b[0m         \u001b[1;32mtry\u001b[0m\u001b[1;33m:\u001b[0m\u001b[1;33m\u001b[0m\u001b[0m\n\u001b[1;32m---> 64\u001b[1;33m             \u001b[0mu\u001b[0m \u001b[1;33m=\u001b[0m \u001b[1;33m(\u001b[0m\u001b[0mv\u001b[0m\u001b[1;33m*\u001b[0m\u001b[0mf\u001b[0m\u001b[1;33m)\u001b[0m\u001b[1;33m/\u001b[0m\u001b[1;33m(\u001b[0m\u001b[0mv\u001b[0m \u001b[1;33m-\u001b[0m \u001b[0mf\u001b[0m\u001b[1;33m)\u001b[0m\u001b[1;33m\u001b[0m\u001b[0m\n\u001b[0m\u001b[0;32m     65\u001b[0m         \u001b[1;32mexcept\u001b[0m \u001b[0mZeroDivisionError\u001b[0m\u001b[1;33m:\u001b[0m\u001b[1;33m\u001b[0m\u001b[0m\n\u001b[0;32m     66\u001b[0m             \u001b[0mu\u001b[0m \u001b[1;33m=\u001b[0m \u001b[0minfinity\u001b[0m\u001b[1;33m\u001b[0m\u001b[0m\n",
      "\u001b[1;31mTypeError\u001b[0m: unsupported operand type(s) for *: 'NoneType' and 'float'"
     ]
    }
   ],
   "source": [
    "lens = \"paraxialDoubleLens_mp1_infConj.zmx\"\n",
    "lensPath = os.path.join(zmxdir, lens)\n",
    "ln.zLoadFile(lensPath)\n",
    "draw_pupil_cardinal_planes(ln, firstDummySurfOff=40, push=True)"
   ]
  },
  {
   "cell_type": "code",
   "execution_count": null,
   "metadata": {
    "collapsed": true
   },
   "outputs": [],
   "source": []
  }
 ],
 "metadata": {
  "kernelspec": {
   "display_name": "Python 2",
   "language": "python",
   "name": "python2"
  },
  "language_info": {
   "codemirror_mode": {
    "name": "ipython",
    "version": 2
   },
   "file_extension": ".py",
   "mimetype": "text/x-python",
   "name": "python",
   "nbconvert_exporter": "python",
   "pygments_lexer": "ipython2",
   "version": "2.7.10"
  }
 },
 "nbformat": 4,
 "nbformat_minor": 0
}
