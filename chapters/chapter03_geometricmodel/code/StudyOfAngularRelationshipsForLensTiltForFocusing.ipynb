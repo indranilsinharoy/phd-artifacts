{
 "cells": [
  {
   "cell_type": "markdown",
   "metadata": {},
   "source": [
    "# Relationship between object and lens orientation angles in Scheimpflug imaging"
   ]
  },
  {
   "cell_type": "code",
   "execution_count": 11,
   "metadata": {
    "collapsed": true
   },
   "outputs": [],
   "source": [
    "from __future__ import print_function, division\n",
    "import os\n",
    "import numpy as np\n",
    "import sympy as sy"
   ]
  },
  {
   "cell_type": "code",
   "execution_count": 12,
   "metadata": {
    "collapsed": true
   },
   "outputs": [],
   "source": [
    "%matplotlib inline"
   ]
  },
  {
   "cell_type": "code",
   "execution_count": 13,
   "metadata": {
    "collapsed": false
   },
   "outputs": [],
   "source": [
    "# Helper functions\n",
    "sind = lambda x : np.sin(np.deg2rad(x))\n",
    "cosd = lambda x : np.cos(np.deg2rad(x))\n",
    "tand = lambda x : np.tan(np.deg2rad(x))\n",
    "arcsind = lambda x : np.rad2deg(np.arcsin(x))\n",
    "arccosd = lambda x : np.rad2deg(np.arccos(x))\n",
    "arctand = lambda x : np.rad2deg(np.arctan(x))\n",
    "\n",
    "# Helper function for saving figures\n",
    "curDir = os.getcwd()\n",
    "imgdir = os.path.join(curDir, 'images')\n",
    "if not os.path.exists(imgdir):\n",
    "    os.makedirs(imgdir)\n",
    "    print(\"Created 'images' directory\")\n",
    "\n",
    "\n",
    "bSaveFigure = True\n",
    "fig_format, fig_ext = 'png', '.png'\n",
    "def saveFigure(figure, fig_name, DPI=120):\n",
    "    if bSaveFigure:\n",
    "        figname = os.path.join(imgdir, fig_name)\n",
    "        print('figname:', figname)\n",
    "        figure.savefig(figname, dpi=DPI, facecolor='white', edgecolor='white',\n",
    "                       bbox_inches='tight', format=fig_format, pad_inches=0.03)"
   ]
  },
  {
   "cell_type": "markdown",
   "metadata": {},
   "source": [
    "### Index\n",
    "\n",
    "1. [Rotation of lens about a pivot away from the ENPP](#Rotation-of-lens-about-a-pivot-away-from-the-ENPP)\n",
    "2. [Lens rotated about the x-axis at ENPP](#Lens-rotated-about-the-x-axis-at-ENPP)\n",
    "3. [Iterative algorithm for finding lens tilt angle α](#Iterative-algorithm-for-finding-lens-tilt-angle-$\\alpha$)"
   ]
  },
  {
   "cell_type": "markdown",
   "metadata": {},
   "source": [
    "## Rotation of lens about a pivot away from the ENPP"
   ]
  },
  {
   "cell_type": "markdown",
   "metadata": {},
   "source": [
    "If the object plane is tilted about one axis (let's say the x-axis) by and angle $\\beta$ (such that, it makes angle $\\beta$ w.r.t. the vertical, y-axis), then the lens must also be rotated in the same direction (i.e. about the x-axis). If the angle of rotation of the lens is $\\alpha$, then in order for the tilted object to be in focus, $\\alpha$ and $\\beta$ must satisfy the following relationship:\n",
    "\n",
    "$$\n",
    "\\tan \\,\\beta = -\\frac{\\sin \\,\\alpha \\left[ m_p(z_o - d_e \\cos \\,\\alpha) + f(1-m_p) \\cos \\,\\alpha \\right]}{(f - m_p d_e \\sin^2 \\alpha)(m_p \\cos^2 \\alpha + \\sin^2 \\alpha)+m_p(1-m_p)d_e \\sin^2 \\alpha \\, \\cos^2 \\alpha}\n",
    "$$\n",
    "\n",
    "We will often refer to the R.H.S. of the above equation as $F(\\alpha)$."
   ]
  },
  {
   "cell_type": "markdown",
   "metadata": {},
   "source": [
    "#### Lens rotated about a changing pivot point"
   ]
  },
  {
   "cell_type": "code",
   "execution_count": 14,
   "metadata": {
    "collapsed": false
   },
   "outputs": [],
   "source": [
    "# Functions for analysing the effects of lens rotation\n",
    "\n",
    "def get_beta_shifting_pivot(x, de, zo, f, mp, alpha):\n",
    "    \"\"\"compute the object tilt angle (orientation of PoSF) for lens tilted about the x-axis\n",
    "    about a point (de + x) distance from the ENPP. \n",
    "    \n",
    "    @param: x: increment in distance of ENPP from {C} in fronto-parallel configuration\n",
    "    @param: de: directed distance of ENPP from {C} in fronto-parallel configuration.\n",
    "    @param: zo: directed distance of object plane from {C} \n",
    "    @param: f: focal length\n",
    "    @param: mp: pupil magnification\n",
    "    @param: alpha: angle of rotation (in degrees) of the lens about the pivot about x-axis\n",
    "    \"\"\"\n",
    "    c = cosd(alpha)\n",
    "    s = sind(alpha)\n",
    "    numr = s*( mp*(zo + x - (de + x)*c) + f*(1 - mp)*c)\n",
    "    deno = (f - mp*(de + x)*s**2)*(mp*c**2 + s**2) + (de + x)*mp*(1-mp)*(s**2)*(c**2)\n",
    "    return -arctand(numr/deno)\n",
    "\n",
    "def get_beta(de, zo, f, mp, alpha):\n",
    "    \"\"\"compute the object tilt angle (orientation of PoSF) for lens tilted about the x-axis\n",
    "    about a point (de) distance from the ENPP. \n",
    "    \n",
    "    @param: de: directed distance of ENPP from {C} in fronto-parallel configuration.\n",
    "    @param: zo: directed distance of object plane from {C} \n",
    "    @param: f: focal length\n",
    "    @param: mp: pupil magnification\n",
    "    @param: alpha: angle of rotation (in degrees) of the lens about the pivot about x-axis\n",
    "    \"\"\"\n",
    "    return get_beta_shifting_pivot(0.0, de, zo, f, mp, alpha)\n",
    "\n",
    "def get_zoDash(zo, alpha, beta, f, mp, de, deDash):\n",
    "    \"\"\"compute image plane distance (along z-axis of {C})\n",
    "    \n",
    "    @param: zo: directed distance of object plane from {C} \n",
    "    @param: alpha: angle of rotation (in degrees) of the lens about the pivot about x-axis\n",
    "    @param: beta: angle of rotation (in degrees) of the object plane about it's pivot about x-axis\n",
    "    @param: f: focal length\n",
    "    @param: mp: pupil magnification\n",
    "    @param: de: directed distance of ENPP from {C} in fronto-parallel configuration.\n",
    "    @param: deDash: directed distance of EXPP from {C} in fronto-parallel configuration.\n",
    "    \"\"\"\n",
    "    c = cosd(alpha)\n",
    "    s = sind(alpha)\n",
    "    t = tand(beta)\n",
    "    z = zo - de*(s*t + c)\n",
    "    numr = mp*f*(mp*c**2 + s**2)*z\n",
    "    deno = mp*c*z + f\n",
    "    return deDash*c + numr/deno\n",
    "\n",
    "def get_tanBeta(de, zo, f, mp, alpha):\n",
    "    \"\"\"same as the function `get_beta()`, except that it returns tan(beta) instead of beta\n",
    "    \"\"\"\n",
    "    c = cosd(alpha)\n",
    "    s = sind(alpha)\n",
    "    numr = -s*(mp*(zo - de*c) + f*(1 - mp)*c)\n",
    "    deno = (f - mp*de*s**2)*(mp*c**2 + s**2) + de*mp*(1-mp)*(s**2)*(c**2)\n",
    "    return numr/deno\n",
    "\n",
    "def beta_thin(zo, f, alpha):\n",
    "    \"\"\"compute beta using thin-lens approximation. If the lens is rotated about the ENPP\n",
    "    and the pupil magnification equals one, then this relation is exact too.\n",
    "    \"\"\"\n",
    "    return -arctand(zo*sind(alpha)/f)"
   ]
  },
  {
   "cell_type": "code",
   "execution_count": 15,
   "metadata": {
    "collapsed": false
   },
   "outputs": [
    {
     "name": "stdout",
     "output_type": "stream",
     "text": [
      "zo = -509.00, zoDash = 24.17, d = -20.00, ze = -504.00, zeDash = 49.17\n",
      "zo = -508.00, zoDash = 25.17, d = -20.00, ze = -504.00, zeDash = 49.17\n",
      "zo = -507.00, zoDash = 26.17, d = -20.00, ze = -504.00, zeDash = 49.17\n"
     ]
    }
   ],
   "source": [
    "# ex. optical system \"paraxialDoubleLens24mmFiniteConj_mp2.zmx\"\n",
    "zo = -509.0\n",
    "f = 24.0\n",
    "mp = 2.0\n",
    "de = -5.0        # along the optical axis\n",
    "deDash = -25.0   # along the optical axis\n",
    "\n",
    "#Image position (zoDash): 24.1707317\n",
    "#Obj. distance from ENPP (|ze|): 504.0\n",
    "#Image position from EXPP (|zeDash|): 49.1707316951\n",
    "\n",
    "# First we ensure that the object-to-ENPP distance (ze) and EXPP-to-image distance (zeDash)\n",
    "# remains fixed in frontoparallel configuration for different values of x.\n",
    "alpha = 0\n",
    "for x in range(3):\n",
    "    zoNew = zo + x\n",
    "    deNew = de + x\n",
    "    deDashNew = deDash + x\n",
    "    ze = zoNew - deNew*cosd(alpha)\n",
    "    # since the function get_zoDash computes zoNew, and deNew we just pass zo and de (the initial values)\n",
    "    beta = get_beta_shifting_pivot(x=x, de=de, zo=zo, f=f, mp=mp, alpha=alpha) \n",
    "    zoDash = get_zoDash(zo=zoNew, alpha=alpha, beta=beta, f=f, mp=mp, de=deNew, deDash=deDashNew)\n",
    "    zeDash = zoDash - deDashNew*cosd(alpha)\n",
    "    print(('zo = {:3.2f}, zoDash = {:3.2f}, d = {:3.2f}, ze = {:3.2f}, zeDash = {:3.2f}'\n",
    "           .format(zoNew, zoDash, deDashNew - deNew, ze, zeDash)))"
   ]
  },
  {
   "cell_type": "code",
   "execution_count": null,
   "metadata": {
    "collapsed": false
   },
   "outputs": [],
   "source": []
  },
  {
   "cell_type": "code",
   "execution_count": 16,
   "metadata": {
    "collapsed": false
   },
   "outputs": [
    {
     "data": {
      "image/png": "[encoded data removed]",
      "text/plain": [
       "<matplotlib.figure.Figure at 0xbd13dd8>"
      ]
     },
     "metadata": {},
     "output_type": "display_data"
    }
   ],
   "source": [
    "FIGURE_FOR_WORD = False\n",
    "\n",
    "alphaArr = [0, -5, -10]\n",
    "\n",
    "if FIGURE_FOR_WORD:\n",
    "    fig, axes = plt.subplots(3, 1, sharex=True, figsize=(6.4, 4.8))\n",
    "    tsf = 1.0  # text scale factor\n",
    "else:\n",
    "    fig, axes = plt.subplots(3, 1, sharex=True, figsize=(8, 6))\n",
    "    tsf = 1.25\n",
    "    \n",
    "(ax0, ax1, ax2) = axes.flatten()\n",
    "\n",
    "x = np.linspace(-5, 5, 21)   # range of displacements\n",
    "\n",
    "beta0 = get_beta_shifting_pivot(x=x, de=de, zo=zo, f=f, mp=mp, alpha=alphaArr[0])\n",
    "beta1 = get_beta_shifting_pivot(x=x, de=de, zo=zo, f=f, mp=mp, alpha=alphaArr[1])\n",
    "beta2 = get_beta_shifting_pivot(x=x, de=de, zo=zo, f=f, mp=mp, alpha=alphaArr[2])\n",
    "beta0Mean = np.mean(beta0)\n",
    "beta1Mean = np.mean(beta1)\n",
    "beta2Mean = np.mean(beta2)\n",
    "\n",
    "rangeBeta0 = '{:0.3f}'.format(np.max(beta0) - np.min(beta0))\n",
    "rangeBeta1 = '{:0.3f}'.format(np.max(beta1) - np.min(beta1))\n",
    "rangeBeta2 = '{:0.3f}'.format(np.max(beta2) - np.min(beta2))\n",
    "\n",
    "# figure  (the figure and font size in the figure are optimized for saving for embedding into word)\n",
    "#print(beta0Mean, beta1Mean, beta2Mean)\n",
    "alphaLight = 0.16\n",
    "lwLight = 1.5\n",
    "lwEmph = 1.5\n",
    "\n",
    "ax0.plot(x, beta0, color='#3A9AFF', lw=lwEmph, \n",
    "        label=r'$\\alpha={}^o$'.format(alphaArr[0]), zorder=10)\n",
    "ax0.plot(x, beta1 - beta1Mean,  color='#FC9500', alpha=alphaLight, lw=lwLight,\n",
    "        label=r'$\\alpha={}^o$'.format(alphaArr[1]), zorder=8)\n",
    "ax0.plot(x, beta2 - beta2Mean, color='#FF3F7A', alpha=alphaLight, lw=lwLight,\n",
    "        label=r'$\\alpha={}^o$'.format(alphaArr[2]), zorder=8)\n",
    "ax0.text(0.45, 0.8, r'$Range(\\beta)={}$'.format(rangeBeta0), fontsize=11*tsf, transform=ax0.transAxes)\n",
    "#\n",
    "ax1.plot(x, beta0 + beta1Mean, color='#3A9AFF', alpha=alphaLight, lw=lwLight,\n",
    "        label=r'$\\alpha={}^o$'.format(alphaArr[0]), zorder=8)\n",
    "ax1.plot(x, beta1, color='#FC9500', lw=lwEmph,\n",
    "        label=r'$\\alpha={}^o$'.format(alphaArr[1]), zorder=10)\n",
    "ax1.plot(x, beta2 + (beta1Mean - beta2Mean), color='#FF3F7A', alpha=alphaLight, lw=lwLight,\n",
    "        label=r'$\\alpha={}^o$'.format(alphaArr[2]), zorder=8)\n",
    "ax1.text(0.45, 0.8, r'$Range(\\beta)={}$'.format(rangeBeta1), fontsize=11*tsf, transform=ax1.transAxes)\n",
    "#\n",
    "ax2.plot(x, beta0 + beta2Mean, color='#3A9AFF', alpha=alphaLight, lw=lwLight,\n",
    "        label=r'$\\alpha={}^o$'.format(alphaArr[0]), zorder=8)\n",
    "ax2.plot(x, beta1 + (beta2Mean - beta1Mean), color='#FC9500', alpha=alphaLight, lw=lwLight,\n",
    "        label=r'$\\alpha={}^o$'.format(alphaArr[1]), zorder=8)\n",
    "ax2.plot(x, beta2, color='#FF3F7A', lw=lwEmph,\n",
    "        label=r'$\\alpha={}^o$'.format(alphaArr[2]), zorder=10)\n",
    "ax2.text(0.45, 0.8, r'$Range(\\beta)={}$'.format(rangeBeta2), fontsize=11*tsf, transform=ax2.transAxes)\n",
    "\n",
    "# plot decorations\n",
    "# common to all axes\n",
    "for l, ax in zip(['(a)', '(b)', '(c)'], [ax0, ax1, ax2]):\n",
    "    ax.set_xlim(x[0]-0.2, x[-1] + 0.2)                # x limit\n",
    "    #ax.grid(axis='y', alpha=0.4)\n",
    "    ax.yaxis.set_major_locator(plt.MaxNLocator(5))    # number of ticks\n",
    "    ax.yaxis.set_ticks_position('left')               # tick \n",
    "    ax.set_ylabel(r'$\\beta^o$', fontsize=14*tsf)          # y-label\n",
    "    # ticks\n",
    "    for tick in ax.xaxis.get_major_ticks():\n",
    "        tick.label.set_fontsize(9*tsf) \n",
    "    for tick in ax.yaxis.get_major_ticks():\n",
    "        tick.label.set_fontsize(9*tsf)\n",
    "    # legend\n",
    "    ax.legend(loc=(0.79, 0.5), labelspacing=0.008, fontsize=10*tsf)\n",
    "    # subplot id label  \n",
    "    ax.text(1.01, 0.065, l, fontsize=13, color='#404040', transform=ax.transAxes)\n",
    "    \n",
    "ax0.xaxis.set_ticks_position('bottom')\n",
    "ax2.set_xlabel(r'$x\\,\\,(mm)$', fontsize=14*tsf)\n",
    "\n",
    "fig.tight_layout()\n",
    "\n",
    "# Save the figure  \n",
    "#saveFigure(fig, 'object_tilt_angle_with_pivot_movement.png')\n",
    "\n",
    "plt.show()"
   ]
  },
  {
   "cell_type": "markdown",
   "metadata": {},
   "source": [
    "<font color='red'>**Question**</font> For given $\\alpha$ do we always get unique $\\beta$?"
   ]
  },
  {
   "cell_type": "code",
   "execution_count": 17,
   "metadata": {
    "collapsed": false
   },
   "outputs": [
    {
     "data": {
      "image/png": "[encoded data removed]",
      "text/plain": [
       "<matplotlib.figure.Figure at 0xb2e4978>"
      ]
     },
     "metadata": {},
     "output_type": "display_data"
    }
   ],
   "source": [
    "# plot of alpha vs. beta  \n",
    "# this plot shows that given alpha, we can get a unique beta within +/-90°\n",
    "alpha = np.linspace(-25., 25., 51)\n",
    "beta = get_beta(de=-5.0, zo=-509.0, f=24.0, mp=2.0, alpha=alpha)\n",
    "\n",
    "plt.plot(alpha, beta)\n",
    "plt.xlabel(r'$\\alpha^o$', fontsize=17)\n",
    "plt.ylabel(r'$\\beta^o$', fontsize=17)\n",
    "plt.grid()\n",
    "plt.show()"
   ]
  },
  {
   "cell_type": "markdown",
   "metadata": {
    "collapsed": false
   },
   "source": [
    "The above plot seems to suggest that we get unique $\\beta$ for a given $\\alpha$. Note that although the `tan` function is not monotonic over the whole domain of real numbers, it is monotonic in $[-\\pi/2, \\pi/2]$. \n",
    "\n",
    "But .... "
   ]
  },
  {
   "cell_type": "markdown",
   "metadata": {},
   "source": [
    "As we can see in the figures below, $F(\\alpha)$ <font color='red'>**may not be monotonic**</font>. Therefore, we might end up getting multiple values of $\\beta$ (and $\\tan \\,\\beta$) for the same value of $\\alpha$. So, there are some combinations of the optical system parameters that makes $F(\\alpha)$ non-monotonic."
   ]
  },
  {
   "cell_type": "code",
   "execution_count": 18,
   "metadata": {
    "collapsed": false
   },
   "outputs": [
    {
     "data": {
      "image/png": "[encoded data removed]",
      "text/plain": [
       "<matplotlib.figure.Figure at 0xc24df28>"
      ]
     },
     "metadata": {},
     "output_type": "display_data"
    },
    {
     "name": "stdout",
     "output_type": "stream",
     "text": [
      "3.1330701123 3.1330701123 72.298177969\n"
     ]
    }
   ],
   "source": [
    "# emperically find alpha values for which we get same value of beta \n",
    "# Here, I manually found the second alpha by minimized the error visually!\n",
    "\n",
    "zo=-509.0\n",
    "f = 24.0\n",
    "de=-5.0\n",
    "\n",
    "mp=0.15; alpha=45\n",
    "#mp=0.1; alpha=15\n",
    "\n",
    "tBeta0 = get_tanBeta(de=de, zo=zo, f=f, mp=mp, alpha=alpha)\n",
    "#alphaArr = np.linspace(33.837970239821, 33.837970239825) # for mp=0.1; alpha=15\n",
    "alphaArr = np.linspace(17.646249708999, 17.646249709)   # for mp=0.15; alpha=45\n",
    "absErr = []\n",
    "for each in alphaArr:\n",
    "    tBeta1 = get_tanBeta(de=de, zo=zo, f=f, mp=mp, alpha=each)\n",
    "    absErr.append(abs(tBeta1 - tBeta0))\n",
    "\n",
    "absErr = np.array(absErr)\n",
    "\n",
    "plt.plot(alphaArr, absErr)\n",
    "plt.show()\n",
    "\n",
    "print(get_tanBeta(de=de, zo=zo, f=f, mp=0.15, alpha=17.646249709), \n",
    "      get_tanBeta(de=de, zo=zo, f=f, mp=0.15, alpha=45.0), \n",
    "      get_beta(de=de, zo=zo, f=f, mp=0.15, alpha=45))\n",
    "\n",
    "#print(get_tanBeta(de=de, zo=zo, f=f, mp=0.1, alpha=15.0), \n",
    "#      get_tanBeta(de=de, zo=zo, f=f, mp=0.1, alpha=33.837970239821), \n",
    "#      get_beta(de=de, zo=zo, f=f, mp=0.1, alpha=15))\n",
    "\n",
    "# Emperically found\n",
    "# for mp=0.15; alpha=17.646249709, 45; tanbeta = 3.1330701123; beta = 72.298177969\n",
    "# for mp=0.1; alpha=15.0, 33.837970239821; tanbeta = 2.00014403634; beta = 63.4365992627"
   ]
  },
  {
   "cell_type": "markdown",
   "metadata": {
    "collapsed": true
   },
   "source": [
    "The following plots demonstrates that for some values of $m_p$ (or perhaps, for certain combination of lens parameters $m_p$, $f$, $d_e$ and object distance $z_o$), the plot of $F(\\alpha)$ (and therefore $\\beta$) is not monotonic for increasing values of $\\alpha$. "
   ]
  },
  {
   "cell_type": "code",
   "execution_count": null,
   "metadata": {
    "collapsed": false
   },
   "outputs": [],
   "source": []
  },
  {
   "cell_type": "code",
   "execution_count": 108,
   "metadata": {
    "collapsed": false
   },
   "outputs": [
    {
     "data": {
      "image/png": "[encoded data removed]",
      "text/plain": [
       "<matplotlib.figure.Figure at 0xce4d400>"
      ]
     },
     "metadata": {},
     "output_type": "display_data"
    }
   ],
   "source": [
    "# plot of alpha vs. beta \n",
    "\n",
    "FIGURE_FOR_WORD = False\n",
    "\n",
    "# this plot shows that given alpha, we MAY NOT get a unique beta within +/-90°\n",
    "zo = -509.0\n",
    "f = 24.0\n",
    "de = -5.0\n",
    "\n",
    "\n",
    "if FIGURE_FOR_WORD:\n",
    "    fig, (ax0, ax1) = plt.subplots(2, 1, sharex=True, figsize=(6.4, 4.8))\n",
    "    tsf = 1.0  # text scale factor\n",
    "else:\n",
    "    fig, (ax0, ax1) = plt.subplots(2, 1, sharex=True, figsize=(8, 6))\n",
    "    tsf = 1.25\n",
    "\n",
    "alpha = np.linspace(0., 50., 1000)\n",
    "\n",
    "for i, mp in enumerate([1.0, 0.5, 0.15,]):\n",
    "    beta = get_beta(de=de, zo=zo, f=f, mp=mp, alpha=alpha)\n",
    "    tBeta = get_tanBeta(de=de, zo=zo, f=f, mp=mp, alpha=alpha)\n",
    "    legTxt = r'$m_p={}$'.format(mp)\n",
    "    ax0.plot(alpha, beta, label=legTxt)\n",
    "    ax1.plot(alpha, tBeta, label=legTxt)\n",
    "    \n",
    "# plot the non-unique alpha, beta points for illustration\n",
    "# These values were emperically found\n",
    "# for mp=0.15; alpha=17.646249709, 45; tanbeta = 3.1330701123; beta = 72.298177969\n",
    "ax0.axhline(72.298177969, color='#888888', alpha=0.8, lw=1.2, linestyle='dashed')\n",
    "ax1.axhline(3.1330701123, color='#888888', alpha=0.8, lw=1.2, linestyle='dashed')\n",
    "ax0.axvline(17.646249709, ymin=0.02, color='#888888', alpha=0.8, lw=1.2, linestyle='dashed')\n",
    "ax0.axvline(45.0, ymin=0.02, color='#888888', alpha=0.8, lw=1.2, linestyle='dashed')\n",
    "ax1.axvline(x=17.646249709, ymin=0, ymax=1.15, color='#888888', alpha=0.8, lw=1.2, \n",
    "            linestyle='dashed', clip_on=False)\n",
    "ax1.axvline(x=45.0, ymin=0, ymax=1.15, color='#888888', alpha=0.8, lw=1.2, \n",
    "            linestyle='dashed', clip_on=False)\n",
    "# for mp=0.1; alpha=15.0, 33.837970239821; tanbeta = 2.00014403634; beta = 63.4365992627\n",
    "#ax0.axhline(63.4365992627)\n",
    "#ax1.axhline(2.00014403634)\n",
    "\n",
    "# figure decorations\n",
    "for ax in [ax0, ax1]:\n",
    "    ax.grid(axis='y', alpha=0.6)\n",
    "    ax.yaxis.set_major_locator(plt.MaxNLocator(10))    # number of ticks\n",
    "    ax.yaxis.set_ticks_position('left')                # tick\n",
    "    # ticks\n",
    "    for tick in ax.xaxis.get_major_ticks():\n",
    "        tick.label.set_fontsize(9*tsf) \n",
    "    for tick in ax.yaxis.get_major_ticks():\n",
    "        tick.label.set_fontsize(9*tsf)\n",
    "\n",
    "# Text to indicate angles\n",
    "ax0.text(1, 74,  r'$72.2982^o$', fontsize=11*tsf)\n",
    "ax1.text(1, 3.4, r'$3.13307$', fontsize=11*tsf)\n",
    "ax0.text(16.3, 11,  r'$17.6463^o$', rotation='vertical', va='bottom', fontsize=11*tsf)\n",
    "ax0.text(43.8, 11,  r'$45.0^o$', rotation='vertical', va='bottom', fontsize=11*tsf)\n",
    "\n",
    "ax0.xaxis.set_ticks_position('bottom')\n",
    "ax1.set_xlabel(r'$\\alpha^o$', fontsize=14*tsf)\n",
    "ax0.set_ylabel(r'$\\beta^o$', fontsize=14*tsf)\n",
    "ax1.set_ylabel(r'$\\rm{tan}\\, \\beta$', fontsize=14*tsf)\n",
    "# legend\n",
    "#ax.legend(loc=(0.01, 0.8), labelspacing=0.008, fontsize=10*tsf)\n",
    "\n",
    "ax0.legend(fontsize=10*tsf, ncol=3, loc='lower left', bbox_to_anchor=(0.465, 0.94, 0.5, 0.5), \n",
    "          bbox_transform=fig.transFigure, handletextpad=0.2, handlelength=1.7)\n",
    "\n",
    "fig.tight_layout()\n",
    "\n",
    "# Save the figure  \n",
    "#saveFigure(fig, 'alpha_vs_beta_with_mp_lens_tilt_away_from_enpp.png')\n",
    "\n",
    "plt.show()"
   ]
  },
  {
   "cell_type": "markdown",
   "metadata": {},
   "source": [
    "So, now we need to answer the following **two questions**:\n",
    "\n",
    "(1) How can we detect the situation when multiple (probably just two) $\\alpha$ for which we get the same $\\beta$?\n",
    "\n",
    "(2) Can we find an algebraic expression (a function of the relevant optical parameters) for the condition?\n",
    "\n",
    "In order to answer (1), we can take the derivative of $F(\\alpha)$ w.r.t. $\\alpha$ and find out if the derivative, $F'(\\alpha)$, is always positive (monotonically increasing) or always negative (monotonically decreasing) with an interval $[a, b]$. If $F'(\\alpha)$ changes sign within the chosen interval $[a, b]$, then $F(\\alpha)$ is not monotonic. In other words, if we can find real roots of $F'(\\alpha)$, then $F(\\alpha)$ is not monotonic. "
   ]
  },
  {
   "cell_type": "markdown",
   "metadata": {},
   "source": [
    "We will find the derivative using SymPy."
   ]
  },
  {
   "cell_type": "code",
   "execution_count": 10,
   "metadata": {
    "collapsed": false
   },
   "outputs": [
    {
     "data": {
      "text/latex": [
       "$$- \\frac{\\left(f \\left(- m_{p} + 1\\right) \\cos{\\left (\\alpha \\right )} + m_{p} \\left(- d_{e} \\cos{\\left (\\alpha \\right )} + z_{o}\\right)\\right) \\sin{\\left (\\alpha \\right )}}{d_{e} m_{p} \\left(- m_{p} + 1\\right) \\sin^{2}{\\left (\\alpha \\right )} \\cos^{2}{\\left (\\alpha \\right )} + \\left(m_{p} \\cos^{2}{\\left (\\alpha \\right )} + \\sin^{2}{\\left (\\alpha \\right )}\\right) \\left(- d_{e} m_{p} \\sin^{2}{\\left (\\alpha \\right )} + f\\right)}$$"
      ],
      "text/plain": [
       "              -(f⋅(-m_p + 1)⋅cos(α) + m_p⋅(-dₑ⋅cos(α) + zₒ))⋅sin(α)           \n",
       "──────────────────────────────────────────────────────────────────────────────\n",
       "                     2       2      ⎛       2         2   ⎞ ⎛            2    \n",
       "dₑ⋅m_p⋅(-m_p + 1)⋅sin (α)⋅cos (α) + ⎝m_p⋅cos (α) + sin (α)⎠⋅⎝- dₑ⋅m_p⋅sin (α) \n",
       "\n",
       "    \n",
       "────\n",
       "   ⎞\n",
       "+ f⎠"
      ]
     },
     "execution_count": 10,
     "metadata": {},
     "output_type": "execute_result"
    }
   ],
   "source": [
    "sy.init_printing(pretty_print=True, use_latex='mathjax')\n",
    "a, mp, zo, f, de = sy.symbols('alpha, m_p, z_o, f, d_e', real=True)\n",
    "numr = -sy.sin(a)*(mp*(zo - de*sy.cos(a)) + f*(1 - mp)*sy.cos(a))\n",
    "deno = (f - mp*de*sy.sin(a)**2)*(mp*sy.cos(a)**2 + sy.sin(a)**2) + mp*(1-mp)*de*sy.sin(a)**2*sy.cos(a)**2\n",
    "expr = numr/deno\n",
    "expr"
   ]
  },
  {
   "cell_type": "code",
   "execution_count": 11,
   "metadata": {
    "collapsed": false
   },
   "outputs": [
    {
     "data": {
      "text/latex": [
       "$$- \\frac{\\left(d_{e} m_{p} \\sin{\\left (\\alpha \\right )} - f \\left(- m_{p} + 1\\right) \\sin{\\left (\\alpha \\right )}\\right) \\sin{\\left (\\alpha \\right )}}{d_{e} m_{p} \\left(- m_{p} + 1\\right) \\sin^{2}{\\left (\\alpha \\right )} \\cos^{2}{\\left (\\alpha \\right )} + \\left(m_{p} \\cos^{2}{\\left (\\alpha \\right )} + \\sin^{2}{\\left (\\alpha \\right )}\\right) \\left(- d_{e} m_{p} \\sin^{2}{\\left (\\alpha \\right )} + f\\right)} - \\frac{\\left(f \\left(- m_{p} + 1\\right) \\cos{\\left (\\alpha \\right )} + m_{p} \\left(- d_{e} \\cos{\\left (\\alpha \\right )} + z_{o}\\right)\\right) \\cos{\\left (\\alpha \\right )}}{d_{e} m_{p} \\left(- m_{p} + 1\\right) \\sin^{2}{\\left (\\alpha \\right )} \\cos^{2}{\\left (\\alpha \\right )} + \\left(m_{p} \\cos^{2}{\\left (\\alpha \\right )} + \\sin^{2}{\\left (\\alpha \\right )}\\right) \\left(- d_{e} m_{p} \\sin^{2}{\\left (\\alpha \\right )} + f\\right)} - \\frac{\\sin{\\left (\\alpha \\right )}}{\\left(d_{e} m_{p} \\left(- m_{p} + 1\\right) \\sin^{2}{\\left (\\alpha \\right )} \\cos^{2}{\\left (\\alpha \\right )} + \\left(m_{p} \\cos^{2}{\\left (\\alpha \\right )} + \\sin^{2}{\\left (\\alpha \\right )}\\right) \\left(- d_{e} m_{p} \\sin^{2}{\\left (\\alpha \\right )} + f\\right)\\right)^{2}} \\left(f \\left(- m_{p} + 1\\right) \\cos{\\left (\\alpha \\right )} + m_{p} \\left(- d_{e} \\cos{\\left (\\alpha \\right )} + z_{o}\\right)\\right) \\left(2 d_{e} m_{p} \\left(- m_{p} + 1\\right) \\sin^{3}{\\left (\\alpha \\right )} \\cos{\\left (\\alpha \\right )} - 2 d_{e} m_{p} \\left(- m_{p} + 1\\right) \\sin{\\left (\\alpha \\right )} \\cos^{3}{\\left (\\alpha \\right )} + 2 d_{e} m_{p} \\left(m_{p} \\cos^{2}{\\left (\\alpha \\right )} + \\sin^{2}{\\left (\\alpha \\right )}\\right) \\sin{\\left (\\alpha \\right )} \\cos{\\left (\\alpha \\right )} - \\left(- d_{e} m_{p} \\sin^{2}{\\left (\\alpha \\right )} + f\\right) \\left(- 2 m_{p} \\sin{\\left (\\alpha \\right )} \\cos{\\left (\\alpha \\right )} + 2 \\sin{\\left (\\alpha \\right )} \\cos{\\left (\\alpha \\right )}\\right)\\right)$$"
      ],
      "text/plain": [
       "                                                                              \n",
       "                     (dₑ⋅m_p⋅sin(α) - f⋅(-m_p + 1)⋅sin(α))⋅sin(α)             \n",
       "- ────────────────────────────────────────────────────────────────────────────\n",
       "                       2       2      ⎛       2         2   ⎞ ⎛            2  \n",
       "  dₑ⋅m_p⋅(-m_p + 1)⋅sin (α)⋅cos (α) + ⎝m_p⋅cos (α) + sin (α)⎠⋅⎝- dₑ⋅m_p⋅sin (α\n",
       "                                                                              \n",
       "\n",
       "                                                                              \n",
       "                        (f⋅(-m_p + 1)⋅cos(α) + m_p⋅(-dₑ⋅cos(α) + zₒ))⋅cos(α)  \n",
       "────── - ─────────────────────────────────────────────────────────────────────\n",
       "     ⎞                        2       2      ⎛       2         2   ⎞ ⎛        \n",
       ") + f⎠   dₑ⋅m_p⋅(-m_p + 1)⋅sin (α)⋅cos (α) + ⎝m_p⋅cos (α) + sin (α)⎠⋅⎝- dₑ⋅m_p\n",
       "                                                                              \n",
       "\n",
       "                                                              ⎛               \n",
       "                (f⋅(-m_p + 1)⋅cos(α) + m_p⋅(-dₑ⋅cos(α) + zₒ))⋅⎝2⋅dₑ⋅m_p⋅(-m_p \n",
       "───────────── - ──────────────────────────────────────────────────────────────\n",
       "    2       ⎞                                                                 \n",
       "⋅sin (α) + f⎠                                                                 \n",
       "                                                                              \n",
       "\n",
       "        3                                           3               ⎛       2 \n",
       "+ 1)⋅sin (α)⋅cos(α) - 2⋅dₑ⋅m_p⋅(-m_p + 1)⋅sin(α)⋅cos (α) + 2⋅dₑ⋅m_p⋅⎝m_p⋅cos (\n",
       "──────────────────────────────────────────────────────────────────────────────\n",
       "                                                                              \n",
       "                ⎛                     2       2      ⎛       2         2   ⎞ ⎛\n",
       "                ⎝dₑ⋅m_p⋅(-m_p + 1)⋅sin (α)⋅cos (α) + ⎝m_p⋅cos (α) + sin (α)⎠⋅⎝\n",
       "\n",
       "        2   ⎞                 ⎛            2       ⎞                          \n",
       "α) + sin (α)⎠⋅sin(α)⋅cos(α) - ⎝- dₑ⋅m_p⋅sin (α) + f⎠⋅(-2⋅m_p⋅sin(α)⋅cos(α) + 2\n",
       "──────────────────────────────────────────────────────────────────────────────\n",
       "                      2                                                       \n",
       "            2       ⎞⎞                                                        \n",
       "- dₑ⋅m_p⋅sin (α) + f⎠⎠                                                        \n",
       "\n",
       "               ⎞       \n",
       "⋅sin(α)⋅cos(α))⎠⋅sin(α)\n",
       "───────────────────────\n",
       "                       \n",
       "                       \n",
       "                       "
      ]
     },
     "execution_count": 11,
     "metadata": {},
     "output_type": "execute_result"
    }
   ],
   "source": [
    "sy.diff(expr, a)"
   ]
  },
  {
   "cell_type": "markdown",
   "metadata": {},
   "source": [
    "Well ... well ... well! That is getting a little too complicated. Let's abandon it for now, and examine the more relevant case of rotating the lens about the ENPP, which we expect to be simpler. If we find a useful strategy, then we can come back and apply the same strategy here."
   ]
  },
  {
   "cell_type": "markdown",
   "metadata": {},
   "source": [
    "## Lens rotated about the x-axis at ENPP"
   ]
  },
  {
   "cell_type": "markdown",
   "metadata": {},
   "source": [
    "If the lens is rotated about the ENPP ($d_e = 0$), the expression for $\\tan \\,\\beta$ (or equivalently the expression for $F(\\alpha)$) reduces to:\n",
    "\n",
    "$$\n",
    "tan \\,\\beta = F(\\alpha) =\n",
    "- \\frac{\\sin\\,\\alpha \\left( m_p z_o +  f \\left(1 - m_p \\right) \\cos \\,\\alpha \\right)}{f \\left(m_p \\cos^2\\alpha + \\sin^2\\alpha \\right)}\n",
    "$$\n",
    "\n",
    "The image plane distance is given by\n",
    "\n",
    "$$\n",
    "\\acute{z}_{o} = d \\cos\\,\\alpha + \\frac{m_p z_o f (m_p \\cos^2\\alpha + \\sin^2\\alpha)}{m_p z_o \\cos\\,\\alpha + f}\n",
    "$$\n"
   ]
  },
  {
   "cell_type": "code",
   "execution_count": 110,
   "metadata": {
    "collapsed": true
   },
   "outputs": [],
   "source": [
    "def get_zoDash2(zo, f, mp, d, alpha):\n",
    "    \"\"\"formula for computing the image plane distance from the pivot \n",
    "    (origin of {C}) if lens is tilted about the ENPP. i.e. de=0, deDash=d\n",
    "    \n",
    "    @param: zo: object distance along z-axis\n",
    "    @param: f: focal length\n",
    "    @param: mp: pupil magnification\n",
    "    @param: d: distance from ENPP to EXPP\n",
    "    @param: alpha: angle of image plane tilt about x-axis (in degrees)\n",
    "    \n",
    "    Note:\n",
    "    Assuming zo is numerically negative,\n",
    "        o zoDash is +ve if |zo*mp*c| > f; image is real and inverted\n",
    "        o zoDash is  ∞  if |zo*mp*c| = f\n",
    "        o zoDash is -ve if |zo*mp*c| < f\n",
    "    \"\"\"\n",
    "    c = cosd(alpha)\n",
    "    s = sind(alpha)\n",
    "    return d*c + mp*f*zo*(mp*c**2 + s**2)/(zo*mp*c + f)\n",
    "\n",
    "def get_beta2(zo, f, mp, alpha):\n",
    "    \"\"\"formula for computing the object plane tilt angle if lens is \n",
    "    tilted about the ENPP. That is de=0, deDash=d\n",
    "    \n",
    "    @param: zo: object distance along z-axis\n",
    "    @param: f: focal length\n",
    "    @param: mp: pupil magnification\n",
    "    @param: alpha: angle of image plane tilt about x-axis (in degrees)\n",
    "    \"\"\"\n",
    "    c = cosd(alpha)\n",
    "    s = sind(alpha)\n",
    "    t = -s*(mp*zo + (1-mp)*f*c)/(f*(mp*c**2 + s**2))\n",
    "    return arctand(t)\n",
    "\n",
    "def get_tanBeta2(zo, f, mp, alpha):\n",
    "    \"\"\"\n",
    "    \"\"\"\n",
    "    c = cosd(alpha)\n",
    "    s = sind(alpha)\n",
    "    t = -s*(mp*zo + (1-mp)*f*c)/(f*(mp*c**2 + s**2))\n",
    "    return t"
   ]
  },
  {
   "cell_type": "markdown",
   "metadata": {},
   "source": [
    "As before, we will find the derivative of $F(\\alpha)$ using SymPy."
   ]
  },
  {
   "cell_type": "code",
   "execution_count": 13,
   "metadata": {
    "collapsed": false
   },
   "outputs": [
    {
     "data": {
      "text/latex": [
       "$$- \\frac{\\left(f \\left(- m_{p} + 1\\right) \\cos{\\left (\\alpha \\right )} + m_{p} z_{o}\\right) \\sin{\\left (\\alpha \\right )}}{f \\left(m_{p} \\cos^{2}{\\left (\\alpha \\right )} + \\sin^{2}{\\left (\\alpha \\right )}\\right)}$$"
      ],
      "text/plain": [
       "-(f⋅(-m_p + 1)⋅cos(α) + m_p⋅zₒ)⋅sin(α) \n",
       "───────────────────────────────────────\n",
       "         ⎛       2         2   ⎞       \n",
       "       f⋅⎝m_p⋅cos (α) + sin (α)⎠       "
      ]
     },
     "execution_count": 13,
     "metadata": {},
     "output_type": "execute_result"
    }
   ],
   "source": [
    "sy.init_printing(pretty_print=True, use_latex='mathjax')\n",
    "a, mp, zo, f, de = sy.symbols('alpha, m_p, z_o, f, d_e', real=True)\n",
    "numr = -sy.sin(a)*(mp*zo + f*(1 - mp)*sy.cos(a))\n",
    "deno = f*(mp*sy.cos(a)**2 + sy.sin(a)**2)\n",
    "expr = numr/deno\n",
    "expr"
   ]
  },
  {
   "cell_type": "code",
   "execution_count": 14,
   "metadata": {
    "collapsed": false
   },
   "outputs": [
    {
     "data": {
      "text/latex": [
       "$$\\frac{\\left(- m_{p} + 1\\right) \\sin^{2}{\\left (\\alpha \\right )}}{m_{p} \\cos^{2}{\\left (\\alpha \\right )} + \\sin^{2}{\\left (\\alpha \\right )}} - \\frac{\\left(f \\left(- m_{p} + 1\\right) \\cos{\\left (\\alpha \\right )} + m_{p} z_{o}\\right) \\cos{\\left (\\alpha \\right )}}{f \\left(m_{p} \\cos^{2}{\\left (\\alpha \\right )} + \\sin^{2}{\\left (\\alpha \\right )}\\right)} - \\frac{\\sin{\\left (\\alpha \\right )}}{f \\left(m_{p} \\cos^{2}{\\left (\\alpha \\right )} + \\sin^{2}{\\left (\\alpha \\right )}\\right)^{2}} \\left(f \\left(- m_{p} + 1\\right) \\cos{\\left (\\alpha \\right )} + m_{p} z_{o}\\right) \\left(2 m_{p} \\sin{\\left (\\alpha \\right )} \\cos{\\left (\\alpha \\right )} - 2 \\sin{\\left (\\alpha \\right )} \\cos{\\left (\\alpha \\right )}\\right)$$"
      ],
      "text/plain": [
       "                2                                                             \n",
       "  (-m_p + 1)⋅sin (α)    (f⋅(-m_p + 1)⋅cos(α) + m_p⋅zₒ)⋅cos(α)   (f⋅(-m_p + 1)⋅\n",
       "───────────────────── - ───────────────────────────────────── - ──────────────\n",
       "       2         2              ⎛       2         2   ⎞                       \n",
       "m_p⋅cos (α) + sin (α)         f⋅⎝m_p⋅cos (α) + sin (α)⎠                       \n",
       "                                                                              \n",
       "\n",
       "                                                               \n",
       "cos(α) + m_p⋅zₒ)⋅(2⋅m_p⋅sin(α)⋅cos(α) - 2⋅sin(α)⋅cos(α))⋅sin(α)\n",
       "───────────────────────────────────────────────────────────────\n",
       "                                     2                         \n",
       "              ⎛       2         2   ⎞                          \n",
       "            f⋅⎝m_p⋅cos (α) + sin (α)⎠                          "
      ]
     },
     "execution_count": 14,
     "metadata": {},
     "output_type": "execute_result"
    }
   ],
   "source": [
    "firstDeri = sy.diff(expr, a)\n",
    "firstDeri"
   ]
  },
  {
   "cell_type": "code",
   "execution_count": 15,
   "metadata": {
    "collapsed": false
   },
   "outputs": [
    {
     "data": {
      "text/latex": [
       "$$\\frac{1}{f \\left(m_{p} \\cos^{2}{\\left (\\alpha \\right )} + \\sin^{2}{\\left (\\alpha \\right )}\\right)^{2}} \\left(f m_{p}^{2} \\cos^{2}{\\left (\\alpha \\right )} - f m_{p} - f \\cos^{2}{\\left (\\alpha \\right )} + f + m_{p}^{2} z_{o} \\cos^{3}{\\left (\\alpha \\right )} - 2 m_{p}^{2} z_{o} \\cos{\\left (\\alpha \\right )} - m_{p} z_{o} \\cos^{3}{\\left (\\alpha \\right )} + m_{p} z_{o} \\cos{\\left (\\alpha \\right )}\\right)$$"
      ],
      "text/plain": [
       "     2    2                   2             2       3           2             \n",
       "f⋅m_p ⋅cos (α) - f⋅m_p - f⋅cos (α) + f + m_p ⋅zₒ⋅cos (α) - 2⋅m_p ⋅zₒ⋅cos(α) - \n",
       "──────────────────────────────────────────────────────────────────────────────\n",
       "                                                                  2           \n",
       "                                           ⎛       2         2   ⎞            \n",
       "                                         f⋅⎝m_p⋅cos (α) + sin (α)⎠            \n",
       "\n",
       "          3                   \n",
       "m_p⋅zₒ⋅cos (α) + m_p⋅zₒ⋅cos(α)\n",
       "──────────────────────────────\n",
       "                              \n",
       "                              \n",
       "                              "
      ]
     },
     "execution_count": 15,
     "metadata": {},
     "output_type": "execute_result"
    }
   ],
   "source": [
    "firstDeri = sy.simplify(firstDeri)\n",
    "firstDeri"
   ]
  },
  {
   "cell_type": "code",
   "execution_count": 33,
   "metadata": {
    "collapsed": true
   },
   "outputs": [],
   "source": [
    "# turn off sympy's pretty printing \n",
    "sy.init_printing(pretty_print=False, use_latex=False)"
   ]
  },
  {
   "cell_type": "markdown",
   "metadata": {
    "collapsed": false
   },
   "source": [
    "The first derivative $F'(\\alpha)$ is the following cubic (in $\\cos \\,\\alpha$) equation:\n",
    "\n",
    "$$\n",
    "F'(\\alpha) = \\frac{-1}{f \\left(m_p \\cos^2\\alpha + \\sin^2\\alpha \\right)^2 }\\, \\left[ m_p (1 - m_p) z_o \\cos^3\\alpha + f(1 - m_p^2) \\cos^2\\alpha - m_p (1 - 2 m_p) z_o \\cos \\,\\alpha - f(1-m_p) \\right]\n",
    "$$"
   ]
  },
  {
   "cell_type": "markdown",
   "metadata": {},
   "source": [
    "We can readily examine the case when $m_p=1$:\n",
    "\n",
    "$$\n",
    "F'(\\alpha) = -\\frac{z_o}{f} \\cos \\,\\alpha\n",
    "$$\n",
    "\n",
    "In the interval $[-\\pi/2, \\pi/2]$, $F'(\\alpha)$ is always positive since $z_o$ (directed object distance from the camera frame origin) is numerically negative. Therefore, $F(\\alpha)$ is a monotonically increasing function if $m_p=1$. Also, since $F(\\alpha)$ is a monotonically increasing function if $m_p=1$, we expect $\\beta$ to increase with increasing $\\alpha$.  "
   ]
  },
  {
   "cell_type": "code",
   "execution_count": 111,
   "metadata": {
    "collapsed": true
   },
   "outputs": [],
   "source": [
    "def first_derivative_Falpha(zo, f, mp, alpha):\n",
    "    \"\"\"evaluate the first derivative of the F(alpha). \n",
    "    \n",
    "    It is assumed that the lens is rotated about the ENPP. Therefore, \n",
    "    the first derivative is a cubic equation in cos(alpha)\n",
    "    \"\"\"\n",
    "    a = -mp*(1 - mp)*zo\n",
    "    b = -f*(1 - mp**2)\n",
    "    c = mp*(1 - 2*mp)*zo\n",
    "    d = f*(1 - mp)\n",
    "    numr = a*cosd(alpha)**3 + b*cosd(alpha)**2 + c*cosd(alpha) + d\n",
    "    deno = f*(mp*cosd(alpha)**2 + sind(alpha)**2)**2\n",
    "    firstDeri = numr/deno\n",
    "    return firstDeri\n",
    "\n",
    "def roots_first_derivative_Falpha(zo, f, mp):\n",
    "    \"\"\"returns the roots and discriminant of F'(alpha)\n",
    "    \n",
    "    It is assumed that the lens is rotated about the ENPP. Therefore, \n",
    "    the first derivative is a cubic equation in cos(alpha)\n",
    "    \"\"\"\n",
    "    a = -mp*(1 - mp)*zo\n",
    "    b = -f*(1 - mp**2)\n",
    "    c = mp*(1 - 2*mp)*zo\n",
    "    d = f*(1 - mp)\n",
    "    roots = np.roots([a, b, c, d])\n",
    "    discriminant = (b**2)*(c**2) - 4*a*(c**3) - 4*(b**3)*d - 27*(a**2)*(d**2) + 18*a*b*c*d\n",
    "    return roots, discriminant"
   ]
  },
  {
   "cell_type": "markdown",
   "metadata": {},
   "source": [
    "Like before, we will first emperically find cases of multiple $\\alpha$ that result in same $\\beta$."
   ]
  },
  {
   "cell_type": "code",
   "execution_count": 17,
   "metadata": {
    "collapsed": false
   },
   "outputs": [
    {
     "data": {
      "image/png": "[encoded data removed]",
      "text/plain": [
       "<matplotlib.figure.Figure at 0xb28a3c8>"
      ]
     },
     "metadata": {},
     "output_type": "display_data"
    },
    {
     "name": "stdout",
     "output_type": "stream",
     "text": [
      "3.17301469156 3.17301469156 72.5073533271\n"
     ]
    }
   ],
   "source": [
    "# emperically find alpha s for which we get multiple values of beta \n",
    "\n",
    "zo=-509.0\n",
    "f = 24.0\n",
    "\n",
    "mp=0.15; alpha=45\n",
    "\n",
    "tBeta0 = get_tanBeta2(zo=zo, f=f, mp=mp, alpha=45)\n",
    "alphaArr = np.linspace(18.0188354928516, 18.0188354928517)\n",
    "absErr = []\n",
    "for each in alphaArr:\n",
    "    tBeta1 = get_tanBeta2(zo=zo, f=f, mp=mp, alpha=each)\n",
    "    absErr.append(abs(tBeta1 - tBeta0))\n",
    "\n",
    "absErr = np.array(absErr)\n",
    "\n",
    "plt.plot(alphaArr, absErr)\n",
    "plt.show()\n",
    "\n",
    "print(get_tanBeta2(zo=zo, f=f, mp=0.15, alpha=18.0188354928516), \n",
    "      get_tanBeta2(zo=zo, f=f, mp=0.15, alpha=45.0), \n",
    "      get_beta2(zo=zo, f=f, mp=0.15, alpha=45))\n",
    "\n",
    "# Emperically found\n",
    "# for mp=0.15; alpha=18.0188354928516, 45; tanbeta = 3.17301469156; beta = 72.5073533271"
   ]
  },
  {
   "cell_type": "code",
   "execution_count": null,
   "metadata": {
    "collapsed": true
   },
   "outputs": [],
   "source": []
  },
  {
   "cell_type": "code",
   "execution_count": 121,
   "metadata": {
    "collapsed": false
   },
   "outputs": [
    {
     "data": {
      "image/png": "[encoded data removed]",
      "text/plain": [
       "<matplotlib.figure.Figure at 0xb394e80>"
      ]
     },
     "metadata": {},
     "output_type": "display_data"
    }
   ],
   "source": [
    "# plot of alpha vs. beta \n",
    "\n",
    "FIGURE_FOR_WORD = False\n",
    "\n",
    "if FIGURE_FOR_WORD:\n",
    "    fig, (ax0, ax1) = plt.subplots(2, 1, sharex=True, figsize=(6.4, 4.8))\n",
    "    tsf = 1.0  # text scale factor\n",
    "else:\n",
    "    fig, (ax0, ax1) = plt.subplots(2, 1, sharex=True, figsize=(8, 6))\n",
    "    tsf = 1.25\n",
    "#fig, (ax0, ax1, ax2) = plt.subplots(3, 1, sharex=True, figsize=(10, 8))\n",
    "\n",
    "\n",
    "# this plot shows that given alpha, we MAY NOT get a unique beta within +/-90°\n",
    "zo=-509.0\n",
    "f = 24.0\n",
    "\n",
    "alpha = np.linspace(0., 50., 1000)\n",
    "for i, mp in enumerate([1.0, 0.5, 0.15, ]):\n",
    "    beta = get_beta2(zo=zo, f=f, mp=mp, alpha=alpha)\n",
    "    tBeta = get_tanBeta2(zo=zo, f=f, mp=mp, alpha=alpha)\n",
    "    legTxt = r'$m_p={}$'.format(mp)\n",
    "    ax0.plot(alpha, beta, label=legTxt)\n",
    "    ax1.plot(alpha, tBeta, label=legTxt)\n",
    "    #ax2.plot(alpha, first_derivative(zo, f, mp, alpha))\n",
    "    \n",
    "# plot the non-unique alpha, beta points for illustration\n",
    "# These values were emperically found\n",
    "# for mp=0.15; alpha=18.0188354928516, 45; tanbeta = 3.17301469156; beta = 72.5073533271\n",
    "ax0.axhline(72.5073533271, color='#888888', alpha=0.8, lw=1.2, linestyle='dashed')\n",
    "ax1.axhline(3.17301469156, color='#888888', alpha=0.8, lw=1.2, linestyle='dashed')\n",
    "ax0.axvline(18.0188354928516, ymin=0.02, color='#888888', alpha=0.8, lw=1.2, linestyle='dashed')\n",
    "ax0.axvline(45.0, ymin=0.02, color='#888888', alpha=0.8, lw=1.2, linestyle='dashed')\n",
    "ax1.axvline(x=18.0188354928516, ymin=0, ymax=1.15, color='#888888', alpha=0.8, lw=1.2, \n",
    "            linestyle='dashed', clip_on=False)\n",
    "ax1.axvline(x=45.0, ymin=0, ymax=1.15, color='#888888', alpha=0.8, lw=1.2, \n",
    "            linestyle='dashed', clip_on=False)\n",
    "#ax2.axhline(color='#555555', alpha=0.8, lw=1.2, linestyle='dashed')\n",
    "\n",
    "# plot decorations\n",
    "#ax2.set_ylim(-1.5, 21)\n",
    "for ax in [ax0, ax1, ax2]:\n",
    "    ax.grid(axis='y', alpha=0.6)\n",
    "    ax.yaxis.set_major_locator(plt.MaxNLocator(10))    # number of ticks\n",
    "    ax.yaxis.set_ticks_position('left')               # tick\n",
    "    # ticks\n",
    "    for tick in ax.xaxis.get_major_ticks():\n",
    "        tick.label.set_fontsize(9*tsf) \n",
    "    for tick in ax.yaxis.get_major_ticks():\n",
    "        tick.label.set_fontsize(9*tsf)\n",
    "\n",
    "# Text to indicate angles\n",
    "ax0.text(1, 74,  r'$72.5074^o$', fontsize=11*tsf)\n",
    "ax1.text(1, 3.4, r'$3.173015$', fontsize=11*tsf)\n",
    "ax0.text(16.8, 11,  r'$18.01884^o$', rotation='vertical', va='bottom', fontsize=11*tsf)\n",
    "ax0.text(43.8, 11,  r'$45.0^o$', rotation='vertical', va='bottom', fontsize=11*tsf)\n",
    "\n",
    "#ax.legend(loc=(0.01, 0.8), labelspacing=0.008, fontsize=14)\n",
    "ax0.xaxis.set_ticks_position('bottom')\n",
    "ax1.set_xlabel(r'$\\alpha^o$', fontsize=14*tsf)\n",
    "ax0.set_ylabel(r'$\\beta^o$', fontsize=14*tsf)\n",
    "ax1.set_ylabel(r'$\\rm{tan}\\, \\beta$', fontsize=14*tsf)\n",
    "#ax2.set_ylabel(r'$d/dx \\, [F(\\alpha)]$')\n",
    "\n",
    "ax0.legend(fontsize=10*tsf, ncol=3, loc='lower left', bbox_to_anchor=(0.465, 0.94, 0.5, 0.5), \n",
    "           bbox_transform=fig.transFigure, handletextpad=0.2, handlelength=1.7)\n",
    "\n",
    "fig.tight_layout()\n",
    "\n",
    "# Save the figure  \n",
    "#saveFigure(fig, 'alpha_vs_beta_with_mp_lens_tilt_away_about_enpp.png')\n",
    "\n",
    "plt.show()"
   ]
  },
  {
   "cell_type": "code",
   "execution_count": 129,
   "metadata": {
    "collapsed": false
   },
   "outputs": [
    {
     "data": {
      "image/png": "[encoded data removed]",
      "text/plain": [
       "<matplotlib.figure.Figure at 0xc242278>"
      ]
     },
     "metadata": {},
     "output_type": "display_data"
    }
   ],
   "source": [
    "# plot of the first derivative\n",
    "FIGURE_FOR_WORD = False\n",
    "\n",
    "zo=-509.0\n",
    "f = 24.0\n",
    "\n",
    "if FIGURE_FOR_WORD:\n",
    "    fig = plt.figure(figsize=(6.4, 4.8))\n",
    "    tsf = 1.0  # text scale factor\n",
    "else:\n",
    "    fig = plt.figure(figsize=(8, 6))\n",
    "    tsf = 1.25\n",
    "\n",
    "ax0 = fig.add_axes([0.1, 0.3, 0.75, 0.7])  # [*left*, *bottom*, *width*, *height*]\n",
    "ax1 = fig.add_axes([0.0, 0.0, 1.0, 0.18,])\n",
    "\n",
    "alpha = np.linspace(0., 89.9999, 1000)\n",
    "#alpha = np.linspace(-89.9999, 89.9999, 1000)\n",
    "\n",
    "#for i, mp in enumerate([5.0, 3.0, 2.0, 1.0, 0.5, 0.374, 0.37, 0.15, 0.1, 0.05]):\n",
    "for i, mp in enumerate([3.0, 2.0, 1.0, 0.5, 0.15, 0.1]):\n",
    "    legTxt = r'$m_p={}$'.format(mp)\n",
    "    ax0.plot(alpha, first_derivative_Falpha(zo, f, mp, alpha), label=legTxt)\n",
    "    ax1.plot(alpha, first_derivative_Falpha(zo, f, mp, alpha))\n",
    "\n",
    "# ticks\n",
    "for ax in [ax0, ax1]:\n",
    "    ax.yaxis.set_ticks_position('left')              \n",
    "    for tick in ax.xaxis.get_major_ticks():\n",
    "        tick.label.set_fontsize(9*tsf) \n",
    "    for tick in ax.yaxis.get_major_ticks():\n",
    "        tick.label.set_fontsize(9*tsf)\n",
    "ax0.xaxis.set_ticks_position('bottom') \n",
    "ax1.xaxis.set_ticks_position('bottom') \n",
    "\n",
    "# plot the case of mp=1 separately to verify\n",
    "# ax0.plot(alpha, -(zo/f)*cosd(alpha), 'b', linestyle='dashed') # It does overlap\n",
    "\n",
    "ax0.axhline(color='#555555', alpha=0.8, lw=1.2, linestyle='dashed')\n",
    "ax1.axhline(color='#555555', alpha=0.8, lw=1.5, linestyle='dashed')\n",
    "\n",
    "ax0.legend()   # TO DO:: Put the legend outside the ax0 to the left\n",
    "\n",
    "ax0.set_ylim(-2, 70)\n",
    "ax1.set_ylim(-1.0, 0.5)\n",
    "ax0.set_ylabel(r'$d/dx \\, [F\\,(\\alpha)]$')\n",
    "ax0.set_xlabel(r'$\\alpha^o$', fontsize=18)\n",
    "plt.show()"
   ]
  },
  {
   "cell_type": "code",
   "execution_count": null,
   "metadata": {
    "collapsed": true
   },
   "outputs": [],
   "source": []
  },
  {
   "cell_type": "code",
   "execution_count": 7,
   "metadata": {
    "collapsed": false
   },
   "outputs": [],
   "source": [
    "def first_derivative_has_real_roots(zo, f, mp, alpha0=-89.0, alpha1=89.0):\n",
    "    \"\"\"returns True if the first derivative of the function F(alpha) have real roots \n",
    "    within the valid range of angles     \n",
    "    \n",
    "    If the function returns True, then F(\\alpha) is NOT a monotonically increasing/decreasing \n",
    "    function and hence we will get two alpha for which the have the same beta\n",
    "    \"\"\"\n",
    "    roots, disc = roots_first_derivative_Falpha(zo, f, mp)\n",
    "    roots = np.array([arccosd(np.real(root)) for root in roots if np.isreal(root) and abs(root) <= 1.0])\n",
    "    return np.any(np.logical_and((roots >= alpha0), (roots <= alpha1)))"
   ]
  },
  {
   "cell_type": "code",
   "execution_count": 23,
   "metadata": {
    "collapsed": false
   },
   "outputs": [
    {
     "name": "stdout",
     "output_type": "stream",
     "text": [
      "---------------------------------------------------\n",
      "mp = 2.0\n",
      "roots = [ 1.76391344 -1.70104378  0.00785725]\n",
      "discrimiant = 1.1611745388e+14\n",
      "False\n",
      "---------------------------------------------------\n",
      "mp = 1.0\n",
      "roots = [ 0.]\n",
      "discrimiant = 0.0\n",
      "False\n",
      "---------------------------------------------------\n",
      "mp = 0.5\n",
      "roots = [ 0.27701187+0.38966389j  0.27701187-0.38966389j -0.41256990+0.j        ]\n",
      "discrimiant = -62676747.0\n",
      "False\n",
      "---------------------------------------------------\n",
      "mp = 0.3735\n",
      "roots = [-0.68506956+0.j          0.42923127+0.00602201j  0.42923127-0.00602201j]\n",
      "discrimiant = -45008.587169\n",
      "False\n",
      "---------------------------------------------------\n",
      "mp = 0.37\n",
      "roots = [-0.69045155  0.48256024  0.38247847]\n",
      "discrimiant = 3144109.51663\n",
      "True\n",
      "---------------------------------------------------\n",
      "mp = 0.15\n",
      "roots = [-0.91464204  0.88996594  0.38616922]\n",
      "discrimiant = 24809434.397\n",
      "True\n"
     ]
    }
   ],
   "source": [
    "for mp in [2.0, 1.0, 0.5, 0.3735, 0.37, 0.15]:\n",
    "    print('---------------------------------------------------')\n",
    "    print('mp =', mp)\n",
    "    roots, disc = roots_first_derivative_Falpha(zo, f, mp)\n",
    "    print('roots =', roots)\n",
    "    print('discrimiant =', disc)\n",
    "    print(first_derivative_has_real_roots(zo, f, mp))\n"
   ]
  },
  {
   "cell_type": "markdown",
   "metadata": {
    "collapsed": false
   },
   "source": [
    "The only thing that seems to be useful is whether $F'(\\alpha)$ has any real roots such that $-\\pi/2 < \\cos(x) < \\pi/2$, where $x$ is a real root (if it exist). The discriminant is not very useful. \n",
    "\n",
    "For $m_p < 1.0$, if the discriminant is -ve then the roots are imaginary (which is good)."
   ]
  },
  {
   "cell_type": "code",
   "execution_count": null,
   "metadata": {
    "collapsed": true
   },
   "outputs": [],
   "source": []
  },
  {
   "cell_type": "code",
   "execution_count": null,
   "metadata": {
    "collapsed": true
   },
   "outputs": [],
   "source": []
  },
  {
   "cell_type": "code",
   "execution_count": null,
   "metadata": {
    "collapsed": true
   },
   "outputs": [],
   "source": []
  },
  {
   "cell_type": "code",
   "execution_count": null,
   "metadata": {
    "collapsed": true
   },
   "outputs": [],
   "source": []
  },
  {
   "cell_type": "code",
   "execution_count": null,
   "metadata": {
    "collapsed": true
   },
   "outputs": [],
   "source": []
  },
  {
   "cell_type": "markdown",
   "metadata": {},
   "source": [
    "## Approximate formula for finding $\\alpha$ given $\\beta$"
   ]
  },
  {
   "cell_type": "markdown",
   "metadata": {},
   "source": [
    "<font color='red'>**SKIP THIS AND GO TO ITERATIVE PROCEDURE FOR FINDING ALPHA**</font> \n",
    "\n",
    "The approximate formula for finding $\\alpha$ given $\\beta$ breaks down completely for smaller values of $m_p$. The iterative algorithm for finding $\\alpha$ works well."
   ]
  },
  {
   "cell_type": "code",
   "execution_count": 25,
   "metadata": {
    "collapsed": true
   },
   "outputs": [],
   "source": [
    "def alpha_thin(zo, f, beta):\n",
    "    return -arcsind(f*tand(beta)/zo)\n",
    "\n",
    "def alpha_approx(zo, f, mp, beta):\n",
    "    a = 1\n",
    "    alphaThin = alpha_thin(zo, f, beta)\n",
    "    b = (mp*zo/cosd(alphaThin) + f*(1-mp))/(f*tand(beta))\n",
    "    c = mp\n",
    "    k = np.sqrt(b**2 - 4*a*c)\n",
    "    #t1 = 0.5*(-b - k)\n",
    "    #t2 = 0.5*(-b + k)\n",
    "    #print(t1, t2)\n",
    "    roots = arctand(0.5*(-b - k)), arctand(0.5*(-b + k))\n",
    "    #print('roots = ', roots)\n",
    "    return roots[0] if alphaThin > 0 else roots[1]"
   ]
  },
  {
   "cell_type": "code",
   "execution_count": 26,
   "metadata": {
    "collapsed": false
   },
   "outputs": [
    {
     "name": "stdout",
     "output_type": "stream",
     "text": [
      "beta =  62.2296825491\n",
      "alpha (true) =  5.0\n",
      "alpha (approximate) = 4.99895906397\n",
      "Effect of alpha approximate on zDash:\n",
      "zDash (true) =  29.2399513946\n",
      "zDash (approx) =  29.2399175376\n"
     ]
    }
   ],
   "source": [
    "zo = -509.0\n",
    "f = 24.0\n",
    "mp = 2.0\n",
    "alphaExact = 5.0\n",
    "d = -20\n",
    "\n",
    "betaExact = get_beta2(zo, f, mp, alphaExact)\n",
    "alphaApprox = alpha_approx(zo, f, mp, betaExact)\n",
    "print('beta = ', betaExact)\n",
    "print('alpha (true) = ', alphaExact)\n",
    "print('alpha (approximate) =', alphaApprox)\n",
    "print('Effect of alpha approximate on zDash:')\n",
    "print('zDash (true) = ', get_zoDash2(zo, f, mp, d, alphaExact))\n",
    "print('zDash (approx) = ', get_zoDash2(zo, f, mp, d, alphaApprox))"
   ]
  },
  {
   "cell_type": "code",
   "execution_count": 28,
   "metadata": {
    "collapsed": false
   },
   "outputs": [
    {
     "data": {
      "image/png": "[encoded data removed]",
      "text/plain": [
       "<matplotlib.figure.Figure at 0xb235358>"
      ]
     },
     "metadata": {},
     "output_type": "display_data"
    }
   ],
   "source": [
    "from matplotlib.ticker import FuncFormatter\n",
    "\n",
    "zo = -509.0\n",
    "f = 24.0\n",
    "mpArr = [0.55, 1, 2.0]\n",
    "\n",
    "\n",
    "fig, ax = plt.subplots(1, 1)\n",
    "alphaExact = np.linspace(0.0001, 20)\n",
    "\n",
    "for mp in mpArr:\n",
    "    alphaApprox = []\n",
    "    betaArr = []\n",
    "    for alpha in alphaExact:\n",
    "        beta = get_beta2(zo, f, mp, alpha)\n",
    "        alphaApprox.append(alpha_approx(zo, f, mp, beta))\n",
    "        betaArr.append(beta)\n",
    "    alphaApprox = np.array(alphaApprox)\n",
    "    err = np.abs(alphaExact - alphaApprox)\n",
    "    relErr = 100.0*err/np.abs(alphaExact)#\n",
    "    ax.plot(alphaExact, relErr, lw=1.7, clip_on=False)\n",
    "    #ax.errorbar(alphaExact, relErr, xerr=0.0, yerr=err, clip_on=False)\n",
    "    indices = np.argwhere(alphaExact > 5).flatten()[::5]\n",
    "    ax.scatter(alphaExact[indices], relErr[indices], s=8, clip_on=False, \n",
    "               facecolor='#555555', edgecolor=None, zorder=10)\n",
    "    for i in indices:\n",
    "        ax.text(x=alphaExact[i]-0.5, y=relErr[i]+0.025, s='{:0.1f}'.format(betaArr[i]))\n",
    "    \n",
    "ax.set_ylabel(r'$\\rm{Percent}\\,\\,\\rm{error}$', fontsize=15)\n",
    "ax.set_xlabel(r'$\\alpha \\,\\,\\rm(degrees)$', fontsize=15)\n",
    "ax.set_xlim(alphaExact[0], alphaExact[-1] + 1)\n",
    "ax.set_ylim(-0.001, 2.5)\n",
    "\n",
    "#ax.yaxis.set_major_formatter(FuncFormatter(lambda y, _: '{:.0%}'.format(y))) \n",
    "\n",
    "# Save the figure  \n",
    "#saveFigure(fig, 'approximation_of_lens_tilt.png')\n",
    "\n",
    "plt.show()"
   ]
  },
  {
   "cell_type": "code",
   "execution_count": 31,
   "metadata": {
    "collapsed": false
   },
   "outputs": [
    {
     "name": "stdout",
     "output_type": "stream",
     "text": [
      "beta_opt =  -62.2296825491\n",
      "-5.68434188608e-14\n",
      "-4.4408920985e-16\n"
     ]
    }
   ],
   "source": [
    "fl = 24.0\n",
    "alphaOpt = -5.0\n",
    "zo = -509.0\n",
    "mp = 2.0\n",
    "betaOpt = get_beta2(zo, fl, mp, alphaOpt)\n",
    "print('beta_opt = ', betaOpt)\n",
    "t = np.tan(np.deg2rad(betaOpt))\n",
    "\n",
    "a = fl*mp*t\n",
    "b = fl*t \n",
    "c = fl*(1-mp)/2.0\n",
    "d = 0/2.0\n",
    "e = mp*zo/2.0\n",
    "f = 0\n",
    "\n",
    "x = cosd(alphaOpt)\n",
    "y = sind(alphaOpt)\n",
    "\n",
    "print(a*x**2 + b*y**2 + 2*c*x*y + 2*d*x + 2*e*y + f)\n",
    "\n",
    "print(t + sind(alphaOpt)*(mp*zo + fl*(1-mp)*cosd(alphaOpt))/(fl*(mp*cosd(alphaOpt)**2 + sind(alphaOpt)**2)))"
   ]
  },
  {
   "cell_type": "markdown",
   "metadata": {},
   "source": [
    "## Iterative algorithm for finding lens tilt angle $\\alpha$"
   ]
  },
  {
   "cell_type": "markdown",
   "metadata": {
    "collapsed": false
   },
   "source": [
    "#### Condition for real image"
   ]
  },
  {
   "cell_type": "markdown",
   "metadata": {},
   "source": [
    "The following cell shows that even if $F(\\alpha)$ is monotonic, a combination of lens parameters and object plane distance could result in the case in which $\\acute{z}_o$ is negative. We would like to avoid such cases."
   ]
  },
  {
   "cell_type": "code",
   "execution_count": 67,
   "metadata": {
    "collapsed": false
   },
   "outputs": [
    {
     "name": "stdout",
     "output_type": "stream",
     "text": [
      "abs(zo)*mp - f/cosd(alpha) =  1.38928453723\n",
      "zeDash = 821.393942117\n",
      "beta = -6.71908410729\n",
      "roots = [-0.91827768+0.j          1.02408565+0.12702358j  1.02408565-0.12702358j]\n"
     ]
    },
    {
     "data": {
      "image/png": "[encoded data removed]",
      "text/plain": [
       "<matplotlib.figure.Figure at 0xc670d68>"
      ]
     },
     "metadata": {},
     "output_type": "display_data"
    }
   ],
   "source": [
    "#zo=-539.359427021; f=89.8074019381; mp=0.155474178141; alpha=-6.10160377014;    # Image is virtual, zeDash is -ve\n",
    "#zo=-539.359427021; f=83.38141419767325; mp=0.155474178141; alpha=-6.10160377014;  # Image at infinity\n",
    "zo=-539.359427021; f=82; mp=0.155474178141; alpha=-6.10160377014;\n",
    "\n",
    "print('abs(zo)*mp - f/cosd(alpha) = ', abs(zo)*mp - f/cosd(alpha))\n",
    "# setting d=0, because I am just interested in zeDash\n",
    "\n",
    "print('zeDash =', get_zoDash2(zo, f, mp, 0, alpha)) \n",
    "\n",
    "beta = get_beta2(zo=zo, f=f, mp=mp, alpha=alpha)\n",
    "print('beta =', beta)\n",
    "roots, disc = roots_first_derivative_Falpha(zo, f, mp)\n",
    "print('roots =', roots)\n",
    "\n",
    "alpha = np.linspace(0., 89.9999, 1000)\n",
    "plt.plot(alpha, first_derivative_Falpha(zo, f, mp, alpha), label=r'$d/dx [F(\\alpha)]$')\n",
    "#plt.plot(alpha, get_beta2(zo, f, mp, alpha), label='beta')\n",
    "ax = plt.gca()\n",
    "ax.axhline(color='#555555', linestyle='dashed')\n",
    "#ax.set_ylim(-3, 60)\n",
    "ax.set_ylim(-3, 20)\n",
    "ax.legend()\n",
    "plt.show()"
   ]
  },
  {
   "cell_type": "markdown",
   "metadata": {},
   "source": [
    "#### An iterative procedure to find $\\alpha$"
   ]
  },
  {
   "cell_type": "markdown",
   "metadata": {},
   "source": [
    "A possible algorithm for finding $\\alpha$ given $\\beta$."
   ]
  },
  {
   "cell_type": "code",
   "execution_count": 68,
   "metadata": {
    "collapsed": true
   },
   "outputs": [],
   "source": [
    "def alpha_thin(zo, f, beta):\n",
    "    return -arcsind(f*tand(beta)/zo)"
   ]
  },
  {
   "cell_type": "code",
   "execution_count": 60,
   "metadata": {
    "collapsed": false
   },
   "outputs": [
    {
     "name": "stdout",
     "output_type": "stream",
     "text": [
      "roots [ 0.19784279+0.53578773j  0.19784279-0.53578773j -0.26280472+0.j        ]\n",
      "alpha (true) =  -15.0\n",
      "beta = -78.7120373048\n",
      "Initial alpha =  -13.6639828387\n",
      "Initial error =  -0.398361241047\n",
      "np.arctan(prevErr) =  -0.379092856052\n",
      "Initial step =  -0.199180620523\n",
      "np.arctan(step) = -0.196607570966\n",
      "\n",
      "-------------\n",
      "err(1) = -0.3382\n",
      "deltaErr(1) = 0.0602\n",
      "prevErr(1) = -0.3984\n",
      "alpha(1) = -13.8632\n",
      "-------------\n",
      "err(2) = -0.2782\n",
      "deltaErr(2) = 0.0599\n",
      "prevErr(2) = -0.3382\n",
      "alpha(2) = -14.0623\n",
      "-------------\n",
      "err(3) = -0.2186\n",
      "deltaErr(3) = 0.0596\n",
      "prevErr(3) = -0.2782\n",
      "alpha(3) = -14.2615\n",
      "-------------\n",
      "err(4) = -0.1593\n",
      "deltaErr(4) = 0.0594\n",
      "prevErr(4) = -0.2186\n",
      "alpha(4) = -14.4607\n",
      "-------------\n",
      "err(5) = -0.1002\n",
      "deltaErr(5) = 0.0591\n",
      "prevErr(5) = -0.1593\n",
      "alpha(5) = -14.6599\n",
      "-------------\n",
      "err(6) = -0.0414\n",
      "deltaErr(6) = 0.0588\n",
      "prevErr(6) = -0.1002\n",
      "alpha(6) = -14.8591\n",
      "-------------\n",
      "err(7) = 0.0171\n",
      "deltaErr(7) = 0.0585\n",
      "prevErr(7) = -0.0414\n",
      "alpha(7) = -15.0582\n",
      "**Sign change: changing step to  0.029242889561\n",
      "-------------\n",
      "err(8) = 0.0085\n",
      "deltaErr(8) = -0.0086\n",
      "prevErr(8) = 0.0171\n",
      "alpha(8) = -15.0290\n",
      "-------------\n",
      "err(9) = -0.0001\n",
      "deltaErr(9) = -0.0086\n",
      "prevErr(9) = 0.0085\n",
      "alpha(9) = -14.9998\n",
      "**Sign change: changing step to  -0.00428732592522\n",
      "-------------\n",
      "err(10) = 0.0012\n",
      "deltaErr(10) = 0.0013\n",
      "prevErr(10) = -0.0001\n",
      "alpha(10) = -15.0040\n",
      "**Sign change: changing step to  0.000628765867547\n",
      "Value of alpha after 10 iterations = -15.00405 (error = 4.04873e-03, merit = 1.18754e-03)\n"
     ]
    }
   ],
   "source": [
    "zo = -509.0\n",
    "f = 24.0   # 100\n",
    "mp = 0.55\n",
    "alphaTrue = -15.0\n",
    "\n",
    "# CONDITION #1\n",
    "# first ensure that F(alpha) is monotonic for the given parameters \n",
    "if first_derivative_has_real_roots(zo, f, mp):\n",
    "    assert False, \"F(alpha) is not monotonic. Cannot find a unique alpha!\"\n",
    "else:\n",
    "    roots, disc = roots_first_derivative_Falpha(zo, f, mp)\n",
    "    print('roots', roots)\n",
    "    \n",
    "# CONDITION #2\n",
    "assert (abs(zo)*mp - f/cosd(alphaTrue)) > 0.0, 'zeDash is negative; Image is not real'\n",
    "\n",
    "# Generate a beta\n",
    "beta = get_beta2(zo=zo, f=f, mp=mp, alpha=alphaTrue)\n",
    "\n",
    "# -------------------------------\n",
    "# Main procedure starts here \n",
    "\n",
    "alphaInit = alpha_thin(zo=zo, f=f, beta=beta)\n",
    "\n",
    "print('alpha (true) = ', alphaTrue)\n",
    "print('beta =', beta)\n",
    "print('Initial alpha = ', alphaInit)\n",
    "\n",
    "errValStop = 1e-16\n",
    "stepThreshold = 10\n",
    "i = 0\n",
    "t = tand(beta)\n",
    "s = sind(alphaInit)\n",
    "c = cosd(alphaInit)\n",
    "prevErr = t + s*(mp*zo + f*(1-mp)*c)/(f*(mp*c**2 + s**2)) # Initial merit function value\n",
    "#prevErr = beta + arctand(s*(mp*zo + f*(1-mp)*c)/(f*(mp*c**2 + s**2))) # Initial merit function value\n",
    "alpha_i = alphaInit\n",
    "step = 0.5*prevErr\n",
    "\n",
    "print(\"Initial error = \", prevErr)\n",
    "print(\"np.arctan(prevErr) = \", np.arctan(prevErr))\n",
    "print('Initial step = ', step)\n",
    "print('np.arctan(step) =', np.arctan(step))\n",
    "print()\n",
    "\n",
    "while (abs(prevErr) > errValStop) and (i < stepThreshold):\n",
    "    i += 1\n",
    "    alpha_i += step \n",
    "    s = sind(alpha_i)\n",
    "    c = cosd(alpha_i)\n",
    "    err = t + s*(mp*zo + f*(1-mp)*c)/(f*(mp*c**2 + s**2))\n",
    "    #err = beta + arctand(s*(mp*zo + f*(1-mp)*c)/(f*(mp*c**2 + s**2)))\n",
    "    deltaErr = err - prevErr   \n",
    "    print('-------------')\n",
    "    print('err({}) = {:2.4f}'.format(i, err))\n",
    "    print('deltaErr({}) = {:2.4f}'.format(i, deltaErr))\n",
    "    print('prevErr({}) = {:2.4f}'.format(i, prevErr))\n",
    "    print('alpha({}) = {:2.4f}'.format(i, alpha_i))\n",
    "    if np.sign(err)/np.sign(prevErr) < 0: # modify step direction and possibly size only if i > 0\n",
    "        step = 0.5*deltaErr\n",
    "        print('**Sign change: changing step to ', step)\n",
    "    prevErr = err\n",
    "    \n",
    "print('Value of alpha after {} iterations = {:2.5f} (error = {:2.5e}, merit = {:2.5e})'\n",
    "      .format(i, alpha_i, alphaTrue - alpha_i, err))"
   ]
  },
  {
   "cell_type": "markdown",
   "metadata": {
    "collapsed": false
   },
   "source": [
    "##### Testing the algorithm"
   ]
  },
  {
   "cell_type": "code",
   "execution_count": 58,
   "metadata": {
    "collapsed": true
   },
   "outputs": [],
   "source": [
    "def estimate_alpha(zo, f, mp, beta, maxSteps=250):\n",
    "    \"\"\"\n",
    "    \"\"\"\n",
    "    errValStop = 1e-16\n",
    "    stepThreshold = maxSteps\n",
    "    i = 0\n",
    "    t = tand(beta)\n",
    "    alphaInit = alpha_thin(zo=zo, f=f, beta=beta)\n",
    "    s = sind(alphaInit)\n",
    "    c = cosd(alphaInit)\n",
    "    prevErr = t + s*(mp*zo + f*(1-mp)*c)/(f*(mp*c**2 + s**2)) # Initial merit function value\n",
    "    alpha_i = alphaInit\n",
    "    step = 0.5*prevErr\n",
    "\n",
    "    while (abs(prevErr) > errValStop) and (i < stepThreshold):\n",
    "        i += 1\n",
    "        alpha_i += step \n",
    "        s = sind(alpha_i)\n",
    "        c = cosd(alpha_i)\n",
    "        err = t + s*(mp*zo + f*(1-mp)*c)/(f*(mp*c**2 + s**2))\n",
    "        deltaErr = err - prevErr   \n",
    "        if np.sign(err)/np.sign(prevErr) < 0: \n",
    "            step = 0.5*deltaErr\n",
    "        prevErr = err\n",
    "    return alpha_i, i, err"
   ]
  },
  {
   "cell_type": "code",
   "execution_count": 59,
   "metadata": {
    "collapsed": false
   },
   "outputs": [
    {
     "name": "stdout",
     "output_type": "stream",
     "text": [
      "\n",
      "mp = 0.117711196058; zo = -709.208635801; f = 71.6645763898; alpha = 17.5298302134\n",
      "alpha (actual) = 17.5298; alpha (est) = 17.5294; steps = 250; error = 3.99e-04\n",
      "\n",
      "mp = 0.114250253391; zo = -910.609655556; f = 85.2319265725; alpha = -21.0455344962\n",
      "alpha (actual) = -21.0455; alpha (est) = -21.0448; steps = 250; error = -7.44e-04\n",
      "\n",
      "mp = 0.148212912441; zo = -534.062789862; f = 76.5808557901; alpha = -6.38395921045\n",
      "alpha (actual) = -6.3840; alpha (est) = -6.3839; steps = 250; error = -6.13e-05\n",
      "\n",
      "mp = 0.134108365951; zo = -546.154091812; f = 54.0355866661; alpha = 24.7647174221\n",
      "alpha (actual) = 24.7647; alpha (est) = 24.7646; steps = 250; error = 1.24e-04\n",
      "\n",
      "mp = 0.108045486049; zo = -900.456838707; f = 66.6639930395; alpha = -20.0088387617\n",
      "alpha (actual) = -20.0088; alpha (est) = -20.0081; steps = 250; error = -7.29e-04\n",
      "\n",
      "mp = 0.111070223191; zo = -780.780193828; f = 74.7052550688; alpha = -24.2508465321\n",
      "alpha (actual) = -24.2508; alpha (est) = -24.3477; steps = 250; error = 9.69e-02\n",
      "\n",
      "mp = 0.156062850128; zo = -777.178478052; f = 89.8554850926; alpha = 22.7436275193\n",
      "alpha (actual) = 22.7436; alpha (est) = 22.7427; steps = 250; error = 9.37e-04\n",
      "\n",
      "mp = 0.129785590139; zo = -1085.3245929; f = 95.0446363396; alpha = 24.8080351675\n",
      "alpha (actual) = 24.8080; alpha (est) = 24.8827; steps = 250; error = -7.47e-02\n",
      "\n",
      "mp = 0.210125745113; zo = -602.395088126; f = 78.6967588242; alpha = 28.3940040174\n",
      "alpha (actual) = 28.3940; alpha (est) = 28.3932; steps = 250; error = 8.50e-04\n"
     ]
    }
   ],
   "source": [
    "for i in range(6000):\n",
    "    mp = 0.1 + 4*np.random.random() \n",
    "    zo = -500 - 1000*np.random.random()\n",
    "    f = 50 + 50*np.random.random()\n",
    "    \n",
    "    # Ensure that there is a unique alpha within +/-90° for the parameters\n",
    "    if first_derivative_has_real_roots(zo, f, mp):\n",
    "        continue  \n",
    "    \n",
    "    # generate a \"True\" alpha that we would like to determine\n",
    "    alpha = (-1)**np.random.randint(1,3) * 30*np.random.random()\n",
    "    \n",
    "    # Ensure that the condition for real imaging is satisfied\n",
    "    if (abs(zo)*mp - f/cosd(alpha)) <= 0.0:\n",
    "        continue\n",
    "    \n",
    "    # generate the beta corresponding to the true alpha\n",
    "    beta = get_beta2(zo=zo, f=f, mp=mp, alpha=alpha)\n",
    "\n",
    "    #     \n",
    "    alphaEst, numSteps, _ = estimate_alpha(zo=zo, f=f, mp=mp, beta=beta)\n",
    "    if abs(alpha - alphaEst) > 1e-5:\n",
    "        print()\n",
    "        print('mp = {}; zo = {}; f = {}; alpha = {}'.format(mp, zo, f, alpha))\n",
    "        print('alpha (actual) = {:2.4f}; alpha (est) = {:2.4f}; steps = {}; error = {:2.2e}'\n",
    "              .format(alpha, alphaEst, numSteps, alpha - alphaEst))"
   ]
  },
  {
   "cell_type": "code",
   "execution_count": null,
   "metadata": {
    "collapsed": false
   },
   "outputs": [],
   "source": []
  },
  {
   "cell_type": "code",
   "execution_count": null,
   "metadata": {
    "collapsed": true
   },
   "outputs": [],
   "source": []
  },
  {
   "cell_type": "code",
   "execution_count": null,
   "metadata": {
    "collapsed": true
   },
   "outputs": [],
   "source": []
  },
  {
   "cell_type": "code",
   "execution_count": null,
   "metadata": {
    "collapsed": true
   },
   "outputs": [],
   "source": []
  }
 ],
 "metadata": {
  "kernelspec": {
   "display_name": "Python 2",
   "language": "python",
   "name": "python2"
  },
  "language_info": {
   "codemirror_mode": {
    "name": "ipython",
    "version": 2
   },
   "file_extension": ".py",
   "mimetype": "text/x-python",
   "name": "python",
   "nbconvert_exporter": "python",
   "pygments_lexer": "ipython2",
   "version": "2.7.11"
  }
 },
 "nbformat": 4,
 "nbformat_minor": 0
}
