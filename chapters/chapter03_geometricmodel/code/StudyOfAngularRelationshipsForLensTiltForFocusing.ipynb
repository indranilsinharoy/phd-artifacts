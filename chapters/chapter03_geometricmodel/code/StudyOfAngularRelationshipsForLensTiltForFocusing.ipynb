{
 "cells": [
  {
   "cell_type": "code",
   "execution_count": 1,
   "metadata": {
    "collapsed": true
   },
   "outputs": [],
   "source": [
    "from __future__ import print_function, division\n",
    "import os\n",
    "import numpy as np\n",
    "import sympy as sy\n",
    "from iutils.plot.mayaviutils import implicit_plot, drawOriginAxes"
   ]
  },
  {
   "cell_type": "code",
   "execution_count": 2,
   "metadata": {
    "collapsed": true
   },
   "outputs": [],
   "source": [
    "%matplotlib inline"
   ]
  },
  {
   "cell_type": "code",
   "execution_count": 3,
   "metadata": {
    "collapsed": false
   },
   "outputs": [],
   "source": [
    "# Helper functions\n",
    "sind = lambda x : np.sin(np.deg2rad(x))\n",
    "cosd = lambda x : np.cos(np.deg2rad(x))\n",
    "tand = lambda x : np.tan(np.deg2rad(x))\n",
    "arcsind = lambda x : np.rad2deg(np.arcsin(x))\n",
    "arccosd = lambda x : np.rad2deg(np.arccos(x))\n",
    "arctand = lambda x : np.rad2deg(np.arctan(x))\n",
    "\n",
    "curDir = os.getcwd()\n",
    "\n",
    "# Helper function for saving figures\n",
    "imgdir = os.path.join(curDir, 'images')\n",
    "if not os.path.exists(imgdir):\n",
    "    os.makedirs(imgdir)\n",
    "    print(\"Created 'images' directory\")\n",
    "\n",
    "\n",
    "bSaveFigure = True\n",
    "fig_format, fig_ext = 'png', '.png'\n",
    "def saveFigure(figure, fig_name, DPI=120):\n",
    "    if bSaveFigure:\n",
    "        figname = os.path.join(imgdir, fig_name)\n",
    "        print('figname:', figname)\n",
    "        figure.savefig(figname, dpi=DPI, facecolor='white', edgecolor='white',\n",
    "                       bbox_inches='tight', format=fig_format, pad_inches=0.03)"
   ]
  },
  {
   "cell_type": "markdown",
   "metadata": {},
   "source": [
    "## Lens rotated about a changing pivot point"
   ]
  },
  {
   "cell_type": "code",
   "execution_count": 17,
   "metadata": {
    "collapsed": true
   },
   "outputs": [],
   "source": [
    "def get_beta(x, de, zo, f, mp, alpha):\n",
    "    \"\"\"compute the object tilt angle (orientation of PoSF) for lens tilted about the x-axis\n",
    "    about a point (de + x) distance from the ENPP. \n",
    "    \n",
    "    @param: x: increment in distance of ENPP from {C} in fronto-parallel configuration\n",
    "    @param: de: directed distance of ENPP from {C} in fronto-parallel configuration.\n",
    "    @param: zo: directed distance of object plane from {C} \n",
    "    @param: f: focal length\n",
    "    @param: mp: pupil magnification\n",
    "    @param: alpha: angle of rotation (in degrees) of the lens about the pivot about x-axis\n",
    "    \"\"\"\n",
    "    c = cosd(alpha)\n",
    "    s = sind(alpha)\n",
    "    numr = s*( mp*(zo + x - (de + x)*c) + f*(1 - mp)*c)\n",
    "    deno = (f - mp*(de + x)*s**2)*(mp*c**2 + s**2) + (de + x)*mp*(1-mp)*(s**2)*(c**2)\n",
    "    return -arctand(numr/deno)\n",
    "\n",
    "def get_zoDash(zo, alpha, beta, f, mp, de, deDash):\n",
    "    \"\"\"compute image plane distance (along z-axis of {C})\n",
    "    \n",
    "    @param: zo: directed distance of object plane from {C} \n",
    "    @param: alpha: angle of rotation (in degrees) of the lens about the pivot about x-axis\n",
    "    @param: beta: angle of rotation (in degrees) of the object plane about it's pivot about x-axis\n",
    "    @param: f: focal length\n",
    "    @param: mp: pupil magnification\n",
    "    @param: de: directed distance of ENPP from {C} in fronto-parallel configuration.\n",
    "    @param: deDash: directed distance of EXPP from {C} in fronto-parallel configuration.\n",
    "    \"\"\"\n",
    "    c = cosd(alpha)\n",
    "    s = sind(alpha)\n",
    "    t = tand(beta)\n",
    "    z = zo - de*(s*t + c)\n",
    "    numr = mp*f*(mp*c**2 + s**2)*z\n",
    "    deno = mp*c*z + f\n",
    "    return deDash*c + numr/deno"
   ]
  },
  {
   "cell_type": "code",
   "execution_count": 18,
   "metadata": {
    "collapsed": false
   },
   "outputs": [
    {
     "name": "stdout",
     "output_type": "stream",
     "text": [
      "zo = -509.00, zoDash = 24.17, d = -20.00, ze = -504.00, zeDash = 49.17\n",
      "zo = -508.00, zoDash = 25.17, d = -20.00, ze = -504.00, zeDash = 49.17\n",
      "zo = -507.00, zoDash = 26.17, d = -20.00, ze = -504.00, zeDash = 49.17\n"
     ]
    }
   ],
   "source": [
    "# ex. optical system \"paraxialDoubleLens24mmFiniteConj_mp2.zmx\"\n",
    "zo = -509.0\n",
    "f = 24.0\n",
    "mp = 2.0\n",
    "de = -5.0        # along the optical axis\n",
    "deDash = -25.0   # along the optical axis\n",
    "\n",
    "#Image position (zoDash): 24.1707317\n",
    "#Obj. distance from ENPP (|ze|): 504.0\n",
    "#Image position from EXPP (|zeDash|): 49.1707316951\n",
    "\n",
    "# First we ensure that the object-to-ENPP distance (ze) and EXPP-to-image distance (zeDash)\n",
    "# remains fixed in frontoparallel configuration for different values of x.\n",
    "alpha = 0\n",
    "for x in range(3):\n",
    "    zoNew = zo + x\n",
    "    deNew = de + x\n",
    "    deDashNew = deDash + x\n",
    "    ze = zoNew - deNew*cosd(alpha)\n",
    "    # since the function get_zoDash computes zoNew, and deNew we just pass zo and de (the initial values)\n",
    "    beta = get_beta(x=x, de=de, zo=zo, f=f, mp=mp, alpha=alpha) \n",
    "    zoDash = get_zoDash(zo=zoNew, alpha=alpha, beta=beta, f=f, mp=mp, de=deNew, deDash=deDashNew)\n",
    "    zeDash = zoDash - deDashNew*cosd(alpha)\n",
    "    print(('zo = {:3.2f}, zoDash = {:3.2f}, d = {:3.2f}, ze = {:3.2f}, zeDash = {:3.2f}'\n",
    "           .format(zoNew, zoDash, deDashNew - deNew, ze, zeDash)))"
   ]
  },
  {
   "cell_type": "code",
   "execution_count": 19,
   "metadata": {
    "collapsed": false
   },
   "outputs": [
    {
     "data": {
      "image/png": "[encoded data removed]",
      "text/plain": [
       "<matplotlib.figure.Figure at 0x15c6b2b0>"
      ]
     },
     "metadata": {},
     "output_type": "display_data"
    }
   ],
   "source": [
    "alphaArr = [0, -5, -10]\n",
    "\n",
    "fig, axes = plt.subplots(3, 1, sharex=True, figsize=(8*0.8, 6*0.8))\n",
    "(ax0, ax1, ax2) = axes.flatten()\n",
    "\n",
    "x = np.linspace(-5, 5, 21)\n",
    "beta0 = get_beta(x=x, de=de, zo=zo, f=f, mp=mp, alpha=alphaArr[0])\n",
    "beta1 = get_beta(x=x, de=de, zo=zo, f=f, mp=mp, alpha=alphaArr[1])\n",
    "beta2 = get_beta(x=x, de=de, zo=zo, f=f, mp=mp, alpha=alphaArr[2])\n",
    "beta0Mean = np.mean(beta0)\n",
    "beta1Mean = np.mean(beta1)\n",
    "beta2Mean = np.mean(beta2)\n",
    " \n",
    "#print(beta0Mean, beta1Mean, beta2Mean)\n",
    "alphaLight = 0.3\n",
    "lwLight = 1.5\n",
    "lwEmph = 1.5\n",
    "\n",
    "ax0.plot(x, beta0, color='#3A9AFF', lw=lwEmph, \n",
    "        label=r'$\\alpha={}^o$'.format(alphaArr[0]), zorder=10)\n",
    "ax0.plot(x, beta1 - beta1Mean,  color='#00A765', alpha=alphaLight, lw=lwLight, \n",
    "        label=r'$\\alpha={}^o$'.format(alphaArr[1]), zorder=8)\n",
    "ax0.plot(x, beta2 - beta2Mean, color='#FF3F7A', alpha=alphaLight, lw=lwLight,\n",
    "        label=r'$\\alpha={}^o$'.format(alphaArr[2]), zorder=8)\n",
    "\n",
    "ax1.plot(x, beta0 + beta1Mean, color='#3A9AFF', alpha=alphaLight, lw=lwLight,\n",
    "        label=r'$\\alpha={}^o$'.format(alphaArr[0]), zorder=8)\n",
    "ax1.plot(x, beta1, color='#00A765', lw=lwEmph,\n",
    "        label=r'$\\alpha={}^o$'.format(alphaArr[1]), zorder=10)\n",
    "ax1.plot(x, beta2 + (beta1Mean - beta2Mean), color='#FF3F7A', alpha=alphaLight, lw=lwLight,\n",
    "        label=r'$\\alpha={}^o$'.format(alphaArr[2]), zorder=8)\n",
    "\n",
    "\n",
    "ax2.plot(x, beta0 + beta2Mean, color='#3A9AFF', alpha=alphaLight, lw=lwLight,\n",
    "        label=r'$\\alpha={}^o$'.format(alphaArr[0]), zorder=8)\n",
    "ax2.plot(x, beta1 + (beta2Mean - beta1Mean), color='#00A765', alpha=alphaLight, lw=lwLight,\n",
    "        label=r'$\\alpha={}^o$'.format(alphaArr[1]), zorder=8)\n",
    "ax2.plot(x, beta2, color='#FF3F7A', lw=lwEmph,\n",
    "        label=r'$\\alpha={}^o$'.format(alphaArr[2]), zorder=10)\n",
    "\n",
    "# plot decorations\n",
    "# common to all axes\n",
    "for ax in [ax0, ax1, ax2]:\n",
    "    ax.set_xlim(x[0]-0.2, x[-1] + 0.2)                # x limit\n",
    "    ax.grid(axis='y', alpha=0.4)\n",
    "    ax.yaxis.set_major_locator(plt.MaxNLocator(5))    # number of ticks\n",
    "    ax.yaxis.set_ticks_position('left')               # tick \n",
    "    ax.set_ylabel(r'$\\beta^o$', fontsize=14)          # y-label\n",
    "    \n",
    "    for tick in ax.xaxis.get_major_ticks():\n",
    "        tick.label.set_fontsize(9) \n",
    "    for tick in ax.yaxis.get_major_ticks():\n",
    "        tick.label.set_fontsize(9) \n",
    "\n",
    "    \n",
    "ax0.xaxis.set_ticks_position('bottom')\n",
    "ax2.set_xlabel(r'$x\\,\\,(mm)$', fontsize=14)\n",
    "\n",
    "# legends\n",
    "ax0.legend(loc=(0.79, 0.5), labelspacing=0.008, fontsize=10)\n",
    "ax1.legend(loc=(0.79, 0.5), labelspacing=0.008, fontsize=10)\n",
    "ax2.legend(loc=(0.79, 0.5), labelspacing=0.008, fontsize=10)\n",
    "\n",
    "fig.tight_layout()\n",
    "\n",
    "# Save the figure  \n",
    "#saveFigure(fig, 'object_tilt_angle_with_pivot_movement.png')\n",
    "\n",
    "plt.show()"
   ]
  },
  {
   "cell_type": "code",
   "execution_count": 13,
   "metadata": {
    "collapsed": false
   },
   "outputs": [
    {
     "data": {
      "image/png": "[encoded data removed]",
      "text/plain": [
       "<matplotlib.figure.Figure at 0x132d93c8>"
      ]
     },
     "metadata": {},
     "output_type": "display_data"
    }
   ],
   "source": [
    "# plot of alpha vs. beta (may be just for fun .... that's all!)\n",
    "# this plot shows that given alpha, we can get a unique beta within +/-90°\n",
    "alpha = np.linspace(-25., 25., 51)\n",
    "beta = get_beta(x=0, de=-5.0, zo=-509.0, f=24.0, mp=2.0, alpha=alpha)\n",
    "\n",
    "plt.plot(alpha, beta)\n",
    "plt.xlabel(r'$\\alpha$')\n",
    "plt.ylabel(r'$\\beta$')\n",
    "plt.show()"
   ]
  },
  {
   "cell_type": "markdown",
   "metadata": {},
   "source": [
    "## Lens rotated about the x-axis at ENPP"
   ]
  },
  {
   "cell_type": "code",
   "execution_count": 15,
   "metadata": {
    "collapsed": true
   },
   "outputs": [],
   "source": [
    "def compute_zoDash(zo, f, mp, d, alpha):\n",
    "    \"\"\"formula for computing the image plane distance from the pivot (origin of {C}) if\n",
    "    lens is tilted about the ENPP. That is de=0, deDash = d\n",
    "    \n",
    "    @param: zo: object distance along z-axis\n",
    "    @param: f: focal length\n",
    "    @param: mp: pupil magnification\n",
    "    @param: d: distance from ENPP to EXPP\n",
    "    @param: alpha: angle of image plane tilt about x-axis (in degrees)\n",
    "    \"\"\"\n",
    "    c = cosd(alpha)\n",
    "    s = sind(alpha)\n",
    "    return d*c + mp*f*zo*(mp*c**2 + s**2)/(zo*mp*c + f)\n",
    "\n",
    "\n",
    "def beta_exact(zo, f, mp, alpha):\n",
    "    \"\"\"formula for computing the object plane tilt angle if\n",
    "    lens is tilted about the ENPP. That is de=0, deDash = d\n",
    "    \n",
    "    @param: zo: object distance along z-axis\n",
    "    @param: f: focal length\n",
    "    @param: mp: pupil magnification\n",
    "    @param: alpha: angle of image plane tilt about x-axis (in degrees)\n",
    "    \"\"\"\n",
    "    c = cosd(alpha)\n",
    "    s = sind(alpha)\n",
    "    t = -s*(mp*zo + (1-mp)*f*c)/(f*(mp*c**2 + s**2))\n",
    "    return arctand(t)\n",
    "\n",
    "def beta_thin(zo, f, alpha):\n",
    "    return -arctand(zo*sind(alpha)/f)"
   ]
  },
  {
   "cell_type": "code",
   "execution_count": null,
   "metadata": {
    "collapsed": false
   },
   "outputs": [],
   "source": []
  },
  {
   "cell_type": "code",
   "execution_count": 16,
   "metadata": {
    "collapsed": false
   },
   "outputs": [
    {
     "data": {
      "image/png": "[encoded data removed]",
      "text/plain": [
       "<matplotlib.figure.Figure at 0x15b60a58>"
      ]
     },
     "metadata": {},
     "output_type": "display_data"
    }
   ],
   "source": [
    "zo = -509.0\n",
    "f = 24.0\n",
    "mpArr = [0.55, 1, 2.0]\n",
    "\n",
    "alpha = np.linspace(-20, 20, 101)\n",
    "\n",
    "fig, ax = plt.subplots(1,1)\n",
    "\n",
    "for mp in mpArr:\n",
    "    beta = beta_exact(zo, f, mp, alpha)\n",
    "    ax.plot(beta, alpha)\n",
    "    \n",
    "\n",
    "# No need to plot beta_thin ... this is same as mp=1    \n",
    "#betaT = beta_thin(zo, f, alpha)\n",
    "#ax.plot(betaT, alpha, 'k-')\n",
    "\n",
    "ax.grid()\n",
    "ax.set_ylabel(r'$\\alpha$')\n",
    "ax.set_xlabel(r'$\\beta$')\n",
    "ax.set_aspect('equal')\n",
    "plt.show()"
   ]
  },
  {
   "cell_type": "code",
   "execution_count": null,
   "metadata": {
    "collapsed": false
   },
   "outputs": [],
   "source": []
  },
  {
   "cell_type": "code",
   "execution_count": 40,
   "metadata": {
    "collapsed": true
   },
   "outputs": [],
   "source": [
    "def alpha_thin(zo, f, beta):\n",
    "    return -arcsind(f*tand(beta)/zo)\n",
    "\n",
    "def alpha_approx(zo, f, mp, beta):\n",
    "    a = 1\n",
    "    alphaThin = alpha_thin(zo, f, beta)\n",
    "    b = (mp*zo/cosd(alphaThin) + f*(1-mp))/(f*tand(beta))\n",
    "    c = mp\n",
    "    k = np.sqrt(b**2 - 4*a*c)\n",
    "    #t1 = 0.5*(-b - k)\n",
    "    #t2 = 0.5*(-b + k)\n",
    "    #print(t1, t2)\n",
    "    roots = arctand(0.5*(-b - k)), arctand(0.5*(-b + k))\n",
    "    #print('roots = ', roots)\n",
    "    return roots[0] if alphaThin > 0 else roots[1]"
   ]
  },
  {
   "cell_type": "code",
   "execution_count": 41,
   "metadata": {
    "collapsed": false
   },
   "outputs": [
    {
     "name": "stdout",
     "output_type": "stream",
     "text": [
      "beta =  62.2296825491\n",
      "alpha (true) =  5.0\n",
      "alpha (approximate) = 4.99895906397\n",
      "Effect of alpha approximate on zDash:\n",
      "zDash (true) =  29.2399513946\n",
      "zDash (approx) =  29.2399175376\n"
     ]
    }
   ],
   "source": [
    "zo = -509.0\n",
    "f = 24.0\n",
    "mp = 2.0\n",
    "alphaExact = 5.0\n",
    "d = -20\n",
    "\n",
    "betaExact = beta_exact(zo, f, mp, alphaExact)\n",
    "alphaApprox = alpha_approx(zo, f, mp, betaExact)\n",
    "print('beta = ', betaExact)\n",
    "print('alpha (true) = ', alphaExact)\n",
    "print('alpha (approximate) =', alphaApprox)\n",
    "print('Effect of alpha approximate on zDash:')\n",
    "print('zDash (true) = ', compute_zoDash(zo, f, mp, d, alphaExact))\n",
    "print('zDash (approx) = ', compute_zoDash(zo, f, mp, d, alphaApprox))"
   ]
  },
  {
   "cell_type": "code",
   "execution_count": 42,
   "metadata": {
    "collapsed": false
   },
   "outputs": [
    {
     "name": "stdout",
     "output_type": "stream",
     "text": [
      "beta =  -61.5866016756\n",
      "alpha (true) =  -5.0\n",
      "alpha (approximate) = -5.0\n",
      "Effect of alpha approximate on zDash:\n",
      "zDash (true) =  5.36472768283\n",
      "zDash (approx) =  5.36472768283\n"
     ]
    }
   ],
   "source": [
    "zo = -509.0\n",
    "f = 24.0\n",
    "mp = 1.0\n",
    "alphaExact = -5.0\n",
    "\n",
    "betaExact = beta_exact(zo, f, mp, alphaExact)\n",
    "alphaApprox = alpha_approx(zo, f, mp, betaExact)\n",
    "print('beta = ', betaExact)\n",
    "print('alpha (true) = ', alphaExact)\n",
    "print('alpha (approximate) =', alphaApprox)\n",
    "print('Effect of alpha approximate on zDash:')\n",
    "print('zDash (true) = ', compute_zoDash(zo, f, mp, d, alphaExact))\n",
    "print('zDash (approx) = ', compute_zoDash(zo, f, mp, d, alphaApprox))"
   ]
  },
  {
   "cell_type": "code",
   "execution_count": 43,
   "metadata": {
    "collapsed": false
   },
   "outputs": [
    {
     "name": "stdout",
     "output_type": "stream",
     "text": [
      "beta =  -60.4849588349\n",
      "alpha (true) =  -5.0\n",
      "alpha (approximate) = -5.0017663116\n",
      "Effect of alpha approximate on zDash:\n",
      "zDash (true) =  -5.33570372548\n",
      "zDash (approx) =  -5.33554340954\n"
     ]
    }
   ],
   "source": [
    "zo = -509.0\n",
    "f = 24.0\n",
    "mp = 0.55\n",
    "alphaExact = -5.0\n",
    "\n",
    "betaExact = beta_exact(zo, f, mp, alphaExact)\n",
    "alphaApprox = alpha_approx(zo, f, mp, betaExact)\n",
    "print('beta = ', betaExact)\n",
    "print('alpha (true) = ', alphaExact)\n",
    "print('alpha (approximate) =', alphaApprox)\n",
    "print('Effect of alpha approximate on zDash:')\n",
    "print('zDash (true) = ', compute_zoDash(zo, f, mp, d, alphaExact))\n",
    "print('zDash (approx) = ', compute_zoDash(zo, f, mp, d, alphaApprox))"
   ]
  },
  {
   "cell_type": "code",
   "execution_count": 44,
   "metadata": {
    "collapsed": false,
    "scrolled": true
   },
   "outputs": [
    {
     "name": "stdout",
     "output_type": "stream",
     "text": [
      "beta =  -84.7366457352\n",
      "alpha (true) =  -10.0\n",
      "alpha (approximate) = -9.98889950828\n",
      "Effect of alpha approximate on zDash:\n",
      "zDash (true) =  79.9692555224\n",
      "zDash (approx) =  79.9702307594\n"
     ]
    }
   ],
   "source": [
    "zo = -1509.0\n",
    "f = 25.0\n",
    "mp = 4.0\n",
    "alphaExact = -10.0\n",
    "\n",
    "betaExact = beta_exact(zo, f, mp, alphaExact)\n",
    "alphaApprox = alpha_approx(zo, f, mp, betaExact)\n",
    "print('beta = ', betaExact)\n",
    "print('alpha (true) = ', alphaExact)\n",
    "print('alpha (approximate) =', alphaApprox)\n",
    "print('Effect of alpha approximate on zDash:')\n",
    "print('zDash (true) = ', compute_zoDash(zo, f, mp, d, alphaExact))\n",
    "print('zDash (approx) = ', compute_zoDash(zo, f, mp, d, alphaApprox))"
   ]
  },
  {
   "cell_type": "code",
   "execution_count": null,
   "metadata": {
    "collapsed": false
   },
   "outputs": [],
   "source": []
  },
  {
   "cell_type": "code",
   "execution_count": 19,
   "metadata": {
    "collapsed": false
   },
   "outputs": [
    {
     "data": {
      "image/png": "[encoded data removed]",
      "text/plain": [
       "<matplotlib.figure.Figure at 0xb6ef710>"
      ]
     },
     "metadata": {},
     "output_type": "display_data"
    }
   ],
   "source": [
    "zo = -509.0\n",
    "f = 25.0\n",
    "mp = 6.0\n",
    "\n",
    "\n",
    "fig, ax = plt.subplots(1, 1, figsize=(8, 4))\n",
    "alphaExact = np.linspace(-20, 20, 80)\n",
    "\n",
    "alphaApprox = []    \n",
    "for alpha in alphaExact:\n",
    "    betaExact = beta_exact(zo, f, mp, alpha)\n",
    "    alphaApprox.append(alpha_approx(zo, f, mp, betaExact))\n",
    "alphaApprox = np.array(alphaApprox)\n",
    "err = np.abs(alphaExact - alphaApprox)\n",
    "relErr = err/np.abs(alphaExact)#\n",
    "ax.plot(alphaExact, relErr, clip_on=False)\n",
    "\n",
    "plt.show()"
   ]
  },
  {
   "cell_type": "code",
   "execution_count": 45,
   "metadata": {
    "collapsed": false
   },
   "outputs": [
    {
     "name": "stdout",
     "output_type": "stream",
     "text": [
      "figname: C:\\GIT_REPOSITORIES\\phd-artifacts\\chapters\\chapter03_geometricmodel\\code\\images\\approximation_of_lens_tilt.png\n"
     ]
    },
    {
     "data": {
      "image/png": "[encoded data removed]",
      "text/plain": [
       "<matplotlib.figure.Figure at 0x14e87c88>"
      ]
     },
     "metadata": {},
     "output_type": "display_data"
    }
   ],
   "source": [
    "from matplotlib.ticker import FuncFormatter\n",
    "\n",
    "zo = -509.0\n",
    "f = 24.0\n",
    "mpArr = [0.55, 1, 2.0]\n",
    "\n",
    "\n",
    "fig, ax = plt.subplots(1, 1)\n",
    "alphaExact = np.linspace(0.0001, 20)\n",
    "\n",
    "for mp in mpArr:\n",
    "    alphaApprox = []\n",
    "    betaArr = []\n",
    "    for alpha in alphaExact:\n",
    "        beta = beta_exact(zo, f, mp, alpha)\n",
    "        alphaApprox.append(alpha_approx(zo, f, mp, beta))\n",
    "        betaArr.append(beta)\n",
    "    alphaApprox = np.array(alphaApprox)\n",
    "    err = np.abs(alphaExact - alphaApprox)\n",
    "    relErr = 100.0*err/np.abs(alphaExact)#\n",
    "    ax.plot(alphaExact, relErr, lw=1.7, clip_on=False)\n",
    "    #ax.errorbar(alphaExact, relErr, xerr=0.0, yerr=err, clip_on=False)\n",
    "    indices = np.argwhere(alphaExact > 5).flatten()[::5]\n",
    "    ax.scatter(alphaExact[indices], relErr[indices], s=8, clip_on=False, \n",
    "               facecolor='#555555', edgecolor=None, zorder=10)\n",
    "    for i in indices:\n",
    "        ax.text(x=alphaExact[i]-0.5, y=relErr[i]+0.025, s='{:0.1f}'.format(betaArr[i]))\n",
    "    \n",
    "ax.set_ylabel(r'$\\rm{Percent}\\,\\,\\rm{error}$', fontsize=15)\n",
    "ax.set_xlabel(r'$\\alpha \\,\\,\\rm(degrees)$', fontsize=15)\n",
    "ax.set_xlim(alphaExact[0], alphaExact[-1] + 1)\n",
    "ax.set_ylim(-0.001, 2.5)\n",
    "\n",
    "#ax.yaxis.set_major_formatter(FuncFormatter(lambda y, _: '{:.0%}'.format(y))) \n",
    "\n",
    "# Save the figure  \n",
    "saveFigure(fig, 'approximation_of_lens_tilt.png')\n",
    "\n",
    "plt.show()"
   ]
  },
  {
   "cell_type": "code",
   "execution_count": 21,
   "metadata": {
    "collapsed": false
   },
   "outputs": [
    {
     "data": {
      "image/png": "[encoded data removed]",
      "text/plain": [
       "<matplotlib.figure.Figure at 0xbafc6d8>"
      ]
     },
     "metadata": {},
     "output_type": "display_data"
    }
   ],
   "source": [
    "zo = -5009.0\n",
    "f = 100.0\n",
    "mpArr = [0.55, 1, 2.0]\n",
    "\n",
    "\n",
    "fig, ax = plt.subplots(1, 1)\n",
    "alphaExact = np.linspace(0.0001, 20)\n",
    "\n",
    "for mp in mpArr:\n",
    "    alphaApprox = []\n",
    "    betaArr = []\n",
    "    for alpha in alphaExact:\n",
    "        beta = beta_exact(zo, f, mp, alpha)\n",
    "        alphaApprox.append(alpha_approx(zo, f, mp, beta))\n",
    "        betaArr.append(beta)\n",
    "    alphaApprox = np.array(alphaApprox)\n",
    "    err = np.abs(alphaExact - alphaApprox)\n",
    "    relErr = 100.0*err/np.abs(alphaExact)#\n",
    "    ax.plot(alphaExact, relErr, lw=1.7, clip_on=True)\n",
    "    #ax.errorbar(alphaExact, relErr, xerr=0.0, yerr=err, clip_on=False)\n",
    "    indices = np.argwhere(alphaExact > 5).flatten()[::5]\n",
    "    ax.scatter(alphaExact[indices], relErr[indices], s=8, clip_on=True, \n",
    "               facecolor='#555555', edgecolor=None, zorder=10)\n",
    "    for i in indices:\n",
    "        ax.text(x=alphaExact[i]-0.5, y=relErr[i]+0.025, s='{:0.1f}'.format(betaArr[i]))\n",
    "    \n",
    "ax.set_ylabel(r'$\\rm{Percent}\\,\\,\\rm{error}$', fontsize=15)\n",
    "ax.set_xlabel(r'$\\alpha \\,\\,\\rm(degrees)$', fontsize=15)\n",
    "ax.set_xlim(alphaExact[0], alphaExact[-1] + 1)\n",
    "ax.set_ylim(-0.001, 2.5)\n",
    "\n",
    "#ax.yaxis.set_major_formatter(FuncFormatter(lambda y, _: '{:.0%}'.format(y))) \n",
    "\n",
    "plt.show()"
   ]
  },
  {
   "cell_type": "code",
   "execution_count": 46,
   "metadata": {
    "collapsed": false
   },
   "outputs": [
    {
     "name": "stdout",
     "output_type": "stream",
     "text": [
      "beta_opt =  62.2296825491\n"
     ]
    }
   ],
   "source": [
    "fl = 24.0\n",
    "\n",
    "alphaOpt = 5.0\n",
    "betaOpt = beta_exact(-509.0, fl, 2.0, alphaOpt)\n",
    "print('beta_opt = ', betaOpt)\n",
    "t = np.tan(np.deg2rad(betaOpt))\n",
    "\n",
    "a = fl*mp*t\n",
    "b = fl*t \n",
    "c = fl*(1-mp)/2.0\n",
    "d = 0/2.0\n",
    "e = mp*zo/2.0\n",
    "f = 0\n",
    "\n",
    "expr = []\n",
    "alpha = np.linspace(-120, 70, 201)\n",
    "\n",
    "for each in alpha:\n",
    "    x = cosd(each)\n",
    "    y = sind(each)\n",
    "    expr.append((c*x + b*y + e)/(a*x + c*y + d))\n",
    "\n",
    "expr = np.array(expr)\n",
    "    \n",
    "ct = np.tan(np.deg2rad(alpha))"
   ]
  },
  {
   "cell_type": "code",
   "execution_count": 48,
   "metadata": {
    "collapsed": false
   },
   "outputs": [
    {
     "name": "stdout",
     "output_type": "stream",
     "text": [
      "beta_opt =  -62.2296825491\n",
      "-5.68434188608e-14\n",
      "-4.4408920985e-16\n"
     ]
    }
   ],
   "source": [
    "fl = 24.0\n",
    "alphaOpt = -5.0\n",
    "zo = -509.0\n",
    "mp = 2.0\n",
    "betaOpt = beta_exact(zo, fl, mp, alphaOpt)\n",
    "print('beta_opt = ', betaOpt)\n",
    "t = np.tan(np.deg2rad(betaOpt))\n",
    "\n",
    "a = fl*mp*t\n",
    "b = fl*t \n",
    "c = fl*(1-mp)/2.0\n",
    "d = 0/2.0\n",
    "e = mp*zo/2.0\n",
    "f = 0\n",
    "\n",
    "x = cosd(alphaOpt)\n",
    "y = sind(alphaOpt)\n",
    "\n",
    "print(a*x**2 + b*y**2 + 2*c*x*y + 2*d*x + 2*e*y + f)\n",
    "\n",
    "print(t + sind(alphaOpt)*(mp*zo + fl*(1-mp)*cosd(alphaOpt))/(fl*(mp*cosd(alphaOpt)**2 + sind(alphaOpt)**2)))"
   ]
  },
  {
   "cell_type": "code",
   "execution_count": 51,
   "metadata": {
    "collapsed": false
   },
   "outputs": [
    {
     "data": {
      "text/plain": [
       "-5.1373032521759248"
      ]
     },
     "execution_count": 51,
     "metadata": {},
     "output_type": "execute_result"
    }
   ],
   "source": [
    "# finding the optimum angle\n",
    "alpha_thin(zo=-509.0, f=24.0, beta=betaOpt)"
   ]
  },
  {
   "cell_type": "code",
   "execution_count": 459,
   "metadata": {
    "collapsed": false
   },
   "outputs": [
    {
     "name": "stdout",
     "output_type": "stream",
     "text": [
      "alpha (true) =  -27.0718326653\n",
      "beta = -58.2482831727\n",
      "Initial alpha =  -5.47655821752\n",
      "Initial error =  -20.4423265781\n",
      "np.arctan(prevErr) =  -1.52191717994\n",
      "Initial step =  -10.2211632891\n",
      "np.arctan(step) = -1.47327048461\n",
      "\n",
      "-------------\n",
      "err(1) = -1.5729\n",
      "deltaErr(1) = 18.8695\n",
      "prevErr(1) = -20.4423\n",
      "alpha(1) = -15.6977\n",
      "-------------\n",
      "err(2) = 0.0520\n",
      "deltaErr(2) = 1.6249\n",
      "prevErr(2) = -1.5729\n",
      "alpha(2) = -25.9189\n",
      "**Sign change: changing step to  0.812442062781\n",
      "-------------\n",
      "err(3) = 0.0751\n",
      "deltaErr(3) = 0.0231\n",
      "prevErr(3) = 0.0520\n",
      "alpha(3) = -25.1064\n",
      "-------------\n",
      "err(4) = 0.0845\n",
      "deltaErr(4) = 0.0094\n",
      "prevErr(4) = 0.0751\n",
      "alpha(4) = -24.2940\n",
      "-------------\n",
      "err(5) = 0.0777\n",
      "deltaErr(5) = -0.0068\n",
      "prevErr(5) = 0.0845\n",
      "alpha(5) = -23.4816\n",
      "-------------\n",
      "err(6) = 0.0519\n",
      "deltaErr(6) = -0.0258\n",
      "prevErr(6) = 0.0777\n",
      "alpha(6) = -22.6691\n",
      "-------------\n",
      "err(7) = 0.0039\n",
      "deltaErr(7) = -0.0480\n",
      "prevErr(7) = 0.0519\n",
      "alpha(7) = -21.8567\n",
      "-------------\n",
      "err(8) = -0.0700\n",
      "deltaErr(8) = -0.0739\n",
      "prevErr(8) = 0.0039\n",
      "alpha(8) = -21.0442\n",
      "**Sign change: changing step to  -0.0369541817277\n",
      "-------------\n",
      "err(9) = -0.0660\n",
      "deltaErr(9) = 0.0040\n",
      "prevErr(9) = -0.0700\n",
      "alpha(9) = -21.0812\n",
      "-------------\n",
      "err(10) = -0.0621\n",
      "deltaErr(10) = 0.0039\n",
      "prevErr(10) = -0.0660\n",
      "alpha(10) = -21.1181\n",
      "Value of alpha after 10 iterations = -21.11814 (error = -5.95369e+00, merit = -6.21149e-02)\n"
     ]
    }
   ],
   "source": [
    "zo = -509.0\n",
    "f = 24.0   # 100\n",
    "mp = 0.55\n",
    "alphaTrue = -15.0\n",
    "\n",
    "#zo=-539.359427021; f=89.8074019381; mp=0.155474178141; alphaTrue=-6.10160377014;\n",
    "mp = 0.108342986115; zo = -928.149214632; f = 54.8193565806; alphaTrue = -27.0718326653\n",
    "\n",
    "beta = beta_exact(zo=zo, f=f, mp=mp, alpha=alphaTrue)\n",
    "alphaInit = alpha_thin(zo=zo, f=f, beta=beta)\n",
    "\n",
    "print('alpha (true) = ', alphaTrue)\n",
    "print('beta =', beta)\n",
    "print('Initial alpha = ', alphaInit)\n",
    "\n",
    "errValStop = 1e-16\n",
    "stepThreshold = 10\n",
    "i = 0\n",
    "t = tand(beta)\n",
    "s = sind(alphaInit)\n",
    "c = cosd(alphaInit)\n",
    "prevErr = t + s*(mp*zo + f*(1-mp)*c)/(f*(mp*c**2 + s**2)) # Initial merit function value\n",
    "#prevErr = beta + arctand(s*(mp*zo + f*(1-mp)*c)/(f*(mp*c**2 + s**2))) # Initial merit function value\n",
    "alpha_i = alphaInit\n",
    "step = 0.5*prevErr\n",
    "\n",
    "print(\"Initial error = \", prevErr)\n",
    "print(\"np.arctan(prevErr) = \", np.arctan(prevErr))\n",
    "print('Initial step = ', step)\n",
    "print('np.arctan(step) =', np.arctan(step))\n",
    "print()\n",
    "\n",
    "while (abs(prevErr) > errValStop) and (i < stepThreshold):\n",
    "    i += 1\n",
    "    alpha_i += step \n",
    "    s = sind(alpha_i)\n",
    "    c = cosd(alpha_i)\n",
    "    err = t + s*(mp*zo + f*(1-mp)*c)/(f*(mp*c**2 + s**2))\n",
    "    #err = beta + arctand(s*(mp*zo + f*(1-mp)*c)/(f*(mp*c**2 + s**2)))\n",
    "    deltaErr = err - prevErr   \n",
    "    print('-------------')\n",
    "    print('err({}) = {:2.4f}'.format(i, err))\n",
    "    print('deltaErr({}) = {:2.4f}'.format(i, deltaErr))\n",
    "    print('prevErr({}) = {:2.4f}'.format(i, prevErr))\n",
    "    print('alpha({}) = {:2.4f}'.format(i, alpha_i))\n",
    "    if np.sign(err)/np.sign(prevErr) < 0: # modify step direction and possibly size only if i > 0\n",
    "        step = 0.5*deltaErr\n",
    "        print('**Sign change: changing step to ', step)\n",
    "    prevErr = err\n",
    "    \n",
    "print('Value of alpha after {} iterations = {:2.5f} (error = {:2.5e}, merit = {:2.5e})'\n",
    "      .format(i, alpha_i, alphaTrue - alpha_i, err))"
   ]
  },
  {
   "cell_type": "code",
   "execution_count": null,
   "metadata": {
    "collapsed": false
   },
   "outputs": [],
   "source": []
  },
  {
   "cell_type": "code",
   "execution_count": 428,
   "metadata": {
    "collapsed": true
   },
   "outputs": [],
   "source": [
    "def estimate_alpha(zo, f, mp, beta, maxSteps=150):\n",
    "    \"\"\"\n",
    "    \"\"\"\n",
    "    errValStop = 1e-16\n",
    "    stepThreshold = maxSteps\n",
    "    i = 0\n",
    "    t = tand(beta)\n",
    "    alphaInit = alpha_thin(zo=zo, f=f, beta=beta)\n",
    "    s = sind(alphaInit)\n",
    "    c = cosd(alphaInit)\n",
    "    prevErr = t + s*(mp*zo + f*(1-mp)*c)/(f*(mp*c**2 + s**2)) # Initial merit function value\n",
    "    alpha_i = alphaInit\n",
    "    step = 0.5*prevErr\n",
    "\n",
    "    while (abs(prevErr) > errValStop) and (i < stepThreshold):\n",
    "        i += 1\n",
    "        alpha_i += step \n",
    "        s = sind(alpha_i)\n",
    "        c = cosd(alpha_i)\n",
    "        err = t + s*(mp*zo + f*(1-mp)*c)/(f*(mp*c**2 + s**2))\n",
    "        deltaErr = err - prevErr   \n",
    "        if np.sign(err)/np.sign(prevErr) < 0: \n",
    "            step = 0.5*deltaErr\n",
    "        prevErr = err\n",
    "    return alpha_i, i, err"
   ]
  },
  {
   "cell_type": "code",
   "execution_count": 455,
   "metadata": {
    "collapsed": false
   },
   "outputs": [
    {
     "name": "stdout",
     "output_type": "stream",
     "text": [
      "secondary condition: 0.0562836567862\n",
      "\n",
      "mp = 0.101679253101; zo = -1079.87808266; f = 58.416738787; alpha = -28.4685848773\n",
      "alpha (actual) = -28.4686; alpha (est) = -18.6248; steps = 150; error = -9.84e+00\n"
     ]
    }
   ],
   "source": [
    "for i in range(6000):\n",
    "    mp = 0.001 + 4*np.random.random() # problematic\n",
    "    #mp = 0.2 + 4*np.random.random()  # fine\n",
    "    zo = -500 - 1000*np.random.random()\n",
    "    f = 50 + 50*np.random.random()\n",
    "    alpha = (-1)**np.random.randint(1,3) * 30*np.random.random()\n",
    "    #\n",
    "    c = cosd(alpha)\n",
    "    if mp < f*c/(abs(zo) + f*c):\n",
    "        break  # the condition is not valid (the consequence is that alpha and beta will not have same sign)\n",
    "    beta = beta_exact(zo=zo, f=f, mp=mp, alpha=alpha)\n",
    "    # also reject those cases if beta < alpha, because we know that it is not possible\n",
    "    # (I still need to understand why we get this condition sometimes)\n",
    "    if abs(beta) < abs(alpha):\n",
    "        break\n",
    "    \n",
    "    if (mp - f*c/(abs(zo) + f*c)) < 0.06:\n",
    "        print('secondary condition:', mp - f*c/(abs(zo) + f*c))\n",
    "        #break\n",
    "        \n",
    "    alphaEst, numSteps, _ = estimate_alpha(zo=zo, f=f, mp=mp, beta=beta)\n",
    "    if abs(alpha - alphaEst) > 1e-7:\n",
    "        print()\n",
    "        print('mp = {}; zo = {}; f = {}; alpha = {}'.format(mp, zo, f, alpha))\n",
    "        print('alpha (actual) = {:2.4f}; alpha (est) = {:2.4f}; steps = {}; error = {:2.2e}'\n",
    "              .format(alpha, alphaEst, numSteps, alpha - alphaEst))\n",
    "        "
   ]
  },
  {
   "cell_type": "code",
   "execution_count": null,
   "metadata": {
    "collapsed": false
   },
   "outputs": [],
   "source": []
  },
  {
   "cell_type": "code",
   "execution_count": null,
   "metadata": {
    "collapsed": true
   },
   "outputs": [],
   "source": [
    "# problematic cases found (that still meets the condition):\n",
    "\n",
    "#\n",
    "#mp = 0.155474178141; zo = -539.359427021; f = 89.8074019381; alpha = -6.10160377014\n",
    "#alpha (actual) = -6.1016; alpha (est) = -4.6847; steps = 150; error = -1.42e+00\n",
    "\n",
    "\n",
    "#\n",
    "#mp = 0.160118447418; zo = -929.295779676; f = 96.1492470341; alpha = 23.0223723112\n",
    "#alpha (actual) = 23.0224; alpha (est) = 23.0207; steps = 150; error = 1.67e-03\n",
    "\n",
    "#\n",
    "#mp = 0.120164140759; zo = -1133.89717609; f = 84.8370919439; alpha = -27.7399990294\n",
    "#alpha (actual) = -27.7400; alpha (est) = -27.9950; steps = 150; error = 2.55e-01\n",
    "\n",
    "\n",
    "#mp = 0.127254588021; zo = -1342.47405012; f = 65.0107548829; alpha = -18.6756216453\n",
    "#alpha (actual) = -18.6756; alpha (est) = -18.6756; steps = 150; error = 1.45e-05\n",
    "#\n",
    "\n",
    "#mp = 0.108342986115; zo = -928.149214632; f = 54.8193565806; alpha = -27.0718326653\n",
    "#alpha (actual) = -27.0718; alpha (est) = -21.8048; steps = 150; error = -5.27e+00\n",
    "\n",
    "#\n",
    "#mp = 0.101679253101; zo = -1079.87808266; f = 58.416738787; alpha = -28.4685848773\n",
    "#alpha (actual) = -28.4686; alpha (est) = -18.6248; steps = 150; error = -9.84e+00\n"
   ]
  },
  {
   "cell_type": "code",
   "execution_count": 431,
   "metadata": {
    "collapsed": false
   },
   "outputs": [
    {
     "data": {
      "text/plain": [
       "(-21.804789584699559, 150, -6.9911096911567938e-07)"
      ]
     },
     "execution_count": 431,
     "metadata": {},
     "output_type": "execute_result"
    }
   ],
   "source": [
    "mp = 0.108342986115; zo = -928.149214632; f = 54.8193565806; alpha = -27.0718326653\n",
    "estimate_alpha(zo=zo, f=f, mp=mp, beta=beta, maxSteps=150)"
   ]
  },
  {
   "cell_type": "code",
   "execution_count": 460,
   "metadata": {
    "collapsed": false
   },
   "outputs": [
    {
     "name": "stdout",
     "output_type": "stream",
     "text": [
      "alpha = -27.0718326653\n",
      "beta = -58.2482831727\n",
      "Condition met? True\n",
      "0.0583787651609\n",
      "Secondary condition met? True\n",
      "0.0525738006232\n",
      "numr = -57.0338572824\n",
      "deno = 16.0634574502\n",
      "tbeta = -1.6158737851\n",
      "-58.2482831727\n"
     ]
    }
   ],
   "source": [
    "# understand the conditions for valid results\n",
    "#zo=-509.0; f=24.0; mp=0.55; alpha=-15;\n",
    "#zo=-655.674286325; f=81.6602220572; mp=0.0441952155845; alpha=-14.6948487664;  # invalid condition\n",
    "#zo=-539.359427021; f=89.8074019381; mp=0.155474178141; alpha=-6.10160377014; # valid condition, but still didn't converge\n",
    "#zo=-1342.47405012; f=65.0107548829; mp=0.127254588021; alpha=-18.6756216453\n",
    "#zo=-539.359427021; f=89.8074019381; mp=0.157; alpha=-6.10160377014;\n",
    "mp = 0.108342986115; zo = -928.149214632; f = 54.8193565806; alpha = -27.0718326653\n",
    "#mp = 0.101679253101; zo = -1079.87808266; f = 58.416738787; alpha = -28.4685848773\n",
    "\n",
    "beta = beta_exact(zo=zo, f=f, mp=mp, alpha=alpha)\n",
    "print('alpha =', alpha)\n",
    "print('beta =', beta)\n",
    "\n",
    "c = cosd(alpha)\n",
    "s = sind(alpha)\n",
    "\n",
    "print('Condition met?', mp > f*c/(abs(zo) + f*c))     # This condition must be satisfied\n",
    "print(mp - f*c/(abs(zo) + f*c))\n",
    "\n",
    "print('Secondary condition met?', mp > f/(abs(zo) + f))    \n",
    "print(mp - f/(abs(zo) + f))\n",
    "\n",
    "# computation steps for beta\n",
    "numr = mp*zo + f*(1 - mp)*c\n",
    "deno = f*(mp*c**2 + s**2)\n",
    "print('numr =', numr)  # should be negative\n",
    "print('deno =', deno)  # should be positive\n",
    "tbeta = -s*numr/deno\n",
    "print('tbeta =', tbeta)\n",
    "print(arctand(tbeta))\n"
   ]
  },
  {
   "cell_type": "raw",
   "metadata": {},
   "source": [
    "# valid case\n",
    "alpha = -15\n",
    "beta = -78.7120373048\n",
    "Condition met? True\n",
    "0.506439319152\n",
    "numr = -269.518001076\n",
    "deno = 13.9234628196\n",
    "tbeta = -5.00998872051\n",
    "-78.7120373048\n",
    "\n",
    "\n",
    "# invalid case\n",
    "alpha = -14.6948487664\n",
    "beta = 53.8172549943\n",
    "Condition met? False\n",
    "-0.0633222638094\n",
    "numr = 46.5205526978\n",
    "deno = 8.63150714752\n",
    "tbeta = 1.36719045814\n",
    "53.8172549943\n",
    "\n",
    "#limbo case\n",
    "alpha = -6.10160377014\n",
    "beta = -3.46476041286\n",
    "Condition met? True\n",
    "0.0134277384338\n",
    "numr = -8.44145609158\n",
    "deno = 14.8196227241\n",
    "tbeta = -0.0605452956647\n",
    "-3.46476041286"
   ]
  },
  {
   "cell_type": "code",
   "execution_count": 462,
   "metadata": {
    "collapsed": false
   },
   "outputs": [
    {
     "data": {
      "text/plain": [
       "-1.7320508075688767"
      ]
     },
     "execution_count": 462,
     "metadata": {},
     "output_type": "execute_result"
    }
   ],
   "source": [
    "tand(-60)"
   ]
  },
  {
   "cell_type": "code",
   "execution_count": null,
   "metadata": {
    "collapsed": true
   },
   "outputs": [],
   "source": []
  }
 ],
 "metadata": {
  "kernelspec": {
   "display_name": "Python 2",
   "language": "python",
   "name": "python2"
  },
  "language_info": {
   "codemirror_mode": {
    "name": "ipython",
    "version": 2
   },
   "file_extension": ".py",
   "mimetype": "text/x-python",
   "name": "python",
   "nbconvert_exporter": "python",
   "pygments_lexer": "ipython2",
   "version": "2.7.11"
  }
 },
 "nbformat": 4,
 "nbformat_minor": 0
}
