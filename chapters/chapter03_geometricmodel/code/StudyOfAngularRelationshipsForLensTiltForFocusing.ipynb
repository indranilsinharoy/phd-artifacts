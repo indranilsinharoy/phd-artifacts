{
 "cells": [
  {
   "cell_type": "markdown",
   "metadata": {},
   "source": [
    "# Relationship between object and lens orientation angles in Scheimpflug imaging"
   ]
  },
  {
   "cell_type": "code",
   "execution_count": 1,
   "metadata": {
    "collapsed": true
   },
   "outputs": [],
   "source": [
    "from __future__ import print_function, division\n",
    "import os\n",
    "import numpy as np\n",
    "import sympy as sy"
   ]
  },
  {
   "cell_type": "code",
   "execution_count": 2,
   "metadata": {
    "collapsed": true
   },
   "outputs": [],
   "source": [
    "%matplotlib inline"
   ]
  },
  {
   "cell_type": "code",
   "execution_count": 3,
   "metadata": {
    "collapsed": false
   },
   "outputs": [],
   "source": [
    "# Helper functions\n",
    "sind = lambda x : np.sin(np.deg2rad(x))\n",
    "cosd = lambda x : np.cos(np.deg2rad(x))\n",
    "tand = lambda x : np.tan(np.deg2rad(x))\n",
    "arcsind = lambda x : np.rad2deg(np.arcsin(x))\n",
    "arccosd = lambda x : np.rad2deg(np.arccos(x))\n",
    "arctand = lambda x : np.rad2deg(np.arctan(x))\n",
    "\n",
    "# Helper function for saving figures\n",
    "curDir = os.getcwd()\n",
    "imgdir = os.path.join(curDir, 'images')\n",
    "if not os.path.exists(imgdir):\n",
    "    os.makedirs(imgdir)\n",
    "    print(\"Created 'images' directory\")\n",
    "\n",
    "\n",
    "bSaveFigure = True\n",
    "fig_format, fig_ext = 'png', '.png'\n",
    "def saveFigure(figure, fig_name, DPI=120):\n",
    "    if bSaveFigure:\n",
    "        figname = os.path.join(imgdir, fig_name)\n",
    "        print('figname:', figname)\n",
    "        figure.savefig(figname, dpi=DPI, facecolor='white', edgecolor='white',\n",
    "                       bbox_inches='tight', format=fig_format, pad_inches=0.03)"
   ]
  },
  {
   "cell_type": "markdown",
   "metadata": {},
   "source": [
    "## Rotation of lens about a pivot away from the ENPP"
   ]
  },
  {
   "cell_type": "markdown",
   "metadata": {},
   "source": [
    "If the object plane is tilted about one axis (let's say the x-axis) by and angle $\\beta$ (such that, it makes angle $\\beta$ w.r.t. the vertical, y-axis), then the lens must also be rotated in the same direction (i.e. about the x-axis). If the angle of rotation of the lens is $\\alpha$, then in order for the tilted object to be in focus, $\\alpha$ and $\\beta$ must satisfy the following relationship:\n",
    "\n",
    "$$\n",
    "\\tan \\,\\beta = -\\frac{\\sin \\,\\alpha \\left[ m_p(z_o - d_e \\cos \\,\\alpha) + f(1-m_p) \\cos \\,\\alpha \\right]}{(f - m_p d_e \\sin^2 \\alpha)(m_p \\cos^2 \\alpha + \\sin^2 \\alpha)+m_p(1-m_p)d_e \\sin^2 \\alpha \\, \\cos^2 \\alpha}\n",
    "$$\n",
    "\n",
    "We will often refer to the R.H.S. of the above equation as $F(\\alpha)$."
   ]
  },
  {
   "cell_type": "markdown",
   "metadata": {},
   "source": [
    "#### Lens rotated about a changing pivot point"
   ]
  },
  {
   "cell_type": "code",
   "execution_count": 25,
   "metadata": {
    "collapsed": false
   },
   "outputs": [],
   "source": [
    "# Functions for analysing the effects of lens rotation\n",
    "\n",
    "def get_beta_shifting_pivot(x, de, zo, f, mp, alpha):\n",
    "    \"\"\"compute the object tilt angle (orientation of PoSF) for lens tilted about the x-axis\n",
    "    about a point (de + x) distance from the ENPP. \n",
    "    \n",
    "    @param: x: increment in distance of ENPP from {C} in fronto-parallel configuration\n",
    "    @param: de: directed distance of ENPP from {C} in fronto-parallel configuration.\n",
    "    @param: zo: directed distance of object plane from {C} \n",
    "    @param: f: focal length\n",
    "    @param: mp: pupil magnification\n",
    "    @param: alpha: angle of rotation (in degrees) of the lens about the pivot about x-axis\n",
    "    \"\"\"\n",
    "    c = cosd(alpha)\n",
    "    s = sind(alpha)\n",
    "    numr = s*( mp*(zo + x - (de + x)*c) + f*(1 - mp)*c)\n",
    "    deno = (f - mp*(de + x)*s**2)*(mp*c**2 + s**2) + (de + x)*mp*(1-mp)*(s**2)*(c**2)\n",
    "    return -arctand(numr/deno)\n",
    "\n",
    "def get_beta(de, zo, f, mp, alpha):\n",
    "    \"\"\"compute the object tilt angle (orientation of PoSF) for lens tilted about the x-axis\n",
    "    about a point (de) distance from the ENPP. \n",
    "    \n",
    "    @param: de: directed distance of ENPP from {C} in fronto-parallel configuration.\n",
    "    @param: zo: directed distance of object plane from {C} \n",
    "    @param: f: focal length\n",
    "    @param: mp: pupil magnification\n",
    "    @param: alpha: angle of rotation (in degrees) of the lens about the pivot about x-axis\n",
    "    \"\"\"\n",
    "    return get_beta_shifting_pivot(0.0, de, zo, f, mp, alpha)\n",
    "\n",
    "def get_zoDash(zo, alpha, beta, f, mp, de, deDash):\n",
    "    \"\"\"compute image plane distance (along z-axis of {C})\n",
    "    \n",
    "    @param: zo: directed distance of object plane from {C} \n",
    "    @param: alpha: angle of rotation (in degrees) of the lens about the pivot about x-axis\n",
    "    @param: beta: angle of rotation (in degrees) of the object plane about it's pivot about x-axis\n",
    "    @param: f: focal length\n",
    "    @param: mp: pupil magnification\n",
    "    @param: de: directed distance of ENPP from {C} in fronto-parallel configuration.\n",
    "    @param: deDash: directed distance of EXPP from {C} in fronto-parallel configuration.\n",
    "    \"\"\"\n",
    "    c = cosd(alpha)\n",
    "    s = sind(alpha)\n",
    "    t = tand(beta)\n",
    "    z = zo - de*(s*t + c)\n",
    "    numr = mp*f*(mp*c**2 + s**2)*z\n",
    "    deno = mp*c*z + f\n",
    "    return deDash*c + numr/deno\n",
    "\n",
    "def get_tanBeta(de, zo, f, mp, alpha):\n",
    "    \"\"\"same as the function `get_beta()`, except that it returns tan(beta) instead of beta\n",
    "    \"\"\"\n",
    "    c = cosd(alpha)\n",
    "    s = sind(alpha)\n",
    "    numr = -s*(mp*(zo - de*c) + f*(1 - mp)*c)\n",
    "    deno = (f - mp*de*s**2)*(mp*c**2 + s**2) + de*mp*(1-mp)*(s**2)*(c**2)\n",
    "    return numr/deno\n",
    "\n",
    "def beta_thin(zo, f, alpha):\n",
    "    \"\"\"compute beta using thin-lens approximation. If the lens is rotated about the ENPP\n",
    "    and the pupil magnification equals one, then this relation is exact too.\n",
    "    \"\"\"\n",
    "    return -arctand(zo*sind(alpha)/f)"
   ]
  },
  {
   "cell_type": "code",
   "execution_count": 6,
   "metadata": {
    "collapsed": false
   },
   "outputs": [
    {
     "name": "stdout",
     "output_type": "stream",
     "text": [
      "zo = -509.00, zoDash = 24.17, d = -20.00, ze = -504.00, zeDash = 49.17\n",
      "zo = -508.00, zoDash = 25.17, d = -20.00, ze = -504.00, zeDash = 49.17\n",
      "zo = -507.00, zoDash = 26.17, d = -20.00, ze = -504.00, zeDash = 49.17\n"
     ]
    }
   ],
   "source": [
    "# ex. optical system \"paraxialDoubleLens24mmFiniteConj_mp2.zmx\"\n",
    "zo = -509.0\n",
    "f = 24.0\n",
    "mp = 2.0\n",
    "de = -5.0        # along the optical axis\n",
    "deDash = -25.0   # along the optical axis\n",
    "\n",
    "#Image position (zoDash): 24.1707317\n",
    "#Obj. distance from ENPP (|ze|): 504.0\n",
    "#Image position from EXPP (|zeDash|): 49.1707316951\n",
    "\n",
    "# First we ensure that the object-to-ENPP distance (ze) and EXPP-to-image distance (zeDash)\n",
    "# remains fixed in frontoparallel configuration for different values of x.\n",
    "alpha = 0\n",
    "for x in range(3):\n",
    "    zoNew = zo + x\n",
    "    deNew = de + x\n",
    "    deDashNew = deDash + x\n",
    "    ze = zoNew - deNew*cosd(alpha)\n",
    "    # since the function get_zoDash computes zoNew, and deNew we just pass zo and de (the initial values)\n",
    "    beta = get_beta_shifting_pivot(x=x, de=de, zo=zo, f=f, mp=mp, alpha=alpha) \n",
    "    zoDash = get_zoDash(zo=zoNew, alpha=alpha, beta=beta, f=f, mp=mp, de=deNew, deDash=deDashNew)\n",
    "    zeDash = zoDash - deDashNew*cosd(alpha)\n",
    "    print(('zo = {:3.2f}, zoDash = {:3.2f}, d = {:3.2f}, ze = {:3.2f}, zeDash = {:3.2f}'\n",
    "           .format(zoNew, zoDash, deDashNew - deNew, ze, zeDash)))"
   ]
  },
  {
   "cell_type": "code",
   "execution_count": 8,
   "metadata": {
    "collapsed": false
   },
   "outputs": [
    {
     "data": {
      "image/png": "[encoded data removed]",
      "text/plain": [
       "<matplotlib.figure.Figure at 0xa98aac8>"
      ]
     },
     "metadata": {},
     "output_type": "display_data"
    }
   ],
   "source": [
    "alphaArr = [0, -5, -10]\n",
    "\n",
    "fig, axes = plt.subplots(3, 1, sharex=True, figsize=(8*0.8, 6*0.8))\n",
    "(ax0, ax1, ax2) = axes.flatten()\n",
    "\n",
    "x = np.linspace(-5, 5, 21)\n",
    "beta0 = get_beta_shifting_pivot(x=x, de=de, zo=zo, f=f, mp=mp, alpha=alphaArr[0])\n",
    "beta1 = get_beta_shifting_pivot(x=x, de=de, zo=zo, f=f, mp=mp, alpha=alphaArr[1])\n",
    "beta2 = get_beta_shifting_pivot(x=x, de=de, zo=zo, f=f, mp=mp, alpha=alphaArr[2])\n",
    "beta0Mean = np.mean(beta0)\n",
    "beta1Mean = np.mean(beta1)\n",
    "beta2Mean = np.mean(beta2)\n",
    "\n",
    "rangeBeta0 = '{:0.3f}'.format(np.max(beta0) - np.min(beta0))\n",
    "rangeBeta1 = '{:0.3f}'.format(np.max(beta1) - np.min(beta1))\n",
    "rangeBeta2 = '{:0.3f}'.format(np.max(beta2) - np.min(beta2))\n",
    "\n",
    "# figure  (the figure and font size in the figure are optimized for saving for embedding into word)\n",
    "#print(beta0Mean, beta1Mean, beta2Mean)\n",
    "alphaLight = 0.16\n",
    "lwLight = 1.5\n",
    "lwEmph = 1.5\n",
    "\n",
    "ax0.plot(x, beta0, color='#3A9AFF', lw=lwEmph, \n",
    "        label=r'$\\alpha={}^o$'.format(alphaArr[0]), zorder=10)\n",
    "ax0.plot(x, beta1 - beta1Mean,  color='#FC9500', alpha=alphaLight, lw=lwLight,\n",
    "        label=r'$\\alpha={}^o$'.format(alphaArr[1]), zorder=8)\n",
    "ax0.plot(x, beta2 - beta2Mean, color='#FF3F7A', alpha=alphaLight, lw=lwLight,\n",
    "        label=r'$\\alpha={}^o$'.format(alphaArr[2]), zorder=8)\n",
    "ax0.text(0.45, 0.8, r'$Range(\\beta)={}$'.format(rangeBeta0), fontsize=11, transform=ax0.transAxes)\n",
    "#\n",
    "ax1.plot(x, beta0 + beta1Mean, color='#3A9AFF', alpha=alphaLight, lw=lwLight,\n",
    "        label=r'$\\alpha={}^o$'.format(alphaArr[0]), zorder=8)\n",
    "ax1.plot(x, beta1, color='#FC9500', lw=lwEmph,\n",
    "        label=r'$\\alpha={}^o$'.format(alphaArr[1]), zorder=10)\n",
    "ax1.plot(x, beta2 + (beta1Mean - beta2Mean), color='#FF3F7A', alpha=alphaLight, lw=lwLight,\n",
    "        label=r'$\\alpha={}^o$'.format(alphaArr[2]), zorder=8)\n",
    "ax1.text(0.45, 0.8, r'$Range(\\beta)={}$'.format(rangeBeta1), fontsize=11, transform=ax1.transAxes)\n",
    "#\n",
    "ax2.plot(x, beta0 + beta2Mean, color='#3A9AFF', alpha=alphaLight, lw=lwLight,\n",
    "        label=r'$\\alpha={}^o$'.format(alphaArr[0]), zorder=8)\n",
    "ax2.plot(x, beta1 + (beta2Mean - beta1Mean), color='#FC9500', alpha=alphaLight, lw=lwLight,\n",
    "        label=r'$\\alpha={}^o$'.format(alphaArr[1]), zorder=8)\n",
    "ax2.plot(x, beta2, color='#FF3F7A', lw=lwEmph,\n",
    "        label=r'$\\alpha={}^o$'.format(alphaArr[2]), zorder=10)\n",
    "ax2.text(0.45, 0.8, r'$Range(\\beta)={}$'.format(rangeBeta2), fontsize=11, transform=ax2.transAxes)\n",
    "\n",
    "# plot decorations\n",
    "# common to all axes\n",
    "for l, ax in zip(['(a)', '(b)', '(c)'], [ax0, ax1, ax2]):\n",
    "    ax.set_xlim(x[0]-0.2, x[-1] + 0.2)                # x limit\n",
    "    #ax.grid(axis='y', alpha=0.4)\n",
    "    ax.yaxis.set_major_locator(plt.MaxNLocator(5))    # number of ticks\n",
    "    ax.yaxis.set_ticks_position('left')               # tick \n",
    "    ax.set_ylabel(r'$\\beta^o$', fontsize=14)          # y-label\n",
    "    # ticks\n",
    "    for tick in ax.xaxis.get_major_ticks():\n",
    "        tick.label.set_fontsize(9) \n",
    "    for tick in ax.yaxis.get_major_ticks():\n",
    "        tick.label.set_fontsize(9)\n",
    "    # legend\n",
    "    ax.legend(loc=(0.79, 0.5), labelspacing=0.008, fontsize=10)\n",
    "    # subplot id label  \n",
    "    ax.text(1.01, 0.065, l, fontsize=13, color='#404040', transform=ax.transAxes)\n",
    "    \n",
    "ax0.xaxis.set_ticks_position('bottom')\n",
    "ax2.set_xlabel(r'$x\\,\\,(mm)$', fontsize=14)\n",
    "\n",
    "fig.tight_layout()\n",
    "\n",
    "# Save the figure  \n",
    "#saveFigure(fig, 'object_tilt_angle_with_pivot_movement.png')\n",
    "\n",
    "plt.show()"
   ]
  },
  {
   "cell_type": "markdown",
   "metadata": {},
   "source": [
    "<font color='red'>**Question**</font> For given $\\alpha$ do we always get unique $\\beta$?"
   ]
  },
  {
   "cell_type": "code",
   "execution_count": 11,
   "metadata": {
    "collapsed": false
   },
   "outputs": [
    {
     "data": {
      "image/png": "[encoded data removed]",
      "text/plain": [
       "<matplotlib.figure.Figure at 0xaf3de10>"
      ]
     },
     "metadata": {},
     "output_type": "display_data"
    }
   ],
   "source": [
    "# plot of alpha vs. beta  \n",
    "# this plot shows that given alpha, we can get a unique beta within +/-90°\n",
    "alpha = np.linspace(-25., 25., 51)\n",
    "beta = get_beta(de=-5.0, zo=-509.0, f=24.0, mp=2.0, alpha=alpha)\n",
    "\n",
    "plt.plot(alpha, beta)\n",
    "plt.xlabel(r'$\\alpha^o$', fontsize=17)\n",
    "plt.ylabel(r'$\\beta^o$', fontsize=17)\n",
    "plt.grid()\n",
    "plt.show()"
   ]
  },
  {
   "cell_type": "markdown",
   "metadata": {
    "collapsed": false
   },
   "source": [
    "The above plot seems to suggest that we get unique $\\beta$ for a given $\\alpha$. But .... "
   ]
  },
  {
   "cell_type": "markdown",
   "metadata": {},
   "source": [
    "As we can see in the figures below, $F(\\alpha)$ <font color='red'>**may not be monotonic**</font>. Therefore, we might end up getting multiple values of $\\beta$ (and $\\tan \\,\\beta$) for the same value of $\\alpha$. So, there are some combinations of the optical system parameters that makes $F(\\alpha)$ non-monotonic."
   ]
  },
  {
   "cell_type": "code",
   "execution_count": 19,
   "metadata": {
    "collapsed": false
   },
   "outputs": [
    {
     "data": {
      "image/png": "[encoded data removed]",
      "text/plain": [
       "<matplotlib.figure.Figure at 0xca00f60>"
      ]
     },
     "metadata": {},
     "output_type": "display_data"
    },
    {
     "name": "stdout",
     "output_type": "stream",
     "text": [
      "3.1330701123 3.1330701123 72.298177969\n"
     ]
    }
   ],
   "source": [
    "# emperically find alpha values for which we get same value of beta \n",
    "# Here, I manually found the second alpha by minimized the error visually!\n",
    "\n",
    "zo=-509.0\n",
    "f = 24.0\n",
    "de=-5.0\n",
    "\n",
    "mp=0.15; alpha=45\n",
    "#mp=0.1; alpha=15\n",
    "\n",
    "tBeta0 = get_tanBeta(de=de, zo=zo, f=f, mp=mp, alpha=alpha)\n",
    "#alphaArr = np.linspace(33.837970239821, 33.837970239825) # for mp=0.1; alpha=15\n",
    "alphaArr = np.linspace(17.646249708999, 17.646249709)   # for mp=0.15; alpha=45\n",
    "absErr = []\n",
    "for each in alphaArr:\n",
    "    tBeta1 = get_tanBeta(de=de, zo=zo, f=f, mp=mp, alpha=each)\n",
    "    absErr.append(abs(tBeta1 - tBeta0))\n",
    "\n",
    "absErr = np.array(absErr)\n",
    "\n",
    "plt.plot(alphaArr, absErr)\n",
    "plt.show()\n",
    "\n",
    "print(get_tanBeta(de=de, zo=zo, f=f, mp=0.15, alpha=17.646249709), \n",
    "      get_tanBeta(de=de, zo=zo, f=f, mp=0.15, alpha=45.0), \n",
    "      get_beta(de=de, zo=zo, f=f, mp=0.15, alpha=45))\n",
    "\n",
    "#print(get_tanBeta(de=de, zo=zo, f=f, mp=0.1, alpha=15.0), \n",
    "#      get_tanBeta(de=de, zo=zo, f=f, mp=0.1, alpha=33.837970239821), \n",
    "#      get_beta(de=de, zo=zo, f=f, mp=0.1, alpha=15))\n",
    "\n",
    "# Emperically found\n",
    "# for mp=0.15; alpha=17.646249709, 45; tanbeta = 3.1330701123; beta = 72.298177969\n",
    "# for mp=0.1; alpha=15.0, 33.837970239821; tanbeta = 2.00014403634; beta = 63.4365992627"
   ]
  },
  {
   "cell_type": "markdown",
   "metadata": {
    "collapsed": true
   },
   "source": [
    "The following plots demonstrates that for some values of $m_p$ (or perhaps, for certain combination of lens parameters $m_p$, $f$, $d_e$ and object distance $z_o$), the plot of $F(\\alpha)$ (and therefore $\\beta$) is not monotonic for increasing values of $\\alpha$. "
   ]
  },
  {
   "cell_type": "code",
   "execution_count": 21,
   "metadata": {
    "collapsed": false
   },
   "outputs": [
    {
     "data": {
      "image/png": "[encoded data removed]",
      "text/plain": [
       "<matplotlib.figure.Figure at 0xca2ac50>"
      ]
     },
     "metadata": {},
     "output_type": "display_data"
    }
   ],
   "source": [
    "# plot of alpha vs. beta \n",
    "# this plot shows that given alpha, we MAY NOT get a unique beta within +/-90°\n",
    "zo=-509.0\n",
    "f = 24.0\n",
    "de=-5.0\n",
    "\n",
    "alpha = np.linspace(0., 50., 1000)\n",
    "fig, (ax0, ax1) = plt.subplots(2, 1, sharex=True, figsize=(10, 8))\n",
    "\n",
    "for i, mp in enumerate([1.0, 0.5, 0.15,]):\n",
    "    beta = get_beta(de=de, zo=zo, f=f, mp=mp, alpha=alpha)\n",
    "    tBeta = get_tanBeta(de=de, zo=zo, f=f, mp=mp, alpha=alpha)\n",
    "    legTxt = r'$m_p={}$'.format(mp)\n",
    "    ax0.plot(alpha, beta, label=legTxt)\n",
    "    ax1.plot(alpha, tBeta, label=legTxt)\n",
    "    \n",
    "# plot the non-unique alpha, beta points for illustration\n",
    "# These values were emperically found\n",
    "# for mp=0.15; alpha=17.646249709, 45; tanbeta = 3.1330701123; beta = 72.298177969\n",
    "ax0.axhline(72.298177969, color='#888888', alpha=0.8, lw=1.2, linestyle='dashed')\n",
    "ax1.axhline(3.1330701123, color='#888888', alpha=0.8, lw=1.2, linestyle='dashed')\n",
    "ax0.axvline(17.646249709, color='#888888', alpha=0.8, lw=1.2, linestyle='dashed')\n",
    "ax0.axvline(45.0, color='#888888', alpha=0.8, lw=1.2, linestyle='dashed')\n",
    "ax1.axvline(17.646249709, color='#888888', alpha=0.8, lw=1.2, linestyle='dashed')\n",
    "ax1.axvline(45.0, color='#888888', alpha=0.8, lw=1.2, linestyle='dashed')\n",
    "# for mp=0.1; alpha=15.0, 33.837970239821; tanbeta = 2.00014403634; beta = 63.4365992627\n",
    "#ax0.axhline(63.4365992627)\n",
    "#ax1.axhline(2.00014403634)\n",
    "\n",
    "# plot decorations\n",
    "for ax in [ax0, ax1]:\n",
    "    ax.grid(axis='y', alpha=0.6)\n",
    "    ax.yaxis.set_major_locator(plt.MaxNLocator(10))    # number of ticks\n",
    "    ax.yaxis.set_ticks_position('left')                # tick\n",
    "    ax.legend(loc=(0.01, 0.8), labelspacing=0.008, fontsize=14)   #TODO:: fix legend ... place single legend\n",
    "                                                                  #       between the subplots\n",
    "ax0.xaxis.set_ticks_position('bottom')\n",
    "ax1.set_xlabel(r'$\\alpha^o$', fontsize=18)\n",
    "ax0.set_ylabel(r'$\\beta^o$', fontsize=18)\n",
    "ax1.set_ylabel(r'$\\rm{tan}\\, \\beta$', fontsize=18)\n",
    "\n",
    "fig.tight_layout()\n",
    "\n",
    "plt.show()"
   ]
  },
  {
   "cell_type": "markdown",
   "metadata": {},
   "source": [
    "So, now we need to answer the following **two questions**:\n",
    "\n",
    "(1) How can we detect the situation when multiple (probably just two) $\\alpha$ for which we get the same $\\beta$?\n",
    "\n",
    "(2) Can we find an algebraic expression (a function of the relevant optical parameters) for the condition?\n",
    "\n",
    "In order to answer (1), we can take the derivative of $F(\\alpha)$ w.r.t. $\\alpha$ and find out if the derivative, $F'(\\alpha)$, is always positive (monotonically increasing) or always negative (monotonically decreasing) with an interval $[a, b]$. If $F'(\\alpha)$ changes sign within the chosen interval $[a, b]$, then $F(\\alpha)$ is not monotonic. In other words, if we can find real roots of $F'(\\alpha)$, then $F(\\alpha)$ is not monotonic. "
   ]
  },
  {
   "cell_type": "markdown",
   "metadata": {},
   "source": [
    "We will find the derivative using SymPy."
   ]
  },
  {
   "cell_type": "code",
   "execution_count": 10,
   "metadata": {
    "collapsed": false
   },
   "outputs": [
    {
     "data": {
      "text/latex": [
       "$$- \\frac{\\left(f \\left(- m_{p} + 1\\right) \\cos{\\left (\\alpha \\right )} + m_{p} \\left(- d_{e} \\cos{\\left (\\alpha \\right )} + z_{o}\\right)\\right) \\sin{\\left (\\alpha \\right )}}{d_{e} m_{p} \\left(- m_{p} + 1\\right) \\sin^{2}{\\left (\\alpha \\right )} \\cos^{2}{\\left (\\alpha \\right )} + \\left(m_{p} \\cos^{2}{\\left (\\alpha \\right )} + \\sin^{2}{\\left (\\alpha \\right )}\\right) \\left(- d_{e} m_{p} \\sin^{2}{\\left (\\alpha \\right )} + f\\right)}$$"
      ],
      "text/plain": [
       "              -(f⋅(-m_p + 1)⋅cos(α) + m_p⋅(-dₑ⋅cos(α) + zₒ))⋅sin(α)           \n",
       "──────────────────────────────────────────────────────────────────────────────\n",
       "                     2       2      ⎛       2         2   ⎞ ⎛            2    \n",
       "dₑ⋅m_p⋅(-m_p + 1)⋅sin (α)⋅cos (α) + ⎝m_p⋅cos (α) + sin (α)⎠⋅⎝- dₑ⋅m_p⋅sin (α) \n",
       "\n",
       "    \n",
       "────\n",
       "   ⎞\n",
       "+ f⎠"
      ]
     },
     "execution_count": 10,
     "metadata": {},
     "output_type": "execute_result"
    }
   ],
   "source": [
    "sy.init_printing(pretty_print=True, use_latex='mathjax')\n",
    "a, mp, zo, f, de = sy.symbols('alpha, m_p, z_o, f, d_e', real=True)\n",
    "numr = -sy.sin(a)*(mp*(zo - de*sy.cos(a)) + f*(1 - mp)*sy.cos(a))\n",
    "deno = (f - mp*de*sy.sin(a)**2)*(mp*sy.cos(a)**2 + sy.sin(a)**2) + mp*(1-mp)*de*sy.sin(a)**2*sy.cos(a)**2\n",
    "expr = numr/deno\n",
    "expr"
   ]
  },
  {
   "cell_type": "code",
   "execution_count": 11,
   "metadata": {
    "collapsed": false
   },
   "outputs": [
    {
     "data": {
      "text/latex": [
       "$$- \\frac{\\left(d_{e} m_{p} \\sin{\\left (\\alpha \\right )} - f \\left(- m_{p} + 1\\right) \\sin{\\left (\\alpha \\right )}\\right) \\sin{\\left (\\alpha \\right )}}{d_{e} m_{p} \\left(- m_{p} + 1\\right) \\sin^{2}{\\left (\\alpha \\right )} \\cos^{2}{\\left (\\alpha \\right )} + \\left(m_{p} \\cos^{2}{\\left (\\alpha \\right )} + \\sin^{2}{\\left (\\alpha \\right )}\\right) \\left(- d_{e} m_{p} \\sin^{2}{\\left (\\alpha \\right )} + f\\right)} - \\frac{\\left(f \\left(- m_{p} + 1\\right) \\cos{\\left (\\alpha \\right )} + m_{p} \\left(- d_{e} \\cos{\\left (\\alpha \\right )} + z_{o}\\right)\\right) \\cos{\\left (\\alpha \\right )}}{d_{e} m_{p} \\left(- m_{p} + 1\\right) \\sin^{2}{\\left (\\alpha \\right )} \\cos^{2}{\\left (\\alpha \\right )} + \\left(m_{p} \\cos^{2}{\\left (\\alpha \\right )} + \\sin^{2}{\\left (\\alpha \\right )}\\right) \\left(- d_{e} m_{p} \\sin^{2}{\\left (\\alpha \\right )} + f\\right)} - \\frac{\\sin{\\left (\\alpha \\right )}}{\\left(d_{e} m_{p} \\left(- m_{p} + 1\\right) \\sin^{2}{\\left (\\alpha \\right )} \\cos^{2}{\\left (\\alpha \\right )} + \\left(m_{p} \\cos^{2}{\\left (\\alpha \\right )} + \\sin^{2}{\\left (\\alpha \\right )}\\right) \\left(- d_{e} m_{p} \\sin^{2}{\\left (\\alpha \\right )} + f\\right)\\right)^{2}} \\left(f \\left(- m_{p} + 1\\right) \\cos{\\left (\\alpha \\right )} + m_{p} \\left(- d_{e} \\cos{\\left (\\alpha \\right )} + z_{o}\\right)\\right) \\left(2 d_{e} m_{p} \\left(- m_{p} + 1\\right) \\sin^{3}{\\left (\\alpha \\right )} \\cos{\\left (\\alpha \\right )} - 2 d_{e} m_{p} \\left(- m_{p} + 1\\right) \\sin{\\left (\\alpha \\right )} \\cos^{3}{\\left (\\alpha \\right )} + 2 d_{e} m_{p} \\left(m_{p} \\cos^{2}{\\left (\\alpha \\right )} + \\sin^{2}{\\left (\\alpha \\right )}\\right) \\sin{\\left (\\alpha \\right )} \\cos{\\left (\\alpha \\right )} - \\left(- d_{e} m_{p} \\sin^{2}{\\left (\\alpha \\right )} + f\\right) \\left(- 2 m_{p} \\sin{\\left (\\alpha \\right )} \\cos{\\left (\\alpha \\right )} + 2 \\sin{\\left (\\alpha \\right )} \\cos{\\left (\\alpha \\right )}\\right)\\right)$$"
      ],
      "text/plain": [
       "                                                                              \n",
       "                     (dₑ⋅m_p⋅sin(α) - f⋅(-m_p + 1)⋅sin(α))⋅sin(α)             \n",
       "- ────────────────────────────────────────────────────────────────────────────\n",
       "                       2       2      ⎛       2         2   ⎞ ⎛            2  \n",
       "  dₑ⋅m_p⋅(-m_p + 1)⋅sin (α)⋅cos (α) + ⎝m_p⋅cos (α) + sin (α)⎠⋅⎝- dₑ⋅m_p⋅sin (α\n",
       "                                                                              \n",
       "\n",
       "                                                                              \n",
       "                        (f⋅(-m_p + 1)⋅cos(α) + m_p⋅(-dₑ⋅cos(α) + zₒ))⋅cos(α)  \n",
       "────── - ─────────────────────────────────────────────────────────────────────\n",
       "     ⎞                        2       2      ⎛       2         2   ⎞ ⎛        \n",
       ") + f⎠   dₑ⋅m_p⋅(-m_p + 1)⋅sin (α)⋅cos (α) + ⎝m_p⋅cos (α) + sin (α)⎠⋅⎝- dₑ⋅m_p\n",
       "                                                                              \n",
       "\n",
       "                                                              ⎛               \n",
       "                (f⋅(-m_p + 1)⋅cos(α) + m_p⋅(-dₑ⋅cos(α) + zₒ))⋅⎝2⋅dₑ⋅m_p⋅(-m_p \n",
       "───────────── - ──────────────────────────────────────────────────────────────\n",
       "    2       ⎞                                                                 \n",
       "⋅sin (α) + f⎠                                                                 \n",
       "                                                                              \n",
       "\n",
       "        3                                           3               ⎛       2 \n",
       "+ 1)⋅sin (α)⋅cos(α) - 2⋅dₑ⋅m_p⋅(-m_p + 1)⋅sin(α)⋅cos (α) + 2⋅dₑ⋅m_p⋅⎝m_p⋅cos (\n",
       "──────────────────────────────────────────────────────────────────────────────\n",
       "                                                                              \n",
       "                ⎛                     2       2      ⎛       2         2   ⎞ ⎛\n",
       "                ⎝dₑ⋅m_p⋅(-m_p + 1)⋅sin (α)⋅cos (α) + ⎝m_p⋅cos (α) + sin (α)⎠⋅⎝\n",
       "\n",
       "        2   ⎞                 ⎛            2       ⎞                          \n",
       "α) + sin (α)⎠⋅sin(α)⋅cos(α) - ⎝- dₑ⋅m_p⋅sin (α) + f⎠⋅(-2⋅m_p⋅sin(α)⋅cos(α) + 2\n",
       "──────────────────────────────────────────────────────────────────────────────\n",
       "                      2                                                       \n",
       "            2       ⎞⎞                                                        \n",
       "- dₑ⋅m_p⋅sin (α) + f⎠⎠                                                        \n",
       "\n",
       "               ⎞       \n",
       "⋅sin(α)⋅cos(α))⎠⋅sin(α)\n",
       "───────────────────────\n",
       "                       \n",
       "                       \n",
       "                       "
      ]
     },
     "execution_count": 11,
     "metadata": {},
     "output_type": "execute_result"
    }
   ],
   "source": [
    "sy.diff(expr, a)"
   ]
  },
  {
   "cell_type": "markdown",
   "metadata": {},
   "source": [
    "Well ... well ... well! That is getting a little too complicated. Let's abandon it for now, and examine the more relevant case of rotating the lens about the ENPP, which we expect to be simpler. If we find a useful strategy, then we can come back and apply the same strategy here."
   ]
  },
  {
   "cell_type": "markdown",
   "metadata": {},
   "source": [
    "## Lens rotated about the x-axis at ENPP"
   ]
  },
  {
   "cell_type": "markdown",
   "metadata": {},
   "source": [
    "If the lens is rotated about the ENPP ($d_e = 0$), the expression for $\\tan \\,\\beta$ (or equivalently the expression for $F(\\alpha)$) reduces to:\n",
    "\n",
    "$$\n",
    "tan \\,\\beta = F(\\alpha) =\n",
    "- \\frac{\\sin\\,\\alpha \\left( m_p z_o +  f \\left(1 - m_p \\right) \\cos \\,\\alpha \\right)}{f \\left(m_p \\cos^2\\alpha + \\sin^2\\alpha \\right)}\n",
    "$$\n",
    "\n",
    "As before, we will find the derivative using SymPy."
   ]
  },
  {
   "cell_type": "code",
   "execution_count": 22,
   "metadata": {
    "collapsed": false
   },
   "outputs": [
    {
     "data": {
      "text/latex": [
       "$$- \\frac{\\left(f \\left(- m_{p} + 1\\right) \\cos{\\left (\\alpha \\right )} + m_{p} z_{o}\\right) \\sin{\\left (\\alpha \\right )}}{f \\left(m_{p} \\cos^{2}{\\left (\\alpha \\right )} + \\sin^{2}{\\left (\\alpha \\right )}\\right)}$$"
      ],
      "text/plain": [
       "-(f⋅(-m_p + 1)⋅cos(α) + m_p⋅zₒ)⋅sin(α) \n",
       "───────────────────────────────────────\n",
       "         ⎛       2         2   ⎞       \n",
       "       f⋅⎝m_p⋅cos (α) + sin (α)⎠       "
      ]
     },
     "execution_count": 22,
     "metadata": {},
     "output_type": "execute_result"
    }
   ],
   "source": [
    "sy.init_printing(pretty_print=True, use_latex='mathjax')\n",
    "a, mp, zo, f, de = sy.symbols('alpha, m_p, z_o, f, d_e', real=True)\n",
    "numr = -sy.sin(a)*(mp*zo + f*(1 - mp)*sy.cos(a))\n",
    "deno = f*(mp*sy.cos(a)**2 + sy.sin(a)**2)\n",
    "expr = numr/deno\n",
    "expr"
   ]
  },
  {
   "cell_type": "code",
   "execution_count": 23,
   "metadata": {
    "collapsed": false
   },
   "outputs": [
    {
     "data": {
      "text/latex": [
       "$$\\frac{\\left(- m_{p} + 1\\right) \\sin^{2}{\\left (\\alpha \\right )}}{m_{p} \\cos^{2}{\\left (\\alpha \\right )} + \\sin^{2}{\\left (\\alpha \\right )}} - \\frac{\\left(f \\left(- m_{p} + 1\\right) \\cos{\\left (\\alpha \\right )} + m_{p} z_{o}\\right) \\cos{\\left (\\alpha \\right )}}{f \\left(m_{p} \\cos^{2}{\\left (\\alpha \\right )} + \\sin^{2}{\\left (\\alpha \\right )}\\right)} - \\frac{\\sin{\\left (\\alpha \\right )}}{f \\left(m_{p} \\cos^{2}{\\left (\\alpha \\right )} + \\sin^{2}{\\left (\\alpha \\right )}\\right)^{2}} \\left(f \\left(- m_{p} + 1\\right) \\cos{\\left (\\alpha \\right )} + m_{p} z_{o}\\right) \\left(2 m_{p} \\sin{\\left (\\alpha \\right )} \\cos{\\left (\\alpha \\right )} - 2 \\sin{\\left (\\alpha \\right )} \\cos{\\left (\\alpha \\right )}\\right)$$"
      ],
      "text/plain": [
       "                2                                                             \n",
       "  (-m_p + 1)⋅sin (α)    (f⋅(-m_p + 1)⋅cos(α) + m_p⋅zₒ)⋅cos(α)   (f⋅(-m_p + 1)⋅\n",
       "───────────────────── - ───────────────────────────────────── - ──────────────\n",
       "       2         2              ⎛       2         2   ⎞                       \n",
       "m_p⋅cos (α) + sin (α)         f⋅⎝m_p⋅cos (α) + sin (α)⎠                       \n",
       "                                                                              \n",
       "\n",
       "                                                               \n",
       "cos(α) + m_p⋅zₒ)⋅(2⋅m_p⋅sin(α)⋅cos(α) - 2⋅sin(α)⋅cos(α))⋅sin(α)\n",
       "───────────────────────────────────────────────────────────────\n",
       "                                     2                         \n",
       "              ⎛       2         2   ⎞                          \n",
       "            f⋅⎝m_p⋅cos (α) + sin (α)⎠                          "
      ]
     },
     "execution_count": 23,
     "metadata": {},
     "output_type": "execute_result"
    }
   ],
   "source": [
    "firstDeri = sy.diff(expr, a)\n",
    "firstDeri"
   ]
  },
  {
   "cell_type": "code",
   "execution_count": 24,
   "metadata": {
    "collapsed": false
   },
   "outputs": [
    {
     "data": {
      "text/latex": [
       "$$\\frac{1}{f \\left(m_{p} \\cos^{2}{\\left (\\alpha \\right )} + \\sin^{2}{\\left (\\alpha \\right )}\\right)^{2}} \\left(f m_{p}^{2} \\cos^{2}{\\left (\\alpha \\right )} - f m_{p} - f \\cos^{2}{\\left (\\alpha \\right )} + f + m_{p}^{2} z_{o} \\cos^{3}{\\left (\\alpha \\right )} - 2 m_{p}^{2} z_{o} \\cos{\\left (\\alpha \\right )} - m_{p} z_{o} \\cos^{3}{\\left (\\alpha \\right )} + m_{p} z_{o} \\cos{\\left (\\alpha \\right )}\\right)$$"
      ],
      "text/plain": [
       "     2    2                   2             2       3           2             \n",
       "f⋅m_p ⋅cos (α) - f⋅m_p - f⋅cos (α) + f + m_p ⋅zₒ⋅cos (α) - 2⋅m_p ⋅zₒ⋅cos(α) - \n",
       "──────────────────────────────────────────────────────────────────────────────\n",
       "                                                                  2           \n",
       "                                           ⎛       2         2   ⎞            \n",
       "                                         f⋅⎝m_p⋅cos (α) + sin (α)⎠            \n",
       "\n",
       "          3                   \n",
       "m_p⋅zₒ⋅cos (α) + m_p⋅zₒ⋅cos(α)\n",
       "──────────────────────────────\n",
       "                              \n",
       "                              \n",
       "                              "
      ]
     },
     "execution_count": 24,
     "metadata": {},
     "output_type": "execute_result"
    }
   ],
   "source": [
    "firstDeri = sy.simplify(firstDeri)\n",
    "firstDeri"
   ]
  },
  {
   "cell_type": "code",
   "execution_count": 136,
   "metadata": {
    "collapsed": false
   },
   "outputs": [
    {
     "data": {
      "text/latex": [
       "$$\\frac{1}{f \\left(m_{p} x^{2} + \\sin^{2}{\\left (\\alpha \\right )}\\right)^{2}} \\left(f m_{p}^{2} x^{2} - f m_{p} - f x^{2} + f + m_{p}^{2} x^{3} z_{o} - 2 m_{p}^{2} x z_{o} - m_{p} x^{3} z_{o} + m_{p} x z_{o}\\right)$$"
      ],
      "text/plain": [
       "     2  2              2          2  3           2             3              \n",
       "f⋅m_p ⋅x  - f⋅m_p - f⋅x  + f + m_p ⋅x ⋅zₒ - 2⋅m_p ⋅x⋅zₒ - m_p⋅x ⋅zₒ + m_p⋅x⋅zₒ\n",
       "──────────────────────────────────────────────────────────────────────────────\n",
       "                                                2                             \n",
       "                              ⎛     2      2   ⎞                              \n",
       "                            f⋅⎝m_p⋅x  + sin (α)⎠                              "
      ]
     },
     "execution_count": 136,
     "metadata": {},
     "output_type": "execute_result"
    }
   ],
   "source": [
    "x = sy.symbols('x', real=True)\n",
    "firstDeri = firstDeri.subs({sy.cos(a):x})\n",
    "firstDeri"
   ]
  },
  {
   "cell_type": "code",
   "execution_count": null,
   "metadata": {
    "collapsed": false
   },
   "outputs": [],
   "source": []
  },
  {
   "cell_type": "code",
   "execution_count": 80,
   "metadata": {
    "collapsed": true
   },
   "outputs": [],
   "source": [
    "def compute_zoDash(zo, f, mp, d, alpha):\n",
    "    \"\"\"formula for computing the image plane distance from the pivot (origin of {C}) if\n",
    "    lens is tilted about the ENPP. That is de=0, deDash = d\n",
    "    \n",
    "    @param: zo: object distance along z-axis\n",
    "    @param: f: focal length\n",
    "    @param: mp: pupil magnification\n",
    "    @param: d: distance from ENPP to EXPP\n",
    "    @param: alpha: angle of image plane tilt about x-axis (in degrees)\n",
    "    \"\"\"\n",
    "    c = cosd(alpha)\n",
    "    s = sind(alpha)\n",
    "    return d*c + mp*f*zo*(mp*c**2 + s**2)/(zo*mp*c + f)\n",
    "\n",
    "def get_beta(zo, f, mp, alpha):\n",
    "    \"\"\"formula for computing the object plane tilt angle if\n",
    "    lens is tilted about the ENPP. That is de=0, deDash = d\n",
    "    \n",
    "    @param: zo: object distance along z-axis\n",
    "    @param: f: focal length\n",
    "    @param: mp: pupil magnification\n",
    "    @param: alpha: angle of image plane tilt about x-axis (in degrees)\n",
    "    \"\"\"\n",
    "    c = cosd(alpha)\n",
    "    s = sind(alpha)\n",
    "    t = -s*(mp*zo + (1-mp)*f*c)/(f*(mp*c**2 + s**2))\n",
    "    return arctand(t)\n",
    "\n",
    "def get_tanBeta(zo, f, mp, alpha):\n",
    "    c = cosd(alpha)\n",
    "    s = sind(alpha)\n",
    "    t = -s*(mp*zo + (1-mp)*f*c)/(f*(mp*c**2 + s**2))\n",
    "    return t\n",
    "\n",
    "\n",
    "\n",
    "def first_derivative(zo, f, mp, alpha):\n",
    "    \"\"\"evaluate the first derivative of the RHS of the function giving tan(beta) = RHS\n",
    "    \"\"\"\n",
    "    a = mp*zo*(mp-1)\n",
    "    b = f*(mp**2 - 1)\n",
    "    c = mp*zo*(1-2*mp)\n",
    "    d = f*(1-mp)\n",
    "    numr = a*cosd(alpha)**3 + b*cosd(alpha)**2 + c*cosd(alpha) + d\n",
    "    deno = f*(mp*cosd(alpha)**2 + sind(alpha))**2\n",
    "    firstDeri = numr/deno\n",
    "    return firstDeri\n",
    "\n",
    "def get_roots_first_derivative(zo, f, mp):\n",
    "    a = mp*zo*(mp-1)\n",
    "    b = f*(mp**2 - 1)\n",
    "    c = mp*zo*(1-2*mp)\n",
    "    d = f*(1-mp)\n",
    "    roots = np.roots([a, b, c, d])\n",
    "    return roots"
   ]
  },
  {
   "cell_type": "code",
   "execution_count": null,
   "metadata": {
    "collapsed": false
   },
   "outputs": [],
   "source": []
  },
  {
   "cell_type": "code",
   "execution_count": 16,
   "metadata": {
    "collapsed": false
   },
   "outputs": [
    {
     "data": {
      "image/png": "[encoded data removed]",
      "text/plain": [
       "<matplotlib.figure.Figure at 0xc221908>"
      ]
     },
     "metadata": {},
     "output_type": "display_data"
    }
   ],
   "source": [
    "zo = -509.0\n",
    "f = 24.0\n",
    "mpArr = [0.55, 1, 2.0]\n",
    "\n",
    "alpha = np.linspace(-20, 20, 101)\n",
    "\n",
    "fig, ax = plt.subplots(1,1)\n",
    "\n",
    "for mp in mpArr:\n",
    "    beta = get_beta(zo, f, mp, alpha)\n",
    "    ax.plot(beta, alpha)\n",
    "    \n",
    "\n",
    "# No need to plot beta_thin ... this is same as mp=1    \n",
    "#betaT = beta_thin(zo, f, alpha)\n",
    "#ax.plot(betaT, alpha, 'k-')\n",
    "\n",
    "ax.grid()\n",
    "ax.set_ylabel(r'$\\alpha$')\n",
    "ax.set_xlabel(r'$\\beta$')\n",
    "ax.set_aspect('equal')\n",
    "plt.show()"
   ]
  },
  {
   "cell_type": "code",
   "execution_count": 17,
   "metadata": {
    "collapsed": false
   },
   "outputs": [
    {
     "name": "stdout",
     "output_type": "stream",
     "text": [
      "3.17301469156 3.17301469156 72.5073533271\n"
     ]
    }
   ],
   "source": [
    "# emperically find alphas for which we get multiple values of beta \n",
    "\n",
    "zo=-509.0\n",
    "f = 24.0\n",
    "\n",
    "#mp=0.15; alpha=45\n",
    "#mp=0.1; alpha=15\n",
    "#\n",
    "#tBeta0 = get_tanBeta(zo=zo, f=f, mp=mp, alpha=45)\n",
    "#alphaArr = np.linspace(18.0188354928516, 18.0188354928517)\n",
    "#absErr = []\n",
    "#for each in alphaArr:\n",
    "#    tBeta1 = get_tanBeta(zo=zo, f=f, mp=mp, alpha=each)\n",
    "#    absErr.append(abs(tBeta1 - tBeta0))\n",
    "\n",
    "#absErr = np.array(absErr)\n",
    "\n",
    "#plt.plot(alphaArr, absErr)\n",
    "#plt.show()\n",
    "\n",
    "print(get_tanBeta(zo=zo, f=f, mp=0.15, alpha=18.0188354928516), \n",
    "      get_tanBeta(zo=zo, f=f, mp=0.15, alpha=45.0), \n",
    "      get_beta(zo=zo, f=f, mp=0.15, alpha=45))\n",
    "\n",
    "# Emperically found\n",
    "# for mp=0.15; alpha=18.0188354928516, 45; tanbeta = 3.17301469156; beta = 72.5073533271"
   ]
  },
  {
   "cell_type": "code",
   "execution_count": null,
   "metadata": {
    "collapsed": true
   },
   "outputs": [],
   "source": []
  },
  {
   "cell_type": "code",
   "execution_count": 167,
   "metadata": {
    "collapsed": false
   },
   "outputs": [
    {
     "ename": "TypeError",
     "evalue": "get_beta() takes exactly 6 arguments (4 given)",
     "output_type": "error",
     "traceback": [
      "\u001b[1;31m---------------------------------------------------------------------------\u001b[0m",
      "\u001b[1;31mTypeError\u001b[0m                                 Traceback (most recent call last)",
      "\u001b[1;32m<ipython-input-167-51e39b95c0f1>\u001b[0m in \u001b[0;36m<module>\u001b[1;34m()\u001b[0m\n\u001b[0;32m      9\u001b[0m \u001b[1;33m\u001b[0m\u001b[0m\n\u001b[0;32m     10\u001b[0m \u001b[1;32mfor\u001b[0m \u001b[0mi\u001b[0m\u001b[1;33m,\u001b[0m \u001b[0mmp\u001b[0m \u001b[1;32min\u001b[0m \u001b[0menumerate\u001b[0m\u001b[1;33m(\u001b[0m\u001b[1;33m[\u001b[0m\u001b[1;36m0.5\u001b[0m\u001b[1;33m,\u001b[0m \u001b[1;36m0.15\u001b[0m\u001b[1;33m,\u001b[0m \u001b[1;33m]\u001b[0m\u001b[1;33m)\u001b[0m\u001b[1;33m:\u001b[0m\u001b[1;33m\u001b[0m\u001b[0m\n\u001b[1;32m---> 11\u001b[1;33m     \u001b[0mbeta\u001b[0m \u001b[1;33m=\u001b[0m \u001b[0mget_beta\u001b[0m\u001b[1;33m(\u001b[0m\u001b[0mzo\u001b[0m\u001b[1;33m=\u001b[0m\u001b[0mzo\u001b[0m\u001b[1;33m,\u001b[0m \u001b[0mf\u001b[0m\u001b[1;33m=\u001b[0m\u001b[0mf\u001b[0m\u001b[1;33m,\u001b[0m \u001b[0mmp\u001b[0m\u001b[1;33m=\u001b[0m\u001b[0mmp\u001b[0m\u001b[1;33m,\u001b[0m \u001b[0malpha\u001b[0m\u001b[1;33m=\u001b[0m\u001b[0malpha\u001b[0m\u001b[1;33m)\u001b[0m\u001b[1;33m\u001b[0m\u001b[0m\n\u001b[0m\u001b[0;32m     12\u001b[0m     \u001b[0mtBeta\u001b[0m \u001b[1;33m=\u001b[0m \u001b[0mget_tanBeta\u001b[0m\u001b[1;33m(\u001b[0m\u001b[0mzo\u001b[0m\u001b[1;33m=\u001b[0m\u001b[0mzo\u001b[0m\u001b[1;33m,\u001b[0m \u001b[0mf\u001b[0m\u001b[1;33m=\u001b[0m\u001b[0mf\u001b[0m\u001b[1;33m,\u001b[0m \u001b[0mmp\u001b[0m\u001b[1;33m=\u001b[0m\u001b[0mmp\u001b[0m\u001b[1;33m,\u001b[0m \u001b[0malpha\u001b[0m\u001b[1;33m=\u001b[0m\u001b[0malpha\u001b[0m\u001b[1;33m)\u001b[0m\u001b[1;33m\u001b[0m\u001b[0m\n\u001b[0;32m     13\u001b[0m     \u001b[0mlegTxt\u001b[0m \u001b[1;33m=\u001b[0m \u001b[1;34mr'$m_p={}$'\u001b[0m\u001b[1;33m.\u001b[0m\u001b[0mformat\u001b[0m\u001b[1;33m(\u001b[0m\u001b[0mmp\u001b[0m\u001b[1;33m)\u001b[0m\u001b[1;33m\u001b[0m\u001b[0m\n",
      "\u001b[1;31mTypeError\u001b[0m: get_beta() takes exactly 6 arguments (4 given)"
     ]
    },
    {
     "data": {
      "image/png": "[encoded data removed]",
      "text/plain": [
       "<matplotlib.figure.Figure at 0xae79390>"
      ]
     },
     "metadata": {},
     "output_type": "display_data"
    }
   ],
   "source": [
    "# plot of alpha vs. beta \n",
    "# this plot shows that given alpha, we MAY NOT get a unique beta within +/-90°\n",
    "zo=-509.0\n",
    "f = 24.0\n",
    "\n",
    "alpha = np.linspace(0., 50., 1000)\n",
    "fig, (ax0, ax1,) = plt.subplots(2, 1, sharex=True, figsize=(10, 8))\n",
    "#fig, (ax0, ax1, ax2) = plt.subplots(3, 1, sharex=True, figsize=(10, 8))\n",
    "\n",
    "for i, mp in enumerate([0.5, 0.15, ]):\n",
    "    beta = get_beta(zo=zo, f=f, mp=mp, alpha=alpha)\n",
    "    tBeta = get_tanBeta(zo=zo, f=f, mp=mp, alpha=alpha)\n",
    "    legTxt = r'$m_p={}$'.format(mp)\n",
    "    ax0.plot(alpha, beta, label=legTxt)\n",
    "    ax1.plot(alpha, tBeta, label=legTxt)\n",
    "    #ax2.plot(alpha, first_derivative(zo, f, mp, alpha))\n",
    "    \n",
    "# plot the non-unique alpha, beta points for illustration\n",
    "# These values were emperically found\n",
    "# for mp=0.15; alpha=18.0188354928516, 45; tanbeta = 3.17301469156; beta = 72.5073533271\n",
    "ax0.axhline(72.5073533271, color='#888888', alpha=0.8, lw=1.2, linestyle='dashed')\n",
    "ax1.axhline(3.17301469156, color='#888888', alpha=0.8, lw=1.2, linestyle='dashed')\n",
    "ax0.axvline(18.0188354928516, color='#888888', alpha=0.8, lw=1.2, linestyle='dashed')\n",
    "ax0.axvline(45.0, color='#888888', alpha=0.8, lw=1.2, linestyle='dashed')\n",
    "ax1.axvline(18.0188354928516, color='#888888', alpha=0.8, lw=1.2, linestyle='dashed')\n",
    "ax1.axvline(45.0, color='#888888', alpha=0.8, lw=1.2, linestyle='dashed')\n",
    "#ax2.axhline(color='#555555', alpha=0.8, lw=1.2, linestyle='dashed')\n",
    "\n",
    "# plot decorations\n",
    "#ax2.set_ylim(-1.5, 21)\n",
    "for ax in [ax0, ax1, ax2]:\n",
    "    ax.grid(axis='y', alpha=0.6)\n",
    "    ax.yaxis.set_major_locator(plt.MaxNLocator(10))    # number of ticks\n",
    "    ax.yaxis.set_ticks_position('left')               # tick\n",
    "\n",
    "#ax.legend(loc=(0.01, 0.8), labelspacing=0.008, fontsize=14)\n",
    "ax0.xaxis.set_ticks_position('bottom')\n",
    "ax1.set_xlabel(r'$\\alpha^o$', fontsize=18)\n",
    "ax0.set_ylabel(r'$\\beta^o$', fontsize=18)\n",
    "ax1.set_ylabel(r'$\\rm{tan}\\, \\beta$', fontsize=18)\n",
    "#ax2.set_ylabel(r'$d/dx \\, [F(\\alpha)]$')\n",
    "\n",
    "fig.tight_layout()\n",
    "\n",
    "plt.show()"
   ]
  },
  {
   "cell_type": "code",
   "execution_count": 166,
   "metadata": {
    "collapsed": false
   },
   "outputs": [
    {
     "data": {
      "image/png": "[encoded data removed]",
      "text/plain": [
       "<matplotlib.figure.Figure at 0xb9455c0>"
      ]
     },
     "metadata": {},
     "output_type": "display_data"
    }
   ],
   "source": [
    "# plot of the first derivative\n",
    "\n",
    "zo=-509.0\n",
    "f = 24.0\n",
    "#fig, (ax0, ax1) = plt.subplots(2, 1, figsize=(9, 11))\n",
    "fig = plt.figure(figsize=(8, 6))\n",
    "ax0 = fig.add_axes([0.1, 0.3, 0.75, 0.7])  # [*left*, *bottom*, *width*, *height*]\n",
    "ax1 = fig.add_axes([0.0, 0.0, 1.0, 0.18,])\n",
    "alpha = np.linspace(0., 89.9999, 1000)\n",
    "for i, mp in enumerate([5.0, 3.0, 2.0, 1.0, 0.5, 0.374, 0.37, 0.15, 0.1, 0.05]):\n",
    "    legTxt = r'$m_p={}$'.format(mp)\n",
    "    ax0.plot(alpha, first_derivative(zo, f, mp, alpha), label=legTxt)\n",
    "    ax1.plot(alpha, first_derivative(zo, f, mp, alpha))\n",
    "\n",
    "ax0.axhline(color='#555555', alpha=0.8, lw=1.2, linestyle='dashed')\n",
    "ax1.axhline(color='#555555', alpha=0.8, lw=1.5, linestyle='dashed')\n",
    "ax0.legend()   # TO DO:: Put the legend outside the ax0 to the left\n",
    "ax0.set_ylim(-2, 63)\n",
    "ax1.set_ylim(-0.6, 0.6)\n",
    "ax0.set_ylabel(r'$d/dx \\, [F\\,(\\alpha)]$')\n",
    "ax0.set_xlabel(r'$\\alpha^o$', fontsize=18)\n",
    "plt.show()"
   ]
  },
  {
   "cell_type": "code",
   "execution_count": 67,
   "metadata": {
    "collapsed": false
   },
   "outputs": [],
   "source": []
  },
  {
   "cell_type": "code",
   "execution_count": 132,
   "metadata": {
    "collapsed": false
   },
   "outputs": [],
   "source": [
    "def first_derivative_has_real_roots(zo, f, mp, alpha0=-89.0, alpha1=89.0):\n",
    "    \"\"\"returns True if the first derivative of the function F(alpha) have real roots within the valid range of angles\n",
    "    If the function returns True, then F(\\alpha) is NOT a monotonically increasing/decreasing function\n",
    "    and hence we can get two alpha for which the have the same beta\n",
    "    \"\"\"\n",
    "    roots = get_roots_first_derivative(zo, f, mp)\n",
    "    roots = np.array([arccosd(np.real(root)) for root in roots if np.isreal(root) and abs(root) <= 1.0])\n",
    "    return np.any(np.logical_and((roots >= alpha0), (roots <= alpha1)))"
   ]
  },
  {
   "cell_type": "code",
   "execution_count": 134,
   "metadata": {
    "collapsed": false
   },
   "outputs": [
    {
     "name": "stdout",
     "output_type": "stream",
     "text": [
      "mp = 2.0 False\n",
      "mp = 1.0 False\n",
      "mp = 0.5 False\n",
      "mp = 0.3735 False\n",
      "mp = 0.37 True\n",
      "mp = 0.15 True\n"
     ]
    }
   ],
   "source": [
    "for mp in [2.0, 1.0, 0.5, 0.3735, 0.37, 0.15]:\n",
    "    print('mp =', mp, is_real_roots_first_derivative(zo, f, mp))\n"
   ]
  },
  {
   "cell_type": "code",
   "execution_count": 121,
   "metadata": {
    "collapsed": false
   },
   "outputs": [
    {
     "name": "stdout",
     "output_type": "stream",
     "text": [
      "[False  True  True]\n",
      "True\n"
     ]
    }
   ],
   "source": [
    "roots = np.array([133.66586338325192, 61.147251015236293, 67.512710324066006])\n",
    "print(np.logical_and((roots >= -89.0), (roots <= 89.0))) \n",
    "print(np.any(np.logical_and((roots >= -89.0), (roots <= 89.0))))"
   ]
  },
  {
   "cell_type": "code",
   "execution_count": 40,
   "metadata": {
    "collapsed": true
   },
   "outputs": [],
   "source": [
    "def alpha_thin(zo, f, beta):\n",
    "    return -arcsind(f*tand(beta)/zo)\n",
    "\n",
    "def alpha_approx(zo, f, mp, beta):\n",
    "    a = 1\n",
    "    alphaThin = alpha_thin(zo, f, beta)\n",
    "    b = (mp*zo/cosd(alphaThin) + f*(1-mp))/(f*tand(beta))\n",
    "    c = mp\n",
    "    k = np.sqrt(b**2 - 4*a*c)\n",
    "    #t1 = 0.5*(-b - k)\n",
    "    #t2 = 0.5*(-b + k)\n",
    "    #print(t1, t2)\n",
    "    roots = arctand(0.5*(-b - k)), arctand(0.5*(-b + k))\n",
    "    #print('roots = ', roots)\n",
    "    return roots[0] if alphaThin > 0 else roots[1]"
   ]
  },
  {
   "cell_type": "code",
   "execution_count": 41,
   "metadata": {
    "collapsed": false
   },
   "outputs": [
    {
     "name": "stdout",
     "output_type": "stream",
     "text": [
      "beta =  62.2296825491\n",
      "alpha (true) =  5.0\n",
      "alpha (approximate) = 4.99895906397\n",
      "Effect of alpha approximate on zDash:\n",
      "zDash (true) =  29.2399513946\n",
      "zDash (approx) =  29.2399175376\n"
     ]
    }
   ],
   "source": [
    "zo = -509.0\n",
    "f = 24.0\n",
    "mp = 2.0\n",
    "alphaExact = 5.0\n",
    "d = -20\n",
    "\n",
    "betaExact = get_beta(zo, f, mp, alphaExact)\n",
    "alphaApprox = alpha_approx(zo, f, mp, betaExact)\n",
    "print('beta = ', betaExact)\n",
    "print('alpha (true) = ', alphaExact)\n",
    "print('alpha (approximate) =', alphaApprox)\n",
    "print('Effect of alpha approximate on zDash:')\n",
    "print('zDash (true) = ', compute_zoDash(zo, f, mp, d, alphaExact))\n",
    "print('zDash (approx) = ', compute_zoDash(zo, f, mp, d, alphaApprox))"
   ]
  },
  {
   "cell_type": "code",
   "execution_count": 42,
   "metadata": {
    "collapsed": false
   },
   "outputs": [
    {
     "name": "stdout",
     "output_type": "stream",
     "text": [
      "beta =  -61.5866016756\n",
      "alpha (true) =  -5.0\n",
      "alpha (approximate) = -5.0\n",
      "Effect of alpha approximate on zDash:\n",
      "zDash (true) =  5.36472768283\n",
      "zDash (approx) =  5.36472768283\n"
     ]
    }
   ],
   "source": [
    "zo = -509.0\n",
    "f = 24.0\n",
    "mp = 1.0\n",
    "alphaExact = -5.0\n",
    "\n",
    "betaExact = get_beta(zo, f, mp, alphaExact)\n",
    "alphaApprox = alpha_approx(zo, f, mp, betaExact)\n",
    "print('beta = ', betaExact)\n",
    "print('alpha (true) = ', alphaExact)\n",
    "print('alpha (approximate) =', alphaApprox)\n",
    "print('Effect of alpha approximate on zDash:')\n",
    "print('zDash (true) = ', compute_zoDash(zo, f, mp, d, alphaExact))\n",
    "print('zDash (approx) = ', compute_zoDash(zo, f, mp, d, alphaApprox))"
   ]
  },
  {
   "cell_type": "code",
   "execution_count": 43,
   "metadata": {
    "collapsed": false
   },
   "outputs": [
    {
     "name": "stdout",
     "output_type": "stream",
     "text": [
      "beta =  -60.4849588349\n",
      "alpha (true) =  -5.0\n",
      "alpha (approximate) = -5.0017663116\n",
      "Effect of alpha approximate on zDash:\n",
      "zDash (true) =  -5.33570372548\n",
      "zDash (approx) =  -5.33554340954\n"
     ]
    }
   ],
   "source": [
    "zo = -509.0\n",
    "f = 24.0\n",
    "mp = 0.55\n",
    "alphaExact = -5.0\n",
    "\n",
    "betaExact = get_beta(zo, f, mp, alphaExact)\n",
    "alphaApprox = alpha_approx(zo, f, mp, betaExact)\n",
    "print('beta = ', betaExact)\n",
    "print('alpha (true) = ', alphaExact)\n",
    "print('alpha (approximate) =', alphaApprox)\n",
    "print('Effect of alpha approximate on zDash:')\n",
    "print('zDash (true) = ', compute_zoDash(zo, f, mp, d, alphaExact))\n",
    "print('zDash (approx) = ', compute_zoDash(zo, f, mp, d, alphaApprox))"
   ]
  },
  {
   "cell_type": "code",
   "execution_count": 44,
   "metadata": {
    "collapsed": false,
    "scrolled": true
   },
   "outputs": [
    {
     "name": "stdout",
     "output_type": "stream",
     "text": [
      "beta =  -84.7366457352\n",
      "alpha (true) =  -10.0\n",
      "alpha (approximate) = -9.98889950828\n",
      "Effect of alpha approximate on zDash:\n",
      "zDash (true) =  79.9692555224\n",
      "zDash (approx) =  79.9702307594\n"
     ]
    }
   ],
   "source": [
    "zo = -1509.0\n",
    "f = 25.0\n",
    "mp = 4.0\n",
    "alphaExact = -10.0\n",
    "\n",
    "betaExact = get_beta(zo, f, mp, alphaExact)\n",
    "alphaApprox = alpha_approx(zo, f, mp, betaExact)\n",
    "print('beta = ', betaExact)\n",
    "print('alpha (true) = ', alphaExact)\n",
    "print('alpha (approximate) =', alphaApprox)\n",
    "print('Effect of alpha approximate on zDash:')\n",
    "print('zDash (true) = ', compute_zoDash(zo, f, mp, d, alphaExact))\n",
    "print('zDash (approx) = ', compute_zoDash(zo, f, mp, d, alphaApprox))"
   ]
  },
  {
   "cell_type": "code",
   "execution_count": null,
   "metadata": {
    "collapsed": false
   },
   "outputs": [],
   "source": []
  },
  {
   "cell_type": "code",
   "execution_count": 19,
   "metadata": {
    "collapsed": false
   },
   "outputs": [
    {
     "data": {
      "image/png": "[encoded data removed]",
      "text/plain": [
       "<matplotlib.figure.Figure at 0xb6ef710>"
      ]
     },
     "metadata": {},
     "output_type": "display_data"
    }
   ],
   "source": [
    "zo = -509.0\n",
    "f = 25.0\n",
    "mp = 6.0\n",
    "\n",
    "\n",
    "fig, ax = plt.subplots(1, 1, figsize=(8, 4))\n",
    "alphaExact = np.linspace(-20, 20, 80)\n",
    "\n",
    "alphaApprox = []    \n",
    "for alpha in alphaExact:\n",
    "    betaExact = get_beta(zo, f, mp, alpha)\n",
    "    alphaApprox.append(alpha_approx(zo, f, mp, betaExact))\n",
    "alphaApprox = np.array(alphaApprox)\n",
    "err = np.abs(alphaExact - alphaApprox)\n",
    "relErr = err/np.abs(alphaExact)#\n",
    "ax.plot(alphaExact, relErr, clip_on=False)\n",
    "\n",
    "plt.show()"
   ]
  },
  {
   "cell_type": "code",
   "execution_count": 45,
   "metadata": {
    "collapsed": false
   },
   "outputs": [
    {
     "name": "stdout",
     "output_type": "stream",
     "text": [
      "figname: C:\\GIT_REPOSITORIES\\phd-artifacts\\chapters\\chapter03_geometricmodel\\code\\images\\approximation_of_lens_tilt.png\n"
     ]
    },
    {
     "data": {
      "image/png": "[encoded data removed]",
      "text/plain": [
       "<matplotlib.figure.Figure at 0x14e87c88>"
      ]
     },
     "metadata": {},
     "output_type": "display_data"
    }
   ],
   "source": [
    "from matplotlib.ticker import FuncFormatter\n",
    "\n",
    "zo = -509.0\n",
    "f = 24.0\n",
    "mpArr = [0.55, 1, 2.0]\n",
    "\n",
    "\n",
    "fig, ax = plt.subplots(1, 1)\n",
    "alphaExact = np.linspace(0.0001, 20)\n",
    "\n",
    "for mp in mpArr:\n",
    "    alphaApprox = []\n",
    "    betaArr = []\n",
    "    for alpha in alphaExact:\n",
    "        beta = get_beta(zo, f, mp, alpha)\n",
    "        alphaApprox.append(alpha_approx(zo, f, mp, beta))\n",
    "        betaArr.append(beta)\n",
    "    alphaApprox = np.array(alphaApprox)\n",
    "    err = np.abs(alphaExact - alphaApprox)\n",
    "    relErr = 100.0*err/np.abs(alphaExact)#\n",
    "    ax.plot(alphaExact, relErr, lw=1.7, clip_on=False)\n",
    "    #ax.errorbar(alphaExact, relErr, xerr=0.0, yerr=err, clip_on=False)\n",
    "    indices = np.argwhere(alphaExact > 5).flatten()[::5]\n",
    "    ax.scatter(alphaExact[indices], relErr[indices], s=8, clip_on=False, \n",
    "               facecolor='#555555', edgecolor=None, zorder=10)\n",
    "    for i in indices:\n",
    "        ax.text(x=alphaExact[i]-0.5, y=relErr[i]+0.025, s='{:0.1f}'.format(betaArr[i]))\n",
    "    \n",
    "ax.set_ylabel(r'$\\rm{Percent}\\,\\,\\rm{error}$', fontsize=15)\n",
    "ax.set_xlabel(r'$\\alpha \\,\\,\\rm(degrees)$', fontsize=15)\n",
    "ax.set_xlim(alphaExact[0], alphaExact[-1] + 1)\n",
    "ax.set_ylim(-0.001, 2.5)\n",
    "\n",
    "#ax.yaxis.set_major_formatter(FuncFormatter(lambda y, _: '{:.0%}'.format(y))) \n",
    "\n",
    "# Save the figure  \n",
    "saveFigure(fig, 'approximation_of_lens_tilt.png')\n",
    "\n",
    "plt.show()"
   ]
  },
  {
   "cell_type": "code",
   "execution_count": 21,
   "metadata": {
    "collapsed": false
   },
   "outputs": [
    {
     "data": {
      "image/png": "[encoded data removed]",
      "text/plain": [
       "<matplotlib.figure.Figure at 0xbafc6d8>"
      ]
     },
     "metadata": {},
     "output_type": "display_data"
    }
   ],
   "source": [
    "zo = -5009.0\n",
    "f = 100.0\n",
    "mpArr = [0.55, 1, 2.0]\n",
    "\n",
    "\n",
    "fig, ax = plt.subplots(1, 1)\n",
    "alphaExact = np.linspace(0.0001, 20)\n",
    "\n",
    "for mp in mpArr:\n",
    "    alphaApprox = []\n",
    "    betaArr = []\n",
    "    for alpha in alphaExact:\n",
    "        beta = get_beta(zo, f, mp, alpha)\n",
    "        alphaApprox.append(alpha_approx(zo, f, mp, beta))\n",
    "        betaArr.append(beta)\n",
    "    alphaApprox = np.array(alphaApprox)\n",
    "    err = np.abs(alphaExact - alphaApprox)\n",
    "    relErr = 100.0*err/np.abs(alphaExact)#\n",
    "    ax.plot(alphaExact, relErr, lw=1.7, clip_on=True)\n",
    "    #ax.errorbar(alphaExact, relErr, xerr=0.0, yerr=err, clip_on=False)\n",
    "    indices = np.argwhere(alphaExact > 5).flatten()[::5]\n",
    "    ax.scatter(alphaExact[indices], relErr[indices], s=8, clip_on=True, \n",
    "               facecolor='#555555', edgecolor=None, zorder=10)\n",
    "    for i in indices:\n",
    "        ax.text(x=alphaExact[i]-0.5, y=relErr[i]+0.025, s='{:0.1f}'.format(betaArr[i]))\n",
    "    \n",
    "ax.set_ylabel(r'$\\rm{Percent}\\,\\,\\rm{error}$', fontsize=15)\n",
    "ax.set_xlabel(r'$\\alpha \\,\\,\\rm(degrees)$', fontsize=15)\n",
    "ax.set_xlim(alphaExact[0], alphaExact[-1] + 1)\n",
    "ax.set_ylim(-0.001, 2.5)\n",
    "\n",
    "#ax.yaxis.set_major_formatter(FuncFormatter(lambda y, _: '{:.0%}'.format(y))) \n",
    "\n",
    "plt.show()"
   ]
  },
  {
   "cell_type": "code",
   "execution_count": 46,
   "metadata": {
    "collapsed": false
   },
   "outputs": [
    {
     "name": "stdout",
     "output_type": "stream",
     "text": [
      "beta_opt =  62.2296825491\n"
     ]
    }
   ],
   "source": [
    "fl = 24.0\n",
    "\n",
    "alphaOpt = 5.0\n",
    "betaOpt = get_beta(-509.0, fl, 2.0, alphaOpt)\n",
    "print('beta_opt = ', betaOpt)\n",
    "t = np.tan(np.deg2rad(betaOpt))\n",
    "\n",
    "a = fl*mp*t\n",
    "b = fl*t \n",
    "c = fl*(1-mp)/2.0\n",
    "d = 0/2.0\n",
    "e = mp*zo/2.0\n",
    "f = 0\n",
    "\n",
    "expr = []\n",
    "alpha = np.linspace(-120, 70, 201)\n",
    "\n",
    "for each in alpha:\n",
    "    x = cosd(each)\n",
    "    y = sind(each)\n",
    "    expr.append((c*x + b*y + e)/(a*x + c*y + d))\n",
    "\n",
    "expr = np.array(expr)\n",
    "    \n",
    "ct = np.tan(np.deg2rad(alpha))"
   ]
  },
  {
   "cell_type": "code",
   "execution_count": 48,
   "metadata": {
    "collapsed": false
   },
   "outputs": [
    {
     "name": "stdout",
     "output_type": "stream",
     "text": [
      "beta_opt =  -62.2296825491\n",
      "-5.68434188608e-14\n",
      "-4.4408920985e-16\n"
     ]
    }
   ],
   "source": [
    "fl = 24.0\n",
    "alphaOpt = -5.0\n",
    "zo = -509.0\n",
    "mp = 2.0\n",
    "betaOpt = get_beta(zo, fl, mp, alphaOpt)\n",
    "print('beta_opt = ', betaOpt)\n",
    "t = np.tan(np.deg2rad(betaOpt))\n",
    "\n",
    "a = fl*mp*t\n",
    "b = fl*t \n",
    "c = fl*(1-mp)/2.0\n",
    "d = 0/2.0\n",
    "e = mp*zo/2.0\n",
    "f = 0\n",
    "\n",
    "x = cosd(alphaOpt)\n",
    "y = sind(alphaOpt)\n",
    "\n",
    "print(a*x**2 + b*y**2 + 2*c*x*y + 2*d*x + 2*e*y + f)\n",
    "\n",
    "print(t + sind(alphaOpt)*(mp*zo + fl*(1-mp)*cosd(alphaOpt))/(fl*(mp*cosd(alphaOpt)**2 + sind(alphaOpt)**2)))"
   ]
  },
  {
   "cell_type": "code",
   "execution_count": 51,
   "metadata": {
    "collapsed": false
   },
   "outputs": [
    {
     "data": {
      "text/plain": [
       "-5.1373032521759248"
      ]
     },
     "execution_count": 51,
     "metadata": {},
     "output_type": "execute_result"
    }
   ],
   "source": [
    "# finding the optimum angle\n",
    "alpha_thin(zo=-509.0, f=24.0, beta=betaOpt)"
   ]
  },
  {
   "cell_type": "code",
   "execution_count": 459,
   "metadata": {
    "collapsed": false
   },
   "outputs": [
    {
     "name": "stdout",
     "output_type": "stream",
     "text": [
      "alpha (true) =  -27.0718326653\n",
      "beta = -58.2482831727\n",
      "Initial alpha =  -5.47655821752\n",
      "Initial error =  -20.4423265781\n",
      "np.arctan(prevErr) =  -1.52191717994\n",
      "Initial step =  -10.2211632891\n",
      "np.arctan(step) = -1.47327048461\n",
      "\n",
      "-------------\n",
      "err(1) = -1.5729\n",
      "deltaErr(1) = 18.8695\n",
      "prevErr(1) = -20.4423\n",
      "alpha(1) = -15.6977\n",
      "-------------\n",
      "err(2) = 0.0520\n",
      "deltaErr(2) = 1.6249\n",
      "prevErr(2) = -1.5729\n",
      "alpha(2) = -25.9189\n",
      "**Sign change: changing step to  0.812442062781\n",
      "-------------\n",
      "err(3) = 0.0751\n",
      "deltaErr(3) = 0.0231\n",
      "prevErr(3) = 0.0520\n",
      "alpha(3) = -25.1064\n",
      "-------------\n",
      "err(4) = 0.0845\n",
      "deltaErr(4) = 0.0094\n",
      "prevErr(4) = 0.0751\n",
      "alpha(4) = -24.2940\n",
      "-------------\n",
      "err(5) = 0.0777\n",
      "deltaErr(5) = -0.0068\n",
      "prevErr(5) = 0.0845\n",
      "alpha(5) = -23.4816\n",
      "-------------\n",
      "err(6) = 0.0519\n",
      "deltaErr(6) = -0.0258\n",
      "prevErr(6) = 0.0777\n",
      "alpha(6) = -22.6691\n",
      "-------------\n",
      "err(7) = 0.0039\n",
      "deltaErr(7) = -0.0480\n",
      "prevErr(7) = 0.0519\n",
      "alpha(7) = -21.8567\n",
      "-------------\n",
      "err(8) = -0.0700\n",
      "deltaErr(8) = -0.0739\n",
      "prevErr(8) = 0.0039\n",
      "alpha(8) = -21.0442\n",
      "**Sign change: changing step to  -0.0369541817277\n",
      "-------------\n",
      "err(9) = -0.0660\n",
      "deltaErr(9) = 0.0040\n",
      "prevErr(9) = -0.0700\n",
      "alpha(9) = -21.0812\n",
      "-------------\n",
      "err(10) = -0.0621\n",
      "deltaErr(10) = 0.0039\n",
      "prevErr(10) = -0.0660\n",
      "alpha(10) = -21.1181\n",
      "Value of alpha after 10 iterations = -21.11814 (error = -5.95369e+00, merit = -6.21149e-02)\n"
     ]
    }
   ],
   "source": [
    "zo = -509.0\n",
    "f = 24.0   # 100\n",
    "mp = 0.55\n",
    "alphaTrue = -15.0\n",
    "\n",
    "#zo=-539.359427021; f=89.8074019381; mp=0.155474178141; alphaTrue=-6.10160377014;\n",
    "mp = 0.108342986115; zo = -928.149214632; f = 54.8193565806; alphaTrue = -27.0718326653\n",
    "\n",
    "beta = get_beta(zo=zo, f=f, mp=mp, alpha=alphaTrue)\n",
    "alphaInit = alpha_thin(zo=zo, f=f, beta=beta)\n",
    "\n",
    "print('alpha (true) = ', alphaTrue)\n",
    "print('beta =', beta)\n",
    "print('Initial alpha = ', alphaInit)\n",
    "\n",
    "errValStop = 1e-16\n",
    "stepThreshold = 10\n",
    "i = 0\n",
    "t = tand(beta)\n",
    "s = sind(alphaInit)\n",
    "c = cosd(alphaInit)\n",
    "prevErr = t + s*(mp*zo + f*(1-mp)*c)/(f*(mp*c**2 + s**2)) # Initial merit function value\n",
    "#prevErr = beta + arctand(s*(mp*zo + f*(1-mp)*c)/(f*(mp*c**2 + s**2))) # Initial merit function value\n",
    "alpha_i = alphaInit\n",
    "step = 0.5*prevErr\n",
    "\n",
    "print(\"Initial error = \", prevErr)\n",
    "print(\"np.arctan(prevErr) = \", np.arctan(prevErr))\n",
    "print('Initial step = ', step)\n",
    "print('np.arctan(step) =', np.arctan(step))\n",
    "print()\n",
    "\n",
    "while (abs(prevErr) > errValStop) and (i < stepThreshold):\n",
    "    i += 1\n",
    "    alpha_i += step \n",
    "    s = sind(alpha_i)\n",
    "    c = cosd(alpha_i)\n",
    "    err = t + s*(mp*zo + f*(1-mp)*c)/(f*(mp*c**2 + s**2))\n",
    "    #err = beta + arctand(s*(mp*zo + f*(1-mp)*c)/(f*(mp*c**2 + s**2)))\n",
    "    deltaErr = err - prevErr   \n",
    "    print('-------------')\n",
    "    print('err({}) = {:2.4f}'.format(i, err))\n",
    "    print('deltaErr({}) = {:2.4f}'.format(i, deltaErr))\n",
    "    print('prevErr({}) = {:2.4f}'.format(i, prevErr))\n",
    "    print('alpha({}) = {:2.4f}'.format(i, alpha_i))\n",
    "    if np.sign(err)/np.sign(prevErr) < 0: # modify step direction and possibly size only if i > 0\n",
    "        step = 0.5*deltaErr\n",
    "        print('**Sign change: changing step to ', step)\n",
    "    prevErr = err\n",
    "    \n",
    "print('Value of alpha after {} iterations = {:2.5f} (error = {:2.5e}, merit = {:2.5e})'\n",
    "      .format(i, alpha_i, alphaTrue - alpha_i, err))"
   ]
  },
  {
   "cell_type": "code",
   "execution_count": null,
   "metadata": {
    "collapsed": false
   },
   "outputs": [],
   "source": []
  },
  {
   "cell_type": "code",
   "execution_count": 428,
   "metadata": {
    "collapsed": true
   },
   "outputs": [],
   "source": [
    "def estimate_alpha(zo, f, mp, beta, maxSteps=150):\n",
    "    \"\"\"\n",
    "    \"\"\"\n",
    "    errValStop = 1e-16\n",
    "    stepThreshold = maxSteps\n",
    "    i = 0\n",
    "    t = tand(beta)\n",
    "    alphaInit = alpha_thin(zo=zo, f=f, beta=beta)\n",
    "    s = sind(alphaInit)\n",
    "    c = cosd(alphaInit)\n",
    "    prevErr = t + s*(mp*zo + f*(1-mp)*c)/(f*(mp*c**2 + s**2)) # Initial merit function value\n",
    "    alpha_i = alphaInit\n",
    "    step = 0.5*prevErr\n",
    "\n",
    "    while (abs(prevErr) > errValStop) and (i < stepThreshold):\n",
    "        i += 1\n",
    "        alpha_i += step \n",
    "        s = sind(alpha_i)\n",
    "        c = cosd(alpha_i)\n",
    "        err = t + s*(mp*zo + f*(1-mp)*c)/(f*(mp*c**2 + s**2))\n",
    "        deltaErr = err - prevErr   \n",
    "        if np.sign(err)/np.sign(prevErr) < 0: \n",
    "            step = 0.5*deltaErr\n",
    "        prevErr = err\n",
    "    return alpha_i, i, err"
   ]
  },
  {
   "cell_type": "code",
   "execution_count": 455,
   "metadata": {
    "collapsed": false
   },
   "outputs": [
    {
     "name": "stdout",
     "output_type": "stream",
     "text": [
      "secondary condition: 0.0562836567862\n",
      "\n",
      "mp = 0.101679253101; zo = -1079.87808266; f = 58.416738787; alpha = -28.4685848773\n",
      "alpha (actual) = -28.4686; alpha (est) = -18.6248; steps = 150; error = -9.84e+00\n"
     ]
    }
   ],
   "source": [
    "for i in range(6000):\n",
    "    mp = 0.001 + 4*np.random.random() # problematic\n",
    "    #mp = 0.2 + 4*np.random.random()  # fine\n",
    "    zo = -500 - 1000*np.random.random()\n",
    "    f = 50 + 50*np.random.random()\n",
    "    alpha = (-1)**np.random.randint(1,3) * 30*np.random.random()\n",
    "    #\n",
    "    c = cosd(alpha)\n",
    "    if mp < f*c/(abs(zo) + f*c):\n",
    "        break  # the condition is not valid (the consequence is that alpha and beta will not have same sign)\n",
    "    beta = get_beta(zo=zo, f=f, mp=mp, alpha=alpha)\n",
    "    # also reject those cases if beta < alpha, because we know that it is not possible\n",
    "    # (I still need to understand why we get this condition sometimes)\n",
    "    if abs(beta) < abs(alpha):\n",
    "        break\n",
    "    \n",
    "    if (mp - f*c/(abs(zo) + f*c)) < 0.06:\n",
    "        print('secondary condition:', mp - f*c/(abs(zo) + f*c))\n",
    "        #break\n",
    "        \n",
    "    alphaEst, numSteps, _ = estimate_alpha(zo=zo, f=f, mp=mp, beta=beta)\n",
    "    if abs(alpha - alphaEst) > 1e-7:\n",
    "        print()\n",
    "        print('mp = {}; zo = {}; f = {}; alpha = {}'.format(mp, zo, f, alpha))\n",
    "        print('alpha (actual) = {:2.4f}; alpha (est) = {:2.4f}; steps = {}; error = {:2.2e}'\n",
    "              .format(alpha, alphaEst, numSteps, alpha - alphaEst))\n",
    "        "
   ]
  },
  {
   "cell_type": "code",
   "execution_count": null,
   "metadata": {
    "collapsed": false
   },
   "outputs": [],
   "source": []
  },
  {
   "cell_type": "code",
   "execution_count": null,
   "metadata": {
    "collapsed": true
   },
   "outputs": [],
   "source": [
    "# problematic cases found (that still meets the condition):\n",
    "\n",
    "#\n",
    "#mp = 0.155474178141; zo = -539.359427021; f = 89.8074019381; alpha = -6.10160377014\n",
    "#alpha (actual) = -6.1016; alpha (est) = -4.6847; steps = 150; error = -1.42e+00\n",
    "\n",
    "\n",
    "#\n",
    "#mp = 0.160118447418; zo = -929.295779676; f = 96.1492470341; alpha = 23.0223723112\n",
    "#alpha (actual) = 23.0224; alpha (est) = 23.0207; steps = 150; error = 1.67e-03\n",
    "\n",
    "#\n",
    "#mp = 0.120164140759; zo = -1133.89717609; f = 84.8370919439; alpha = -27.7399990294\n",
    "#alpha (actual) = -27.7400; alpha (est) = -27.9950; steps = 150; error = 2.55e-01\n",
    "\n",
    "\n",
    "#mp = 0.127254588021; zo = -1342.47405012; f = 65.0107548829; alpha = -18.6756216453\n",
    "#alpha (actual) = -18.6756; alpha (est) = -18.6756; steps = 150; error = 1.45e-05\n",
    "#\n",
    "\n",
    "#mp = 0.108342986115; zo = -928.149214632; f = 54.8193565806; alpha = -27.0718326653\n",
    "#alpha (actual) = -27.0718; alpha (est) = -21.8048; steps = 150; error = -5.27e+00\n",
    "\n",
    "#\n",
    "#mp = 0.101679253101; zo = -1079.87808266; f = 58.416738787; alpha = -28.4685848773\n",
    "#alpha (actual) = -28.4686; alpha (est) = -18.6248; steps = 150; error = -9.84e+00\n"
   ]
  },
  {
   "cell_type": "code",
   "execution_count": 431,
   "metadata": {
    "collapsed": false
   },
   "outputs": [
    {
     "data": {
      "text/plain": [
       "(-21.804789584699559, 150, -6.9911096911567938e-07)"
      ]
     },
     "execution_count": 431,
     "metadata": {},
     "output_type": "execute_result"
    }
   ],
   "source": [
    "mp = 0.108342986115; zo = -928.149214632; f = 54.8193565806; alpha = -27.0718326653\n",
    "estimate_alpha(zo=zo, f=f, mp=mp, beta=beta, maxSteps=150)"
   ]
  },
  {
   "cell_type": "code",
   "execution_count": 460,
   "metadata": {
    "collapsed": false
   },
   "outputs": [
    {
     "name": "stdout",
     "output_type": "stream",
     "text": [
      "alpha = -27.0718326653\n",
      "beta = -58.2482831727\n",
      "Condition met? True\n",
      "0.0583787651609\n",
      "Secondary condition met? True\n",
      "0.0525738006232\n",
      "numr = -57.0338572824\n",
      "deno = 16.0634574502\n",
      "tbeta = -1.6158737851\n",
      "-58.2482831727\n"
     ]
    }
   ],
   "source": [
    "# understand the conditions for valid results\n",
    "#zo=-509.0; f=24.0; mp=0.55; alpha=-15;\n",
    "#zo=-655.674286325; f=81.6602220572; mp=0.0441952155845; alpha=-14.6948487664;  # invalid condition\n",
    "#zo=-539.359427021; f=89.8074019381; mp=0.155474178141; alpha=-6.10160377014; # valid condition, but still didn't converge\n",
    "#zo=-1342.47405012; f=65.0107548829; mp=0.127254588021; alpha=-18.6756216453\n",
    "#zo=-539.359427021; f=89.8074019381; mp=0.157; alpha=-6.10160377014;\n",
    "mp = 0.108342986115; zo = -928.149214632; f = 54.8193565806; alpha = -27.0718326653\n",
    "#mp = 0.101679253101; zo = -1079.87808266; f = 58.416738787; alpha = -28.4685848773\n",
    "\n",
    "beta = get_beta(zo=zo, f=f, mp=mp, alpha=alpha)\n",
    "print('alpha =', alpha)\n",
    "print('beta =', beta)\n",
    "\n",
    "c = cosd(alpha)\n",
    "s = sind(alpha)\n",
    "\n",
    "print('Condition met?', mp > f*c/(abs(zo) + f*c))     # This condition must be satisfied\n",
    "print(mp - f*c/(abs(zo) + f*c))\n",
    "\n",
    "print('Secondary condition met?', mp > f/(abs(zo) + f))    \n",
    "print(mp - f/(abs(zo) + f))\n",
    "\n",
    "# computation steps for beta\n",
    "numr = mp*zo + f*(1 - mp)*c\n",
    "deno = f*(mp*c**2 + s**2)\n",
    "print('numr =', numr)  # should be negative\n",
    "print('deno =', deno)  # should be positive\n",
    "tbeta = -s*numr/deno\n",
    "print('tbeta =', tbeta)\n",
    "print(arctand(tbeta))\n"
   ]
  },
  {
   "cell_type": "raw",
   "metadata": {},
   "source": [
    "# valid case\n",
    "alpha = -15\n",
    "beta = -78.7120373048\n",
    "Condition met? True\n",
    "0.506439319152\n",
    "numr = -269.518001076\n",
    "deno = 13.9234628196\n",
    "tbeta = -5.00998872051\n",
    "-78.7120373048\n",
    "\n",
    "\n",
    "# invalid case\n",
    "alpha = -14.6948487664\n",
    "beta = 53.8172549943\n",
    "Condition met? False\n",
    "-0.0633222638094\n",
    "numr = 46.5205526978\n",
    "deno = 8.63150714752\n",
    "tbeta = 1.36719045814\n",
    "53.8172549943\n",
    "\n",
    "#limbo case\n",
    "alpha = -6.10160377014\n",
    "beta = -3.46476041286\n",
    "Condition met? True\n",
    "0.0134277384338\n",
    "numr = -8.44145609158\n",
    "deno = 14.8196227241\n",
    "tbeta = -0.0605452956647\n",
    "-3.46476041286"
   ]
  },
  {
   "cell_type": "code",
   "execution_count": 462,
   "metadata": {
    "collapsed": false
   },
   "outputs": [
    {
     "data": {
      "text/plain": [
       "-1.7320508075688767"
      ]
     },
     "execution_count": 462,
     "metadata": {},
     "output_type": "execute_result"
    }
   ],
   "source": [
    "tand(-60)"
   ]
  },
  {
   "cell_type": "code",
   "execution_count": null,
   "metadata": {
    "collapsed": true
   },
   "outputs": [],
   "source": []
  }
 ],
 "metadata": {
  "kernelspec": {
   "display_name": "Python 2",
   "language": "python",
   "name": "python2"
  },
  "language_info": {
   "codemirror_mode": {
    "name": "ipython",
    "version": 2
   },
   "file_extension": ".py",
   "mimetype": "text/x-python",
   "name": "python",
   "nbconvert_exporter": "python",
   "pygments_lexer": "ipython2",
   "version": "2.7.11"
  }
 },
 "nbformat": 4,
 "nbformat_minor": 0
}
