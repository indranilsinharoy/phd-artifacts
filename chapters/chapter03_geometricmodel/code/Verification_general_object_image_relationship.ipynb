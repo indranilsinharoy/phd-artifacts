{
 "cells": [
  {
   "cell_type": "markdown",
   "metadata": {},
   "source": [
    "# Verification and study of the geometric imaging equations"
   ]
  },
  {
   "cell_type": "markdown",
   "metadata": {},
   "source": [
    "The goal of this notebook is to:\n",
    "\n",
    "1. Verify the accuracy of the general geometric imaging equation in Scheimpflug configuration by comparing the numerically computed image points against the corresponding image points obtained via ray tracing in Zemax, and\n",
    "2. Study the geometric properties of images influenced by rotation of lens and sensor along with pupil magnification."
   ]
  },
  {
   "cell_type": "markdown",
   "metadata": {},
   "source": [
    "## Index\n",
    "\n",
    "1. [Part-I: Verification of the general imaging equation](#Part-I:-Verification-of-the-general-imaging-equation)\n",
    "2. [Part-II: Properties of image field under lens and sensor rotations](#Part-II:-Properties-of-image-field-under-lens-and-sensor-rotations)\n",
    "3. [Part-III: Verification of Scheimpflug imaging examples](#Part-III:-Verification-of-Scheimpflug-imaging-examples)"
   ]
  },
  {
   "cell_type": "markdown",
   "metadata": {},
   "source": [
    "In the next few cells we have imported the required Python libraries and written a few helper functions that will be used in both part I and part II of this computational notebook."
   ]
  },
  {
   "cell_type": "code",
   "execution_count": 1,
   "metadata": {
    "collapsed": true
   },
   "outputs": [],
   "source": [
    "%load_ext autoreload"
   ]
  },
  {
   "cell_type": "code",
   "execution_count": 2,
   "metadata": {
    "collapsed": false
   },
   "outputs": [],
   "source": [
    "%autoreload 1"
   ]
  },
  {
   "cell_type": "code",
   "execution_count": 3,
   "metadata": {
    "collapsed": false
   },
   "outputs": [],
   "source": [
    "from __future__ import division, print_function\n",
    "import os\n",
    "import gc\n",
    "import numpy as np\n",
    "import h5py as hdf\n",
    "from scipy.misc import imread, imsave\n",
    "import pyzdde.zdde as py\n",
    "import pyzdde.arraytrace as at\n",
    "import matplotlib.pyplot as plt\n",
    "from matplotlib.font_manager import FontProperties\n",
    "from matplotlib.colorbar import make_axes\n",
    "import matplotlib.patches as mpatches\n",
    "import IPython.display as display\n",
    "\n",
    "%aimport geometric_model_zemax_commons\n",
    "import geometric_model_zemax_commons as gm\n",
    "\n",
    "# local modules\n",
    "import iutils.plot.mplutils as mplu\n",
    "import iutils.cv.transforms as cv\n",
    "\n",
    "%matplotlib inline\n",
    "\n",
    "curDir = os.getcwd()"
   ]
  },
  {
   "cell_type": "code",
   "execution_count": 4,
   "metadata": {
    "collapsed": true
   },
   "outputs": [],
   "source": [
    "# Helper functions common to both Part-I and Part-II of this computational notebook.\n",
    "\n",
    "# NOTE: In this document the \"PIVOT\" is the pivot of the lens group\n",
    "\n",
    "def find_surf_using_comment(ln, comment):\n",
    "    for i in range(ln.zGetNumSurf()):\n",
    "        if ln.zGetComment(i) == comment:\n",
    "            break\n",
    "    else:\n",
    "        return -1\n",
    "    return i\n",
    "\n",
    "def get_pupil_pos_from_pivot(ln):\n",
    "    \"\"\"returns the distance of the ENPP and EXPP from the PIVOT (de and deDash)\n",
    "    \"\"\"\n",
    "    ln.zGetUpdate()\n",
    "    pivotSurf = find_surf_using_comment(ln, 'PIVOT')\n",
    "    enppSurf = find_surf_using_comment(ln, 'ENPP')\n",
    "    exppSurf = find_surf_using_comment(ln, 'EXPP')\n",
    "\n",
    "    pivotZ = ln.zOperandValue('GLCZ', pivotSurf)\n",
    "    enppZ = ln.zOperandValue('GLCZ', enppSurf) - pivotZ\n",
    "    exppZ = ln.zOperandValue('GLCZ', exppSurf) - pivotZ\n",
    "    return enppZ, exppZ, pivotZ\n",
    "\n",
    "def get_image_pos_from_pivot(ln):\n",
    "    \"\"\"returns the distance of the image plane from the pivot along z-direction (zoDash)\n",
    "    \"\"\"\n",
    "    ln.zGetUpdate()\n",
    "    imaSurf = ln.zGetNumSurf()\n",
    "    pivotSurf = find_surf_using_comment(ln, 'PIVOT')\n",
    "    pivotZ = ln.zOperandValue('GLCZ', pivotSurf)\n",
    "    imaZ = ln.zOperandValue('GLCZ', imaSurf) - pivotZ\n",
    "    return imaZ\n",
    "\n",
    "def get_obj_pos_from_pivot(ln):\n",
    "    \"\"\"returns the distance of the object point/plane from the pivot along z-direction (zo)\"\"\"\n",
    "    ln.zGetUpdate()\n",
    "    pivotSurf = find_surf_using_comment(ln, 'PIVOT')\n",
    "    pivotZ = ln.zOperandValue('GLCZ', pivotSurf)\n",
    "    objZ = ln.zOperandValue('GLCZ', 0) - pivotZ\n",
    "    return objZ\n",
    "\n",
    "def set_lens_image_rotations(ln, thetaXLens=None, thetaYLens=None, thetaXImage=None, thetaYImage=None, \n",
    "                             cbLens=None, cbImage=None):\n",
    "    \"\"\"sets the lens and image plane rotation angles\n",
    "    \"\"\"\n",
    "    if cbLens is not None:\n",
    "        if thetaXLens is not None:\n",
    "            ln.zSetSurfaceParameter(cbLens, 3, thetaXLens)\n",
    "        if thetaYLens is not None:\n",
    "            ln.zSetSurfaceParameter(cbLens, 4, thetaYLens)\n",
    "    if cbImage is not None:\n",
    "        if thetaXImage is not None:\n",
    "            ln.zSetSurfaceParameter(cbImage, 3, thetaXImage)\n",
    "        if thetaYImage is not None:\n",
    "            ln.zSetSurfaceParameter(cbImage, 4, thetaYImage)\n",
    "    ln.zGetUpdate()\n",
    "    \n",
    "def rotX(angle):\n",
    "    \"\"\"returns 3D matrix in SO(3) for rotating a vector about the +x-axis\n",
    "    @param : angle in degrees\n",
    "    \"\"\"\n",
    "    c, s = np.cos(np.deg2rad(angle)), np.sin(np.deg2rad(angle))\n",
    "    return np.array([[1.0, 0.0, 0.0], [0.0, c, -s], [0.0, s, c]])\n",
    "\n",
    "def rotY(angle):\n",
    "    \"\"\"returns 3D matrix in SO(3) for rotating a vector about the +y-axis\n",
    "    @param : angle in degrees\n",
    "    \"\"\"\n",
    "    c, s = np.cos(np.deg2rad(angle)), np.sin(np.deg2rad(angle))\n",
    "    return np.array([[c, 0.0, s], [0.0, 1, 0.0], [-s, 0, c]])\n",
    "\n",
    "\n",
    "# Other useful functions\n",
    "sind = lambda x : np.sin(np.deg2rad(x))\n",
    "cosd = lambda x : np.cos(np.deg2rad(x))\n",
    "tand = lambda x : np.tan(np.deg2rad(x))\n",
    "arcsind = lambda x : np.rad2deg(np.arcsin(x))\n",
    "arctand = lambda x : np.rad2deg(np.arctan(x))"
   ]
  },
  {
   "cell_type": "code",
   "execution_count": 5,
   "metadata": {
    "collapsed": false
   },
   "outputs": [],
   "source": [
    "# Helper function for saving figures\n",
    "imgdir = os.path.join(curDir, 'images')\n",
    "if not os.path.exists(imgdir):\n",
    "    os.makedirs(imgdir)\n",
    "    print(\"Created 'images' directory\")\n",
    "\n",
    "\n",
    "bSaveFigure = True\n",
    "fig_format, fig_ext = 'png', '.png'\n",
    "def saveFigure(figure, fig_name, DPI=120):\n",
    "    if bSaveFigure:\n",
    "        figname = os.path.join(imgdir, fig_name)\n",
    "        print('figname:', figname)\n",
    "        figure.savefig(figname, dpi=DPI, facecolor='white', edgecolor='white',\n",
    "                       bbox_inches='tight', format=fig_format, pad_inches=0.03)"
   ]
  },
  {
   "cell_type": "markdown",
   "metadata": {},
   "source": [
    "## Part I: Verification of the general imaging equation"
   ]
  },
  {
   "cell_type": "markdown",
   "metadata": {},
   "source": [
    "In this section we are going to verify the accuracy of geometric imaging equation in Scheimpflug configuration. The equation, given as follows, relates an object point with its corresponding image point."
   ]
  },
  {
   "cell_type": "markdown",
   "metadata": {},
   "source": [
    "$$\n",
    "\\acute{{\\bf x}} = \\acute{d}_e \\, {\\bf r} _{l,3} + \n",
    "\\frac{\\left( \\hat{{\\bf n}}_i (3) \\, \\acute{z}_o  - \\acute{d}_e \\, \\hat{{\\bf n}}_i^T \\, {\\bf r} _{l,3} \\right)}{\\hat{{\\bf n}}_i^T R_l M_p R_l^T ({\\bf x} - d_e\\,{\\bf r} _{l,3})}\n",
    "R_l M_p R_l^T ({\\bf x} - d_e\\,{\\bf r} _{l,3}) \\,\\,\n",
    "$$\n",
    "\n",
    "\n",
    "In the above equation both the object point and the image point are represented with respect to the camera frame $\\{C\\}$. \n",
    "\n",
    "\n",
    "The relationship between the camera frame and the image frame (coordinate frame transformation) can be written as: \n",
    "\n",
    "$$\n",
    "^{c}\\acute{{\\bf x}} = R_i \\, ^{i}\\acute{{\\bf x}} + {\\bf t}_i\n",
    "$$\n",
    "\n",
    "where, ${\\bf t}_i = [0, 0, \\acute{z}_o]^T$\n",
    "\n",
    "Therefore, the coordinates of the image point in the image frame is\n",
    "\n",
    "\n",
    "$$\n",
    "^{i}\\acute{{\\bf x}} = R^T_i \\,\\left( ^{c}\\acute{{\\bf x}} - {\\bf t}_i \\right)\n",
    "$$\n",
    "\n",
    "\n",
    "The image point in the image frame is then given as:\n",
    "\n",
    "$$\n",
    "^{i}\\acute{{\\bf x}} = R_i^T \\left( \\acute{d}_e \\, {\\bf r} _{l,3}  - {\\bf t}_i \\right)  + \n",
    "\\frac{\\left( \\hat{{\\bf n}}_i (3) \\, \\acute{z}_o  - \\acute{d}_e \\, \\hat{{\\bf n}}_i^T \\, {\\bf r} _{l,3} \\right)}{\\hat{{\\bf n}}_i^T R_l M_p R_l^T ({\\bf x} - d_e\\,{\\bf r} _{l,3})}\n",
    "R_i^T R_l M_p R_l^T ({\\bf x} - d_e\\,{\\bf r} _{l,3}) \\,\\,\n",
    "$$\n",
    "\n"
   ]
  },
  {
   "cell_type": "markdown",
   "metadata": {},
   "source": [
    "To verify the above equations, we will first construct an aberration-free lens in Zemax. We will use two paraxial surfaces to construct a lens that represents a paraxial double lens model. \n",
    "\n",
    "\n",
    "\n",
    "The *equvalent* or *effective\" focal-length $f$ of the two-lens system is [Kingslake, 2009]:\n",
    "\n",
    "$$\n",
    "\\frac{1}{f} = \\frac{1}{f_1} + \\frac{1}{f_2} - \\frac{s}{f_1 f_2}  \\, .\n",
    "$$\n",
    "\n",
    "where $s$ is the separation between the two lenses.  \n",
    "\n",
    "Furthermore, the pupil magnification of the double lens can be varied using the relation (refer to the notebook [Pupil Magnification Study](PupilMagnificationStudy.ipynb)):\n",
    "\n",
    "$$\n",
    "m_p = \\left(\\frac{f_2}{f_1}\\right) \\frac{a - f_1}{s - a - f_2} \\, .\n",
    "$$\n",
    "\n",
    "where, $a$ is the distance between the first lens and the limiting aperture of the lens system.\n",
    "\n",
    "\n",
    "The following code cells require a running Zemax application."
   ]
  },
  {
   "cell_type": "code",
   "execution_count": 6,
   "metadata": {
    "collapsed": false
   },
   "outputs": [],
   "source": [
    "# Location of the Zemax lens files for this notebook\n",
    "zmxdir = os.path.join(curDir, 'zmxfiles')\n",
    "ln = pyz.createLink()"
   ]
  },
  {
   "cell_type": "code",
   "execution_count": 7,
   "metadata": {
    "collapsed": false
   },
   "outputs": [
    {
     "data": {
      "text/plain": [
       "0"
      ]
     },
     "execution_count": 7,
     "metadata": {},
     "output_type": "execute_result"
    }
   ],
   "source": [
    "# The lens \"paraxialDoubleLens24mmFiniteConj_mp2.zmx\" was created separately in Zemax application\n",
    "# It has an effective focal length of 24 mm, and a pupil magnification of 2. In frontoparallel\n",
    "# configuration, the lens is focused on an object plane 500 mm away.\n",
    "# Note that the field for the lens is specified as \"Object hegiht\" \n",
    "\n",
    "lens = \"paraxialDoubleLens24mmFiniteConj_mp2.zmx\"\n",
    "lensPath = os.path.join(zmxdir, lens)\n",
    "ln.zLoadFile(lensPath)"
   ]
  },
  {
   "cell_type": "code",
   "execution_count": 19,
   "metadata": {
    "collapsed": false
   },
   "outputs": [
    {
     "name": "stdout",
     "output_type": "stream",
     "text": [
      "SURFACE DATA SUMMARY:\n",
      "\n",
      "Surf     Type         Radius      Thickness                Glass      Diameter          Conic   Comment\n",
      " OBJ STANDARD       Infinity            500                                200              0\n",
      "   1 PARAXIAL              -       3.636364                           9.382086              - Lens 1\n",
      " STO STANDARD       Infinity       16.36364                           7.142857              0 Stop\n",
      "   3 PARAXIAL              -       13.17073                           11.35204              - Lens 2\n",
      " IMA STANDARD       Infinity                                          9.756098              0\n"
     ]
    }
   ],
   "source": [
    "# The lens surfaces\n",
    "ln.ipzGetLDE()"
   ]
  },
  {
   "cell_type": "code",
   "execution_count": 20,
   "metadata": {
    "collapsed": false
   },
   "outputs": [
    {
     "data": {
      "image/png": "[encoded data removed]",
      "text/plain": [
       "<IPython.core.display.Image object>"
      ]
     },
     "metadata": {},
     "output_type": "display_data"
    }
   ],
   "source": [
    "# Layout plot\n",
    "ln.ipzCaptureWindow('L3d')"
   ]
  },
  {
   "cell_type": "code",
   "execution_count": 21,
   "metadata": {
    "collapsed": false
   },
   "outputs": [
    {
     "name": "stdout",
     "output_type": "stream",
     "text": [
      "Paraxial magnification : -0.0487804878\n",
      "Real working F/#       : 3.168743031\n",
      "Effective focal length : 24.0\n",
      "Paraxial working F/#   : 3.129046563\n",
      "Paraxial image height  : 4.87804878\n"
     ]
    }
   ],
   "source": [
    "# First order parameters\n",
    "ln.ipzGetFirst()"
   ]
  },
  {
   "cell_type": "code",
   "execution_count": 22,
   "metadata": {
    "collapsed": false
   },
   "outputs": [
    {
     "name": "stdout",
     "output_type": "stream",
     "text": [
      "Exit pupil position (from IMA)           : -49.17073171\n",
      "Entrance pupil position (from surface 1) : 4.0\n",
      "Aperture Type                            : Float by stop\n",
      "Apodization factor                       : 0.0\n",
      "Apodization type                         : None\n",
      "Value (stop surface semi-diameter)       : 3.571428571\n",
      "Exit pupil diameter                      : 15.71428571\n",
      "Entrance pupil diameter                  : 7.857142857\n"
     ]
    }
   ],
   "source": [
    "# Pupil information\n",
    "ln.ipzGetPupil()"
   ]
  },
  {
   "cell_type": "code",
   "execution_count": 23,
   "metadata": {
    "collapsed": false
   },
   "outputs": [
    {
     "data": {
      "text/plain": [
       "1.999999999490909"
      ]
     },
     "execution_count": 23,
     "metadata": {},
     "output_type": "execute_result"
    }
   ],
   "source": [
    "# Pupil magnification\n",
    "ln.zGetPupilMagnification()"
   ]
  },
  {
   "cell_type": "markdown",
   "metadata": {
    "collapsed": false
   },
   "source": [
    "Before we begin to verify, we will insert (dummy) surfaces in the lens to represent the entrance and exit pupils, and the cardinal planes. Drawing the cardinal planes helps us to visually ensure several things such as ensuring that we have indeed traced the chief-rays from the object (these rays must converge at the center of the entrance pupil and re-emerge from the center of the exit pupil). It also helps us to visually verify the point of rotation of the lens (whether it is about the entrance pupil center or about a point away from the entrance pupil).\n",
    "\n",
    "Note:\n",
    "Although the locations of these paraxial planes are reported in Zemax, there is no option to render them; so we use dummy surfaces to represent them. However, we need to ensure that Zemax doesn't trace rays to these surfaces.  "
   ]
  },
  {
   "cell_type": "code",
   "execution_count": 24,
   "metadata": {
    "collapsed": false
   },
   "outputs": [
    {
     "name": "stdout",
     "output_type": "stream",
     "text": [
      "Textual information about the planes:\n",
      "\n",
      "Exit pupil distance from IMG: -49.17073171\n",
      "Entrance pupil from Surf 1 @ LDE: 24.0\n",
      "Focal plane obj F from surf 1 @ LDE:  12.0 \n",
      "Focal plane img F' from IMA:  -1.170732\n",
      "Principal plane obj H from surf 1 @ LDE:  36.0 \n",
      "Principal plane img H' from IMA:  -25.170732\n",
      "Focal length:  24.0\n",
      "Principal plane H to ENPP:  12.0\n",
      "Principal plane H' to EXPP:  23.99999971\n",
      "Principal plane H' to EXPP (abs.) calc. using lens equ.:  24.0\n",
      "Principal plane H' to rear focal plane:  24.0\n",
      "Principal plane H to front focal plane:  -24.0\n",
      "\n",
      "Check \"Skip rays to this surface\" under \"Draw Tab\" of the surface property for the dummy and cardinal plane surfaces. See Docstring Notes for details.\n"
     ]
    }
   ],
   "source": [
    "# Draw ENPP, EXPP and cardinal surfaces\n",
    "gm.draw_pupil_cardinal_planes(ln, firstDummySurfOff=20, push=True)"
   ]
  },
  {
   "cell_type": "code",
   "execution_count": 25,
   "metadata": {
    "collapsed": true
   },
   "outputs": [],
   "source": [
    "# After making the required changes to the surface properties (skip rays) in the Zemax main application window, \n",
    "# the file with the new surfaces to show the position of the pupils and cardinal planes was saved as\n",
    "# paraxialDoubleLens24mmFiniteConj_mp2_cardinalsDrawn.zmx\n",
    "# In order to avoid the drudgery of manually checking \"skip rays to surface\" every time, we use a stored copy.\n",
    "\n",
    "loadStoredCopy = True\n",
    "\n",
    "if loadStoredCopy:\n",
    "    storedLens = \"paraxialDoubleLens24mmFiniteConj_mp2_cardinalsDrawn.zmx\"\n",
    "    storedLensPath = os.path.join(zmxdir, storedLens)\n",
    "    ln.zLoadFile(storedLensPath)\n",
    "else:\n",
    "    ln.zGetRefresh()"
   ]
  },
  {
   "cell_type": "code",
   "execution_count": 30,
   "metadata": {
    "collapsed": false
   },
   "outputs": [
    {
     "data": {
      "image/png": "[encoded data removed]",
      "text/plain": [
       "<IPython.core.display.Image object>"
      ]
     },
     "execution_count": 30,
     "metadata": {},
     "output_type": "execute_result"
    }
   ],
   "source": [
    "# Annotated figure of the double lens (after adding the dummy surfaces to represent cardinal planes)\n",
    "# The object plane is not shown for visual clarity.\n",
    "display.Image('./images/lens_24mm_mp2_with_cardinals.png')"
   ]
  },
  {
   "cell_type": "code",
   "execution_count": 31,
   "metadata": {
    "collapsed": false
   },
   "outputs": [
    {
     "data": {
      "text/plain": [
       "(4, 20)"
      ]
     },
     "execution_count": 31,
     "metadata": {},
     "output_type": "execute_result"
    }
   ],
   "source": [
    "# Insert appropriate coordinate breaks to tilt the lens\n",
    "# Note that the \"lens\" consists of many surfaces -- some physical (aperture, elemental lens surfaces L1, L2), \n",
    "# and some virtual (the cardinal planes, entrance and exit pupil). When we physically rotate a \"lens\" about \n",
    "# a point, all the associates surfaces also rotate about this point. Therefore, in Zemax, we will need to \n",
    "# include all the surfaces with coordinate breaks in order to rotate them together. \n",
    "\n",
    "# For this example, we will rotate the lens about a point that is 5 mm away from the entrance pupil. \n",
    "\n",
    "imgPPSurf = find_surf_using_comment(ln, \"H'\")\n",
    "cb1, cb2 = gm.insert_cbs_to_tilt_lens(ln, lastSurf=imgPPSurf, firstSurf=2, pivot='ENPP', offset=5, push=True)\n",
    "cb1, cb2"
   ]
  },
  {
   "cell_type": "markdown",
   "metadata": {},
   "source": [
    "As before, we need to do the following in the main Zemax application:\n",
    "\n",
    "1. Check the \"Skip rays to this surface\" (in the \"Draw Tab\" under surface properties) for the two dummy surfaces just inserted -- one preceding the first CB (with comment \"Move to pivot ...\") and second following the second CB.\n",
    "\n",
    "2. Fix the semi-diameters of the ENPP and EXPP surfaces so that they don't change when the lens rotates.\n",
    "\n",
    "3. Ensure that the global reference surface is either the PIVOT surface (recommended), image plane or the untilted object plane.\n",
    "\n",
    "4. Also, ensure that you are rendering all the appropriate surfaces in the 3D Layout plot. That is, select \"First surface\" as \"1-dummy 2 c rays\", and \"Last surface\" as \"IMA\" surface (in this case it is surface number 22). "
   ]
  },
  {
   "cell_type": "markdown",
   "metadata": {},
   "source": [
    "We will store a copy of the lens with the current configuration settings so that we don't have to do it manually again if we have to repeat the experiment. The name used to store the current settings is \"paraxialDoubleLens24mmFiniteConj_mp2_cardinalsDrawnWdRotAboutENPPplusOffset.zmx\""
   ]
  },
  {
   "cell_type": "code",
   "execution_count": 8,
   "metadata": {
    "collapsed": true
   },
   "outputs": [],
   "source": [
    "loadStoredCopy = True\n",
    "\n",
    "if loadStoredCopy:\n",
    "    storedLens = \"paraxialDoubleLens24mmFiniteConj_mp2_cardinalsDrawnWdRotAboutENPPplusOffset.zmx\"\n",
    "    storedLensPath = os.path.join(zmxdir, storedLens)\n",
    "    ln.zLoadFile(storedLensPath)\n",
    "    cb1 = 4\n",
    "else:\n",
    "    # If a different lens is used ... \n",
    "    ln.zGetRefresh()"
   ]
  },
  {
   "cell_type": "markdown",
   "metadata": {},
   "source": [
    "<font color='red'>**Important!**</font> \n",
    "\n",
    "1. Before we perform any ray tracing to plot the intersection of the chief-ray(s) with the image plane, we must ensure that the (paraxial) *ray-aiming* feature in Zemax is turned on. This is important because during ray tracing Zemax determines the direction cosines of the rays that emerges from the object surface based on the paraxial entrance pupil location. However, the **paraxial calculation used to compute the entrance pupil ignores tilts and decenters of the surfaces including the stop**. Therefore, it is very likely that a \"chief-ray\", which is defined as the ray through the center of the stop (and virtually through the centers of the entrance and exit pupils in an aberration-free optical system), may not be traced if the ray aiming is not on.\n",
    "\n",
    "2. The coordinates (of ray intersection with a surface) returned by `zGetTrace()` are with respect to the surface's reference frame instead of the global reference frame. Therefore, if the image surface is a plane (which is the case here) the z-component of the ray intersection with the surface will be zero.   "
   ]
  },
  {
   "cell_type": "code",
   "execution_count": 9,
   "metadata": {
    "collapsed": false
   },
   "outputs": [
    {
     "data": {
      "text/plain": [
       "(22, 0, 12, 1, 1, 0, 20.0, 1, 3)"
      ]
     },
     "execution_count": 9,
     "metadata": {},
     "output_type": "execute_result"
    }
   ],
   "source": [
    "# Set ray-aiming \n",
    "sysProp = ln.zGetSystem()\n",
    "ln.zSetSystem(unitCode=sysProp.unitCode, \n",
    "              stopSurf=sysProp.stopSurf, \n",
    "              rayAimingType=1, \n",
    "              globalRefSurf=sysProp.globalRefSurf)"
   ]
  },
  {
   "cell_type": "code",
   "execution_count": 10,
   "metadata": {
    "collapsed": false
   },
   "outputs": [
    {
     "data": {
      "text/plain": [
       "0"
      ]
     },
     "execution_count": 10,
     "metadata": {},
     "output_type": "execute_result"
    }
   ],
   "source": [
    "# The maximum field height set originally in the lens file is 100 mm. We will change the maximum \n",
    "# field height to a value (equal to 92.25 mm) since, later in the notebook, we can compare this plot\n",
    "# with a plot obtained by numerically computing the image field for exactly this lens rotation.\n",
    "\n",
    "ln.zSetField(0, 1, 5, 0) # 5 fields defined by object height, and radial field normalization.\n",
    "ln.zSetField(2, 92.25, 0)\n",
    "ln.zSetField(3, -92.25, 0)\n",
    "ln.zSetField(4, 0, 92.25)\n",
    "ln.zSetField(5, 0, -92.25)\n",
    "ln.zGetUpdate()"
   ]
  },
  {
   "cell_type": "markdown",
   "metadata": {},
   "source": [
    "#### Chief ray intersection plots"
   ]
  },
  {
   "cell_type": "code",
   "execution_count": 19,
   "metadata": {
    "collapsed": false
   },
   "outputs": [
    {
     "data": {
      "image/png": "[encoded data removed]",
      "text/plain": [
       "<matplotlib.figure.Figure at 0x9d07588>"
      ]
     },
     "metadata": {},
     "output_type": "display_data"
    }
   ],
   "source": [
    "# Chief ray intersection plot 1: \n",
    "# the lens is tilted about the pivot point by 20° about the x-axis while \n",
    "# keeping the image plane perpendicular to the z-axis\n",
    "\n",
    "# the blue circles represents the points of intersection of the cheif rays with the image plane in \n",
    "# frontoparallel configuration (when the lens and/or image planes are not tilted)\n",
    "\n",
    "tiltXY = [(0,0), (20, 0)]\n",
    "gm.plot_chiefray_intersects(ln, cb1, tiltXY, False)"
   ]
  },
  {
   "cell_type": "code",
   "execution_count": 20,
   "metadata": {
    "collapsed": false
   },
   "outputs": [
    {
     "data": {
      "image/png": "[encoded data removed]",
      "text/plain": [
       "<matplotlib.figure.Figure at 0x9f18860>"
      ]
     },
     "metadata": {},
     "output_type": "display_data"
    }
   ],
   "source": [
    "# Chief ray intersection plot 2: \n",
    "# the lens is tilted about the pivot point by 20° about both x-axis while \n",
    "# keeping the image plane perpendicular to the z-axis of the camera frame.\n",
    "tiltXY = [(0,0), (20, 20)]\n",
    "gm.plot_chiefray_intersects(ln, cb1, tiltXY, False)"
   ]
  },
  {
   "cell_type": "markdown",
   "metadata": {
    "collapsed": true
   },
   "source": [
    "Now, we will also tilt the image plane. But before we can do that, we will need to insert a coordinate break before the image surface."
   ]
  },
  {
   "cell_type": "code",
   "execution_count": 11,
   "metadata": {
    "collapsed": false
   },
   "outputs": [
    {
     "data": {
      "text/plain": [
       "0"
      ]
     },
     "execution_count": 11,
     "metadata": {},
     "output_type": "execute_result"
    }
   ],
   "source": [
    "# insert coordinate break and tilt image surface by 15°\n",
    "imaSurf = ln.zGetNumSurf()\n",
    "ln.zInsertCoordinateBreak(surfNum=imaSurf, xtilt=15.0)"
   ]
  },
  {
   "cell_type": "code",
   "execution_count": 12,
   "metadata": {
    "collapsed": false
   },
   "outputs": [
    {
     "data": {
      "image/png": "[encoded data removed]",
      "text/plain": [
       "<matplotlib.figure.Figure at 0x9981860>"
      ]
     },
     "metadata": {},
     "output_type": "display_data"
    }
   ],
   "source": [
    "# Chief ray intersection plot 3: \n",
    "# The image plane is tilted by 15° and the lens is in nominal position (not rotated)  \n",
    "# Note that now the blue circles are also distorted representing the tilt of the image plane\n",
    "tiltXY = [(0,0), (0, 0)]  # no lens tilt\n",
    "gm.plot_chiefray_intersects(ln, cb1, tiltXY, False)"
   ]
  },
  {
   "cell_type": "code",
   "execution_count": 23,
   "metadata": {
    "collapsed": false
   },
   "outputs": [
    {
     "data": {
      "image/png": "[encoded data removed]",
      "text/plain": [
       "<matplotlib.figure.Figure at 0xa6b1dd8>"
      ]
     },
     "metadata": {},
     "output_type": "display_data"
    }
   ],
   "source": [
    "# Chief ray intersection plot 4: \n",
    "# The image plane is tilted by 15° and the lens is rotated about the pivot about the x-axis by 20°\n",
    "\n",
    "tiltXY = [(0,0), (20, 0)]\n",
    "gm.plot_chiefray_intersects(ln, cb1, tiltXY, False)"
   ]
  },
  {
   "cell_type": "code",
   "execution_count": 24,
   "metadata": {
    "collapsed": false
   },
   "outputs": [
    {
     "data": {
      "image/png": "[encoded data removed]",
      "text/plain": [
       "<matplotlib.figure.Figure at 0xa8ec390>"
      ]
     },
     "metadata": {},
     "output_type": "display_data"
    }
   ],
   "source": [
    "# Chief ray intersection plot 5: \n",
    "# The image plane is tilted by 15° and the lens is rotated about the pivot about both the x- and y- axes by 20°\n",
    "\n",
    "tiltXY = [(0,0), (20, 20)]\n",
    "gm.plot_chiefray_intersects(ln, cb1, tiltXY, False)"
   ]
  },
  {
   "cell_type": "markdown",
   "metadata": {
    "collapsed": false
   },
   "source": [
    "Now, we will compare the Zemax's ray traced values with that computed numerically using the equations. We will write the equations again here for convenience."
   ]
  },
  {
   "cell_type": "markdown",
   "metadata": {
    "collapsed": false
   },
   "source": [
    "Verification of the equation:"
   ]
  },
  {
   "cell_type": "code",
   "execution_count": 13,
   "metadata": {
    "collapsed": false
   },
   "outputs": [
    {
     "data": {
      "text/plain": [
       "0"
      ]
     },
     "execution_count": 13,
     "metadata": {},
     "output_type": "execute_result"
    }
   ],
   "source": [
    "# Set the fields to 100 x 100 mm square @ object space\n",
    "ln.zSetField(2, 100, 0)\n",
    "ln.zSetField(3, -100, 0)\n",
    "ln.zSetField(4, 0, 100)\n",
    "ln.zSetField(5, 0, -100);\n",
    "ln.zGetUpdate()"
   ]
  },
  {
   "cell_type": "code",
   "execution_count": 14,
   "metadata": {
    "collapsed": false
   },
   "outputs": [
    {
     "data": {
      "text/plain": [
       "100.0"
      ]
     },
     "execution_count": 14,
     "metadata": {},
     "output_type": "execute_result"
    }
   ],
   "source": [
    "# create field coordinates for ray tracing\n",
    "# NOTE: \n",
    "# The following field definitions in the LDE are assumed:\n",
    "# 1. The field normalization is RADIAL\n",
    "# 2. The field type is object height\n",
    "\n",
    "fieldDef = ln.zGetField(0)\n",
    "assert fieldDef.type == 1       # ensure type is object height\n",
    "assert fieldDef.normMethod == 0 # ensure radial normalization\n",
    "\n",
    "# maximum radial field\n",
    "fR = fieldDef.maxX # or maxY\n",
    "fR"
   ]
  },
  {
   "cell_type": "code",
   "execution_count": 15,
   "metadata": {
    "collapsed": false
   },
   "outputs": [
    {
     "name": "stdout",
     "output_type": "stream",
     "text": [
      "Pivot position: 0.0\n",
      "ENPP position (de): -5.0\n",
      "EXPP position (deDash): -25.0\n",
      "Obj. plane position from pivot position: -509.0\n",
      "Image position (zoDash): 24.1707317\n",
      "Pupil magnification (mp): 1.99999999949\n"
     ]
    }
   ],
   "source": [
    "## Get the positions of the ENPP, EXPP and Image plane w.r.t. the pivot\n",
    "## Get the pupil magnification mp\n",
    "\n",
    "cb1Lens = cb1                    \n",
    "cbImage = ln.zGetNumSurf() - 1  \n",
    "\n",
    "# first ensure that the lens is not rotated\n",
    "set_lens_image_rotations(ln, 0, 0, 0, 0, cb1Lens, cbImage)\n",
    "\n",
    "zo = get_obj_pos_from_pivot(ln)\n",
    "zoDash = get_image_pos_from_pivot(ln)\n",
    "de, deDash, pp = get_pupil_pos_from_pivot(ln)\n",
    "mp = ln.zGetPupilMagnification()\n",
    "\n",
    "print('Pivot position:', pp)\n",
    "print('ENPP position (de):', de)\n",
    "print('EXPP position (deDash):', deDash)\n",
    "print('Obj. plane position from pivot position:', zo)\n",
    "print('Image position (zoDash):', zoDash)\n",
    "print('Pupil magnification (mp):', mp)"
   ]
  },
  {
   "cell_type": "code",
   "execution_count": 28,
   "metadata": {
    "collapsed": false
   },
   "outputs": [],
   "source": [
    "## Set the elemental rotations of the lens and image plane @ Zemax\n",
    "# note that in Zemax the rotations are intrinsic, i.e. rotations subsequent to \n",
    "# the first rotation is always w.r.t. the new x-y-z axis.\n",
    "# Also, if the order flag in the first coordinate break is 0 (default), then the\n",
    "# order of rotations is: x-y'-z\"\n",
    "\n",
    "thetaXLens, thetaYLens = -20, 10\n",
    "thetaXImage, thetaYImage = 15, -5\n",
    "set_lens_image_rotations(ln, thetaXLens, thetaYLens, thetaXImage, thetaYImage, cb1Lens, cbImage)"
   ]
  },
  {
   "cell_type": "code",
   "execution_count": 29,
   "metadata": {
    "collapsed": false
   },
   "outputs": [],
   "source": [
    "#ln.zPushLens()"
   ]
  },
  {
   "cell_type": "code",
   "execution_count": 30,
   "metadata": {
    "collapsed": false
   },
   "outputs": [],
   "source": [
    "# Construct intrinsic rotation matrix  x-y'-z\"\n",
    "# This is equivalent to composition of extrinsic elemental rotations: z-y-x\n",
    "\n",
    "Rl = np.dot(rotX(thetaXLens), rotY(thetaYLens))\n",
    "rl3 = Rl[:,2] # optical axis\n",
    "Ri = np.dot(rotX(thetaXImage), rotY(thetaYImage))\n",
    "ni = Ri[:, 2] # normal to the image plane"
   ]
  },
  {
   "cell_type": "code",
   "execution_count": 56,
   "metadata": {
    "collapsed": false
   },
   "outputs": [
    {
     "name": "stdout",
     "output_type": "stream",
     "text": [
      "\t  X\t\t\t    x_computed\t\t   x_ray_trace\t\t  err(delx, dely)\n",
      "(   0.00,    0.00, -509.0) (-0.3108, -0.6291,  0.0) (-0.3108, -0.6291,  0.0) (1.8e-09, 3.1e-09, 7.5e-15)\n",
      "(  10.00,  -10.00, -509.0) (-0.8003, -0.0863, -0.0) (-0.8003, -0.0863,  0.0) (2.1e-09, 2.7e-09, 3.0e-15)\n",
      "( -50.00,   50.00, -509.0) ( 2.1291, -3.3352,  0.0) ( 2.1291, -3.3352,  0.0) (1.2e-09, 3.2e-09, 2.9e-15)\n",
      "(  70.71,   70.71, -509.0) (-4.2013, -5.0221, -0.0) (-4.2013, -5.0221,  0.0) (2.6e-09, 5.1e-09, 4.7e-15)\n",
      "( 100.00,    0.00, -509.0) (-5.5251, -1.0101, -0.0) (-5.5251, -1.0101,  0.0) (1.3e-09, 8.4e-09, 3.1e-15)\n",
      "(   0.00,  100.00, -509.0) (-0.6031, -6.4387, -0.0) (-0.6031, -6.4387,  0.0) (2.2e-09, 4.0e-09, 2.2e-16)\n",
      "( 100.00,  100.00, -509.0) (-5.8238, -6.8542,  0.0) (-5.8238, -6.8542,  0.0) (5.6e-10, 2.5e-10, 2.2e-15)\n"
     ]
    }
   ],
   "source": [
    "# Verify using ray-tracing in Zemax\n",
    "# Ensure that \"ray-aiming\" is on\n",
    "\n",
    "assert ln.zGetSystem().rayAimingType\n",
    "z = get_obj_pos_from_pivot(ln)\n",
    "normObjPts = np.array([[ 0.0000,  0.0000], \n",
    "                       [ 0.1000, -0.1000],\n",
    "                       [-0.5000,  0.5000],\n",
    "                       [ 0.7071,  0.7071],\n",
    "                       [ 1.0000,  0.0000],\n",
    "                       [ 0.0000,  1.0000],\n",
    "                       [ 1.0000,  1.0000]\n",
    "                       ])\n",
    "\n",
    "Mp = np.array([[1, 0, 0], [0, 1, 0], [0, 0, mp]])\n",
    "numr = ni[2]*zoDash - deDash*np.dot(ni, rl3)\n",
    "rmrt = np.dot(Rl , np.dot(Mp, Rl.T))\n",
    "\n",
    "print('\\t  X\\t\\t\\t    x_computed\\t\\t   x_ray_trace\\t\\t  err(delx, dely)')\n",
    "for pts in normObjPts:\n",
    "    X = np.hstack((fR*pts, [z,]))\n",
    "    A =  np.dot(rmrt, X - de*rl3)\n",
    "    deno = np.dot(ni, A)\n",
    "    x_c_est = deDash*rl3 + (numr/deno)*A   # estimate of x in camera frame\n",
    "    x_est = np.dot(Ri.T, (x_c_est - np.array([0, 0, zoDash]).T))  # estimate of x in the image frame\n",
    "    \n",
    "    # ray trace\n",
    "    rt = ln.zGetTrace(waveNum=1, mode=0, surf=-1, hx=pts[0], hy=pts[1], px=0, py=0)\n",
    "    print('({: 7.2f}, {: 7.2f}, {: 5.1f}) '\n",
    "          '({: .4f}, {: .4f}, {: .1f}) '\n",
    "          '({: .4f}, {: .4f}, {: .1f}) '\n",
    "          '({:0.1e}, {:0.1e}, {:0.1e})'\n",
    "          .format(X[0], X[1], X[2],\n",
    "                  x_est[0], x_est[1], x_est[2],\n",
    "                  rt.x, rt.y, rt.z, \n",
    "                  abs(x_est[0] - rt.x), abs(x_est[1] - rt.y), abs(x_est[2] - rt.z)))"
   ]
  },
  {
   "cell_type": "markdown",
   "metadata": {},
   "source": [
    "From the above comparison, we can observe that the numerically computed values of image points are equal to those generated using ray tracing for all practical purposes. "
   ]
  },
  {
   "cell_type": "code",
   "execution_count": 116,
   "metadata": {
    "collapsed": false
   },
   "outputs": [],
   "source": [
    "ln.close()"
   ]
  },
  {
   "cell_type": "markdown",
   "metadata": {},
   "source": [
    "\n"
   ]
  },
  {
   "cell_type": "markdown",
   "metadata": {
    "collapsed": false
   },
   "source": [
    "## Part-II: Properties of image field under lens and sensor rotations "
   ]
  },
  {
   "cell_type": "markdown",
   "metadata": {},
   "source": [
    "First we need to find the distances of the ENPP and EXPP from the PIVOT (of the lens group) point. The following block of code is used to retrieve this information. Note that it requires Zemax in running state.\n",
    "\n",
    "Please make sure that there is no unsaved file in the Zemax DDE server, the following block of code will load files erasing any unsaved file that is present in the DDE server."
   ]
  },
  {
   "cell_type": "code",
   "execution_count": 43,
   "metadata": {
    "collapsed": true
   },
   "outputs": [],
   "source": [
    "# Execute this cell only if Zemax is not already running\n",
    "ln = pyz.createLink()"
   ]
  },
  {
   "cell_type": "code",
   "execution_count": 48,
   "metadata": {
    "collapsed": false
   },
   "outputs": [],
   "source": [
    "# This cell requires a running Zemax  application\n",
    "def print_pupil_distances_from_lens_pivot_point(pivotOffset=5):\n",
    "    \"\"\"\n",
    "    @param : pivotOffset (real) : offset of the lens group pivot point from the ENPP\n",
    "    \"\"\"\n",
    "    # all of the following lenses files have very similar imaging parameters, such as \n",
    "    # exact focal length, 500 mm object plane from the first surface of the lens (this)\n",
    "    # doesn't necessarily mean that obj-to-entrance-pupil distances are equal.\n",
    "    lensFiles = [\"paraxialDoubleLens24mmFiniteConj_mp1.zmx\",\n",
    "                 \"paraxialDoubleLens24mmFiniteConj_mp2.zmx\",\n",
    "                 \"paraxialDoubleLens24mmFiniteConj_mpdot55.zmx\"]\n",
    "\n",
    "    zmxdir = os.path.join(curDir, 'zmxfiles')\n",
    "    for lens in lensFiles:\n",
    "        lensPath = os.path.join(zmxdir, lens)\n",
    "        ln.zLoadFile(lensPath)\n",
    "\n",
    "        # draw cardinal and pupil planes\n",
    "        gm.draw_pupil_cardinal_planes(ln, firstDummySurfOff=20, push=True, printInfo=False)\n",
    "\n",
    "        # insert CBs\n",
    "        imgPPSurf = find_surf_using_comment(ln, \"H'\")\n",
    "        objPPSurf = find_surf_using_comment(ln, \"H\")\n",
    "        cb1, cb2 = gm.insert_cbs_to_tilt_lens(ln, lastSurf=imgPPSurf, firstSurf=objPPSurf-1, \n",
    "                                              pivot='ENPP', offset=pivotOffset, push=True)\n",
    "\n",
    "        # change Global reference surface to the PIVOT surface\n",
    "        pivotSurf = find_surf_using_comment(ln, 'PIVOT')\n",
    "        sysProp = ln.zGetSystem()\n",
    "        _ = ln.zSetSystem(unitCode=sysProp.unitCode, \n",
    "                          stopSurf=sysProp.stopSurf, \n",
    "                          rayAimingType=sysProp.rayAimingType, \n",
    "                          globalRefSurf=pivotSurf)\n",
    "        # retrieve and print data\n",
    "        zo = get_obj_pos_from_pivot(ln)\n",
    "        zoDash = get_image_pos_from_pivot(ln)\n",
    "        de, deDash, pp = get_pupil_pos_from_pivot(ln)\n",
    "        mp = ln.zGetPupilMagnification()\n",
    "        \n",
    "        # compare the values with the function pupil_centric_lens_formula()\n",
    "        # ... actually to verify the this function\n",
    "        ze = abs(zo - de) # object distance from ENPP\n",
    "        zeDash = gm.pupil_centric_lens_formula(u=ze, v=None, f=24.0, mp=mp).v # image distance from EXPP\n",
    "        assert abs(zeDash - abs(zoDash - deDash)) < 1e-6, \\\n",
    "        'zeDash = {:2.6f}, |zoDash - deDash| = {:2.6f}'.format(zeDash, abs(zoDash - deDash))\n",
    "        \n",
    "        print('\\nLens:', lens)\n",
    "        print('==============================================')\n",
    "        print('Pupil magnification (mp):', mp)\n",
    "        print('Pivot position:', pp)\n",
    "        print('ENPP position (de):', de)\n",
    "        print('EXPP position (deDash):', deDash)\n",
    "        print('Obj. plane position (zo):', zo)\n",
    "        print('Image position (zoDash):', zoDash)\n",
    "        print('Obj. distance from ENPP (|ze|):', ze)\n",
    "        print('Image position from EXPP (|zeDash|):', zeDash)"
   ]
  },
  {
   "cell_type": "code",
   "execution_count": 49,
   "metadata": {
    "collapsed": false
   },
   "outputs": [
    {
     "name": "stdout",
     "output_type": "stream",
     "text": [
      "\n",
      "Lens: paraxialDoubleLens24mmFiniteConj_mp1.zmx\n",
      "==============================================\n",
      "Pupil magnification (mp): 1.0\n",
      "Pivot position: 0.0\n",
      "ENPP position (de): -5.0\n",
      "EXPP position (deDash): -13.0\n",
      "Obj. plane position (zo): -521.0\n",
      "Image position (zoDash): 12.1707317\n",
      "Obj. distance from ENPP (|ze|): 516.0\n",
      "Image position from EXPP (|zeDash|): 25.1707317073\n",
      "\n",
      "Lens: paraxialDoubleLens24mmFiniteConj_mp2.zmx\n",
      "==============================================\n",
      "Pupil magnification (mp): 1.99999999949\n",
      "Pivot position: 0.0\n",
      "ENPP position (de): -5.0\n",
      "EXPP position (deDash): -25.0\n",
      "Obj. plane position (zo): -509.0\n",
      "Image position (zoDash): 24.1707317\n",
      "Obj. distance from ENPP (|ze|): 504.0\n",
      "Image position from EXPP (|zeDash|): 49.1707316951\n",
      "\n",
      "Lens: paraxialDoubleLens24mmFiniteConj_mpdot55.zmx\n",
      "==============================================\n",
      "Pupil magnification (mp): 0.55000000037\n",
      "Pivot position: 0.0\n",
      "ENPP position (de): -5.0\n",
      "EXPP position (deDash): -21.8363636\n",
      "Obj. plane position (zo): -540.636364\n",
      "Image position (zoDash): -7.4656319\n",
      "Obj. distance from ENPP (|ze|): 535.636364\n",
      "Image position from EXPP (|zeDash|): 14.3707317153\n"
     ]
    }
   ],
   "source": [
    "# This cell requires a running Zemax  application\n",
    "# Offset of lens group PIVOT point from ENPP = 5 mm\n",
    "print_pupil_distances_from_lens_pivot_point(pivotOffset=5)"
   ]
  },
  {
   "cell_type": "code",
   "execution_count": 50,
   "metadata": {
    "collapsed": false
   },
   "outputs": [
    {
     "name": "stdout",
     "output_type": "stream",
     "text": [
      "\n",
      "Lens: paraxialDoubleLens24mmFiniteConj_mp1.zmx\n",
      "==============================================\n",
      "Pupil magnification (mp): 1.0\n",
      "Pivot position: 0.0\n",
      "ENPP position (de): 0.0\n",
      "EXPP position (deDash): -8.0\n",
      "Obj. plane position (zo): -516.0\n",
      "Image position (zoDash): 17.1707317\n",
      "Obj. distance from ENPP (|ze|): 516.0\n",
      "Image position from EXPP (|zeDash|): 25.1707317073\n",
      "\n",
      "Lens: paraxialDoubleLens24mmFiniteConj_mp2.zmx\n",
      "==============================================\n",
      "Pupil magnification (mp): 1.99999999949\n",
      "Pivot position: 0.0\n",
      "ENPP position (de): 0.0\n",
      "EXPP position (deDash): -20.0\n",
      "Obj. plane position (zo): -504.0\n",
      "Image position (zoDash): 29.1707317\n",
      "Obj. distance from ENPP (|ze|): 504.0\n",
      "Image position from EXPP (|zeDash|): 49.1707316951\n",
      "\n",
      "Lens: paraxialDoubleLens24mmFiniteConj_mpdot55.zmx\n",
      "==============================================\n",
      "Pupil magnification (mp): 0.55000000037\n",
      "Pivot position: 0.0\n",
      "ENPP position (de): 0.0\n",
      "EXPP position (deDash): -16.8363636\n",
      "Obj. plane position (zo): -535.636364\n",
      "Image position (zoDash): -2.4656319\n",
      "Obj. distance from ENPP (|ze|): 535.636364\n",
      "Image position from EXPP (|zeDash|): 14.3707317153\n"
     ]
    }
   ],
   "source": [
    "# This cell requires a running Zemax  application\n",
    "# Offset of lens group PIVOT point from ENPP = 0 mm\n",
    "print_pupil_distances_from_lens_pivot_point(pivotOffset=0)"
   ]
  },
  {
   "cell_type": "code",
   "execution_count": 57,
   "metadata": {
    "collapsed": true
   },
   "outputs": [],
   "source": [
    "# This cell requires a running Zemax  application\n",
    "ln.close()"
   ]
  },
  {
   "cell_type": "markdown",
   "metadata": {},
   "source": [
    "Since we now have the required parameters (mainly $d_e$ and $\\acute{d}_e$) for the systems that we can use with the Scheimpflug imaging equation, we don't need to use Zemax to study the geometric properties of the image field under rotations of the lens and sensor planes.  \n",
    "\n",
    "The following sections of the code can run without Zemax running."
   ]
  },
  {
   "cell_type": "code",
   "execution_count": 33,
   "metadata": {
    "collapsed": false
   },
   "outputs": [],
   "source": [
    "def get_image_coordinates(X, thetaXLens, thetaYLens, thetaXImage, thetaYImage, mp, zoDash, de, deDash):\n",
    "    \"\"\"returns the coordinates of the chief-ray-image-plane intersections in the image surface\n",
    "    reference frame\n",
    "    \n",
    "    Parameters\n",
    "    ----------\n",
    "    X : ndarray\n",
    "        3xN array of object coordinates (in camera frame)\n",
    "    \n",
    "    \n",
    "    \"\"\"\n",
    "    # construct lens rotation matrix and optical axis vector\n",
    "    Rl = np.dot(rotX(thetaXLens), rotY(thetaYLens))\n",
    "    rl3 = Rl[:, 2, np.newaxis]  # optical axis\n",
    "    # construct image plane rotation matrix and image plane normal\n",
    "    Ri = np.dot(rotX(thetaXImage), rotY(thetaYImage))\n",
    "    ni = Ri[:, 2, np.newaxis]   # normal to the image plane\n",
    "    # pupil magnification matrix\n",
    "    Mp = np.array([[1, 0, 0], [0, 1, 0], [0, 0, mp]])\n",
    "    numr = ni[2]*zoDash - deDash*np.dot(ni.T, rl3)\n",
    "    rmrt = np.dot(Rl , np.dot(Mp, Rl.T))\n",
    "    A =  np.dot(rmrt, X - de*rl3)  # [A]=3xn\n",
    "    deno = np.dot(ni.T, A)         # [deno]=1xn\n",
    "    x_c = deDash*rl3 + (numr/deno)*A   # x in camera frame\n",
    "    x_i = np.dot(Ri.T, (x_c - np.array([[0, 0, zoDash]]).T))  # x in the image frame\n",
    "    return x_i\n",
    "\n",
    "# implementation of the second expression (equivalent)\n",
    "\n",
    "def get_image_coordinates_v2(X, thetaXLens, thetaYLens, thetaXImage, thetaYImage, mp, zoDash, de, deDash):\n",
    "    \"\"\"returns the coordinates of the chief-ray-image-plane intersections in the image surface\n",
    "    reference frame\n",
    "    \n",
    "    Parameters\n",
    "    ----------\n",
    "    X : ndarray\n",
    "        3xN array of object coordinates (in camera frame)\n",
    "        \n",
    "    Notes\n",
    "    -----\n",
    "    \n",
    "    \n",
    "    \"\"\"\n",
    "    # construct lens rotation matrix and optical axis vector\n",
    "    Rl = np.dot(rotX(thetaXLens), rotY(thetaYLens))\n",
    "    #Rl = np.dot(rotY(thetaYLens), rotX(thetaXLens))\n",
    "    rl3 = Rl[:, 2, np.newaxis]     # optical axis\n",
    "    # construct image plane rotation matrix and image plane normal\n",
    "    Ri = np.dot(rotX(thetaXImage), rotY(thetaYImage))\n",
    "    #Ri = np.dot(rotY(thetaYImage), rotX(thetaXImage))\n",
    "    ti = np.array([[0, 0, zoDash]]).T\n",
    "    #ri3 = Ri[:, 2, np.newaxis]    # same as ni\n",
    "    ni = Ri[:, 2, np.newaxis]      # normal to the image plane\n",
    "    # pupil magnification matrix\n",
    "    Mp = np.array([[1, 0, 0], [0, 1, 0], [0, 0, mp]])\n",
    "    numr = ni[2]*zoDash - deDash*np.dot(ni.T, rl3)\n",
    "    rmrt = np.dot(Rl , np.dot(Mp, Rl.T))\n",
    "    A =  np.dot(rmrt, X - de*rl3)  # [A]=3xn\n",
    "    deno = np.dot(ni.T, A)         # [deno]=1xn \n",
    "    \n",
    "    x_i = np.dot(Ri.T, (deDash*rl3 - ti)) + (numr/deno)* np.dot(Ri.T, A)  # x in image frame\n",
    "    return x_i"
   ]
  },
  {
   "cell_type": "code",
   "execution_count": 7,
   "metadata": {
    "collapsed": false
   },
   "outputs": [
    {
     "name": "stdout",
     "output_type": "stream",
     "text": [
      "The two functions are equivalent (w.r.t. the tested points)!\n"
     ]
    }
   ],
   "source": [
    "z = -509.0   # mm\n",
    "fR= 100      # abs. max field height  \n",
    "de = -5.0\n",
    "deDash = -25.0\n",
    "zoDash = 24.1707317\n",
    "mp = 2.0\n",
    "\n",
    "# normalized field coordinate grid\n",
    "nx = [-1.0, -0.98, -0.7071, -0.5, -0.25, -0.15, 0.0, 0.15, 0.25, 0.5, 0.7071, 0.98, 1.0]\n",
    "n = len(nx)\n",
    "hx, hy = np.meshgrid(nx, nx)\n",
    "X = np.vstack((fR*hx.reshape(1, n**2), fR*hy.reshape(1, n**2), z*np.ones((1, n**2))))\n",
    "\n",
    "#\n",
    "thetaXLens, thetaYLens =  5., 10.\n",
    "thetaXImage, thetaYImage =  5, -2\n",
    "x1 = get_image_coordinates(X, thetaXLens, thetaYLens, thetaXImage, thetaYImage, mp, zoDash, de, deDash)\n",
    "x2 = get_image_coordinates_v2(X, thetaXLens, thetaYLens, thetaXImage, thetaYImage, mp, zoDash, de, deDash)\n",
    "\n",
    "assert np.sum(x1 - x2) < 10e-10\n",
    "\n",
    "print(\"The two functions are equivalent (w.r.t. the tested points)!\")"
   ]
  },
  {
   "cell_type": "markdown",
   "metadata": {
    "collapsed": false
   },
   "source": [
    "#### Plots: Type 1"
   ]
  },
  {
   "cell_type": "markdown",
   "metadata": {},
   "source": [
    "In these plots, we have two object planes that are positioned (COMPLETE THE DESCRIPTION) ..."
   ]
  },
  {
   "cell_type": "code",
   "execution_count": 32,
   "metadata": {
    "collapsed": false
   },
   "outputs": [
    {
     "data": {
      "image/png": "[encoded data removed]",
      "text/plain": [
       "<matplotlib.figure.Figure at 0x9f4d0f0>"
      ]
     },
     "metadata": {},
     "output_type": "display_data"
    }
   ],
   "source": [
    "\n",
    "# normalized field coordinates (common for all the optical systems)\n",
    "n = 7   # THIS NUMBER SHOULD BE ODD, in order to have the on-axis point (0,0)\n",
    "nx = np.linspace(-1, 1, n)\n",
    "hx, hy = np.meshgrid(nx, nx)\n",
    "fR= 100 \n",
    "\n",
    "# for drawing the outer boundary\n",
    "nB = 15\n",
    "nxB = np.linspace(-1, 1, nB)    \n",
    "hxB, hyB = np.meshgrid(nxB, nxB)\n",
    "\n",
    "# *****************************\n",
    "#       PLOT SETTINGS\n",
    "# ****************************\n",
    "# Set optical system\n",
    "OPTICAL_SYSTEM = 2  # mp(1)=0.55 , mp(2)=1.0 or mp(not(1,2))=2.0\n",
    "PIVOT_OFFSET = 5    # 0 or 5 mm from the ENPP (actual offset is -5)\n",
    "COMPARE_PIVOT_OFFSET = False   # set OPTICAL_SYSTEM=2 set the particular PIVOT_OFFSET value = 0\n",
    "TILT_UNOFFSET = False\n",
    "SHOW_COMMON_LEGEND = True # generally true only for the first image in a squence\n",
    "# ******************************\n",
    "\n",
    "## Set tilts\n",
    "if COMPARE_PIVOT_OFFSET:\n",
    "    # to compare Pivot offset\n",
    "    #thetaXLens, thetaYLens, thetaXImage, thetaYImage =  20, 15, 0, 0 # with Pivot_offset = 0, mp=1\n",
    "    #thetaXLens, thetaYLens, thetaXImage, thetaYImage =  20, 15, 5, 5 # with Pivot_offset = 0, mp=1\n",
    "    thetaXLens, thetaYLens, thetaXImage, thetaYImage =  20, 15, 0, 0 # with Pivot_offset = 5, mp=1\n",
    "else:\n",
    "    thetaXLens, thetaYLens, thetaXImage, thetaYImage =  0, 0, 20, 0\n",
    "    #thetaXLens, thetaYLens, thetaXImage, thetaYImage =  5, 0, 0, 0\n",
    "    #thetaXLens, thetaYLens, thetaXImage, thetaYImage =  5, 0, 20, 0\n",
    "\n",
    "assert PIVOT_OFFSET in (0, 5)\n",
    "\n",
    "if OPTICAL_SYSTEM == 1: # mp = 0.550000000\n",
    "    # Optical System 1\n",
    "    de = -5.0 if PIVOT_OFFSET else 0.0\n",
    "    deDash = -21.8363636 if PIVOT_OFFSET else -16.8363636\n",
    "    zoDash = -7.4656319 if PIVOT_OFFSET else -2.4656319\n",
    "    mp = 0.55\n",
    "elif OPTICAL_SYSTEM == 2: # mp = 1.0\n",
    "    # Optical System 2\n",
    "    de = -5.0 if PIVOT_OFFSET else 0.0\n",
    "    deDash = -13.0 if PIVOT_OFFSET else -8.0\n",
    "    zoDash = 12.1707317 if PIVOT_OFFSET else 17.1707317\n",
    "    mp = 1.0\n",
    "else: # mp = 2.0\n",
    "    # Optical System 3\n",
    "    de = -5.0 if PIVOT_OFFSET else 0.0\n",
    "    deDash = -25.0 if PIVOT_OFFSET else -20.0\n",
    "    zoDash = 24.1707317 if PIVOT_OFFSET else 29.1707317\n",
    "    mp = 2.0\n",
    "\n",
    "# Object planes (zFar and zNear have nothing to do with DOF, they are just two planes in object space)\n",
    "#zNear = -509.0  \n",
    "#zFar = -809.0\n",
    "\n",
    "zNear = -500.0\n",
    "zFar = -1000.0\n",
    "\n",
    "\n",
    "# COMPUTATOINS\n",
    "# ###########\n",
    "\n",
    "# points @ object plane Z1\n",
    "XNear = np.vstack((fR*hx.reshape(1, n**2), fR*hy.reshape(1, n**2), zNear*np.ones((1, n**2))))\n",
    "XNearB = np.vstack((fR*hxB.reshape(1, nB**2), fR*hyB.reshape(1, nB**2), zNear*np.ones((1, nB**2))))\n",
    "\n",
    "# image points for zero tilts @ object plane Z1\n",
    "x1 = get_image_coordinates_v2(XNear, 0, 0, 0, 0, mp, zoDash, de, deDash)\n",
    "x1B = get_image_coordinates_v2(XNearB, 0, 0, 0, 0, mp, zoDash, de, deDash)\n",
    "\n",
    "# image points for finite tilts @ object plane Z1\n",
    "x2 = get_image_coordinates(XNear, thetaXLens, thetaYLens, thetaXImage, thetaYImage, mp, zoDash, de, deDash)\n",
    "x2B = get_image_coordinates(XNearB, thetaXLens, thetaYLens, thetaXImage, thetaYImage, mp, zoDash, de, deDash)\n",
    "\n",
    "# points @ object plane Z2\n",
    "XFar = np.vstack((fR*hx.reshape(1, n**2), fR*hy.reshape(1, n**2), zFar*np.ones((1, n**2))))\n",
    "XFarB = np.vstack((fR*hxB.reshape(1, nB**2), fR*hyB.reshape(1, nB**2), zFar*np.ones((1, nB**2))))\n",
    "\n",
    "# image points for zero tilts @ object plane Z2 \n",
    "x3 = get_image_coordinates_v2(XFar, 0, 0, 0, 0, mp, zoDash, de, deDash)\n",
    "x3B = get_image_coordinates_v2(XFarB, 0, 0, 0, 0, mp, zoDash, de, deDash)\n",
    "\n",
    "# image points for finite tilts @ object plane Z1\n",
    "x4 = get_image_coordinates_v2(XFar, thetaXLens, thetaYLens, thetaXImage, thetaYImage, mp, zoDash, de, deDash)\n",
    "x4B = get_image_coordinates_v2(XFarB, thetaXLens, thetaYLens, thetaXImage, thetaYImage, mp, zoDash, de, deDash)\n",
    "\n",
    "\n",
    "# compensation for tilt offset\n",
    "tOffset = x2[:2, n**2 // 2] - x1[:2, n**2 // 2] if TILT_UNOFFSET else np.array([0, 0]) \n",
    "#tOffset = x4[:2, n**2 // 2] - x3[:2, n**2 // 2] if TILT_UNOFFSET else np.array([0, 0]) \n",
    "\n",
    "# displacement of center of mass of block @ Z1\n",
    "cmDisplaceZ1x = np.sum(x2[0, :]/n**2) - np.sum(x1[0, :]/n**2)\n",
    "cmDisplaceZ1y = np.sum(x2[1, :]/n**2) - np.sum(x1[1, :]/n**2)\n",
    "\n",
    "# displacement of center of mass of block @ Z2\n",
    "cmDisplaceZ2x = np.sum(x4[0, :]/n**2) - np.sum(x3[0, :]/n**2)\n",
    "cmDisplaceZ2y = np.sum(x4[1, :]/n**2) - np.sum(x3[1, :]/n**2)\n",
    "\n",
    "#print('CM displace @ Z1 = ({:5f}, {:5f})'.format(cmDisplaceZ1x, cmDisplaceZ1y))\n",
    "#print('CM displace @ Z2 = ({:5f}, {:5f})'.format(cmDisplaceZ2x, cmDisplaceZ2y))\n",
    "\n",
    "# FIGURE\n",
    "# ######\n",
    "\n",
    "#fig, ax = plt.subplots(1, 1, figsize=(8.45, 5), dpi=200)\n",
    "fig, ax = plt.subplots(1, 1, figsize=(8.45, 5.), dpi=200)\n",
    "\n",
    "grid_col_notilt_z1 = '#FFB796'\n",
    "grid_col_tilt_z1 = '#FF5500' #'#FF7433'\n",
    "grid_col_notilt_z2 = '#7CD9FF' \n",
    "grid_col_tilt_z2 = '#00B4FF'\n",
    "\n",
    "\n",
    "def get_v12NormMin_v12NormMax(a, b):\n",
    "    v1 = np.hstack((a[0,:].reshape(n**2, 1), a[1,:].reshape(n**2, 1)))\n",
    "    v2 = np.hstack((b[0,:].reshape(n**2, 1), b[1,:].reshape(n**2, 1)))\n",
    "    v12Norm = np.linalg.norm(v2-v1, axis=1)\n",
    "    return np.min(v12Norm), np.max(v12Norm), np.std(v12Norm)\n",
    "\n",
    "def get_gray_level(vNorm, v12NormMin, v12NormMax):\n",
    "    \"\"\"\n",
    "    Notes:\n",
    "    where is vNorm in the scale between v12NormMin and v12NormMax?\n",
    "    we can write: v12NormMin * (1 - a) + v12NormMax * a = vNorm\n",
    "    Furthermore,\n",
    "    if gl1 and gl2 are two gray levels (gl1 < gl2) and 0 <= gl1, gl2 <= 1\n",
    "    gl = a * (gl2 - gl1) + gl1\n",
    "    However, since we want darker shade to represent larger norm value,\n",
    "    we return 1 - gl\n",
    "    \"\"\"\n",
    "    deno = v12NormMax - v12NormMin\n",
    "    a = (vNorm - v12NormMin)/deno if deno else 0.0\n",
    "    gl1, gl2 = 0.35, 0.99\n",
    "    gl = a * (gl2 - gl1) + gl1\n",
    "    return 1.0 - gl\n",
    "\n",
    "# Find the minimum and maximum arrow lengths \n",
    "arrNearMin, arrNearMax, arrNearStd = get_v12NormMin_v12NormMax(x1, x2)\n",
    "arrFarMin, arrFarMax, arrFarStd = get_v12NormMin_v12NormMax(x3, x4)\n",
    "minArrowLen, maxArrowLen = min(arrNearMin, arrFarMin), max(arrNearMax, arrFarMax)  \n",
    "\n",
    "\n",
    "# Object plane at Z1\n",
    "# ------------------\n",
    "# displace plot for Z1 and Z2\n",
    "xOffset, yOffset = 5, 0\n",
    "\n",
    "ax.scatter(x1[0, :] + xOffset, x1[1, :] + yOffset, marker='o', s=25, \n",
    "           facecolors=grid_col_notilt_z1, edgecolors='#444444', lw=0.3, alpha=1.0, zorder=13,\n",
    "           label=r'$\\rm{{Frontoparallel}} \\,;\\,\\,  z_o={}\\, \\it{{mm}}$'.format(zNear))\n",
    "\n",
    "# shade region to show the span of the grid of points\n",
    "for i in range(n-1):\n",
    "    plt.fill_between(x=x1[0, i*n:(i+1)*n] + xOffset, \n",
    "                     y1=x1[1, i*n:(i+1)*n] + yOffset, \n",
    "                     y2=x1[1, (i+1)*n:(i+2)*n] + yOffset, \n",
    "                     alpha=0.1, facecolor=grid_col_notilt_z1, edgecolor='none', zorder=2)\n",
    "\n",
    "# grid to show the undistorted shape of points\n",
    "xGridPts = x1[0, :][:n] + xOffset\n",
    "yGridPts = x1[1, :][::n] + yOffset\n",
    "ax.vlines(xGridPts, ymin=min(yGridPts), ymax=max(yGridPts), zorder=2, colors=grid_col_notilt_z1, \n",
    "          lw=0.8, alpha=0.6)\n",
    "ax.hlines(yGridPts, xmin=min(xGridPts), xmax=max(xGridPts), zorder=2, colors=grid_col_notilt_z1, \n",
    "          lw=0.8, alpha=0.6)\n",
    "\n",
    "# finite tilts\n",
    "ax.scatter(x2[0, :] + xOffset - tOffset[0], x2[1, :] + yOffset - tOffset[1], \n",
    "           marker='o', s=25, facecolors=grid_col_tilt_z1, edgecolor='#333333', \n",
    "           lw=0.3, alpha=1.0, zorder=13, clip_on=False, \n",
    "           label=r'$\\rm{{Tilted}} \\,;\\,\\, z_o={}\\, \\it{{mm}}$'.format(zNear))\n",
    "\n",
    "# shade region to show the span of the grid of points\n",
    "for i in range(nB-1):\n",
    "    x_row1 = x2B[0, i*nB:(i+1)*nB] + xOffset\n",
    "    x_row2 = x2B[0, (i+1)*nB:(i+2)*nB] + xOffset\n",
    "    y_row1 = x2B[1, i*nB:(i+1)*nB] + yOffset\n",
    "    y_row2 = x2B[1, (i+1)*nB:(i+2)*nB] + yOffset\n",
    "    # we need to reverse the order of points from the second row\n",
    "    # so that the order of points (at the transition between rows) \n",
    "    # is circular and not zig-zag\n",
    "    x_pts = np.concatenate((x_row1, x_row2[::-1]))\n",
    "    y_pts = np.concatenate((y_row1, y_row2[::-1]))\n",
    "    k = np.hstack((x_pts[:, np.newaxis], y_pts[:, np.newaxis]))\n",
    "    patch = mpatches.Polygon(xy=k, closed=True, facecolor=grid_col_tilt_z1, \n",
    "                             edgecolor='none', alpha=0.1, zorder=3, clip_on=False)\n",
    "    ax.add_patch(patch)\n",
    "\n",
    "\n",
    "# arrows to indicate displacements of points\n",
    "if not (COMPARE_PIVOT_OFFSET and TILT_UNOFFSET):    \n",
    "    #minArrowLen, maxArrowLen = get_v12NormMin_v12NormMax(x1, x2)\n",
    "    for i in range(x1.shape[1]):\n",
    "        arrLength = np.sqrt((x2[0, i] - x1[0, i])**2 +  (x2[1, i] - x1[1, i])**2)\n",
    "        arrStyle = \"->\" if arrLength > 0.25 else \"-\"\n",
    "        arrCol = '{}'.format(get_gray_level(arrLength, minArrowLen, maxArrowLen))\n",
    "        ax.annotate(\"\", \n",
    "                    xy=(x2[0, i] + xOffset, x2[1, i] + yOffset), \n",
    "                    xytext=(x1[0, i] + xOffset, x1[1, i] + yOffset),\n",
    "                    arrowprops=dict(arrowstyle=arrStyle, color=arrCol, linewidth=0.9, \n",
    "                                    mutation_scale=15), \n",
    "                    annotation_clip=False, zorder=15)\n",
    "    \n",
    "# draw outer boundery\n",
    "ax.plot(x2B[0, :nB] + xOffset - tOffset[0], x2B[1, :nB], color=grid_col_tilt_z1, \n",
    "        lw=0.9, zorder=2, alpha=0.5, clip_on=False) # top\n",
    "ax.plot(x2B[0, -nB::] + xOffset - tOffset[0], x2B[1, -nB::], color=grid_col_tilt_z1, \n",
    "        lw=0.9, zorder=2, alpha=0.5,  clip_on=False) # bottom\n",
    "ax.plot(x2B[0, nB-1::nB] + xOffset - tOffset[0], x2B[1, nB-1::nB], color=grid_col_tilt_z1, \n",
    "        lw=1.0, zorder=2, alpha=0.9,  clip_on=False) # left side\n",
    "ax.plot(x2B[0, ::nB] + xOffset - tOffset[0], x2B[1, ::nB], color=grid_col_tilt_z1, \n",
    "        lw=1.0, zorder=2, alpha=0.9,  clip_on=False) # right side\n",
    "\n",
    "if COMPARE_PIVOT_OFFSET:\n",
    "    # displacement vector\n",
    "    ax.annotate(\"\", xy=(np.sum(x2[0, :]/n**2) + xOffset, np.sum(x2[1, :]/n**2) + yOffset), \n",
    "                xytext=(np.sum(x1[0, :]/n**2) + xOffset, np.sum(x1[1, :]/n**2) + yOffset),\n",
    "                arrowprops=dict(fc='#68B04F', ec='#222222', linewidth=0.5, headwidth=15, width=7, alpha=0.9),\n",
    "                annotation_clip=False, zorder=16)\n",
    "\n",
    "# Object plane at Z2\n",
    "# ------------------\n",
    "xOffset, yOffset = -5, 0\n",
    "\n",
    "ax.scatter(x3[0, :] + xOffset, x3[1, :] + yOffset, marker='o', s=22, \n",
    "           facecolors=grid_col_notilt_z2, edgecolors='#444444', lw=0.3, alpha=1.0, zorder=12,\n",
    "           label=r'$\\rm{{Frontoparallel}} \\,;\\, \\, z_o={}\\,\\it{{mm}}$'.format(zFar))\n",
    "\n",
    "# shade region to show the span of the grid of points\n",
    "for i in range(n-1):\n",
    "    plt.fill_between(x=x3[0, i*n:(i+1)*n] + xOffset, \n",
    "                     y1=x3[1, i*n:(i+1)*n] + yOffset, \n",
    "                     y2=x3[1, (i+1)*n:(i+2)*n] + yOffset, \n",
    "                     alpha=0.1, facecolor=grid_col_notilt_z2, edgecolor='none', zorder=2)\n",
    "\n",
    "# grid to show the undistorted shape of points\n",
    "xGridPts = x3[0, :][:n] + xOffset\n",
    "yGridPts = x3[1, :][::n] + yOffset\n",
    "ax.vlines(xGridPts, ymin=min(yGridPts), ymax=max(yGridPts), zorder=2, colors=grid_col_notilt_z2, \n",
    "          lw=0.8, alpha=0.6)\n",
    "ax.hlines(yGridPts, xmin=min(xGridPts), xmax=max(xGridPts), zorder=2, colors=grid_col_notilt_z2, \n",
    "          lw=0.8, alpha=0.6)\n",
    "\n",
    "# finite tilts\n",
    "ax.scatter(x4[0, :] + xOffset - tOffset[0], x4[1, :] + yOffset - tOffset[1], \n",
    "           marker='o', s=22, facecolors=grid_col_tilt_z2, edgecolor='#333333', \n",
    "           lw=0.3, alpha=1.0, clip_on=False, zorder=12, \n",
    "           label=r'$\\rm{{Tilted}} \\,;\\,\\, z_o={}\\, \\it{{mm}}$'.format(zFar))\n",
    "\n",
    "# shade region to show the span of the grid of points\n",
    "for i in range(nB-1):\n",
    "    x_row1 = x4B[0, i*nB:(i+1)*nB] + xOffset\n",
    "    x_row2 = x4B[0, (i+1)*nB:(i+2)*nB] + xOffset\n",
    "    y_row1 = x4B[1, i*nB:(i+1)*nB] + yOffset\n",
    "    y_row2 = x4B[1, (i+1)*nB:(i+2)*nB] + yOffset\n",
    "    # we need to reverse the order of points from the second row\n",
    "    # so that the order of points (at the transition between rows) \n",
    "    # is circular and not zig-zag\n",
    "    x_pts = np.concatenate((x_row1, x_row2[::-1]))\n",
    "    y_pts = np.concatenate((y_row1, y_row2[::-1]))\n",
    "    k = np.hstack((x_pts[:, np.newaxis], y_pts[:, np.newaxis]))\n",
    "    patch = mpatches.Polygon(xy=k, closed=True, facecolor=grid_col_tilt_z2, \n",
    "                             edgecolor='none', alpha=0.1, zorder=3, clip_on=False)\n",
    "    ax.add_patch(patch)\n",
    "\n",
    "# arrows to indicate displacements of points\n",
    "if not (COMPARE_PIVOT_OFFSET and TILT_UNOFFSET):\n",
    "    #minArrowLen, maxArrowLen = get_v12NormMin_v12NormMax(x3, x4)\n",
    "    for i in range(x1.shape[1]):\n",
    "        arrLength = np.sqrt((x4[0, i] - x3[0, i])**2 +  (x4[1, i] - x3[1, i])**2)\n",
    "        arrStyle = \"->\" if arrLength > 0.25 else \"-\"\n",
    "        arrCol = '{}'.format(get_gray_level(arrLength, minArrowLen, maxArrowLen))\n",
    "        ax.annotate(\"\", \n",
    "                    xy=(x4[0, i] + xOffset, x4[1, i] + yOffset), \n",
    "                    xytext=(x3[0, i] + xOffset, x3[1, i] + yOffset),\n",
    "                    arrowprops=dict(arrowstyle=arrStyle, color= arrCol, linewidth=0.9, \n",
    "                                    mutation_scale=15), \n",
    "                    annotation_clip=False, zorder=15)\n",
    "\n",
    "# draw outer boundery\n",
    "ax.plot(x4B[0, :nB] + xOffset - tOffset[0], x4B[1, :nB], color=grid_col_tilt_z2, \n",
    "        lw=0.9, alpha=0.5, clip_on=False, zorder=2) # top\n",
    "ax.plot(x4B[0, -nB::] + xOffset - tOffset[0], x4B[1, -nB::], color=grid_col_tilt_z2, \n",
    "        lw=0.9, alpha=0.5, clip_on=False, zorder=2) # bottom\n",
    "ax.plot(x4B[0, nB-1::nB] + xOffset - tOffset[0], x4B[1, nB-1::nB], color=grid_col_tilt_z2, \n",
    "        clip_on=False, alpha=0.9, lw=1.0, zorder=2) # left side\n",
    "ax.plot(x4B[0, ::nB] + xOffset - tOffset[0], x4B[1, ::nB], color=grid_col_tilt_z2, \n",
    "        lw=1.0, alpha=0.9, clip_on=False, zorder=2) # right side\n",
    "        \n",
    "if COMPARE_PIVOT_OFFSET:\n",
    "    # displacement vector\n",
    "    ax.annotate(\"\", xy=(np.sum(x4[0, :]/n**2) + xOffset, np.sum(x4[1, :]/n**2) + yOffset), \n",
    "                   xytext=(np.sum(x3[0, :]/n**2) + xOffset, np.sum(x3[1, :]/n**2) + yOffset),\n",
    "                 arrowprops=dict(fc='#e64d8a', ec='#222222', linewidth=0.5, headwidth=15, width=7, alpha=0.9),\n",
    "                        annotation_clip=False, zorder=16) \n",
    "##\n",
    "if COMPARE_PIVOT_OFFSET:\n",
    "    ax.set_xlim(-11, 11)\n",
    "    ax.set_ylim(-6, 10)\n",
    "else:\n",
    "    ax.set_xlim(-9, 11)\n",
    "    ax.set_ylim(-6, 8)\n",
    "\n",
    "    ax.set_aspect('equal')\n",
    "#ax.axis('tight')\n",
    "ax.set_ylabel(r'$\\'{\\bf{y}} \\,\\it{(mm)}$', fontsize=15.5, color='#333333', labelpad=-10)\n",
    "ax.set_xlabel(r'$\\'{\\bf{x}} \\,\\it{(mm)}$', fontsize=15.5, color='#333333', labelpad=-2)\n",
    "\n",
    "ax.xaxis.set_ticks_position('bottom')\n",
    "ax.yaxis.set_ticks_position('left')\n",
    "#ax.grid()\n",
    "\n",
    "# draw center markers\n",
    "ax.axvline(x=xOffset, ymin=0, ymax=0.01, color='#444444')\n",
    "ax.axvline(x=-xOffset, ymin=0, ymax=0.01, color='#444444')\n",
    "ax.axvline(x=xOffset, ymin=0.99, ymax=1, color='#444444')\n",
    "ax.axvline(x=-xOffset, ymin=0.99, ymax=1, color='#444444')\n",
    "\n",
    "ax.axhline(y=yOffset, xmin=0, xmax=0.01, color='#444444')\n",
    "ax.axhline(y=yOffset, xmin=0.99, xmax=1, color='#444444')\n",
    "\n",
    "txt1 = r'$m_p ={}$'.format(mp)\n",
    "txt2 = r'$\\alpha_{{x}} ={}^o, \\, \\alpha_{{y}} ={}^o$'.format(thetaXLens, thetaYLens)   \n",
    "txt3 = r'$\\beta_{{x}} ={}^o, \\, \\beta_{{y}} ={}^o$'.format(thetaXImage, thetaYImage) \n",
    "txt4 = r'$\\rm{{ENPP}}\\,\\,\\rm{{to}}\\,\\,\\rm{{lens}}\\,\\,\\rm{{pivot}} =  {} \\,\\it{{mm}}$'.format(de)\n",
    "txt5 = r'$\\rm{Centroid}\\,\\, \\rm{translations} \\,\\, \\rm{(x,}\\, \\rm{y):}$'\n",
    "s1, s2 = '{: .4f}'.format(cmDisplaceZ2x), '{: .4f}'.format(cmDisplaceZ2y)\n",
    "txt6 = r'$({},\\, {})$'.format(s1, s2)\n",
    "s1, s2 = '{: .4f}'.format(cmDisplaceZ1x), '{: .4f}'.format(cmDisplaceZ1y)\n",
    "txt7 = r'$({},\\, {})$'.format(s1, s2)\n",
    "txt8 = r'$\\bf{{\\Delta_x = {: .4f}\\,\\it{{mm}}}}$'.format(cmDisplaceZ2x - cmDisplaceZ1x)\n",
    "txt9 = r'$\\bf{{\\Delta_y = {: .4f}\\,\\it{{mm}}}}$'.format(cmDisplaceZ2y - cmDisplaceZ1y)\n",
    "\n",
    "\n",
    "# at top right (outside the axes)\n",
    "\n",
    "txtOff = -0.31 if SHOW_COMMON_LEGEND else 0\n",
    "transArrowLegOff = 0 if SHOW_COMMON_LEGEND else 0.0899\n",
    "\n",
    "if not COMPARE_PIVOT_OFFSET:\n",
    "    fig.text(0.86, 0.86 + txtOff, txt1, fontsize=18, color='#D13A3D')\n",
    "    fig.text(0.86, 0.80 + txtOff, txt2, fontsize=18, color='#333333')\n",
    "    fig.text(0.86, 0.74 + txtOff, txt3, fontsize=18, color='#333333')\n",
    "    fig.text(0.86, 0.68 + txtOff, txt4, fontsize=18, color='#333333')\n",
    "else:\n",
    "    fig.text(0.86, 0.86 + txtOff, txt1, fontsize=18, color='#000000')\n",
    "    fig.text(0.86, 0.80 + txtOff, txt2, fontsize=18, color='#333333')\n",
    "    fig.text(0.86, 0.74 + txtOff, txt3, fontsize=18, color='#D13A3D')\n",
    "    fig.text(0.86, 0.68 + txtOff, txt4, fontsize=18, color='#D13A3D')\n",
    "    fig.text(0.86, 0.62 + txtOff, txt5, fontsize=18, color='#333333')\n",
    "    fig.text(0.91, 0.566 + txtOff, txt6, fontsize=17.5, color='#333333')\n",
    "    fig.text(0.91, 0.499 + txtOff, txt7, fontsize=17.5, color='#333333')\n",
    "    ax.annotate(\"\", xy=(1.12, 0.495 + txtOff + transArrowLegOff), xycoords=ax.transAxes, \n",
    "                xytext=(1.06, 0.495 + txtOff + transArrowLegOff), textcoords=ax.transAxes,\n",
    "                arrowprops=dict(fc='#e64d8a', ec='#222222', linewidth=0.5, headwidth=15, \n",
    "                                width=7, alpha=0.9,),      \n",
    "                annotation_clip=False, zorder=12)\n",
    "    ax.annotate(\"\", xy=(1.12, 0.409 + txtOff + transArrowLegOff), xycoords=ax.transAxes, \n",
    "                xytext=(1.06, 0.409 + txtOff + transArrowLegOff), textcoords=ax.transAxes,\n",
    "                arrowprops=dict(fc='#68B04F', ec='#222222', linewidth=0.5, headwidth=15,\n",
    "                                width=7, alpha=0.9),      \n",
    "                annotation_clip=False, zorder=12)\n",
    "    fig.text(0.91, 0.43 + txtOff, txt8, fontsize=17.5, color='#D13A3D')\n",
    "    fig.text(0.91, 0.38 + txtOff, txt9, fontsize=17.5, color='#D13A3D')\n",
    "    \n",
    "# Legend\n",
    "#r'$\\rm{{Frontoparallel}} \\,;\\,\\,  z_o={}\\, \\it{{mm}}$'\n",
    "if SHOW_COMMON_LEGEND:\n",
    "    t = 0 if COMPARE_PIVOT_OFFSET else -0.022  # adjustment required because xlims are not exactly the same\n",
    "    ax.annotate(r'$\\rm{Translation}\\,\\, \\rm{(darker}\\,\\,\\rm{is}\\,\\,\\rm{larger)}$', \n",
    "                xy=(1.035 + t, 0.65), xycoords='axes fraction',\n",
    "                xytext=(1.082 + t, 0.65), textcoords='axes fraction', \n",
    "                arrowprops=dict(arrowstyle='<-', color= '0.2', linewidth=0.9, mutation_scale=15), \n",
    "                va='center', annotation_clip=False, fontsize=16.5, zorder=15)\n",
    "\n",
    "    ax.legend(fontsize=16.5, scatterpoints=1, markerscale=1.12, scatteryoffsets=[0.5],\n",
    "              ncol=1, loc='upper right', bbox_to_anchor=(1.287, 0.945), labelspacing=0.14,\n",
    "              bbox_transform=fig.transFigure, handletextpad=0.35, handlelength=0.5)\n",
    "\n",
    "# Save the figure\n",
    "#saveFigure(fig, 'distortion_grid_33.png')\n",
    "#saveFigure(fig, 'centroid_translations_3.png')\n",
    "\n",
    "plt.show()"
   ]
  },
  {
   "cell_type": "markdown",
   "metadata": {},
   "source": [
    "\n",
    "Link: [Start of Plot 1 code](#Plots:-Type-1)\n",
    "\n",
    "Link: [Start of Type 2, plot 1](#Plots:-Type-2)\n",
    "\n",
    "Link: [Start of Type 2, plot 2](#Closer-look-at-the-shift-of-image-points)"
   ]
  },
  {
   "cell_type": "code",
   "execution_count": null,
   "metadata": {
    "collapsed": false
   },
   "outputs": [],
   "source": []
  },
  {
   "cell_type": "code",
   "execution_count": 68,
   "metadata": {
    "collapsed": false
   },
   "outputs": [],
   "source": []
  },
  {
   "cell_type": "markdown",
   "metadata": {
    "collapsed": false
   },
   "source": [
    "#### Plots: Type 2"
   ]
  },
  {
   "cell_type": "code",
   "execution_count": 31,
   "metadata": {
    "collapsed": false
   },
   "outputs": [
    {
     "data": {
      "image/png": "[encoded data removed]",
      "text/plain": [
       "<matplotlib.figure.Figure at 0xbc32da0>"
      ]
     },
     "metadata": {},
     "output_type": "display_data"
    }
   ],
   "source": [
    "# *****************************\n",
    "#       PLOT SETTINGS\n",
    "# ****************************\n",
    "# Set optical system\n",
    "OPTICAL_SYSTEM = 1             # mp(1)=0.55 , mp(2)=1.0 or mp(not(1,2))=2.0\n",
    "PIVOT_OFFSET = 0               # 0 or 5 mm from the ENPP (actual offset is -5)\n",
    "TILT_UNOFFSET = False\n",
    "SHOW_CENTROID_TRANS_ARROW = True    \n",
    "DARK = True                    # theme is \"dark\" back ground or white\n",
    "NEAR_FAR_X_OFFSET = 5\n",
    "NEAR_FAR_Y_OFFSET = 0\n",
    "# ******************************\n",
    "\n",
    "# configurations:\n",
    "thetaXLens, thetaYLens, thetaXImage, thetaYImage =  0, 0, 10, 20\n",
    "#thetaXLens, thetaYLens, thetaXImage, thetaYImage =  10, 3, 0, 0\n",
    "#thetaXLens, thetaYLens, thetaXImage, thetaYImage =  5, 0, 20, 0 \n",
    "#thetaXLens, thetaYLens, thetaXImage, thetaYImage =  0, 0, 0, 0\n",
    "\n",
    "assert PIVOT_OFFSET in (0, 5)\n",
    "\n",
    "f = 24.0 # focal length\n",
    "if OPTICAL_SYSTEM == 1: # mp = 0.550000000\n",
    "    # Optical System 1\n",
    "    de = -5.0 if PIVOT_OFFSET else 0.0\n",
    "    deDash = -21.8363636 if PIVOT_OFFSET else -16.8363636\n",
    "    zoDash = -7.4656319 if PIVOT_OFFSET else -2.4656319\n",
    "    mp = 0.55\n",
    "elif OPTICAL_SYSTEM == 2: # mp = 1.0\n",
    "    # Optical System 2\n",
    "    de = -5.0 if PIVOT_OFFSET else 0.0\n",
    "    deDash = -13.0 if PIVOT_OFFSET else -8.0\n",
    "    zoDash = 12.1707317 if PIVOT_OFFSET else 17.1707317\n",
    "    mp = 1.0\n",
    "else: # mp = 2.0\n",
    "    # Optical System 3\n",
    "    de = -5.0 if PIVOT_OFFSET else 0.0\n",
    "    deDash = -25.0 if PIVOT_OFFSET else -20.0\n",
    "    zoDash = 24.1707317 if PIVOT_OFFSET else 29.1707317\n",
    "    mp = 2.0\n",
    "\n",
    "\n",
    "# COMPUTATIONS\n",
    "# ############\n",
    "\n",
    "n = 7   # THIS NUMBER SHOULD BE ODD, in order to have the on-axis point (0,0)\n",
    "nx = np.linspace(-1, 1, n)\n",
    "hx, hy = np.meshgrid(nx, nx)\n",
    "yDashNearMax = 4.3  # determines the extent of the image for near plane\n",
    "\n",
    "# points for the near plane\n",
    "# -------------------------\n",
    "zeDash = zoDash - deDash\n",
    "ze = -gm.pupil_centric_lens_formula(u=None, v=zeDash, f=f, mp=mp).u\n",
    "yNearMax = abs(mp*(ze/zeDash)*yDashNearMax)\n",
    "\n",
    "zNear = ze + de # ze = zo - de, where zo is zNear i.e object distance from pivot/coordinate origin\n",
    "\n",
    "# points @ object plane Z1\n",
    "XNear = np.vstack((yNearMax*hx.reshape(1, n**2), \n",
    "                   yNearMax*hy.reshape(1, n**2), \n",
    "                   zNear*np.ones((1, n**2))))\n",
    "\n",
    "# image points for zero tilts @ object plane Z1\n",
    "x1 = get_image_coordinates_v2(XNear, 0, 0, 0, 0, mp, zoDash, de, deDash)\n",
    "\n",
    "# image points for finite tilts @ object plane Z1\n",
    "x2 = get_image_coordinates_v2(XNear, thetaXLens, thetaYLens, thetaXImage, thetaYImage, mp, zoDash, de, deDash)\n",
    "\n",
    "\n",
    "# points for far plane\n",
    "# --------------------\n",
    "\n",
    "# Let the height of the image of the grid of points from the far plane be \n",
    "# equal to height of grid of points image from the near plane \n",
    "\n",
    "yDashFarMax = abs(x1[0, 0])  # determines the extent of the image for the far plane \n",
    "\n",
    "# What should be the object distance, zFar, if the object height is the double\n",
    "# Since this plane is not in geometrical focus, we can't use the function\n",
    "# get_image_coordinates(); so we use magnification relationship\n",
    "yFarMax = 2*yNearMax\n",
    "mt = -yDashFarMax/yFarMax  # transverse magnification\n",
    "ze = zeDash/(mp*mt)\n",
    "zFar = ze + de # ze = zo + de where zo is zNear i.e object distance from pivot/coordinate origin\n",
    "\n",
    "XFar = np.vstack((yFarMax*hx.reshape(1, n**2), \n",
    "                  yFarMax*hy.reshape(1, n**2), \n",
    "                  zFar*np.ones((1, n**2))))\n",
    "\n",
    "# image points for zero tilts @ object plane Z2\n",
    "x3 = get_image_coordinates_v2(XFar, 0, 0, 0, 0, mp, zoDash, de, deDash)\n",
    "\n",
    "# image points for finite tilts @ object plane Z2\n",
    "x4 = get_image_coordinates_v2(XFar, thetaXLens, thetaYLens, thetaXImage, thetaYImage, mp, zoDash, de, deDash)\n",
    "\n",
    "# compensation for tilt offset\n",
    "tOffset = x2[:2, n**2 // 2] - x1[:2, n**2 // 2] if TILT_UNOFFSET else np.array([0, 0]) \n",
    "#tOffset = x4[:2, n**2 // 2] - x3[:2, n**2 // 2] if TILT_UNOFFSET else np.array([0, 0]) \n",
    "\n",
    "# displacement of center of mass of block @ Z1\n",
    "cmDisplaceZ1x = np.sum(x2[0, :]/n**2) - np.sum(x1[0, :]/n**2)\n",
    "cmDisplaceZ1y = np.sum(x2[1, :]/n**2) - np.sum(x1[1, :]/n**2)\n",
    "\n",
    "# displacement of center of mass of block @ Z2\n",
    "cmDisplaceZ2x = np.sum(x4[0, :]/n**2) - np.sum(x3[0, :]/n**2)\n",
    "cmDisplaceZ2y = np.sum(x4[1, :]/n**2) - np.sum(x3[1, :]/n**2)\n",
    "\n",
    "#print('CM displace @ Z1 = ({:5f}, {:5f})'.format(cmDisplaceZ1x, cmDisplaceZ1y))\n",
    "#print('CM displace @ Z2 = ({:5f}, {:5f})'.format(cmDisplaceZ2x, cmDisplaceZ2y))\n",
    "\n",
    "# FIGURE\n",
    "# ######\n",
    "figBGCol = '#343434' if DARK else '#FFFFFF'\n",
    "#figBGCol = '#444444' if DARK else '#FFFFFF'\n",
    "#figBGCol = '#0576ED' if DARK else '#FFFFFF'   # Fun theme .... to try later\n",
    "\n",
    "#fig, ax = plt.subplots(1, 1, figsize=(8.4, 5), dpi=200, facecolor=figBGCol)\n",
    "fig, ax = plt.subplots(1, 1, figsize=(8.45, 5.), dpi=120) \n",
    "ax.set_axis_bgcolor(figBGCol)\n",
    "\n",
    "# Scatter plots' marker colors coding\n",
    "mcols = ['#FFB796', '#FF5500', '#7CD9FF', '#00B4FF']   # orange and blue\n",
    "#mcols = ['#FF84A9', '#FF3F7A', '#7CD9FF', '#00B4FF']    # deep pink and blue\n",
    "\n",
    "# Color for the arrows comparing the centroid displacement\n",
    "#centDispArrCol = ['#68B04F', '#e64d8a']   # Near, Far # Green, Magenta \n",
    "centDispArrCol = ['#43E081', '#F7F700']   # Near, Far : Green, yellow\n",
    "\n",
    "\n",
    "def get_v12NormMin_v12NormMax(a, b):\n",
    "    \"\"\"returns the min, max and standard deviation of the displacement vector lengths\n",
    "    \n",
    "    here 'norm' just means 2-norm or 'length' \n",
    "    \n",
    "    @param a: ndarray of \"from\" points \n",
    "    @param b: ndarray of \"to\" points\n",
    "    \"\"\"\n",
    "    v1 = np.hstack((a[0,:].reshape(n**2, 1), a[1,:].reshape(n**2, 1)))\n",
    "    v2 = np.hstack((b[0,:].reshape(n**2, 1), b[1,:].reshape(n**2, 1)))\n",
    "    v12Norm = np.linalg.norm(v2-v1, axis=1)\n",
    "    return np.min(v12Norm), np.max(v12Norm), np.std(v12Norm)\n",
    "\n",
    "def get_gray_level(vNorm, v12NormMin, v12NormMax):\n",
    "    \"\"\"\n",
    "    Notes:\n",
    "    where is vNorm in the scale between v12NormMin and v12NormMax?\n",
    "    we can write: v12NormMin * (1 - a) + v12NormMax * a = vNorm\n",
    "    Furthermore,\n",
    "    if gl1 and gl2 are two gray levels (gl1 < gl2) and 0 <= gl1, gl2 <= 1\n",
    "    gl = a * (gl2 - gl1) + gl1\n",
    "    However, since we want darker shade to represent larger norm value,\n",
    "    we return 1 - gl\n",
    "    \"\"\"\n",
    "    global DARK\n",
    "    deno = v12NormMax - v12NormMin\n",
    "    a = (vNorm - v12NormMin)/deno if deno else 0.0\n",
    "    gl1, gl2 = 0.4, 1.0\n",
    "    gl = a * (gl2 - gl1) + gl1\n",
    "    if DARK:\n",
    "        return gl\n",
    "    else:\n",
    "        return 1.0 - gl\n",
    "\n",
    "# Find the minimum and maximum arrow lengths \n",
    "arrNearMin, arrNearMax, arrNearStd = get_v12NormMin_v12NormMax(x1, x2)\n",
    "arrFarMin, arrFarMax, arrFarStd = get_v12NormMin_v12NormMax(x3, x4)\n",
    "minArrowLen, maxArrowLen = min(arrNearMin, arrFarMin), max(arrNearMax, arrFarMax)  \n",
    "\n",
    "# Object plane at Z1\n",
    "# ------------------\n",
    "# displace plot for Z1 and Z2\n",
    "xOffset, yOffset = NEAR_FAR_X_OFFSET, NEAR_FAR_Y_OFFSET\n",
    "\n",
    "if xOffset:\n",
    "    ax.text(xOffset-1.15, -5.5, 'NEAR', color='#888888', alpha=0.45, fontsize=14, fontweight='bold', zorder=1)\n",
    "else:\n",
    "    ax.text(-2.7, -5.5, 'NEAR & FAR', color='#888888', alpha=0.45, fontsize=14, fontweight='bold', zorder=1)\n",
    "\n",
    "#ax.scatter(x1[0, :] + xOffset, x1[1, :] + yOffset, marker='o', s=28, \n",
    "#           facecolor=mcols[0], edgecolor='k', lw=0.4, alpha=1.0, zorder=13,\n",
    "#           label=r'$\\rm{{Frontoparallel}} \\,;\\,\\,  z_o={{{:.1f}}}\\, \\it{{mm}}$'.format(zNear))#\n",
    "\n",
    "ax.scatter(x1[0, :] + xOffset, x1[1, :] + yOffset, marker='1', s=65, \n",
    "           facecolor='k', lw=2.1, alpha=1.0, zorder=13)\n",
    "ax.scatter(x1[0, :] + xOffset, x1[1, :] + yOffset, marker='1', s=65, \n",
    "           facecolor=mcols[0], lw=1.7, alpha=1.0, zorder=13,\n",
    "           label=r'$\\rm{{Frontoparallel}} \\,;\\,\\,  z_o={{{:.1f}}}\\, \\it{{mm}}$'.format(zNear))\n",
    "\n",
    "# shade region to show the span of the grid of points\n",
    "for i in range(n-1):\n",
    "    plt.fill_between(x=x1[0, i*n:(i+1)*n] + xOffset, \n",
    "                     y1=x1[1, i*n:(i+1)*n] + yOffset, \n",
    "                     y2=x1[1, (i+1)*n:(i+2)*n] + yOffset, \n",
    "                     alpha=0.1, facecolor=mcols[0], edgecolor='none', zorder=2)\n",
    "\n",
    "# grid to show the undistorted shape of points\n",
    "xGridPts = x1[0, :][:n] + xOffset\n",
    "yGridPts = x1[1, :][::n] + yOffset\n",
    "ax.vlines(xGridPts, ymin=min(yGridPts), ymax=max(yGridPts), zorder=2, colors=mcols[0], \n",
    "          lw=0.8, alpha=0.6)\n",
    "ax.hlines(yGridPts, xmin=min(xGridPts), xmax=max(xGridPts), zorder=2, colors=mcols[0], \n",
    "          lw=0.8, alpha=0.6)\n",
    "\n",
    "# finite tilts\n",
    "#ax.scatter(x2[0, :] + xOffset - tOffset[0], x2[1, :] + yOffset - tOffset[1], \n",
    "#           marker='o', s=28, facecolor=mcols[1], edgecolor='k', \n",
    "#           lw=0.4, alpha=1.0, zorder=13, clip_on=False, \n",
    "#           label=r'$\\rm{{Tilted}} \\,;\\,\\, z_o={{{:.1f}}}\\, \\it{{mm}}$'.format(zNear))\n",
    "\n",
    "ax.scatter(x2[0, :] + xOffset - tOffset[0], x2[1, :] + yOffset - tOffset[1], \n",
    "           marker='1', s=65, facecolor='k', lw=2.1, alpha=1.0, zorder=13, clip_on=False)\n",
    "ax.scatter(x2[0, :] + xOffset - tOffset[0], x2[1, :] + yOffset - tOffset[1], \n",
    "           marker='1', s=65, facecolor=mcols[1], lw=1.7, alpha=1.0, zorder=13, clip_on=False, \n",
    "           label=r'$\\rm{{Tilted}} \\,;\\,\\, z_o={{{:.1f}}}\\, \\it{{mm}}$'.format(zNear))\n",
    "\n",
    "# shade region to show the span of the grid of points\n",
    "for i in range(n-1):\n",
    "    x_row1 = x2[0, i*n:(i+1)*n] + xOffset\n",
    "    x_row2 = x2[0, (i+1)*n:(i+2)*n] + xOffset\n",
    "    y_row1 = x2[1, i*n:(i+1)*n] + yOffset\n",
    "    y_row2 = x2[1, (i+1)*n:(i+2)*n] + yOffset\n",
    "    # we need to reverse the order of points from the second row\n",
    "    # so that the order of points (at the transition between rows) \n",
    "    # is circular and not zig-zag\n",
    "    x_pts = np.concatenate((x_row1, x_row2[::-1]))\n",
    "    y_pts = np.concatenate((y_row1, y_row2[::-1]))\n",
    "    k = np.hstack((x_pts[:, np.newaxis], y_pts[:, np.newaxis]))\n",
    "    patch = mpatches.Polygon(xy=k, closed=True, facecolor=mcols[1], \n",
    "                             edgecolor='none', alpha=0.1, zorder=3, clip_on=False)\n",
    "    ax.add_patch(patch)\n",
    "\n",
    "# arrows to indicate displacements of points\n",
    "#minArrowLen, maxArrowLen = get_v12NormMin_v12NormMax(x1, x2)\n",
    "for i in range(x1.shape[1]):\n",
    "    arrLength = np.sqrt((x2[0, i] - x1[0, i])**2 +  (x2[1, i] - x1[1, i])**2)\n",
    "    arrStyle = \"->\" if arrLength > 0.25 else \"-\"\n",
    "    arrCol = '{}'.format(get_gray_level(arrLength, minArrowLen, maxArrowLen))\n",
    "    ax.annotate(\"\", \n",
    "                xy=(x2[0, i] + xOffset, x2[1, i] + yOffset), \n",
    "                xytext=(x1[0, i] + xOffset, x1[1, i] + yOffset),\n",
    "                arrowprops=dict(arrowstyle=arrStyle, color=arrCol, linewidth=0.9, \n",
    "                                mutation_scale=8), \n",
    "                annotation_clip=False, zorder=15)\n",
    "    \n",
    "# draw outer boundery\n",
    "ax.plot(x2[0, :n] + xOffset - tOffset[0], x2[1, :n], color=mcols[1], \n",
    "        lw=0.9, zorder=2, alpha=0.5, clip_on=False) # top\n",
    "ax.plot(x2[0, -n::] + xOffset - tOffset[0], x2[1, -n::], color=mcols[1], \n",
    "        lw=0.9, zorder=2, alpha=0.5,  clip_on=False) # bottom\n",
    "ax.plot(x2[0, n-1::n] + xOffset - tOffset[0], x2[1, n-1::n], color=mcols[1], \n",
    "        lw=1.0, zorder=2, alpha=0.9,  clip_on=False) # left side\n",
    "ax.plot(x2[0, ::n] + xOffset - tOffset[0], x2[1, ::n], color=mcols[1], \n",
    "        lw=1.0, zorder=2, alpha=0.9,  clip_on=False) # right side\n",
    "\n",
    "if SHOW_CENTROID_TRANS_ARROW:\n",
    "    # displacement vector of the centroid\n",
    "    ax.annotate(\"\", xy=(np.sum(x2[0, :]/n**2) + xOffset, np.sum(x2[1, :]/n**2) + yOffset), \n",
    "                xytext=(np.sum(x1[0, :]/n**2) + xOffset, np.sum(x1[1, :]/n**2) + yOffset),\n",
    "                arrowprops=dict(fc=centDispArrCol[0], ec='#222222', linewidth=0.5, headwidth=12, \n",
    "                                width=6, alpha=0.9),\n",
    "                annotation_clip=False, zorder=16)   \n",
    "\n",
    "# Object plane at Z2\n",
    "# ------------------\n",
    "xOffset, yOffset = -NEAR_FAR_X_OFFSET, -NEAR_FAR_Y_OFFSET\n",
    "\n",
    "if xOffset:\n",
    "    ax.text(xOffset-0.8, -5.5, 'FAR', color='#888888', alpha=0.45, fontsize=14, fontweight='bold', zorder=1)\n",
    "\n",
    "ax.scatter(x3[0, :] + xOffset, x3[1, :] + yOffset, marker='2', s=60, \n",
    "           color='k', lw=2.1, alpha=1.0, zorder=12)\n",
    "ax.scatter(x3[0, :] + xOffset, x3[1, :] + yOffset, marker='2', s=60, \n",
    "           color=mcols[2], lw=1.7, alpha=1.0, zorder=12,\n",
    "           label=r'$\\rm{{Frontoparallel}} \\,;\\, \\, z_o={{{:.1f}}}\\,\\it{{mm}}$'.format(zFar))\n",
    "\n",
    "# shade region to show the span of the grid of points\n",
    "for i in range(n-1):\n",
    "    plt.fill_between(x=x3[0, i*n:(i+1)*n] + xOffset, \n",
    "                     y1=x3[1, i*n:(i+1)*n] + yOffset, \n",
    "                     y2=x3[1, (i+1)*n:(i+2)*n] + yOffset, \n",
    "                     alpha=0.1, facecolor=mcols[2], edgecolor='none', zorder=2)\n",
    "\n",
    "# grid to show the undistorted shape of points\n",
    "xGridPts = x3[0, :][:n] + xOffset\n",
    "yGridPts = x3[1, :][::n] + yOffset\n",
    "ax.vlines(xGridPts, ymin=min(yGridPts), ymax=max(yGridPts), zorder=2, colors=mcols[2], \n",
    "          lw=0.8, alpha=0.6)\n",
    "ax.hlines(yGridPts, xmin=min(xGridPts), xmax=max(xGridPts), zorder=2, colors=mcols[2], \n",
    "          lw=0.8, alpha=0.6)\n",
    "\n",
    "# finite tilts\n",
    "ax.scatter(x4[0, :] + xOffset - tOffset[0], x4[1, :] + yOffset - tOffset[1], \n",
    "           marker='2', s=60, color='k', lw=2.1, alpha=1.0, clip_on=False, zorder=12,)\n",
    "ax.scatter(x4[0, :] + xOffset - tOffset[0], x4[1, :] + yOffset - tOffset[1], \n",
    "           marker='2', s=60, color=mcols[3], lw=1.7, alpha=1.0, clip_on=False, zorder=12, \n",
    "           label=r'$\\rm{{Tilted}} \\,;\\,\\, z_o={{{:.1f}}}\\, \\it{{mm}}$'.format(zFar))\n",
    "\n",
    "# shade region to show the span of the grid of points\n",
    "for i in range(n-1):\n",
    "    x_row1 = x4[0, i*n:(i+1)*n] + xOffset\n",
    "    x_row2 = x4[0, (i+1)*n:(i+2)*n] + xOffset\n",
    "    y_row1 = x4[1, i*n:(i+1)*n] + yOffset\n",
    "    y_row2 = x4[1, (i+1)*n:(i+2)*n] + yOffset\n",
    "    # we need to reverse the order of points from the second row\n",
    "    # so that the order of points (at the transition between rows) \n",
    "    # is circular and not zig-zag\n",
    "    x_pts = np.concatenate((x_row1, x_row2[::-1]))\n",
    "    y_pts = np.concatenate((y_row1, y_row2[::-1]))\n",
    "    k = np.hstack((x_pts[:, np.newaxis], y_pts[:, np.newaxis]))\n",
    "    patch = mpatches.Polygon(xy=k, closed=True, facecolor=mcols[3], \n",
    "                             edgecolor='none', alpha=0.1, zorder=3, clip_on=False)\n",
    "    ax.add_patch(patch)\n",
    "\n",
    "# arrows to indicate displacements of points\n",
    "#minArrowLen, maxArrowLen = get_v12NormMin_v12NormMax(x3, x4)\n",
    "for i in range(x1.shape[1]):\n",
    "    arrLength = np.sqrt((x4[0, i] - x3[0, i])**2 +  (x4[1, i] - x3[1, i])**2)\n",
    "    arrStyle = \"->\" if arrLength > 0.25 else \"-\"\n",
    "    arrCol = '{}'.format(get_gray_level(arrLength, minArrowLen, maxArrowLen))\n",
    "    ax.annotate(\"\", \n",
    "                xy=(x4[0, i] + xOffset, x4[1, i] + yOffset), \n",
    "                xytext=(x3[0, i] + xOffset, x3[1, i] + yOffset),\n",
    "                arrowprops=dict(arrowstyle=arrStyle, color= arrCol, linewidth=0.9, \n",
    "                                mutation_scale=8), \n",
    "                annotation_clip=False, zorder=10)\n",
    "\n",
    "# draw outer boundery\n",
    "ax.plot(x4[0, :n] + xOffset - tOffset[0], x4[1, :n], color=mcols[3], \n",
    "        lw=0.9, alpha=0.5, clip_on=False, zorder=2) # top\n",
    "ax.plot(x4[0, -n::] + xOffset - tOffset[0], x4[1, -n::], color=mcols[3], \n",
    "        lw=0.9, alpha=0.5, clip_on=False, zorder=2) # bottom\n",
    "ax.plot(x4[0, n-1::n] + xOffset - tOffset[0], x4[1, n-1::n], color=mcols[3], \n",
    "        clip_on=False, alpha=0.9, lw=1.0, zorder=2) # left side\n",
    "ax.plot(x4[0, ::n] + xOffset - tOffset[0], x4[1, ::n], color=mcols[3], \n",
    "        lw=1.0, alpha=0.9, clip_on=False, zorder=2) # right side\n",
    "\n",
    "if SHOW_CENTROID_TRANS_ARROW:\n",
    "    # displacement vector\n",
    "    ax.annotate(\"\", xy=(np.sum(x4[0, :]/n**2) + xOffset, np.sum(x4[1, :]/n**2) + yOffset), \n",
    "                   xytext=(np.sum(x3[0, :]/n**2) + xOffset, np.sum(x3[1, :]/n**2) + yOffset),\n",
    "                 arrowprops=dict(fc=centDispArrCol[1], ec='#222222', linewidth=0.5, headwidth=12, \n",
    "                                 width=6, alpha=0.9),\n",
    "                        annotation_clip=False, zorder=16) \n",
    "\n",
    "ax.set_xlim(-11.5, 11.5)\n",
    "ax.set_ylim(-6, 10)\n",
    "ax.set_aspect('equal')\n",
    "\n",
    "ax.set_ylabel(r'$\\'{\\bf{y}} \\,\\it{(mm)}$', fontsize=15.5, color='#333333', labelpad=-10)\n",
    "ax.set_xlabel(r'$\\'{\\bf{x}} \\,\\it{(mm)}$', fontsize=15.5, color='#333333', labelpad=-2)\n",
    "\n",
    "ax.xaxis.set_ticks_position('bottom')\n",
    "ax.yaxis.set_ticks_position('left')\n",
    "#ax.grid()\n",
    "\n",
    "# draw center markers\n",
    "ctrMCol = '#BBBBBB' if DARK else '#444444'\n",
    "#ctrMCol = '#DDDD44' if DARK else '#444444'\n",
    "ax.axvline(x=xOffset, ymin=0, ymax=0.02, lw=1.5, color=ctrMCol)\n",
    "ax.axvline(x=-xOffset, ymin=0, ymax=0.02, lw=1.5, color=ctrMCol)\n",
    "ax.axvline(x=xOffset, ymin=0.98, ymax=1, lw=1.5, color=ctrMCol)\n",
    "ax.axvline(x=-xOffset, ymin=0.98, ymax=1, lw=1.5, color=ctrMCol)\n",
    "\n",
    "ax.axhline(y=yOffset, xmin=0, xmax=0.01, lw=1.5, color=ctrMCol)\n",
    "ax.axhline(y=yOffset, xmin=0.99, xmax=1, lw=1.5, color=ctrMCol)\n",
    "\n",
    "txt1 = r'$m_p ={}$'.format(mp)\n",
    "txt2 = r'$\\alpha_{{x}} ={}^o, \\, \\alpha_{{y}} ={}^o$'.format(thetaXLens, thetaYLens)   \n",
    "txt3 = r'$\\beta_{{x}} ={}^o, \\, \\beta_{{y}} ={}^o$'.format(thetaXImage, thetaYImage) \n",
    "txt4 = r'$\\rm{{ENPP}}\\,\\,\\rm{{to}}\\,\\,\\rm{{lens}}\\,\\,\\rm{{pivot}} =  {} \\,\\it{{mm}}$'.format(de)\n",
    "txt5 = r'$\\rm{Centroid}\\,\\, \\rm{translations} \\,\\,  \\bf{t_c}:}$'\n",
    "s1, s2 = '{: .5f}'.format(cmDisplaceZ1x), '{: .5f}'.format(cmDisplaceZ1y)\n",
    "txt6 = r'$\\rm{{Near:}}\\,\\,<{{{}}},\\, {{{}}}>$'.format(s1, s2)\n",
    "s1, s2 = '{: .5f}'.format(cmDisplaceZ2x), '{: .5f}'.format(cmDisplaceZ2y)\n",
    "txt7 = r'$\\rm{{Far:}}\\,\\,\\,<{{{}}},\\, {{{}}}>$'.format(s1, s2)\n",
    "#txt8 = r'$\\bf{{\\Delta_x = {: .4f}\\,\\it{{mm}}}}$'.format(cmDisplaceZ2x - cmDisplaceZ1x)\n",
    "#txt9 = r'$\\bf{{\\Delta_y = {: .4f}\\,\\it{{mm}}}}$'.format(cmDisplaceZ2y - cmDisplaceZ1y)\n",
    "\n",
    "\n",
    "# at top right (outside the axes)\n",
    "\n",
    "txtOff = -0.31  \n",
    "fig.text(0.87, 0.985 + txtOff, ' _________________________________', color='#555555')\n",
    "fig.text(0.87, 0.93 + txtOff, txt1, fontsize=18, color='#333333')\n",
    "fig.text(0.87, 0.88 + txtOff, txt2, fontsize=18, color='#333333')\n",
    "fig.text(0.87, 0.83 + txtOff, txt3, fontsize=18, color='#333333')\n",
    "fig.text(0.87, 0.78 + txtOff, txt4, fontsize=18, color='#333333')\n",
    "\n",
    "if (thetaXLens + thetaYLens + thetaXImage + thetaYImage):\n",
    "    fig.text(0.87, 0.777 + txtOff, ' _________________________________', color='#555555')\n",
    "    legTxt = r'$\\rm{Point}\\,\\,\\rm{translation}\\,\\, \\bf{t_p}\\,\\, \\rm{(thin}\\,\\,\\rm{arrows):}$'\n",
    "    #ax.annotate(legTxt, \n",
    "    #            xy=(1.04, 0.33), xycoords='axes fraction',\n",
    "    #            xytext=(1.087, 0.33), textcoords='axes fraction', \n",
    "    #            arrowprops=dict(arrowstyle='<-', color= '0.45', linewidth=0.9, mutation_scale=15), \n",
    "    #            va='center', annotation_clip=False, fontsize=18, zorder=15)\n",
    "    fig.text(0.87, 0.71 + txtOff, legTxt, fontsize=18, color='#333333')\n",
    "    tpStdTxtNear = r'$\\rm{{Near:}}\\,\\,SD(\\bf{{t_p}})={{{:.5f}}}\\,\\,\\it{{mm}}$'.format(arrNearStd)\n",
    "    tpStdTxtFar =  r'$\\rm{{Far:}}\\,\\,\\,SD(\\bf{{t_p}})={{{:.5f}}}\\,\\,\\it{{mm}}$'.format(arrFarStd)\n",
    "    fig.text(0.89, 0.657 + txtOff, tpStdTxtNear, fontsize=17, color='#333333')\n",
    "    fig.text(0.89, 0.60 + txtOff, tpStdTxtFar, fontsize=17, color='#333333')\n",
    "\n",
    "if SHOW_CENTROID_TRANS_ARROW and (thetaXLens + thetaYLens + thetaXImage + thetaYImage):\n",
    "    fig.text(0.87, 0.594 + txtOff, ' _________________________________', color='#555555')\n",
    "    fig.text(0.87, 0.53 + txtOff, txt5, fontsize=18, color='#333333')\n",
    "    fig.text(0.925, 0.48 + txtOff, txt6, fontsize=17., color='#333333')\n",
    "    fig.text(0.925, 0.43 + txtOff, txt7, fontsize=17., color='#333333')\n",
    "    ax.annotate(\"\", xy=(1.12, 0.39 + txtOff), xycoords=ax.transAxes, \n",
    "                xytext=(1.075, 0.39 + txtOff), textcoords=ax.transAxes,\n",
    "                arrowprops=dict(fc=centDispArrCol[0], ec='#222222', linewidth=0.5, headwidth=12, \n",
    "                                width=6, alpha=0.9,),      \n",
    "                annotation_clip=False, zorder=12)\n",
    "    ax.annotate(\"\", xy=(1.12, 0.328 + txtOff), xycoords=ax.transAxes, \n",
    "                xytext=(1.075, 0.328 + txtOff), textcoords=ax.transAxes,\n",
    "                arrowprops=dict(fc=centDispArrCol[1], ec='#222222', linewidth=0.5, headwidth=12,\n",
    "                                width=6, alpha=0.9),      \n",
    "                annotation_clip=False, zorder=12)\n",
    "    \n",
    "# Legend and other information\n",
    "ax.legend(fontsize=16.5, scatterpoints=1, markerscale=1.12, scatteryoffsets=[0.5],\n",
    "          ncol=1, loc='upper right', bbox_to_anchor=(1.3, 0.945), labelspacing=0.1,\n",
    "          bbox_transform=fig.transFigure, handletextpad=0.38, handlelength=0.2)\n",
    "\n",
    "# Save the figure  \n",
    "#saveFigure(fig, 'distortion_grid_33.png')\n",
    "#saveFigure(fig, 'distortion_grid_setup_2.png')\n",
    "\n",
    "plt.show()"
   ]
  },
  {
   "cell_type": "markdown",
   "metadata": {},
   "source": [
    "[START OF PLOT CODE](#Plots:-Type-2)\n",
    "\n",
    "[Start of Type 1 plot code](#Plots:-Type-1)\n",
    "\n",
    "[Start of Type 2, plot 2](#Closer-look-at-the-shift-of-image-points)"
   ]
  },
  {
   "cell_type": "code",
   "execution_count": 169,
   "metadata": {
    "collapsed": false
   },
   "outputs": [
    {
     "name": "stdout",
     "output_type": "stream",
     "text": [
      "Object heights (mm): 88.1500005509 176.300001102\n"
     ]
    }
   ],
   "source": [
    "print('Object heights (mm):', yNearMax, yFarMax)"
   ]
  },
  {
   "cell_type": "markdown",
   "metadata": {
    "collapsed": false
   },
   "source": [
    "### Closer look at the shift of image points"
   ]
  },
  {
   "cell_type": "markdown",
   "metadata": {
    "collapsed": false
   },
   "source": [
    "The following plot makes use of the data from the previous plot/data. "
   ]
  },
  {
   "cell_type": "code",
   "execution_count": null,
   "metadata": {
    "collapsed": false
   },
   "outputs": [],
   "source": []
  },
  {
   "cell_type": "code",
   "execution_count": null,
   "metadata": {
    "collapsed": false
   },
   "outputs": [],
   "source": []
  },
  {
   "cell_type": "code",
   "execution_count": 26,
   "metadata": {
    "collapsed": false
   },
   "outputs": [
    {
     "name": "stdout",
     "output_type": "stream",
     "text": [
      "figname: C:\\GIT_REPOSITORIES\\phd-artifacts\\chapters\\chapter03_geometricmodel\\code\\images\\parallax_31.png\n"
     ]
    },
    {
     "data": {
      "image/png": "[encoded data removed]",
      "text/plain": [
       "<matplotlib.figure.Figure at 0x9e14208>"
      ]
     },
     "metadata": {},
     "output_type": "display_data"
    }
   ],
   "source": [
    "# FIGURE\n",
    "# ######\n",
    "\n",
    "#fig, ax = plt.subplots(1, 1, figsize=(8.45, 5), dpi=200, facecolor=figBGCol)\n",
    "#fig, (ax1, ax2, ax3) = plt.subplots(3, 1, figsize=(6.5, 4.5), sharex=True, dpi=120)\n",
    "fig = plt.figure(figsize=(6.5, 4.5), dpi=120)\n",
    "ax3 = fig.add_axes([0.1, 0.084, 0.8, 0.289333])\n",
    "ax2 = fig.add_axes([0.1, 0.397333, 0.8, 0.289333])\n",
    "ax1 = fig.add_axes([0.1, 0.710666, 0.8, 0.289333])\n",
    "\n",
    "for ax in [ax1, ax2, ax3]:\n",
    "    ax.set_axis_bgcolor(figBGCol)\n",
    "\n",
    "    # Object plane at Z1\n",
    "    # ------------------\n",
    "    # finite tilts\n",
    "    #line1 = ax.scatter(x2[0, :], x2[1, :], marker='o', s=35, facecolor=mcols[1], edgecolor='k', \n",
    "    #                   lw=0.4, alpha=1.0, zorder=13,)\n",
    "    #label1=r'$\\rm{{Tilted}} \\,;\\,\\, z_o={{{:.1f}}}\\, \\it{{mm}}$'.format(zNear)\n",
    "    \n",
    "    ax.scatter(x2[0, :], x2[1, :], marker='1', s=70, facecolor='k', lw=2.4, alpha=1.0, zorder=13)\n",
    "    line1 = ax.scatter(x2[0, :], x2[1, :], marker='1', s=70, facecolor=mcols[1], lw=2.0, alpha=1.0, zorder=13)\n",
    "    label1 = r'$\\rm{{Tilted}} \\,;\\,\\, z_o={{{:.1f}}}\\, \\it{{mm}}$'.format(zNear)\n",
    "    \n",
    "    # shade region to show the span of the grid of points\n",
    "    for i in range(n-1):\n",
    "        x_row1 = x2[0, i*n:(i+1)*n] \n",
    "        x_row2 = x2[0, (i+1)*n:(i+2)*n] \n",
    "        y_row1 = x2[1, i*n:(i+1)*n] \n",
    "        y_row2 = x2[1, (i+1)*n:(i+2)*n] \n",
    "        # we need to reverse the order of points from the second row\n",
    "        # so that the order of points (at the transition between rows) \n",
    "        # is circular and not zig-zag\n",
    "        x_pts = np.concatenate((x_row1, x_row2[::-1]))\n",
    "        y_pts = np.concatenate((y_row1, y_row2[::-1]))\n",
    "        k = np.hstack((x_pts[:, np.newaxis], y_pts[:, np.newaxis]))\n",
    "        patch = mpatches.Polygon(xy=k, closed=True, facecolor=mcols[1], \n",
    "                                 edgecolor='none', alpha=0.1, zorder=3, clip_on=True)\n",
    "        ax.add_patch(patch)\n",
    "\n",
    "    # draw outer boundery\n",
    "    ax.plot(x2[0, :n], x2[1, :n], color=mcols[1], lw=1.0, zorder=2, alpha=0.8) # top\n",
    "    ax.plot(x2[0, -n::], x2[1, -n::], color=mcols[1], lw=1.0, zorder=2, alpha=0.8) # bottom\n",
    "    ax.plot(x2[0, n-1::n], x2[1, n-1::n], color=mcols[1], lw=1.0, zorder=2, alpha=0.8,) # left side\n",
    "    ax.plot(x2[0, ::n], x2[1, ::n], color=mcols[1], lw=1.0, zorder=2, alpha=0.8) # right side\n",
    "    \n",
    "    # Draw the middle row\n",
    "    for i in [3,]:       # [1,3, 5]:\n",
    "        ax.plot(x2[0, i*n:(i+1)*n], x2[1, i*n:(i+1)*n], color=mcols[1], lw=1.0, zorder=2, alpha=0.8) \n",
    "\n",
    "\n",
    "    # Object plane at Z2\n",
    "    # ------------------\n",
    "    # finite tilts\n",
    "    #line2 = ax.scatter(x4[0, :], x4[1, :], marker='o', s=28, facecolor=mcols[3], edgecolor='k', \n",
    "    #                   lw=0.4, alpha=1.0, clip_on=True, zorder=12, )\n",
    "    #label2 = r'$\\rm{{Tilted}} \\,;\\,\\, z_o={{{:.1f}}}\\, \\it{{mm}}$'.format(zFar)\n",
    "    \n",
    "    ax.scatter(x4[0, :], x4[1, :], marker='2', s=70, color='k', lw=2.5, alpha=1.0, zorder=12)\n",
    "    line2 = ax.scatter(x4[0, :], x4[1, :], marker='2', s=70, color=mcols[3], lw=2.3, alpha=1.0, zorder=12, )\n",
    "    label2 = r'$\\rm{{Tilted}} \\,;\\,\\, z_o={{{:.1f}}}\\, \\it{{mm}}$'.format(zFar)\n",
    "\n",
    "    # shade region to show the span of the grid of points\n",
    "    for i in range(n-1):\n",
    "        x_row1 = x4[0, i*n:(i+1)*n]  \n",
    "        x_row2 = x4[0, (i+1)*n:(i+2)*n]  \n",
    "        y_row1 = x4[1, i*n:(i+1)*n]  \n",
    "        y_row2 = x4[1, (i+1)*n:(i+2)*n]  \n",
    "        # we need to reverse the order of points from the second row\n",
    "        # so that the order of points (at the transition between rows) \n",
    "        # is circular and not zig-zag\n",
    "        x_pts = np.concatenate((x_row1, x_row2[::-1]))\n",
    "        y_pts = np.concatenate((y_row1, y_row2[::-1]))\n",
    "        k = np.hstack((x_pts[:, np.newaxis], y_pts[:, np.newaxis]))\n",
    "        patch = mpatches.Polygon(xy=k, closed=True, facecolor=mcols[3], \n",
    "                                 edgecolor='none', alpha=0.1, zorder=3, clip_on=True)\n",
    "        ax.add_patch(patch)\n",
    "\n",
    "    # draw outer boundery (for the 3 axes)\n",
    "    ax.plot(x4[0, :n], x4[1, :n], color=mcols[3], lw=1.0, alpha=0.8, zorder=1) # top\n",
    "    ax.plot(x4[0, 3*n:4*n], x4[1, 3*n:4*n], color=mcols[3], lw=1.0, alpha=0.8, zorder=1) # middle\n",
    "    ax.plot(x4[0, -n::], x4[1, -n::], color=mcols[3], lw=1.0, alpha=0.8, zorder=1) # bottom\n",
    "    ax.plot(x4[0, n-1::n], x4[1, n-1::n], color=mcols[3], alpha=0.8, lw=1.0, zorder=1) # left side\n",
    "    ax.plot(x4[0, ::n], x4[1, ::n], color=mcols[3], lw=1.0, alpha=0.8, zorder=1) # right side\n",
    "    \n",
    "    ax.axvline(x=0, linestyle='dashed', color='#AAAAAA', lw=1.3, zorder=1, alpha=0.3)\n",
    "\n",
    "ax1.text(0.99, 0.85, 'TOP ROWS', color='#888888', alpha=0.45, fontsize=12, \n",
    "         fontweight='bold', ha='right', zorder=1, transform=ax1.transAxes)\n",
    "ax2.text(0.99, 0.85, 'MIDDLE ROWS', color='#888888', alpha=0.45, fontsize=12, \n",
    "         fontweight='bold', ha='right', zorder=1, transform=ax2.transAxes)\n",
    "ax3.text(0.99, 0.85, 'BOTTOM ROWS', color='#888888', alpha=0.45, fontsize=12, \n",
    "         fontweight='bold', ha='right', zorder=1, transform=ax3.transAxes)\n",
    "\n",
    "# Set y-limits\n",
    "if (thetaXImage >= 20) and (thetaYImage > 0) and (thetaXLens==0) and (thetaYLens==0):\n",
    "    bandHeight = 1.2\n",
    "else:\n",
    "    bandHeight = 0.2\n",
    "  \n",
    "\n",
    "yOffset1 = 0.5*(np.mean(x2[1, 0:n]) + np.mean(x4[1, 0:n])) - bandHeight/2.\n",
    "yOffset2 = 0.5*(np.mean(x2[1, 3*n:4*n]) + np.mean(x4[1, 3*n:4*n])) - bandHeight/2.0\n",
    "yOffset3 = 0.5*(np.mean(x2[1, 6*n:7*n]) + np.mean(x4[1, 6*n:7*n])) - bandHeight/2.0\n",
    "\n",
    "ax1.set_ylim(yOffset1, yOffset1 + bandHeight)\n",
    "ax2.set_ylim(yOffset2, yOffset2 + bandHeight)\n",
    "ax3.set_ylim(yOffset3, yOffset3 + bandHeight)\n",
    "\n",
    "bandWidth = 12\n",
    "xLimMin = np.mean(x2[0, 3*n:4*n])\n",
    "\n",
    "for ax in [ax1, ax2, ax3]:\n",
    "    ax.set_xlim(xLimMin - bandWidth/2., xLimMin + bandWidth/2.) \n",
    "    \n",
    "ylabel = r'$\\'{\\bf{y}} \\,\\it{(mm)}$'\n",
    "xlabel = r'$\\'{\\bf{x}} \\,\\it{(mm)}$'\n",
    "fig.text(-0.025, 0.5, ylabel, rotation='vertical', fontsize=15.5, color='#333333',)\n",
    "fig.text(0.5, -0.015, xlabel, fontsize=15.5, color='#333333',)\n",
    "\n",
    "for l, ax in zip(['(a)', '(b)', '(c)'], [ax1, ax2, ax3]):\n",
    "    ax.text(.944, 0.065, l, fontsize=15, color='#BBBBBB', transform=ax.transAxes)\n",
    "\n",
    "for ax in [ax1, ax2, ax3]:\n",
    "    ax.yaxis.set_ticks_position('left')\n",
    "    ax.xaxis.set_ticks_position('bottom')\n",
    "    ax.yaxis.set_major_locator(plt.MaxNLocator(5))\n",
    "    \n",
    "ax1.xaxis.set_major_formatter(plt.NullFormatter())\n",
    "ax2.xaxis.set_major_formatter(plt.NullFormatter())\n",
    "\n",
    "txt1 = r'$m_p ={}$'.format(mp)\n",
    "txt2 = r'$\\alpha_{{x}} ={}^o, \\, \\alpha_{{y}} ={}^o$'.format(thetaXLens, thetaYLens)   \n",
    "txt3 = r'$\\beta_{{x}} ={}^o, \\, \\beta_{{y}} ={}^o$'.format(thetaXImage, thetaYImage) \n",
    "if de:\n",
    "    txt4 = r'$\\rm{{ENPP}}\\,\\,\\rm{{to}}\\,\\,\\rm{{lens}}\\,\\,\\rm{{pivot}} =  {} \\,\\it{{mm}}$'.format(de)\n",
    "else:\n",
    "    txt4 = r'$\\rm{{ENPP}}\\,\\,\\rm{{to}}\\,\\,\\rm{{lens}}\\,\\,\\rm{{pivot}} =  {} \\,\\it{{mm}}\\quad\\,\\,.$'.format(de)\n",
    "txt5 = r'$\\rm{Centroid}\\,\\, \\rm{translations} \\,\\, \\rm{(x,}\\, \\rm{y):}$'\n",
    "\n",
    "# at top right (outside the axes)\n",
    "fig.text(0.94, 0.82, txt1, fontsize=18, color='#333333')\n",
    "fig.text(0.94, 0.76, txt2, fontsize=18, color='#333333')\n",
    "fig.text(0.94, 0.70, txt3, fontsize=18, color='#333333')\n",
    "fig.text(0.94, 0.64, txt4, fontsize=18, color='#333333')\n",
    "\n",
    "# create legend\n",
    "lx = 0.615\n",
    "#lx = 0.63\n",
    "\n",
    "fig.legend((line1, line2), (label1, label2), loc=(lx, 0.86), scatteryoffsets=[0.5],\n",
    "           fontsize=16.5, scatterpoints=1, markerscale=1.0, labelspacing=0.1,\n",
    "           handletextpad=0.38, handlelength=0.2)\n",
    "# Save the figure  \n",
    "#saveFigure(fig, 'parallax_31.png')\n",
    "\n",
    "plt.show()"
   ]
  },
  {
   "cell_type": "code",
   "execution_count": null,
   "metadata": {
    "collapsed": false
   },
   "outputs": [],
   "source": []
  },
  {
   "cell_type": "markdown",
   "metadata": {
    "collapsed": false
   },
   "source": [
    "[Start of Type 2 plot code](#Plots:-Type-2)\n",
    "\n",
    "[Start of Type 1 plot code](#Plots:-Type-1)"
   ]
  },
  {
   "cell_type": "code",
   "execution_count": null,
   "metadata": {
    "collapsed": true
   },
   "outputs": [],
   "source": []
  },
  {
   "cell_type": "code",
   "execution_count": null,
   "metadata": {
    "collapsed": false
   },
   "outputs": [],
   "source": []
  },
  {
   "cell_type": "markdown",
   "metadata": {
    "collapsed": false
   },
   "source": [
    "### Estimation of inter-image transformation (inter-image homography)"
   ]
  },
  {
   "cell_type": "code",
   "execution_count": 32,
   "metadata": {
    "collapsed": true
   },
   "outputs": [],
   "source": []
  },
  {
   "cell_type": "code",
   "execution_count": 50,
   "metadata": {
    "collapsed": false
   },
   "outputs": [],
   "source": [
    "# Set optical system\n",
    "OPTICAL_SYSTEM = 1             # mp(1)=0.55 , mp(2)=1.0 or mp(not(1,2))=2.0\n",
    "PIVOT_OFFSET = 5               # 0 or 5 mm from the ENPP (actual offset is -5)\n",
    "\n",
    "# configurations:\n",
    "#thetaXLens, thetaYLens, thetaXImage, thetaYImage =  0, 0, 10, 20\n",
    "thetaXLens, thetaYLens, thetaXImage, thetaYImage =  10, 3, 0, 0\n",
    "\n",
    "assert PIVOT_OFFSET in (0, 5)\n",
    "\n",
    "f = 24.0 # focal length\n",
    "if OPTICAL_SYSTEM == 1: # mp = 0.550000000\n",
    "    # Optical System 1\n",
    "    de = -5.0 if PIVOT_OFFSET else 0.0\n",
    "    deDash = -21.8363636 if PIVOT_OFFSET else -16.8363636\n",
    "    zoDash = -7.4656319 if PIVOT_OFFSET else -2.4656319\n",
    "    mp = 0.55\n",
    "elif OPTICAL_SYSTEM == 2: # mp = 1.0\n",
    "    # Optical System 2\n",
    "    de = -5.0 if PIVOT_OFFSET else 0.0\n",
    "    deDash = -13.0 if PIVOT_OFFSET else -8.0\n",
    "    zoDash = 12.1707317 if PIVOT_OFFSET else 17.1707317\n",
    "    mp = 1.0\n",
    "else: # mp = 2.0\n",
    "    # Optical System 3\n",
    "    de = -5.0 if PIVOT_OFFSET else 0.0\n",
    "    deDash = -25.0 if PIVOT_OFFSET else -20.0\n",
    "    zoDash = 24.1707317 if PIVOT_OFFSET else 29.1707317\n",
    "    mp = 2.0\n",
    "\n",
    "\n",
    "n = 5   \n",
    "nx = np.linspace(-1, 1, n)\n",
    "hx, hy = np.meshgrid(nx, nx)\n",
    "yDashNearMax = 4.3  # determines the extent of the image for near plane\n",
    "\n",
    "# points for the near plane\n",
    "# -------------------------\n",
    "zeDash = zoDash - deDash\n",
    "ze = -gm.pupil_centric_lens_formula(u=None, v=zeDash, f=f, mp=mp).u\n",
    "yNearMax = abs(mp*(ze/zeDash)*yDashNearMax)\n",
    "\n",
    "zNear = ze + de # ze = zo - de, where zo is zNear i.e object distance from pivot/coordinate origin\n",
    "\n",
    "# points @ object plane Z1\n",
    "XNear = np.vstack((yNearMax*hx.reshape(1, n**2), \n",
    "                   yNearMax*hy.reshape(1, n**2), \n",
    "                   zNear*np.ones((1, n**2))))\n",
    "\n",
    "# image points for zero tilts @ object plane Z1\n",
    "x1 = get_image_coordinates_v2(XNear, 0, 0, 0, 0, mp, zoDash, de, deDash)\n",
    "# image points for finite tilts @ object plane Z1\n",
    "x2 = get_image_coordinates_v2(XNear, thetaXLens, thetaYLens, thetaXImage, thetaYImage, mp, zoDash, de, deDash)\n",
    "\n",
    "\n",
    "# points for far plane\n",
    "# --------------------\n",
    "\n",
    "yDashFarMax = abs(x1[0, 0])  # determines the extent of the image for the far plane \n",
    "yFarMax = 2*yNearMax\n",
    "mt = -yDashFarMax/yFarMax  # transverse magnification\n",
    "ze = zeDash/(mp*mt)\n",
    "zFar = ze + de # ze = zo + de where zo is zNear i.e object distance from pivot/coordinate origin\n",
    "\n",
    "XFar = np.vstack((yFarMax*hx.reshape(1, n**2), \n",
    "                  yFarMax*hy.reshape(1, n**2), \n",
    "                  zFar*np.ones((1, n**2))))\n",
    "\n",
    "# image points for zero tilts @ object plane Z2\n",
    "x3 = get_image_coordinates_v2(XFar, 0, 0, 0, 0, mp, zoDash, de, deDash)\n",
    "# image points for finite tilts @ object plane Z2\n",
    "x4 = get_image_coordinates_v2(XFar, thetaXLens, thetaYLens, thetaXImage, thetaYImage, mp, zoDash, de, deDash)\n",
    "\n",
    "#HNear = cv.get_homography2D(x1[:2, :], x2[:2, :])"
   ]
  },
  {
   "cell_type": "code",
   "execution_count": 51,
   "metadata": {
    "collapsed": true
   },
   "outputs": [],
   "source": [
    "np.set_printoptions(suppress=True)"
   ]
  },
  {
   "cell_type": "code",
   "execution_count": 53,
   "metadata": {
    "collapsed": false
   },
   "outputs": [
    {
     "data": {
      "text/plain": [
       "array([[ 0.94960904, -0.00203679, -1.7028995 ],\n",
       "       [-0.00203679,  0.95586672,  5.73730089],\n",
       "       [-0.00154513,  0.00520575,  1.        ]])"
      ]
     },
     "execution_count": 53,
     "metadata": {},
     "output_type": "execute_result"
    }
   ],
   "source": [
    "HNear = cv.get_homography2D(x1[:2, :], x2[:2, :])\n",
    "HNear"
   ]
  },
  {
   "cell_type": "code",
   "execution_count": 54,
   "metadata": {
    "collapsed": false
   },
   "outputs": [
    {
     "data": {
      "text/plain": [
       "array([[ 0.94979627, -0.00203719, -1.69709165],\n",
       "       [-0.00203719,  0.95605518,  5.71773343],\n",
       "       [-0.00154543,  0.00520678,  1.        ]])"
      ]
     },
     "execution_count": 54,
     "metadata": {},
     "output_type": "execute_result"
    }
   ],
   "source": [
    "HFar = cv.get_homography2D(x3[:2, :], x4[:2, :])\n",
    "HFar"
   ]
  },
  {
   "cell_type": "code",
   "execution_count": null,
   "metadata": {
    "collapsed": false
   },
   "outputs": [],
   "source": []
  },
  {
   "cell_type": "markdown",
   "metadata": {
    "collapsed": false
   },
   "source": [
    "## Part-III: Verification of Scheimpflug imaging examples"
   ]
  },
  {
   "cell_type": "markdown",
   "metadata": {
    "collapsed": false
   },
   "source": [
    "Verification of the following equation through several examples\n",
    "\n",
    "\n",
    "$$\n",
    "-\\frac{ \\hat{{\\bf \\underline{n}}}_o}{m_p \\left[z_o - d_e (\\hat{{\\bf \\underline{n}}}_o^T  {\\bf r} _{\\ell,3})  \\right] }\n",
    "+\\frac{ R_{\\ell} M_p R_{\\ell}^T \\hat{{\\bf \\underline{n}}}_i}{\\left[\\acute{z}_o - \\acute{d}_e (\\hat{{\\bf \\underline{n}}}_i^T  {\\bf r} _{\\ell,3})  \\right] } = \\frac{{\\bf r} _{\\ell,3}}{f}\n",
    "$$\n",
    "\n",
    "\n",
    "\n",
    "Note that in the above notation, the undertilde has been replaced by underline.\n",
    "\n"
   ]
  },
  {
   "cell_type": "code",
   "execution_count": 8,
   "metadata": {
    "collapsed": false
   },
   "outputs": [],
   "source": [
    "# Location of the Zemax lens files for this notebook\n",
    "zmxdir = os.path.join(curDir, 'zmxfiles')\n",
    "ln = pyz.createLink()"
   ]
  },
  {
   "cell_type": "code",
   "execution_count": 9,
   "metadata": {
    "collapsed": false
   },
   "outputs": [],
   "source": [
    "loadStoredCopy = True\n",
    "\n",
    "if loadStoredCopy:\n",
    "    storedLens = \"paraxialDoubleLens24mmFiniteConj_mp2_cardinalsDrawnWdRotAboutENPPplusOffset.zmx\"\n",
    "    storedLensPath = os.path.join(zmxdir, storedLens)\n",
    "    ln.zLoadFile(storedLensPath)\n",
    "    cb1 = 4\n",
    "else:\n",
    "    # If a different lens is used ... \n",
    "    ln.zGetRefresh()"
   ]
  },
  {
   "cell_type": "code",
   "execution_count": 10,
   "metadata": {
    "collapsed": false
   },
   "outputs": [
    {
     "data": {
      "text/plain": [
       "(22, 0, 12, 1, 1, 0, 20.0, 1, 3)"
      ]
     },
     "execution_count": 10,
     "metadata": {},
     "output_type": "execute_result"
    }
   ],
   "source": [
    "# Set ray-aiming \n",
    "sysProp = ln.zGetSystem()\n",
    "ln.zSetSystem(unitCode=sysProp.unitCode, \n",
    "              stopSurf=sysProp.stopSurf, \n",
    "              rayAimingType=1, \n",
    "              globalRefSurf=sysProp.globalRefSurf)"
   ]
  },
  {
   "cell_type": "code",
   "execution_count": 11,
   "metadata": {
    "collapsed": false
   },
   "outputs": [
    {
     "data": {
      "text/plain": [
       "0"
      ]
     },
     "execution_count": 11,
     "metadata": {},
     "output_type": "execute_result"
    }
   ],
   "source": [
    "# insert coordinate break and tilt surface to tilt the image surface image surface\n",
    "imaSurf = ln.zGetNumSurf()\n",
    "ln.zInsertCoordinateBreak(surfNum=imaSurf)"
   ]
  },
  {
   "cell_type": "code",
   "execution_count": 12,
   "metadata": {
    "collapsed": false
   },
   "outputs": [
    {
     "name": "stdout",
     "output_type": "stream",
     "text": [
      "Pivot position: 0.0\n",
      "ENPP position (de): -5.0\n",
      "EXPP position (deDash): -25.0\n",
      "Obj. plane position from pivot position (zo): -509.0\n",
      "Image position (zoDash): 24.1707317\n",
      "Pupil magnification (mp): 1.99999999949\n"
     ]
    }
   ],
   "source": [
    "## Get the positions of the ENPP, EXPP and Image plane w.r.t. the pivot\n",
    "## Get the pupil magnification mp\n",
    "\n",
    "cb1Lens = cb1                    \n",
    "cbImage = ln.zGetNumSurf() - 1  \n",
    "\n",
    "# first ensure that the lens is not rotated\n",
    "set_lens_image_rotations(ln, 0, 0, 0, 0, cb1Lens, cbImage)\n",
    "\n",
    "zo = get_obj_pos_from_pivot(ln)\n",
    "zoDash = get_image_pos_from_pivot(ln)\n",
    "de, deDash, pp = get_pupil_pos_from_pivot(ln)\n",
    "mp = ln.zGetPupilMagnification()\n",
    "\n",
    "print('Pivot position:', pp)\n",
    "print('ENPP position (de):', de)\n",
    "print('EXPP position (deDash):', deDash)\n",
    "print('Obj. plane position from pivot position (zo):', zo)\n",
    "print('Image position (zoDash):', zoDash)\n",
    "print('Pupil magnification (mp):', mp)"
   ]
  },
  {
   "cell_type": "code",
   "execution_count": 13,
   "metadata": {
    "collapsed": false
   },
   "outputs": [
    {
     "data": {
      "text/plain": [
       "0"
      ]
     },
     "execution_count": 13,
     "metadata": {},
     "output_type": "execute_result"
    }
   ],
   "source": [
    "ln.zPushLens(1)"
   ]
  },
  {
   "cell_type": "markdown",
   "metadata": {
    "collapsed": false
   },
   "source": [
    "**Example 3.1:**"
   ]
  },
  {
   "cell_type": "markdown",
   "metadata": {},
   "source": [
    "The directed distance of the image plane from the origin of the camera frame is:\n",
    "\n",
    "$$\n",
    "\\acute{z}_o = \\acute{d}_e + \\frac{m_p^2 f (z_o - d_e)}{f + m_p (z_o - d_e)}\n",
    "$$\n",
    "\n",
    "and the directed distance of the image plane from the exit pupil is\n",
    "\n",
    "$$\n",
    "\\acute{z}_e = \\frac{m_p^2 f (z_o - d_e)}{f + m_p (z_o - d_e)}\n",
    "$$"
   ]
  },
  {
   "cell_type": "code",
   "execution_count": 57,
   "metadata": {
    "collapsed": false
   },
   "outputs": [
    {
     "name": "stdout",
     "output_type": "stream",
     "text": [
      "Absolute difference between numerically computed and Zemax reported zoDash = 4.9e-09\n"
     ]
    }
   ],
   "source": [
    "# Set the rotation of the lens plane and image plane\n",
    "set_lens_image_rotations(ln, 0, 0, 0, 0, cb1Lens, cbImage)\n",
    "\n",
    "f = ln.zGetFirst().EFL\n",
    "zoDash_est = deDash + ((mp**2) * f * (zo - de))/(f + mp*(zo - de))\n",
    "print('Absolute difference between numerically computed and Zemax reported zoDash = {:0.1e}'\n",
    "      .format(np.abs(zoDash_est - zoDash)))"
   ]
  },
  {
   "cell_type": "code",
   "execution_count": null,
   "metadata": {
    "collapsed": false
   },
   "outputs": [],
   "source": []
  },
  {
   "cell_type": "markdown",
   "metadata": {
    "collapsed": false
   },
   "source": [
    "**Example 3.4:**"
   ]
  },
  {
   "cell_type": "markdown",
   "metadata": {},
   "source": [
    "###### Relationships for rotating a lens about a pivot away from the entrance pupil"
   ]
  },
  {
   "cell_type": "code",
   "execution_count": 15,
   "metadata": {
    "collapsed": true
   },
   "outputs": [],
   "source": [
    "# Functions for numerical computation of the image plane distance and object plane orientation\n",
    "\n",
    "def compute_beta(zo, f, mp, alpha, de):\n",
    "    \"\"\"formula for computing the object plane tilt angle if\n",
    "    lens is tilted about a pivot away from the ENPP.\n",
    "    \n",
    "    @param: zo: object distance (directed) along z-axis\n",
    "    @param: f: focal length\n",
    "    @param: mp: pupil magnification\n",
    "    @param: alpha: angle of image plane tilt about x-axis (in degrees)\n",
    "    @param: de: directed distance of the ENPP from the pivot (origin of {C})\n",
    "    \"\"\"\n",
    "    c = cosd(alpha)\n",
    "    s = sind(alpha)\n",
    "    numr = -s*(mp*(zo - de*c) + f*(1-mp)*c)\n",
    "    deno = (f - mp*de*s**2)*(mp*c**2 + s**2) + mp*(1 - mp)*de*(s**2)*(c**2)\n",
    "    t = numr/deno\n",
    "    return arctand(t)\n",
    "\n",
    "\n",
    "def compute_zoDash(zo, f, mp, de, deDash, alpha):\n",
    "    \"\"\"formula for computing the image plane distance from the pivot (origin of {C}) if\n",
    "    lens is tilted about a point away from the ENPP\n",
    "    \n",
    "    @param: zo: directed object distance along z-axis\n",
    "    @param: f: focal length\n",
    "    @param: mp: pupil magnification\n",
    "    @param: de: directed distance of the ENPP from the pivot (origin of {C})\n",
    "    @param: deDash: directed distance of EXPP from the pivot \n",
    "    @param: alpha: angle of image plane tilt about x-axis (in degrees)\n",
    "    \"\"\"\n",
    "    c = cosd(alpha)\n",
    "    s = sind(alpha)\n",
    "    beta = compute_beta(zo, f, mp, alpha, de)\n",
    "    t = tand(beta)\n",
    "    numr = mp*f*(mp*c**2 + s**2)*(zo - de*(s*t + c))\n",
    "    deno = mp*c*(zo - de*(s*t + c)) + f\n",
    "    return deDash*c + numr/deno"
   ]
  },
  {
   "cell_type": "code",
   "execution_count": 34,
   "metadata": {
    "collapsed": true
   },
   "outputs": [],
   "source": [
    "loadStoredCopy = True\n",
    "\n",
    "# In the stored lens: \n",
    "#  * there is only 1 configuration\n",
    "#  * Ray-aiming is set, and it is \"paraxial\"\n",
    "#  * The aperture is set to \"Float by stop\"\n",
    "#  * The global reference surface is the \"PIVOT\" surface (consistent with our model)\n",
    "#  * The object surface type is \"Tilt surface\" \n",
    "#  * The coordinate break to tilt the lens about a pivot point -5 mm away from the ENPP is in place\n",
    "#  * The image plane is not tilted\n",
    "#  * Two variable solves are in place -- 1. on the tilt-x parameter of the CB to tilt the lens and\n",
    "#                                        2. on the thickness of the surface in front of the image surface\n",
    "#                                           to recompute zoDash\n",
    "#  * The merit function editor contains the operands set using the default merit function to minimize spot \n",
    "#    radius, with chief-ray as reference.\n",
    "#  \n",
    "# Other relevant data of the stored lens\n",
    "# ---------------------------------------\n",
    "# Pivot position: 0.0\n",
    "# ENPP position (de): -5.0\n",
    "# EXPP position (deDash): -25.0\n",
    "# Obj. plane position from pivot position (zo): -509.0\n",
    "# Image position (zoDash): 24.1707317\n",
    "# Pupil magnification (mp): 1.99999999949\n",
    "\n",
    "if loadStoredCopy:\n",
    "    storedLens = \"example_3_4a_focus_tilted_obj_plane_by_paraxial_double_lens_mp2_tilt_abt_Pivot.zmx\"\n",
    "    storedLensPath = os.path.join(zmxdir, storedLens)\n",
    "    ln.zLoadFile(storedLensPath)\n",
    "    cb1 = 4\n",
    "else:\n",
    "    # If a different lens is used ... \n",
    "    ln.zGetRefresh()"
   ]
  },
  {
   "cell_type": "code",
   "execution_count": 35,
   "metadata": {
    "collapsed": false
   },
   "outputs": [
    {
     "name": "stdout",
     "output_type": "stream",
     "text": [
      "Pivot position: 0.0\n",
      "ENPP position (de): -5.0\n",
      "EXPP position (deDash): -25.0\n",
      "Obj. plane position from pivot position (zo): -509.0\n",
      "Image position (zoDash): 24.1707317\n",
      "Pupil magnification (mp): 1.99999999949\n"
     ]
    }
   ],
   "source": [
    "cb1Lens = cb1                    \n",
    "cbImage = ln.zGetNumSurf() - 1  \n",
    "\n",
    "# first ensure that the lens is not rotated\n",
    "set_lens_image_rotations(ln, 0, 0, 0, 0, cb1Lens, cbImage)\n",
    "\n",
    "zo = get_obj_pos_from_pivot(ln)\n",
    "zoDash = get_image_pos_from_pivot(ln)\n",
    "de, deDash, pp = get_pupil_pos_from_pivot(ln)\n",
    "mp = ln.zGetPupilMagnification()\n",
    "\n",
    "print('Pivot position:', pp)\n",
    "print('ENPP position (de):', de)\n",
    "print('EXPP position (deDash):', deDash)\n",
    "print('Obj. plane position from pivot position (zo):', zo)\n",
    "print('Image position (zoDash):', zoDash)\n",
    "print('Pupil magnification (mp):', mp)"
   ]
  },
  {
   "cell_type": "code",
   "execution_count": 36,
   "metadata": {
    "collapsed": false
   },
   "outputs": [
    {
     "name": "stdout",
     "output_type": "stream",
     "text": [
      "--------------------------------------------------------\n",
      "beta_zmx = 0; beta_num = 2.07042332211e-13\n",
      "alpha (optimization result in Zemax) = 9.62987591684e-15\n",
      "zoDash_zmx = 24.1707317; zoDash_num = 24.1707316951\n",
      "\n",
      "--------------------------------------------------------\n",
      "beta_zmx = -10; beta_num = -9.99972544232\n",
      "alpha (optimization result in Zemax) = -0.469893557656\n",
      "zoDash_zmx = 24.1716296; zoDash_num = 24.1716296001\n",
      "\n",
      "--------------------------------------------------------\n",
      "beta_zmx = 25; beta_num = 24.9957019556\n",
      "alpha (optimization result in Zemax) = 1.24260351648\n",
      "zoDash_zmx = 24.1770118; zoDash_num = 24.1770118126\n",
      "\n",
      "--------------------------------------------------------\n",
      "beta_zmx = -40; beta_num = -39.9821362643\n",
      "alpha (optimization result in Zemax) = -2.23573122351\n",
      "zoDash_zmx = 24.1910709; zoDash_num = 24.1910706062\n",
      "\n",
      "--------------------------------------------------------\n",
      "beta_zmx = 65; beta_num = 64.9102403247\n",
      "alpha (optimization result in Zemax) = 5.70827100362\n",
      "zoDash_zmx = 24.3037832; zoDash_num = 24.3037727358\n",
      "\n",
      "--------------------------------------------------------\n",
      "beta_zmx = -80; beta_num = -79.740098156\n",
      "alpha (optimization result in Zemax) = -14.9958534321\n",
      "zoDash_zmx = 25.1119386; zoDash_num = 25.1114562603\n",
      "\n"
     ]
    }
   ],
   "source": [
    "beta = [0, -10, 25, -40, 65, -80]\n",
    "\n",
    "for beta_zmx in beta:\n",
    "    # Optimization in Zemax\n",
    "    #beta_zmx = -15.0\n",
    "    ln.zSetSurfaceParameter(surfNum=0, param=2, value=tand(beta_zmx))\n",
    "    ln.zGetUpdate()\n",
    "    ln.zOptimize()\n",
    "\n",
    "    # following optimization \n",
    "    alpha_zmx = ln.zGetSurfaceParameter(surfNum=4, param=3) # returns angle in degrees\n",
    "    zoDash_zmx = ln.zOperandValue('GLCZ', 23)               # returns image plane distance from PIVOT in mm\n",
    "\n",
    "    beta_num = compute_beta(zo=zo, f=24.0, mp=mp, alpha=alpha_zmx, de=de) \n",
    "    zoDash_num = compute_zoDash(zo=zo, f=24.0, mp=mp, de=de, deDash=deDash, alpha=alpha_zmx)\n",
    "    \n",
    "    print('--------------------------------------------------------')\n",
    "    print('beta_zmx = {}; beta_num = {}'.format(beta_zmx, beta_num))\n",
    "    print('alpha (optimization result in Zemax) = {}'.format(alpha_zmx))\n",
    "    print('zoDash_zmx = {}; zoDash_num = {}'.format(zoDash_zmx, zoDash_num))\n",
    "    print()"
   ]
  },
  {
   "cell_type": "code",
   "execution_count": null,
   "metadata": {
    "collapsed": false
   },
   "outputs": [],
   "source": []
  },
  {
   "cell_type": "code",
   "execution_count": null,
   "metadata": {
    "collapsed": false
   },
   "outputs": [],
   "source": []
  },
  {
   "cell_type": "code",
   "execution_count": null,
   "metadata": {
    "collapsed": false
   },
   "outputs": [],
   "source": []
  },
  {
   "cell_type": "code",
   "execution_count": null,
   "metadata": {
    "collapsed": true
   },
   "outputs": [],
   "source": []
  },
  {
   "cell_type": "markdown",
   "metadata": {},
   "source": [
    "###### Relationships for rotating a lens about the ENPP"
   ]
  },
  {
   "cell_type": "code",
   "execution_count": 37,
   "metadata": {
    "collapsed": true
   },
   "outputs": [],
   "source": [
    "def compute_zoDash2(zo, f, mp, d, alpha):\n",
    "    \"\"\"formula for computing the image plane distance from the pivot (origin of {C}) if\n",
    "    lens is tilted about the ENPP. That is de=0, deDash = d\n",
    "    \n",
    "    @param: zo: object distance along z-axis\n",
    "    @param: f: focal length\n",
    "    @param: mp: pupil magnification\n",
    "    @param: d: distance from ENPP to EXPP\n",
    "    @param: alpha: angle of image plane tilt about x-axis (in degrees)\n",
    "    \"\"\"\n",
    "    c = cosd(alpha)\n",
    "    s = sind(alpha)\n",
    "    return d*c + mp*f*zo*(mp*c**2 + s**2)/(zo*mp*c + f)\n",
    "\n",
    "def compute_beta2(zo, f, mp, alpha):\n",
    "    \"\"\"formula for computing the object plane tilt angle if\n",
    "    lens is tilted about the ENPP. That is de=0, deDash = d\n",
    "    \n",
    "    @param: zo: object distance along z-axis\n",
    "    @param: f: focal length\n",
    "    @param: mp: pupil magnification\n",
    "    @param: alpha: angle of image plane tilt about x-axis (in degrees)\n",
    "    \"\"\"\n",
    "    c = cosd(alpha)\n",
    "    s = sind(alpha)\n",
    "    t = -s*(mp*zo + (1-mp)*f*c)/(f*(mp*c**2 + s**2))\n",
    "    return arctand(t)"
   ]
  },
  {
   "cell_type": "code",
   "execution_count": 42,
   "metadata": {
    "collapsed": false
   },
   "outputs": [
    {
     "data": {
      "text/plain": [
       "0"
      ]
     },
     "execution_count": 42,
     "metadata": {},
     "output_type": "execute_result"
    }
   ],
   "source": [
    "ln.zPushLens(1)"
   ]
  },
  {
   "cell_type": "code",
   "execution_count": 40,
   "metadata": {
    "collapsed": false
   },
   "outputs": [],
   "source": [
    "loadStoredCopy = True\n",
    "\n",
    "# In the stored lens: \n",
    "#  * there is only 1 configuration\n",
    "#  * Ray-aiming is set, and it is \"paraxial\"\n",
    "#  * The aperture is set to \"Float by stop\"\n",
    "#  * The global reference surface is the object plane ... so we need to subtract the object plane distance ... \n",
    "#  * The object surface type is \"Tilt surface\" \n",
    "#  * The image plane is not tilted\n",
    "#  * Two variable solves are in place -- 1. on the tilt-x parameter of the CB to tilt the lens and\n",
    "#                                        2. on the thickness of the surface in front of the image surface\n",
    "#                                           to recompute zoDash\n",
    "#  * The merit function editor contains the operands set using the default merit function to minimize spot \n",
    "#    radius, with chief-ray as reference.\n",
    "#  \n",
    "\n",
    "\n",
    "if loadStoredCopy:\n",
    "    storedLens = \"example_3_4_focus_tilted_obj_plane_by_paraxial_double_lens_mp2_tilt_abt_ENPP.zmx\"\n",
    "    storedLensPath = os.path.join(zmxdir, storedLens)\n",
    "    ln.zLoadFile(storedLensPath)\n",
    "    cb1 = 3\n",
    "else:\n",
    "    # If a different lens is used ... \n",
    "    ln.zGetRefresh()"
   ]
  },
  {
   "cell_type": "code",
   "execution_count": 43,
   "metadata": {
    "collapsed": false
   },
   "outputs": [
    {
     "name": "stdout",
     "output_type": "stream",
     "text": [
      "Pivot position: 0.0\n",
      "ENPP position (de): 0.0\n",
      "EXPP position (deDash): -20.0\n",
      "Obj. plane position from pivot position (zo): -504.0\n",
      "Image position (zoDash): 29.170732\n",
      "Pupil magnification (mp): 1.99999999949\n"
     ]
    }
   ],
   "source": [
    "cb1Lens = cb1                    \n",
    "cbImage = ln.zGetNumSurf() - 1  \n",
    "\n",
    "# first ensure that the lens is not rotated\n",
    "set_lens_image_rotations(ln, 0, 0, 0, 0, cb1Lens)\n",
    "\n",
    "zo = get_obj_pos_from_pivot(ln) -504.00\n",
    "zoDash = get_image_pos_from_pivot(ln) -504.00\n",
    "de, deDash, pp = get_pupil_pos_from_pivot(ln) \n",
    "de -= 504.00\n",
    "deDash -= 504.00\n",
    "d = deDash\n",
    "mp = ln.zGetPupilMagnification()\n",
    "\n",
    "print('Pivot position:', pp)\n",
    "print('ENPP position (de):', de)\n",
    "print('EXPP position (deDash):', deDash)\n",
    "print('Obj. plane position from pivot position (zo):', zo)\n",
    "print('Image position (zoDash):', zoDash)\n",
    "print('Pupil magnification (mp):', mp)"
   ]
  },
  {
   "cell_type": "code",
   "execution_count": 45,
   "metadata": {
    "collapsed": false
   },
   "outputs": [
    {
     "data": {
      "text/plain": [
       "29.170731707317074"
      ]
     },
     "execution_count": 45,
     "metadata": {},
     "output_type": "execute_result"
    }
   ],
   "source": [
    "compute_zoDash2(zo=zo, f=24.0, mp=2.0, d=d, alpha=0) # must be Image position (zoDash): 29.1707317"
   ]
  },
  {
   "cell_type": "code",
   "execution_count": 47,
   "metadata": {
    "collapsed": false
   },
   "outputs": [
    {
     "data": {
      "text/plain": [
       "0.0"
      ]
     },
     "execution_count": 47,
     "metadata": {},
     "output_type": "execute_result"
    }
   ],
   "source": [
    "compute_beta2(zo=zo, f=24.0, mp=2.0, alpha=0)"
   ]
  },
  {
   "cell_type": "code",
   "execution_count": 48,
   "metadata": {
    "collapsed": false
   },
   "outputs": [
    {
     "name": "stdout",
     "output_type": "stream",
     "text": [
      "--------------------------------------------------------\n",
      "beta_zmx = 0; beta_num = -2.2430074783e-15\n",
      "alpha (optimization result in Zemax) = -1.04325929224e-16\n",
      "zoDash_zmx = 29.170732; zoDash_num = 29.1707316951\n",
      "\n",
      "--------------------------------------------------------\n",
      "beta_zmx = -10; beta_num = -10.0000000003\n",
      "alpha (optimization result in Zemax) = -0.469887126419\n",
      "zoDash_zmx = 29.171445; zoDash_num = 29.1714446276\n",
      "\n",
      "--------------------------------------------------------\n",
      "beta_zmx = 25; beta_num = 25.0000000724\n",
      "alpha (optimization result in Zemax) = 1.24248462744\n",
      "zoDash_zmx = 29.175718; zoDash_num = 29.1757175009\n",
      "\n",
      "--------------------------------------------------------\n",
      "beta_zmx = -40; beta_num = -40.000000064\n",
      "alpha (optimization result in Zemax) = -2.23503921825\n",
      "zoDash_zmx = 29.186874; zoDash_num = 29.1868739289\n",
      "\n",
      "--------------------------------------------------------\n",
      "beta_zmx = 65; beta_num = 64.9999999958\n",
      "alpha (optimization result in Zemax) = 5.69681847249\n",
      "zoDash_zmx = 29.276066; zoDash_num = 29.2760660778\n",
      "\n",
      "--------------------------------------------------------\n",
      "beta_zmx = -80; beta_num = -79.9999999967\n",
      "alpha (optimization result in Zemax) = -14.795866069\n",
      "zoDash_zmx = 29.903041; zoDash_num = 29.9030409256\n",
      "\n"
     ]
    }
   ],
   "source": [
    "beta = [0, -10, 25, -40, 65, -80]\n",
    "\n",
    "for beta_zmx in beta:\n",
    "    # Optimization in Zemax\n",
    "    ln.zSetSurfaceParameter(surfNum=0, param=2, value=tand(beta_zmx))\n",
    "    ln.zGetUpdate()\n",
    "    ln.zOptimize()\n",
    "\n",
    "    # following optimization \n",
    "    alpha_zmx = ln.zGetSurfaceParameter(surfNum=3, param=3) # returns angle in degrees\n",
    "    zoDash_zmx = ln.zOperandValue('GLCZ', 22) - 504.00      # returns image plane distance from PIVOT in mm\n",
    "\n",
    "    beta_num = compute_beta2(zo=zo, f=24.0, mp=mp, alpha=alpha_zmx) \n",
    "    zoDash_num = compute_zoDash2(zo=zo, f=24.0, mp=mp, d=d, alpha=alpha_zmx)\n",
    "    \n",
    "    print('--------------------------------------------------------')\n",
    "    print('beta_zmx = {}; beta_num = {}'.format(beta_zmx, beta_num))\n",
    "    print('alpha (optimization result in Zemax) = {}'.format(alpha_zmx))\n",
    "    print('zoDash_zmx = {}; zoDash_num = {}'.format(zoDash_zmx, zoDash_num))\n",
    "    print()"
   ]
  },
  {
   "cell_type": "code",
   "execution_count": null,
   "metadata": {
    "collapsed": false
   },
   "outputs": [],
   "source": []
  },
  {
   "cell_type": "code",
   "execution_count": 49,
   "metadata": {
    "collapsed": true
   },
   "outputs": [],
   "source": [
    "ln.close()"
   ]
  },
  {
   "cell_type": "code",
   "execution_count": null,
   "metadata": {
    "collapsed": true
   },
   "outputs": [],
   "source": []
  },
  {
   "cell_type": "code",
   "execution_count": null,
   "metadata": {
    "collapsed": true
   },
   "outputs": [],
   "source": []
  },
  {
   "cell_type": "code",
   "execution_count": null,
   "metadata": {
    "collapsed": true
   },
   "outputs": [],
   "source": []
  },
  {
   "cell_type": "code",
   "execution_count": null,
   "metadata": {
    "collapsed": true
   },
   "outputs": [],
   "source": []
  },
  {
   "cell_type": "code",
   "execution_count": null,
   "metadata": {
    "collapsed": true
   },
   "outputs": [],
   "source": []
  }
 ],
 "metadata": {
  "kernelspec": {
   "display_name": "Python 2",
   "language": "python",
   "name": "python2"
  },
  "language_info": {
   "codemirror_mode": {
    "name": "ipython",
    "version": 2
   },
   "file_extension": ".py",
   "mimetype": "text/x-python",
   "name": "python",
   "nbconvert_exporter": "python",
   "pygments_lexer": "ipython2",
   "version": "2.7.11"
  }
 },
 "nbformat": 4,
 "nbformat_minor": 0
}
