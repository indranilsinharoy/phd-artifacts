{
 "cells": [
  {
   "cell_type": "code",
   "execution_count": 1,
   "metadata": {
    "collapsed": true
   },
   "outputs": [],
   "source": [
    "%load_ext autoreload"
   ]
  },
  {
   "cell_type": "code",
   "execution_count": 2,
   "metadata": {
    "collapsed": true
   },
   "outputs": [],
   "source": [
    "%autoreload 1"
   ]
  },
  {
   "cell_type": "code",
   "execution_count": 160,
   "metadata": {
    "collapsed": true
   },
   "outputs": [],
   "source": [
    "from __future__ import division, print_function\n",
    "import os\n",
    "import gc\n",
    "import numpy as np\n",
    "import h5py as hdf\n",
    "from scipy.misc import imread, imsave\n",
    "import pyzdde.zdde as py\n",
    "import pyzdde.arraytrace as at\n",
    "import matplotlib.pyplot as plt\n",
    "from matplotlib.colorbar import make_axes\n",
    "\n",
    "# local modules\n",
    "import iutils.plot.mplutils as mplu"
   ]
  },
  {
   "cell_type": "code",
   "execution_count": 4,
   "metadata": {
    "collapsed": false
   },
   "outputs": [],
   "source": [
    "#local module\n",
    "%aimport geometric_model_zemax_commons\n",
    "import geometric_model_zemax_commons as gm"
   ]
  },
  {
   "cell_type": "code",
   "execution_count": 5,
   "metadata": {
    "collapsed": true
   },
   "outputs": [],
   "source": [
    "%matplotlib inline\n",
    "#%matplotlib notebook"
   ]
  },
  {
   "cell_type": "code",
   "execution_count": 161,
   "metadata": {
    "collapsed": true
   },
   "outputs": [],
   "source": [
    "curDir = os.getcwd()"
   ]
  },
  {
   "cell_type": "code",
   "execution_count": 4,
   "metadata": {
    "collapsed": true
   },
   "outputs": [],
   "source": [
    "# Helper functions\n",
    "\n",
    "# NOTE: In this document the \"PIVOT\" is the pivot of the lens group\n",
    "\n",
    "def find_surf_using_comment(ln, comment):\n",
    "    for i in range(ln.zGetNumSurf()):\n",
    "        if ln.zGetComment(i) == comment:\n",
    "            break\n",
    "    else:\n",
    "        return -1\n",
    "    return i\n",
    "\n",
    "def get_pupil_pos_from_pivot(ln):\n",
    "    \"\"\"returns the distance of the ENPP and EXPP from the PIVOT\n",
    "    \"\"\"\n",
    "    ln.zGetUpdate()\n",
    "    pivotSurf = find_surf_using_comment(ln, 'PIVOT')\n",
    "    enppSurf = find_surf_using_comment(ln, 'ENPP')\n",
    "    exppSurf = find_surf_using_comment(ln, 'EXPP')\n",
    "\n",
    "    pivotZ = ln.zOperandValue('GLCZ', pivotSurf)\n",
    "    enppZ = ln.zOperandValue('GLCZ', enppSurf) - pivotZ\n",
    "    exppZ = ln.zOperandValue('GLCZ', exppSurf) - pivotZ\n",
    "    return enppZ, exppZ, pivotZ\n",
    "\n",
    "def get_image_pos_from_pivot(ln):\n",
    "    \"\"\"returns the distance of the image plane from the pivot along z-direction\"\"\"\n",
    "    ln.zGetUpdate()\n",
    "    imaSurf = ln.zGetNumSurf()\n",
    "    pivotSurf = find_surf_using_comment(ln, 'PIVOT')\n",
    "    pivotZ = ln.zOperandValue('GLCZ', pivotSurf)\n",
    "    imaZ = ln.zOperandValue('GLCZ', imaSurf) - pivotZ\n",
    "    return imaZ\n",
    "\n",
    "def get_obj_pos_from_pivot(ln):\n",
    "    \"\"\"returns the distance of the object point/plane from the pivot along z-direction\"\"\"\n",
    "    ln.zGetUpdate()\n",
    "    pivotSurf = find_surf_using_comment(ln, 'PIVOT')\n",
    "    pivotZ = ln.zOperandValue('GLCZ', pivotSurf)\n",
    "    objZ = ln.zOperandValue('GLCZ', 0) - pivotZ\n",
    "    return objZ\n",
    "\n",
    "def set_lens_image_rotations(ln, thetaXLens, thetaYLens, thetaXImage, thetaYImage, cbLens, cbImage):\n",
    "    \"\"\"sets the lens and image plane rotation angles\n",
    "    \"\"\"\n",
    "    ln.zSetSurfaceParameter(cbLens, 3, thetaXLens)\n",
    "    ln.zSetSurfaceParameter(cbLens, 4, thetaYLens)\n",
    "    ln.zSetSurfaceParameter(cbImage, 3, thetaXImage)\n",
    "    ln.zSetSurfaceParameter(cbImage, 4, thetaYImage)\n",
    "    ln.zGetUpdate()\n",
    "    \n",
    "def rotX(angle):\n",
    "    \"\"\"returns 3D matrix in SO(3) for rotating a vector about the +x-axis\n",
    "    @param : angle in degrees\n",
    "    \"\"\"\n",
    "    c, s = np.cos(np.deg2rad(angle)), np.sin(np.deg2rad(angle))\n",
    "    return np.array([[1.0, 0.0, 0.0], [0.0, c, -s], [0.0, s, c]])\n",
    "\n",
    "def rotY(angle):\n",
    "    \"\"\"returns 3D matrix in SO(3) for rotating a vector about the +y-axis\n",
    "    @param : angle in degrees\n",
    "    \"\"\"\n",
    "    c, s = np.cos(np.deg2rad(angle)), np.sin(np.deg2rad(angle))\n",
    "    return np.array([[c, 0.0, s], [0.0, 1, 0.0], [-s, 0, c]])"
   ]
  },
  {
   "cell_type": "code",
   "execution_count": 162,
   "metadata": {
    "collapsed": false
   },
   "outputs": [],
   "source": [
    "# Helper function for saving figures\n",
    "imgdir = os.path.join(curDir, 'images')\n",
    "if not os.path.exists(imgdir):\n",
    "    os.makedirs(imgdir)\n",
    "    print(\"Created 'images' directory\")\n",
    "\n",
    "\n",
    "bSaveFigure = True\n",
    "fig_format, fig_ext = 'png', '.png'\n",
    "def saveFigure(figure, fig_name, DPI=200):\n",
    "    if bSaveFigure:\n",
    "        figname = os.path.join(imgdir, fig_name)\n",
    "        print('figname:', figname)\n",
    "        figure.savefig(figname, dpi=DPI, facecolor='white', edgecolor='white',\n",
    "                       bbox_inches='tight', format=fig_format, pad_inches=0.03)"
   ]
  },
  {
   "cell_type": "code",
   "execution_count": 179,
   "metadata": {
    "collapsed": false
   },
   "outputs": [],
   "source": [
    "# Location of the Zemax lens files for this notebook\n",
    "zmxdir = os.path.join(curDir, 'zmxfiles')\n",
    "ln = pyz.createLink()"
   ]
  },
  {
   "cell_type": "code",
   "execution_count": 81,
   "metadata": {
    "collapsed": false
   },
   "outputs": [
    {
     "data": {
      "text/plain": [
       "0"
      ]
     },
     "execution_count": 81,
     "metadata": {},
     "output_type": "execute_result"
    }
   ],
   "source": [
    "lens = \"paraxialDoubleLens24mmFiniteConj_mp2.zmx\"\n",
    "lensPath = os.path.join(zmxdir, lens)\n",
    "ln.zLoadFile(lensPath)"
   ]
  },
  {
   "cell_type": "code",
   "execution_count": 82,
   "metadata": {
    "collapsed": false
   },
   "outputs": [
    {
     "data": {
      "text/plain": [
       "0"
      ]
     },
     "execution_count": 82,
     "metadata": {},
     "output_type": "execute_result"
    }
   ],
   "source": [
    "#ln.zPushLens()"
   ]
  },
  {
   "cell_type": "code",
   "execution_count": 14,
   "metadata": {
    "collapsed": false
   },
   "outputs": [
    {
     "name": "stdout",
     "output_type": "stream",
     "text": [
      "SURFACE DATA SUMMARY:\n",
      "\n",
      "Surf     Type         Radius      Thickness                Glass      Diameter          Conic   Comment\n",
      " OBJ STANDARD       Infinity            500                                200              0\n",
      "   1 PARAXIAL              -       3.636364                           9.382086              - Lens 1\n",
      " STO STANDARD       Infinity       16.36364                           7.142857              0 Stop\n",
      "   3 PARAXIAL              -       13.17073                           11.35204              - Lens 2\n",
      " IMA STANDARD       Infinity                                          9.756098              0\n"
     ]
    }
   ],
   "source": [
    "ln.ipzGetLDE()"
   ]
  },
  {
   "cell_type": "code",
   "execution_count": 15,
   "metadata": {
    "collapsed": false
   },
   "outputs": [
    {
     "data": {
      "image/png": "[encoded data removed]",
      "text/plain": [
       "<IPython.core.display.Image object>"
      ]
     },
     "metadata": {},
     "output_type": "display_data"
    }
   ],
   "source": [
    "ln.ipzCaptureWindow('L3d')"
   ]
  },
  {
   "cell_type": "code",
   "execution_count": 16,
   "metadata": {
    "collapsed": false
   },
   "outputs": [
    {
     "name": "stdout",
     "output_type": "stream",
     "text": [
      "Paraxial magnification : -0.0487804878\n",
      "Real working F/#       : 3.168743031\n",
      "Effective focal length : 24.0\n",
      "Paraxial working F/#   : 3.129046563\n",
      "Paraxial image height  : 4.87804878\n"
     ]
    }
   ],
   "source": [
    "# First order parameters\n",
    "ln.ipzGetFirst()"
   ]
  },
  {
   "cell_type": "code",
   "execution_count": 17,
   "metadata": {
    "collapsed": false
   },
   "outputs": [
    {
     "name": "stdout",
     "output_type": "stream",
     "text": [
      "Exit pupil position (from IMA)           : -49.17073171\n",
      "Entrance pupil position (from surface 1) : 4.0\n",
      "Aperture Type                            : Float by stop\n",
      "Apodization factor                       : 0.0\n",
      "Apodization type                         : None\n",
      "Value (stop surface semi-diameter)       : 3.571428571\n",
      "Exit pupil diameter                      : 15.71428571\n",
      "Entrance pupil diameter                  : 7.857142857\n"
     ]
    }
   ],
   "source": [
    "# Pupil information\n",
    "ln.ipzGetPupil()"
   ]
  },
  {
   "cell_type": "code",
   "execution_count": 18,
   "metadata": {
    "collapsed": false
   },
   "outputs": [
    {
     "data": {
      "text/plain": [
       "1.999999999490909"
      ]
     },
     "execution_count": 18,
     "metadata": {},
     "output_type": "execute_result"
    }
   ],
   "source": [
    "ln.zGetPupilMagnification()"
   ]
  },
  {
   "cell_type": "code",
   "execution_count": 16,
   "metadata": {
    "collapsed": false
   },
   "outputs": [],
   "source": [
    "#ln.zPushLens()"
   ]
  },
  {
   "cell_type": "code",
   "execution_count": 17,
   "metadata": {
    "collapsed": false
   },
   "outputs": [
    {
     "name": "stdout",
     "output_type": "stream",
     "text": [
      "Textual information about the planes:\n",
      "\n",
      "Exit pupil distance from IMG: -49.17073171\n",
      "Entrance pupil from Surf 1 @ LDE: 24.0\n",
      "Focal plane obj F from surf 1 @ LDE:  12.0 \n",
      "Focal plane img F' from IMA:  -1.170732\n",
      "Principal plane obj H from surf 1 @ LDE:  36.0 \n",
      "Principal plane img H' from IMA:  -25.170732\n",
      "Focal length:  24.0\n",
      "Principal plane H to ENPP:  12.0\n",
      "Principal plane H' to EXPP:  23.99999971\n",
      "Principal plane H' to EXPP (abs.) calc. using lens equ.:  24.0\n",
      "Principal plane H' to rear focal plane:  24.0\n",
      "Principal plane H to front focal plane:  -24.0\n",
      "\n",
      "Check \"Skip rays to this surface\" under \"Draw Tab\" of the surface property for the dummy and cardinal plane surfaces. See Docstring Notes for details.\n"
     ]
    }
   ],
   "source": [
    "# Draw ENPP, EXPP and cardinal surfaces\n",
    "gm.draw_pupil_cardinal_planes(ln, firstDummySurfOff=20, push=True)"
   ]
  },
  {
   "cell_type": "code",
   "execution_count": 24,
   "metadata": {
    "collapsed": true
   },
   "outputs": [],
   "source": [
    "# After making the required changes to the surface properties (skip rays)\n",
    "# in the Zemax main application window, the file with the new surfaces\n",
    "# to show the position of the pupils and cardinal planes was saved as\n",
    "# paraxialDoubleLens24mmFiniteConj_mp2_cardinalsDrawn.zmx\n",
    "# For drawing the figure, we can use a stored copy in order to avoid\n",
    "# manually changing surface properties in the LDE again and again\n",
    "loadStoredCopy = True\n",
    "if loadStoredCopy:\n",
    "    storedLens = \"paraxialDoubleLens24mmFiniteConj_mp2_cardinalsDrawn.zmx\"\n",
    "    storedLensPath = os.path.join(zmxdir, storedLens)\n",
    "    ln.zLoadFile(storedLensPath)\n",
    "else:\n",
    "    ln.zGetRefresh()"
   ]
  },
  {
   "cell_type": "code",
   "execution_count": 25,
   "metadata": {
    "collapsed": false
   },
   "outputs": [],
   "source": [
    "#ln.zPushLens()"
   ]
  },
  {
   "cell_type": "code",
   "execution_count": 26,
   "metadata": {
    "collapsed": false
   },
   "outputs": [
    {
     "data": {
      "text/plain": [
       "(4, 20)"
      ]
     },
     "execution_count": 26,
     "metadata": {},
     "output_type": "execute_result"
    }
   ],
   "source": [
    "# Insert appropriate coordinate breaks to tilt the lens\n",
    "imgPPSurf = find_surf_using_comment(ln, \"H'\")\n",
    "cb1, cb2 = gm.insert_cbs_to_tilt_lens(ln, lastSurf=imgPPSurf, firstSurf=2, pivot='ENPP', offset=5, push=True)\n",
    "cb1, cb2"
   ]
  },
  {
   "cell_type": "markdown",
   "metadata": {},
   "source": [
    "As before, we need to do the following:\n",
    "\n",
    "1. In the main Zemax application, check the \"Skip rays to this surface\" for the two dummy surfaces just inserted -- one preceding the first CB and second following the second CB -- in the \"Draw Tab\" under surface properties.\n",
    "\n",
    "2. Fix the semi-diameters of the ENPP and EXPP surfaces so that they don't change when the lens rotates.\n",
    "\n",
    "3. Ensure that the global reference surface is either the PIVOT surface (recommended), image plane or the untilted object plane.\n",
    "\n",
    "4. Also, ensure that you are displaying all the appropriate surfaces in the LDE. "
   ]
  },
  {
   "cell_type": "code",
   "execution_count": 9,
   "metadata": {
    "collapsed": false
   },
   "outputs": [
    {
     "data": {
      "text/plain": [
       "-1"
      ]
     },
     "execution_count": 9,
     "metadata": {},
     "output_type": "execute_result"
    }
   ],
   "source": [
    "## TO DO\n",
    "# set the PIVOT surface to \n",
    "\n",
    "pivot_surf = find_surf_using_comment(ln, 'PIVOT')\n",
    "pivot_surf\n",
    "#if pivot_surf:\n",
    "#    pass\n",
    "#else:\n",
    "#    print(\"Couldn't find)\n",
    "#ln.zSet"
   ]
  },
  {
   "cell_type": "code",
   "execution_count": 180,
   "metadata": {
    "collapsed": true
   },
   "outputs": [],
   "source": [
    "loadStoredCopy = True\n",
    "if loadStoredCopy:\n",
    "    storedLens = \"paraxialDoubleLens24mmFiniteConj_mp2_cardinalsDrawnWdRotAboutENPPplusOffset.zmx\"\n",
    "    storedLensPath = os.path.join(zmxdir, storedLens)\n",
    "    ln.zLoadFile(storedLensPath)\n",
    "    cb1 = 4\n",
    "else:\n",
    "    ln.zGetRefresh()"
   ]
  },
  {
   "cell_type": "code",
   "execution_count": 11,
   "metadata": {
    "collapsed": false
   },
   "outputs": [],
   "source": [
    "#ln.zPushLens()"
   ]
  },
  {
   "cell_type": "markdown",
   "metadata": {},
   "source": [
    "<font color='red'>**Important!**</font> \n",
    "\n",
    "1. Before we perform any ray tracing to plot the intersection of the chief-ray(s) with the image plane, we must ensure that the (paraxial) *ray-aiming* feature in Zemax is turned on. This is important because during ray tracing Zemax determines the direction cosines of the rays that emerges from the object surface based on the paraxial entrance pupil location. However, the paraxial calculation used to compute the entrance pupil ignores tilts and decenters of the surfaces including the stop. Therefore, it is very likely that a \"chief-ray\", which is defined as the ray through the center of the stop (and virtually through the centers of the entrance and exit pupils in an aberration-free optical system), may not be really traced.\n",
    "\n",
    "2. The coordinates (of ray intersection with a surface) returned by `zGetTrace()` are with respect to the surface's reference frame instead of the global reference frame.  "
   ]
  },
  {
   "cell_type": "code",
   "execution_count": 12,
   "metadata": {
    "collapsed": false
   },
   "outputs": [
    {
     "data": {
      "text/plain": [
       "(22, 0, 12, 1, 1, 0, 20.0, 1, 3)"
      ]
     },
     "execution_count": 12,
     "metadata": {},
     "output_type": "execute_result"
    }
   ],
   "source": [
    "sysProp = ln.zGetSystem()\n",
    "ln.zSetSystem(unitCode=sysProp.unitCode, \n",
    "              stopSurf=sysProp.stopSurf, \n",
    "              rayAimingType=1, \n",
    "              globalRefSurf=sysProp.globalRefSurf)"
   ]
  },
  {
   "cell_type": "code",
   "execution_count": null,
   "metadata": {
    "collapsed": true
   },
   "outputs": [],
   "source": []
  },
  {
   "cell_type": "markdown",
   "metadata": {
    "collapsed": true
   },
   "source": [
    "Without tilting the image surface"
   ]
  },
  {
   "cell_type": "code",
   "execution_count": 43,
   "metadata": {
    "collapsed": false
   },
   "outputs": [
    {
     "data": {
      "image/png": "[encoded data removed]",
      "text/plain": [
       "<matplotlib.figure.Figure at 0xa0ccfd0>"
      ]
     },
     "metadata": {},
     "output_type": "display_data"
    }
   ],
   "source": [
    "# plot of chief-ray intersects at the image plane \n",
    "tiltXY = [(0,0), (20, 0)]\n",
    "gm.plot_chiefray_intersects(ln, cb1, tiltXY, False)"
   ]
  },
  {
   "cell_type": "code",
   "execution_count": 44,
   "metadata": {
    "collapsed": false
   },
   "outputs": [
    {
     "data": {
      "image/png": "[encoded data removed]",
      "text/plain": [
       "<matplotlib.figure.Figure at 0xa2a49b0>"
      ]
     },
     "metadata": {},
     "output_type": "display_data"
    }
   ],
   "source": [
    "# plot of chief-ray intersects at the image plane \n",
    "tiltXY = [(0,0), (20, 20)]\n",
    "gm.plot_chiefray_intersects(ln, cb1, tiltXY, False)"
   ]
  },
  {
   "cell_type": "code",
   "execution_count": null,
   "metadata": {
    "collapsed": true
   },
   "outputs": [],
   "source": []
  },
  {
   "cell_type": "code",
   "execution_count": null,
   "metadata": {
    "collapsed": true
   },
   "outputs": [],
   "source": []
  },
  {
   "cell_type": "code",
   "execution_count": 181,
   "metadata": {
    "collapsed": false
   },
   "outputs": [
    {
     "data": {
      "text/plain": [
       "0"
      ]
     },
     "execution_count": 181,
     "metadata": {},
     "output_type": "execute_result"
    }
   ],
   "source": [
    "# insert coordinate break to tilt image surface\n",
    "imaSurf = ln.zGetNumSurf()\n",
    "ln.zInsertCoordinateBreak(surfNum=imaSurf, xtilt=15.0)\n",
    "#paraxialDoubleLens24mmFiniteConj_mp2_cardinalsDrawnWdRotAboutENPPplusOffsetIIMATilt.zmx"
   ]
  },
  {
   "cell_type": "code",
   "execution_count": 46,
   "metadata": {
    "collapsed": false
   },
   "outputs": [
    {
     "data": {
      "image/png": "[encoded data removed]",
      "text/plain": [
       "<matplotlib.figure.Figure at 0xa2a4e10>"
      ]
     },
     "metadata": {},
     "output_type": "display_data"
    }
   ],
   "source": [
    "# plot of chief-ray intersects at the image plane \n",
    "tiltXY = [(0,0), (0, 0)]  # no lens tilt\n",
    "gm.plot_chiefray_intersects(ln, cb1, tiltXY, False)"
   ]
  },
  {
   "cell_type": "code",
   "execution_count": 47,
   "metadata": {
    "collapsed": false
   },
   "outputs": [
    {
     "data": {
      "image/png": "[encoded data removed]",
      "text/plain": [
       "<matplotlib.figure.Figure at 0x99b4ba8>"
      ]
     },
     "metadata": {},
     "output_type": "display_data"
    }
   ],
   "source": [
    "# plot of chief-ray intersects at the image plane \n",
    "tiltXY = [(0,0), (20, 0)]\n",
    "gm.plot_chiefray_intersects(ln, cb1, tiltXY, False)"
   ]
  },
  {
   "cell_type": "code",
   "execution_count": 48,
   "metadata": {
    "collapsed": false
   },
   "outputs": [
    {
     "data": {
      "image/png": "[encoded data removed]",
      "text/plain": [
       "<matplotlib.figure.Figure at 0xa1d69b0>"
      ]
     },
     "metadata": {},
     "output_type": "display_data"
    }
   ],
   "source": [
    "# plot of chief-ray intersects at the image plane \n",
    "tiltXY = [(0,0), (20, 20)]\n",
    "gm.plot_chiefray_intersects(ln, cb1, tiltXY, False)"
   ]
  },
  {
   "cell_type": "code",
   "execution_count": 20,
   "metadata": {
    "collapsed": false
   },
   "outputs": [],
   "source": [
    "#ln.close()"
   ]
  },
  {
   "cell_type": "markdown",
   "metadata": {
    "collapsed": false
   },
   "source": [
    "Verification of the equation:"
   ]
  },
  {
   "cell_type": "markdown",
   "metadata": {
    "collapsed": true
   },
   "source": [
    "\n",
    "$$\n",
    "\\acute{{\\bf x}} = \\acute{d}_e \\, {\\bf r} _{l,3} + \n",
    "\\frac{\\left( \\hat{{\\bf n}}_i (3) \\, \\acute{z}_o  - \\acute{d}_e \\, \\hat{{\\bf n}}_i^T \\, {\\bf r} _{l,3} \\right)}{\\hat{{\\bf n}}_i^T R_l M_p R_l^T ({\\bf x} - d_e\\,{\\bf r} _{l,3})}\n",
    "R_l M_p R_l^T ({\\bf x} - d_e\\,{\\bf r} _{l,3}) \\,\\,\n",
    "$$\n",
    "\n",
    "\n",
    "In the above equation both the object point and the image point are represented with respect to the camera frame ${C}$. \n",
    "\n",
    "$$\n",
    "^{c}\\acute{{\\bf x}} = R_i \\, ^{i}\\acute{{\\bf x}} + {\\bf t}_i\n",
    "$$\n",
    "\n",
    "where, ${\\bf t}_i = [0, 0, \\acute{z}_o]^T$\n",
    "\n",
    "Therefore, the coordinates of the image point in the image frame is\n",
    "\n",
    "\n",
    "$$\n",
    "^{i}\\acute{{\\bf x}} = R^T_i \\,\\left( ^{c}\\acute{{\\bf x}} - {\\bf t}_i \\right)\n",
    "$$\n",
    "\n",
    "\n",
    "We can combine the above equation to write:\n",
    "\n",
    "$$\n",
    "^{i}\\acute{{\\bf x}} = R_i^T \\left( \\acute{d}_e \\, {\\bf r} _{l,3}  - {\\bf t}_i \\right)  + \n",
    "\\frac{\\left( \\hat{{\\bf n}}_i (3) \\, \\acute{z}_o  - \\acute{d}_e \\, \\hat{{\\bf n}}_i^T \\, {\\bf r} _{l,3} \\right)}{\\hat{{\\bf n}}_i^T R_l M_p R_l^T ({\\bf x} - d_e\\,{\\bf r} _{l,3})}\n",
    "R_i^T R_l M_p R_l^T ({\\bf x} - d_e\\,{\\bf r} _{l,3}) \\,\\,\n",
    "$$\n",
    "\n",
    "\n"
   ]
  },
  {
   "cell_type": "code",
   "execution_count": 183,
   "metadata": {
    "collapsed": false
   },
   "outputs": [],
   "source": [
    "# create field coordinates for ray tracing\n",
    "# NOTE: \n",
    "# The following field definitions in the LDE are assumed:\n",
    "# 1. The field normalization is RADIAL\n",
    "# 2. The field type is object height\n",
    "\n",
    "fieldDef = ln.zGetField(0)\n",
    "assert fieldDef.type == 1       # ensure type is object height\n",
    "assert fieldDef.normMethod == 0 # ensure radial normalization\n",
    "\n",
    "# maximum radial field\n",
    "fR = fieldDef.maxX # or maxY\n"
   ]
  },
  {
   "cell_type": "code",
   "execution_count": 184,
   "metadata": {
    "collapsed": false
   },
   "outputs": [
    {
     "name": "stdout",
     "output_type": "stream",
     "text": [
      "Pivot position: 0.0\n",
      "ENPP position (de): -5.0\n",
      "EXPP position (deDash): -25.0\n",
      "Image position (zoDash): 24.1707317\n",
      "Pupil magnification (mp): 1.99999999949\n"
     ]
    }
   ],
   "source": [
    "## Get the positions of the ENPP, EXPP and Image plane w.r.t. the pivot\n",
    "## Get the pupil magnification mp\n",
    "cb1Lens = 4    # coordinate break surface number (assume that it is known)\n",
    "cbImage = 22   # coordinate break surface number (assume that it is known)\n",
    "\n",
    "# first ensure that the lens is not rotated\n",
    "set_lens_image_rotations(ln, 0, 0, 0, 0, cb1Lens, cbImage)\n",
    "\n",
    "zoDash = get_image_pos_from_pivot(ln)\n",
    "de, deDash, pp = get_pupil_pos_from_pivot(ln)\n",
    "mp = ln.zGetPupilMagnification()\n",
    "\n",
    "print('Pivot position:', pp)\n",
    "print('ENPP position (de):', de)\n",
    "print('EXPP position (deDash):', deDash)\n",
    "print('Image position (zoDash):', zoDash)\n",
    "print('Pupil magnification (mp):', mp)"
   ]
  },
  {
   "cell_type": "code",
   "execution_count": 185,
   "metadata": {
    "collapsed": false
   },
   "outputs": [],
   "source": [
    "## Set the elemental rotations of the lens and image plane @ Zemax\n",
    "# note that in Zemax the rotations are intrinsic, i.e. rotations subsequent to \n",
    "# the first rotation is always w.r.t. the new x-y-z axis.\n",
    "# Also, if the order flag in the first coordinate break is 0 (default), then the\n",
    "# order of rotations is: x-y'-z\"\n",
    "\n",
    "thetaXLens, thetaYLens = -20, 10\n",
    "thetaXImage, thetaYImage = 15, -5\n",
    "set_lens_image_rotations(ln, thetaXLens, thetaYLens, thetaXImage, thetaYImage, cb1Lens, cbImage)"
   ]
  },
  {
   "cell_type": "code",
   "execution_count": 187,
   "metadata": {
    "collapsed": false
   },
   "outputs": [],
   "source": [
    "#ln.zPushLens()"
   ]
  },
  {
   "cell_type": "code",
   "execution_count": 18,
   "metadata": {
    "collapsed": false
   },
   "outputs": [],
   "source": [
    "# Construct intrinsic rotation matrix  x-y'-z\"\n",
    "# This is equivalent to composition of extrinsic elemental rotations: z-y-x\n",
    "\n",
    "Rl = np.dot(rotX(thetaXLens), rotY(thetaYLens))\n",
    "rl3 = Rl[:,2] # optical axis\n",
    "Ri = np.dot(rotX(thetaXImage), rotY(thetaYImage))\n",
    "ni = Ri[:, 2] # normal to the image plane"
   ]
  },
  {
   "cell_type": "code",
   "execution_count": 19,
   "metadata": {
    "collapsed": false
   },
   "outputs": [
    {
     "name": "stdout",
     "output_type": "stream",
     "text": [
      "\t  X\t\t\t    x_computed\t\t   x_ray_trace\t\t  err(delx, dely)\n",
      "(   0.00,    0.00, -509.0) (-0.3108, -0.6291,  0.0) (-0.3108, -0.6291,  0.0) (1.8e-09, 3.1e-09, 7.5e-15)\n",
      "(  10.00,  -10.00, -509.0) (-0.8003, -0.0863, -0.0) (-0.8003, -0.0863,  0.0) (2.1e-09, 2.7e-09, 3.0e-15)\n",
      "( -50.00,   50.00, -509.0) ( 2.1291, -3.3352,  0.0) ( 2.1291, -3.3352,  0.0) (1.2e-09, 3.2e-09, 2.9e-15)\n",
      "(  70.71,   70.71, -509.0) (-4.2013, -5.0221, -0.0) (-4.2013, -5.0221,  0.0) (2.6e-09, 5.1e-09, 4.7e-15)\n",
      "( 100.00,    0.00, -509.0) (-5.5251, -1.0101, -0.0) (-5.5251, -1.0101,  0.0) (1.3e-09, 8.4e-09, 3.1e-15)\n",
      "(   0.00,  100.00, -509.0) (-0.6031, -6.4387, -0.0) (-0.6031, -6.4387,  0.0) (2.2e-09, 4.0e-09, 2.2e-16)\n",
      "( 100.00,  100.00, -509.0) (-5.8238, -6.8542,  0.0) (-5.8238, -6.8542,  0.0) (5.6e-10, 2.5e-10, 2.2e-15)\n"
     ]
    }
   ],
   "source": [
    "# Verify using ray-tracing in Zemax\n",
    "# Ensure that \"ray-aiming\" is on\n",
    "\n",
    "assert ln.zGetSystem().rayAimingType\n",
    "z = get_obj_pos_from_pivot(ln)\n",
    "normObjPts = np.array([[ 0.0000,  0.0000], \n",
    "                       [ 0.1000, -0.1000],\n",
    "                       [-0.5000,  0.5000],\n",
    "                       [ 0.7071,  0.7071],\n",
    "                       [ 1.0000,  0.0000],\n",
    "                       [ 0.0000,  1.0000],\n",
    "                       [ 1.0000,  1.0000]\n",
    "                       ])\n",
    "\n",
    "Mp = np.array([[1, 0, 0], [0, 1, 0], [0, 0, mp]])\n",
    "numr = ni[2]*zoDash - deDash*np.dot(ni, rl3)\n",
    "rmrt = np.dot(Rl , np.dot(Mp, Rl.T))\n",
    "\n",
    "print('\\t  X\\t\\t\\t    x_computed\\t\\t   x_ray_trace\\t\\t  err(delx, dely)')\n",
    "for pts in normObjPts:\n",
    "    X = np.hstack((fR*pts, [z,]))\n",
    "    A =  np.dot(rmrt, X - de*rl3)\n",
    "    deno = np.dot(ni, A)\n",
    "    x_c_est = deDash*rl3 + (numr/deno)*A   # estimate of x in camera frame\n",
    "    x_est = np.dot(Ri.T, (x_c_est - np.array([0, 0, zoDash]).T))  # estimate of x in the image frame\n",
    "    \n",
    "    # ray trace\n",
    "    rt = ln.zGetTrace(waveNum=1, mode=0, surf=-1, hx=pts[0], hy=pts[1], px=0, py=0)\n",
    "    print('({: 7.2f}, {: 7.2f}, {: 5.1f}) '\n",
    "          '({: .4f}, {: .4f}, {: .1f}) '\n",
    "          '({: .4f}, {: .4f}, {: .1f}) '\n",
    "          '({:0.1e}, {:0.1e}, {:0.1e})'\n",
    "          .format(X[0], X[1], X[2],\n",
    "                  x_est[0], x_est[1], x_est[2],\n",
    "                  rt.x, rt.y, rt.z, \n",
    "                  abs(x_est[0] - rt.x), abs(x_est[1] - rt.y), abs(x_est[2] - rt.z)))"
   ]
  },
  {
   "cell_type": "code",
   "execution_count": 21,
   "metadata": {
    "collapsed": false
   },
   "outputs": [],
   "source": [
    "ln.close()"
   ]
  },
  {
   "cell_type": "markdown",
   "metadata": {},
   "source": [
    "\n"
   ]
  },
  {
   "cell_type": "markdown",
   "metadata": {
    "collapsed": false
   },
   "source": [
    "### Patterns of image points to show the nature of image field"
   ]
  },
  {
   "cell_type": "markdown",
   "metadata": {},
   "source": [
    "First we need to find the distances of the ENPP and EXPP from the PIVOT (of the lens group) point. The following block of code is used to retrieve this information. Note that it requires Zemax in running state.\n",
    "\n",
    "Please make sure that there is no unsaved file in the Zemax DDE server, the following block of code will load files erasing any unsaved file that is present in the DDE server."
   ]
  },
  {
   "cell_type": "code",
   "execution_count": 132,
   "metadata": {
    "collapsed": true
   },
   "outputs": [],
   "source": [
    "# Execute this cell only if Zemax is not already running\n",
    "ln = pyz.createLink()"
   ]
  },
  {
   "cell_type": "code",
   "execution_count": 135,
   "metadata": {
    "collapsed": false
   },
   "outputs": [],
   "source": [
    "# This cell requires a running Zemax  application\n",
    "def print_pupil_distances_from_lens_pivot_point(pivotOffset=5):\n",
    "    \"\"\"\n",
    "    @param : pivotOffset (real) : offset of the lens group pivot point from the ENPP\n",
    "    \"\"\"\n",
    "    lensFiles = [\"paraxialDoubleLens24mmFiniteConj_mp1.zmx\",\n",
    "                 \"paraxialDoubleLens24mmFiniteConj_mp2.zmx\",\n",
    "                 \"paraxialDoubleLens24mmFiniteConj_mpdot55.zmx\"]\n",
    "\n",
    "    zmxdir = os.path.join(curDir, 'zmxfiles')\n",
    "    for lens in lensFiles:\n",
    "        lensPath = os.path.join(zmxdir, lens)\n",
    "        ln.zLoadFile(lensPath)\n",
    "\n",
    "        # draw cardinal and pupil planes\n",
    "        gm.draw_pupil_cardinal_planes(ln, firstDummySurfOff=20, push=True, printInfo=False)\n",
    "\n",
    "        # insert CBs\n",
    "        imgPPSurf = find_surf_using_comment(ln, \"H'\")\n",
    "        objPPSurf = find_surf_using_comment(ln, \"H\")\n",
    "        cb1, cb2 = gm.insert_cbs_to_tilt_lens(ln, lastSurf=imgPPSurf, firstSurf=objPPSurf-1, \n",
    "                                              pivot='ENPP', offset=pivotOffset, push=True)\n",
    "\n",
    "        # change Global reference surface to the PIVOT surface\n",
    "        pivotSurf = find_surf_using_comment(ln, 'PIVOT')\n",
    "        sysProp = ln.zGetSystem()\n",
    "        _ = ln.zSetSystem(unitCode=sysProp.unitCode, \n",
    "                          stopSurf=sysProp.stopSurf, \n",
    "                          rayAimingType=sysProp.rayAimingType, \n",
    "                          globalRefSurf=pivotSurf)\n",
    "        # retrieve and print data\n",
    "        zoDash = get_image_pos_from_pivot(ln)\n",
    "        de, deDash, pp = get_pupil_pos_from_pivot(ln)\n",
    "        mp = ln.zGetPupilMagnification()\n",
    "\n",
    "        print('\\nLens:', lens)\n",
    "        print('Pupil magnification (mp):', mp)\n",
    "        print('Pivot position:', pp)\n",
    "        print('ENPP position (de):', de)\n",
    "        print('EXPP position (deDash):', deDash)\n",
    "        print('Image position (zoDash):', zoDash)"
   ]
  },
  {
   "cell_type": "code",
   "execution_count": 136,
   "metadata": {
    "collapsed": false
   },
   "outputs": [
    {
     "name": "stdout",
     "output_type": "stream",
     "text": [
      "\n",
      "Lens: paraxialDoubleLens24mmFiniteConj_mp1.zmx\n",
      "Pupil magnification (mp): 1.0\n",
      "Pivot position: 0.0\n",
      "ENPP position (de): -5.0\n",
      "EXPP position (deDash): -13.0\n",
      "Image position (zoDash): 12.1707317\n",
      "\n",
      "Lens: paraxialDoubleLens24mmFiniteConj_mp2.zmx\n",
      "Pupil magnification (mp): 1.99999999949\n",
      "Pivot position: 0.0\n",
      "ENPP position (de): -5.0\n",
      "EXPP position (deDash): -25.0\n",
      "Image position (zoDash): 24.1707317\n",
      "\n",
      "Lens: paraxialDoubleLens24mmFiniteConj_mpdot55.zmx\n",
      "Pupil magnification (mp): 0.55000000037\n",
      "Pivot position: 0.0\n",
      "ENPP position (de): -5.0\n",
      "EXPP position (deDash): -21.8363636\n",
      "Image position (zoDash): -7.4656319\n"
     ]
    }
   ],
   "source": [
    "# This cell requires a running Zemax  application\n",
    "# Offset of lens group PIVOT point from ENPP = 5 mm\n",
    "print_pupil_distances_from_lens_pivot_point(pivotOffset=5)"
   ]
  },
  {
   "cell_type": "code",
   "execution_count": 137,
   "metadata": {
    "collapsed": false
   },
   "outputs": [
    {
     "name": "stdout",
     "output_type": "stream",
     "text": [
      "\n",
      "Lens: paraxialDoubleLens24mmFiniteConj_mp1.zmx\n",
      "Pupil magnification (mp): 1.0\n",
      "Pivot position: 0.0\n",
      "ENPP position (de): 0.0\n",
      "EXPP position (deDash): -8.0\n",
      "Image position (zoDash): 17.1707317\n",
      "\n",
      "Lens: paraxialDoubleLens24mmFiniteConj_mp2.zmx\n",
      "Pupil magnification (mp): 1.99999999949\n",
      "Pivot position: 0.0\n",
      "ENPP position (de): 0.0\n",
      "EXPP position (deDash): -20.0\n",
      "Image position (zoDash): 29.1707317\n",
      "\n",
      "Lens: paraxialDoubleLens24mmFiniteConj_mpdot55.zmx\n",
      "Pupil magnification (mp): 0.55000000037\n",
      "Pivot position: 0.0\n",
      "ENPP position (de): 0.0\n",
      "EXPP position (deDash): -16.8363636\n",
      "Image position (zoDash): -2.4656319\n"
     ]
    }
   ],
   "source": [
    "# This cell requires a running Zemax  application\n",
    "# Offset of lens group PIVOT point from ENPP = 0 mm\n",
    "print_pupil_distances_from_lens_pivot_point(pivotOffset=0)"
   ]
  },
  {
   "cell_type": "code",
   "execution_count": 188,
   "metadata": {
    "collapsed": true
   },
   "outputs": [],
   "source": [
    "# This cell requires a running Zemax  application\n",
    "ln.close()"
   ]
  },
  {
   "cell_type": "markdown",
   "metadata": {},
   "source": [
    "The following sections of the code can run without Zemax running."
   ]
  },
  {
   "cell_type": "code",
   "execution_count": 19,
   "metadata": {
    "collapsed": false
   },
   "outputs": [],
   "source": [
    "def get_image_coordinates(X, thetaXLens, thetaYLens, thetaXImage, thetaYImage, mp, zoDash, de, deDash):\n",
    "    \"\"\"returns the coordinates of the chief-ray-image-plane intersections in the image surface\n",
    "    reference frame\n",
    "    \n",
    "    Parameters\n",
    "    ----------\n",
    "    X : ndarray\n",
    "        3xN array of object coordinates (in camera frame)\n",
    "    \n",
    "    \n",
    "    \"\"\"\n",
    "    # construct lens rotation matrix and optical axis vector\n",
    "    Rl = np.dot(rotX(thetaXLens), rotY(thetaYLens))\n",
    "    rl3 = Rl[:, 2, np.newaxis]  # optical axis\n",
    "    # construct image plane rotation matrix and image plane normal\n",
    "    Ri = np.dot(rotX(thetaXImage), rotY(thetaYImage))\n",
    "    ni = Ri[:, 2, np.newaxis]   # normal to the image plane\n",
    "    # pupil magnification matrix\n",
    "    Mp = np.array([[1, 0, 0], [0, 1, 0], [0, 0, mp]])\n",
    "    numr = ni[2]*zoDash - deDash*np.dot(ni.T, rl3)\n",
    "    rmrt = np.dot(Rl , np.dot(Mp, Rl.T))\n",
    "    A =  np.dot(rmrt, X - de*rl3)  # [A]=3xn\n",
    "    deno = np.dot(ni.T, A)    # [deno]=1xn\n",
    "    x_c = deDash*rl3 + (numr/deno)*A   # x in camera frame\n",
    "    x_i = np.dot(Ri.T, (x_c - np.array([[0, 0, zoDash]]).T))  # x in the image frame\n",
    "    return x_i\n",
    "\n",
    "# implementation of the second expression (equivalent)\n",
    "\n",
    "def get_image_coordinates_v2(X, thetaXLens, thetaYLens, thetaXImage, thetaYImage, mp, zoDash, de, deDash):\n",
    "    \"\"\"returns the coordinates of the chief-ray-image-plane intersections in the image surface\n",
    "    reference frame\n",
    "    \n",
    "    Parameters\n",
    "    ----------\n",
    "    X : ndarray\n",
    "        3xN array of object coordinates (in camera frame)\n",
    "    \n",
    "    \n",
    "    \"\"\"\n",
    "    # construct lens rotation matrix and optical axis vector\n",
    "    Rl = np.dot(rotX(thetaXLens), rotY(thetaYLens))\n",
    "    rl3 = Rl[:, 2, np.newaxis]  # optical axis\n",
    "    # construct image plane rotation matrix and image plane normal\n",
    "    Ri = np.dot(rotX(thetaXImage), rotY(thetaYImage))\n",
    "    ti = np.array([[0, 0, zoDash]]).T\n",
    "    #ri3 = Ri[:, 2, np.newaxis]   # same as ni\n",
    "    ni = Ri[:, 2, np.newaxis]   # normal to the image plane\n",
    "    # pupil magnification matrix\n",
    "    Mp = np.array([[1, 0, 0], [0, 1, 0], [0, 0, mp]])\n",
    "    numr = ni[2]*zoDash - deDash*np.dot(ni.T, rl3)\n",
    "    rmrt = np.dot(Rl , np.dot(Mp, Rl.T))\n",
    "    A =  np.dot(rmrt, X - de*rl3)  # [A]=3xn\n",
    "    deno = np.dot(ni.T, A)    # [deno]=1xn \n",
    "    \n",
    "    x_i = np.dot(Ri.T, (deDash*rl3 - ti)) + (numr/deno)* np.dot(Ri.T, A)  # x in image frame\n",
    "    return x_i"
   ]
  },
  {
   "cell_type": "code",
   "execution_count": 232,
   "metadata": {
    "collapsed": false
   },
   "outputs": [],
   "source": [
    "z = -509.0\n",
    "fR= 100\n",
    "de = -5.0\n",
    "deDash = -25.0\n",
    "zoDash = 24.1707317\n",
    "mp = 2.0\n",
    "\n",
    "# normalized field coordinate grid\n",
    "nx = [-1.0, -0.7071, -0.5, 0.0, 0.5, 0.7071, 1.0]\n",
    "n = len(nx)\n",
    "hx, hy = np.meshgrid(nx, nx)\n",
    "X = np.vstack((fR*hx.reshape(1, n**2), fR*hy.reshape(1, n**2), z*np.ones((1, n**2))))\n",
    "\n",
    "#\n",
    "thetaXLens, thetaYLens =  5., 10.\n",
    "thetaXImage, thetaYImage =  5, -2\n",
    "x1 = get_image_coordinates(X, thetaXLens, thetaYLens, thetaXImage, thetaYImage, mp, zoDash, de, deDash)\n",
    "x2 = get_image_coordinates_v2(X, thetaXLens, thetaYLens, thetaXImage, thetaYImage, mp, zoDash, de, deDash)\n",
    "\n",
    "assert np.sum(x1 - x2) < 10e-10"
   ]
  },
  {
   "cell_type": "code",
   "execution_count": null,
   "metadata": {
    "collapsed": false
   },
   "outputs": [],
   "source": []
  },
  {
   "cell_type": "code",
   "execution_count": null,
   "metadata": {
    "collapsed": false
   },
   "outputs": [],
   "source": []
  },
  {
   "cell_type": "code",
   "execution_count": null,
   "metadata": {
    "collapsed": false
   },
   "outputs": [],
   "source": []
  },
  {
   "cell_type": "code",
   "execution_count": 277,
   "metadata": {
    "collapsed": false
   },
   "outputs": [
    {
     "name": "stdout",
     "output_type": "stream",
     "text": [
      "1.2490009027e-16 0.0\n",
      "-0.697245941981 2.84789883629\n",
      "6.24500451352e-17 0.0\n",
      "-0.697245941981 2.78780890243\n"
     ]
    },
    {
     "data": {
      "image/png": "[encoded data removed]",
      "text/plain": [
       "<matplotlib.figure.Figure at 0xb39d5f8>"
      ]
     },
     "metadata": {},
     "output_type": "display_data"
    }
   ],
   "source": [
    "# plot \n",
    "\n",
    "# normalized field coordinates (common for all the optical systems)\n",
    "n = 7\n",
    "nx = np.linspace(-1, 1, n)\n",
    "hx, hy = np.meshgrid(nx, nx)\n",
    "fR= 100 \n",
    "\n",
    "# for drawing the outer boundary\n",
    "nB = 15\n",
    "nxB = np.linspace(-1, 1, nB)    \n",
    "hxB, hyB = np.meshgrid(nxB, nxB)\n",
    "\n",
    "\n",
    "# PLOT SETTINGS\n",
    "# ****************************\n",
    "# Set optical system\n",
    "OPTICAL_SYSTEM = 2  # mp(1)=0.55 , mp(2)=1.0 or mp(not(1,2))=2.0\n",
    "PIVOT_OFFSET = 0    # 0 or 5 mm from the ENPP \n",
    "COMPARE_PIVOT_OFFSET = True   # set OPTICAL_SYSTEM=2 set the particular PIVOT_OFFSET value = 0\n",
    "TILT_UNOFFSET = False\n",
    "# ******************************\n",
    "\n",
    "## Set tilts\n",
    "if COMPARE_PIVOT_OFFSET:\n",
    "    # to compare Pivot offset\n",
    "    thetaXLens, thetaYLens, thetaXImage, thetaYImage =  20, 5, 10, 0\n",
    "else:\n",
    "    #thetaXLens, thetaYLens, thetaXImage, thetaYImage =  0, 0, 20, 0\n",
    "    #thetaXLens, thetaYLens, thetaXImage, thetaYImage =  5, 0, 0, 0\n",
    "    thetaXLens, thetaYLens, thetaXImage, thetaYImage =  5, 0, 20, 0\n",
    "\n",
    "\n",
    "assert PIVOT_OFFSET in (0, 5)\n",
    "\n",
    "if OPTICAL_SYSTEM == 1: # mp = 0.550000000\n",
    "    # Optical System 1\n",
    "    de = -5.0 if PIVOT_OFFSET else 0.0\n",
    "    deDash = -21.8363636 if PIVOT_OFFSET else -16.8363636\n",
    "    zoDash = -7.4656319 if PIVOT_OFFSET else -2.4656319\n",
    "    mp = 0.55\n",
    "elif OPTICAL_SYSTEM == 2: # mp = 1.0\n",
    "    # Optical System 2\n",
    "    de = -5.0 if PIVOT_OFFSET else 0.0\n",
    "    deDash = -13.0 if PIVOT_OFFSET else -8.0\n",
    "    zoDash = 12.1707317 if PIVOT_OFFSET else 17.1707317\n",
    "    mp = 1.0\n",
    "else: # mp = 2.0\n",
    "    # Optical System 3\n",
    "    de = -5.0 if PIVOT_OFFSET else 0.0\n",
    "    deDash = -25.0 if PIVOT_OFFSET else -20.0\n",
    "    zoDash = 24.1707317 if PIVOT_OFFSET else 29.1707317\n",
    "    mp = 2.0\n",
    "\n",
    "# Object planes (zFar and zNear have nothing to do with DOF, they are just two planes in object space)\n",
    "#zNear = -509.0  \n",
    "#zFar = -809.0\n",
    "\n",
    "zNear = -500.0\n",
    "zFar = -1000.0\n",
    "\n",
    "\n",
    "# COMPUTATOINS\n",
    "# points @ object plane Z1\n",
    "XNear = np.vstack((fR*hx.reshape(1, n**2), fR*hy.reshape(1, n**2), zNear*np.ones((1, n**2))))\n",
    "XNearB = np.vstack((fR*hxB.reshape(1, nB**2), fR*hyB.reshape(1, nB**2), zNear*np.ones((1, nB**2))))\n",
    "# image points for zero tilts @ object plane Z1\n",
    "x1 = get_image_coordinates(XNear, 0, 0, 0, 0, mp, zoDash, de, deDash)\n",
    "x1B = get_image_coordinates(XNearB, 0, 0, 0, 0, mp, zoDash, de, deDash)\n",
    "# image points for finite tilts @ object plane Z1\n",
    "x2 = get_image_coordinates(XNear, thetaXLens, thetaYLens, thetaXImage, thetaYImage, mp, zoDash, de, deDash)\n",
    "x2B = get_image_coordinates(XNearB, thetaXLens, thetaYLens, thetaXImage, thetaYImage, mp, zoDash, de, deDash)\n",
    "# points @ object plane Z2\n",
    "XFar = np.vstack((fR*hx.reshape(1, n**2), fR*hy.reshape(1, n**2), zFar*np.ones((1, n**2))))\n",
    "XFarB = np.vstack((fR*hxB.reshape(1, nB**2), fR*hyB.reshape(1, nB**2), zFar*np.ones((1, nB**2))))\n",
    "# image points for zero tilts @ object plane Z2 \n",
    "x3 = get_image_coordinates_v2(XFar, 0, 0, 0, 0, mp, zoDash, de, deDash)\n",
    "x3B = get_image_coordinates_v2(XFarB, 0, 0, 0, 0, mp, zoDash, de, deDash)\n",
    "# image points for finite tilts @ object plane Z1\n",
    "x4 = get_image_coordinates_v2(XFar, thetaXLens, thetaYLens, thetaXImage, thetaYImage, mp, zoDash, de, deDash)\n",
    "x4B = get_image_coordinates_v2(XFarB, thetaXLens, thetaYLens, thetaXImage, thetaYImage, mp, zoDash, de, deDash)\n",
    "\n",
    "\n",
    "# compensation for tilt offset\n",
    "tOffset = x2[:2, n**2 // 2] - x1[:2, n**2 // 2] if TILT_UNOFFSET else np.array([0, 0]) \n",
    "#tOffset = x4[:2, n**2 // 2] - x3[:2, n**2 // 2] if TILT_UNOFFSET else np.array([0, 0]) \n",
    "\n",
    "\n",
    "# FIGURE\n",
    "#fig, ax = plt.subplots(1, 1, figsize=(8.45, 5), dpi=200)\n",
    "fig, ax = plt.subplots(1, 1, figsize=(8.45, 5.), dpi=200)\n",
    "\n",
    "# Object plane at Z1\n",
    "# ------------------\n",
    "# displace plot for Z1 and Z2\n",
    "xOffset, yOffset = 5, 0\n",
    "\n",
    "ax.scatter(x1[0, :] + xOffset, x1[1, :] + yOffset, marker='o', s=10, \n",
    "           facecolors='b', edgecolors='b', alpha=0.7, zorder=12)\n",
    "\n",
    "# grid to show the undistorted shape of points\n",
    "xGridPts = x1[0, :][:n] + xOffset\n",
    "yGridPts = x1[1, :][::n] + yOffset\n",
    "ax.vlines(xGridPts, ymin=min(yGridPts), ymax=max(yGridPts), zorder=2, colors='#CFCFFF', lw=0.8)\n",
    "ax.hlines(yGridPts, xmin=min(xGridPts), xmax=max(xGridPts), zorder=2, colors='#CFCFFF', lw=0.8)\n",
    "\n",
    "# finite tilts\n",
    "ax.scatter(x2[0, :] + xOffset - tOffset[0], x2[1, :] + yOffset - tOffset[1], \n",
    "           marker='o', s=10, facecolors='r', edgecolor='r', alpha=0.7, zorder=12, clip_on=False)\n",
    "\n",
    "# draw lines to indicate displacements of ponits\n",
    "if not (COMPARE_PIVOT_OFFSET and TILT_UNOFFSET):    \n",
    "    for i in range(x1.shape[1]):\n",
    "        #ax.plot([x1[0, i] + xOffset, x2[0, i] + xOffset],   # x-coordinates\n",
    "        #        [x1[1, i] + yOffset, x2[1, i] + yOffset] ,  # y-coordinates\n",
    "        #        color='#888888', linewidth=1.2, zorder=5, clip_on=False)\n",
    "        arrLength = np.sqrt((x2[0, i] - x1[0, i])**2 +  (x2[1, i] - x1[1, i])**2)\n",
    "        arrStyle = \"->\" if arrLength > 0.25 else \"-\"\n",
    "        ax.annotate(\"\", \n",
    "                    xy=(x2[0, i] + xOffset, x2[1, i] + yOffset), \n",
    "                    xytext=(x1[0, i] + xOffset, x1[1, i] + yOffset),\n",
    "        arrowprops=dict(arrowstyle=arrStyle, color='#888888', linewidth=1.2), \n",
    "                    annotation_clip=False, zorder=5)\n",
    "    \n",
    "# draw outer boundery\n",
    "ax.plot(x2B[0, :nB] + xOffset - tOffset[0], x2B[1, :nB], color='#FFBBBB', \n",
    "        lw=0.9, zorder=2, clip_on=False) # top\n",
    "ax.plot(x2B[0, -nB::] + xOffset - tOffset[0], x2B[1, -nB::], color='#FFBBBB', \n",
    "        lw=0.9, zorder=2, clip_on=False) # bottom\n",
    "ax.plot(x2B[0, nB-1::nB] + xOffset - tOffset[0], x2B[1, nB-1::nB], color='#FFBBBB', \n",
    "        lw=1.0, zorder=2, clip_on=False) # left side\n",
    "ax.plot(x2B[0, ::nB] + xOffset - tOffset[0], x2B[1, ::nB], color='#FFBBBB', \n",
    "        lw=1.0, zorder=2, clip_on=False) # right side\n",
    "\n",
    "# center of mass\n",
    "xMean = np.sum(x1[0, :]/n**2)\n",
    "yMean = np.sum(x1[1, :]/n**2)\n",
    "\n",
    "print(xMean, yMean)\n",
    "\n",
    "\n",
    "# center of mass\n",
    "xMean = np.sum(x2[0, :]/n**2)\n",
    "yMean = np.sum(x2[1, :]/n**2)\n",
    "\n",
    "print(xMean, yMean)\n",
    "\n",
    "\n",
    "# center of mass\n",
    "xMean = np.sum(x3[0, :]/n**2)\n",
    "yMean = np.sum(x3[1, :]/n**2)\n",
    "\n",
    "print(xMean, yMean)\n",
    "\n",
    "\n",
    "# center of mass\n",
    "xMean = np.sum(x4[0, :]/n**2)\n",
    "yMean = np.sum(x4[1, :]/n**2)\n",
    "\n",
    "print(xMean, yMean)\n",
    "\n",
    "    \n",
    "# Object plane at Z2\n",
    "# ------------------\n",
    "xOffset, yOffset = -5, 0\n",
    "\n",
    "ax.scatter(x3[0, :] + xOffset, x3[1, :] + yOffset, marker='o', s=10, \n",
    "           facecolors='b', edgecolors='b', alpha=0.7, zorder=12)\n",
    "\n",
    "# grid to show the undistorted shape of points\n",
    "xGridPts = x3[0, :][:n] + xOffset\n",
    "yGridPts = x3[1, :][::n] + yOffset\n",
    "ax.vlines(xGridPts, ymin=min(yGridPts), ymax=max(yGridPts), zorder=2, colors='#CFCFFF', lw=0.8)\n",
    "ax.hlines(yGridPts, xmin=min(xGridPts), xmax=max(xGridPts), zorder=2, colors='#CFCFFF', lw=0.8)\n",
    "\n",
    "# finite tilts\n",
    "ax.scatter(x4[0, :] + xOffset - tOffset[0], x4[1, :] + yOffset - tOffset[1], \n",
    "           marker='o', s=10, facecolors='r', edgecolor='r', alpha=0.7, clip_on=False, zorder=12)\n",
    "\n",
    "# draw lines to indicate displacements of points\n",
    "if not (COMPARE_PIVOT_OFFSET and TILT_UNOFFSET):   \n",
    "    for i in range(x1.shape[1]):\n",
    "        #ax.plot([x3[0, i] + xOffset, x4[0, i] + xOffset],  # x-coordinates\n",
    "        #        [x3[1, i] + yOffset, x4[1, i] + yOffset] ,  #y-coordinates\n",
    "        #        color='#888888', linewidth=1.2, zorder=5, clip_on=False)\n",
    "        arrLength = np.sqrt((x4[0, i] - x3[0, i])**2 +  (x4[1, i] - x3[1, i])**2)\n",
    "        arrStyle = \"->\" if arrLength > 0.25 else \"-\"\n",
    "        ax.annotate(\"\", \n",
    "                    xy=(x4[0, i] + xOffset, x4[1, i] + yOffset), \n",
    "                    xytext=(x3[0, i] + xOffset, x3[1, i] + yOffset),\n",
    "        arrowprops=dict(arrowstyle=arrStyle, color='#888888', linewidth=1.2), \n",
    "                    annotation_clip=False, zorder=5)\n",
    "\n",
    "# draw outer boundery\n",
    "ax.plot(x4B[0, :nB] + xOffset - tOffset[0], x4B[1, :nB], color='#FFBBBB', \n",
    "        lw=0.9, clip_on=False, zorder=2) # top\n",
    "ax.plot(x4B[0, -nB::] + xOffset - tOffset[0], x4B[1, -nB::], color='#FFBBBB', \n",
    "        lw=0.9, clip_on=False, zorder=2) # bottom\n",
    "ax.plot(x4B[0, nB-1::nB] + xOffset - tOffset[0], x4B[1, nB-1::nB], color='#FFBBBB', \n",
    "        clip_on=False, lw=1.0, zorder=2) # left side\n",
    "ax.plot(x4B[0, ::nB] + xOffset - tOffset[0], x4B[1, ::nB], color='#FFBBBB', \n",
    "        lw=1.0, clip_on=False, zorder=2) # right side\n",
    "        \n",
    "##\n",
    "if COMPARE_PIVOT_OFFSET:\n",
    "    ax.set_xlim(-9, 11)\n",
    "    ax.set_ylim(-6, 11)\n",
    "else:\n",
    "    ax.set_xlim(-9, 11)\n",
    "    ax.set_ylim(-6, 8)\n",
    "ax.set_aspect('equal')\n",
    "#ax.axis('tight')\n",
    "ax.set_ylabel(r'$\\'{\\bf{y}} \\,\\it{(mm)}$', fontsize=15, color='#444444', labelpad=-10)\n",
    "ax.set_xlabel(r'$\\'{\\bf{x}} \\,\\it{(mm)}$', fontsize=15, color='#444444', labelpad=-2)\n",
    "\n",
    "#ax.text(-0.012, 1.015, s=r'$\\'{\\bf{y}}$', fontsize=15, color='#444444', transform=ax.transAxes)\n",
    "#ax.text(1.01, -0.015, s=r'$\\'{\\bf{x}}$', fontsize=15, color='#444444', transform=ax.transAxes)\n",
    "\n",
    "ax.xaxis.set_ticks_position('bottom')\n",
    "ax.yaxis.set_ticks_position('left')\n",
    "#ax.grid()\n",
    "\n",
    "txt1 = r'$m_p ={}$'.format(mp)\n",
    "txt2 = r'$\\alpha_{{L x}} ={}^o, \\, \\theta_{{L y}} ={}^o$'.format(thetaXLens, thetaYLens)   \n",
    "txt3 = r'$\\alpha_{{I x}} ={}^o, \\, \\alpha_{{I y}} ={}^o$'.format(thetaXImage, thetaYImage) \n",
    "\n",
    "# at bottom left corner\n",
    "#fig.text(0.21, 0.231, txt1, fontsize=15, color='#333333')\n",
    "#fig.text(0.21, 0.186, txt2, fontsize=15, color='#333333')\n",
    "#fig.text(0.21, 0.141, txt3, fontsize=15, color='#333333')\n",
    "\n",
    "# at top right (outside the axes)\n",
    "fig.text(0.86, 0.86, txt1, fontsize=18, color='#000000')\n",
    "fig.text(0.86, 0.80, txt2, fontsize=18, color='#333333')\n",
    "fig.text(0.86, 0.74, txt3, fontsize=18, color='#333333')\n",
    "\n",
    "\n",
    "# Save the figure\n",
    "#saveFigure(fig, 'distortion_grid_33.png')\n",
    "\n",
    "plt.show()"
   ]
  },
  {
   "cell_type": "code",
   "execution_count": null,
   "metadata": {
    "collapsed": false
   },
   "outputs": [],
   "source": []
  },
  {
   "cell_type": "code",
   "execution_count": null,
   "metadata": {
    "collapsed": false
   },
   "outputs": [],
   "source": []
  },
  {
   "cell_type": "code",
   "execution_count": null,
   "metadata": {
    "collapsed": false
   },
   "outputs": [],
   "source": []
  },
  {
   "cell_type": "code",
   "execution_count": 153,
   "metadata": {
    "collapsed": false
   },
   "outputs": [],
   "source": []
  },
  {
   "cell_type": "code",
   "execution_count": 243,
   "metadata": {
    "collapsed": false
   },
   "outputs": [],
   "source": [
    "k = x2[:2, :] - x1[:2,:]\n",
    "s = x4[:2, :] - x3[:2, :]"
   ]
  },
  {
   "cell_type": "code",
   "execution_count": 244,
   "metadata": {
    "collapsed": false
   },
   "outputs": [
    {
     "data": {
      "text/plain": [
       "[<matplotlib.lines.Line2D at 0xa001630>]"
      ]
     },
     "execution_count": 244,
     "metadata": {},
     "output_type": "execute_result"
    },
    {
     "data": {
      "image/png": "[encoded data removed]",
      "text/plain": [
       "<matplotlib.figure.Figure at 0xa0012e8>"
      ]
     },
     "metadata": {},
     "output_type": "display_data"
    }
   ],
   "source": [
    "# case: only lens tilt about x-axis by 20 deg, pivot = ENPP\n",
    "plt.plot(np.linalg.norm(k, axis=0))\n",
    "plt.plot(np.linalg.norm(s, axis=0))"
   ]
  },
  {
   "cell_type": "code",
   "execution_count": 248,
   "metadata": {
    "collapsed": false
   },
   "outputs": [
    {
     "data": {
      "text/plain": [
       "array([-0.1499075,  3.2310386])"
      ]
     },
     "execution_count": 248,
     "metadata": {},
     "output_type": "execute_result"
    }
   ],
   "source": [
    "k[:, 0]"
   ]
  },
  {
   "cell_type": "code",
   "execution_count": 140,
   "metadata": {
    "collapsed": false
   },
   "outputs": [
    {
     "data": {
      "text/plain": [
       "[<matplotlib.lines.Line2D at 0xa159e10>]"
      ]
     },
     "execution_count": 140,
     "metadata": {},
     "output_type": "execute_result"
    },
    {
     "data": {
      "image/png": "[encoded data removed]",
      "text/plain": [
       "<matplotlib.figure.Figure at 0xa159dd8>"
      ]
     },
     "metadata": {},
     "output_type": "display_data"
    }
   ],
   "source": [
    "# case: only lens tilt about x-axis by 20 deg, pivot = 5 mm from ENPP\n",
    "plt.plot(np.linalg.norm(k, axis=0))\n",
    "plt.plot(np.linalg.norm(s, axis=0))"
   ]
  },
  {
   "cell_type": "code",
   "execution_count": 107,
   "metadata": {
    "collapsed": false
   },
   "outputs": [],
   "source": []
  },
  {
   "cell_type": "code",
   "execution_count": 156,
   "metadata": {
    "collapsed": false
   },
   "outputs": [],
   "source": [
    "k = x2[:2, 49//2] - x1[:2, 49//2]\n",
    "s = x4[:2, 49//2] - x3[:2, 49//2]"
   ]
  },
  {
   "cell_type": "code",
   "execution_count": 278,
   "metadata": {
    "collapsed": false
   },
   "outputs": [
    {
     "data": {
      "text/plain": [
       "17.1707317"
      ]
     },
     "execution_count": 278,
     "metadata": {},
     "output_type": "execute_result"
    }
   ],
   "source": [
    "\n"
   ]
  },
  {
   "cell_type": "code",
   "execution_count": 285,
   "metadata": {
    "collapsed": false
   },
   "outputs": [
    {
     "data": {
      "text/plain": [
       "array([[ 43.7919369,   0.       ,   3.4597479],\n",
       "       [  0.       ,  43.7919369,  -1.7431149],\n",
       "       [  0.       ,   0.       ,   1.       ]])"
      ]
     },
     "execution_count": 285,
     "metadata": {},
     "output_type": "execute_result"
    }
   ],
   "source": [
    "z = -509.0\n",
    "d = -20.0\n",
    "zoDash = 24.1707317\n",
    "mp = 2.0\n",
    "thetaXLens, thetaYLens =  5., 10.\n",
    "thetaXImage, thetaYImage =  5, -2\n",
    "Rl = np.dot(rotX(thetaXLens), rotY(thetaYLens))\n",
    "#Ri = np.dot(rotX(thetaXImage), rotY(thetaYImage))\n",
    "\n",
    "\n",
    "A = np.array([[zoDash - d*Rl[2, 2],      0   ,   d*Rl[2, 0] ],\n",
    "              [     0,    zoDash - d*Rl[2, 2],   d*Rl[2, 1] ],\n",
    "              [     0,                   0,            1    ]\n",
    "             ])\n",
    "\n",
    "A"
   ]
  },
  {
   "cell_type": "code",
   "execution_count": 286,
   "metadata": {
    "collapsed": false
   },
   "outputs": [
    {
     "data": {
      "text/plain": [
       "3"
      ]
     },
     "execution_count": 286,
     "metadata": {},
     "output_type": "execute_result"
    }
   ],
   "source": [
    "np.linalg.matrix_rank(A)"
   ]
  },
  {
   "cell_type": "code",
   "execution_count": null,
   "metadata": {
    "collapsed": false
   },
   "outputs": [],
   "source": []
  },
  {
   "cell_type": "code",
   "execution_count": null,
   "metadata": {
    "collapsed": true
   },
   "outputs": [],
   "source": []
  }
 ],
 "metadata": {
  "kernelspec": {
   "display_name": "Python 2",
   "language": "python",
   "name": "python2"
  },
  "language_info": {
   "codemirror_mode": {
    "name": "ipython",
    "version": 2
   },
   "file_extension": ".py",
   "mimetype": "text/x-python",
   "name": "python",
   "nbconvert_exporter": "python",
   "pygments_lexer": "ipython2",
   "version": "2.7.11"
  }
 },
 "nbformat": 4,
 "nbformat_minor": 0
}
