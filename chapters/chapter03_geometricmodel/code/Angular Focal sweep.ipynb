{
 "cells": [
  {
   "cell_type": "markdown",
   "metadata": {},
   "source": [
    "# Angular focal sweep"
   ]
  },
  {
   "cell_type": "markdown",
   "metadata": {},
   "source": [
    "Index:\n",
    "\n",
    "\n",
    "[Image Simulation](#Image-simulation)"
   ]
  },
  {
   "cell_type": "code",
   "execution_count": 1,
   "metadata": {
    "collapsed": false
   },
   "outputs": [],
   "source": [
    "%load_ext autoreload"
   ]
  },
  {
   "cell_type": "code",
   "execution_count": 2,
   "metadata": {
    "collapsed": true
   },
   "outputs": [],
   "source": [
    "%autoreload 1"
   ]
  },
  {
   "cell_type": "code",
   "execution_count": 1,
   "metadata": {
    "collapsed": false
   },
   "outputs": [],
   "source": [
    "from __future__ import division, print_function\n",
    "import os\n",
    "import numpy as np\n",
    "import h5py as hdf\n",
    "from scipy.misc import imread, imsave\n",
    "import pyzdde.zdde as py\n",
    "import pyzdde.arraytrace as at\n",
    "import matplotlib.pyplot as plt\n",
    "from IPython.core import display\n",
    "\n",
    "\n",
    "#\n",
    "import iutils.plot.mplutils as mplu"
   ]
  },
  {
   "cell_type": "code",
   "execution_count": 4,
   "metadata": {
    "collapsed": false
   },
   "outputs": [],
   "source": [
    "#local module\n",
    "%aimport geometric_model_zemax_commons\n",
    "import geometric_model_zemax_commons as gm"
   ]
  },
  {
   "cell_type": "code",
   "execution_count": 15,
   "metadata": {
    "collapsed": true
   },
   "outputs": [],
   "source": [
    "%matplotlib inline\n",
    "\n",
    "#%matplotlib notebook"
   ]
  },
  {
   "cell_type": "code",
   "execution_count": 7,
   "metadata": {
    "collapsed": false
   },
   "outputs": [],
   "source": [
    "curDir = os.getcwd()"
   ]
  },
  {
   "cell_type": "code",
   "execution_count": 8,
   "metadata": {
    "collapsed": false
   },
   "outputs": [],
   "source": [
    "# Location of the Zemax lens files for this notebook\n",
    "zmxdir = os.path.join(curDir, 'zmxfiles')\n",
    "ln = pyz.createLink()"
   ]
  },
  {
   "cell_type": "markdown",
   "metadata": {},
   "source": [
    "## Chief ray at IMG for lens tilts of a paraxial single lens with $m_p=1$ "
   ]
  },
  {
   "cell_type": "code",
   "execution_count": 9,
   "metadata": {
    "collapsed": false
   },
   "outputs": [
    {
     "data": {
      "text/plain": [
       "0"
      ]
     },
     "execution_count": 9,
     "metadata": {},
     "output_type": "execute_result"
    }
   ],
   "source": [
    "lens = \"paraxialSingleLens24mmFiniteConj.zmx\"\n",
    "lensPath = os.path.join(zmxdir, lens)\n",
    "ln.zLoadFile(lensPath)"
   ]
  },
  {
   "cell_type": "code",
   "execution_count": 9,
   "metadata": {
    "collapsed": false
   },
   "outputs": [
    {
     "name": "stdout",
     "output_type": "stream",
     "text": [
      "SURFACE DATA SUMMARY:\n",
      "\n",
      "Surf     Type         Radius      Thickness                Glass      Diameter          Conic   Comment\n",
      " OBJ TILTSURF              -           1000                                500              -\n",
      "   1 PARAXIAL              -              0                                 10              - Lens 1\n",
      " STO STANDARD       Infinity       24.59016                                 10              0 Stop\n",
      " IMA STANDARD       Infinity                                          12.29508              0\n"
     ]
    }
   ],
   "source": [
    "ln.ipzGetLDE()"
   ]
  },
  {
   "cell_type": "code",
   "execution_count": 6,
   "metadata": {
    "collapsed": false
   },
   "outputs": [
    {
     "data": {
      "image/png": "[encoded data removed]",
      "text/plain": [
       "<IPython.core.display.Image object>"
      ]
     },
     "metadata": {},
     "output_type": "display_data"
    }
   ],
   "source": [
    "ln.ipzCaptureWindow('L3d')"
   ]
  },
  {
   "cell_type": "code",
   "execution_count": 45,
   "metadata": {
    "collapsed": false
   },
   "outputs": [
    {
     "name": "stdout",
     "output_type": "stream",
     "text": [
      "Paraxial magnification : -0.02459016393\n",
      "Real working F/#       : 2.509334897\n",
      "Effective focal length : 24.0\n",
      "Paraxial working F/#   : 2.459016393\n",
      "Paraxial image height  : 6.147540984\n"
     ]
    }
   ],
   "source": [
    "# First order parameters\n",
    "ln.ipzGetFirst()"
   ]
  },
  {
   "cell_type": "code",
   "execution_count": 8,
   "metadata": {
    "collapsed": false
   },
   "outputs": [
    {
     "name": "stdout",
     "output_type": "stream",
     "text": [
      "Exit pupil position (from IMA)           : -24.59016393\n",
      "Entrance pupil position (from surface 1) : 1.987846676e-13\n",
      "Aperture Type                            : Float by stop\n",
      "Apodization factor                       : 0.0\n",
      "Apodization type                         : None\n",
      "Value (stop surface semi-diameter)       : 5.0\n",
      "Exit pupil diameter                      : 10.0\n",
      "Entrance pupil diameter                  : 10.0\n"
     ]
    }
   ],
   "source": [
    "# Pupil information\n",
    "ln.ipzGetPupil()"
   ]
  },
  {
   "cell_type": "code",
   "execution_count": 46,
   "metadata": {
    "collapsed": false
   },
   "outputs": [
    {
     "name": "stdout",
     "output_type": "stream",
     "text": [
      "Textual information about the planes:\n",
      "\n",
      "Exit pupil distance from IMG: -24.59016393\n",
      "Entrance pupil from Surf 1 @ LDE: 40.0\n",
      "Focal plane obj F from surf 1 @ LDE:  16.0 \n",
      "Focal plane img F' from IMA:  -0.590164\n",
      "Principal plane obj H from surf 1 @ LDE:  40.0 \n",
      "Principal plane img H' from IMA:  -24.590164\n",
      "Focal length:  24.0\n",
      "Principal plane H to ENPP:  0.0\n",
      "Principal plane H' to EXPP:  -7.00000022391e-08\n",
      "Principal plane H' to EXPP (abs.) calc. using lens equ.:  0.0\n",
      "Principal plane H' to rear focal plane:  24.0\n",
      "Principal plane H to front focal plane:  -24.0\n",
      "\n",
      "Check \"Skip rays to this surface\" under \"Draw Tab\" of the surface property for the dummy and cardinal plane surfaces. See Docstring Notes for details.\n"
     ]
    }
   ],
   "source": [
    "# A closer look at the lens with cardinals drawn\n",
    "gm.draw_pupil_cardinal_planes(ln, firstDummySurfOff=40, push=True)"
   ]
  },
  {
   "cell_type": "code",
   "execution_count": 16,
   "metadata": {
    "collapsed": false
   },
   "outputs": [],
   "source": [
    "# After making the required changes to the surface properties (skip rays)\n",
    "# in the Zemax main application window, the file with the new surfaces\n",
    "# to show the position of the pupils and cardinal planes was saved as\n",
    "# paraxialSingleLens24mmFiniteConj_cardinalsDrawn.zmx\n",
    "# For drawing the figure, we can use a stored copy in order to avoid\n",
    "# manually changing surface properties in the LDE again and again\n",
    "loadStoredCopy = True\n",
    "if loadStoredCopy:\n",
    "    storedLens = \"paraxialSingleLens24mmFiniteConj_cardinalsDrawn.zmx\"\n",
    "    storedLensPath = os.path.join(zmxdir, storedLens)\n",
    "    ln.zLoadFile(storedLensPath)\n",
    "else:\n",
    "    ln.zGetRefresh()"
   ]
  },
  {
   "cell_type": "code",
   "execution_count": 11,
   "metadata": {
    "collapsed": true
   },
   "outputs": [],
   "source": [
    "#ln.push"
   ]
  },
  {
   "cell_type": "code",
   "execution_count": 33,
   "metadata": {
    "collapsed": false
   },
   "outputs": [
    {
     "data": {
      "image/png": "[encoded data removed]",
      "text/plain": [
       "<IPython.core.display.Image object>"
      ]
     },
     "execution_count": 33,
     "metadata": {},
     "output_type": "execute_result"
    }
   ],
   "source": [
    "display.Image('images\\paraSingle24mmFiniteConj_cardinalsDrawn_lay.png')"
   ]
  },
  {
   "cell_type": "code",
   "execution_count": 17,
   "metadata": {
    "collapsed": false
   },
   "outputs": [
    {
     "data": {
      "text/plain": [
       "(3, 18)"
      ]
     },
     "execution_count": 17,
     "metadata": {},
     "output_type": "execute_result"
    }
   ],
   "source": [
    "# Insert appropriate coordinate breaks to tilt the lens\n",
    "cb1, cb2 = gm.insert_cbs_to_tilt_lens(ln, lastSurf=15, firstSurf=2, pivot='ENPP', push=True)\n",
    "cb1, cb2"
   ]
  },
  {
   "cell_type": "markdown",
   "metadata": {
    "collapsed": true
   },
   "source": [
    "Need to do the following:\n",
    "\n",
    "1. In the main Zemax application, check the \"Skip rays to this surface\" for the two dummy surfaces just inserted -- one preceding the first CB and second following the second CB -- in the \"Draw Tab\" under surface properties.\n",
    "\n",
    "2. Fix the semi-diameters of the ENPP and EXPP surfaces so that they don't change when the lens rotates.\n",
    "\n",
    "3. Also ensure that the global reference surface is either the image plane or the untilted object plane."
   ]
  },
  {
   "cell_type": "code",
   "execution_count": 18,
   "metadata": {
    "collapsed": true
   },
   "outputs": [],
   "source": [
    "loadStoredCopy = True\n",
    "if loadStoredCopy:\n",
    "    storedLens = \"paraxialSingleLens24mmFiniteConj_cardinalsDrawnWdRotAbtENPP.zmx\"\n",
    "    storedLensPath = os.path.join(zmxdir, storedLens)\n",
    "    ln.zLoadFile(storedLensPath)\n",
    "else:\n",
    "    ln.zGetRefresh()"
   ]
  },
  {
   "cell_type": "code",
   "execution_count": 37,
   "metadata": {
    "collapsed": false
   },
   "outputs": [
    {
     "data": {
      "image/png": "[encoded data removed]",
      "text/plain": [
       "<IPython.core.display.Image object>"
      ]
     },
     "execution_count": 37,
     "metadata": {},
     "output_type": "execute_result"
    }
   ],
   "source": [
    "display.Image('images\\paraSingle24mmFiniteConj_OverlayThreeLensTilts.png')"
   ]
  },
  {
   "cell_type": "code",
   "execution_count": 19,
   "metadata": {
    "collapsed": false
   },
   "outputs": [
    {
     "data": {
      "image/png": "[encoded data removed]",
      "text/plain": [
       "<matplotlib.figure.Figure at 0x1caa2160>"
      ]
     },
     "metadata": {},
     "output_type": "display_data"
    }
   ],
   "source": [
    "# plot of chief-ray intersects at the image plane\n",
    "tiltXY = [(0,0), (10, 0), (0, 10)]\n",
    "gm.plot_chiefray_intersects(ln, cb1, tiltXY, False)"
   ]
  },
  {
   "cell_type": "code",
   "execution_count": 20,
   "metadata": {
    "collapsed": false
   },
   "outputs": [
    {
     "data": {
      "image/png": "[encoded data removed]",
      "text/plain": [
       "<matplotlib.figure.Figure at 0x1c4d5668>"
      ]
     },
     "metadata": {},
     "output_type": "display_data"
    }
   ],
   "source": [
    "# plot of chief-ray intersects at the image plane for larger tilt angles\n",
    "tiltXY = [(0,0), (20, 20)]\n",
    "gm.plot_chiefray_intersects(ln, cb1, tiltXY, False)"
   ]
  },
  {
   "cell_type": "markdown",
   "metadata": {},
   "source": [
    "## Chief ray at IMG for lens tilts of a paraxial two lens system with $m_p=1$ "
   ]
  },
  {
   "cell_type": "code",
   "execution_count": 18,
   "metadata": {
    "collapsed": false
   },
   "outputs": [
    {
     "data": {
      "text/plain": [
       "0"
      ]
     },
     "execution_count": 18,
     "metadata": {},
     "output_type": "execute_result"
    }
   ],
   "source": [
    "lens = \"paraxialDoubleLens24mmFiniteConj.zmx\"\n",
    "lensPath = os.path.join(zmxdir, lens)\n",
    "ln.zLoadFile(lensPath)"
   ]
  },
  {
   "cell_type": "code",
   "execution_count": 19,
   "metadata": {
    "collapsed": false
   },
   "outputs": [
    {
     "name": "stdout",
     "output_type": "stream",
     "text": [
      "SURFACE DATA SUMMARY:\n",
      "\n",
      "Surf     Type         Radius      Thickness                Glass      Diameter          Conic   Comment\n",
      " OBJ TILTSURF              -           1000                           544.4728              -\n",
      "   1 PARAXIAL              -       11.42857                           18.41689              - Lens 1\n",
      " STO STANDARD       Infinity       8.571429                           7.142857              0 Stop\n",
      "   3 PARAXIAL              -       12.58065                           11.54889              - Lens 2\n",
      " IMA STANDARD       Infinity                                          13.17273              0\n"
     ]
    }
   ],
   "source": [
    "ln.ipzGetLDE()"
   ]
  },
  {
   "cell_type": "code",
   "execution_count": 20,
   "metadata": {
    "collapsed": false
   },
   "outputs": [
    {
     "data": {
      "image/png": "[encoded data removed]",
      "text/plain": [
       "<IPython.core.display.Image object>"
      ]
     },
     "metadata": {},
     "output_type": "display_data"
    }
   ],
   "source": [
    "ln.ipzCaptureWindow('L3d')"
   ]
  },
  {
   "cell_type": "code",
   "execution_count": 21,
   "metadata": {
    "collapsed": false
   },
   "outputs": [
    {
     "name": "stdout",
     "output_type": "stream",
     "text": [
      "Paraxial magnification : -0.02419354839\n",
      "Real working F/#       : 2.508402114\n",
      "Effective focal length : 24.0\n",
      "Paraxial working F/#   : 2.458064516\n",
      "Paraxial image height  : 6.58636402\n"
     ]
    }
   ],
   "source": [
    "# First order parameters\n",
    "ln.ipzGetFirst()"
   ]
  },
  {
   "cell_type": "code",
   "execution_count": 22,
   "metadata": {
    "collapsed": false
   },
   "outputs": [
    {
     "name": "stdout",
     "output_type": "stream",
     "text": [
      "Exit pupil position (from IMA)           : -24.58064516\n",
      "Entrance pupil position (from surface 1) : 16.0\n",
      "Aperture Type                            : Float by stop\n",
      "Apodization factor                       : 0.0\n",
      "Apodization type                         : None\n",
      "Value (stop surface semi-diameter)       : 3.571428571\n",
      "Exit pupil diameter                      : 10.0\n",
      "Entrance pupil diameter                  : 10.0\n"
     ]
    }
   ],
   "source": [
    "# Pupil information\n",
    "ln.ipzGetPupil()"
   ]
  },
  {
   "cell_type": "code",
   "execution_count": 23,
   "metadata": {
    "collapsed": false
   },
   "outputs": [
    {
     "name": "stdout",
     "output_type": "stream",
     "text": [
      "Textual information about the planes:\n",
      "\n",
      "Exit pupil distance from IMG: -24.58064516\n",
      "Entrance pupil from Surf 1 @ LDE: 56.0\n",
      "Focal plane obj F from surf 1 @ LDE:  32.0 \n",
      "Focal plane img F' from IMA:  -0.580645\n",
      "Principal plane obj H from surf 1 @ LDE:  56.0 \n",
      "Principal plane img H' from IMA:  -24.580645\n",
      "Focal length:  24.0\n",
      "Principal plane H to ENPP:  0.0\n",
      "Principal plane H' to EXPP:  1.59999999028e-07\n",
      "Principal plane H' to EXPP (abs.) calc. using lens equ.:  0.0\n",
      "Principal plane H' to rear focal plane:  24.0\n",
      "Principal plane H to front focal plane:  -24.0\n",
      "\n",
      "Check \"Skip rays to this surface\" under \"Draw Tab\" of the surface property for the dummy and cardinal plane surfaces. See Docstring Notes for details.\n"
     ]
    }
   ],
   "source": [
    "# A closer look at the lens with cardinals drawn\n",
    "gm.draw_pupil_cardinal_planes(ln, firstDummySurfOff=40, push=True)"
   ]
  },
  {
   "cell_type": "code",
   "execution_count": 24,
   "metadata": {
    "collapsed": true
   },
   "outputs": [],
   "source": [
    "# After making the required changes to the surface properties (skip rays)\n",
    "# in the Zemax main application window, the file with the new surfaces\n",
    "# to show the position of the pupils and cardinal planes was saved as\n",
    "# paraxialDoubleLens24mmFiniteConj_mp1_cardinalsDrawn.zmx\n",
    "# For drawing the figure, we can use a stored copy in order to avoid\n",
    "# manually changing surface properties in the LDE again and again\n",
    "loadStoredCopy = True\n",
    "if loadStoredCopy:\n",
    "    storedLens = \"paraxialDoubleLens24mmFiniteConj_mp1_cardinalsDrawn.zmx\"\n",
    "    storedLensPath = os.path.join(zmxdir, storedLens)\n",
    "    ln.zLoadFile(storedLensPath)\n",
    "else:\n",
    "    ln.zGetRefresh()"
   ]
  },
  {
   "cell_type": "code",
   "execution_count": 25,
   "metadata": {
    "collapsed": false
   },
   "outputs": [],
   "source": [
    "#ln.push"
   ]
  },
  {
   "cell_type": "code",
   "execution_count": 35,
   "metadata": {
    "collapsed": false
   },
   "outputs": [
    {
     "data": {
      "image/png": "[encoded data removed]",
      "text/plain": [
       "<IPython.core.display.Image object>"
      ]
     },
     "execution_count": 35,
     "metadata": {},
     "output_type": "execute_result"
    }
   ],
   "source": [
    "display.Image('images\\paraDoubleLens24mmMp1FiniteConj_cardinalsDrawn_lay.png')"
   ]
  },
  {
   "cell_type": "code",
   "execution_count": 27,
   "metadata": {
    "collapsed": false
   },
   "outputs": [
    {
     "data": {
      "text/plain": [
       "(3, 19)"
      ]
     },
     "execution_count": 27,
     "metadata": {},
     "output_type": "execute_result"
    }
   ],
   "source": [
    "# Insert appropriate coordinate breaks to tilt the lens\n",
    "cb1, cb2 = gm.insert_cbs_to_tilt_lens(ln, lastSurf=16, firstSurf=2, pivot='ENPP', push=True)\n",
    "cb1, cb2"
   ]
  },
  {
   "cell_type": "markdown",
   "metadata": {},
   "source": [
    "As before, we need to do the following:\n",
    "\n",
    "1. In the main Zemax application, check the \"Skip rays to this surface\" for the two dummy surfaces just inserted -- one preceding the first CB and second following the second CB -- in the \"Draw Tab\" under surface properties.\n",
    "\n",
    "2. Fix the semi-diameters of the ENPP and EXPP surfaces so that they don't change when the lens rotates.\n",
    "\n",
    "3. Also ensure that the global reference surface is either the image plane or the untilted object plane."
   ]
  },
  {
   "cell_type": "code",
   "execution_count": 28,
   "metadata": {
    "collapsed": true
   },
   "outputs": [],
   "source": [
    "# The above file, after setting the dummy surface to \"skip rays\", was saved as \n",
    "# paraxialDoubleLens24mmFiniteConj_mp1_cardinalsDrawnWdRotAbtENPP.zmx\n",
    "loadStoredCopy = True\n",
    "if loadStoredCopy:\n",
    "    storedLens = \"paraxialDoubleLens24mmFiniteConj_mp1_cardinalsDrawnWdRotAbtENPP.zmx\"\n",
    "    storedLensPath = os.path.join(zmxdir, storedLens)\n",
    "    ln.zLoadFile(storedLensPath)\n",
    "else:\n",
    "    ln.zGetRefresh()"
   ]
  },
  {
   "cell_type": "markdown",
   "metadata": {},
   "source": [
    "The following line drawing figure shows only the chief rays from the three field points for three tilt positions of the lens about the ENPP (identified by the red lines). The rays are colored by configuration number."
   ]
  },
  {
   "cell_type": "code",
   "execution_count": 36,
   "metadata": {
    "collapsed": false
   },
   "outputs": [
    {
     "data": {
      "image/png": "[encoded data removed]",
      "text/plain": [
       "<IPython.core.display.Image object>"
      ]
     },
     "execution_count": 36,
     "metadata": {},
     "output_type": "execute_result"
    }
   ],
   "source": [
    "display.Image('images\\paraDouble24mmMp1FiniteConj_OverlayThreeLensTilts.png')"
   ]
  },
  {
   "cell_type": "code",
   "execution_count": 30,
   "metadata": {
    "collapsed": false
   },
   "outputs": [
    {
     "data": {
      "image/png": "[encoded data removed]",
      "text/plain": [
       "<matplotlib.figure.Figure at 0x1ed2d668>"
      ]
     },
     "metadata": {},
     "output_type": "display_data"
    }
   ],
   "source": [
    "# plot of chief-ray intersects at the image plane\n",
    "tiltXY = [(0,0), (0, 5), (-5, -5)]\n",
    "gm.plot_chiefray_intersects(ln, cb1, tiltXY, False)"
   ]
  },
  {
   "cell_type": "code",
   "execution_count": 31,
   "metadata": {
    "collapsed": false
   },
   "outputs": [
    {
     "data": {
      "image/png": "[encoded data removed]",
      "text/plain": [
       "<matplotlib.figure.Figure at 0x1f384588>"
      ]
     },
     "metadata": {},
     "output_type": "display_data"
    }
   ],
   "source": [
    "# plot of chief-ray intersects at the image plane for larger tilt angles\n",
    "tiltXY = [(0,0), (20, 20)]\n",
    "gm.plot_chiefray_intersects(ln, cb1, tiltXY, False)"
   ]
  },
  {
   "cell_type": "code",
   "execution_count": 52,
   "metadata": {
    "collapsed": false
   },
   "outputs": [],
   "source": []
  },
  {
   "cell_type": "code",
   "execution_count": 17,
   "metadata": {
    "collapsed": true
   },
   "outputs": [],
   "source": [
    " "
   ]
  },
  {
   "cell_type": "code",
   "execution_count": 54,
   "metadata": {
    "collapsed": false
   },
   "outputs": [],
   "source": [
    " "
   ]
  },
  {
   "cell_type": "code",
   "execution_count": 21,
   "metadata": {
    "collapsed": false
   },
   "outputs": [
    {
     "data": {
      "text/plain": [
       "0"
      ]
     },
     "execution_count": 21,
     "metadata": {},
     "output_type": "execute_result"
    }
   ],
   "source": [
    "ln.zNewLens()\n",
    "ln.zPushLens(1)"
   ]
  },
  {
   "cell_type": "code",
   "execution_count": null,
   "metadata": {
    "collapsed": true
   },
   "outputs": [],
   "source": [
    " "
   ]
  },
  {
   "cell_type": "markdown",
   "metadata": {},
   "source": [
    "## Image simulation"
   ]
  },
  {
   "cell_type": "markdown",
   "metadata": {},
   "source": [
    "### Single paraxial thin lens - frontoparallel focal stack"
   ]
  },
  {
   "cell_type": "code",
   "execution_count": 22,
   "metadata": {
    "collapsed": true
   },
   "outputs": [],
   "source": [
    "loadStoredCopy = True\n",
    "if loadStoredCopy:\n",
    "    storedLens = \"paraxialSingleLens24mmFiniteConj_cardinalsDrawnWdRotAbtENPP.zmx\"\n",
    "    storedLensPath = os.path.join(zmxdir, storedLens)\n",
    "    ln.zLoadFile(storedLensPath)\n",
    "else:\n",
    "    ln.zGetRefresh()"
   ]
  },
  {
   "cell_type": "code",
   "execution_count": 23,
   "metadata": {
    "collapsed": false
   },
   "outputs": [
    {
     "name": "stdout",
     "output_type": "stream",
     "text": [
      "SURFACE DATA SUMMARY:\n",
      "\n",
      "Surf     Type         Radius      Thickness                Glass      Diameter          Conic   Comment\n",
      " OBJ TILTSURF              -            960                                500              -\n",
      "   1 STANDARD       Infinity             40                                  0              0 dummy 2 c rays\n",
      "   2 STANDARD       Infinity              0                                  0              0 Move to ENPP\n",
      "   3 COORDBRK              -              0                                  -              - Lens tilt CB\n",
      "   4 STANDARD       Infinity              0                                  0              0 dummy\n",
      "   5 STANDARD       Infinity              0                                2.4              0 H\n",
      "   6 STANDARD       Infinity            -24                                  0              0 dummy\n",
      "   7 STANDARD       Infinity             24                                2.4              0 F\n",
      "   8 STANDARD       Infinity              0                                  0              0 dummy\n",
      "   9 STANDARD       Infinity              0                                 10              0 ENPP\n",
      "  10 PARAXIAL              -              0                                 10              - Lens 1\n",
      " STO STANDARD       Infinity       24.59016                                 10              0 Stop\n",
      "  12 STANDARD       Infinity      -24.59016                                  0              0 dummy\n",
      "  13 STANDARD       Infinity       24.59016                                 10              0 EXPP\n",
      "  14 STANDARD       Infinity      -0.590164                                  0              0 dummy\n",
      "  15 STANDARD       Infinity       0.590164                                2.4              0 F'\n",
      "  16 STANDARD       Infinity      -24.59016                                  0              0 dummy\n",
      "  17 STANDARD       Infinity     6.557e-008                                2.4              0 H'\n",
      "  18 COORDBRK              -    -6.557e-008                                  -              - Lens restore CB\n",
      "  19 STANDARD       Infinity       24.59016                                  0              0 Dummy\n",
      " IMA STANDARD       Infinity                                          12.29508              0\n"
     ]
    }
   ],
   "source": [
    "ln.ipzGetLDE()"
   ]
  },
  {
   "cell_type": "markdown",
   "metadata": {
    "collapsed": true
   },
   "source": [
    "#### Determine appropriate parameters for image simulation"
   ]
  },
  {
   "cell_type": "markdown",
   "metadata": {
    "collapsed": false
   },
   "source": [
    "The parameters that we need to determine for a proper* image simulation are the following:\n",
    "\n",
    "1. Field height of the source image.\n",
    "2. Oversampling factor (if any required.)\n",
    "3. Pupil sampling.\n",
    "4. Image sampling.\n",
    "5. Detector pixel size.\n",
    "6. Detector x-pixels and y-pixels. \n",
    "\n",
    "\\* *an image simulation that is adequately representative of the real.*"
   ]
  },
  {
   "cell_type": "markdown",
   "metadata": {},
   "source": [
    "We will insert a Zernike Standard Phase surface co-located with the exit pupil (in the LDE, its position is just before the exit pupil surface with zero thickness) before we proceed. The Zernike Standard Phase surface will serve two main purpose:\n",
    "\n",
    "* We can systematically introduce aberrations to the baseline diffraction limited system to make the simulation more realistic.\n",
    "\n",
    "* Introducing small amount of aberration increases the size of the optical PSF. This helps in several different ways in the image simulation --\n",
    "\n",
    "    * If the PSFs are really small, we will typically very small pixel size in order to properly represent the sampled PSF. This in turn, means that we will either have to set the object field height to be very small and/or use oversampling. \n",
    "    \n",
    "    "
   ]
  },
  {
   "cell_type": "code",
   "execution_count": 24,
   "metadata": {
    "collapsed": false
   },
   "outputs": [
    {
     "name": "stdout",
     "output_type": "stream",
     "text": [
      "Exit pupil surface number is: 13\n"
     ]
    }
   ],
   "source": [
    "for i in range(ln.zGetNumSurf()):\n",
    "    if ln.zGetComment(i) == 'EXPP':\n",
    "        break\n",
    "print('Exit pupil surface number is:', i)"
   ]
  },
  {
   "cell_type": "code",
   "execution_count": 25,
   "metadata": {
    "collapsed": false
   },
   "outputs": [
    {
     "data": {
      "text/plain": [
       "'SZERNPHA'"
      ]
     },
     "execution_count": 25,
     "metadata": {},
     "output_type": "execute_result"
    }
   ],
   "source": [
    "# Insert Zernike surface at the EX\n",
    "zernSurfNum = i  # the new position of the EXPP surface will be i+1\n",
    "ln.zInsertSurface(surfNum=zernSurfNum)\n",
    "ln.zSetSurfaceData(surfNum=zernSurfNum, code=ln.SDAT_TYPE, value='SZERNPHA')"
   ]
  },
  {
   "cell_type": "code",
   "execution_count": 15,
   "metadata": {
    "collapsed": false
   },
   "outputs": [
    {
     "data": {
      "text/plain": [
       "0"
      ]
     },
     "execution_count": 15,
     "metadata": {},
     "output_type": "execute_result"
    }
   ],
   "source": [
    "ln.push"
   ]
  },
  {
   "cell_type": "code",
   "execution_count": 26,
   "metadata": {
    "collapsed": false
   },
   "outputs": [
    {
     "data": {
      "text/plain": [
       "5.0"
      ]
     },
     "execution_count": 26,
     "metadata": {},
     "output_type": "execute_result"
    }
   ],
   "source": [
    "# Set Zernike surface's initial properties\n",
    "maxTermCol = 1\n",
    "maxTerm = 11  # upto primary spherical aberration\n",
    "normRadiusCol = 2\n",
    "normRadius = ln.zGetPupil().EXPD/2\n",
    "priSphCol = 2 + 11   # 2 cols for maxTerm and normRadius plus 11th zernike term\n",
    "\n",
    "ln.zSetExtra(zernSurfNum, maxTermCol, maxTerm)\n",
    "ln.zSetExtra(zernSurfNum, normRadiusCol, normRadius)\n",
    "# we will set the aberration terms later"
   ]
  },
  {
   "cell_type": "markdown",
   "metadata": {},
   "source": [
    "Extract source image data and estimate simulation parameters"
   ]
  },
  {
   "cell_type": "code",
   "execution_count": 27,
   "metadata": {
    "collapsed": false
   },
   "outputs": [
    {
     "data": {
      "text/plain": [
       "'C:\\\\Users\\\\Indranil\\\\Documents\\\\Zemax\\\\IMAFiles\\\\king.jpg'"
      ]
     },
     "execution_count": 27,
     "metadata": {},
     "output_type": "execute_result"
    }
   ],
   "source": [
    "# source bitmap image is assumed to be in the IMAFiles folder\n",
    "usr = os.path.expandvars(\"%userprofile%\")\n",
    "IMAdir = os.path.join(usr, 'Documents\\Zemax\\IMAFiles')\n",
    "image = 'king.jpg'\n",
    "imgfilename = os.path.join(IMAdir, image)\n",
    "imgfilename"
   ]
  },
  {
   "cell_type": "code",
   "execution_count": 28,
   "metadata": {
    "collapsed": false
   },
   "outputs": [
    {
     "data": {
      "text/plain": [
       "(1010L, 656L)"
      ]
     },
     "execution_count": 28,
     "metadata": {},
     "output_type": "execute_result"
    }
   ],
   "source": [
    "ypix, xpix, _ = imread(imgfilename).shape\n",
    "ypix, xpix"
   ]
  },
  {
   "cell_type": "code",
   "execution_count": 29,
   "metadata": {
    "collapsed": true
   },
   "outputs": [],
   "source": [
    "imgDelta = gm.get_image_plane_shifts(nearObj=800, farObj=1200, fl=24, num=3)"
   ]
  },
  {
   "cell_type": "code",
   "execution_count": 19,
   "metadata": {
    "collapsed": false
   },
   "outputs": [],
   "source": [
    "# Create a grid of dots image to examine the image side PSF\n",
    "#gridofdots = gm.grid_of_square_dots(pixx=xpix, pixy=ypix, numx=1, numy=1, size=1)\n",
    "#godImageFileName = 'imgsim_god.png'\n",
    "#filename = os.path.join(IMAdir, godImageFileName)\n",
    "#imsave(name=filename, arr=gridofdots)"
   ]
  },
  {
   "cell_type": "code",
   "execution_count": 75,
   "metadata": {
    "collapsed": false
   },
   "outputs": [
    {
     "data": {
      "text/plain": [
       "(139.46285226664529, 2090.8375543330048)"
      ]
     },
     "execution_count": 75,
     "metadata": {},
     "output_type": "execute_result"
    }
   ],
   "source": [
    "# skip\n",
    "\n",
    "# the minimum spot at best focus should determine the \"Field Height\" \n",
    "# based on a criterion of certain number of pixels per spot. The \n",
    "# maximum spot size should determine the \"Image Sampling\" parameter\n",
    "minObjPSF, maxObjPSF = gm.get_min_max_PSF_size(ln, imgDelta, frac=0.85)\n",
    "minObjPSF, maxObjPSF # units is microns"
   ]
  },
  {
   "cell_type": "code",
   "execution_count": 76,
   "metadata": {
    "collapsed": false
   },
   "outputs": [
    {
     "data": {
      "text/plain": [
       "3.4294144000000002"
      ]
     },
     "execution_count": 76,
     "metadata": {},
     "output_type": "execute_result"
    }
   ],
   "source": [
    "# skip\n",
    "\n",
    "# diameter of the minimum spot size in image space (microns)\n",
    "minObjPSF*abs(ln.zGetMagnification())"
   ]
  },
  {
   "cell_type": "code",
   "execution_count": 77,
   "metadata": {
    "collapsed": false
   },
   "outputs": [
    {
     "data": {
      "text/plain": [
       "3.367527431774"
      ]
     },
     "execution_count": 77,
     "metadata": {},
     "output_type": "execute_result"
    }
   ],
   "source": [
    "# skip\n",
    "\n",
    "# diffraction limited spot size in the image space (microns)\n",
    "2.44*ln.zGetWave(1).wavelength*ln.zGetFirst().realWorkFNum"
   ]
  },
  {
   "cell_type": "code",
   "execution_count": 81,
   "metadata": {
    "collapsed": false
   },
   "outputs": [
    {
     "data": {
      "text/plain": [
       "23.476246798218625"
      ]
     },
     "execution_count": 81,
     "metadata": {},
     "output_type": "execute_result"
    }
   ],
   "source": [
    "# skip\n",
    "\n",
    "# with the current lens, what is the maximum  height of the object\n",
    "# if we desire to have around 6 pixels per PSF\n",
    "h = gm.obj_field_height(ppp=6, ypix=ypix, minSpotDia=minObjPSF/1000)\n",
    "h "
   ]
  },
  {
   "cell_type": "code",
   "execution_count": 82,
   "metadata": {
    "collapsed": false
   },
   "outputs": [
    {
     "data": {
      "text/plain": [
       "0.5772847573333334"
      ]
     },
     "execution_count": 82,
     "metadata": {},
     "output_type": "execute_result"
    }
   ],
   "source": [
    "# skip\n",
    "\n",
    "# with the above field height, what is the size of detector pixel\n",
    "detPixSize = ((h/1000)*abs(ln.zGetMagnification())) \n",
    "detPixSize*1000 # microns"
   ]
  },
  {
   "cell_type": "markdown",
   "metadata": {},
   "source": [
    "**<font color='red'>START HERE AGAIN </font>**\n",
    "\n",
    "With the current lens, the maximum height of the object is 24 mm and the detector pixel size is 0.6 microns. However, in real playing cards are about 89 mm in height and sensor pixel sizes are slightly more than a micron. \n"
   ]
  },
  {
   "cell_type": "code",
   "execution_count": 30,
   "metadata": {
    "collapsed": false
   },
   "outputs": [
    {
     "data": {
      "text/plain": [
       "0.126"
      ]
     },
     "execution_count": 30,
     "metadata": {},
     "output_type": "execute_result"
    }
   ],
   "source": [
    "# introduce some amount of spherical aberrations to the lens (using the extra data editor)\n",
    "ln.zSetExtra(zernSurfNum, priSphCol, 0.126)"
   ]
  },
  {
   "cell_type": "code",
   "execution_count": 21,
   "metadata": {
    "collapsed": false
   },
   "outputs": [],
   "source": [
    "#ln.push"
   ]
  },
  {
   "cell_type": "code",
   "execution_count": 24,
   "metadata": {
    "collapsed": false
   },
   "outputs": [
    {
     "data": {
      "text/plain": [
       "(451.06516530676026, 1826.4981933337201)"
      ]
     },
     "execution_count": 24,
     "metadata": {},
     "output_type": "execute_result"
    }
   ],
   "source": [
    "# estimation of psf spot size based on aberrations\n",
    "minObjPSF, maxObjPSF = gm.get_min_max_PSF_size(ln, imgDelta, frac=0.85)\n",
    "minObjPSF, maxObjPSF # units is microns"
   ]
  },
  {
   "cell_type": "code",
   "execution_count": 25,
   "metadata": {
    "collapsed": false
   },
   "outputs": [
    {
     "data": {
      "text/plain": [
       "91.115163391965581"
      ]
     },
     "execution_count": 25,
     "metadata": {},
     "output_type": "execute_result"
    }
   ],
   "source": [
    "# with the current lens, what is the maximum \n",
    "h = gm.obj_field_height(ppp=5, ypix=ypix, minSpotDia=minObjPSF/1000)\n",
    "h"
   ]
  },
  {
   "cell_type": "code",
   "execution_count": 28,
   "metadata": {
    "collapsed": false
   },
   "outputs": [
    {
     "data": {
      "text/plain": [
       "11.091766359999999"
      ]
     },
     "execution_count": 28,
     "metadata": {},
     "output_type": "execute_result"
    }
   ],
   "source": [
    "# diameter of the minimum spot size in image space (microns)\n",
    "minObjPSF*abs(ln.zGetMagnification())"
   ]
  },
  {
   "cell_type": "code",
   "execution_count": 53,
   "metadata": {
    "collapsed": false
   },
   "outputs": [
    {
     "data": {
      "text/plain": [
       "0"
      ]
     },
     "execution_count": 53,
     "metadata": {},
     "output_type": "execute_result"
    }
   ],
   "source": [
    "#ln.push"
   ]
  },
  {
   "cell_type": "code",
   "execution_count": 31,
   "metadata": {
    "collapsed": false
   },
   "outputs": [
    {
     "data": {
      "text/plain": [
       "2.18852459016348"
      ]
     },
     "execution_count": 31,
     "metadata": {},
     "output_type": "execute_result"
    }
   ],
   "source": [
    "# setting height to 89 mm\n",
    "h = 89.0\n",
    "detPixSize = ((h/1000)*abs(ln.zGetMagnification())) \n",
    "detPixSize*1000 # microns"
   ]
  },
  {
   "cell_type": "code",
   "execution_count": 32,
   "metadata": {
    "collapsed": false
   },
   "outputs": [
    {
     "ename": "NameError",
     "evalue": "name 'maxObjPSF' is not defined",
     "output_type": "error",
     "traceback": [
      "\u001b[1;31m---------------------------------------------------------------------------\u001b[0m",
      "\u001b[1;31mNameError\u001b[0m                                 Traceback (most recent call last)",
      "\u001b[1;32m<ipython-input-32-a09638d391d5>\u001b[0m in \u001b[0;36m<module>\u001b[1;34m()\u001b[0m\n\u001b[1;32m----> 1\u001b[1;33m \u001b[0mgm\u001b[0m\u001b[1;33m.\u001b[0m\u001b[0mimage_sampling\u001b[0m\u001b[1;33m(\u001b[0m\u001b[0mh\u001b[0m\u001b[1;33m=\u001b[0m\u001b[0mh\u001b[0m\u001b[1;33m,\u001b[0m \u001b[0mypix\u001b[0m\u001b[1;33m=\u001b[0m\u001b[0mypix\u001b[0m\u001b[1;33m,\u001b[0m \u001b[0mmaxSpotDia\u001b[0m\u001b[1;33m=\u001b[0m\u001b[0mmaxObjPSF\u001b[0m\u001b[1;33m/\u001b[0m\u001b[1;36m1000\u001b[0m\u001b[1;33m)\u001b[0m\u001b[1;33m\u001b[0m\u001b[0m\n\u001b[0m",
      "\u001b[1;31mNameError\u001b[0m: name 'maxObjPSF' is not defined"
     ]
    }
   ],
   "source": [
    "gm.image_sampling(h=h, ypix=ypix, maxSpotDia=maxObjPSF/1000)"
   ]
  },
  {
   "cell_type": "code",
   "execution_count": 33,
   "metadata": {
    "collapsed": false
   },
   "outputs": [
    {
     "data": {
      "text/plain": [
       "(0.0021668560298652812, 2853, 1330)"
      ]
     },
     "execution_count": 33,
     "metadata": {},
     "output_type": "execute_result"
    }
   ],
   "source": [
    "detDat = gm.get_detector_settings(h=h, xpix=xpix, ypix=ypix, fl=24, xfield=70, umid=1000, unear=800)\n",
    "detPixelSize, detXPixels, detYPixels = detDat\n",
    "detPixelSize, detXPixels, detYPixels"
   ]
  },
  {
   "cell_type": "markdown",
   "metadata": {
    "collapsed": true
   },
   "source": [
    "Now call the image simulation code"
   ]
  },
  {
   "cell_type": "code",
   "execution_count": null,
   "metadata": {
    "collapsed": false
   },
   "outputs": [],
   "source": [
    " "
   ]
  },
  {
   "cell_type": "code",
   "execution_count": 34,
   "metadata": {
    "collapsed": true
   },
   "outputs": [],
   "source": [
    "detPixelSize, detXPixels, detYPixels = 0.0021668560298652812, 2853, 1330"
   ]
  },
  {
   "cell_type": "code",
   "execution_count": null,
   "metadata": {
    "collapsed": true
   },
   "outputs": [],
   "source": [
    "# also set visible wavelengths before the simulation\n",
    "\n",
    "# Think/choice\n",
    "# may be we just send a tuple of wavelengths to the function `focal_stack_fronto_parallel()` so \n",
    "# that image simulation is done for each color channel (along with the particular wavelength dependent \n",
    "# zernike coefficients) "
   ]
  },
  {
   "cell_type": "code",
   "execution_count": null,
   "metadata": {
    "collapsed": true
   },
   "outputs": [],
   "source": [
    "# transmit Zernike coefficients for (wavelength, field ) pairs, and the zernike surface number"
   ]
  },
  {
   "cell_type": "code",
   "execution_count": 18,
   "metadata": {
    "collapsed": true
   },
   "outputs": [],
   "source": [
    " "
   ]
  },
  {
   "cell_type": "code",
   "execution_count": 35,
   "metadata": {
    "collapsed": false
   },
   "outputs": [
    {
     "name": "stdout",
     "output_type": "stream",
     "text": [
      "Starting image simulation for delta = -0.1004\n",
      "Image sim of data type img for obj king.jpg for obj thick 960.00 done!\n",
      "Image sim of data type img for obj imgsim_god.png for obj thick 960.00 done!\n",
      "Starting image simulation for delta = 0.0000\n",
      "Image sim of data type img for obj king.jpg for obj thick 960.00 done!\n",
      "Image sim of data type img for obj imgsim_god.png for obj thick 960.00 done!\n",
      "Starting image simulation for delta = 0.1521\n",
      "Image sim of data type img for obj king.jpg for obj thick 960.00 done!\n",
      "Image sim of data type img for obj imgsim_god.png for obj thick 960.00 done!\n"
     ]
    },
    {
     "data": {
      "text/plain": [
       "'fronto_para_focal_stack_2016_01_05_02_07.hdf5'"
      ]
     },
     "execution_count": 35,
     "metadata": {},
     "output_type": "execute_result"
    }
   ],
   "source": [
    "# In the setup of the lens, it is expected that the first surface in the LDE (OBJ or \n",
    "# surfNum=0) is the object surface, following which is the dummy surface for rendering \n",
    "# incoming rays close to the lens (in physical space). Therefore the PHYSICAL distance\n",
    "# between the object surface and the vertex of the lens' left most surface is equal to\n",
    "# the thickness of the OBJ surface and the dummy surface in the LDE.\n",
    "\n",
    "# In this particular experiment the thickness of the dummy surface was 40 mm\n",
    "# \n",
    "\n",
    "# Settings for every composed image frame with object at 3 different depths \n",
    "# from the lens\n",
    "dummySurfThick = 40\n",
    "objsurfthick = [1000-dummySurfThick,]# 800-dummySurfThick, 1200-dummySurfThick] \n",
    "objarr = ['king.jpg',]# 'queen.jpg', 'jack.jpg']\n",
    "fldarr = [1,]# 4, 5]\n",
    "\n",
    "\n",
    "# settings for generation of the focal-sweep stack of images\n",
    "focalLength = 24\n",
    "numOfImagesInStack = 3 #10\n",
    "\n",
    "# function to generate the range of shifts of the image plane along the optical \n",
    "# axis relative to the base position (position at which the middle object is\n",
    "# in geometrical focus)\n",
    "imgDelta = gm.get_image_plane_shifts(nearObj=800, farObj=1200, fl=focalLength, \n",
    "                                     num=numOfImagesInStack)\n",
    "\n",
    "\n",
    "# function to generate the image stack and store in an HDF5 container\n",
    "\n",
    "# arguments to the function zSetImageSimulationsSettings()\n",
    "\n",
    "X2, X4, X8, X16, X32 = 1, 2, 3, 4, 5  # oversampling\n",
    "RGB = 0                               # Wavelength\n",
    "NOAB, GEOM, DIFF = 0, 1, 2            # Aberration\n",
    "S32by32, S64by64 = 1, 2               # Pupil/Image Sampling\n",
    "CHIEF, VERTEX = 0, 1                  # reference\n",
    "SIMIMG, SRCBMP, PSFGRID = 0, 1, 2     # show as \n",
    "\n",
    "hdffileFull = gm.focal_stack_fronto_parallel(ln, imgDelta=imgDelta, \n",
    "                                             objsurfthick=objsurfthick, \n",
    "                                             objarr=objarr, fldarr=fldarr, \n",
    "                                             objht=h, over=0, \n",
    "                                             pupsam=S32by32, imgsam=S32by32, \n",
    "                                             psfx=1, psfy=1, \n",
    "                                             pixsize=detPixelSize, \n",
    "                                             xpix=detXPixels, ypix=detYPixels, \n",
    "                                             timeout=240, verbose=True)\n",
    "\n",
    "\n",
    "os.path.split(hdffileFull)[-1]"
   ]
  },
  {
   "cell_type": "code",
   "execution_count": 61,
   "metadata": {
    "collapsed": true
   },
   "outputs": [],
   "source": [
    " "
   ]
  },
  {
   "cell_type": "markdown",
   "metadata": {},
   "source": [
    "#### Analysis of the data"
   ]
  },
  {
   "cell_type": "code",
   "execution_count": 11,
   "metadata": {
    "collapsed": true
   },
   "outputs": [],
   "source": [
    "from ipywidgets import interact, interactive, fixed\n",
    "import ipywidgets as widgets\n",
    "%matplotlib inline"
   ]
  },
  {
   "cell_type": "code",
   "execution_count": 19,
   "metadata": {
    "collapsed": true
   },
   "outputs": [],
   "source": [
    "imgdir = os.path.join(os.getcwd(), 'data', 'imgstack')\n",
    "\n",
    "def get_hdf5files_list():\n",
    "    global imgdir\n",
    "    return [f for f in os.listdir(imgdir) if f.endswith('.hdf5')]\n",
    "\n",
    "def show_images(hdffile=None, imgnum=0):\n",
    "    global imgdir\n",
    "    hdffile = os.path.join(imgdir, hdffile)\n",
    "    fig, ax = plt.subplots(1, 1, figsize=(14, 10))\n",
    "    with hdf.File(hdffile, 'r') as f:\n",
    "        dgrp = f['data/'+'{}'.format(imgnum).zfill(3)]\n",
    "        dsetImg = f['data/'+'{}'.format(imgnum).zfill(3)+'/image']\n",
    "        dsetPsf = f['data/'+'{}'.format(imgnum).zfill(3)+'/psf']\n",
    "        x = f['data/'+'{}'.format(imgnum).zfill(3)+'/cr_img_ipts/x']\n",
    "        y = f['data/'+'{}'.format(imgnum).zfill(3)+'/cr_img_ipts/y']\n",
    "        #print(np.max(dsetPsf))\n",
    "        #print(np.min(dsetPsf))\n",
    "        #print(dsetPsf.dtype)\n",
    "        #mplu.imshow(dsetImg[...], fig=fig, axes=ax, interpol='none')\n",
    "        #mplu.imshow(dsetPsf[...], fig=fig, axes=ax, interpol='none')\n",
    "        ax.scatter(x[...], y[...], s=10, facecolors='none', \n",
    "                       edgecolors='r', alpha=0.8, zorder=12)\n",
    "        print('Magnifications:', dgrp.attrs['mag'])\n",
    "    plt.show()"
   ]
  },
  {
   "cell_type": "code",
   "execution_count": 20,
   "metadata": {
    "collapsed": false
   },
   "outputs": [
    {
     "name": "stdout",
     "output_type": "stream",
     "text": [
      "Magnifications: [-0.02474227]\n"
     ]
    },
    {
     "data": {
      "image/png": "[encoded data removed]",
      "text/plain": [
       "<matplotlib.figure.Figure at 0x9527fcf8>"
      ]
     },
     "metadata": {},
     "output_type": "display_data"
    }
   ],
   "source": [
    "interact(show_images, hdffile=get_hdf5files_list(), imgnum=(0, 2));"
   ]
  },
  {
   "cell_type": "code",
   "execution_count": 44,
   "metadata": {
    "collapsed": true
   },
   "outputs": [],
   "source": [
    "ln.close()"
   ]
  },
  {
   "cell_type": "code",
   "execution_count": null,
   "metadata": {
    "collapsed": true
   },
   "outputs": [],
   "source": []
  },
  {
   "cell_type": "code",
   "execution_count": 10,
   "metadata": {
    "collapsed": false
   },
   "outputs": [],
   "source": [
    " "
   ]
  },
  {
   "cell_type": "code",
   "execution_count": 11,
   "metadata": {
    "collapsed": true
   },
   "outputs": [],
   "source": [
    " "
   ]
  },
  {
   "cell_type": "code",
   "execution_count": 14,
   "metadata": {
    "collapsed": false
   },
   "outputs": [],
   "source": [
    " "
   ]
  },
  {
   "cell_type": "code",
   "execution_count": 40,
   "metadata": {
    "collapsed": false
   },
   "outputs": [],
   "source": [
    " "
   ]
  },
  {
   "cell_type": "code",
   "execution_count": null,
   "metadata": {
    "collapsed": false
   },
   "outputs": [],
   "source": []
  },
  {
   "cell_type": "code",
   "execution_count": 28,
   "metadata": {
    "collapsed": false
   },
   "outputs": [],
   "source": []
  },
  {
   "cell_type": "code",
   "execution_count": 30,
   "metadata": {
    "collapsed": false
   },
   "outputs": [
    {
     "data": {
      "text/plain": [
       "[u'mag', u'delta_z']"
      ]
     },
     "execution_count": 30,
     "metadata": {},
     "output_type": "execute_result"
    }
   ],
   "source": []
  },
  {
   "cell_type": "code",
   "execution_count": 31,
   "metadata": {
    "collapsed": false
   },
   "outputs": [
    {
     "data": {
      "text/plain": [
       "<HDF5 group \"/data/000\" (2 members)>"
      ]
     },
     "execution_count": 31,
     "metadata": {},
     "output_type": "execute_result"
    }
   ],
   "source": [
    " "
   ]
  },
  {
   "cell_type": "code",
   "execution_count": 33,
   "metadata": {
    "collapsed": false
   },
   "outputs": [
    {
     "data": {
      "text/plain": [
       "array([-0.0244898])"
      ]
     },
     "execution_count": 33,
     "metadata": {},
     "output_type": "execute_result"
    }
   ],
   "source": []
  },
  {
   "cell_type": "code",
   "execution_count": null,
   "metadata": {
    "collapsed": true
   },
   "outputs": [],
   "source": []
  }
 ],
 "metadata": {
  "kernelspec": {
   "display_name": "Python 2",
   "language": "python",
   "name": "python2"
  },
  "language_info": {
   "codemirror_mode": {
    "name": "ipython",
    "version": 2
   },
   "file_extension": ".py",
   "mimetype": "text/x-python",
   "name": "python",
   "nbconvert_exporter": "python",
   "pygments_lexer": "ipython2",
   "version": "2.7.11"
  }
 },
 "nbformat": 4,
 "nbformat_minor": 0
}
