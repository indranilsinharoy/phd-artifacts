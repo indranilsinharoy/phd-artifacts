{
 "cells": [
  {
   "cell_type": "code",
   "execution_count": 1,
   "metadata": {
    "collapsed": true
   },
   "outputs": [],
   "source": [
    "from __future__ import print_function, division\n",
    "import numpy as np\n",
    "import numpy.linalg as linalg\n",
    "from math import tan, pi, atan, cos, sin, asin\n",
    "import matplotlib.pyplot as plt\n",
    "from scipy.misc import imread as imread\n",
    "\n",
    "# For IPython interactive widgets\n",
    "from ipywidgets import interact, interactive, FloatSlider \n",
    "from IPython.display import display, Image\n",
    "\n",
    "from iutils.optics.goptics import gaussian_lens_formula\n",
    "import iutils.plot.mplutils as mpu\n"
   ]
  },
  {
   "cell_type": "code",
   "execution_count": 2,
   "metadata": {
    "collapsed": true
   },
   "outputs": [],
   "source": [
    "tand = lambda angle: tan(pi*angle/180.0)\n",
    "cosd = lambda angle: cos(pi*angle/180.0)\n",
    "sind = lambda angle: sin(pi*angle/180.0)\n",
    "arctand = lambda x : np.rad2deg(np.arctan(x))\n",
    "\n",
    "def is_even(num):\n",
    "    return num%2 == 0"
   ]
  },
  {
   "cell_type": "code",
   "execution_count": 3,
   "metadata": {
    "collapsed": true
   },
   "outputs": [],
   "source": [
    "%matplotlib inline"
   ]
  },
  {
   "cell_type": "code",
   "execution_count": 4,
   "metadata": {
    "collapsed": true
   },
   "outputs": [],
   "source": [
    "def get_points(angleY, xo, ymin=-100, ymax=10, n=10):\n",
    "    \"\"\"angleY : angle w.r.t. the y-axis in degrees\"\"\"\n",
    "    y = np.linspace(ymin, ymax, n)\n",
    "    x = xo + y*tand(angleY)\n",
    "    return x, y\n",
    "\n",
    "def zo(f, zodash, alpha):\n",
    "    \"\"\"alpha: angle w.r.t y axis\"\"\"\n",
    "    return -(zodash*f)/(zodash*cosd(alpha)  - f)\n",
    "\n",
    "def beta(f, zo, alpha):\n",
    "    return arctand((abs(zo)/f)*sind(alpha))  # why the explicity abs???"
   ]
  },
  {
   "cell_type": "code",
   "execution_count": 5,
   "metadata": {
    "collapsed": false
   },
   "outputs": [
    {
     "data": {
      "text/plain": [
       "glfParams(u=1000, v=25.641025641025642, f=25)"
      ]
     },
     "execution_count": 5,
     "metadata": {},
     "output_type": "execute_result"
    }
   ],
   "source": [
    "gaussian_lens_formula(u=1000, v=None, f=25)"
   ]
  },
  {
   "cell_type": "code",
   "execution_count": null,
   "metadata": {
    "collapsed": true
   },
   "outputs": [],
   "source": [
    "# parameters\n",
    "#distances 800, 1000, 1200\n",
    "#defocus 0.2517254\n",
    "\n",
    "zodash = 30\n",
    "f = 25\n",
    "\n",
    "uo = gaussian_lens_formula(u=None, v=zodash, f=24).u\n",
    "print('uo = ', uo)\n",
    "\n",
    "\n",
    "fig, ax = plt.subplots(1, 1, figsize=(15, 8))\n",
    "cols = ['#0080FF', '#F52080', '#00CC60', '#B96F20', '#1f77b4', \n",
    "        '#ff7f0e', '#2ca02c', '#8c564b', '#00BFFF', '#FF8073',\n",
    "        '#11FFAA', '#CEb631', '#7088F6', '#f67088', '#80FF80', \n",
    "        '#EAC910', '#38A7D0', '#f34060', '#40d370', '#CE8f31', \n",
    "        '#2166AC', '#B2182B', '#32b135', '#814D16', '#606060',\n",
    "        '#0080FF', '#F52080', '#00CC60', '#B96F20', '#1f77b4', \n",
    "        '#ff7f0e', '#2ca02c', '#8c564b', '#00BFFF', '#FF8073',\n",
    "        '#11FFAA', '#CEb631', '#7088F6', '#f67088', '#80FF80', \n",
    "        '#EAC910', '#38A7D0', '#f34060', '#40d370', '#CE8f31', \n",
    "        '#2166AC', '#B2182B', '#32b135', '#814D16', '#606060']\n",
    "\n",
    "ymin, ymax = -150, 25\n",
    "#ymin, ymax = -150, 150\n",
    "\n",
    "ax.set_xlim(-uo-250, zodash + 10)\n",
    "ax.set_ylim(ymin, ymax)\n",
    "\n",
    "ax.axvline(color='#BBBBBB',)\n",
    "ax.axhline(color='#BBBBBB',)\n",
    "\n",
    "\n",
    "# draw image plane\n",
    "ax.axvline(x=zodash, ymin=ymin, ymax=ymax, color='#CCCCCC')\n",
    "x, y = get_points(0, zodash, -10, 10)\n",
    "ax.plot(x, y, color='#222222', lw=2,)\n",
    "\n",
    "# draw lens plane\n",
    "#alpha = np.linspace(-30, 30, 50)\n",
    "alpha = np.linspace(-25, 0, 5)\n",
    "\n",
    "for i, each in enumerate(alpha):\n",
    "    #print('alpha', each)\n",
    "    x, y = get_points(each, 0, ymin, ymax-5)\n",
    "    ax.plot(x, y, color=cols[i], alpha=0.4)\n",
    "    x, y = get_points(each, 0, -10, 10)\n",
    "    #ax.plot(x, y, color=cols[i], lw=2)\n",
    "    \n",
    "# draw object plane\n",
    "for i, each in enumerate(alpha):\n",
    "    xo = zo(f, zodash, each)\n",
    "    angleY = beta(f, xo, each)\n",
    "    #print('beta', angleY)\n",
    "    x, y = get_points(angleY, xo, ymin, ymax-5)\n",
    "    ax.plot(x, y, color=cols[i], alpha=0.4)\n",
    "    x, y = get_points(angleY, xo, -10, 10)\n",
    "    #ax.plot(x, y, color=cols[i], lw=2)\n",
    "    \n",
    "\n",
    "plt.show()\n"
   ]
  }
 ],
 "metadata": {
  "kernelspec": {
   "display_name": "Python 2",
   "language": "python",
   "name": "python2"
  },
  "language_info": {
   "codemirror_mode": {
    "name": "ipython",
    "version": 2
   },
   "file_extension": ".py",
   "mimetype": "text/x-python",
   "name": "python",
   "nbconvert_exporter": "python",
   "pygments_lexer": "ipython2",
   "version": "2.7.11"
  }
 },
 "nbformat": 4,
 "nbformat_minor": 0
}
