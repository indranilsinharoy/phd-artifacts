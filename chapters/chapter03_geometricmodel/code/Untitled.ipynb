{
 "cells": [
  {
   "cell_type": "code",
   "execution_count": 19,
   "metadata": {
    "collapsed": true
   },
   "outputs": [],
   "source": [
    "import pyzdde.zdde as pyz\n",
    "import os\n",
    "import matplotlib.pyplot as plt"
   ]
  },
  {
   "cell_type": "code",
   "execution_count": 26,
   "metadata": {
    "collapsed": false
   },
   "outputs": [
    {
     "name": "stdout",
     "output_type": "stream",
     "text": [
      "Using matplotlib backend: Qt4Agg\n"
     ]
    }
   ],
   "source": [
    "%matplotlib"
   ]
  },
  {
   "cell_type": "code",
   "execution_count": 2,
   "metadata": {
    "collapsed": true
   },
   "outputs": [],
   "source": [
    "ln = pyz.createLink(True)"
   ]
  },
  {
   "cell_type": "code",
   "execution_count": 24,
   "metadata": {
    "collapsed": false
   },
   "outputs": [],
   "source": [
    "cdir = os.getcwd()\n",
    "imgdir = os.path.join(cdir, 'images')\n",
    "if not os.path.exists(imgdir):\n",
    "    os.makedirs(imgdir)\n",
    "    print(\"Created 'images' directory\")\n",
    "    \n",
    "# Helper function for saving figures\n",
    "bSaveFigure = True\n",
    "fig_format, fig_ext = 'png', '.png'\n",
    "def saveFigure(figure, fig_name, DPI=200):\n",
    "    if bSaveFigure:\n",
    "        figname = os.path.join(imgdir, fig_name)\n",
    "        figure.savefig(figname, dpi=DPI, facecolor='white', edgecolor='white',\n",
    "                       bbox_inches='tight', format=fig_format, pad_inches=0.03)"
   ]
  },
  {
   "cell_type": "code",
   "execution_count": 3,
   "metadata": {
    "collapsed": false
   },
   "outputs": [
    {
     "data": {
      "text/plain": [
       "'C:\\\\Users\\\\Indranil\\\\Documents\\\\ZEMAX\\\\Samples\\\\Sequential\\\\Objectives\\\\Double Gauss 28 degree field_HAMMER.zmx'"
      ]
     },
     "execution_count": 3,
     "metadata": {},
     "output_type": "execute_result"
    }
   ],
   "source": [
    "ln.zGetFile()"
   ]
  },
  {
   "cell_type": "code",
   "execution_count": 10,
   "metadata": {
    "collapsed": true
   },
   "outputs": [],
   "source": [
    "arr = ln.ipzCaptureWindow('Lay', percent=16, gamma=0.02, retArr=True)"
   ]
  },
  {
   "cell_type": "code",
   "execution_count": 27,
   "metadata": {
    "collapsed": false
   },
   "outputs": [],
   "source": [
    "pyz.imshow(arr, cropBorderPixels=(5, 5, 90, 90), figsize=(10, 10), title='')"
   ]
  },
  {
   "cell_type": "code",
   "execution_count": null,
   "metadata": {
    "collapsed": true
   },
   "outputs": [],
   "source": []
  }
 ],
 "metadata": {
  "kernelspec": {
   "display_name": "Python 2",
   "language": "python",
   "name": "python2"
  },
  "language_info": {
   "codemirror_mode": {
    "name": "ipython",
    "version": 2
   },
   "file_extension": ".py",
   "mimetype": "text/x-python",
   "name": "python",
   "nbconvert_exporter": "python",
   "pygments_lexer": "ipython2",
   "version": "2.7.11"
  }
 },
 "nbformat": 4,
 "nbformat_minor": 0
}
