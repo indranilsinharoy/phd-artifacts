{
 "cells": [
  {
   "cell_type": "markdown",
   "metadata": {},
   "source": [
    "# Describing 3D rotations of surfaces in Zemax"
   ]
  },
  {
   "cell_type": "code",
   "execution_count": 55,
   "metadata": {
    "collapsed": true
   },
   "outputs": [],
   "source": [
    "import os\n",
    "import sympy as sy\n",
    "import numpy as np\n",
    "from functools import partial\n",
    "import pyzdde.zdde as pyz\n",
    "\n",
    "# local library\n",
    "import iutils.cg.rigidbody as rb"
   ]
  },
  {
   "cell_type": "code",
   "execution_count": 12,
   "metadata": {
    "collapsed": true
   },
   "outputs": [],
   "source": [
    "sy.init_printing(use_latex='mathjax', print_builtin=False)"
   ]
  },
  {
   "cell_type": "code",
   "execution_count": 13,
   "metadata": {
    "collapsed": false
   },
   "outputs": [
    {
     "data": {
      "text/plain": [
       "0"
      ]
     },
     "execution_count": 13,
     "metadata": {},
     "output_type": "execute_result"
    }
   ],
   "source": [
    "curDir = os.getcwd()\n",
    "# Location of the Zemax lens files for this notebook\n",
    "zmxdir = os.path.join(curDir, 'zmxfiles')\n",
    "ln = pyz.createLink()\n",
    "lens = \"rotationMatrixStudy.ZMX\"\n",
    "lensPath = os.path.join(zmxdir, lens)\n",
    "ln.zLoadFile(lensPath)"
   ]
  },
  {
   "cell_type": "markdown",
   "metadata": {},
   "source": [
    "## Composition of rotation matrices"
   ]
  },
  {
   "cell_type": "markdown",
   "metadata": {},
   "source": [
    "#### Background"
   ]
  },
  {
   "cell_type": "markdown",
   "metadata": {},
   "source": [
    "Representation of variables in the document:\n",
    "\n",
    "* R_xydzdd: Rotation matrix composed of sequence of **intrinsic** elemental rotations about x-axis (Rx), local y-axis (Ry), and local z-axis (Rz) in that order. Mathematically, $R_{x-y'-z''} = R_x(\\theta_x) R_y(\\theta_y) R_z(\\theta_z)$.\n",
    "\n",
    "* R_xyz: Rotation matrix composed of sequence of **extrinsic** elemental rotations about x-axis (Rx), local y-axis (Ry), and local z-axis (Rz) in that order. Mathematically, $R_{x-y-z} = R_z(\\theta_z) R_y(\\theta_y) R_x(\\theta_x)$.\n",
    "\n",
    "Notes:\n",
    "\n",
    "1. The above rotation matrices $R_{x-y'-z''}$ and $R_{x-y-z}$ are meant to be post multiplied with the column vectors.\n",
    "2. In Zemax, the sequence of rotations are *intrinsic* if the order flag is 0, and it is *extrinsic* if the order flag is 1.\n"
   ]
  },
  {
   "cell_type": "markdown",
   "metadata": {},
   "source": [
    "#### Sequence of rotations about the x- and y- global coordinate axes"
   ]
  },
  {
   "cell_type": "markdown",
   "metadata": {},
   "source": [
    "Functions for Symbolic computation:"
   ]
  },
  {
   "cell_type": "code",
   "execution_count": 14,
   "metadata": {
    "collapsed": false
   },
   "outputs": [
    {
     "data": {
      "text/latex": [
       "$$\\left ( \\left[\\begin{matrix}1 & 0 & 0\\\\0 & \\cos{\\left (\\theta_{x} \\right )} & - \\sin{\\left (\\theta_{x} \\right )}\\\\0 & \\sin{\\left (\\theta_{x} \\right )} & \\cos{\\left (\\theta_{x} \\right )}\\end{matrix}\\right], \\quad \\left[\\begin{matrix}\\cos{\\left (\\theta_{y} \\right )} & 0 & \\sin{\\left (\\theta_{y} \\right )}\\\\0 & 1 & 0\\\\- \\sin{\\left (\\theta_{y} \\right )} & 0 & \\cos{\\left (\\theta_{y} \\right )}\\end{matrix}\\right]\\right )$$"
      ],
      "text/plain": [
       "⎛⎡1     0        0    ⎤, ⎡cos(θ_y)   0  sin(θ_y)⎤⎞\n",
       "⎜⎢                    ⎥  ⎢                      ⎥⎟\n",
       "⎜⎢0  cos(θₓ)  -sin(θₓ)⎥  ⎢    0      1     0    ⎥⎟\n",
       "⎜⎢                    ⎥  ⎢                      ⎥⎟\n",
       "⎝⎣0  sin(θₓ)  cos(θₓ) ⎦  ⎣-sin(θ_y)  0  cos(θ_y)⎦⎠"
      ]
     },
     "execution_count": 14,
     "metadata": {},
     "output_type": "execute_result"
    }
   ],
   "source": [
    "thix = sy.symbols('theta_x', positive=True, real=True)\n",
    "thiy = sy.symbols('theta_y', positive=True, real=True)\n",
    "\n",
    "Rx = sy.Matrix(((1,      0     ,      0      ), \n",
    "                (0,  sy.cos(thix),  -sy.sin(thix)),\n",
    "                (0,  sy.sin(thix),   sy.cos(thix)),\n",
    "               ))\n",
    "\n",
    "Ry = sy.Matrix(((sy.cos(thiy),  0, sy.sin(thiy)), \n",
    "                (0,           1,     0     ),\n",
    "                (-sy.sin(thiy), 0, sy.cos(thiy)),\n",
    "               ))\n",
    "\n",
    "\n",
    "Rx, Ry"
   ]
  },
  {
   "cell_type": "code",
   "execution_count": 21,
   "metadata": {
    "collapsed": false
   },
   "outputs": [
    {
     "data": {
      "text/latex": [
       "$$\\left[\\begin{matrix}\\cos{\\left (\\theta_{y} \\right )} & \\sin{\\left (\\theta_{x} \\right )} \\sin{\\left (\\theta_{y} \\right )} & \\sin{\\left (\\theta_{y} \\right )} \\cos{\\left (\\theta_{x} \\right )}\\\\0 & \\cos{\\left (\\theta_{x} \\right )} & - \\sin{\\left (\\theta_{x} \\right )}\\\\- \\sin{\\left (\\theta_{y} \\right )} & \\sin{\\left (\\theta_{x} \\right )} \\cos{\\left (\\theta_{y} \\right )} & \\cos{\\left (\\theta_{x} \\right )} \\cos{\\left (\\theta_{y} \\right )}\\end{matrix}\\right]$$"
      ],
      "text/plain": [
       "⎡cos(θ_y)   sin(θₓ)⋅sin(θ_y)  sin(θ_y)⋅cos(θₓ)⎤\n",
       "⎢                                             ⎥\n",
       "⎢    0          cos(θₓ)           -sin(θₓ)    ⎥\n",
       "⎢                                             ⎥\n",
       "⎣-sin(θ_y)  sin(θₓ)⋅cos(θ_y)  cos(θₓ)⋅cos(θ_y)⎦"
      ]
     },
     "execution_count": 21,
     "metadata": {},
     "output_type": "execute_result"
    }
   ],
   "source": [
    "# R_xy = rotation about x-axis followed by rotation about y-axis (extrinsic)\n",
    "# R_yxd = rotation about y-axis followed by rotation about x-axis (intrinsic)\n",
    "R_xy = R_yxd = Ry*Rx\n",
    "R_xy"
   ]
  },
  {
   "cell_type": "code",
   "execution_count": 16,
   "metadata": {
    "collapsed": false
   },
   "outputs": [
    {
     "data": {
      "text/latex": [
       "$$\\left[\\begin{matrix}\\cos{\\left (\\theta_{y} \\right )} & 0 & \\sin{\\left (\\theta_{y} \\right )}\\\\\\sin{\\left (\\theta_{x} \\right )} \\sin{\\left (\\theta_{y} \\right )} & \\cos{\\left (\\theta_{x} \\right )} & - \\sin{\\left (\\theta_{x} \\right )} \\cos{\\left (\\theta_{y} \\right )}\\\\- \\sin{\\left (\\theta_{y} \\right )} \\cos{\\left (\\theta_{x} \\right )} & \\sin{\\left (\\theta_{x} \\right )} & \\cos{\\left (\\theta_{x} \\right )} \\cos{\\left (\\theta_{y} \\right )}\\end{matrix}\\right]$$"
      ],
      "text/plain": [
       "⎡    cos(θ_y)          0         sin(θ_y)     ⎤\n",
       "⎢                                             ⎥\n",
       "⎢sin(θₓ)⋅sin(θ_y)   cos(θₓ)  -sin(θₓ)⋅cos(θ_y)⎥\n",
       "⎢                                             ⎥\n",
       "⎣-sin(θ_y)⋅cos(θₓ)  sin(θₓ)  cos(θₓ)⋅cos(θ_y) ⎦"
      ]
     },
     "execution_count": 16,
     "metadata": {},
     "output_type": "execute_result"
    }
   ],
   "source": [
    "# R_yx = rotation about y-axis followed by rotation about x-axis (extrinsic)\n",
    "# R_xyd = rotation about x-axis followed by rotation about local y-axis (intrinsic)\n",
    "R_yx = R_xyd = Rx*Ry\n",
    "R_yx"
   ]
  },
  {
   "cell_type": "markdown",
   "metadata": {},
   "source": [
    "Functions for Numerica computation"
   ]
  },
  {
   "cell_type": "code",
   "execution_count": 76,
   "metadata": {
    "collapsed": true
   },
   "outputs": [],
   "source": [
    "# Functions for Numeric computation\n",
    "r_x = partial(rb.rotMat3D, (1,0,0), atype='d', tol=1e-12)\n",
    "r_x.__doc__ = 'Elementary 3D rotation matrix about x-axis'\n",
    "\n",
    "r_y = partial(rb.rotMat3D, (0,1,0), atype='d', tol=1e-12)\n",
    "r_y.__doc__ = 'Elementary 3D rotation matrix about y-axis'\n",
    "\n",
    "r_xy = lambda thetaX, thetaY : r_y(thetaY) * r_x(thetaX)\n",
    "r_xy.__doc__ = \"Rotation marix as extrinsic composition: x-y\"\n",
    "\n",
    "r_xyd = lambda thetaX, thetaY : r_x(thetaX) * r_y(thetaY)\n",
    "r_xyd.__doc__ = \"Rotation matrix as intrinsic composition: x-y'\"\n",
    "\n",
    "\n",
    "\n",
    "r_yx = lambda thetaX, thetaY : r_x(thetaX) * r_y(thetaY)\n",
    "r_yx.__doc__ = \"Rotation marix as extrinsic composition: y-x\"\n",
    "\n",
    "r_yxd = lambda thetaX, thetaY : r_y(thetaY) * r_x(thetaX)\n",
    "r_yxd.__doc__ = \"Rotation matrix as intrinsic composition: y-x'\"\n",
    "\n"
   ]
  },
  {
   "cell_type": "markdown",
   "metadata": {},
   "source": [
    "Function for Zemax computation"
   ]
  },
  {
   "cell_type": "markdown",
   "metadata": {},
   "source": [
    "Elementary rotations in Zemax are essentially intrinsic. But since you can change the order of rotations, you can make it behave like extrinsic:\n",
    "If the order flag is 0, the actual rotation is $x-y'-z''$.\n",
    "If the order flag is 1, the actual rotation is $z-y'-x''$ which is mathematically equivalent to $x-y-z$"
   ]
  },
  {
   "cell_type": "code",
   "execution_count": 18,
   "metadata": {
    "collapsed": false
   },
   "outputs": [
    {
     "data": {
      "image/png": "[encoded data removed]",
      "text/plain": [
       "<IPython.core.display.Image object>"
      ]
     },
     "metadata": {},
     "output_type": "display_data"
    }
   ],
   "source": [
    "ln.ipzCaptureWindow('L3d')"
   ]
  },
  {
   "cell_type": "code",
   "execution_count": 48,
   "metadata": {
    "collapsed": false
   },
   "outputs": [],
   "source": [
    "def rotate_surfaces(ln, thetaX, thetaY, cbRot, cbRotBack, rtype='intrinsic'):\n",
    "    \"\"\"set the rotations using coordinate breaks, return rotation matrix\n",
    "    \n",
    "    \"\"\"\n",
    "    order = 0 if rtype=='intrinsic' else 1\n",
    "    ln.zSetSurfaceParameter(surfNum=cbRot, param=6, value=order)\n",
    "    ln.zSetSurfaceParameter(surfNum=cbRot, param=3, value=thetaX)  \n",
    "    ln.zSetSurfaceParameter(surfNum=cbRot, param=4, value=thetaY)\n",
    "    ln.zSetSurfaceParameter(surfNum=cbRotBack, param=6, value=int(not(order)))\n",
    "    ln.zGetUpdate()\n",
    "    rot_mat = np.array(ln.zGetGlobalMatrix(cbRot)[:9]).reshape(3,3)\n",
    "    return rot_mat"
   ]
  },
  {
   "cell_type": "markdown",
   "metadata": {},
   "source": [
    "### Verification"
   ]
  },
  {
   "cell_type": "markdown",
   "metadata": {},
   "source": [
    "##### (1) Rotation about x-axis by 25°:"
   ]
  },
  {
   "cell_type": "code",
   "execution_count": 70,
   "metadata": {
    "collapsed": false
   },
   "outputs": [
    {
     "data": {
      "text/plain": [
       "array([[ 1.        ,  0.        ,  0.        ],\n",
       "       [ 0.        ,  0.90630779, -0.42261826],\n",
       "       [ 0.        ,  0.42261826,  0.90630779]])"
      ]
     },
     "execution_count": 70,
     "metadata": {},
     "output_type": "execute_result"
    }
   ],
   "source": [
    "# Rotation matrix @ Zemax\n",
    "thetaX, thetaY = 25, 0\n",
    "rotate_surfaces(ln, thetaX=thetaX, thetaY=thetaY, cbRot=4, cbRotBack=7, rtype='intrinsic')"
   ]
  },
  {
   "cell_type": "code",
   "execution_count": 71,
   "metadata": {
    "collapsed": false
   },
   "outputs": [
    {
     "data": {
      "text/latex": [
       "$$\\left[\\begin{matrix}1 & 0 & 0\\\\0 & 0.90630778703665 & -0.422618261740699\\\\0 & 0.422618261740699 & 0.90630778703665\\end{matrix}\\right]$$"
      ],
      "text/plain": [
       "⎡1          0                  0         ⎤\n",
       "⎢                                        ⎥\n",
       "⎢0  0.90630778703665   -0.422618261740699⎥\n",
       "⎢                                        ⎥\n",
       "⎣0  0.422618261740699   0.90630778703665 ⎦"
      ]
     },
     "execution_count": 71,
     "metadata": {},
     "output_type": "execute_result"
    }
   ],
   "source": [
    "# Rotation matrix using Symbolic computation\n",
    "R_xyd.subs({thix:np.deg2rad(thetaX), thiy:np.deg2rad(thetaY)})"
   ]
  },
  {
   "cell_type": "code",
   "execution_count": 77,
   "metadata": {
    "collapsed": false
   },
   "outputs": [
    {
     "data": {
      "text/plain": [
       "matrix([[ 1.        ,  0.        ,  0.        ],\n",
       "        [ 0.        ,  0.90630779, -0.42261826],\n",
       "        [ 0.        ,  0.42261826,  0.90630779]])"
      ]
     },
     "execution_count": 77,
     "metadata": {},
     "output_type": "execute_result"
    }
   ],
   "source": [
    "# Roation matrix using Numerical computation\n",
    "r_xyd(thetaX, thetaY)"
   ]
  },
  {
   "cell_type": "markdown",
   "metadata": {},
   "source": [
    "##### (2) Rotation about y-axis by -35°:"
   ]
  },
  {
   "cell_type": "code",
   "execution_count": 78,
   "metadata": {
    "collapsed": false
   },
   "outputs": [
    {
     "data": {
      "text/plain": [
       "array([[ 0.81915204,  0.        , -0.57357644],\n",
       "       [ 0.        ,  1.        ,  0.        ],\n",
       "       [ 0.57357644,  0.        ,  0.81915204]])"
      ]
     },
     "execution_count": 78,
     "metadata": {},
     "output_type": "execute_result"
    }
   ],
   "source": [
    "# Rotation matrix @ Zemax\n",
    "thetaX, thetaY = 0, -35\n",
    "rotate_surfaces(ln, thetaX=thetaX, thetaY=thetaY, cbRot=4, cbRotBack=7, rtype='intrinsic')"
   ]
  },
  {
   "cell_type": "code",
   "execution_count": 79,
   "metadata": {
    "collapsed": false
   },
   "outputs": [
    {
     "data": {
      "text/latex": [
       "$$\\left[\\begin{matrix}0.819152044288992 & 0 & -0.573576436351046\\\\0 & 1 & 0\\\\0.573576436351046 & 0 & 0.819152044288992\\end{matrix}\\right]$$"
      ],
      "text/plain": [
       "⎡0.819152044288992  0  -0.573576436351046⎤\n",
       "⎢                                        ⎥\n",
       "⎢        0          1          0         ⎥\n",
       "⎢                                        ⎥\n",
       "⎣0.573576436351046  0  0.819152044288992 ⎦"
      ]
     },
     "execution_count": 79,
     "metadata": {},
     "output_type": "execute_result"
    }
   ],
   "source": [
    "# Rotation matrix using Symbolic computation\n",
    "R_xyd.subs({thix:np.deg2rad(thetaX), thiy:np.deg2rad(thetaY)})"
   ]
  },
  {
   "cell_type": "code",
   "execution_count": 80,
   "metadata": {
    "collapsed": false
   },
   "outputs": [
    {
     "data": {
      "text/plain": [
       "matrix([[ 0.81915204,  0.        , -0.57357644],\n",
       "        [ 0.        ,  1.        ,  0.        ],\n",
       "        [ 0.57357644,  0.        ,  0.81915204]])"
      ]
     },
     "execution_count": 80,
     "metadata": {},
     "output_type": "execute_result"
    }
   ],
   "source": [
    "# Roation matrix using Numerical computation\n",
    "r_xyd(thetaX, thetaY)"
   ]
  },
  {
   "cell_type": "markdown",
   "metadata": {},
   "source": [
    "##### (3) Intrinsic Rotation about x-axis by 10° followed by rotation about y-axis by 15°"
   ]
  },
  {
   "cell_type": "code",
   "execution_count": 89,
   "metadata": {
    "collapsed": false
   },
   "outputs": [
    {
     "data": {
      "text/plain": [
       "array([[ 0.96592583,  0.        ,  0.25881905],\n",
       "       [ 0.04494346,  0.98480775, -0.16773126],\n",
       "       [-0.254887  ,  0.17364818,  0.95125124]])"
      ]
     },
     "execution_count": 89,
     "metadata": {},
     "output_type": "execute_result"
    }
   ],
   "source": [
    "# Rotation matrix @ Zemax\n",
    "thetaX, thetaY = 10, 15\n",
    "rotate_surfaces(ln, thetaX=thetaX, thetaY=thetaY, cbRot=4, cbRotBack=7, rtype='intrinsic')"
   ]
  },
  {
   "cell_type": "code",
   "execution_count": 90,
   "metadata": {
    "collapsed": false
   },
   "outputs": [
    {
     "data": {
      "text/latex": [
       "$$\\left[\\begin{matrix}0.965925826289068 & 0 & 0.258819045102521\\\\0.0449434555275478 & 0.984807753012208 & -0.167731259496521\\\\-0.254887002244179 & 0.17364817766693 & 0.951251242564198\\end{matrix}\\right]$$"
      ],
      "text/plain": [
       "⎡0.965925826289068           0          0.258819045102521 ⎤\n",
       "⎢                                                         ⎥\n",
       "⎢0.0449434555275478  0.984807753012208  -0.167731259496521⎥\n",
       "⎢                                                         ⎥\n",
       "⎣-0.254887002244179  0.17364817766693   0.951251242564198 ⎦"
      ]
     },
     "execution_count": 90,
     "metadata": {},
     "output_type": "execute_result"
    }
   ],
   "source": [
    "# Rotation matrix using Symbolic computation\n",
    "R_xyd.subs({thix:np.deg2rad(thetaX), thiy:np.deg2rad(thetaY)})"
   ]
  },
  {
   "cell_type": "code",
   "execution_count": 91,
   "metadata": {
    "collapsed": false
   },
   "outputs": [
    {
     "data": {
      "text/latex": [
       "$$\\left[\\begin{matrix}0.965925826289068 & 0 & 0.258819045102521\\\\0.0449434555275478 & 0.984807753012208 & -0.167731259496521\\\\-0.254887002244179 & 0.17364817766693 & 0.951251242564198\\end{matrix}\\right]$$"
      ],
      "text/plain": [
       "⎡0.965925826289068           0          0.258819045102521 ⎤\n",
       "⎢                                                         ⎥\n",
       "⎢0.0449434555275478  0.984807753012208  -0.167731259496521⎥\n",
       "⎢                                                         ⎥\n",
       "⎣-0.254887002244179  0.17364817766693   0.951251242564198 ⎦"
      ]
     },
     "execution_count": 91,
     "metadata": {},
     "output_type": "execute_result"
    }
   ],
   "source": [
    "# Rotation matrix using Symbolic computation (Mathematically equivalent to extrinsic rotation R_yx)\n",
    "R_yx.subs({thix:np.deg2rad(thetaX), thiy:np.deg2rad(thetaY)})"
   ]
  },
  {
   "cell_type": "code",
   "execution_count": 92,
   "metadata": {
    "collapsed": false
   },
   "outputs": [
    {
     "data": {
      "text/plain": [
       "matrix([[ 0.96592583,  0.        ,  0.25881905],\n",
       "        [ 0.04494346,  0.98480775, -0.16773126],\n",
       "        [-0.254887  ,  0.17364818,  0.95125124]])"
      ]
     },
     "execution_count": 92,
     "metadata": {},
     "output_type": "execute_result"
    }
   ],
   "source": [
    "# Rotation matrix using Numerical computation\n",
    "r_xyd(thetaX, thetaY)"
   ]
  },
  {
   "cell_type": "code",
   "execution_count": null,
   "metadata": {
    "collapsed": true
   },
   "outputs": [],
   "source": [
    "# Rotation matrix using Numerical computation (Mathematically equivalent to extrinsic rotation R)\n",
    "r_xyd(thetaX, thetaY)"
   ]
  },
  {
   "cell_type": "markdown",
   "metadata": {},
   "source": [
    "##### (4) Extrinsic Rotation about x-axis by 12° followed by rotation about y-axis by -8°"
   ]
  },
  {
   "cell_type": "code",
   "execution_count": 84,
   "metadata": {
    "collapsed": false
   },
   "outputs": [
    {
     "data": {
      "text/plain": [
       "array([[ 0.99026807, -0.02893571, -0.13613183],\n",
       "       [ 0.        ,  0.9781476 , -0.20791169],\n",
       "       [ 0.1391731 ,  0.20588831,  0.96862834]])"
      ]
     },
     "execution_count": 84,
     "metadata": {},
     "output_type": "execute_result"
    }
   ],
   "source": [
    "# Rotation matrix @ Zemax\n",
    "thetaX, thetaY = 12, -8\n",
    "rotate_surfaces(ln, thetaX=thetaX, thetaY=thetaY, cbRot=4, cbRotBack=7, rtype='extrinsic')"
   ]
  },
  {
   "cell_type": "code",
   "execution_count": 85,
   "metadata": {
    "collapsed": false
   },
   "outputs": [
    {
     "data": {
      "text/latex": [
       "$$\\left[\\begin{matrix}0.99026806874157 & -0.0289357147369579 & -0.136131834790772\\\\0 & 0.978147600733806 & -0.207911690817759\\\\0.139173100960065 & 0.205888308534897 & 0.968628335522866\\end{matrix}\\right]$$"
      ],
      "text/plain": [
       "⎡0.99026806874157   -0.0289357147369579  -0.136131834790772⎤\n",
       "⎢                                                          ⎥\n",
       "⎢        0           0.978147600733806   -0.207911690817759⎥\n",
       "⎢                                                          ⎥\n",
       "⎣0.139173100960065   0.205888308534897   0.968628335522866 ⎦"
      ]
     },
     "execution_count": 85,
     "metadata": {},
     "output_type": "execute_result"
    }
   ],
   "source": [
    "# Rotation matrix using Symbolic computation\n",
    "R_yx.subs({thix:np.deg2rad(thetaX), thiy:np.deg2rad(thetaY)})"
   ]
  },
  {
   "cell_type": "code",
   "execution_count": 87,
   "metadata": {
    "collapsed": false
   },
   "outputs": [
    {
     "data": {
      "text/latex": [
       "$$\\left[\\begin{matrix}0.99026806874157 & -0.0289357147369579 & -0.136131834790772\\\\0 & 0.978147600733806 & -0.207911690817759\\\\0.139173100960065 & 0.205888308534897 & 0.968628335522866\\end{matrix}\\right]$$"
      ],
      "text/plain": [
       "⎡0.99026806874157   -0.0289357147369579  -0.136131834790772⎤\n",
       "⎢                                                          ⎥\n",
       "⎢        0           0.978147600733806   -0.207911690817759⎥\n",
       "⎢                                                          ⎥\n",
       "⎣0.139173100960065   0.205888308534897   0.968628335522866 ⎦"
      ]
     },
     "execution_count": 87,
     "metadata": {},
     "output_type": "execute_result"
    }
   ],
   "source": [
    "# Rotation matrix using Symbolic computation (Mathematically eqivalent to intrinsic rotation R_yxd)\n",
    "R_yxd.subs({thix:np.deg2rad(thetaX), thiy:np.deg2rad(thetaY)})"
   ]
  },
  {
   "cell_type": "code",
   "execution_count": 86,
   "metadata": {
    "collapsed": false
   },
   "outputs": [
    {
     "data": {
      "text/plain": [
       "matrix([[ 0.99026807, -0.02893571, -0.13613183],\n",
       "        [ 0.        ,  0.9781476 , -0.20791169],\n",
       "        [ 0.1391731 ,  0.20588831,  0.96862834]])"
      ]
     },
     "execution_count": 86,
     "metadata": {},
     "output_type": "execute_result"
    }
   ],
   "source": [
    "# Roation matrix using Numerical computation\n",
    "r_xy(thetaX, thetaY)"
   ]
  },
  {
   "cell_type": "code",
   "execution_count": 88,
   "metadata": {
    "collapsed": false
   },
   "outputs": [
    {
     "data": {
      "text/plain": [
       "matrix([[ 0.99026807, -0.02893571, -0.13613183],\n",
       "        [ 0.        ,  0.9781476 , -0.20791169],\n",
       "        [ 0.1391731 ,  0.20588831,  0.96862834]])"
      ]
     },
     "execution_count": 88,
     "metadata": {},
     "output_type": "execute_result"
    }
   ],
   "source": [
    "# Roation matrix using Numerical computation (Mathematically equivalent to intrinsic rotation r_yxd)\n",
    "r_yxd(thetaX, thetaY)"
   ]
  },
  {
   "cell_type": "code",
   "execution_count": null,
   "metadata": {
    "collapsed": true
   },
   "outputs": [],
   "source": []
  }
 ],
 "metadata": {
  "kernelspec": {
   "display_name": "Python 2",
   "language": "python",
   "name": "python2"
  },
  "language_info": {
   "codemirror_mode": {
    "name": "ipython",
    "version": 2
   },
   "file_extension": ".py",
   "mimetype": "text/x-python",
   "name": "python",
   "nbconvert_exporter": "python",
   "pygments_lexer": "ipython2",
   "version": "2.7.11"
  }
 },
 "nbformat": 4,
 "nbformat_minor": 0
}
