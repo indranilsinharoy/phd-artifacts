{
 "cells": [
  {
   "cell_type": "code",
   "execution_count": 1,
   "metadata": {
    "collapsed": true
   },
   "outputs": [],
   "source": [
    "import sympy as sy\n",
    "sy.init_printing(use_latex='mathjax', print_builtin=False)"
   ]
  },
  {
   "cell_type": "code",
   "execution_count": 3,
   "metadata": {
    "collapsed": true
   },
   "outputs": [],
   "source": [
    "alpha_x = sy.symbols('alpha_x', Positive=True, Real=True)\n",
    "alpha_y = sy.symbols('alpha_y', Positive=True, Real=True)\n",
    "beta_x = sy.symbols('beta_x', Positive=True, Real=True)\n",
    "beta_y = sy.symbols('beta_y', Positive=True, Real=True)"
   ]
  },
  {
   "cell_type": "code",
   "execution_count": 9,
   "metadata": {
    "collapsed": false
   },
   "outputs": [
    {
     "data": {
      "text/latex": [
       "$$\\left[\\begin{matrix}1 & 0 & 0\\\\0 & \\cos{\\left (\\beta_{y} \\right )} & - \\sin{\\left (\\beta_{y} \\right )}\\\\0 & \\sin{\\left (\\beta_{y} \\right )} & \\cos{\\left (\\beta_{y} \\right )}\\end{matrix}\\right]$$"
      ],
      "text/plain": [
       "⎡1     0          0    ⎤\n",
       "⎢                      ⎥\n",
       "⎢0  cos(β_y)  -sin(β_y)⎥\n",
       "⎢                      ⎥\n",
       "⎣0  sin(β_y)  cos(β_y) ⎦"
      ]
     },
     "execution_count": 9,
     "metadata": {},
     "output_type": "execute_result"
    }
   ],
   "source": [
    "# Rotation about the x-axis by +ve beta_y\n",
    "R_ox = sy.Matrix(((1,       0,              0          ), \n",
    "                  (0,  sy.cos(beta_y),  -sy.sin(beta_y)),\n",
    "                  (0,  sy.sin(beta_y),   sy.cos(beta_y)),\n",
    "                 ))\n",
    "R_ox"
   ]
  },
  {
   "cell_type": "code",
   "execution_count": 18,
   "metadata": {
    "collapsed": false
   },
   "outputs": [
    {
     "data": {
      "text/latex": [
       "$$\\left[\\begin{matrix}\\cos{\\left (\\beta_{x} \\right )} & 0 & \\sin{\\left (\\beta_{x} \\right )}\\\\0 & 1 & 0\\\\- \\sin{\\left (\\beta_{x} \\right )} & 0 & \\cos{\\left (\\beta_{x} \\right )}\\end{matrix}\\right]$$"
      ],
      "text/plain": [
       "⎡cos(βₓ)   0  sin(βₓ)⎤\n",
       "⎢                    ⎥\n",
       "⎢   0      1     0   ⎥\n",
       "⎢                    ⎥\n",
       "⎣-sin(βₓ)  0  cos(βₓ)⎦"
      ]
     },
     "execution_count": 18,
     "metadata": {},
     "output_type": "execute_result"
    }
   ],
   "source": [
    "# Rotation about the y-axis by +ve beta_x\n",
    "R_oy = sy.Matrix(((sy.cos(beta_x),     0,   sy.sin(beta_x)), \n",
    "                  (0,                  1,       0         ),\n",
    "                  (-sy.sin(beta_x),    0,   sy.cos(beta_x)),\n",
    "                 ))\n",
    "R_oy"
   ]
  },
  {
   "cell_type": "code",
   "execution_count": 19,
   "metadata": {
    "collapsed": false
   },
   "outputs": [
    {
     "data": {
      "text/latex": [
       "$$\\left[\\begin{matrix}0\\\\0\\\\1\\end{matrix}\\right]$$"
      ],
      "text/plain": [
       "⎡0⎤\n",
       "⎢ ⎥\n",
       "⎢0⎥\n",
       "⎢ ⎥\n",
       "⎣1⎦"
      ]
     },
     "execution_count": 19,
     "metadata": {},
     "output_type": "execute_result"
    }
   ],
   "source": [
    "c_z = sy.Matrix(((0),(0),(1)))\n",
    "c_z"
   ]
  },
  {
   "cell_type": "code",
   "execution_count": 20,
   "metadata": {
    "collapsed": false
   },
   "outputs": [
    {
     "data": {
      "text/latex": [
       "$$\\left[\\begin{matrix}0\\\\\\sin{\\left (\\beta_{y} \\right )}\\\\\\cos{\\left (\\beta_{y} \\right )}\\end{matrix}\\right]$$"
      ],
      "text/plain": [
       "⎡   0    ⎤\n",
       "⎢        ⎥\n",
       "⎢sin(β_y)⎥\n",
       "⎢        ⎥\n",
       "⎣cos(β_y)⎦"
      ]
     },
     "execution_count": 20,
     "metadata": {},
     "output_type": "execute_result"
    }
   ],
   "source": [
    "n_o = R_ox*c_z\n",
    "n_o.subs({beta_y:-beta_y})"
   ]
  },
  {
   "cell_type": "code",
   "execution_count": 21,
   "metadata": {
    "collapsed": false
   },
   "outputs": [
    {
     "data": {
      "text/latex": [
       "$$\\left[\\begin{matrix}\\cos{\\left (\\beta_{x} \\right )} & \\sin{\\left (\\beta_{x} \\right )} \\sin{\\left (\\beta_{y} \\right )} & \\sin{\\left (\\beta_{x} \\right )} \\cos{\\left (\\beta_{y} \\right )}\\\\0 & \\cos{\\left (\\beta_{y} \\right )} & - \\sin{\\left (\\beta_{y} \\right )}\\\\- \\sin{\\left (\\beta_{x} \\right )} & \\sin{\\left (\\beta_{y} \\right )} \\cos{\\left (\\beta_{x} \\right )} & \\cos{\\left (\\beta_{x} \\right )} \\cos{\\left (\\beta_{y} \\right )}\\end{matrix}\\right]$$"
      ],
      "text/plain": [
       "⎡cos(βₓ)   sin(βₓ)⋅sin(β_y)  sin(βₓ)⋅cos(β_y)⎤\n",
       "⎢                                            ⎥\n",
       "⎢   0          cos(β_y)         -sin(β_y)    ⎥\n",
       "⎢                                            ⎥\n",
       "⎣-sin(βₓ)  sin(β_y)⋅cos(βₓ)  cos(βₓ)⋅cos(β_y)⎦"
      ]
     },
     "execution_count": 21,
     "metadata": {},
     "output_type": "execute_result"
    }
   ],
   "source": [
    "R_oy*R_ox"
   ]
  },
  {
   "cell_type": "code",
   "execution_count": 22,
   "metadata": {
    "collapsed": false
   },
   "outputs": [
    {
     "data": {
      "text/latex": [
       "$$\\left[\\begin{matrix}\\sin{\\left (\\beta_{x} \\right )} \\cos{\\left (\\beta_{y} \\right )}\\\\\\sin{\\left (\\beta_{y} \\right )}\\\\\\cos{\\left (\\beta_{x} \\right )} \\cos{\\left (\\beta_{y} \\right )}\\end{matrix}\\right]$$"
      ],
      "text/plain": [
       "⎡sin(βₓ)⋅cos(β_y)⎤\n",
       "⎢                ⎥\n",
       "⎢    sin(β_y)    ⎥\n",
       "⎢                ⎥\n",
       "⎣cos(βₓ)⋅cos(β_y)⎦"
      ]
     },
     "execution_count": 22,
     "metadata": {},
     "output_type": "execute_result"
    }
   ],
   "source": [
    "n_o = R_oy*R_ox*c_z\n",
    "n_o.subs({beta_y:-beta_y})"
   ]
  },
  {
   "cell_type": "code",
   "execution_count": 23,
   "metadata": {
    "collapsed": false
   },
   "outputs": [
    {
     "data": {
      "text/latex": [
       "$$\\left[\\begin{matrix}\\sin{\\left (\\beta_{x} \\right )}\\\\\\sin{\\left (\\beta_{y} \\right )} \\cos{\\left (\\beta_{x} \\right )}\\\\\\cos{\\left (\\beta_{x} \\right )} \\cos{\\left (\\beta_{y} \\right )}\\end{matrix}\\right]$$"
      ],
      "text/plain": [
       "⎡    sin(βₓ)     ⎤\n",
       "⎢                ⎥\n",
       "⎢sin(β_y)⋅cos(βₓ)⎥\n",
       "⎢                ⎥\n",
       "⎣cos(βₓ)⋅cos(β_y)⎦"
      ]
     },
     "execution_count": 23,
     "metadata": {},
     "output_type": "execute_result"
    }
   ],
   "source": [
    "n_o = R_ox*R_oy*c_z\n",
    "n_o.subs({beta_y:-beta_y})"
   ]
  },
  {
   "cell_type": "code",
   "execution_count": null,
   "metadata": {
    "collapsed": true
   },
   "outputs": [],
   "source": []
  },
  {
   "cell_type": "code",
   "execution_count": null,
   "metadata": {
    "collapsed": true
   },
   "outputs": [],
   "source": []
  },
  {
   "cell_type": "code",
   "execution_count": null,
   "metadata": {
    "collapsed": true
   },
   "outputs": [],
   "source": []
  }
 ],
 "metadata": {
  "kernelspec": {
   "display_name": "Python 2",
   "language": "python",
   "name": "python2"
  },
  "language_info": {
   "codemirror_mode": {
    "name": "ipython",
    "version": 2
   },
   "file_extension": ".py",
   "mimetype": "text/x-python",
   "name": "python",
   "nbconvert_exporter": "python",
   "pygments_lexer": "ipython2",
   "version": "2.7.10"
  }
 },
 "nbformat": 4,
 "nbformat_minor": 0
}
