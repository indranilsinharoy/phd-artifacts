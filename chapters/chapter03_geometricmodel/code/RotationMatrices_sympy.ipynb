{
 "cells": [
  {
   "cell_type": "code",
   "execution_count": 1,
   "metadata": {
    "collapsed": true
   },
   "outputs": [],
   "source": [
    "import sympy as sy"
   ]
  },
  {
   "cell_type": "code",
   "execution_count": 2,
   "metadata": {
    "collapsed": true
   },
   "outputs": [],
   "source": [
    "sy.init_printing(use_latex='mathjax', print_builtin=False)"
   ]
  },
  {
   "cell_type": "code",
   "execution_count": 3,
   "metadata": {
    "collapsed": true
   },
   "outputs": [],
   "source": [
    "alpha_x = sy.symbols('alpha_x', positive=True, real=True)\n",
    "alpha_y = sy.symbols('alpha_y', positive=True, real=True)\n",
    "beta_x = sy.symbols('beta_x', positive=True, real=True)\n",
    "beta_y = sy.symbols('beta_y', positive=True, real=True)\n",
    "mp = sy.symbols('m_p', real=True, positive=True)"
   ]
  },
  {
   "cell_type": "code",
   "execution_count": 4,
   "metadata": {
    "collapsed": false
   },
   "outputs": [
    {
     "data": {
      "text/latex": [
       "$$\\left[\\begin{matrix}1 & 0 & 0\\\\0 & 1 & 0\\\\0 & 0 & m_{p}\\end{matrix}\\right]$$"
      ],
      "text/plain": [
       "⎡1  0   0 ⎤\n",
       "⎢         ⎥\n",
       "⎢0  1   0 ⎥\n",
       "⎢         ⎥\n",
       "⎣0  0  m_p⎦"
      ]
     },
     "execution_count": 4,
     "metadata": {},
     "output_type": "execute_result"
    }
   ],
   "source": [
    "# Define the pupil magfnification matrix\n",
    "Mp = sy.Matrix(((1, 0, 0), \n",
    "                (0, 1, 0),\n",
    "                (0, 0, mp))\n",
    "              )\n",
    "Mp"
   ]
  },
  {
   "cell_type": "code",
   "execution_count": 5,
   "metadata": {
    "collapsed": false
   },
   "outputs": [
    {
     "data": {
      "text/latex": [
       "$$\\left[\\begin{matrix}n_{1}\\\\n_{2}\\\\n_{3}\\end{matrix}\\right]$$"
      ],
      "text/plain": [
       "⎡n₁⎤\n",
       "⎢  ⎥\n",
       "⎢n₂⎥\n",
       "⎢  ⎥\n",
       "⎣n₃⎦"
      ]
     },
     "execution_count": 5,
     "metadata": {},
     "output_type": "execute_result"
    }
   ],
   "source": [
    "# a normal vector, N\n",
    "n1, n2, n3 = sy.symbols('n_1, n_2, n_3', real=True)\n",
    "m1, m2, m3 = sy.symbols('m_1, m_2, m_3', real=True)\n",
    "N = sy.Matrix(((n1), (n2), (n3)))\n",
    "M = sy.Matrix(((m1), (m2), (m3)))\n",
    "N"
   ]
  },
  {
   "cell_type": "code",
   "execution_count": 6,
   "metadata": {
    "collapsed": false
   },
   "outputs": [
    {
     "data": {
      "text/latex": [
       "$$\\left[\\begin{matrix}0\\\\0\\\\1\\end{matrix}\\right]$$"
      ],
      "text/plain": [
       "⎡0⎤\n",
       "⎢ ⎥\n",
       "⎢0⎥\n",
       "⎢ ⎥\n",
       "⎣1⎦"
      ]
     },
     "execution_count": 6,
     "metadata": {},
     "output_type": "execute_result"
    }
   ],
   "source": [
    "# z-axis of camera frame, c_z\n",
    "c_z = sy.Matrix(((0),(0),(1)))\n",
    "c_z"
   ]
  },
  {
   "cell_type": "code",
   "execution_count": 7,
   "metadata": {
    "collapsed": false
   },
   "outputs": [
    {
     "data": {
      "text/latex": [
       "$$\\left[\\begin{matrix}l\\\\m\\\\n\\end{matrix}\\right]$$"
      ],
      "text/plain": [
       "⎡l⎤\n",
       "⎢ ⎥\n",
       "⎢m⎥\n",
       "⎢ ⎥\n",
       "⎣n⎦"
      ]
     },
     "execution_count": 7,
     "metadata": {},
     "output_type": "execute_result"
    }
   ],
   "source": [
    "# a generic direction cosine vector L\n",
    "l, m, n = sy.symbols('l, m, n', real=True)\n",
    "L = sy.Matrix(((l), (m), (n)))\n",
    "L"
   ]
  },
  {
   "cell_type": "code",
   "execution_count": 10,
   "metadata": {
    "collapsed": false
   },
   "outputs": [
    {
     "data": {
      "text/latex": [
       "$$\\left[\\begin{matrix}1 & 0 & 0\\\\0 & \\cos{\\left (\\beta_{y} \\right )} & - \\sin{\\left (\\beta_{y} \\right )}\\\\0 & \\sin{\\left (\\beta_{y} \\right )} & \\cos{\\left (\\beta_{y} \\right )}\\end{matrix}\\right]$$"
      ],
      "text/plain": [
       "⎡1     0          0    ⎤\n",
       "⎢                      ⎥\n",
       "⎢0  cos(β_y)  -sin(β_y)⎥\n",
       "⎢                      ⎥\n",
       "⎣0  sin(β_y)  cos(β_y) ⎦"
      ]
     },
     "execution_count": 10,
     "metadata": {},
     "output_type": "execute_result"
    }
   ],
   "source": [
    "# Rotation about the x-axis by +ve beta_y\n",
    "R_ox = sy.Matrix(((1,       0,              0          ), \n",
    "                  (0,  sy.cos(beta_y),  -sy.sin(beta_y)),\n",
    "                  (0,  sy.sin(beta_y),   sy.cos(beta_y)),\n",
    "                 ))\n",
    "R_ox"
   ]
  },
  {
   "cell_type": "code",
   "execution_count": 11,
   "metadata": {
    "collapsed": false
   },
   "outputs": [
    {
     "data": {
      "text/latex": [
       "$$\\left[\\begin{matrix}\\cos{\\left (\\beta_{x} \\right )} & 0 & \\sin{\\left (\\beta_{x} \\right )}\\\\0 & 1 & 0\\\\- \\sin{\\left (\\beta_{x} \\right )} & 0 & \\cos{\\left (\\beta_{x} \\right )}\\end{matrix}\\right]$$"
      ],
      "text/plain": [
       "⎡cos(βₓ)   0  sin(βₓ)⎤\n",
       "⎢                    ⎥\n",
       "⎢   0      1     0   ⎥\n",
       "⎢                    ⎥\n",
       "⎣-sin(βₓ)  0  cos(βₓ)⎦"
      ]
     },
     "execution_count": 11,
     "metadata": {},
     "output_type": "execute_result"
    }
   ],
   "source": [
    "# Rotation about the y-axis by +ve beta_x\n",
    "R_oy = sy.Matrix(((sy.cos(beta_x),     0,   sy.sin(beta_x)), \n",
    "                  (0,                  1,       0         ),\n",
    "                  (-sy.sin(beta_x),    0,   sy.cos(beta_x)),\n",
    "                 ))\n",
    "R_oy"
   ]
  },
  {
   "cell_type": "markdown",
   "metadata": {},
   "source": [
    "## Study composition of rotation matrices"
   ]
  },
  {
   "cell_type": "markdown",
   "metadata": {},
   "source": [
    "#### Method 1: Sequence of rotations about the x- and y- world coordinate axes respectively"
   ]
  },
  {
   "cell_type": "code",
   "execution_count": 3,
   "metadata": {
    "collapsed": false
   },
   "outputs": [
    {
     "data": {
      "text/latex": [
       "$$\\left ( \\left[\\begin{matrix}1 & 0 & 0\\\\0 & \\cos{\\left (\\theta_{1} \\right )} & - \\sin{\\left (\\theta_{1} \\right )}\\\\0 & \\sin{\\left (\\theta_{1} \\right )} & \\cos{\\left (\\theta_{1} \\right )}\\end{matrix}\\right], \\quad \\left[\\begin{matrix}\\cos{\\left (\\theta_{2} \\right )} & 0 & \\sin{\\left (\\theta_{2} \\right )}\\\\0 & 1 & 0\\\\- \\sin{\\left (\\theta_{2} \\right )} & 0 & \\cos{\\left (\\theta_{2} \\right )}\\end{matrix}\\right]\\right )$$"
      ],
      "text/plain": [
       "⎛⎡1     0        0    ⎤, ⎡cos(θ₂)   0  sin(θ₂)⎤⎞\n",
       "⎜⎢                    ⎥  ⎢                    ⎥⎟\n",
       "⎜⎢0  cos(θ₁)  -sin(θ₁)⎥  ⎢   0      1     0   ⎥⎟\n",
       "⎜⎢                    ⎥  ⎢                    ⎥⎟\n",
       "⎝⎣0  sin(θ₁)  cos(θ₁) ⎦  ⎣-sin(θ₂)  0  cos(θ₂)⎦⎠"
      ]
     },
     "execution_count": 3,
     "metadata": {},
     "output_type": "execute_result"
    }
   ],
   "source": [
    "t1 = sy.symbols('theta_1', positive=True, real=True)\n",
    "t2 = sy.symbols('theta_2', positive=True, real=True)\n",
    "\n",
    "Rx = sy.Matrix(((1,      0     ,      0      ), \n",
    "                (0,  sy.cos(t1),  -sy.sin(t1)),\n",
    "                (0,  sy.sin(t1),   sy.cos(t1)),\n",
    "               ))\n",
    "\n",
    "Ry = sy.Matrix(((sy.cos(t2),  0, sy.sin(t2)), \n",
    "                (0,           1,     0     ),\n",
    "                (-sy.sin(t2), 0, sy.cos(t2)),\n",
    "               ))\n",
    "\n",
    "\n",
    "Rx, Ry"
   ]
  },
  {
   "cell_type": "code",
   "execution_count": 4,
   "metadata": {
    "collapsed": false
   },
   "outputs": [
    {
     "data": {
      "text/latex": [
       "$$\\left[\\begin{matrix}\\cos{\\left (\\theta_{2} \\right )} & \\sin{\\left (\\theta_{1} \\right )} \\sin{\\left (\\theta_{2} \\right )} & \\sin{\\left (\\theta_{2} \\right )} \\cos{\\left (\\theta_{1} \\right )}\\\\0 & \\cos{\\left (\\theta_{1} \\right )} & - \\sin{\\left (\\theta_{1} \\right )}\\\\- \\sin{\\left (\\theta_{2} \\right )} & \\sin{\\left (\\theta_{1} \\right )} \\cos{\\left (\\theta_{2} \\right )} & \\cos{\\left (\\theta_{1} \\right )} \\cos{\\left (\\theta_{2} \\right )}\\end{matrix}\\right]$$"
      ],
      "text/plain": [
       "⎡cos(θ₂)   sin(θ₁)⋅sin(θ₂)  sin(θ₂)⋅cos(θ₁)⎤\n",
       "⎢                                          ⎥\n",
       "⎢   0          cos(θ₁)         -sin(θ₁)    ⎥\n",
       "⎢                                          ⎥\n",
       "⎣-sin(θ₂)  sin(θ₁)⋅cos(θ₂)  cos(θ₁)⋅cos(θ₂)⎦"
      ]
     },
     "execution_count": 4,
     "metadata": {},
     "output_type": "execute_result"
    }
   ],
   "source": [
    "R1 = Ry*Rx\n",
    "R1"
   ]
  },
  {
   "cell_type": "code",
   "execution_count": null,
   "metadata": {
    "collapsed": true
   },
   "outputs": [],
   "source": []
  },
  {
   "cell_type": "markdown",
   "metadata": {
    "collapsed": true
   },
   "source": [
    "#### Method 2: Sequence of rotations about the x- and y- local coordinate axes respectively"
   ]
  },
  {
   "cell_type": "code",
   "execution_count": 5,
   "metadata": {
    "collapsed": false
   },
   "outputs": [],
   "source": [
    "p1 = sy.symbols('phi_1', positive=True, real=True)\n",
    "p2 = sy.symbols('phi_2', positive=True, real=True)\n",
    "ax, ay, az = sy.symbols('a_x, a_y, a_z', positive=True, real=True)"
   ]
  },
  {
   "cell_type": "markdown",
   "metadata": {},
   "source": [
    "The first rotation (tilt about x-axis) is exactly similar to the previous case."
   ]
  },
  {
   "cell_type": "code",
   "execution_count": 6,
   "metadata": {
    "collapsed": false
   },
   "outputs": [
    {
     "data": {
      "text/latex": [
       "$$\\left[\\begin{matrix}1 & 0 & 0\\\\0 & \\cos{\\left (\\phi_{1} \\right )} & - \\sin{\\left (\\phi_{1} \\right )}\\\\0 & \\sin{\\left (\\phi_{1} \\right )} & \\cos{\\left (\\phi_{1} \\right )}\\end{matrix}\\right]$$"
      ],
      "text/plain": [
       "⎡1     0        0    ⎤\n",
       "⎢                    ⎥\n",
       "⎢0  cos(φ₁)  -sin(φ₁)⎥\n",
       "⎢                    ⎥\n",
       "⎣0  sin(φ₁)  cos(φ₁) ⎦"
      ]
     },
     "execution_count": 6,
     "metadata": {},
     "output_type": "execute_result"
    }
   ],
   "source": [
    "RxLoc = sy.Matrix(((1,      0     ,      0      ), \n",
    "                   (0,  sy.cos(p1),  -sy.sin(p1)),\n",
    "                   (0,  sy.sin(p1),   sy.cos(p1)),\n",
    "                  ))\n",
    "RxLoc"
   ]
  },
  {
   "cell_type": "markdown",
   "metadata": {
    "collapsed": true
   },
   "source": [
    "The rotation of a vector $\\vec{b}$ about the axis $\\vec{a} = [a_x, a_y, a_z]$ using the axis-angle formula (Rodrigues rotation formula) is given by $R(\\vec{a},\\phi_2) \\vec{b}$, where $R(\\vec{a},\\phi_2)$ is the following matrix:"
   ]
  },
  {
   "cell_type": "code",
   "execution_count": 7,
   "metadata": {
    "collapsed": false
   },
   "outputs": [
    {
     "data": {
      "text/latex": [
       "$$\\left[\\begin{matrix}a_{x}^{2} \\left(- \\cos{\\left (\\phi_{2} \\right )} + 1\\right) + \\cos{\\left (\\phi_{2} \\right )} & a_{x} a_{y} \\left(- \\cos{\\left (\\phi_{2} \\right )} + 1\\right) - a_{z} \\sin{\\left (\\phi_{2} \\right )} & a_{x} a_{z} \\left(- \\cos{\\left (\\phi_{2} \\right )} + 1\\right) + a_{y} \\sin{\\left (\\phi_{2} \\right )}\\\\a_{x} a_{y} \\left(- \\cos{\\left (\\phi_{2} \\right )} + 1\\right) + a_{z} \\sin{\\left (\\phi_{2} \\right )} & a_{y}^{2} \\left(- \\cos{\\left (\\phi_{2} \\right )} + 1\\right) + \\cos{\\left (\\phi_{2} \\right )} & - a_{x} \\sin{\\left (\\phi_{2} \\right )} + a_{y} a_{z} \\left(- \\cos{\\left (\\phi_{2} \\right )} + 1\\right)\\\\a_{x} a_{z} \\left(- \\cos{\\left (\\phi_{2} \\right )} + 1\\right) - a_{y} \\sin{\\left (\\phi_{2} \\right )} & a_{x} \\sin{\\left (\\phi_{2} \\right )} + a_{y} a_{z} \\left(- \\cos{\\left (\\phi_{2} \\right )} + 1\\right) & a_{z}^{2} \\left(- \\cos{\\left (\\phi_{2} \\right )} + 1\\right) + \\cos{\\left (\\phi_{2} \\right )}\\end{matrix}\\right]$$"
      ],
      "text/plain": [
       "⎡     2                                                                       \n",
       "⎢   aₓ ⋅(-cos(φ₂) + 1) + cos(φ₂)      aₓ⋅a_y⋅(-cos(φ₂) + 1) - a_z⋅sin(φ₂)  aₓ⋅\n",
       "⎢                                                                             \n",
       "⎢                                           2                                 \n",
       "⎢aₓ⋅a_y⋅(-cos(φ₂) + 1) + a_z⋅sin(φ₂)     a_y ⋅(-cos(φ₂) + 1) + cos(φ₂)     -aₓ\n",
       "⎢                                                                             \n",
       "⎢                                                                             \n",
       "⎣aₓ⋅a_z⋅(-cos(φ₂) + 1) - a_y⋅sin(φ₂)  aₓ⋅sin(φ₂) + a_y⋅a_z⋅(-cos(φ₂) + 1)     \n",
       "\n",
       "                                 ⎤\n",
       "a_z⋅(-cos(φ₂) + 1) + a_y⋅sin(φ₂) ⎥\n",
       "                                 ⎥\n",
       "                                 ⎥\n",
       "⋅sin(φ₂) + a_y⋅a_z⋅(-cos(φ₂) + 1)⎥\n",
       "                                 ⎥\n",
       "   2                             ⎥\n",
       "a_z ⋅(-cos(φ₂) + 1) + cos(φ₂)    ⎦"
      ]
     },
     "execution_count": 7,
     "metadata": {},
     "output_type": "execute_result"
    }
   ],
   "source": [
    "Ra = (sy.cos(p2))*sy.eye(3) + \\\n",
    "(1 - sy.cos(p2))*sy.Matrix(((ax**2,  ax*ay,  ax*az), \n",
    "                            (ax*ay,  ay**2,  ay*az), \n",
    "                            (az*ax,  az*ay,  az**2))) + \\\n",
    "sy.sin(p2)*sy.Matrix(((0, -az, ay), (az, 0, -ax), (-ay, ax, 0)))\n",
    "\n",
    "Ra"
   ]
  },
  {
   "cell_type": "markdown",
   "metadata": {},
   "source": [
    "such that if the axis is the world coordinate frame's y-axis, then we get `Ry` of method 1:"
   ]
  },
  {
   "cell_type": "code",
   "execution_count": 8,
   "metadata": {
    "collapsed": false
   },
   "outputs": [
    {
     "data": {
      "text/latex": [
       "$$\\left[\\begin{matrix}\\cos{\\left (\\phi_{2} \\right )} & 0 & \\sin{\\left (\\phi_{2} \\right )}\\\\0 & 1 & 0\\\\- \\sin{\\left (\\phi_{2} \\right )} & 0 & \\cos{\\left (\\phi_{2} \\right )}\\end{matrix}\\right]$$"
      ],
      "text/plain": [
       "⎡cos(φ₂)   0  sin(φ₂)⎤\n",
       "⎢                    ⎥\n",
       "⎢   0      1     0   ⎥\n",
       "⎢                    ⎥\n",
       "⎣-sin(φ₂)  0  cos(φ₂)⎦"
      ]
     },
     "execution_count": 8,
     "metadata": {},
     "output_type": "execute_result"
    }
   ],
   "source": [
    "Ra.subs({ax:0, ay:1, az:0})"
   ]
  },
  {
   "cell_type": "markdown",
   "metadata": {},
   "source": [
    "In our formulation, the axis $\\vec{a}$ about which we want to rotate by an angle $\\phi_2$ is $\\vec{a} = [0, cos(\\phi_1), sin(\\phi_1)]^T$ "
   ]
  },
  {
   "cell_type": "code",
   "execution_count": 9,
   "metadata": {
    "collapsed": false
   },
   "outputs": [
    {
     "data": {
      "text/latex": [
       "$$\\left[\\begin{matrix}\\cos{\\left (\\phi_{2} \\right )} & - \\sin{\\left (\\phi_{1} \\right )} \\sin{\\left (\\phi_{2} \\right )} & \\sin{\\left (\\phi_{2} \\right )} \\cos{\\left (\\phi_{1} \\right )}\\\\\\sin{\\left (\\phi_{1} \\right )} \\sin{\\left (\\phi_{2} \\right )} & \\left(- \\cos{\\left (\\phi_{2} \\right )} + 1\\right) \\cos^{2}{\\left (\\phi_{1} \\right )} + \\cos{\\left (\\phi_{2} \\right )} & \\left(- \\cos{\\left (\\phi_{2} \\right )} + 1\\right) \\sin{\\left (\\phi_{1} \\right )} \\cos{\\left (\\phi_{1} \\right )}\\\\- \\sin{\\left (\\phi_{2} \\right )} \\cos{\\left (\\phi_{1} \\right )} & \\left(- \\cos{\\left (\\phi_{2} \\right )} + 1\\right) \\sin{\\left (\\phi_{1} \\right )} \\cos{\\left (\\phi_{1} \\right )} & \\left(- \\cos{\\left (\\phi_{2} \\right )} + 1\\right) \\sin^{2}{\\left (\\phi_{1} \\right )} + \\cos{\\left (\\phi_{2} \\right )}\\end{matrix}\\right]$$"
      ],
      "text/plain": [
       "⎡    cos(φ₂)               -sin(φ₁)⋅sin(φ₂)                    sin(φ₂)⋅cos(φ₁)\n",
       "⎢                                                                             \n",
       "⎢                                    2                                        \n",
       "⎢sin(φ₁)⋅sin(φ₂)   (-cos(φ₂) + 1)⋅cos (φ₁) + cos(φ₂)   (-cos(φ₂) + 1)⋅sin(φ₁)⋅\n",
       "⎢                                                                             \n",
       "⎢                                                                       2     \n",
       "⎣-sin(φ₂)⋅cos(φ₁)   (-cos(φ₂) + 1)⋅sin(φ₁)⋅cos(φ₁)    (-cos(φ₂) + 1)⋅sin (φ₁) \n",
       "\n",
       "         ⎤\n",
       "         ⎥\n",
       "         ⎥\n",
       "cos(φ₁)  ⎥\n",
       "         ⎥\n",
       "         ⎥\n",
       "+ cos(φ₂)⎦"
      ]
     },
     "execution_count": 9,
     "metadata": {},
     "output_type": "execute_result"
    }
   ],
   "source": [
    "RyLoc = Ra.subs({ax:0, ay:sy.cos(p1), az:sy.sin(p1)})\n",
    "RyLoc"
   ]
  },
  {
   "cell_type": "markdown",
   "metadata": {},
   "source": [
    "General composed rotation matrice"
   ]
  },
  {
   "cell_type": "code",
   "execution_count": 10,
   "metadata": {
    "collapsed": false
   },
   "outputs": [
    {
     "data": {
      "text/latex": [
       "$$\\left[\\begin{matrix}a_{x}^{2} \\left(- \\cos{\\left (\\phi_{2} \\right )} + 1\\right) + \\cos{\\left (\\phi_{2} \\right )} & - \\left(a_{x} a_{y} \\left(\\cos{\\left (\\phi_{2} \\right )} - 1\\right) + a_{z} \\sin{\\left (\\phi_{2} \\right )}\\right) \\cos{\\left (\\phi_{1} \\right )} - \\left(a_{x} a_{z} \\left(\\cos{\\left (\\phi_{2} \\right )} - 1\\right) - a_{y} \\sin{\\left (\\phi_{2} \\right )}\\right) \\sin{\\left (\\phi_{1} \\right )} & \\left(a_{x} a_{y} \\left(\\cos{\\left (\\phi_{2} \\right )} - 1\\right) + a_{z} \\sin{\\left (\\phi_{2} \\right )}\\right) \\sin{\\left (\\phi_{1} \\right )} - \\left(a_{x} a_{z} \\left(\\cos{\\left (\\phi_{2} \\right )} - 1\\right) - a_{y} \\sin{\\left (\\phi_{2} \\right )}\\right) \\cos{\\left (\\phi_{1} \\right )}\\\\- a_{x} a_{y} \\left(\\cos{\\left (\\phi_{2} \\right )} - 1\\right) + a_{z} \\sin{\\left (\\phi_{2} \\right )} & - \\left(a_{x} \\sin{\\left (\\phi_{2} \\right )} + a_{y} a_{z} \\left(\\cos{\\left (\\phi_{2} \\right )} - 1\\right)\\right) \\sin{\\left (\\phi_{1} \\right )} - \\left(a_{y}^{2} \\left(\\cos{\\left (\\phi_{2} \\right )} - 1\\right) - \\cos{\\left (\\phi_{2} \\right )}\\right) \\cos{\\left (\\phi_{1} \\right )} & - \\left(a_{x} \\sin{\\left (\\phi_{2} \\right )} + a_{y} a_{z} \\left(\\cos{\\left (\\phi_{2} \\right )} - 1\\right)\\right) \\cos{\\left (\\phi_{1} \\right )} + \\left(a_{y}^{2} \\left(\\cos{\\left (\\phi_{2} \\right )} - 1\\right) - \\cos{\\left (\\phi_{2} \\right )}\\right) \\sin{\\left (\\phi_{1} \\right )}\\\\- a_{x} a_{z} \\left(\\cos{\\left (\\phi_{2} \\right )} - 1\\right) - a_{y} \\sin{\\left (\\phi_{2} \\right )} & \\left(a_{x} \\sin{\\left (\\phi_{2} \\right )} - a_{y} a_{z} \\left(\\cos{\\left (\\phi_{2} \\right )} - 1\\right)\\right) \\cos{\\left (\\phi_{1} \\right )} - \\left(a_{z}^{2} \\left(\\cos{\\left (\\phi_{2} \\right )} - 1\\right) - \\cos{\\left (\\phi_{2} \\right )}\\right) \\sin{\\left (\\phi_{1} \\right )} & - \\left(a_{x} \\sin{\\left (\\phi_{2} \\right )} - a_{y} a_{z} \\left(\\cos{\\left (\\phi_{2} \\right )} - 1\\right)\\right) \\sin{\\left (\\phi_{1} \\right )} - \\left(a_{z}^{2} \\left(\\cos{\\left (\\phi_{2} \\right )} - 1\\right) - \\cos{\\left (\\phi_{2} \\right )}\\right) \\cos{\\left (\\phi_{1} \\right )}\\end{matrix}\\right]$$"
      ],
      "text/plain": [
       "⎡     2                                                                       \n",
       "⎢   aₓ ⋅(-cos(φ₂) + 1) + cos(φ₂)      -(aₓ⋅a_y⋅(cos(φ₂) - 1) + a_z⋅sin(φ₂))⋅co\n",
       "⎢                                                                             \n",
       "⎢                                                                             \n",
       "⎢-aₓ⋅a_y⋅(cos(φ₂) - 1) + a_z⋅sin(φ₂)     -(aₓ⋅sin(φ₂) + a_y⋅a_z⋅(cos(φ₂) - 1))\n",
       "⎢                                                                             \n",
       "⎢                                                                             \n",
       "⎣-aₓ⋅a_z⋅(cos(φ₂) - 1) - a_y⋅sin(φ₂)     (aₓ⋅sin(φ₂) - a_y⋅a_z⋅(cos(φ₂) - 1))⋅\n",
       "\n",
       "                                                                              \n",
       "s(φ₁) - (aₓ⋅a_z⋅(cos(φ₂) - 1) - a_y⋅sin(φ₂))⋅sin(φ₁)  (aₓ⋅a_y⋅(cos(φ₂) - 1) + \n",
       "                                                                              \n",
       "           ⎛   2                        ⎞                                     \n",
       "⋅sin(φ₁) - ⎝a_y ⋅(cos(φ₂) - 1) - cos(φ₂)⎠⋅cos(φ₁)       -(aₓ⋅sin(φ₂) + a_y⋅a_z\n",
       "                                                                              \n",
       "          ⎛   2                        ⎞                                      \n",
       "cos(φ₁) - ⎝a_z ⋅(cos(φ₂) - 1) - cos(φ₂)⎠⋅sin(φ₁)        -(aₓ⋅sin(φ₂) - a_y⋅a_z\n",
       "\n",
       "                                                                   ⎤\n",
       "a_z⋅sin(φ₂))⋅sin(φ₁) - (aₓ⋅a_z⋅(cos(φ₂) - 1) - a_y⋅sin(φ₂))⋅cos(φ₁)⎥\n",
       "                                                                   ⎥\n",
       "                          ⎛   2                        ⎞           ⎥\n",
       "⋅(cos(φ₂) - 1))⋅cos(φ₁) + ⎝a_y ⋅(cos(φ₂) - 1) - cos(φ₂)⎠⋅sin(φ₁)   ⎥\n",
       "                                                                   ⎥\n",
       "                          ⎛   2                        ⎞           ⎥\n",
       "⋅(cos(φ₂) - 1))⋅sin(φ₁) - ⎝a_z ⋅(cos(φ₂) - 1) - cos(φ₂)⎠⋅cos(φ₁)   ⎦"
      ]
     },
     "execution_count": 10,
     "metadata": {},
     "output_type": "execute_result"
    }
   ],
   "source": [
    "R2 = sy.simplify(Ra*RxLoc)  # general\n",
    "R2"
   ]
  },
  {
   "cell_type": "markdown",
   "metadata": {},
   "source": [
    "if `a` = local y-axis"
   ]
  },
  {
   "cell_type": "code",
   "execution_count": 11,
   "metadata": {
    "collapsed": false
   },
   "outputs": [
    {
     "data": {
      "text/latex": [
       "$$\\left[\\begin{matrix}\\cos{\\left (\\phi_{2} \\right )} & 0 & \\sin{\\left (\\phi_{2} \\right )}\\\\\\sin{\\left (\\phi_{1} \\right )} \\sin{\\left (\\phi_{2} \\right )} & \\cos{\\left (\\phi_{1} \\right )} & - \\sin{\\left (\\phi_{1} \\right )} \\cos{\\left (\\phi_{2} \\right )}\\\\- \\sin{\\left (\\phi_{2} \\right )} \\cos{\\left (\\phi_{1} \\right )} & \\sin{\\left (\\phi_{1} \\right )} & \\cos{\\left (\\phi_{1} \\right )} \\cos{\\left (\\phi_{2} \\right )}\\end{matrix}\\right]$$"
      ],
      "text/plain": [
       "⎡    cos(φ₂)          0         sin(φ₂)     ⎤\n",
       "⎢                                           ⎥\n",
       "⎢sin(φ₁)⋅sin(φ₂)   cos(φ₁)  -sin(φ₁)⋅cos(φ₂)⎥\n",
       "⎢                                           ⎥\n",
       "⎣-sin(φ₂)⋅cos(φ₁)  sin(φ₁)  cos(φ₁)⋅cos(φ₂) ⎦"
      ]
     },
     "execution_count": 11,
     "metadata": {},
     "output_type": "execute_result"
    }
   ],
   "source": [
    "sy.simplify(R2.subs({ax:0, ay:sy.cos(p1), az:sy.sin(p1)}))"
   ]
  },
  {
   "cell_type": "markdown",
   "metadata": {},
   "source": [
    "if `a` is the world coordinate frame's y-axis:"
   ]
  },
  {
   "cell_type": "code",
   "execution_count": 12,
   "metadata": {
    "collapsed": false
   },
   "outputs": [
    {
     "data": {
      "text/latex": [
       "$$\\left[\\begin{matrix}\\cos{\\left (\\phi_{2} \\right )} & \\sin{\\left (\\phi_{1} \\right )} \\sin{\\left (\\phi_{2} \\right )} & \\sin{\\left (\\phi_{2} \\right )} \\cos{\\left (\\phi_{1} \\right )}\\\\0 & \\cos{\\left (\\phi_{1} \\right )} & - \\sin{\\left (\\phi_{1} \\right )}\\\\- \\sin{\\left (\\phi_{2} \\right )} & \\sin{\\left (\\phi_{1} \\right )} \\cos{\\left (\\phi_{2} \\right )} & \\cos{\\left (\\phi_{1} \\right )} \\cos{\\left (\\phi_{2} \\right )}\\end{matrix}\\right]$$"
      ],
      "text/plain": [
       "⎡cos(φ₂)   sin(φ₁)⋅sin(φ₂)  sin(φ₂)⋅cos(φ₁)⎤\n",
       "⎢                                          ⎥\n",
       "⎢   0          cos(φ₁)         -sin(φ₁)    ⎥\n",
       "⎢                                          ⎥\n",
       "⎣-sin(φ₂)  sin(φ₁)⋅cos(φ₂)  cos(φ₁)⋅cos(φ₂)⎦"
      ]
     },
     "execution_count": 12,
     "metadata": {},
     "output_type": "execute_result"
    }
   ],
   "source": [
    "sy.simplify(R2.subs({ax:0, ay:1, az:0}))"
   ]
  },
  {
   "cell_type": "markdown",
   "metadata": {
    "collapsed": true
   },
   "source": [
    "The above matrix representes internal rotation of x-y1 by angles $\\phi_1$ and $\\phi_2$ respectively. The equivalent external rotations should be y-x by $\\phi_2$ and $\\phi_1$:"
   ]
  },
  {
   "cell_type": "code",
   "execution_count": 17,
   "metadata": {
    "collapsed": false
   },
   "outputs": [
    {
     "data": {
      "text/latex": [
       "$$\\left[\\begin{matrix}\\cos{\\left (\\phi_{2} \\right )} & 0 & \\sin{\\left (\\phi_{2} \\right )}\\\\\\sin{\\left (\\phi_{1} \\right )} \\sin{\\left (\\phi_{2} \\right )} & \\cos{\\left (\\phi_{1} \\right )} & - \\sin{\\left (\\phi_{1} \\right )} \\cos{\\left (\\phi_{2} \\right )}\\\\- \\sin{\\left (\\phi_{2} \\right )} \\cos{\\left (\\phi_{1} \\right )} & \\sin{\\left (\\phi_{1} \\right )} & \\cos{\\left (\\phi_{1} \\right )} \\cos{\\left (\\phi_{2} \\right )}\\end{matrix}\\right]$$"
      ],
      "text/plain": [
       "⎡    cos(φ₂)          0         sin(φ₂)     ⎤\n",
       "⎢                                           ⎥\n",
       "⎢sin(φ₁)⋅sin(φ₂)   cos(φ₁)  -sin(φ₁)⋅cos(φ₂)⎥\n",
       "⎢                                           ⎥\n",
       "⎣-sin(φ₂)⋅cos(φ₁)  sin(φ₁)  cos(φ₁)⋅cos(φ₂) ⎦"
      ]
     },
     "execution_count": 17,
     "metadata": {},
     "output_type": "execute_result"
    }
   ],
   "source": [
    "Rx = sy.Matrix(((1,      0     ,      0      ), \n",
    "                (0,  sy.cos(p1),  -sy.sin(p1)),\n",
    "                (0,  sy.sin(p1),   sy.cos(p1)),\n",
    "               ))\n",
    "\n",
    "Ry = sy.Matrix(((sy.cos(p2),  0, sy.sin(p2)), \n",
    "                (0,           1,     0     ),\n",
    "                (-sy.sin(p2), 0, sy.cos(p2)),\n",
    "               ))\n",
    "\n",
    "Rx*Ry"
   ]
  },
  {
   "cell_type": "markdown",
   "metadata": {},
   "source": [
    "Indeed they are!!!  (compare to sy.simplify(R2.subs({ax:0, ay:sy.cos(p1), az:sy.sin(p1)})))"
   ]
  },
  {
   "cell_type": "code",
   "execution_count": 16,
   "metadata": {
    "collapsed": false
   },
   "outputs": [
    {
     "data": {
      "text/latex": [
       "$$\\phi_{2}$$"
      ],
      "text/plain": [
       "φ₂"
      ]
     },
     "execution_count": 16,
     "metadata": {},
     "output_type": "execute_result"
    }
   ],
   "source": []
  },
  {
   "cell_type": "markdown",
   "metadata": {},
   "source": [
    "## Case: Lens tilt about x-axis; OA rotates from +z towards +y by $\\alpha$"
   ]
  },
  {
   "cell_type": "code",
   "execution_count": 12,
   "metadata": {
    "collapsed": false
   },
   "outputs": [],
   "source": [
    "alpha = sy.symbols('alpha', positive=True, real=True)\n",
    "beta = sy.symbols('beta', positive=True, real=True)\n",
    "x, y, z = sy.symbols('x, y, z', positive=True, real=True)\n",
    "d = sy.symbols('d', positive=True, real=True)\n",
    "zdasho = sy.symbols(\"z'_o\", positive=True, real=True)"
   ]
  },
  {
   "cell_type": "code",
   "execution_count": 13,
   "metadata": {
    "collapsed": false
   },
   "outputs": [
    {
     "data": {
      "text/latex": [
       "$$\\left[\\begin{matrix}0\\\\0\\\\1\\end{matrix}\\right]$$"
      ],
      "text/plain": [
       "⎡0⎤\n",
       "⎢ ⎥\n",
       "⎢0⎥\n",
       "⎢ ⎥\n",
       "⎣1⎦"
      ]
     },
     "execution_count": 13,
     "metadata": {},
     "output_type": "execute_result"
    }
   ],
   "source": [
    "# image plane normal\n",
    "n_i = sy.Matrix(((0), (0), (1)))\n",
    "n_i"
   ]
  },
  {
   "cell_type": "code",
   "execution_count": 14,
   "metadata": {
    "collapsed": false
   },
   "outputs": [
    {
     "data": {
      "text/latex": [
       "$$\\left[\\begin{matrix}x\\\\y\\\\z\\end{matrix}\\right]$$"
      ],
      "text/plain": [
       "⎡x⎤\n",
       "⎢ ⎥\n",
       "⎢y⎥\n",
       "⎢ ⎥\n",
       "⎣z⎦"
      ]
     },
     "execution_count": 14,
     "metadata": {},
     "output_type": "execute_result"
    }
   ],
   "source": [
    "# input world point\n",
    "X = sy.Matrix(((x), (y), (z)))\n",
    "X"
   ]
  },
  {
   "cell_type": "code",
   "execution_count": 15,
   "metadata": {
    "collapsed": false
   },
   "outputs": [
    {
     "data": {
      "text/latex": [
       "$$\\left[\\begin{matrix}1 & 0 & 0\\\\0 & \\cos{\\left (\\beta \\right )} & \\sin{\\left (\\beta \\right )}\\\\0 & - \\sin{\\left (\\beta \\right )} & \\cos{\\left (\\beta \\right )}\\end{matrix}\\right]$$"
      ],
      "text/plain": [
       "⎡1     0       0   ⎤\n",
       "⎢                  ⎥\n",
       "⎢0  cos(β)   sin(β)⎥\n",
       "⎢                  ⎥\n",
       "⎣0  -sin(β)  cos(β)⎦"
      ]
     },
     "execution_count": 15,
     "metadata": {},
     "output_type": "execute_result"
    }
   ],
   "source": [
    "# rotation of the lens plane about x-axis from\n",
    "# +z towards +y by beta\n",
    "R_l = R_ox.subs({beta_y:-beta})\n",
    "R_l"
   ]
  },
  {
   "cell_type": "code",
   "execution_count": 16,
   "metadata": {
    "collapsed": false
   },
   "outputs": [
    {
     "data": {
      "text/latex": [
       "$$\\left[\\begin{matrix}1 & 0 & 0\\\\0 & \\cos{\\left (\\alpha \\right )} & - \\sin{\\left (\\alpha \\right )}\\\\0 & \\sin{\\left (\\alpha \\right )} & \\cos{\\left (\\alpha \\right )}\\end{matrix}\\right]$$"
      ],
      "text/plain": [
       "⎡1    0        0   ⎤\n",
       "⎢                  ⎥\n",
       "⎢0  cos(α)  -sin(α)⎥\n",
       "⎢                  ⎥\n",
       "⎣0  sin(α)  cos(α) ⎦"
      ]
     },
     "execution_count": 16,
     "metadata": {},
     "output_type": "execute_result"
    }
   ],
   "source": [
    "# rotation of the image plane about x-axis from\n",
    "# +y towards +z by alpha\n",
    "\n",
    "R_i = R_ox.subs({beta_y:alpha})\n",
    "R_i"
   ]
  },
  {
   "cell_type": "code",
   "execution_count": null,
   "metadata": {
    "collapsed": false
   },
   "outputs": [],
   "source": []
  },
  {
   "cell_type": "code",
   "execution_count": 17,
   "metadata": {
    "collapsed": false
   },
   "outputs": [
    {
     "data": {
      "text/latex": [
       "$$\\left[\\begin{matrix}x\\\\y \\left(m_{p} \\sin^{2}{\\left (\\beta \\right )} + \\cos^{2}{\\left (\\beta \\right )}\\right) + \\frac{z}{2} \\left(m_{p} - 1\\right) \\sin{\\left (2 \\beta \\right )}\\\\\\frac{y}{2} \\left(m_{p} - 1\\right) \\sin{\\left (2 \\beta \\right )} + z \\left(m_{p} \\cos^{2}{\\left (\\beta \\right )} + \\sin^{2}{\\left (\\beta \\right )}\\right)\\end{matrix}\\right]$$"
      ],
      "text/plain": [
       "⎡                       x                        ⎤\n",
       "⎢                                                ⎥\n",
       "⎢  ⎛       2         2   ⎞   z⋅(m_p - 1)⋅sin(2⋅β)⎥\n",
       "⎢y⋅⎝m_p⋅sin (β) + cos (β)⎠ + ────────────────────⎥\n",
       "⎢                                     2          ⎥\n",
       "⎢                                                ⎥\n",
       "⎢y⋅(m_p - 1)⋅sin(2⋅β)     ⎛       2         2   ⎞⎥\n",
       "⎢──────────────────── + z⋅⎝m_p⋅cos (β) + sin (β)⎠⎥\n",
       "⎣         2                                      ⎦"
      ]
     },
     "execution_count": 17,
     "metadata": {},
     "output_type": "execute_result"
    }
   ],
   "source": [
    "K = sy.simplify(R_l*Mp*R_l.T*X)\n",
    "K"
   ]
  },
  {
   "cell_type": "code",
   "execution_count": 18,
   "metadata": {
    "collapsed": false
   },
   "outputs": [
    {
     "data": {
      "text/latex": [
       "$$\\left[\\begin{matrix}x\\\\y \\left(m_{p} \\sin^{2}{\\left (\\beta \\right )} + \\cos^{2}{\\left (\\beta \\right )}\\right) + z \\left(m_{p} - 1\\right) \\sin{\\left (\\beta \\right )} \\cos{\\left (\\beta \\right )}\\\\y \\left(m_{p} - 1\\right) \\sin{\\left (\\beta \\right )} \\cos{\\left (\\beta \\right )} + z \\left(m_{p} \\cos^{2}{\\left (\\beta \\right )} + \\sin^{2}{\\left (\\beta \\right )}\\right)\\end{matrix}\\right]$$"
      ],
      "text/plain": [
       "⎡                          x                          ⎤\n",
       "⎢                                                     ⎥\n",
       "⎢  ⎛       2         2   ⎞                            ⎥\n",
       "⎢y⋅⎝m_p⋅sin (β) + cos (β)⎠ + z⋅(m_p - 1)⋅sin(β)⋅cos(β)⎥\n",
       "⎢                                                     ⎥\n",
       "⎢                              ⎛       2         2   ⎞⎥\n",
       "⎣y⋅(m_p - 1)⋅sin(β)⋅cos(β) + z⋅⎝m_p⋅cos (β) + sin (β)⎠⎦"
      ]
     },
     "execution_count": 18,
     "metadata": {},
     "output_type": "execute_result"
    }
   ],
   "source": [
    "sy.expand_trig(K)"
   ]
  },
  {
   "cell_type": "code",
   "execution_count": 19,
   "metadata": {
    "collapsed": false
   },
   "outputs": [
    {
     "data": {
      "text/latex": [
       "$$- d \\cos{\\left (\\beta \\right )} + z'_{o}$$"
      ],
      "text/plain": [
       "-d⋅cos(β) + z'ₒ"
      ]
     },
     "execution_count": 19,
     "metadata": {},
     "output_type": "execute_result"
    }
   ],
   "source": [
    "# the [0] in (n_i.T*d*r_l) is to get the single elemnt of the matrix of 1-element\n",
    "# Sympy is not automatically recognizing that it is a scalar\n",
    "r_l = R_l[:,2]\n",
    "numer = n_i[2]*zdasho - (n_i.T*d*r_l)[0]\n",
    "numer"
   ]
  },
  {
   "cell_type": "code",
   "execution_count": 20,
   "metadata": {
    "collapsed": false
   },
   "outputs": [
    {
     "data": {
      "text/latex": [
       "$$\\left[\\begin{matrix}\\frac{y}{2} \\left(m_{p} - 1\\right) \\sin{\\left (2 \\beta \\right )} + z \\left(m_{p} \\cos^{2}{\\left (\\beta \\right )} + \\sin^{2}{\\left (\\beta \\right )}\\right)\\end{matrix}\\right]$$"
      ],
      "text/plain": [
       "⎡y⋅(m_p - 1)⋅sin(2⋅β)     ⎛       2         2   ⎞⎤\n",
       "⎢──────────────────── + z⋅⎝m_p⋅cos (β) + sin (β)⎠⎥\n",
       "⎣         2                                      ⎦"
      ]
     },
     "execution_count": 20,
     "metadata": {},
     "output_type": "execute_result"
    }
   ],
   "source": [
    "denom = sy.simplify(n_i.T*R_l*Mp*R_l.T*X)\n",
    "denom"
   ]
  },
  {
   "cell_type": "code",
   "execution_count": 21,
   "metadata": {
    "collapsed": false
   },
   "outputs": [
    {
     "data": {
      "text/latex": [
       "$$\\left[\\begin{matrix}\\frac{x \\left(- d \\cos{\\left (\\beta \\right )} + z'_{o}\\right)}{\\frac{y}{2} \\left(m_{p} - 1\\right) \\sin{\\left (2 \\beta \\right )} + z \\left(m_{p} \\cos^{2}{\\left (\\beta \\right )} + \\sin^{2}{\\left (\\beta \\right )}\\right)}\\\\d \\sin{\\left (\\beta \\right )} + \\frac{\\left(- d \\cos{\\left (\\beta \\right )} + z'_{o}\\right) \\left(y \\left(m_{p} \\sin^{2}{\\left (\\beta \\right )} + \\cos^{2}{\\left (\\beta \\right )}\\right) + \\frac{z}{2} \\left(m_{p} - 1\\right) \\sin{\\left (2 \\beta \\right )}\\right)}{\\frac{y}{2} \\left(m_{p} - 1\\right) \\sin{\\left (2 \\beta \\right )} + z \\left(m_{p} \\cos^{2}{\\left (\\beta \\right )} + \\sin^{2}{\\left (\\beta \\right )}\\right)}\\\\z'_{o}\\end{matrix}\\right]$$"
      ],
      "text/plain": [
       "⎡                             x⋅(-d⋅cos(β) + z'ₒ)                             \n",
       "⎢               ────────────────────────────────────────────────              \n",
       "⎢               y⋅(m_p - 1)⋅sin(2⋅β)     ⎛       2         2   ⎞              \n",
       "⎢               ──────────────────── + z⋅⎝m_p⋅cos (β) + sin (β)⎠              \n",
       "⎢                        2                                                    \n",
       "⎢                                                                             \n",
       "⎢                             ⎛  ⎛       2         2   ⎞   z⋅(m_p - 1)⋅sin(2⋅β\n",
       "⎢           (-d⋅cos(β) + z'ₒ)⋅⎜y⋅⎝m_p⋅sin (β) + cos (β)⎠ + ───────────────────\n",
       "⎢                             ⎝                                     2         \n",
       "⎢d⋅sin(β) + ──────────────────────────────────────────────────────────────────\n",
       "⎢                     y⋅(m_p - 1)⋅sin(2⋅β)     ⎛       2         2   ⎞        \n",
       "⎢                     ──────────────────── + z⋅⎝m_p⋅cos (β) + sin (β)⎠        \n",
       "⎢                              2                                              \n",
       "⎢                                                                             \n",
       "⎣                                      z'ₒ                                    \n",
       "\n",
       "  ⎤\n",
       "  ⎥\n",
       "  ⎥\n",
       "  ⎥\n",
       "  ⎥\n",
       "  ⎥\n",
       ")⎞⎥\n",
       "─⎟⎥\n",
       " ⎠⎥\n",
       "──⎥\n",
       "  ⎥\n",
       "  ⎥\n",
       "  ⎥\n",
       "  ⎥\n",
       "  ⎦"
      ]
     },
     "execution_count": 21,
     "metadata": {},
     "output_type": "execute_result"
    }
   ],
   "source": [
    "# the [0] in the denom is to get the single elemnt of the matrix of 1-element\n",
    "# Sympy is not automatically recognizing that it is a scalar\n",
    "\n",
    "Xdash = d*r_l + (numer/denom[0])*K\n",
    "Xdash"
   ]
  },
  {
   "cell_type": "markdown",
   "metadata": {},
   "source": [
    "##### Image coodrinate relationships using homogeneous coordinates"
   ]
  },
  {
   "cell_type": "markdown",
   "metadata": {},
   "source": [
    "method 1"
   ]
  },
  {
   "cell_type": "markdown",
   "metadata": {},
   "source": [
    "$$\n",
    "\\mathbf{x}' = R_i  {}^I\\mathbf{X}' + \\mathbf{t}_i\n",
    "$$"
   ]
  },
  {
   "cell_type": "markdown",
   "metadata": {},
   "source": [
    "$$\n",
    "{}^I\\mathbf{X}' = R_i^T  (\\mathbf{x}' - \\mathbf{t}_i)\n",
    "$$"
   ]
  },
  {
   "cell_type": "code",
   "execution_count": 28,
   "metadata": {
    "collapsed": false
   },
   "outputs": [
    {
     "data": {
      "text/latex": [
       "$$\\left[\\begin{matrix}0\\\\0\\\\z'_{o}\\end{matrix}\\right]$$"
      ],
      "text/plain": [
       "⎡ 0 ⎤\n",
       "⎢   ⎥\n",
       "⎢ 0 ⎥\n",
       "⎢   ⎥\n",
       "⎣z'ₒ⎦"
      ]
     },
     "execution_count": 28,
     "metadata": {},
     "output_type": "execute_result"
    }
   ],
   "source": [
    "t_i = sy.Matrix(((0), (0), (zdasho)))\n",
    "t_i"
   ]
  },
  {
   "cell_type": "code",
   "execution_count": 29,
   "metadata": {
    "collapsed": false
   },
   "outputs": [
    {
     "data": {
      "text/latex": [
       "$$\\left[\\begin{matrix}- \\frac{x \\left(- d \\cos{\\left (\\beta \\right )} + z'_{o}\\right)}{- \\frac{y}{2} \\left(m_{p} - 1\\right) \\sin{\\left (2 \\beta \\right )} + z \\left(m_{p} \\cos^{2}{\\left (\\beta \\right )} + \\sin^{2}{\\left (\\beta \\right )}\\right)}\\\\\\left(d \\sin{\\left (\\beta \\right )} + \\frac{\\left(- d \\cos{\\left (\\beta \\right )} + z'_{o}\\right) \\left(- y \\left(m_{p} \\sin^{2}{\\left (\\beta \\right )} + \\cos^{2}{\\left (\\beta \\right )}\\right) + \\frac{z}{2} \\left(m_{p} - 1\\right) \\sin{\\left (2 \\beta \\right )}\\right)}{- \\frac{y}{2} \\left(m_{p} - 1\\right) \\sin{\\left (2 \\beta \\right )} + z \\left(m_{p} \\cos^{2}{\\left (\\beta \\right )} + \\sin^{2}{\\left (\\beta \\right )}\\right)}\\right) \\cos{\\left (\\alpha \\right )}\\\\- \\left(d \\sin{\\left (\\beta \\right )} + \\frac{\\left(- d \\cos{\\left (\\beta \\right )} + z'_{o}\\right) \\left(- y \\left(m_{p} \\sin^{2}{\\left (\\beta \\right )} + \\cos^{2}{\\left (\\beta \\right )}\\right) + \\frac{z}{2} \\left(m_{p} - 1\\right) \\sin{\\left (2 \\beta \\right )}\\right)}{- \\frac{y}{2} \\left(m_{p} - 1\\right) \\sin{\\left (2 \\beta \\right )} + z \\left(m_{p} \\cos^{2}{\\left (\\beta \\right )} + \\sin^{2}{\\left (\\beta \\right )}\\right)}\\right) \\sin{\\left (\\alpha \\right )}\\end{matrix}\\right]$$"
      ],
      "text/plain": [
       "⎡                                  -x⋅(-d⋅cos(β) + z'ₒ)                       \n",
       "⎢                    ──────────────────────────────────────────────────       \n",
       "⎢                      y⋅(m_p - 1)⋅sin(2⋅β)     ⎛       2         2   ⎞       \n",
       "⎢                    - ──────────────────── + z⋅⎝m_p⋅cos (β) + sin (β)⎠       \n",
       "⎢                               2                                             \n",
       "⎢                                                                             \n",
       "⎢⎛                             ⎛    ⎛       2         2   ⎞   z⋅(m_p - 1)⋅sin(\n",
       "⎢⎜           (-d⋅cos(β) + z'ₒ)⋅⎜- y⋅⎝m_p⋅sin (β) + cos (β)⎠ + ────────────────\n",
       "⎢⎜                             ⎝                                       2      \n",
       "⎢⎜d⋅sin(β) + ─────────────────────────────────────────────────────────────────\n",
       "⎢⎜                       y⋅(m_p - 1)⋅sin(2⋅β)     ⎛       2         2   ⎞     \n",
       "⎢⎜                     - ──────────────────── + z⋅⎝m_p⋅cos (β) + sin (β)⎠     \n",
       "⎢⎝                                2                                           \n",
       "⎢                                                                             \n",
       "⎢ ⎛                             ⎛    ⎛       2         2   ⎞   z⋅(m_p - 1)⋅sin\n",
       "⎢ ⎜           (-d⋅cos(β) + z'ₒ)⋅⎜- y⋅⎝m_p⋅sin (β) + cos (β)⎠ + ───────────────\n",
       "⎢ ⎜                             ⎝                                       2     \n",
       "⎢-⎜d⋅sin(β) + ────────────────────────────────────────────────────────────────\n",
       "⎢ ⎜                       y⋅(m_p - 1)⋅sin(2⋅β)     ⎛       2         2   ⎞    \n",
       "⎢ ⎜                     - ──────────────────── + z⋅⎝m_p⋅cos (β) + sin (β)⎠    \n",
       "⎣ ⎝                                2                                          \n",
       "\n",
       "              ⎤\n",
       "              ⎥\n",
       "              ⎥\n",
       "              ⎥\n",
       "              ⎥\n",
       "              ⎥\n",
       "2⋅β)⎞⎞        ⎥\n",
       "────⎟⎟        ⎥\n",
       "    ⎠⎟        ⎥\n",
       "─────⎟⋅cos(α) ⎥\n",
       "     ⎟        ⎥\n",
       "     ⎟        ⎥\n",
       "     ⎠        ⎥\n",
       "              ⎥\n",
       "(2⋅β)⎞⎞       ⎥\n",
       "─────⎟⎟       ⎥\n",
       "     ⎠⎟       ⎥\n",
       "──────⎟⋅sin(α)⎥\n",
       "      ⎟       ⎥\n",
       "      ⎟       ⎥\n",
       "      ⎠       ⎦"
      ]
     },
     "execution_count": 29,
     "metadata": {},
     "output_type": "execute_result"
    }
   ],
   "source": [
    "IXdash = R_i.T*(Xdash - t_i)\n",
    "\n",
    "IXdash"
   ]
  },
  {
   "cell_type": "code",
   "execution_count": 30,
   "metadata": {
    "collapsed": false
   },
   "outputs": [
    {
     "data": {
      "text/latex": [
       "$$\\left[\\begin{matrix}- \\frac{x \\left(- d \\cos{\\left (\\beta \\right )} + z'_{o}\\right)}{- \\frac{y}{2} \\left(m_{p} - 1\\right) \\sin{\\left (2 \\beta \\right )} + z \\left(m_{p} \\cos^{2}{\\left (\\beta \\right )} + \\sin^{2}{\\left (\\beta \\right )}\\right)}\\\\d \\sin{\\left (\\beta \\right )} + \\frac{\\left(- d \\cos{\\left (\\beta \\right )} + z'_{o}\\right) \\left(- y \\left(m_{p} \\sin^{2}{\\left (\\beta \\right )} + \\cos^{2}{\\left (\\beta \\right )}\\right) + \\frac{z}{2} \\left(m_{p} - 1\\right) \\sin{\\left (2 \\beta \\right )}\\right)}{- \\frac{y}{2} \\left(m_{p} - 1\\right) \\sin{\\left (2 \\beta \\right )} + z \\left(m_{p} \\cos^{2}{\\left (\\beta \\right )} + \\sin^{2}{\\left (\\beta \\right )}\\right)}\\\\0\\end{matrix}\\right]$$"
      ],
      "text/plain": [
       "⎡                             -x⋅(-d⋅cos(β) + z'ₒ)                            \n",
       "⎢               ──────────────────────────────────────────────────            \n",
       "⎢                 y⋅(m_p - 1)⋅sin(2⋅β)     ⎛       2         2   ⎞            \n",
       "⎢               - ──────────────────── + z⋅⎝m_p⋅cos (β) + sin (β)⎠            \n",
       "⎢                          2                                                  \n",
       "⎢                                                                             \n",
       "⎢                             ⎛    ⎛       2         2   ⎞   z⋅(m_p - 1)⋅sin(2\n",
       "⎢           (-d⋅cos(β) + z'ₒ)⋅⎜- y⋅⎝m_p⋅sin (β) + cos (β)⎠ + ─────────────────\n",
       "⎢                             ⎝                                       2       \n",
       "⎢d⋅sin(β) + ──────────────────────────────────────────────────────────────────\n",
       "⎢                       y⋅(m_p - 1)⋅sin(2⋅β)     ⎛       2         2   ⎞      \n",
       "⎢                     - ──────────────────── + z⋅⎝m_p⋅cos (β) + sin (β)⎠      \n",
       "⎢                                2                                            \n",
       "⎢                                                                             \n",
       "⎣                                        0                                    \n",
       "\n",
       "    ⎤\n",
       "    ⎥\n",
       "    ⎥\n",
       "    ⎥\n",
       "    ⎥\n",
       "    ⎥\n",
       "⋅β)⎞⎥\n",
       "───⎟⎥\n",
       "   ⎠⎥\n",
       "────⎥\n",
       "    ⎥\n",
       "    ⎥\n",
       "    ⎥\n",
       "    ⎥\n",
       "    ⎦"
      ]
     },
     "execution_count": 30,
     "metadata": {},
     "output_type": "execute_result"
    }
   ],
   "source": [
    "IXdash.subs({alpha:0})"
   ]
  },
  {
   "cell_type": "code",
   "execution_count": null,
   "metadata": {
    "collapsed": true
   },
   "outputs": [],
   "source": []
  },
  {
   "cell_type": "markdown",
   "metadata": {
    "collapsed": true
   },
   "source": [
    "##### Sub-case: $m_p=1$"
   ]
  },
  {
   "cell_type": "code",
   "execution_count": 31,
   "metadata": {
    "collapsed": false
   },
   "outputs": [
    {
     "data": {
      "text/latex": [
       "$$\\left[\\begin{matrix}\\frac{x}{z} \\left(d \\cos{\\left (\\beta \\right )} - z'_{o}\\right)\\\\\\frac{1}{z} \\left(d z \\sin{\\left (\\beta \\right )} + y \\left(d \\cos{\\left (\\beta \\right )} - z'_{o}\\right)\\right)\\\\0\\end{matrix}\\right]$$"
      ],
      "text/plain": [
       "⎡      x⋅(d⋅cos(β) - z'ₒ)       ⎤\n",
       "⎢      ──────────────────       ⎥\n",
       "⎢              z                ⎥\n",
       "⎢                               ⎥\n",
       "⎢d⋅z⋅sin(β) + y⋅(d⋅cos(β) - z'ₒ)⎥\n",
       "⎢───────────────────────────────⎥\n",
       "⎢               z               ⎥\n",
       "⎢                               ⎥\n",
       "⎣               0               ⎦"
      ]
     },
     "execution_count": 31,
     "metadata": {},
     "output_type": "execute_result"
    }
   ],
   "source": [
    "Xdash_mp1 = sy.simplify(IXdash.subs({alpha:0, mp:1}))\n",
    "Xdash_mp1"
   ]
  },
  {
   "cell_type": "markdown",
   "metadata": {},
   "source": [
    "We can write the above as a matrix $A_{\\beta}$ multiplying the vector $\\mathbf{x} = <x, y, z>$ as:"
   ]
  },
  {
   "cell_type": "code",
   "execution_count": 32,
   "metadata": {
    "collapsed": false
   },
   "outputs": [
    {
     "data": {
      "text/latex": [
       "$$\\left[\\begin{matrix}\\frac{1}{z} \\left(d \\cos{\\left (\\beta \\right )} - z'_{o}\\right) & 0 & 0\\\\0 & \\frac{1}{z} \\left(d \\cos{\\left (\\beta \\right )} - z'_{o}\\right) & \\frac{d}{z} \\sin{\\left (\\beta \\right )}\\\\0 & 0 & \\frac{1}{z}\\end{matrix}\\right]$$"
      ],
      "text/plain": [
       "⎡d⋅cos(β) - z'ₒ                          ⎤\n",
       "⎢──────────────        0            0    ⎥\n",
       "⎢      z                                 ⎥\n",
       "⎢                                        ⎥\n",
       "⎢                d⋅cos(β) - z'ₒ  d⋅sin(β)⎥\n",
       "⎢      0         ──────────────  ────────⎥\n",
       "⎢                      z            z    ⎥\n",
       "⎢                                        ⎥\n",
       "⎢                                   1    ⎥\n",
       "⎢      0               0            ─    ⎥\n",
       "⎣                                   z    ⎦"
      ]
     },
     "execution_count": 32,
     "metadata": {},
     "output_type": "execute_result"
    }
   ],
   "source": [
    "A_beta = (1/z)*sy.Matrix([[-(zdasho - d*sy.cos(beta)),        0,                     0         ],\n",
    "                          [         0,            -(zdasho - d*sy.cos(beta)),   d*sy.sin(beta) ],\n",
    "                          [         0,                        0,                     1         ]])\n",
    "A_beta"
   ]
  },
  {
   "cell_type": "code",
   "execution_count": 33,
   "metadata": {
    "collapsed": false
   },
   "outputs": [
    {
     "data": {
      "text/plain": [
       "False"
      ]
     },
     "execution_count": 33,
     "metadata": {},
     "output_type": "execute_result"
    }
   ],
   "source": [
    "# check the x and y coordinates\n",
    "thomo = A_beta*X\n",
    "tunhomo = thomo/thomo[2]    # un-homogenize\n",
    "#tunhomo[:2] == Xdash_mp1[:2]   # interestingly tunhomo[:2] returns a list.\n",
    "tunhomo[:2, 0] == Xdash_mp1[:2, 0] # compare the x and y coordinates. "
   ]
  },
  {
   "cell_type": "code",
   "execution_count": null,
   "metadata": {
    "collapsed": false
   },
   "outputs": [],
   "source": []
  },
  {
   "cell_type": "code",
   "execution_count": 34,
   "metadata": {
    "collapsed": false
   },
   "outputs": [
    {
     "data": {
      "text/latex": [
       "$$\\left[\\begin{matrix}\\frac{z}{d \\cos{\\left (\\beta \\right )} - z'_{o}} & 0 & 0\\\\0 & \\frac{z}{d \\cos{\\left (\\beta \\right )} - z'_{o}} & - \\frac{d z \\sin{\\left (\\beta \\right )}}{d \\cos{\\left (\\beta \\right )} - z'_{o}}\\\\0 & 0 & z\\end{matrix}\\right]$$"
      ],
      "text/plain": [
       "⎡      z                                       ⎤\n",
       "⎢──────────────        0               0       ⎥\n",
       "⎢d⋅cos(β) - z'ₒ                                ⎥\n",
       "⎢                                              ⎥\n",
       "⎢                      z          -d⋅z⋅sin(β)  ⎥\n",
       "⎢      0         ──────────────  ──────────────⎥\n",
       "⎢                d⋅cos(β) - z'ₒ  d⋅cos(β) - z'ₒ⎥\n",
       "⎢                                              ⎥\n",
       "⎣      0               0               z       ⎦"
      ]
     },
     "execution_count": 34,
     "metadata": {},
     "output_type": "execute_result"
    }
   ],
   "source": [
    "A_beta.inv()"
   ]
  },
  {
   "cell_type": "code",
   "execution_count": 35,
   "metadata": {
    "collapsed": false
   },
   "outputs": [
    {
     "data": {
      "text/latex": [
       "$$\\left[\\begin{matrix}\\frac{1}{z} \\left(d - z'_{o}\\right) & 0 & 0\\\\0 & \\frac{1}{z} \\left(d - z'_{o}\\right) & 0\\\\0 & 0 & \\frac{1}{z}\\end{matrix}\\right]$$"
      ],
      "text/plain": [
       "⎡d - z'ₒ            ⎤\n",
       "⎢───────     0     0⎥\n",
       "⎢   z               ⎥\n",
       "⎢                   ⎥\n",
       "⎢         d - z'ₒ   ⎥\n",
       "⎢   0     ───────  0⎥\n",
       "⎢            z      ⎥\n",
       "⎢                   ⎥\n",
       "⎢                  1⎥\n",
       "⎢   0        0     ─⎥\n",
       "⎣                  z⎦"
      ]
     },
     "execution_count": 35,
     "metadata": {},
     "output_type": "execute_result"
    }
   ],
   "source": [
    "A_betaZero = A_beta.subs({beta:0})\n",
    "A_betaZero"
   ]
  },
  {
   "cell_type": "code",
   "execution_count": 36,
   "metadata": {
    "collapsed": false
   },
   "outputs": [
    {
     "data": {
      "text/latex": [
       "$$\\left[\\begin{matrix}\\frac{1}{d - z'_{o}} \\left(d \\cos{\\left (\\beta \\right )} - z'_{o}\\right) & 0 & 0\\\\0 & \\frac{1}{d - z'_{o}} \\left(d \\cos{\\left (\\beta \\right )} - z'_{o}\\right) & d \\sin{\\left (\\beta \\right )}\\\\0 & 0 & 1\\end{matrix}\\right]$$"
      ],
      "text/plain": [
       "⎡d⋅cos(β) - z'ₒ                          ⎤\n",
       "⎢──────────────        0            0    ⎥\n",
       "⎢   d - z'ₒ                              ⎥\n",
       "⎢                                        ⎥\n",
       "⎢                d⋅cos(β) - z'ₒ          ⎥\n",
       "⎢      0         ──────────────  d⋅sin(β)⎥\n",
       "⎢                   d - z'ₒ              ⎥\n",
       "⎢                                        ⎥\n",
       "⎣      0               0            1    ⎦"
      ]
     },
     "execution_count": 36,
     "metadata": {},
     "output_type": "execute_result"
    }
   ],
   "source": [
    "H_mp1alpha0 = A_beta*A_betaZero.inv()\n",
    "H_mp1alpha0"
   ]
  },
  {
   "cell_type": "code",
   "execution_count": 37,
   "metadata": {
    "collapsed": false
   },
   "outputs": [
    {
     "data": {
      "text/latex": [
       "$$\\left[\\begin{matrix}\\frac{x}{d - z'_{o}} \\left(d \\cos{\\left (\\beta \\right )} - z'_{o}\\right)\\\\d z \\sin{\\left (\\beta \\right )} + \\frac{y}{d - z'_{o}} \\left(d \\cos{\\left (\\beta \\right )} - z'_{o}\\right)\\\\z\\end{matrix}\\right]$$"
      ],
      "text/plain": [
       "⎡      x⋅(d⋅cos(β) - z'ₒ)       ⎤\n",
       "⎢      ──────────────────       ⎥\n",
       "⎢           d - z'ₒ             ⎥\n",
       "⎢                               ⎥\n",
       "⎢             y⋅(d⋅cos(β) - z'ₒ)⎥\n",
       "⎢d⋅z⋅sin(β) + ──────────────────⎥\n",
       "⎢                  d - z'ₒ      ⎥\n",
       "⎢                               ⎥\n",
       "⎣               z               ⎦"
      ]
     },
     "execution_count": 37,
     "metadata": {},
     "output_type": "execute_result"
    }
   ],
   "source": [
    "H_mp1alpha0*X"
   ]
  },
  {
   "cell_type": "code",
   "execution_count": null,
   "metadata": {
    "collapsed": true
   },
   "outputs": [],
   "source": []
  },
  {
   "cell_type": "markdown",
   "metadata": {},
   "source": [
    "method 2"
   ]
  },
  {
   "cell_type": "code",
   "execution_count": 38,
   "metadata": {
    "collapsed": true
   },
   "outputs": [],
   "source": [
    "# returns the vector in homoogeneous coordinates\n",
    "homo_vec = lambda vec : sy.Matrix(np.vstack((vec, [1])))\n",
    "# returns the matrix in homogeneous coordinates\n",
    "homo_mat = lambda A: sy.Matrix(np.hstack((np.vstack((A, [0, 0, 0])),  np.array([[0], [0], [0], [1]]))))"
   ]
  },
  {
   "cell_type": "code",
   "execution_count": null,
   "metadata": {
    "collapsed": false
   },
   "outputs": [],
   "source": []
  },
  {
   "cell_type": "code",
   "execution_count": 39,
   "metadata": {
    "collapsed": false
   },
   "outputs": [
    {
     "data": {
      "text/latex": [
       "$$\\left[\\begin{matrix}1 & 0 & 0 & 0\\\\0 & \\cos{\\left (\\alpha \\right )} & - \\sin{\\left (\\alpha \\right )} & 0\\\\0 & \\sin{\\left (\\alpha \\right )} & \\cos{\\left (\\alpha \\right )} & z'_{o}\\\\0 & 0 & 0 & 1\\end{matrix}\\right]$$"
      ],
      "text/plain": [
       "⎡1    0        0      0 ⎤\n",
       "⎢                       ⎥\n",
       "⎢0  cos(α)  -sin(α)   0 ⎥\n",
       "⎢                       ⎥\n",
       "⎢0  sin(α)  cos(α)   z'ₒ⎥\n",
       "⎢                       ⎥\n",
       "⎣0    0        0      1 ⎦"
      ]
     },
     "execution_count": 39,
     "metadata": {},
     "output_type": "execute_result"
    }
   ],
   "source": [
    "G_ic = homo_mat(R_i)\n",
    "\n",
    "G_ic[:3,3] = t_i\n",
    "\n",
    "G_ic"
   ]
  },
  {
   "cell_type": "code",
   "execution_count": 40,
   "metadata": {
    "collapsed": false
   },
   "outputs": [
    {
     "data": {
      "text/latex": [
       "$$\\left[\\begin{matrix}1 & 0 & 0 & 0\\\\0 & 1 & 0 & 0\\\\0 & 0 & 1 & - z'_{o}\\\\0 & 0 & 0 & 1\\end{matrix}\\right]$$"
      ],
      "text/plain": [
       "⎡1  0  0   0  ⎤\n",
       "⎢             ⎥\n",
       "⎢0  1  0   0  ⎥\n",
       "⎢             ⎥\n",
       "⎢0  0  1  -z'ₒ⎥\n",
       "⎢             ⎥\n",
       "⎣0  0  0   1  ⎦"
      ]
     },
     "execution_count": 40,
     "metadata": {},
     "output_type": "execute_result"
    }
   ],
   "source": [
    "# will also substitute alpha = 0\n",
    "\n",
    "G_ci = G_ic.inv()\n",
    "G_ci = sy.simplify(G_ci).subs({alpha:0})\n",
    "G_ci"
   ]
  },
  {
   "cell_type": "code",
   "execution_count": 41,
   "metadata": {
    "collapsed": false
   },
   "outputs": [
    {
     "data": {
      "text/latex": [
       "$$\\left[\\begin{matrix}0\\\\\\sin{\\left (\\beta \\right )}\\\\\\cos{\\left (\\beta \\right )}\\end{matrix}\\right]$$"
      ],
      "text/plain": [
       "⎡  0   ⎤\n",
       "⎢      ⎥\n",
       "⎢sin(β)⎥\n",
       "⎢      ⎥\n",
       "⎣cos(β)⎦"
      ]
     },
     "execution_count": 41,
     "metadata": {},
     "output_type": "execute_result"
    }
   ],
   "source": [
    "r_l = R_l[:,2]\n",
    "r_l"
   ]
  },
  {
   "cell_type": "code",
   "execution_count": 42,
   "metadata": {
    "collapsed": false
   },
   "outputs": [
    {
     "data": {
      "text/latex": [
       "$$\\left[\\begin{matrix}x\\\\y\\\\z\\\\1\\end{matrix}\\right]$$"
      ],
      "text/plain": [
       "⎡x⎤\n",
       "⎢ ⎥\n",
       "⎢y⎥\n",
       "⎢ ⎥\n",
       "⎢z⎥\n",
       "⎢ ⎥\n",
       "⎣1⎦"
      ]
     },
     "execution_count": 42,
     "metadata": {},
     "output_type": "execute_result"
    }
   ],
   "source": [
    "X_homo = homo_vec(X)\n",
    "X_homo"
   ]
  },
  {
   "cell_type": "code",
   "execution_count": 43,
   "metadata": {
    "collapsed": false
   },
   "outputs": [
    {
     "data": {
      "text/latex": [
       "$$\\left[\\begin{matrix}0\\\\d \\sin{\\left (\\beta \\right )}\\\\d \\cos{\\left (\\beta \\right )}\\\\0\\end{matrix}\\right]$$"
      ],
      "text/plain": [
       "⎡   0    ⎤\n",
       "⎢        ⎥\n",
       "⎢d⋅sin(β)⎥\n",
       "⎢        ⎥\n",
       "⎢d⋅cos(β)⎥\n",
       "⎢        ⎥\n",
       "⎣   0    ⎦"
      ]
     },
     "execution_count": 43,
     "metadata": {},
     "output_type": "execute_result"
    }
   ],
   "source": [
    "A = d*sy.simplify(G_ci*sy.Matrix(np.vstack((r_l , [0]))))\n",
    "A"
   ]
  },
  {
   "cell_type": "code",
   "execution_count": null,
   "metadata": {
    "collapsed": true
   },
   "outputs": [],
   "source": []
  },
  {
   "cell_type": "code",
   "execution_count": 44,
   "metadata": {
    "collapsed": false
   },
   "outputs": [
    {
     "data": {
      "text/latex": [
       "$$\\left[\\begin{matrix}1 & 0 & 0 & 0\\\\0 & \\cos{\\left (\\beta \\right )} & \\sin{\\left (\\beta \\right )} & 0\\\\0 & - \\sin{\\left (\\beta \\right )} & \\cos{\\left (\\beta \\right )} & 0\\\\0 & 0 & 0 & 1\\end{matrix}\\right]$$"
      ],
      "text/plain": [
       "⎡1     0       0     0⎤\n",
       "⎢                     ⎥\n",
       "⎢0  cos(β)   sin(β)  0⎥\n",
       "⎢                     ⎥\n",
       "⎢0  -sin(β)  cos(β)  0⎥\n",
       "⎢                     ⎥\n",
       "⎣0     0       0     1⎦"
      ]
     },
     "execution_count": 44,
     "metadata": {},
     "output_type": "execute_result"
    }
   ],
   "source": [
    "R_l_homo = homo_mat(R_l)\n",
    "R_l_homo"
   ]
  },
  {
   "cell_type": "code",
   "execution_count": 45,
   "metadata": {
    "collapsed": false
   },
   "outputs": [
    {
     "data": {
      "text/latex": [
       "$$\\left[\\begin{matrix}1 & 0 & 0 & 0\\\\0 & \\cos{\\left (\\beta \\right )} & - \\sin{\\left (\\beta \\right )} & 0\\\\0 & \\sin{\\left (\\beta \\right )} & \\cos{\\left (\\beta \\right )} & 0\\\\0 & 0 & 0 & 1\\end{matrix}\\right]$$"
      ],
      "text/plain": [
       "⎡1    0        0     0⎤\n",
       "⎢                     ⎥\n",
       "⎢0  cos(β)  -sin(β)  0⎥\n",
       "⎢                     ⎥\n",
       "⎢0  sin(β)  cos(β)   0⎥\n",
       "⎢                     ⎥\n",
       "⎣0    0        0     1⎦"
      ]
     },
     "execution_count": 45,
     "metadata": {},
     "output_type": "execute_result"
    }
   ],
   "source": [
    "R_l_T_homo = homo_mat(R_l.T)\n",
    "R_l_T_homo"
   ]
  },
  {
   "cell_type": "code",
   "execution_count": 46,
   "metadata": {
    "collapsed": false
   },
   "outputs": [
    {
     "data": {
      "text/latex": [
       "$$\\left[\\begin{matrix}-1 & 0 & 0 & 0\\\\0 & -1 & 0 & 0\\\\0 & 0 & 1 & 0\\\\0 & 0 & 0 & 1\\end{matrix}\\right]$$"
      ],
      "text/plain": [
       "⎡-1  0   0  0⎤\n",
       "⎢            ⎥\n",
       "⎢0   -1  0  0⎥\n",
       "⎢            ⎥\n",
       "⎢0   0   1  0⎥\n",
       "⎢            ⎥\n",
       "⎣0   0   0  1⎦"
      ]
     },
     "execution_count": 46,
     "metadata": {},
     "output_type": "execute_result"
    }
   ],
   "source": [
    "E_homo = homo_mat(E)\n",
    "E_homo"
   ]
  },
  {
   "cell_type": "code",
   "execution_count": 47,
   "metadata": {
    "collapsed": false
   },
   "outputs": [
    {
     "data": {
      "text/latex": [
       "$$\\left[\\begin{matrix}1 & 0 & 0 & 0\\\\0 & 1 & 0 & 0\\\\0 & 0 & m_{p} & 0\\\\0 & 0 & 0 & 1\\end{matrix}\\right]$$"
      ],
      "text/plain": [
       "⎡1  0   0   0⎤\n",
       "⎢            ⎥\n",
       "⎢0  1   0   0⎥\n",
       "⎢            ⎥\n",
       "⎢0  0  m_p  0⎥\n",
       "⎢            ⎥\n",
       "⎣0  0   0   1⎦"
      ]
     },
     "execution_count": 47,
     "metadata": {},
     "output_type": "execute_result"
    }
   ],
   "source": [
    "Mp_homo = homo_mat(Mp)\n",
    "Mp_homo"
   ]
  },
  {
   "cell_type": "code",
   "execution_count": 48,
   "metadata": {
    "collapsed": false
   },
   "outputs": [
    {
     "data": {
      "text/latex": [
       "$$\\left[\\begin{matrix}- x\\\\y \\left(- m_{p} \\sin^{2}{\\left (\\beta \\right )} - \\cos^{2}{\\left (\\beta \\right )}\\right) + z \\left(m_{p} \\sin{\\left (\\beta \\right )} \\cos{\\left (\\beta \\right )} - \\sin{\\left (\\beta \\right )} \\cos{\\left (\\beta \\right )}\\right)\\\\y \\left(- m_{p} \\sin{\\left (\\beta \\right )} \\cos{\\left (\\beta \\right )} + \\sin{\\left (\\beta \\right )} \\cos{\\left (\\beta \\right )}\\right) + z \\left(m_{p} \\cos^{2}{\\left (\\beta \\right )} + \\sin^{2}{\\left (\\beta \\right )}\\right) - z'_{o}\\\\1\\end{matrix}\\right]$$"
      ],
      "text/plain": [
       "⎡                                   -x                                   ⎤\n",
       "⎢                                                                        ⎥\n",
       "⎢    ⎛         2         2   ⎞                                           ⎥\n",
       "⎢  y⋅⎝- m_p⋅sin (β) - cos (β)⎠ + z⋅(m_p⋅sin(β)⋅cos(β) - sin(β)⋅cos(β))   ⎥\n",
       "⎢                                                                        ⎥\n",
       "⎢                                           ⎛       2         2   ⎞      ⎥\n",
       "⎢y⋅(-m_p⋅sin(β)⋅cos(β) + sin(β)⋅cos(β)) + z⋅⎝m_p⋅cos (β) + sin (β)⎠ - z'ₒ⎥\n",
       "⎢                                                                        ⎥\n",
       "⎣                                   1                                    ⎦"
      ]
     },
     "execution_count": 48,
     "metadata": {},
     "output_type": "execute_result"
    }
   ],
   "source": [
    "G_ci*R_l_homo*Mp_homo*R_l_T_homo*E_homo*X_homo"
   ]
  },
  {
   "cell_type": "code",
   "execution_count": null,
   "metadata": {
    "collapsed": false
   },
   "outputs": [],
   "source": []
  },
  {
   "cell_type": "code",
   "execution_count": 49,
   "metadata": {
    "collapsed": false
   },
   "outputs": [
    {
     "data": {
      "text/latex": [
       "$$\\left[\\begin{matrix}- x\\\\- y \\left(m_{p} \\sin^{2}{\\left (\\beta \\right )} + \\cos^{2}{\\left (\\beta \\right )}\\right) + \\frac{z}{2} \\left(m_{p} - 1\\right) \\sin{\\left (2 \\beta \\right )}\\\\- \\frac{y}{2} \\left(m_{p} - 1\\right) \\sin{\\left (2 \\beta \\right )} + z \\left(m_{p} \\cos^{2}{\\left (\\beta \\right )} + \\sin^{2}{\\left (\\beta \\right )}\\right) - z'_{o}\\\\1\\end{matrix}\\right]$$"
      ],
      "text/plain": [
       "⎡                           -x                           ⎤\n",
       "⎢                                                        ⎥\n",
       "⎢       ⎛       2         2   ⎞   z⋅(m_p - 1)⋅sin(2⋅β)   ⎥\n",
       "⎢   - y⋅⎝m_p⋅sin (β) + cos (β)⎠ + ────────────────────   ⎥\n",
       "⎢                                          2             ⎥\n",
       "⎢                                                        ⎥\n",
       "⎢  y⋅(m_p - 1)⋅sin(2⋅β)     ⎛       2         2   ⎞      ⎥\n",
       "⎢- ──────────────────── + z⋅⎝m_p⋅cos (β) + sin (β)⎠ - z'ₒ⎥\n",
       "⎢           2                                            ⎥\n",
       "⎢                                                        ⎥\n",
       "⎣                           1                            ⎦"
      ]
     },
     "execution_count": 49,
     "metadata": {},
     "output_type": "execute_result"
    }
   ],
   "source": [
    "K = sy.simplify(R_l*Mp*R_l.T*E*X)\n",
    "K_homo = homo_vec(K)\n",
    "G_ci*K_homo"
   ]
  },
  {
   "cell_type": "code",
   "execution_count": null,
   "metadata": {
    "collapsed": false
   },
   "outputs": [],
   "source": []
  },
  {
   "cell_type": "code",
   "execution_count": null,
   "metadata": {
    "collapsed": true
   },
   "outputs": [],
   "source": []
  },
  {
   "cell_type": "code",
   "execution_count": null,
   "metadata": {
    "collapsed": true
   },
   "outputs": [],
   "source": []
  },
  {
   "cell_type": "code",
   "execution_count": 115,
   "metadata": {
    "collapsed": false
   },
   "outputs": [
    {
     "data": {
      "text/latex": [
       "$$\\left[\\begin{matrix}y \\left(- m_{p} \\sin{\\left (\\beta \\right )} \\cos{\\left (\\beta \\right )} + \\sin{\\left (\\beta \\right )} \\cos{\\left (\\beta \\right )}\\right) + z \\left(m_{p} \\cos^{2}{\\left (\\beta \\right )} + \\sin^{2}{\\left (\\beta \\right )}\\right)\\end{matrix}\\right]$$"
      ],
      "text/plain": [
       "⎡                                           ⎛       2         2   ⎞⎤\n",
       "⎣y⋅(-m_p⋅sin(β)⋅cos(β) + sin(β)⋅cos(β)) + z⋅⎝m_p⋅cos (β) + sin (β)⎠⎦"
      ]
     },
     "execution_count": 115,
     "metadata": {},
     "output_type": "execute_result"
    }
   ],
   "source": [
    "n_i.T*(R_l*Mp*R_l.T)*E*X"
   ]
  },
  {
   "cell_type": "code",
   "execution_count": 116,
   "metadata": {
    "collapsed": false
   },
   "outputs": [
    {
     "data": {
      "text/latex": [
       "$$\\left[\\begin{matrix}1 & 0 & 0\\\\0 & \\cos{\\left (\\beta \\right )} & \\sin{\\left (\\beta \\right )}\\\\0 & - \\sin{\\left (\\beta \\right )} & \\cos{\\left (\\beta \\right )}\\end{matrix}\\right]$$"
      ],
      "text/plain": [
       "⎡1     0       0   ⎤\n",
       "⎢                  ⎥\n",
       "⎢0  cos(β)   sin(β)⎥\n",
       "⎢                  ⎥\n",
       "⎣0  -sin(β)  cos(β)⎦"
      ]
     },
     "execution_count": 116,
     "metadata": {},
     "output_type": "execute_result"
    }
   ],
   "source": [
    "R_l"
   ]
  },
  {
   "cell_type": "code",
   "execution_count": null,
   "metadata": {
    "collapsed": true
   },
   "outputs": [],
   "source": []
  },
  {
   "cell_type": "markdown",
   "metadata": {},
   "source": [
    "Something else done earlier"
   ]
  },
  {
   "cell_type": "code",
   "execution_count": 50,
   "metadata": {
    "collapsed": false
   },
   "outputs": [
    {
     "data": {
      "text/latex": [
       "$$\\left[\\begin{matrix}0\\\\\\sin{\\left (\\beta_{y} \\right )}\\\\\\cos{\\left (\\beta_{y} \\right )}\\end{matrix}\\right]$$"
      ],
      "text/plain": [
       "⎡   0    ⎤\n",
       "⎢        ⎥\n",
       "⎢sin(β_y)⎥\n",
       "⎢        ⎥\n",
       "⎣cos(β_y)⎦"
      ]
     },
     "execution_count": 50,
     "metadata": {},
     "output_type": "execute_result"
    }
   ],
   "source": [
    "n_o = R_ox*c_z\n",
    "n_o.subs({beta_y:-beta_y})"
   ]
  },
  {
   "cell_type": "code",
   "execution_count": 51,
   "metadata": {
    "collapsed": false
   },
   "outputs": [
    {
     "data": {
      "text/latex": [
       "$$\\left[\\begin{matrix}\\cos{\\left (\\beta_{x} \\right )} & \\sin{\\left (\\beta_{x} \\right )} \\sin{\\left (\\beta_{y} \\right )} & \\sin{\\left (\\beta_{x} \\right )} \\cos{\\left (\\beta_{y} \\right )}\\\\0 & \\cos{\\left (\\beta_{y} \\right )} & - \\sin{\\left (\\beta_{y} \\right )}\\\\- \\sin{\\left (\\beta_{x} \\right )} & \\sin{\\left (\\beta_{y} \\right )} \\cos{\\left (\\beta_{x} \\right )} & \\cos{\\left (\\beta_{x} \\right )} \\cos{\\left (\\beta_{y} \\right )}\\end{matrix}\\right]$$"
      ],
      "text/plain": [
       "⎡cos(βₓ)   sin(βₓ)⋅sin(β_y)  sin(βₓ)⋅cos(β_y)⎤\n",
       "⎢                                            ⎥\n",
       "⎢   0          cos(β_y)         -sin(β_y)    ⎥\n",
       "⎢                                            ⎥\n",
       "⎣-sin(βₓ)  sin(β_y)⋅cos(βₓ)  cos(βₓ)⋅cos(β_y)⎦"
      ]
     },
     "execution_count": 51,
     "metadata": {},
     "output_type": "execute_result"
    }
   ],
   "source": [
    "R_oy*R_ox"
   ]
  },
  {
   "cell_type": "code",
   "execution_count": 52,
   "metadata": {
    "collapsed": false
   },
   "outputs": [
    {
     "data": {
      "text/latex": [
       "$$\\left[\\begin{matrix}1 & 0 & 0\\\\0 & \\cos{\\left (\\beta_{y} \\right )} & - \\sin{\\left (\\beta_{y} \\right )}\\\\0 & \\sin{\\left (\\beta_{y} \\right )} & \\cos{\\left (\\beta_{y} \\right )}\\end{matrix}\\right]$$"
      ],
      "text/plain": [
       "⎡1     0          0    ⎤\n",
       "⎢                      ⎥\n",
       "⎢0  cos(β_y)  -sin(β_y)⎥\n",
       "⎢                      ⎥\n",
       "⎣0  sin(β_y)  cos(β_y) ⎦"
      ]
     },
     "execution_count": 52,
     "metadata": {},
     "output_type": "execute_result"
    }
   ],
   "source": [
    "R_ox"
   ]
  },
  {
   "cell_type": "code",
   "execution_count": 53,
   "metadata": {
    "collapsed": false
   },
   "outputs": [
    {
     "data": {
      "text/latex": [
       "$$\\left[\\begin{matrix}\\cos{\\left (\\beta_{x} \\right )} & - \\sin{\\left (\\beta_{x} \\right )} \\sin{\\left (\\beta_{y} \\right )} & - \\sin{\\left (\\beta_{x} \\right )} \\cos{\\left (\\beta_{y} \\right )}\\\\0 & \\cos{\\left (\\beta_{y} \\right )} & - \\sin{\\left (\\beta_{y} \\right )}\\\\\\sin{\\left (\\beta_{x} \\right )} & \\sin{\\left (\\beta_{y} \\right )} \\cos{\\left (\\beta_{x} \\right )} & \\cos{\\left (\\beta_{x} \\right )} \\cos{\\left (\\beta_{y} \\right )}\\end{matrix}\\right]$$"
      ],
      "text/plain": [
       "⎡cos(βₓ)  -sin(βₓ)⋅sin(β_y)  -sin(βₓ)⋅cos(β_y)⎤\n",
       "⎢                                             ⎥\n",
       "⎢   0         cos(β_y)           -sin(β_y)    ⎥\n",
       "⎢                                             ⎥\n",
       "⎣sin(βₓ)  sin(β_y)⋅cos(βₓ)   cos(βₓ)⋅cos(β_y) ⎦"
      ]
     },
     "execution_count": 53,
     "metadata": {},
     "output_type": "execute_result"
    }
   ],
   "source": [
    "R = R_oy*R_ox\n",
    "R.subs({beta_x:-beta_x})"
   ]
  },
  {
   "cell_type": "code",
   "execution_count": 54,
   "metadata": {
    "collapsed": false
   },
   "outputs": [
    {
     "data": {
      "text/latex": [
       "$$\\left[\\begin{matrix}\\sin{\\left (\\beta_{x} \\right )} \\cos{\\left (\\beta_{y} \\right )}\\\\\\sin{\\left (\\beta_{y} \\right )}\\\\\\cos{\\left (\\beta_{x} \\right )} \\cos{\\left (\\beta_{y} \\right )}\\end{matrix}\\right]$$"
      ],
      "text/plain": [
       "⎡sin(βₓ)⋅cos(β_y)⎤\n",
       "⎢                ⎥\n",
       "⎢    sin(β_y)    ⎥\n",
       "⎢                ⎥\n",
       "⎣cos(βₓ)⋅cos(β_y)⎦"
      ]
     },
     "execution_count": 54,
     "metadata": {},
     "output_type": "execute_result"
    }
   ],
   "source": [
    "n_o = R_oy*R_ox*c_z\n",
    "n_o.subs({beta_y:-beta_y})"
   ]
  },
  {
   "cell_type": "code",
   "execution_count": 55,
   "metadata": {
    "collapsed": false
   },
   "outputs": [
    {
     "data": {
      "text/latex": [
       "$$\\left[\\begin{matrix}\\sin{\\left (\\beta_{x} \\right )}\\\\\\sin{\\left (\\beta_{y} \\right )} \\cos{\\left (\\beta_{x} \\right )}\\\\\\cos{\\left (\\beta_{x} \\right )} \\cos{\\left (\\beta_{y} \\right )}\\end{matrix}\\right]$$"
      ],
      "text/plain": [
       "⎡    sin(βₓ)     ⎤\n",
       "⎢                ⎥\n",
       "⎢sin(β_y)⋅cos(βₓ)⎥\n",
       "⎢                ⎥\n",
       "⎣cos(βₓ)⋅cos(β_y)⎦"
      ]
     },
     "execution_count": 55,
     "metadata": {},
     "output_type": "execute_result"
    }
   ],
   "source": [
    "n_o = R_ox*R_oy*c_z\n",
    "n_o.subs({beta_y:-beta_y})"
   ]
  },
  {
   "cell_type": "code",
   "execution_count": 56,
   "metadata": {
    "collapsed": false
   },
   "outputs": [
    {
     "data": {
      "text/latex": [
       "$$\\left[\\begin{matrix}0\\\\m_{p} \\sin{\\left (\\beta_{y} \\right )} \\cos{\\left (\\beta_{y} \\right )} - \\sin{\\left (\\beta_{y} \\right )} \\cos{\\left (\\beta_{y} \\right )}\\\\m_{p} \\cos^{2}{\\left (\\beta_{y} \\right )} + \\sin^{2}{\\left (\\beta_{y} \\right )}\\end{matrix}\\right]$$"
      ],
      "text/plain": [
       "⎡                    0                    ⎤\n",
       "⎢                                         ⎥\n",
       "⎢m_p⋅sin(β_y)⋅cos(β_y) - sin(β_y)⋅cos(β_y)⎥\n",
       "⎢                                         ⎥\n",
       "⎢               2           2             ⎥\n",
       "⎣        m_p⋅cos (β_y) + sin (β_y)        ⎦"
      ]
     },
     "execution_count": 56,
     "metadata": {},
     "output_type": "execute_result"
    }
   ],
   "source": [
    "(R_ox*Mp*R_ox.T*c_z).subs({beta_y:-beta_y})"
   ]
  },
  {
   "cell_type": "code",
   "execution_count": 57,
   "metadata": {
    "collapsed": false
   },
   "outputs": [
    {
     "data": {
      "text/latex": [
       "$$\\left[\\begin{matrix}\\cos{\\left (\\beta_{x} \\right )} & \\sin{\\left (\\beta_{x} \\right )} \\sin{\\left (\\beta_{y} \\right )} & \\sin{\\left (\\beta_{x} \\right )} \\cos{\\left (\\beta_{y} \\right )}\\\\0 & \\cos{\\left (\\beta_{y} \\right )} & - \\sin{\\left (\\beta_{y} \\right )}\\\\- \\sin{\\left (\\beta_{x} \\right )} & \\sin{\\left (\\beta_{y} \\right )} \\cos{\\left (\\beta_{x} \\right )} & \\cos{\\left (\\beta_{x} \\right )} \\cos{\\left (\\beta_{y} \\right )}\\end{matrix}\\right]$$"
      ],
      "text/plain": [
       "⎡cos(βₓ)   sin(βₓ)⋅sin(β_y)  sin(βₓ)⋅cos(β_y)⎤\n",
       "⎢                                            ⎥\n",
       "⎢   0          cos(β_y)         -sin(β_y)    ⎥\n",
       "⎢                                            ⎥\n",
       "⎣-sin(βₓ)  sin(β_y)⋅cos(βₓ)  cos(βₓ)⋅cos(β_y)⎦"
      ]
     },
     "execution_count": 57,
     "metadata": {},
     "output_type": "execute_result"
    }
   ],
   "source": [
    "R_ox = sy.Matrix(((1,       0,              0          ), \n",
    "                (0,  sy.cos(beta_y),  -sy.sin(beta_y)),\n",
    "                (0,  sy.sin(beta_y),   sy.cos(beta_y)),\n",
    "                 ))\n",
    "\n",
    "R_oy = sy.Matrix(((sy.cos(beta_x),     0,   sy.sin(beta_x)), \n",
    "                  (0,                  1,       0         ),\n",
    "                  (-sy.sin(beta_x),    0,   sy.cos(beta_x)),\n",
    "                 ))\n",
    "Rl = R_oy*R_ox\n",
    "Rl"
   ]
  },
  {
   "cell_type": "code",
   "execution_count": 58,
   "metadata": {
    "collapsed": false
   },
   "outputs": [
    {
     "data": {
      "text/latex": [
       "$$\\left[\\begin{matrix}1 & 0 & 0\\\\0 & 1 & 0\\\\0 & 0 & 1\\end{matrix}\\right]$$"
      ],
      "text/plain": [
       "⎡1  0  0⎤\n",
       "⎢       ⎥\n",
       "⎢0  1  0⎥\n",
       "⎢       ⎥\n",
       "⎣0  0  1⎦"
      ]
     },
     "execution_count": 58,
     "metadata": {},
     "output_type": "execute_result"
    }
   ],
   "source": [
    "sy.simplify(Rl*Rl.T)"
   ]
  },
  {
   "cell_type": "code",
   "execution_count": 59,
   "metadata": {
    "collapsed": false
   },
   "outputs": [
    {
     "data": {
      "text/latex": [
       "$$\\left[\\begin{matrix}m_{p} \\sin^{2}{\\left (\\beta_{x} \\right )} \\cos^{2}{\\left (\\beta_{y} \\right )} + \\sin^{2}{\\left (\\beta_{x} \\right )} \\sin^{2}{\\left (\\beta_{y} \\right )} + \\cos^{2}{\\left (\\beta_{x} \\right )} & \\frac{1}{4} \\left(- m_{p} + 1\\right) \\left(\\cos{\\left (\\beta_{x} - 2 \\beta_{y} \\right )} - \\cos{\\left (\\beta_{x} + 2 \\beta_{y} \\right )}\\right) & \\left(m_{p} - 1\\right) \\sin{\\left (\\beta_{x} \\right )} \\cos{\\left (\\beta_{x} \\right )} \\cos^{2}{\\left (\\beta_{y} \\right )}\\\\\\frac{1}{4} \\left(- m_{p} + 1\\right) \\left(\\cos{\\left (\\beta_{x} - 2 \\beta_{y} \\right )} - \\cos{\\left (\\beta_{x} + 2 \\beta_{y} \\right )}\\right) & m_{p} \\sin^{2}{\\left (\\beta_{y} \\right )} + \\cos^{2}{\\left (\\beta_{y} \\right )} & \\frac{1}{4} \\left(- m_{p} + 1\\right) \\left(- \\sin{\\left (\\beta_{x} - 2 \\beta_{y} \\right )} + \\sin{\\left (\\beta_{x} + 2 \\beta_{y} \\right )}\\right)\\\\\\left(m_{p} - 1\\right) \\sin{\\left (\\beta_{x} \\right )} \\cos{\\left (\\beta_{x} \\right )} \\cos^{2}{\\left (\\beta_{y} \\right )} & \\frac{1}{4} \\left(- m_{p} + 1\\right) \\left(- \\sin{\\left (\\beta_{x} - 2 \\beta_{y} \\right )} + \\sin{\\left (\\beta_{x} + 2 \\beta_{y} \\right )}\\right) & m_{p} \\cos^{2}{\\left (\\beta_{x} \\right )} \\cos^{2}{\\left (\\beta_{y} \\right )} - \\cos^{2}{\\left (\\beta_{x} \\right )} \\cos^{2}{\\left (\\beta_{y} \\right )} + 1\\end{matrix}\\right]$$"
      ],
      "text/plain": [
       "⎡       2        2           2        2           2      (-m_p + 1)⋅(cos(βₓ - \n",
       "⎢m_p⋅sin (βₓ)⋅cos (β_y) + sin (βₓ)⋅sin (β_y) + cos (βₓ)  ─────────────────────\n",
       "⎢                                                                             \n",
       "⎢                                                                             \n",
       "⎢    (-m_p + 1)⋅(cos(βₓ - 2⋅β_y) - cos(βₓ + 2⋅β_y))                        2  \n",
       "⎢    ──────────────────────────────────────────────                 m_p⋅sin (β\n",
       "⎢                          4                                                  \n",
       "⎢                                                                             \n",
       "⎢                                      2                 (-m_p + 1)⋅(-sin(βₓ -\n",
       "⎢         (m_p - 1)⋅sin(βₓ)⋅cos(βₓ)⋅cos (β_y)            ─────────────────────\n",
       "⎣                                                                             \n",
       "\n",
       "2⋅β_y) - cos(βₓ + 2⋅β_y))                                      2           ⎤\n",
       "─────────────────────────         (m_p - 1)⋅sin(βₓ)⋅cos(βₓ)⋅cos (β_y)      ⎥\n",
       " 4                                                                         ⎥\n",
       "                                                                           ⎥\n",
       "         2                  (-m_p + 1)⋅(-sin(βₓ - 2⋅β_y) + sin(βₓ + 2⋅β_y))⎥\n",
       "_y) + cos (β_y)             ───────────────────────────────────────────────⎥\n",
       "                                                   4                       ⎥\n",
       "                                                                           ⎥\n",
       " 2⋅β_y) + sin(βₓ + 2⋅β_y))         2        2           2        2         ⎥\n",
       "──────────────────────────  m_p⋅cos (βₓ)⋅cos (β_y) - cos (βₓ)⋅cos (β_y) + 1⎥\n",
       "  4                                                                        ⎦"
      ]
     },
     "execution_count": 59,
     "metadata": {},
     "output_type": "execute_result"
    }
   ],
   "source": [
    "sy.simplify(Rl*Mp*Rl.T)"
   ]
  },
  {
   "cell_type": "code",
   "execution_count": 60,
   "metadata": {
    "collapsed": false
   },
   "outputs": [
    {
     "data": {
      "text/latex": [
       "$$\\left[\\begin{matrix}0\\\\- m_{p} \\sin{\\left (\\beta_{y} \\right )} \\cos{\\left (\\beta_{y} \\right )} + \\sin{\\left (\\beta_{y} \\right )} \\cos{\\left (\\beta_{y} \\right )}\\\\m_{p} \\cos^{2}{\\left (\\beta_{y} \\right )} + \\sin^{2}{\\left (\\beta_{y} \\right )}\\end{matrix}\\right]$$"
      ],
      "text/plain": [
       "⎡                    0                     ⎤\n",
       "⎢                                          ⎥\n",
       "⎢-m_p⋅sin(β_y)⋅cos(β_y) + sin(β_y)⋅cos(β_y)⎥\n",
       "⎢                                          ⎥\n",
       "⎢               2           2              ⎥\n",
       "⎣        m_p⋅cos (β_y) + sin (β_y)         ⎦"
      ]
     },
     "execution_count": 60,
     "metadata": {},
     "output_type": "execute_result"
    }
   ],
   "source": [
    "Rl = R_ox\n",
    "Rl*Mp*Rl.T*c_z"
   ]
  },
  {
   "cell_type": "code",
   "execution_count": 22,
   "metadata": {
    "collapsed": false
   },
   "outputs": [
    {
     "data": {
      "text/latex": [
       "$$\\left[\\begin{matrix}r_{11} & r_{12} & r_{13}\\\\r_{21} & r_{22} & r_{23}\\\\r_{31} & r_{32} & r_{33}\\end{matrix}\\right]$$"
      ],
      "text/plain": [
       "⎡r₁₁  r₁₂  r₁₃⎤\n",
       "⎢             ⎥\n",
       "⎢r₂₁  r₂₂  r₂₃⎥\n",
       "⎢             ⎥\n",
       "⎣r₃₁  r₃₂  r₃₃⎦"
      ]
     },
     "execution_count": 22,
     "metadata": {},
     "output_type": "execute_result"
    }
   ],
   "source": [
    "row1 = sy.symbols('r1(1:4)', real=True, positive=True)\n",
    "row2 = sy.symbols('r2(1:4)', real=True, positive=True)\n",
    "row3 = sy.symbols('r3(1:4)', real=True, positive=True)\n",
    "R = sy.Matrix((row1, row2, row3))\n",
    "R"
   ]
  },
  {
   "cell_type": "code",
   "execution_count": 23,
   "metadata": {
    "collapsed": false
   },
   "outputs": [
    {
     "data": {
      "text/latex": [
       "$$\\left[\\begin{matrix}m_{p} r_{13}^{2} + r_{11}^{2} + r_{12}^{2} & m_{p} r_{13} r_{23} + r_{11} r_{21} + r_{12} r_{22} & m_{p} r_{13} r_{33} + r_{11} r_{31} + r_{12} r_{32}\\\\m_{p} r_{13} r_{23} + r_{11} r_{21} + r_{12} r_{22} & m_{p} r_{23}^{2} + r_{21}^{2} + r_{22}^{2} & m_{p} r_{23} r_{33} + r_{21} r_{31} + r_{22} r_{32}\\\\m_{p} r_{13} r_{33} + r_{11} r_{31} + r_{12} r_{32} & m_{p} r_{23} r_{33} + r_{21} r_{31} + r_{22} r_{32} & m_{p} r_{33}^{2} + r_{31}^{2} + r_{32}^{2}\\end{matrix}\\right]$$"
      ],
      "text/plain": [
       "⎡           2      2      2                                                   \n",
       "⎢    m_p⋅r₁₃  + r₁₁  + r₁₂        m_p⋅r₁₃⋅r₂₃ + r₁₁⋅r₂₁ + r₁₂⋅r₂₂  m_p⋅r₁₃⋅r₃₃\n",
       "⎢                                                                             \n",
       "⎢                                            2      2      2                  \n",
       "⎢m_p⋅r₁₃⋅r₂₃ + r₁₁⋅r₂₁ + r₁₂⋅r₂₂      m_p⋅r₂₃  + r₂₁  + r₂₂        m_p⋅r₂₃⋅r₃₃\n",
       "⎢                                                                             \n",
       "⎢                                                                             \n",
       "⎣m_p⋅r₁₃⋅r₃₃ + r₁₁⋅r₃₁ + r₁₂⋅r₃₂  m_p⋅r₂₃⋅r₃₃ + r₂₁⋅r₃₁ + r₂₂⋅r₃₂      m_p⋅r₃₃\n",
       "\n",
       "                    ⎤\n",
       " + r₁₁⋅r₃₁ + r₁₂⋅r₃₂⎥\n",
       "                    ⎥\n",
       "                    ⎥\n",
       " + r₂₁⋅r₃₁ + r₂₂⋅r₃₂⎥\n",
       "                    ⎥\n",
       "2      2      2     ⎥\n",
       "  + r₃₁  + r₃₂      ⎦"
      ]
     },
     "execution_count": 23,
     "metadata": {},
     "output_type": "execute_result"
    }
   ],
   "source": [
    "R*Mp*R.T"
   ]
  },
  {
   "cell_type": "code",
   "execution_count": 24,
   "metadata": {
    "collapsed": false
   },
   "outputs": [
    {
     "data": {
      "text/latex": [
       "$$\\left[\\begin{matrix}0\\\\0\\\\1\\end{matrix}\\right]$$"
      ],
      "text/plain": [
       "⎡0⎤\n",
       "⎢ ⎥\n",
       "⎢0⎥\n",
       "⎢ ⎥\n",
       "⎣1⎦"
      ]
     },
     "execution_count": 24,
     "metadata": {},
     "output_type": "execute_result"
    }
   ],
   "source": [
    "n_i"
   ]
  },
  {
   "cell_type": "code",
   "execution_count": 25,
   "metadata": {
    "collapsed": false
   },
   "outputs": [
    {
     "data": {
      "text/latex": [
       "$$\\left[\\begin{matrix}x \\left(m_{p} r_{13} r_{33} + r_{11} r_{31} + r_{12} r_{32}\\right) + y \\left(m_{p} r_{23} r_{33} + r_{21} r_{31} + r_{22} r_{32}\\right) + z \\left(m_{p} r_{33}^{2} + r_{31}^{2} + r_{32}^{2}\\right)\\end{matrix}\\right]$$"
      ],
      "text/plain": [
       "⎡                                                                             \n",
       "⎣x⋅(m_p⋅r₁₃⋅r₃₃ + r₁₁⋅r₃₁ + r₁₂⋅r₃₂) + y⋅(m_p⋅r₂₃⋅r₃₃ + r₂₁⋅r₃₁ + r₂₂⋅r₃₂) + z\n",
       "\n",
       " ⎛       2      2      2⎞⎤\n",
       "⋅⎝m_p⋅r₃₃  + r₃₁  + r₃₂ ⎠⎦"
      ]
     },
     "execution_count": 25,
     "metadata": {},
     "output_type": "execute_result"
    }
   ],
   "source": [
    "n_i.T*(R*Mp*R.T)*X"
   ]
  },
  {
   "cell_type": "code",
   "execution_count": 26,
   "metadata": {
    "collapsed": false
   },
   "outputs": [
    {
     "data": {
      "text/latex": [
       "$$\\left[\\begin{matrix}n_{1}\\\\n_{2}\\\\n_{3}\\end{matrix}\\right]$$"
      ],
      "text/plain": [
       "⎡n₁⎤\n",
       "⎢  ⎥\n",
       "⎢n₂⎥\n",
       "⎢  ⎥\n",
       "⎣n₃⎦"
      ]
     },
     "execution_count": 26,
     "metadata": {},
     "output_type": "execute_result"
    }
   ],
   "source": [
    "N"
   ]
  },
  {
   "cell_type": "code",
   "execution_count": 27,
   "metadata": {
    "collapsed": false
   },
   "outputs": [
    {
     "data": {
      "text/latex": [
       "$$\\left[\\begin{matrix}x \\left(n_{1} \\left(m_{p} r_{13}^{2} + r_{11}^{2} + r_{12}^{2}\\right) + n_{2} \\left(m_{p} r_{13} r_{23} + r_{11} r_{21} + r_{12} r_{22}\\right) + n_{3} \\left(m_{p} r_{13} r_{33} + r_{11} r_{31} + r_{12} r_{32}\\right)\\right) + y \\left(n_{1} \\left(m_{p} r_{13} r_{23} + r_{11} r_{21} + r_{12} r_{22}\\right) + n_{2} \\left(m_{p} r_{23}^{2} + r_{21}^{2} + r_{22}^{2}\\right) + n_{3} \\left(m_{p} r_{23} r_{33} + r_{21} r_{31} + r_{22} r_{32}\\right)\\right) + z \\left(n_{1} \\left(m_{p} r_{13} r_{33} + r_{11} r_{31} + r_{12} r_{32}\\right) + n_{2} \\left(m_{p} r_{23} r_{33} + r_{21} r_{31} + r_{22} r_{32}\\right) + n_{3} \\left(m_{p} r_{33}^{2} + r_{31}^{2} + r_{32}^{2}\\right)\\right)\\end{matrix}\\right]$$"
      ],
      "text/plain": [
       "⎡  ⎛   ⎛       2      2      2⎞                                               \n",
       "⎣x⋅⎝n₁⋅⎝m_p⋅r₁₃  + r₁₁  + r₁₂ ⎠ + n₂⋅(m_p⋅r₁₃⋅r₂₃ + r₁₁⋅r₂₁ + r₁₂⋅r₂₂) + n₃⋅(m\n",
       "\n",
       "                               ⎞     ⎛                                        \n",
       "_p⋅r₁₃⋅r₃₃ + r₁₁⋅r₃₁ + r₁₂⋅r₃₂)⎠ + y⋅⎝n₁⋅(m_p⋅r₁₃⋅r₂₃ + r₁₁⋅r₂₁ + r₁₂⋅r₂₂) + n\n",
       "\n",
       "  ⎛       2      2      2⎞                                       ⎞     ⎛      \n",
       "₂⋅⎝m_p⋅r₂₃  + r₂₁  + r₂₂ ⎠ + n₃⋅(m_p⋅r₂₃⋅r₃₃ + r₂₁⋅r₃₁ + r₂₂⋅r₃₂)⎠ + z⋅⎝n₁⋅(m_\n",
       "\n",
       "                                                                           ⎛  \n",
       "p⋅r₁₃⋅r₃₃ + r₁₁⋅r₃₁ + r₁₂⋅r₃₂) + n₂⋅(m_p⋅r₂₃⋅r₃₃ + r₂₁⋅r₃₁ + r₂₂⋅r₃₂) + n₃⋅⎝m_\n",
       "\n",
       "     2      2      2⎞⎞⎤\n",
       "p⋅r₃₃  + r₃₁  + r₃₂ ⎠⎠⎦"
      ]
     },
     "execution_count": 27,
     "metadata": {},
     "output_type": "execute_result"
    }
   ],
   "source": [
    "N.T*(R*Mp*R.T)*X"
   ]
  },
  {
   "cell_type": "code",
   "execution_count": 63,
   "metadata": {
    "collapsed": false
   },
   "outputs": [
    {
     "data": {
      "text/latex": [
       "$$\\left[\\begin{matrix}n_{1} \\left(m_{p} r_{13}^{2} + r_{11}^{2} + r_{12}^{2}\\right) + n_{2} \\left(m_{p} r_{13} r_{23} + r_{11} r_{21} + r_{12} r_{22}\\right) + n_{3} \\left(m_{p} r_{13} r_{33} + r_{11} r_{31} + r_{12} r_{32}\\right)\\\\n_{1} \\left(m_{p} r_{13} r_{23} + r_{11} r_{21} + r_{12} r_{22}\\right) + n_{2} \\left(m_{p} r_{23}^{2} + r_{21}^{2} + r_{22}^{2}\\right) + n_{3} \\left(m_{p} r_{23} r_{33} + r_{21} r_{31} + r_{22} r_{32}\\right)\\\\n_{1} \\left(m_{p} r_{13} r_{33} + r_{11} r_{31} + r_{12} r_{32}\\right) + n_{2} \\left(m_{p} r_{23} r_{33} + r_{21} r_{31} + r_{22} r_{32}\\right) + n_{3} \\left(m_{p} r_{33}^{2} + r_{31}^{2} + r_{32}^{2}\\right)\\end{matrix}\\right]$$"
      ],
      "text/plain": [
       "⎡   ⎛       2      2      2⎞                                                  \n",
       "⎢n₁⋅⎝m_p⋅r₁₃  + r₁₁  + r₁₂ ⎠ + n₂⋅(m_p⋅r₁₃⋅r₂₃ + r₁₁⋅r₂₁ + r₁₂⋅r₂₂) + n₃⋅(m_p⋅\n",
       "⎢                                                                             \n",
       "⎢                                          ⎛       2      2      2⎞           \n",
       "⎢n₁⋅(m_p⋅r₁₃⋅r₂₃ + r₁₁⋅r₂₁ + r₁₂⋅r₂₂) + n₂⋅⎝m_p⋅r₂₃  + r₂₁  + r₂₂ ⎠ + n₃⋅(m_p⋅\n",
       "⎢                                                                             \n",
       "⎢                                                                             \n",
       "⎣n₁⋅(m_p⋅r₁₃⋅r₃₃ + r₁₁⋅r₃₁ + r₁₂⋅r₃₂) + n₂⋅(m_p⋅r₂₃⋅r₃₃ + r₂₁⋅r₃₁ + r₂₂⋅r₃₂) +\n",
       "\n",
       "                            ⎤\n",
       "r₁₃⋅r₃₃ + r₁₁⋅r₃₁ + r₁₂⋅r₃₂)⎥\n",
       "                            ⎥\n",
       "                            ⎥\n",
       "r₂₃⋅r₃₃ + r₂₁⋅r₃₁ + r₂₂⋅r₃₂)⎥\n",
       "                            ⎥\n",
       "    ⎛       2      2      2⎞⎥\n",
       " n₃⋅⎝m_p⋅r₃₃  + r₃₁  + r₃₂ ⎠⎦"
      ]
     },
     "execution_count": 63,
     "metadata": {},
     "output_type": "execute_result"
    }
   ],
   "source": [
    "(R*Mp*R.T)*N"
   ]
  },
  {
   "cell_type": "code",
   "execution_count": 64,
   "metadata": {
    "collapsed": false
   },
   "outputs": [
    {
     "data": {
      "text/latex": [
       "$$\\left[\\begin{matrix}m_{p} r_{13} r_{33} + n_{1} \\left(m_{p} r_{13}^{2} + r_{11}^{2} + r_{12}^{2}\\right) + n_{2} \\left(m_{p} r_{13} r_{23} + r_{11} r_{21} + r_{12} r_{22}\\right) + r_{11} r_{31} + r_{12} r_{32}\\\\m_{p} r_{23} r_{33} + n_{1} \\left(m_{p} r_{13} r_{23} + r_{11} r_{21} + r_{12} r_{22}\\right) + n_{2} \\left(m_{p} r_{23}^{2} + r_{21}^{2} + r_{22}^{2}\\right) + r_{21} r_{31} + r_{22} r_{32}\\\\m_{p} r_{33}^{2} + n_{1} \\left(m_{p} r_{13} r_{33} + r_{11} r_{31} + r_{12} r_{32}\\right) + n_{2} \\left(m_{p} r_{23} r_{33} + r_{21} r_{31} + r_{22} r_{32}\\right) + r_{31}^{2} + r_{32}^{2}\\end{matrix}\\right]$$"
      ],
      "text/plain": [
       "⎡                 ⎛       2      2      2⎞                                    \n",
       "⎢m_p⋅r₁₃⋅r₃₃ + n₁⋅⎝m_p⋅r₁₃  + r₁₁  + r₁₂ ⎠ + n₂⋅(m_p⋅r₁₃⋅r₂₃ + r₁₁⋅r₂₁ + r₁₂⋅r\n",
       "⎢                                                                             \n",
       "⎢                                                        ⎛       2      2     \n",
       "⎢m_p⋅r₂₃⋅r₃₃ + n₁⋅(m_p⋅r₁₃⋅r₂₃ + r₁₁⋅r₂₁ + r₁₂⋅r₂₂) + n₂⋅⎝m_p⋅r₂₃  + r₂₁  + r₂\n",
       "⎢                                                                             \n",
       "⎢       2                                                                     \n",
       "⎣m_p⋅r₃₃  + n₁⋅(m_p⋅r₁₃⋅r₃₃ + r₁₁⋅r₃₁ + r₁₂⋅r₃₂) + n₂⋅(m_p⋅r₂₃⋅r₃₃ + r₂₁⋅r₃₁ +\n",
       "\n",
       "                       ⎤\n",
       "₂₂) + r₁₁⋅r₃₁ + r₁₂⋅r₃₂⎥\n",
       "                       ⎥\n",
       " 2⎞                    ⎥\n",
       "₂ ⎠ + r₂₁⋅r₃₁ + r₂₂⋅r₃₂⎥\n",
       "                       ⎥\n",
       "               2      2⎥\n",
       " r₂₂⋅r₃₂) + r₃₁  + r₃₂ ⎦"
      ]
     },
     "execution_count": 64,
     "metadata": {},
     "output_type": "execute_result"
    }
   ],
   "source": [
    "((R*Mp*R.T)*N).subs({n3:1})"
   ]
  },
  {
   "cell_type": "code",
   "execution_count": 65,
   "metadata": {
    "collapsed": false
   },
   "outputs": [
    {
     "data": {
      "text/latex": [
       "$$\\left[\\begin{matrix}l n_{1} + m n_{2} + n n_{3}\\end{matrix}\\right]$$"
      ],
      "text/plain": [
       "[l⋅n₁ + m⋅n₂ + n⋅n₃]"
      ]
     },
     "execution_count": 65,
     "metadata": {},
     "output_type": "execute_result"
    }
   ],
   "source": [
    "N.T*L"
   ]
  },
  {
   "cell_type": "code",
   "execution_count": 66,
   "metadata": {
    "collapsed": false
   },
   "outputs": [
    {
     "data": {
      "text/latex": [
       "$$\\left[\\begin{matrix}l n_{1} + m n_{2} + m_{p} n n_{3}\\end{matrix}\\right]$$"
      ],
      "text/plain": [
       "[l⋅n₁ + m⋅n₂ + m_p⋅n⋅n₃]"
      ]
     },
     "execution_count": 66,
     "metadata": {},
     "output_type": "execute_result"
    }
   ],
   "source": [
    "N.T*sy.eye(3)*Mp*sy.eye(3).T*L"
   ]
  },
  {
   "cell_type": "code",
   "execution_count": 67,
   "metadata": {
    "collapsed": false
   },
   "outputs": [
    {
     "data": {
      "text/latex": [
       "$$\\left[\\begin{matrix}l n_{1} + m n_{2} + m_{p} n n_{3}\\end{matrix}\\right]$$"
      ],
      "text/plain": [
       "[l⋅n₁ + m⋅n₂ + m_p⋅n⋅n₃]"
      ]
     },
     "execution_count": 67,
     "metadata": {},
     "output_type": "execute_result"
    }
   ],
   "source": [
    "(sy.eye(3)*Mp*sy.eye(3).T*N).T*L"
   ]
  },
  {
   "cell_type": "code",
   "execution_count": 68,
   "metadata": {
    "collapsed": false
   },
   "outputs": [
    {
     "data": {
      "text/latex": [
       "$$\\left[\\begin{matrix}l \\left(m_{p} r_{13} \\left(n_{1} r_{13} + n_{2} r_{23} + n_{3} r_{33}\\right) + r_{11} \\left(n_{1} r_{11} + n_{2} r_{21} + n_{3} r_{31}\\right) + r_{12} \\left(n_{1} r_{12} + n_{2} r_{22} + n_{3} r_{32}\\right)\\right) + m \\left(m_{p} r_{23} \\left(n_{1} r_{13} + n_{2} r_{23} + n_{3} r_{33}\\right) + r_{21} \\left(n_{1} r_{11} + n_{2} r_{21} + n_{3} r_{31}\\right) + r_{22} \\left(n_{1} r_{12} + n_{2} r_{22} + n_{3} r_{32}\\right)\\right) + n \\left(m_{p} r_{33} \\left(n_{1} r_{13} + n_{2} r_{23} + n_{3} r_{33}\\right) + r_{31} \\left(n_{1} r_{11} + n_{2} r_{21} + n_{3} r_{31}\\right) + r_{32} \\left(n_{1} r_{12} + n_{2} r_{22} + n_{3} r_{32}\\right)\\right)\\end{matrix}\\right]$$"
      ],
      "text/plain": [
       "[l⋅(m_p⋅r₁₃⋅(n₁⋅r₁₃ + n₂⋅r₂₃ + n₃⋅r₃₃) + r₁₁⋅(n₁⋅r₁₁ + n₂⋅r₂₁ + n₃⋅r₃₁) + r₁₂⋅\n",
       "(n₁⋅r₁₂ + n₂⋅r₂₂ + n₃⋅r₃₂)) + m⋅(m_p⋅r₂₃⋅(n₁⋅r₁₃ + n₂⋅r₂₃ + n₃⋅r₃₃) + r₂₁⋅(n₁⋅\n",
       "r₁₁ + n₂⋅r₂₁ + n₃⋅r₃₁) + r₂₂⋅(n₁⋅r₁₂ + n₂⋅r₂₂ + n₃⋅r₃₂)) + n⋅(m_p⋅r₃₃⋅(n₁⋅r₁₃ \n",
       "+ n₂⋅r₂₃ + n₃⋅r₃₃) + r₃₁⋅(n₁⋅r₁₁ + n₂⋅r₂₁ + n₃⋅r₃₁) + r₃₂⋅(n₁⋅r₁₂ + n₂⋅r₂₂ + n\n",
       "₃⋅r₃₂))]"
      ]
     },
     "execution_count": 68,
     "metadata": {},
     "output_type": "execute_result"
    }
   ],
   "source": [
    "N.T*R*Mp*R.T*L"
   ]
  },
  {
   "cell_type": "code",
   "execution_count": 69,
   "metadata": {
    "collapsed": false
   },
   "outputs": [
    {
     "data": {
      "text/latex": [
       "$$\\left[\\begin{matrix}l \\left(n_{1} \\left(m_{p} r_{13}^{2} + r_{11}^{2} + r_{12}^{2}\\right) + n_{2} \\left(m_{p} r_{13} r_{23} + r_{11} r_{21} + r_{12} r_{22}\\right) + n_{3} \\left(m_{p} r_{13} r_{33} + r_{11} r_{31} + r_{12} r_{32}\\right)\\right) + m \\left(n_{1} \\left(m_{p} r_{13} r_{23} + r_{11} r_{21} + r_{12} r_{22}\\right) + n_{2} \\left(m_{p} r_{23}^{2} + r_{21}^{2} + r_{22}^{2}\\right) + n_{3} \\left(m_{p} r_{23} r_{33} + r_{21} r_{31} + r_{22} r_{32}\\right)\\right) + n \\left(n_{1} \\left(m_{p} r_{13} r_{33} + r_{11} r_{31} + r_{12} r_{32}\\right) + n_{2} \\left(m_{p} r_{23} r_{33} + r_{21} r_{31} + r_{22} r_{32}\\right) + n_{3} \\left(m_{p} r_{33}^{2} + r_{31}^{2} + r_{32}^{2}\\right)\\right)\\end{matrix}\\right]$$"
      ],
      "text/plain": [
       "⎡  ⎛   ⎛       2      2      2⎞                                               \n",
       "⎣l⋅⎝n₁⋅⎝m_p⋅r₁₃  + r₁₁  + r₁₂ ⎠ + n₂⋅(m_p⋅r₁₃⋅r₂₃ + r₁₁⋅r₂₁ + r₁₂⋅r₂₂) + n₃⋅(m\n",
       "\n",
       "                               ⎞     ⎛                                        \n",
       "_p⋅r₁₃⋅r₃₃ + r₁₁⋅r₃₁ + r₁₂⋅r₃₂)⎠ + m⋅⎝n₁⋅(m_p⋅r₁₃⋅r₂₃ + r₁₁⋅r₂₁ + r₁₂⋅r₂₂) + n\n",
       "\n",
       "  ⎛       2      2      2⎞                                       ⎞     ⎛      \n",
       "₂⋅⎝m_p⋅r₂₃  + r₂₁  + r₂₂ ⎠ + n₃⋅(m_p⋅r₂₃⋅r₃₃ + r₂₁⋅r₃₁ + r₂₂⋅r₃₂)⎠ + n⋅⎝n₁⋅(m_\n",
       "\n",
       "                                                                           ⎛  \n",
       "p⋅r₁₃⋅r₃₃ + r₁₁⋅r₃₁ + r₁₂⋅r₃₂) + n₂⋅(m_p⋅r₂₃⋅r₃₃ + r₂₁⋅r₃₁ + r₂₂⋅r₃₂) + n₃⋅⎝m_\n",
       "\n",
       "     2      2      2⎞⎞⎤\n",
       "p⋅r₃₃  + r₃₁  + r₃₂ ⎠⎠⎦"
      ]
     },
     "execution_count": 69,
     "metadata": {},
     "output_type": "execute_result"
    }
   ],
   "source": [
    "(R*Mp*R.T*N).T*L"
   ]
  },
  {
   "cell_type": "code",
   "execution_count": 70,
   "metadata": {
    "collapsed": false
   },
   "outputs": [
    {
     "data": {
      "text/latex": [
       "$$0$$"
      ],
      "text/plain": [
       "0"
      ]
     },
     "execution_count": 70,
     "metadata": {},
     "output_type": "execute_result"
    }
   ],
   "source": [
    "(N.T*R*Mp*R.T*L)[0].expand() - ((R*Mp*R.T*N).T*L)[0].expand()"
   ]
  },
  {
   "cell_type": "code",
   "execution_count": 71,
   "metadata": {
    "collapsed": false
   },
   "outputs": [
    {
     "data": {
      "text/latex": [
       "$$\\left[\\begin{matrix}m_{p} r_{13}^{2} + r_{11}^{2} + r_{12}^{2} & m_{p} r_{13} r_{23} + r_{11} r_{21} + r_{12} r_{22} & m_{p} r_{13} r_{33} + r_{11} r_{31} + r_{12} r_{32}\\\\m_{p} r_{13} r_{23} + r_{11} r_{21} + r_{12} r_{22} & m_{p} r_{23}^{2} + r_{21}^{2} + r_{22}^{2} & m_{p} r_{23} r_{33} + r_{21} r_{31} + r_{22} r_{32}\\\\m_{p} r_{13} r_{33} + r_{11} r_{31} + r_{12} r_{32} & m_{p} r_{23} r_{33} + r_{21} r_{31} + r_{22} r_{32} & m_{p} r_{33}^{2} + r_{31}^{2} + r_{32}^{2}\\end{matrix}\\right]$$"
      ],
      "text/plain": [
       "⎡           2      2      2                                                   \n",
       "⎢    m_p⋅r₁₃  + r₁₁  + r₁₂        m_p⋅r₁₃⋅r₂₃ + r₁₁⋅r₂₁ + r₁₂⋅r₂₂  m_p⋅r₁₃⋅r₃₃\n",
       "⎢                                                                             \n",
       "⎢                                            2      2      2                  \n",
       "⎢m_p⋅r₁₃⋅r₂₃ + r₁₁⋅r₂₁ + r₁₂⋅r₂₂      m_p⋅r₂₃  + r₂₁  + r₂₂        m_p⋅r₂₃⋅r₃₃\n",
       "⎢                                                                             \n",
       "⎢                                                                             \n",
       "⎣m_p⋅r₁₃⋅r₃₃ + r₁₁⋅r₃₁ + r₁₂⋅r₃₂  m_p⋅r₂₃⋅r₃₃ + r₂₁⋅r₃₁ + r₂₂⋅r₃₂      m_p⋅r₃₃\n",
       "\n",
       "                    ⎤\n",
       " + r₁₁⋅r₃₁ + r₁₂⋅r₃₂⎥\n",
       "                    ⎥\n",
       "                    ⎥\n",
       " + r₂₁⋅r₃₁ + r₂₂⋅r₃₂⎥\n",
       "                    ⎥\n",
       "2      2      2     ⎥\n",
       "  + r₃₁  + r₃₂      ⎦"
      ]
     },
     "execution_count": 71,
     "metadata": {},
     "output_type": "execute_result"
    }
   ],
   "source": [
    "R*Mp*R.T"
   ]
  },
  {
   "cell_type": "code",
   "execution_count": 72,
   "metadata": {
    "collapsed": false
   },
   "outputs": [
    {
     "data": {
      "text/latex": [
       "$$\\left[\\begin{matrix}m_{p} r_{13} r_{33} + r_{11} r_{31} + r_{12} r_{32}\\\\m_{p} r_{23} r_{33} + r_{21} r_{31} + r_{22} r_{32}\\\\m_{p} r_{33}^{2} + r_{31}^{2} + r_{32}^{2}\\end{matrix}\\right]$$"
      ],
      "text/plain": [
       "⎡m_p⋅r₁₃⋅r₃₃ + r₁₁⋅r₃₁ + r₁₂⋅r₃₂⎤\n",
       "⎢                               ⎥\n",
       "⎢m_p⋅r₂₃⋅r₃₃ + r₂₁⋅r₃₁ + r₂₂⋅r₃₂⎥\n",
       "⎢                               ⎥\n",
       "⎢           2      2      2     ⎥\n",
       "⎣    m_p⋅r₃₃  + r₃₁  + r₃₂      ⎦"
      ]
     },
     "execution_count": 72,
     "metadata": {},
     "output_type": "execute_result"
    }
   ],
   "source": [
    "(R*Mp*R.T*N).subs({n1:0, n2:0, n3:1})"
   ]
  },
  {
   "cell_type": "code",
   "execution_count": 73,
   "metadata": {
    "collapsed": false
   },
   "outputs": [
    {
     "data": {
      "text/latex": [
       "$$\\left[\\begin{matrix}r_{11} & r_{12} & m_{p} r_{13}\\\\r_{21} & r_{22} & m_{p} r_{23}\\\\r_{31} & r_{32} & m_{p} r_{33}\\end{matrix}\\right]$$"
      ],
      "text/plain": [
       "⎡r₁₁  r₁₂  m_p⋅r₁₃⎤\n",
       "⎢                 ⎥\n",
       "⎢r₂₁  r₂₂  m_p⋅r₂₃⎥\n",
       "⎢                 ⎥\n",
       "⎣r₃₁  r₃₂  m_p⋅r₃₃⎦"
      ]
     },
     "execution_count": 73,
     "metadata": {},
     "output_type": "execute_result"
    }
   ],
   "source": [
    "R*Mp"
   ]
  },
  {
   "cell_type": "code",
   "execution_count": 74,
   "metadata": {
    "collapsed": false
   },
   "outputs": [
    {
     "data": {
      "text/latex": [
       "$$\\left[\\begin{matrix}r_{11} & r_{21} & r_{31}\\\\r_{12} & r_{22} & r_{32}\\\\m_{p} r_{13} & m_{p} r_{23} & m_{p} r_{33}\\end{matrix}\\right]$$"
      ],
      "text/plain": [
       "⎡  r₁₁      r₂₁      r₃₁  ⎤\n",
       "⎢                         ⎥\n",
       "⎢  r₁₂      r₂₂      r₃₂  ⎥\n",
       "⎢                         ⎥\n",
       "⎣m_p⋅r₁₃  m_p⋅r₂₃  m_p⋅r₃₃⎦"
      ]
     },
     "execution_count": 74,
     "metadata": {},
     "output_type": "execute_result"
    }
   ],
   "source": [
    "Mp*R.T"
   ]
  },
  {
   "cell_type": "code",
   "execution_count": 75,
   "metadata": {
    "collapsed": false
   },
   "outputs": [
    {
     "data": {
      "text/latex": [
       "$$\\left[\\begin{matrix}m_{p} r_{13} r_{33} + r_{11} r_{31} + r_{12} r_{32}\\\\m_{p} r_{23} r_{33} + r_{21} r_{31} + r_{22} r_{32}\\\\m_{p} r_{33}^{2} + r_{31}^{2} + r_{32}^{2}\\end{matrix}\\right]$$"
      ],
      "text/plain": [
       "⎡m_p⋅r₁₃⋅r₃₃ + r₁₁⋅r₃₁ + r₁₂⋅r₃₂⎤\n",
       "⎢                               ⎥\n",
       "⎢m_p⋅r₂₃⋅r₃₃ + r₂₁⋅r₃₁ + r₂₂⋅r₃₂⎥\n",
       "⎢                               ⎥\n",
       "⎢           2      2      2     ⎥\n",
       "⎣    m_p⋅r₃₃  + r₃₁  + r₃₂      ⎦"
      ]
     },
     "execution_count": 75,
     "metadata": {},
     "output_type": "execute_result"
    }
   ],
   "source": [
    "R*Mp*R.T*c_z"
   ]
  },
  {
   "cell_type": "code",
   "execution_count": 76,
   "metadata": {
    "collapsed": false
   },
   "outputs": [
    {
     "data": {
      "text/latex": [
       "$$\\left[\\begin{matrix}m_{1} \\left(n_{1} r_{13} + n_{2} r_{23} + n_{3} r_{33}\\right)\\\\m_{2} \\left(n_{1} r_{13} + n_{2} r_{23} + n_{3} r_{33}\\right)\\\\m_{3} \\left(n_{1} r_{13} + n_{2} r_{23} + n_{3} r_{33}\\right)\\end{matrix}\\right]$$"
      ],
      "text/plain": [
       "⎡m₁⋅(n₁⋅r₁₃ + n₂⋅r₂₃ + n₃⋅r₃₃)⎤\n",
       "⎢                             ⎥\n",
       "⎢m₂⋅(n₁⋅r₁₃ + n₂⋅r₂₃ + n₃⋅r₃₃)⎥\n",
       "⎢                             ⎥\n",
       "⎣m₃⋅(n₁⋅r₁₃ + n₂⋅r₂₃ + n₃⋅r₃₃)⎦"
      ]
     },
     "execution_count": 76,
     "metadata": {},
     "output_type": "execute_result"
    }
   ],
   "source": [
    "r = R[:, 2]\n",
    "((N.T*r)[0])*M"
   ]
  },
  {
   "cell_type": "code",
   "execution_count": 77,
   "metadata": {
    "collapsed": false
   },
   "outputs": [
    {
     "data": {
      "text/latex": [
       "$$\\left[\\begin{matrix}m_{1} n_{1} r_{13} + m_{1} n_{2} r_{23} + m_{1} n_{3} r_{33}\\\\m_{2} n_{1} r_{13} + m_{2} n_{2} r_{23} + m_{2} n_{3} r_{33}\\\\m_{3} n_{1} r_{13} + m_{3} n_{2} r_{23} + m_{3} n_{3} r_{33}\\end{matrix}\\right]$$"
      ],
      "text/plain": [
       "⎡m₁⋅n₁⋅r₁₃ + m₁⋅n₂⋅r₂₃ + m₁⋅n₃⋅r₃₃⎤\n",
       "⎢                                 ⎥\n",
       "⎢m₂⋅n₁⋅r₁₃ + m₂⋅n₂⋅r₂₃ + m₂⋅n₃⋅r₃₃⎥\n",
       "⎢                                 ⎥\n",
       "⎣m₃⋅n₁⋅r₁₃ + m₃⋅n₂⋅r₂₃ + m₃⋅n₃⋅r₃₃⎦"
      ]
     },
     "execution_count": 77,
     "metadata": {},
     "output_type": "execute_result"
    }
   ],
   "source": [
    "M*(r.T)*N"
   ]
  },
  {
   "cell_type": "markdown",
   "metadata": {},
   "source": [
    "Confirming \n",
    "\n",
    "$$\n",
    "r_{l,3}^T \\left( R_l M_p R_l^T n_i \\right) = m_p r_{l,3} ^T n_i\n",
    "$$"
   ]
  },
  {
   "cell_type": "code",
   "execution_count": 78,
   "metadata": {
    "collapsed": false
   },
   "outputs": [],
   "source": [
    "R = R_ox*R_oy\n",
    "#R = sy.eye(3)\n",
    "P = R*Mp*R.T\n",
    "r1 = R[:,0]\n",
    "r2 = R[:,1]\n",
    "r3 = R[:,2]"
   ]
  },
  {
   "cell_type": "code",
   "execution_count": 79,
   "metadata": {
    "collapsed": false
   },
   "outputs": [
    {
     "data": {
      "text/latex": [
       "$$\\left[\\begin{matrix}\\cos{\\left (\\beta_{x} \\right )} & 0 & \\sin{\\left (\\beta_{x} \\right )}\\\\\\sin{\\left (\\beta_{x} \\right )} \\sin{\\left (\\beta_{y} \\right )} & \\cos{\\left (\\beta_{y} \\right )} & - \\sin{\\left (\\beta_{y} \\right )} \\cos{\\left (\\beta_{x} \\right )}\\\\- \\sin{\\left (\\beta_{x} \\right )} \\cos{\\left (\\beta_{y} \\right )} & \\sin{\\left (\\beta_{y} \\right )} & \\cos{\\left (\\beta_{x} \\right )} \\cos{\\left (\\beta_{y} \\right )}\\end{matrix}\\right]$$"
      ],
      "text/plain": [
       "⎡     cos(βₓ)          0           sin(βₓ)     ⎤\n",
       "⎢                                              ⎥\n",
       "⎢sin(βₓ)⋅sin(β_y)   cos(β_y)  -sin(β_y)⋅cos(βₓ)⎥\n",
       "⎢                                              ⎥\n",
       "⎣-sin(βₓ)⋅cos(β_y)  sin(β_y)  cos(βₓ)⋅cos(β_y) ⎦"
      ]
     },
     "execution_count": 79,
     "metadata": {},
     "output_type": "execute_result"
    }
   ],
   "source": [
    "R"
   ]
  },
  {
   "cell_type": "code",
   "execution_count": 80,
   "metadata": {
    "collapsed": false
   },
   "outputs": [
    {
     "data": {
      "text/latex": [
       "$$\\left ( \\left[\\begin{matrix}\\cos{\\left (\\beta_{x} \\right )}\\\\\\sin{\\left (\\beta_{x} \\right )} \\sin{\\left (\\beta_{y} \\right )}\\\\- \\sin{\\left (\\beta_{x} \\right )} \\cos{\\left (\\beta_{y} \\right )}\\end{matrix}\\right], \\quad \\left[\\begin{matrix}0\\\\\\cos{\\left (\\beta_{y} \\right )}\\\\\\sin{\\left (\\beta_{y} \\right )}\\end{matrix}\\right], \\quad \\left[\\begin{matrix}\\sin{\\left (\\beta_{x} \\right )}\\\\- \\sin{\\left (\\beta_{y} \\right )} \\cos{\\left (\\beta_{x} \\right )}\\\\\\cos{\\left (\\beta_{x} \\right )} \\cos{\\left (\\beta_{y} \\right )}\\end{matrix}\\right]\\right )$$"
      ],
      "text/plain": [
       "⎛⎡     cos(βₓ)     ⎤, ⎡   0    ⎤, ⎡     sin(βₓ)     ⎤⎞\n",
       "⎜⎢                 ⎥  ⎢        ⎥  ⎢                 ⎥⎟\n",
       "⎜⎢sin(βₓ)⋅sin(β_y) ⎥  ⎢cos(β_y)⎥  ⎢-sin(β_y)⋅cos(βₓ)⎥⎟\n",
       "⎜⎢                 ⎥  ⎢        ⎥  ⎢                 ⎥⎟\n",
       "⎝⎣-sin(βₓ)⋅cos(β_y)⎦  ⎣sin(β_y)⎦  ⎣cos(βₓ)⋅cos(β_y) ⎦⎠"
      ]
     },
     "execution_count": 80,
     "metadata": {},
     "output_type": "execute_result"
    }
   ],
   "source": [
    "r1, r2, r3"
   ]
  },
  {
   "cell_type": "code",
   "execution_count": 81,
   "metadata": {
    "collapsed": false
   },
   "outputs": [
    {
     "data": {
      "text/latex": [
       "$$\\left ( \\left[\\begin{matrix}1\\end{matrix}\\right], \\quad \\left[\\begin{matrix}1\\end{matrix}\\right], \\quad \\left[\\begin{matrix}1\\end{matrix}\\right]\\right )$$"
      ],
      "text/plain": [
       "([1], [1], [1])"
      ]
     },
     "execution_count": 81,
     "metadata": {},
     "output_type": "execute_result"
    }
   ],
   "source": [
    "# orthonormal vectors\n",
    "sy.simplify(r1.T*r1), sy.simplify(r3.T*r3), sy.simplify(r3.T*r3)"
   ]
  },
  {
   "cell_type": "code",
   "execution_count": 82,
   "metadata": {
    "collapsed": false
   },
   "outputs": [
    {
     "data": {
      "text/latex": [
       "$$\\left ( \\left[\\begin{matrix}0\\end{matrix}\\right], \\quad \\left[\\begin{matrix}0\\end{matrix}\\right], \\quad \\left[\\begin{matrix}0\\end{matrix}\\right], \\quad \\left[\\begin{matrix}0\\end{matrix}\\right], \\quad \\left[\\begin{matrix}0\\end{matrix}\\right]\\right )$$"
      ],
      "text/plain": [
       "([0], [0], [0], [0], [0])"
      ]
     },
     "execution_count": 82,
     "metadata": {},
     "output_type": "execute_result"
    }
   ],
   "source": [
    "# orthonormal vectors\n",
    "sy.simplify(r2.T*r3), sy.simplify(r1.T*r2), sy.simplify(r1.T*r3), sy.simplify(r3.T*r1), sy.simplify(r3.T*r2)"
   ]
  },
  {
   "cell_type": "code",
   "execution_count": 83,
   "metadata": {
    "collapsed": false
   },
   "outputs": [
    {
     "data": {
      "text/latex": [
       "$$\\left[\\begin{matrix}m_{p} \\sin^{2}{\\left (\\beta_{x} \\right )} + \\cos^{2}{\\left (\\beta_{x} \\right )} & - m_{p} \\sin{\\left (\\beta_{x} \\right )} \\sin{\\left (\\beta_{y} \\right )} \\cos{\\left (\\beta_{x} \\right )} + \\sin{\\left (\\beta_{x} \\right )} \\sin{\\left (\\beta_{y} \\right )} \\cos{\\left (\\beta_{x} \\right )} & m_{p} \\sin{\\left (\\beta_{x} \\right )} \\cos{\\left (\\beta_{x} \\right )} \\cos{\\left (\\beta_{y} \\right )} - \\sin{\\left (\\beta_{x} \\right )} \\cos{\\left (\\beta_{x} \\right )} \\cos{\\left (\\beta_{y} \\right )}\\\\- m_{p} \\sin{\\left (\\beta_{x} \\right )} \\sin{\\left (\\beta_{y} \\right )} \\cos{\\left (\\beta_{x} \\right )} + \\sin{\\left (\\beta_{x} \\right )} \\sin{\\left (\\beta_{y} \\right )} \\cos{\\left (\\beta_{x} \\right )} & m_{p} \\sin^{2}{\\left (\\beta_{y} \\right )} \\cos^{2}{\\left (\\beta_{x} \\right )} + \\sin^{2}{\\left (\\beta_{x} \\right )} \\sin^{2}{\\left (\\beta_{y} \\right )} + \\cos^{2}{\\left (\\beta_{y} \\right )} & - m_{p} \\sin{\\left (\\beta_{y} \\right )} \\cos^{2}{\\left (\\beta_{x} \\right )} \\cos{\\left (\\beta_{y} \\right )} - \\sin^{2}{\\left (\\beta_{x} \\right )} \\sin{\\left (\\beta_{y} \\right )} \\cos{\\left (\\beta_{y} \\right )} + \\sin{\\left (\\beta_{y} \\right )} \\cos{\\left (\\beta_{y} \\right )}\\\\m_{p} \\sin{\\left (\\beta_{x} \\right )} \\cos{\\left (\\beta_{x} \\right )} \\cos{\\left (\\beta_{y} \\right )} - \\sin{\\left (\\beta_{x} \\right )} \\cos{\\left (\\beta_{x} \\right )} \\cos{\\left (\\beta_{y} \\right )} & - m_{p} \\sin{\\left (\\beta_{y} \\right )} \\cos^{2}{\\left (\\beta_{x} \\right )} \\cos{\\left (\\beta_{y} \\right )} - \\sin^{2}{\\left (\\beta_{x} \\right )} \\sin{\\left (\\beta_{y} \\right )} \\cos{\\left (\\beta_{y} \\right )} + \\sin{\\left (\\beta_{y} \\right )} \\cos{\\left (\\beta_{y} \\right )} & m_{p} \\cos^{2}{\\left (\\beta_{x} \\right )} \\cos^{2}{\\left (\\beta_{y} \\right )} + \\sin^{2}{\\left (\\beta_{x} \\right )} \\cos^{2}{\\left (\\beta_{y} \\right )} + \\sin^{2}{\\left (\\beta_{y} \\right )}\\end{matrix}\\right]$$"
      ],
      "text/plain": [
       "⎡                       2          2                                          \n",
       "⎢                m_p⋅sin (βₓ) + cos (βₓ)                               -m_p⋅si\n",
       "⎢                                                                             \n",
       "⎢                                                                             \n",
       "⎢-m_p⋅sin(βₓ)⋅sin(β_y)⋅cos(βₓ) + sin(βₓ)⋅sin(β_y)⋅cos(βₓ)               m_p⋅si\n",
       "⎢                                                                             \n",
       "⎢                                                                            2\n",
       "⎣m_p⋅sin(βₓ)⋅cos(βₓ)⋅cos(β_y) - sin(βₓ)⋅cos(βₓ)⋅cos(β_y)   - m_p⋅sin(β_y)⋅cos \n",
       "\n",
       "                                                                              \n",
       "n(βₓ)⋅sin(β_y)⋅cos(βₓ) + sin(βₓ)⋅sin(β_y)⋅cos(βₓ)                            m\n",
       "                                                                              \n",
       " 2         2          2        2           2                                  \n",
       "n (β_y)⋅cos (βₓ) + sin (βₓ)⋅sin (β_y) + cos (β_y)               - m_p⋅sin(β_y)\n",
       "                                                                              \n",
       "                   2                                                          \n",
       "(βₓ)⋅cos(β_y) - sin (βₓ)⋅sin(β_y)⋅cos(β_y) + sin(β_y)⋅cos(β_y)               m\n",
       "\n",
       "                                                                   ⎤\n",
       "_p⋅sin(βₓ)⋅cos(βₓ)⋅cos(β_y) - sin(βₓ)⋅cos(βₓ)⋅cos(β_y)             ⎥\n",
       "                                                                   ⎥\n",
       "    2                   2                                          ⎥\n",
       "⋅cos (βₓ)⋅cos(β_y) - sin (βₓ)⋅sin(β_y)⋅cos(β_y) + sin(β_y)⋅cos(β_y)⎥\n",
       "                                                                   ⎥\n",
       "      2        2           2        2           2                  ⎥\n",
       "_p⋅cos (βₓ)⋅cos (β_y) + sin (βₓ)⋅cos (β_y) + sin (β_y)             ⎦"
      ]
     },
     "execution_count": 83,
     "metadata": {},
     "output_type": "execute_result"
    }
   ],
   "source": [
    "P"
   ]
  },
  {
   "cell_type": "code",
   "execution_count": 84,
   "metadata": {
    "collapsed": false
   },
   "outputs": [
    {
     "data": {
      "text/latex": [
       "$$\\left[\\begin{matrix}m_{p} \\sin^{2}{\\left (\\beta_{x} \\right )} + \\cos^{2}{\\left (\\beta_{x} \\right )} & - m_{p} \\sin{\\left (\\beta_{x} \\right )} \\sin{\\left (\\beta_{y} \\right )} \\cos{\\left (\\beta_{x} \\right )} + \\sin{\\left (\\beta_{x} \\right )} \\sin{\\left (\\beta_{y} \\right )} \\cos{\\left (\\beta_{x} \\right )} & m_{p} \\sin{\\left (\\beta_{x} \\right )} \\cos{\\left (\\beta_{x} \\right )} \\cos{\\left (\\beta_{y} \\right )} - \\sin{\\left (\\beta_{x} \\right )} \\cos{\\left (\\beta_{x} \\right )} \\cos{\\left (\\beta_{y} \\right )}\\\\- m_{p} \\sin{\\left (\\beta_{x} \\right )} \\sin{\\left (\\beta_{y} \\right )} \\cos{\\left (\\beta_{x} \\right )} + \\sin{\\left (\\beta_{x} \\right )} \\sin{\\left (\\beta_{y} \\right )} \\cos{\\left (\\beta_{x} \\right )} & m_{p} \\sin^{2}{\\left (\\beta_{y} \\right )} \\cos^{2}{\\left (\\beta_{x} \\right )} + \\sin^{2}{\\left (\\beta_{x} \\right )} \\sin^{2}{\\left (\\beta_{y} \\right )} + \\cos^{2}{\\left (\\beta_{y} \\right )} & - m_{p} \\sin{\\left (\\beta_{y} \\right )} \\cos^{2}{\\left (\\beta_{x} \\right )} \\cos{\\left (\\beta_{y} \\right )} - \\sin^{2}{\\left (\\beta_{x} \\right )} \\sin{\\left (\\beta_{y} \\right )} \\cos{\\left (\\beta_{y} \\right )} + \\sin{\\left (\\beta_{y} \\right )} \\cos{\\left (\\beta_{y} \\right )}\\\\m_{p} \\sin{\\left (\\beta_{x} \\right )} \\cos{\\left (\\beta_{x} \\right )} \\cos{\\left (\\beta_{y} \\right )} - \\sin{\\left (\\beta_{x} \\right )} \\cos{\\left (\\beta_{x} \\right )} \\cos{\\left (\\beta_{y} \\right )} & - m_{p} \\sin{\\left (\\beta_{y} \\right )} \\cos^{2}{\\left (\\beta_{x} \\right )} \\cos{\\left (\\beta_{y} \\right )} - \\sin^{2}{\\left (\\beta_{x} \\right )} \\sin{\\left (\\beta_{y} \\right )} \\cos{\\left (\\beta_{y} \\right )} + \\sin{\\left (\\beta_{y} \\right )} \\cos{\\left (\\beta_{y} \\right )} & m_{p} \\cos^{2}{\\left (\\beta_{x} \\right )} \\cos^{2}{\\left (\\beta_{y} \\right )} + \\sin^{2}{\\left (\\beta_{x} \\right )} \\cos^{2}{\\left (\\beta_{y} \\right )} + \\sin^{2}{\\left (\\beta_{y} \\right )}\\end{matrix}\\right]$$"
      ],
      "text/plain": [
       "⎡                       2          2                                          \n",
       "⎢                m_p⋅sin (βₓ) + cos (βₓ)                               -m_p⋅si\n",
       "⎢                                                                             \n",
       "⎢                                                                             \n",
       "⎢-m_p⋅sin(βₓ)⋅sin(β_y)⋅cos(βₓ) + sin(βₓ)⋅sin(β_y)⋅cos(βₓ)               m_p⋅si\n",
       "⎢                                                                             \n",
       "⎢                                                                            2\n",
       "⎣m_p⋅sin(βₓ)⋅cos(βₓ)⋅cos(β_y) - sin(βₓ)⋅cos(βₓ)⋅cos(β_y)   - m_p⋅sin(β_y)⋅cos \n",
       "\n",
       "                                                                              \n",
       "n(βₓ)⋅sin(β_y)⋅cos(βₓ) + sin(βₓ)⋅sin(β_y)⋅cos(βₓ)                            m\n",
       "                                                                              \n",
       " 2         2          2        2           2                                  \n",
       "n (β_y)⋅cos (βₓ) + sin (βₓ)⋅sin (β_y) + cos (β_y)               - m_p⋅sin(β_y)\n",
       "                                                                              \n",
       "                   2                                                          \n",
       "(βₓ)⋅cos(β_y) - sin (βₓ)⋅sin(β_y)⋅cos(β_y) + sin(β_y)⋅cos(β_y)               m\n",
       "\n",
       "                                                                   ⎤\n",
       "_p⋅sin(βₓ)⋅cos(βₓ)⋅cos(β_y) - sin(βₓ)⋅cos(βₓ)⋅cos(β_y)             ⎥\n",
       "                                                                   ⎥\n",
       "    2                   2                                          ⎥\n",
       "⋅cos (βₓ)⋅cos(β_y) - sin (βₓ)⋅sin(β_y)⋅cos(β_y) + sin(β_y)⋅cos(β_y)⎥\n",
       "                                                                   ⎥\n",
       "      2        2           2        2           2                  ⎥\n",
       "_p⋅cos (βₓ)⋅cos (β_y) + sin (βₓ)⋅cos (β_y) + sin (β_y)             ⎦"
      ]
     },
     "execution_count": 84,
     "metadata": {},
     "output_type": "execute_result"
    }
   ],
   "source": [
    "eigDecomp = r1*r1.T + r2*r2.T + mp*r3*r3.T\n",
    "eigDecomp"
   ]
  },
  {
   "cell_type": "code",
   "execution_count": 85,
   "metadata": {
    "collapsed": false
   },
   "outputs": [
    {
     "data": {
      "text/latex": [
       "$$\\left[\\begin{matrix}0 & 0 & 0\\\\0 & 0 & 0\\\\0 & 0 & 0\\end{matrix}\\right]$$"
      ],
      "text/plain": [
       "⎡0  0  0⎤\n",
       "⎢       ⎥\n",
       "⎢0  0  0⎥\n",
       "⎢       ⎥\n",
       "⎣0  0  0⎦"
      ]
     },
     "execution_count": 85,
     "metadata": {},
     "output_type": "execute_result"
    }
   ],
   "source": [
    "P - eigDecomp"
   ]
  },
  {
   "cell_type": "code",
   "execution_count": 86,
   "metadata": {
    "collapsed": false
   },
   "outputs": [
    {
     "data": {
      "text/latex": [
       "$$\\left[\\begin{matrix}m_{p} \\left(n_{1} \\sin{\\left (\\beta_{x} \\right )} - n_{2} \\sin{\\left (\\beta_{y} \\right )} \\cos{\\left (\\beta_{x} \\right )} + n_{3} \\cos{\\left (\\beta_{x} \\right )} \\cos{\\left (\\beta_{y} \\right )}\\right)\\end{matrix}\\right]$$"
      ],
      "text/plain": [
       "[m_p⋅(n₁⋅sin(βₓ) - n₂⋅sin(β_y)⋅cos(βₓ) + n₃⋅cos(βₓ)⋅cos(β_y))]"
      ]
     },
     "execution_count": 86,
     "metadata": {},
     "output_type": "execute_result"
    }
   ],
   "source": [
    "sy.simplify(r3.T*eigDecomp*N)"
   ]
  },
  {
   "cell_type": "code",
   "execution_count": 87,
   "metadata": {
    "collapsed": false
   },
   "outputs": [
    {
     "data": {
      "text/latex": [
       "$$\\left[\\begin{matrix}m_{p} \\left(n_{1} \\sin{\\left (\\beta_{x} \\right )} - n_{2} \\sin{\\left (\\beta_{y} \\right )} \\cos{\\left (\\beta_{x} \\right )} + n_{3} \\cos{\\left (\\beta_{x} \\right )} \\cos{\\left (\\beta_{y} \\right )}\\right)\\end{matrix}\\right]$$"
      ],
      "text/plain": [
       "[m_p⋅(n₁⋅sin(βₓ) - n₂⋅sin(β_y)⋅cos(βₓ) + n₃⋅cos(βₓ)⋅cos(β_y))]"
      ]
     },
     "execution_count": 87,
     "metadata": {},
     "output_type": "execute_result"
    }
   ],
   "source": [
    "sy.simplify(r3.T*P*N)"
   ]
  },
  {
   "cell_type": "code",
   "execution_count": 88,
   "metadata": {
    "collapsed": false
   },
   "outputs": [
    {
     "data": {
      "text/latex": [
       "$$\\left[\\begin{matrix}m_{p} \\left(n_{1} \\sin{\\left (\\beta_{x} \\right )} - n_{2} \\sin{\\left (\\beta_{y} \\right )} \\cos{\\left (\\beta_{x} \\right )} + n_{3} \\cos{\\left (\\beta_{x} \\right )} \\cos{\\left (\\beta_{y} \\right )}\\right)\\end{matrix}\\right]$$"
      ],
      "text/plain": [
       "[m_p⋅(n₁⋅sin(βₓ) - n₂⋅sin(β_y)⋅cos(βₓ) + n₃⋅cos(βₓ)⋅cos(β_y))]"
      ]
     },
     "execution_count": 88,
     "metadata": {},
     "output_type": "execute_result"
    }
   ],
   "source": [
    "sy.simplify(r3.T*(mp*r3*r3.T*N))"
   ]
  },
  {
   "cell_type": "code",
   "execution_count": 89,
   "metadata": {
    "collapsed": false
   },
   "outputs": [
    {
     "data": {
      "text/latex": [
       "$$\\left[\\begin{matrix}m_{p} \\left(n_{1} \\sin{\\left (\\beta_{x} \\right )} - n_{2} \\sin{\\left (\\beta_{y} \\right )} \\cos{\\left (\\beta_{x} \\right )} + n_{3} \\cos{\\left (\\beta_{x} \\right )} \\cos{\\left (\\beta_{y} \\right )}\\right)\\end{matrix}\\right]$$"
      ],
      "text/plain": [
       "[m_p⋅(n₁⋅sin(βₓ) - n₂⋅sin(β_y)⋅cos(βₓ) + n₃⋅cos(βₓ)⋅cos(β_y))]"
      ]
     },
     "execution_count": 89,
     "metadata": {},
     "output_type": "execute_result"
    }
   ],
   "source": [
    "sy.simplify(mp*r3.T*N)"
   ]
  },
  {
   "cell_type": "code",
   "execution_count": 90,
   "metadata": {
    "collapsed": false
   },
   "outputs": [
    {
     "data": {
      "text/latex": [
       "$$\\left[\\begin{matrix}0 & \\sin{\\left (\\beta_{x} \\right )} \\cos{\\left (\\beta_{y} \\right )} & \\sin{\\left (\\beta_{x} \\right )} \\sin{\\left (\\beta_{y} \\right )}\\\\0 & \\frac{1}{4} \\sin{\\left (\\beta_{x} - 2 \\beta_{y} \\right )} - \\frac{1}{4} \\sin{\\left (\\beta_{x} + 2 \\beta_{y} \\right )} & - \\sin^{2}{\\left (\\beta_{y} \\right )} \\cos{\\left (\\beta_{x} \\right )}\\\\0 & \\cos{\\left (\\beta_{x} \\right )} \\cos^{2}{\\left (\\beta_{y} \\right )} & \\sin{\\left (\\beta_{y} \\right )} \\cos{\\left (\\beta_{x} \\right )} \\cos{\\left (\\beta_{y} \\right )}\\end{matrix}\\right]$$"
      ],
      "text/plain": [
       "⎡0          sin(βₓ)⋅cos(β_y)               sin(βₓ)⋅sin(β_y)     ⎤\n",
       "⎢                                                               ⎥\n",
       "⎢   sin(βₓ - 2⋅β_y)   sin(βₓ + 2⋅β_y)         2                 ⎥\n",
       "⎢0  ─────────────── - ───────────────     -sin (β_y)⋅cos(βₓ)    ⎥\n",
       "⎢          4                 4                                  ⎥\n",
       "⎢                                                               ⎥\n",
       "⎢                      2                                        ⎥\n",
       "⎣0          cos(βₓ)⋅cos (β_y)          sin(β_y)⋅cos(βₓ)⋅cos(β_y)⎦"
      ]
     },
     "execution_count": 90,
     "metadata": {},
     "output_type": "execute_result"
    }
   ],
   "source": [
    "sy.simplify(r3*r2.T)"
   ]
  },
  {
   "cell_type": "code",
   "execution_count": null,
   "metadata": {
    "collapsed": true
   },
   "outputs": [],
   "source": []
  },
  {
   "cell_type": "code",
   "execution_count": 117,
   "metadata": {
    "collapsed": false
   },
   "outputs": [
    {
     "data": {
      "text/latex": [
       "$$\\left[\\begin{matrix}\\cos{\\left (\\beta_{x} \\right )} & 0 & \\sin{\\left (\\beta_{x} \\right )}\\\\\\sin{\\left (\\beta_{x} \\right )} \\sin{\\left (\\beta_{y} \\right )} & \\cos{\\left (\\beta_{y} \\right )} & - \\sin{\\left (\\beta_{y} \\right )} \\cos{\\left (\\beta_{x} \\right )}\\\\- \\sin{\\left (\\beta_{x} \\right )} \\cos{\\left (\\beta_{y} \\right )} & \\sin{\\left (\\beta_{y} \\right )} & \\cos{\\left (\\beta_{x} \\right )} \\cos{\\left (\\beta_{y} \\right )}\\end{matrix}\\right]$$"
      ],
      "text/plain": [
       "⎡     cos(βₓ)          0           sin(βₓ)     ⎤\n",
       "⎢                                              ⎥\n",
       "⎢sin(βₓ)⋅sin(β_y)   cos(β_y)  -sin(β_y)⋅cos(βₓ)⎥\n",
       "⎢                                              ⎥\n",
       "⎣-sin(βₓ)⋅cos(β_y)  sin(β_y)  cos(βₓ)⋅cos(β_y) ⎦"
      ]
     },
     "execution_count": 117,
     "metadata": {},
     "output_type": "execute_result"
    }
   ],
   "source": [
    "R"
   ]
  },
  {
   "cell_type": "code",
   "execution_count": null,
   "metadata": {
    "collapsed": true
   },
   "outputs": [],
   "source": [
    "n_i.T*(R_l*Mp*R_l.T)*E*X"
   ]
  },
  {
   "cell_type": "code",
   "execution_count": null,
   "metadata": {
    "collapsed": true
   },
   "outputs": [],
   "source": []
  },
  {
   "cell_type": "markdown",
   "metadata": {},
   "source": [
    "Converting matrices to homogeneous coordinates"
   ]
  },
  {
   "cell_type": "markdown",
   "metadata": {},
   "source": [
    "if $A\\mathbf{x}=\\mathb$"
   ]
  },
  {
   "cell_type": "code",
   "execution_count": 91,
   "metadata": {
    "collapsed": false
   },
   "outputs": [
    {
     "data": {
      "text/latex": [
       "$$\\left[\\begin{matrix}a_{11} & a_{12} & a_{13}\\\\a_{21} & a_{22} & a_{23}\\\\a_{31} & a_{32} & a_{33}\\end{matrix}\\right]$$"
      ],
      "text/plain": [
       "⎡a₁₁  a₁₂  a₁₃⎤\n",
       "⎢             ⎥\n",
       "⎢a₂₁  a₂₂  a₂₃⎥\n",
       "⎢             ⎥\n",
       "⎣a₃₁  a₃₂  a₃₃⎦"
      ]
     },
     "execution_count": 91,
     "metadata": {},
     "output_type": "execute_result"
    }
   ],
   "source": [
    "row1 = sy.symbols('a1(1:4)', real=True, positive=True)\n",
    "row2 = sy.symbols('a2(1:4)', real=True, positive=True)\n",
    "row3 = sy.symbols('a3(1:4)', real=True, positive=True)\n",
    "A = sy.Matrix((row1, row2, row3))\n",
    "A"
   ]
  },
  {
   "cell_type": "code",
   "execution_count": 92,
   "metadata": {
    "collapsed": false
   },
   "outputs": [],
   "source": [
    "(x11, x12, x13) = sy.symbols('x(1:4)', real=True, positive=True)"
   ]
  },
  {
   "cell_type": "code",
   "execution_count": 93,
   "metadata": {
    "collapsed": false
   },
   "outputs": [
    {
     "data": {
      "text/latex": [
       "$$\\left[\\begin{matrix}x_{1}\\\\x_{2}\\\\x_{3}\\end{matrix}\\right]$$"
      ],
      "text/plain": [
       "⎡x₁⎤\n",
       "⎢  ⎥\n",
       "⎢x₂⎥\n",
       "⎢  ⎥\n",
       "⎣x₃⎦"
      ]
     },
     "execution_count": 93,
     "metadata": {},
     "output_type": "execute_result"
    }
   ],
   "source": [
    "x = sy.Matrix([[x11], [x12], [x13]])\n",
    "x"
   ]
  },
  {
   "cell_type": "code",
   "execution_count": 94,
   "metadata": {
    "collapsed": false
   },
   "outputs": [
    {
     "data": {
      "text/latex": [
       "$$\\left[\\begin{matrix}a_{11} x_{1} + a_{12} x_{2} + a_{13} x_{3}\\\\a_{21} x_{1} + a_{22} x_{2} + a_{23} x_{3}\\\\a_{31} x_{1} + a_{32} x_{2} + a_{33} x_{3}\\end{matrix}\\right]$$"
      ],
      "text/plain": [
       "⎡a₁₁⋅x₁ + a₁₂⋅x₂ + a₁₃⋅x₃⎤\n",
       "⎢                        ⎥\n",
       "⎢a₂₁⋅x₁ + a₂₂⋅x₂ + a₂₃⋅x₃⎥\n",
       "⎢                        ⎥\n",
       "⎣a₃₁⋅x₁ + a₃₂⋅x₂ + a₃₃⋅x₃⎦"
      ]
     },
     "execution_count": 94,
     "metadata": {},
     "output_type": "execute_result"
    }
   ],
   "source": [
    "b = A*x\n",
    "b"
   ]
  },
  {
   "cell_type": "code",
   "execution_count": 95,
   "metadata": {
    "collapsed": false
   },
   "outputs": [
    {
     "data": {
      "text/latex": [
       "$$\\left[\\begin{matrix}a_{11} x_{1} + a_{12} x_{2} + a_{13} x_{3}\\\\a_{21} x_{1} + a_{22} x_{2} + a_{23} x_{3}\\\\a_{31} x_{1} + a_{32} x_{2} + a_{33} x_{3}\\\\1\\end{matrix}\\right]$$"
      ],
      "text/plain": [
       "⎡a₁₁⋅x₁ + a₁₂⋅x₂ + a₁₃⋅x₃⎤\n",
       "⎢                        ⎥\n",
       "⎢a₂₁⋅x₁ + a₂₂⋅x₂ + a₂₃⋅x₃⎥\n",
       "⎢                        ⎥\n",
       "⎢a₃₁⋅x₁ + a₃₂⋅x₂ + a₃₃⋅x₃⎥\n",
       "⎢                        ⎥\n",
       "⎣           1            ⎦"
      ]
     },
     "execution_count": 95,
     "metadata": {},
     "output_type": "execute_result"
    }
   ],
   "source": [
    "b_homo = homo_vec(b)\n",
    "b_homo"
   ]
  },
  {
   "cell_type": "code",
   "execution_count": 96,
   "metadata": {
    "collapsed": false
   },
   "outputs": [
    {
     "data": {
      "text/latex": [
       "$$\\left[\\begin{matrix}a_{11} & a_{12} & a_{13} & 0\\\\a_{21} & a_{22} & a_{23} & 0\\\\a_{31} & a_{32} & a_{33} & 0\\\\0 & 0 & 0 & 1\\end{matrix}\\right]$$"
      ],
      "text/plain": [
       "⎡a₁₁  a₁₂  a₁₃  0⎤\n",
       "⎢                ⎥\n",
       "⎢a₂₁  a₂₂  a₂₃  0⎥\n",
       "⎢                ⎥\n",
       "⎢a₃₁  a₃₂  a₃₃  0⎥\n",
       "⎢                ⎥\n",
       "⎣ 0    0    0   1⎦"
      ]
     },
     "execution_count": 96,
     "metadata": {},
     "output_type": "execute_result"
    }
   ],
   "source": [
    "A_homo = homo_mat(A)\n",
    "A_homo"
   ]
  },
  {
   "cell_type": "code",
   "execution_count": 97,
   "metadata": {
    "collapsed": false
   },
   "outputs": [
    {
     "data": {
      "text/latex": [
       "$$\\left[\\begin{matrix}x_{1}\\\\x_{2}\\\\x_{3}\\\\1\\end{matrix}\\right]$$"
      ],
      "text/plain": [
       "⎡x₁⎤\n",
       "⎢  ⎥\n",
       "⎢x₂⎥\n",
       "⎢  ⎥\n",
       "⎢x₃⎥\n",
       "⎢  ⎥\n",
       "⎣1 ⎦"
      ]
     },
     "execution_count": 97,
     "metadata": {},
     "output_type": "execute_result"
    }
   ],
   "source": [
    "x_homo = homo_vec(x)\n",
    "x_homo"
   ]
  },
  {
   "cell_type": "code",
   "execution_count": 98,
   "metadata": {
    "collapsed": false
   },
   "outputs": [
    {
     "data": {
      "text/latex": [
       "$$\\left[\\begin{matrix}a_{11} x_{1} + a_{12} x_{2} + a_{13} x_{3}\\\\a_{21} x_{1} + a_{22} x_{2} + a_{23} x_{3}\\\\a_{31} x_{1} + a_{32} x_{2} + a_{33} x_{3}\\\\1\\end{matrix}\\right]$$"
      ],
      "text/plain": [
       "⎡a₁₁⋅x₁ + a₁₂⋅x₂ + a₁₃⋅x₃⎤\n",
       "⎢                        ⎥\n",
       "⎢a₂₁⋅x₁ + a₂₂⋅x₂ + a₂₃⋅x₃⎥\n",
       "⎢                        ⎥\n",
       "⎢a₃₁⋅x₁ + a₃₂⋅x₂ + a₃₃⋅x₃⎥\n",
       "⎢                        ⎥\n",
       "⎣           1            ⎦"
      ]
     },
     "execution_count": 98,
     "metadata": {},
     "output_type": "execute_result"
    }
   ],
   "source": [
    "A_homo*x_homo"
   ]
  },
  {
   "cell_type": "code",
   "execution_count": 99,
   "metadata": {
    "collapsed": false
   },
   "outputs": [
    {
     "data": {
      "text/latex": [
       "$$\\left[\\begin{matrix}0\\\\0\\\\0\\\\0\\end{matrix}\\right]$$"
      ],
      "text/plain": [
       "⎡0⎤\n",
       "⎢ ⎥\n",
       "⎢0⎥\n",
       "⎢ ⎥\n",
       "⎢0⎥\n",
       "⎢ ⎥\n",
       "⎣0⎦"
      ]
     },
     "execution_count": 99,
     "metadata": {},
     "output_type": "execute_result"
    }
   ],
   "source": [
    "A_homo*x_homo - b_homo"
   ]
  },
  {
   "cell_type": "code",
   "execution_count": null,
   "metadata": {
    "collapsed": true
   },
   "outputs": [],
   "source": []
  },
  {
   "cell_type": "code",
   "execution_count": null,
   "metadata": {
    "collapsed": true
   },
   "outputs": [],
   "source": []
  },
  {
   "cell_type": "code",
   "execution_count": null,
   "metadata": {
    "collapsed": true
   },
   "outputs": [],
   "source": []
  },
  {
   "cell_type": "code",
   "execution_count": 100,
   "metadata": {
    "collapsed": false
   },
   "outputs": [
    {
     "data": {
      "text/latex": [
       "$$\\left[\\begin{matrix}b_{11} & b_{12} & b_{13}\\\\b_{21} & b_{22} & b_{23}\\\\b_{31} & b_{32} & b_{33}\\end{matrix}\\right]$$"
      ],
      "text/plain": [
       "⎡b₁₁  b₁₂  b₁₃⎤\n",
       "⎢             ⎥\n",
       "⎢b₂₁  b₂₂  b₂₃⎥\n",
       "⎢             ⎥\n",
       "⎣b₃₁  b₃₂  b₃₃⎦"
      ]
     },
     "execution_count": 100,
     "metadata": {},
     "output_type": "execute_result"
    }
   ],
   "source": [
    "row1 = sy.symbols('b1(1:4)', real=True, positive=True)\n",
    "row2 = sy.symbols('b2(1:4)', real=True, positive=True)\n",
    "row3 = sy.symbols('b3(1:4)', real=True, positive=True)\n",
    "B = sy.Matrix((row1, row2, row3))\n",
    "B"
   ]
  },
  {
   "cell_type": "code",
   "execution_count": 101,
   "metadata": {
    "collapsed": false
   },
   "outputs": [
    {
     "data": {
      "text/latex": [
       "$$\\left[\\begin{matrix}a_{11} b_{11} + a_{12} b_{21} + a_{13} b_{31} & a_{11} b_{12} + a_{12} b_{22} + a_{13} b_{32} & a_{11} b_{13} + a_{12} b_{23} + a_{13} b_{33}\\\\a_{21} b_{11} + a_{22} b_{21} + a_{23} b_{31} & a_{21} b_{12} + a_{22} b_{22} + a_{23} b_{32} & a_{21} b_{13} + a_{22} b_{23} + a_{23} b_{33}\\\\a_{31} b_{11} + a_{32} b_{21} + a_{33} b_{31} & a_{31} b_{12} + a_{32} b_{22} + a_{33} b_{32} & a_{31} b_{13} + a_{32} b_{23} + a_{33} b_{33}\\end{matrix}\\right]$$"
      ],
      "text/plain": [
       "⎡a₁₁⋅b₁₁ + a₁₂⋅b₂₁ + a₁₃⋅b₃₁  a₁₁⋅b₁₂ + a₁₂⋅b₂₂ + a₁₃⋅b₃₂  a₁₁⋅b₁₃ + a₁₂⋅b₂₃ +\n",
       "⎢                                                                             \n",
       "⎢a₂₁⋅b₁₁ + a₂₂⋅b₂₁ + a₂₃⋅b₃₁  a₂₁⋅b₁₂ + a₂₂⋅b₂₂ + a₂₃⋅b₃₂  a₂₁⋅b₁₃ + a₂₂⋅b₂₃ +\n",
       "⎢                                                                             \n",
       "⎣a₃₁⋅b₁₁ + a₃₂⋅b₂₁ + a₃₃⋅b₃₁  a₃₁⋅b₁₂ + a₃₂⋅b₂₂ + a₃₃⋅b₃₂  a₃₁⋅b₁₃ + a₃₂⋅b₂₃ +\n",
       "\n",
       " a₁₃⋅b₃₃⎤\n",
       "        ⎥\n",
       " a₂₃⋅b₃₃⎥\n",
       "        ⎥\n",
       " a₃₃⋅b₃₃⎦"
      ]
     },
     "execution_count": 101,
     "metadata": {},
     "output_type": "execute_result"
    }
   ],
   "source": [
    "C = A*B\n",
    "C"
   ]
  },
  {
   "cell_type": "code",
   "execution_count": 102,
   "metadata": {
    "collapsed": false
   },
   "outputs": [
    {
     "data": {
      "text/latex": [
       "$$\\left[\\begin{matrix}a_{11} b_{11} + a_{12} b_{21} + a_{13} b_{31} & a_{11} b_{12} + a_{12} b_{22} + a_{13} b_{32} & a_{11} b_{13} + a_{12} b_{23} + a_{13} b_{33} & 0\\\\a_{21} b_{11} + a_{22} b_{21} + a_{23} b_{31} & a_{21} b_{12} + a_{22} b_{22} + a_{23} b_{32} & a_{21} b_{13} + a_{22} b_{23} + a_{23} b_{33} & 0\\\\a_{31} b_{11} + a_{32} b_{21} + a_{33} b_{31} & a_{31} b_{12} + a_{32} b_{22} + a_{33} b_{32} & a_{31} b_{13} + a_{32} b_{23} + a_{33} b_{33} & 0\\\\0 & 0 & 0 & 1\\end{matrix}\\right]$$"
      ],
      "text/plain": [
       "⎡a₁₁⋅b₁₁ + a₁₂⋅b₂₁ + a₁₃⋅b₃₁  a₁₁⋅b₁₂ + a₁₂⋅b₂₂ + a₁₃⋅b₃₂  a₁₁⋅b₁₃ + a₁₂⋅b₂₃ +\n",
       "⎢                                                                             \n",
       "⎢a₂₁⋅b₁₁ + a₂₂⋅b₂₁ + a₂₃⋅b₃₁  a₂₁⋅b₁₂ + a₂₂⋅b₂₂ + a₂₃⋅b₃₂  a₂₁⋅b₁₃ + a₂₂⋅b₂₃ +\n",
       "⎢                                                                             \n",
       "⎢a₃₁⋅b₁₁ + a₃₂⋅b₂₁ + a₃₃⋅b₃₁  a₃₁⋅b₁₂ + a₃₂⋅b₂₂ + a₃₃⋅b₃₂  a₃₁⋅b₁₃ + a₃₂⋅b₂₃ +\n",
       "⎢                                                                             \n",
       "⎣             0                            0                            0     \n",
       "\n",
       " a₁₃⋅b₃₃  0⎤\n",
       "           ⎥\n",
       " a₂₃⋅b₃₃  0⎥\n",
       "           ⎥\n",
       " a₃₃⋅b₃₃  0⎥\n",
       "           ⎥\n",
       "          1⎦"
      ]
     },
     "execution_count": 102,
     "metadata": {},
     "output_type": "execute_result"
    }
   ],
   "source": [
    "C_homo = homo_mat(C)\n",
    "C_homo"
   ]
  },
  {
   "cell_type": "code",
   "execution_count": 103,
   "metadata": {
    "collapsed": false
   },
   "outputs": [
    {
     "data": {
      "text/latex": [
       "$$\\left[\\begin{matrix}a_{11} b_{11} + a_{12} b_{21} + a_{13} b_{31} & a_{11} b_{12} + a_{12} b_{22} + a_{13} b_{32} & a_{11} b_{13} + a_{12} b_{23} + a_{13} b_{33} & 0\\\\a_{21} b_{11} + a_{22} b_{21} + a_{23} b_{31} & a_{21} b_{12} + a_{22} b_{22} + a_{23} b_{32} & a_{21} b_{13} + a_{22} b_{23} + a_{23} b_{33} & 0\\\\a_{31} b_{11} + a_{32} b_{21} + a_{33} b_{31} & a_{31} b_{12} + a_{32} b_{22} + a_{33} b_{32} & a_{31} b_{13} + a_{32} b_{23} + a_{33} b_{33} & 0\\\\0 & 0 & 0 & 1\\end{matrix}\\right]$$"
      ],
      "text/plain": [
       "⎡a₁₁⋅b₁₁ + a₁₂⋅b₂₁ + a₁₃⋅b₃₁  a₁₁⋅b₁₂ + a₁₂⋅b₂₂ + a₁₃⋅b₃₂  a₁₁⋅b₁₃ + a₁₂⋅b₂₃ +\n",
       "⎢                                                                             \n",
       "⎢a₂₁⋅b₁₁ + a₂₂⋅b₂₁ + a₂₃⋅b₃₁  a₂₁⋅b₁₂ + a₂₂⋅b₂₂ + a₂₃⋅b₃₂  a₂₁⋅b₁₃ + a₂₂⋅b₂₃ +\n",
       "⎢                                                                             \n",
       "⎢a₃₁⋅b₁₁ + a₃₂⋅b₂₁ + a₃₃⋅b₃₁  a₃₁⋅b₁₂ + a₃₂⋅b₂₂ + a₃₃⋅b₃₂  a₃₁⋅b₁₃ + a₃₂⋅b₂₃ +\n",
       "⎢                                                                             \n",
       "⎣             0                            0                            0     \n",
       "\n",
       " a₁₃⋅b₃₃  0⎤\n",
       "           ⎥\n",
       " a₂₃⋅b₃₃  0⎥\n",
       "           ⎥\n",
       " a₃₃⋅b₃₃  0⎥\n",
       "           ⎥\n",
       "          1⎦"
      ]
     },
     "execution_count": 103,
     "metadata": {},
     "output_type": "execute_result"
    }
   ],
   "source": [
    "homo_mat(A)*homo_mat(B)"
   ]
  },
  {
   "cell_type": "code",
   "execution_count": 104,
   "metadata": {
    "collapsed": false
   },
   "outputs": [
    {
     "data": {
      "text/latex": [
       "$$\\left[\\begin{matrix}0 & 0 & 0 & 0\\\\0 & 0 & 0 & 0\\\\0 & 0 & 0 & 0\\\\0 & 0 & 0 & 0\\end{matrix}\\right]$$"
      ],
      "text/plain": [
       "⎡0  0  0  0⎤\n",
       "⎢          ⎥\n",
       "⎢0  0  0  0⎥\n",
       "⎢          ⎥\n",
       "⎢0  0  0  0⎥\n",
       "⎢          ⎥\n",
       "⎣0  0  0  0⎦"
      ]
     },
     "execution_count": 104,
     "metadata": {},
     "output_type": "execute_result"
    }
   ],
   "source": [
    "homo_mat(A)*homo_mat(B) - C_homo"
   ]
  },
  {
   "cell_type": "code",
   "execution_count": null,
   "metadata": {
    "collapsed": true
   },
   "outputs": [],
   "source": []
  },
  {
   "cell_type": "markdown",
   "metadata": {
    "collapsed": false
   },
   "source": []
  },
  {
   "cell_type": "code",
   "execution_count": 105,
   "metadata": {
    "collapsed": false
   },
   "outputs": [
    {
     "data": {
      "text/latex": [
       "$$\\left[\\begin{matrix}1 & 0 & 0\\\\0 & m_{p} \\sin^{2}{\\left (\\beta_{y} \\right )} + \\cos^{2}{\\left (\\beta_{y} \\right )} & \\frac{1}{2} \\left(- m_{p} + 1\\right) \\sin{\\left (2 \\beta_{y} \\right )}\\\\0 & \\frac{1}{2} \\left(- m_{p} + 1\\right) \\sin{\\left (2 \\beta_{y} \\right )} & m_{p} \\cos^{2}{\\left (\\beta_{y} \\right )} + \\sin^{2}{\\left (\\beta_{y} \\right )}\\end{matrix}\\right]$$"
      ],
      "text/plain": [
       "⎡1              0                          0            ⎤\n",
       "⎢                                                       ⎥\n",
       "⎢          2           2         (-m_p + 1)⋅sin(2⋅β_y)  ⎥\n",
       "⎢0  m_p⋅sin (β_y) + cos (β_y)    ─────────────────────  ⎥\n",
       "⎢                                          2            ⎥\n",
       "⎢                                                       ⎥\n",
       "⎢     (-m_p + 1)⋅sin(2⋅β_y)           2           2     ⎥\n",
       "⎢0    ─────────────────────    m_p⋅cos (β_y) + sin (β_y)⎥\n",
       "⎣               2                                       ⎦"
      ]
     },
     "execution_count": 105,
     "metadata": {},
     "output_type": "execute_result"
    }
   ],
   "source": [
    "Rl = R_ox\n",
    "sy.simplify(Rl*Mp*Rl.T)"
   ]
  },
  {
   "cell_type": "code",
   "execution_count": 106,
   "metadata": {
    "collapsed": false
   },
   "outputs": [],
   "source": [
    "k = (Rl*Mp*Rl.T)"
   ]
  },
  {
   "cell_type": "code",
   "execution_count": 107,
   "metadata": {
    "collapsed": false
   },
   "outputs": [
    {
     "data": {
      "text/latex": [
       "$$\\left[\\begin{matrix}1 & 0 & 0\\\\0 & m_{p} \\sin^{2}{\\left (\\beta_{y} \\right )} + \\cos^{2}{\\left (\\beta_{y} \\right )} & - m_{p} \\sin{\\left (\\beta_{y} \\right )} \\cos{\\left (\\beta_{y} \\right )} + \\sin{\\left (\\beta_{y} \\right )} \\cos{\\left (\\beta_{y} \\right )}\\\\0 & - m_{p} \\sin{\\left (\\beta_{y} \\right )} \\cos{\\left (\\beta_{y} \\right )} + \\sin{\\left (\\beta_{y} \\right )} \\cos{\\left (\\beta_{y} \\right )} & m_{p} \\cos^{2}{\\left (\\beta_{y} \\right )} + \\sin^{2}{\\left (\\beta_{y} \\right )}\\end{matrix}\\right]$$"
      ],
      "text/plain": [
       "⎡1                      0                                           0         \n",
       "⎢                                                                             \n",
       "⎢                  2           2                                              \n",
       "⎢0          m_p⋅sin (β_y) + cos (β_y)           -m_p⋅sin(β_y)⋅cos(β_y) + sin(β\n",
       "⎢                                                                             \n",
       "⎢                                                              2           2  \n",
       "⎣0  -m_p⋅sin(β_y)⋅cos(β_y) + sin(β_y)⋅cos(β_y)          m_p⋅cos (β_y) + sin (β\n",
       "\n",
       "            ⎤\n",
       "            ⎥\n",
       "            ⎥\n",
       "_y)⋅cos(β_y)⎥\n",
       "            ⎥\n",
       "            ⎥\n",
       "_y)         ⎦"
      ]
     },
     "execution_count": 107,
     "metadata": {},
     "output_type": "execute_result"
    }
   ],
   "source": [
    "k"
   ]
  },
  {
   "cell_type": "code",
   "execution_count": 108,
   "metadata": {
    "collapsed": false
   },
   "outputs": [
    {
     "data": {
      "text/latex": [
       "$$\\left[\\begin{matrix}1 & 0 & 0\\\\0 & - \\sin^{2}{\\left (\\beta_{y} \\right )} + 1 + \\frac{1}{m_{p}} \\sin^{2}{\\left (\\beta_{y} \\right )} & \\frac{1}{2 m_{p}} \\left(m_{p} - 1\\right) \\sin{\\left (2 \\beta_{y} \\right )}\\\\0 & \\frac{1}{2 m_{p}} \\left(m_{p} - 1\\right) \\sin{\\left (2 \\beta_{y} \\right )} & \\sin^{2}{\\left (\\beta_{y} \\right )} + \\frac{1}{m_{p}} \\cos^{2}{\\left (\\beta_{y} \\right )}\\end{matrix}\\right]$$"
      ],
      "text/plain": [
       "⎡1               0                         0          ⎤\n",
       "⎢                                                     ⎥\n",
       "⎢                        2                            ⎥\n",
       "⎢        2            sin (β_y)  (m_p - 1)⋅sin(2⋅β_y) ⎥\n",
       "⎢0  - sin (β_y) + 1 + ─────────  ──────────────────── ⎥\n",
       "⎢                        m_p            2⋅m_p         ⎥\n",
       "⎢                                                     ⎥\n",
       "⎢                                               2     ⎥\n",
       "⎢      (m_p - 1)⋅sin(2⋅β_y)         2        cos (β_y)⎥\n",
       "⎢0     ────────────────────      sin (β_y) + ─────────⎥\n",
       "⎣             2⋅m_p                             m_p   ⎦"
      ]
     },
     "execution_count": 108,
     "metadata": {},
     "output_type": "execute_result"
    }
   ],
   "source": [
    "sy.simplify(k.inv())"
   ]
  },
  {
   "cell_type": "code",
   "execution_count": 109,
   "metadata": {
    "collapsed": false
   },
   "outputs": [
    {
     "data": {
      "text/latex": [
       "$$\\left[\\begin{matrix}1 & 0 & 0\\\\0 & \\cos^{2}{\\left (\\beta_{y} \\right )} + \\frac{1}{m_{p}} \\sin^{2}{\\left (\\beta_{y} \\right )} & \\frac{1}{2 m_{p}} \\left(m_{p} - 1\\right) \\sin{\\left (2 \\beta_{y} \\right )}\\\\0 & \\frac{1}{2 m_{p}} \\left(m_{p} - 1\\right) \\sin{\\left (2 \\beta_{y} \\right )} & \\sin^{2}{\\left (\\beta_{y} \\right )} + \\frac{1}{m_{p}} \\cos^{2}{\\left (\\beta_{y} \\right )}\\end{matrix}\\right]$$"
      ],
      "text/plain": [
       "⎡1            0                      0          ⎤\n",
       "⎢                                               ⎥\n",
       "⎢                  2                            ⎥\n",
       "⎢      2        sin (β_y)  (m_p - 1)⋅sin(2⋅β_y) ⎥\n",
       "⎢0  cos (β_y) + ─────────  ──────────────────── ⎥\n",
       "⎢                  m_p            2⋅m_p         ⎥\n",
       "⎢                                               ⎥\n",
       "⎢                                         2     ⎥\n",
       "⎢   (m_p - 1)⋅sin(2⋅β_y)      2        cos (β_y)⎥\n",
       "⎢0  ────────────────────   sin (β_y) + ─────────⎥\n",
       "⎣          2⋅m_p                          m_p   ⎦"
      ]
     },
     "execution_count": 109,
     "metadata": {},
     "output_type": "execute_result"
    }
   ],
   "source": [
    "sy.simplify(Rl*Mp.inv()*Rl.T)"
   ]
  },
  {
   "cell_type": "code",
   "execution_count": null,
   "metadata": {
    "collapsed": true
   },
   "outputs": [],
   "source": []
  }
 ],
 "metadata": {
  "kernelspec": {
   "display_name": "Python 2",
   "language": "python",
   "name": "python2"
  },
  "language_info": {
   "codemirror_mode": {
    "name": "ipython",
    "version": 2
   },
   "file_extension": ".py",
   "mimetype": "text/x-python",
   "name": "python",
   "nbconvert_exporter": "python",
   "pygments_lexer": "ipython2",
   "version": "2.7.11"
  }
 },
 "nbformat": 4,
 "nbformat_minor": 0
}
