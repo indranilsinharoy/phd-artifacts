{
 "cells": [
  {
   "cell_type": "code",
   "execution_count": 1,
   "metadata": {
    "collapsed": true
   },
   "outputs": [],
   "source": [
    "import sympy as sy"
   ]
  },
  {
   "cell_type": "code",
   "execution_count": 2,
   "metadata": {
    "collapsed": true
   },
   "outputs": [],
   "source": [
    "sy.init_printing(use_latex='mathjax', print_builtin=False)"
   ]
  },
  {
   "cell_type": "code",
   "execution_count": 20,
   "metadata": {
    "collapsed": true
   },
   "outputs": [],
   "source": [
    "alpha_x = sy.symbols('alpha_x', positive=True, real=True)\n",
    "alpha_y = sy.symbols('alpha_y', positive=True, real=True)\n",
    "beta_x = sy.symbols('beta_x', positive=True, real=True)\n",
    "beta_y = sy.symbols('beta_y', positive=True, real=True)"
   ]
  },
  {
   "cell_type": "code",
   "execution_count": 4,
   "metadata": {
    "collapsed": false
   },
   "outputs": [
    {
     "data": {
      "text/latex": [
       "$$\\left[\\begin{matrix}1 & 0 & 0\\\\0 & \\cos{\\left (\\beta_{y} \\right )} & - \\sin{\\left (\\beta_{y} \\right )}\\\\0 & \\sin{\\left (\\beta_{y} \\right )} & \\cos{\\left (\\beta_{y} \\right )}\\end{matrix}\\right]$$"
      ],
      "text/plain": [
       "⎡1     0          0    ⎤\n",
       "⎢                      ⎥\n",
       "⎢0  cos(β_y)  -sin(β_y)⎥\n",
       "⎢                      ⎥\n",
       "⎣0  sin(β_y)  cos(β_y) ⎦"
      ]
     },
     "execution_count": 4,
     "metadata": {},
     "output_type": "execute_result"
    }
   ],
   "source": [
    "# Rotation about the x-axis by +ve beta_y\n",
    "R_ox = sy.Matrix(((1,       0,              0          ), \n",
    "                  (0,  sy.cos(beta_y),  -sy.sin(beta_y)),\n",
    "                  (0,  sy.sin(beta_y),   sy.cos(beta_y)),\n",
    "                 ))\n",
    "R_ox"
   ]
  },
  {
   "cell_type": "code",
   "execution_count": 5,
   "metadata": {
    "collapsed": false
   },
   "outputs": [
    {
     "data": {
      "text/latex": [
       "$$\\left[\\begin{matrix}\\cos{\\left (\\beta_{x} \\right )} & 0 & \\sin{\\left (\\beta_{x} \\right )}\\\\0 & 1 & 0\\\\- \\sin{\\left (\\beta_{x} \\right )} & 0 & \\cos{\\left (\\beta_{x} \\right )}\\end{matrix}\\right]$$"
      ],
      "text/plain": [
       "⎡cos(βₓ)   0  sin(βₓ)⎤\n",
       "⎢                    ⎥\n",
       "⎢   0      1     0   ⎥\n",
       "⎢                    ⎥\n",
       "⎣-sin(βₓ)  0  cos(βₓ)⎦"
      ]
     },
     "execution_count": 5,
     "metadata": {},
     "output_type": "execute_result"
    }
   ],
   "source": [
    "# Rotation about the y-axis by +ve beta_x\n",
    "R_oy = sy.Matrix(((sy.cos(beta_x),     0,   sy.sin(beta_x)), \n",
    "                  (0,                  1,       0         ),\n",
    "                  (-sy.sin(beta_x),    0,   sy.cos(beta_x)),\n",
    "                 ))\n",
    "R_oy"
   ]
  },
  {
   "cell_type": "code",
   "execution_count": 6,
   "metadata": {
    "collapsed": false
   },
   "outputs": [
    {
     "data": {
      "text/latex": [
       "$$\\left[\\begin{matrix}0\\\\0\\\\1\\end{matrix}\\right]$$"
      ],
      "text/plain": [
       "⎡0⎤\n",
       "⎢ ⎥\n",
       "⎢0⎥\n",
       "⎢ ⎥\n",
       "⎣1⎦"
      ]
     },
     "execution_count": 6,
     "metadata": {},
     "output_type": "execute_result"
    }
   ],
   "source": [
    "c_z = sy.Matrix(((0),(0),(1)))\n",
    "c_z"
   ]
  },
  {
   "cell_type": "code",
   "execution_count": 7,
   "metadata": {
    "collapsed": false
   },
   "outputs": [
    {
     "data": {
      "text/latex": [
       "$$\\left[\\begin{matrix}0\\\\\\sin{\\left (\\beta_{y} \\right )}\\\\\\cos{\\left (\\beta_{y} \\right )}\\end{matrix}\\right]$$"
      ],
      "text/plain": [
       "⎡   0    ⎤\n",
       "⎢        ⎥\n",
       "⎢sin(β_y)⎥\n",
       "⎢        ⎥\n",
       "⎣cos(β_y)⎦"
      ]
     },
     "execution_count": 7,
     "metadata": {},
     "output_type": "execute_result"
    }
   ],
   "source": [
    "n_o = R_ox*c_z\n",
    "n_o.subs({beta_y:-beta_y})"
   ]
  },
  {
   "cell_type": "code",
   "execution_count": 8,
   "metadata": {
    "collapsed": false
   },
   "outputs": [
    {
     "data": {
      "text/latex": [
       "$$\\left[\\begin{matrix}\\cos{\\left (\\beta_{x} \\right )} & \\sin{\\left (\\beta_{x} \\right )} \\sin{\\left (\\beta_{y} \\right )} & \\sin{\\left (\\beta_{x} \\right )} \\cos{\\left (\\beta_{y} \\right )}\\\\0 & \\cos{\\left (\\beta_{y} \\right )} & - \\sin{\\left (\\beta_{y} \\right )}\\\\- \\sin{\\left (\\beta_{x} \\right )} & \\sin{\\left (\\beta_{y} \\right )} \\cos{\\left (\\beta_{x} \\right )} & \\cos{\\left (\\beta_{x} \\right )} \\cos{\\left (\\beta_{y} \\right )}\\end{matrix}\\right]$$"
      ],
      "text/plain": [
       "⎡cos(βₓ)   sin(βₓ)⋅sin(β_y)  sin(βₓ)⋅cos(β_y)⎤\n",
       "⎢                                            ⎥\n",
       "⎢   0          cos(β_y)         -sin(β_y)    ⎥\n",
       "⎢                                            ⎥\n",
       "⎣-sin(βₓ)  sin(β_y)⋅cos(βₓ)  cos(βₓ)⋅cos(β_y)⎦"
      ]
     },
     "execution_count": 8,
     "metadata": {},
     "output_type": "execute_result"
    }
   ],
   "source": [
    "R_oy*R_ox"
   ]
  },
  {
   "cell_type": "code",
   "execution_count": 12,
   "metadata": {
    "collapsed": false
   },
   "outputs": [
    {
     "data": {
      "text/latex": [
       "$$\\left[\\begin{matrix}1 & 0 & 0\\\\0 & \\cos{\\left (\\beta_{y} \\right )} & - \\sin{\\left (\\beta_{y} \\right )}\\\\0 & \\sin{\\left (\\beta_{y} \\right )} & \\cos{\\left (\\beta_{y} \\right )}\\end{matrix}\\right]$$"
      ],
      "text/plain": [
       "⎡1     0          0    ⎤\n",
       "⎢                      ⎥\n",
       "⎢0  cos(β_y)  -sin(β_y)⎥\n",
       "⎢                      ⎥\n",
       "⎣0  sin(β_y)  cos(β_y) ⎦"
      ]
     },
     "execution_count": 12,
     "metadata": {},
     "output_type": "execute_result"
    }
   ],
   "source": [
    "R_ox"
   ]
  },
  {
   "cell_type": "code",
   "execution_count": 14,
   "metadata": {
    "collapsed": false
   },
   "outputs": [
    {
     "data": {
      "text/latex": [
       "$$\\left[\\begin{matrix}\\cos{\\left (\\beta_{x} \\right )} & - \\sin{\\left (\\beta_{x} \\right )} \\sin{\\left (\\beta_{y} \\right )} & - \\sin{\\left (\\beta_{x} \\right )} \\cos{\\left (\\beta_{y} \\right )}\\\\0 & \\cos{\\left (\\beta_{y} \\right )} & - \\sin{\\left (\\beta_{y} \\right )}\\\\\\sin{\\left (\\beta_{x} \\right )} & \\sin{\\left (\\beta_{y} \\right )} \\cos{\\left (\\beta_{x} \\right )} & \\cos{\\left (\\beta_{x} \\right )} \\cos{\\left (\\beta_{y} \\right )}\\end{matrix}\\right]$$"
      ],
      "text/plain": [
       "⎡cos(βₓ)  -sin(βₓ)⋅sin(β_y)  -sin(βₓ)⋅cos(β_y)⎤\n",
       "⎢                                             ⎥\n",
       "⎢   0         cos(β_y)           -sin(β_y)    ⎥\n",
       "⎢                                             ⎥\n",
       "⎣sin(βₓ)  sin(β_y)⋅cos(βₓ)   cos(βₓ)⋅cos(β_y) ⎦"
      ]
     },
     "execution_count": 14,
     "metadata": {},
     "output_type": "execute_result"
    }
   ],
   "source": [
    "R = R_oy*R_ox\n",
    "R.subs({beta_x:-beta_x})"
   ]
  },
  {
   "cell_type": "code",
   "execution_count": 22,
   "metadata": {
    "collapsed": false
   },
   "outputs": [
    {
     "data": {
      "text/latex": [
       "$$\\left[\\begin{matrix}\\sin{\\left (\\beta_{x} \\right )} \\cos{\\left (\\beta_{y} \\right )}\\\\\\sin{\\left (\\beta_{y} \\right )}\\\\\\cos{\\left (\\beta_{x} \\right )} \\cos{\\left (\\beta_{y} \\right )}\\end{matrix}\\right]$$"
      ],
      "text/plain": [
       "⎡sin(βₓ)⋅cos(β_y)⎤\n",
       "⎢                ⎥\n",
       "⎢    sin(β_y)    ⎥\n",
       "⎢                ⎥\n",
       "⎣cos(βₓ)⋅cos(β_y)⎦"
      ]
     },
     "execution_count": 22,
     "metadata": {},
     "output_type": "execute_result"
    }
   ],
   "source": [
    "n_o = R_oy*R_ox*c_z\n",
    "n_o.subs({beta_y:-beta_y})"
   ]
  },
  {
   "cell_type": "code",
   "execution_count": 23,
   "metadata": {
    "collapsed": false
   },
   "outputs": [
    {
     "data": {
      "text/latex": [
       "$$\\left[\\begin{matrix}\\sin{\\left (\\beta_{x} \\right )}\\\\\\sin{\\left (\\beta_{y} \\right )} \\cos{\\left (\\beta_{x} \\right )}\\\\\\cos{\\left (\\beta_{x} \\right )} \\cos{\\left (\\beta_{y} \\right )}\\end{matrix}\\right]$$"
      ],
      "text/plain": [
       "⎡    sin(βₓ)     ⎤\n",
       "⎢                ⎥\n",
       "⎢sin(β_y)⋅cos(βₓ)⎥\n",
       "⎢                ⎥\n",
       "⎣cos(βₓ)⋅cos(β_y)⎦"
      ]
     },
     "execution_count": 23,
     "metadata": {},
     "output_type": "execute_result"
    }
   ],
   "source": [
    "n_o = R_ox*R_oy*c_z\n",
    "n_o.subs({beta_y:-beta_y})"
   ]
  },
  {
   "cell_type": "code",
   "execution_count": null,
   "metadata": {
    "collapsed": true
   },
   "outputs": [],
   "source": []
  },
  {
   "cell_type": "code",
   "execution_count": 21,
   "metadata": {
    "collapsed": false
   },
   "outputs": [
    {
     "data": {
      "text/latex": [
       "$$\\left[\\begin{matrix}\\cos{\\left (\\beta_{x} \\right )} & \\sin{\\left (\\beta_{x} \\right )} \\sin{\\left (\\beta_{y} \\right )} & \\sin{\\left (\\beta_{x} \\right )} \\cos{\\left (\\beta_{y} \\right )}\\\\0 & \\cos{\\left (\\beta_{y} \\right )} & - \\sin{\\left (\\beta_{y} \\right )}\\\\- \\sin{\\left (\\beta_{x} \\right )} & \\sin{\\left (\\beta_{y} \\right )} \\cos{\\left (\\beta_{x} \\right )} & \\cos{\\left (\\beta_{x} \\right )} \\cos{\\left (\\beta_{y} \\right )}\\end{matrix}\\right]$$"
      ],
      "text/plain": [
       "⎡cos(βₓ)   sin(βₓ)⋅sin(β_y)  sin(βₓ)⋅cos(β_y)⎤\n",
       "⎢                                            ⎥\n",
       "⎢   0          cos(β_y)         -sin(β_y)    ⎥\n",
       "⎢                                            ⎥\n",
       "⎣-sin(βₓ)  sin(β_y)⋅cos(βₓ)  cos(βₓ)⋅cos(β_y)⎦"
      ]
     },
     "execution_count": 21,
     "metadata": {},
     "output_type": "execute_result"
    }
   ],
   "source": [
    "R_ox = sy.Matrix(((1,       0,              0          ), \n",
    "                (0,  sy.cos(beta_y),  -sy.sin(beta_y)),\n",
    "                (0,  sy.sin(beta_y),   sy.cos(beta_y)),\n",
    "                 ))\n",
    "\n",
    "R_oy = sy.Matrix(((sy.cos(beta_x),     0,   sy.sin(beta_x)), \n",
    "                  (0,                  1,       0         ),\n",
    "                  (-sy.sin(beta_x),    0,   sy.cos(beta_x)),\n",
    "                 ))\n",
    "Rl = R_oy*R_ox\n",
    "Rl"
   ]
  },
  {
   "cell_type": "code",
   "execution_count": 22,
   "metadata": {
    "collapsed": true
   },
   "outputs": [],
   "source": [
    "mp = sy.symbols('m_p', real=True, positive=True)"
   ]
  },
  {
   "cell_type": "code",
   "execution_count": 23,
   "metadata": {
    "collapsed": false
   },
   "outputs": [
    {
     "data": {
      "text/latex": [
       "$$\\left[\\begin{matrix}1 & 0 & 0\\\\0 & 1 & 0\\\\0 & 0 & m_{p}\\end{matrix}\\right]$$"
      ],
      "text/plain": [
       "⎡1  0   0 ⎤\n",
       "⎢         ⎥\n",
       "⎢0  1   0 ⎥\n",
       "⎢         ⎥\n",
       "⎣0  0  m_p⎦"
      ]
     },
     "execution_count": 23,
     "metadata": {},
     "output_type": "execute_result"
    }
   ],
   "source": [
    "Mp = sy.Matrix(((1, 0, 0), \n",
    "                (0, 1, 0),\n",
    "                (0, 0, mp))\n",
    "              )\n",
    "Mp"
   ]
  },
  {
   "cell_type": "code",
   "execution_count": 24,
   "metadata": {
    "collapsed": false
   },
   "outputs": [
    {
     "data": {
      "text/latex": [
       "$$\\left[\\begin{matrix}1 & 0 & 0\\\\0 & 1 & 0\\\\0 & 0 & 1\\end{matrix}\\right]$$"
      ],
      "text/plain": [
       "⎡1  0  0⎤\n",
       "⎢       ⎥\n",
       "⎢0  1  0⎥\n",
       "⎢       ⎥\n",
       "⎣0  0  1⎦"
      ]
     },
     "execution_count": 24,
     "metadata": {},
     "output_type": "execute_result"
    }
   ],
   "source": [
    "sy.simplify(Rl*Rl.T)"
   ]
  },
  {
   "cell_type": "code",
   "execution_count": 25,
   "metadata": {
    "collapsed": false
   },
   "outputs": [
    {
     "data": {
      "text/latex": [
       "$$\\left[\\begin{matrix}m_{p} \\sin^{2}{\\left (\\beta_{x} \\right )} \\cos^{2}{\\left (\\beta_{y} \\right )} + \\sin^{2}{\\left (\\beta_{x} \\right )} \\sin^{2}{\\left (\\beta_{y} \\right )} + \\cos^{2}{\\left (\\beta_{x} \\right )} & \\frac{1}{4} \\left(- m_{p} + 1\\right) \\left(\\cos{\\left (\\beta_{x} - 2 \\beta_{y} \\right )} - \\cos{\\left (\\beta_{x} + 2 \\beta_{y} \\right )}\\right) & \\left(m_{p} - 1\\right) \\sin{\\left (\\beta_{x} \\right )} \\cos{\\left (\\beta_{x} \\right )} \\cos^{2}{\\left (\\beta_{y} \\right )}\\\\\\frac{1}{4} \\left(- m_{p} + 1\\right) \\left(\\cos{\\left (\\beta_{x} - 2 \\beta_{y} \\right )} - \\cos{\\left (\\beta_{x} + 2 \\beta_{y} \\right )}\\right) & m_{p} \\sin^{2}{\\left (\\beta_{y} \\right )} + \\cos^{2}{\\left (\\beta_{y} \\right )} & \\frac{1}{4} \\left(- m_{p} + 1\\right) \\left(- \\sin{\\left (\\beta_{x} - 2 \\beta_{y} \\right )} + \\sin{\\left (\\beta_{x} + 2 \\beta_{y} \\right )}\\right)\\\\\\left(m_{p} - 1\\right) \\sin{\\left (\\beta_{x} \\right )} \\cos{\\left (\\beta_{x} \\right )} \\cos^{2}{\\left (\\beta_{y} \\right )} & \\frac{1}{4} \\left(- m_{p} + 1\\right) \\left(- \\sin{\\left (\\beta_{x} - 2 \\beta_{y} \\right )} + \\sin{\\left (\\beta_{x} + 2 \\beta_{y} \\right )}\\right) & m_{p} \\cos^{2}{\\left (\\beta_{x} \\right )} \\cos^{2}{\\left (\\beta_{y} \\right )} - \\cos^{2}{\\left (\\beta_{x} \\right )} \\cos^{2}{\\left (\\beta_{y} \\right )} + 1\\end{matrix}\\right]$$"
      ],
      "text/plain": [
       "⎡       2        2           2        2           2      (-m_p + 1)⋅(cos(βₓ - \n",
       "⎢m_p⋅sin (βₓ)⋅cos (β_y) + sin (βₓ)⋅sin (β_y) + cos (βₓ)  ─────────────────────\n",
       "⎢                                                                             \n",
       "⎢                                                                             \n",
       "⎢    (-m_p + 1)⋅(cos(βₓ - 2⋅β_y) - cos(βₓ + 2⋅β_y))                        2  \n",
       "⎢    ──────────────────────────────────────────────                 m_p⋅sin (β\n",
       "⎢                          4                                                  \n",
       "⎢                                                                             \n",
       "⎢                                      2                 (-m_p + 1)⋅(-sin(βₓ -\n",
       "⎢         (m_p - 1)⋅sin(βₓ)⋅cos(βₓ)⋅cos (β_y)            ─────────────────────\n",
       "⎣                                                                             \n",
       "\n",
       "2⋅β_y) - cos(βₓ + 2⋅β_y))                                      2           ⎤\n",
       "─────────────────────────         (m_p - 1)⋅sin(βₓ)⋅cos(βₓ)⋅cos (β_y)      ⎥\n",
       " 4                                                                         ⎥\n",
       "                                                                           ⎥\n",
       "         2                  (-m_p + 1)⋅(-sin(βₓ - 2⋅β_y) + sin(βₓ + 2⋅β_y))⎥\n",
       "_y) + cos (β_y)             ───────────────────────────────────────────────⎥\n",
       "                                                   4                       ⎥\n",
       "                                                                           ⎥\n",
       " 2⋅β_y) + sin(βₓ + 2⋅β_y))         2        2           2        2         ⎥\n",
       "──────────────────────────  m_p⋅cos (βₓ)⋅cos (β_y) - cos (βₓ)⋅cos (β_y) + 1⎥\n",
       "  4                                                                        ⎦"
      ]
     },
     "execution_count": 25,
     "metadata": {},
     "output_type": "execute_result"
    }
   ],
   "source": [
    "sy.simplify(Rl*Mp*Rl.T)"
   ]
  },
  {
   "cell_type": "code",
   "execution_count": 30,
   "metadata": {
    "collapsed": false
   },
   "outputs": [
    {
     "data": {
      "text/latex": [
       "$$\\left[\\begin{matrix}r_{11} & r_{12} & r_{13}\\\\r_{21} & r_{22} & r_{23}\\\\r_{31} & r_{32} & r_{33}\\end{matrix}\\right]$$"
      ],
      "text/plain": [
       "⎡r₁₁  r₁₂  r₁₃⎤\n",
       "⎢             ⎥\n",
       "⎢r₂₁  r₂₂  r₂₃⎥\n",
       "⎢             ⎥\n",
       "⎣r₃₁  r₃₂  r₃₃⎦"
      ]
     },
     "execution_count": 30,
     "metadata": {},
     "output_type": "execute_result"
    }
   ],
   "source": [
    "row1 = sy.symbols('r1(1:4)', real=True, positive=True)\n",
    "row2 = sy.symbols('r2(1:4)', real=True, positive=True)\n",
    "row3 = sy.symbols('r3(1:4)', real=True, positive=True)\n",
    "R = sy.Matrix((row1, row2, row3))\n",
    "R"
   ]
  },
  {
   "cell_type": "code",
   "execution_count": 33,
   "metadata": {
    "collapsed": false
   },
   "outputs": [
    {
     "data": {
      "text/latex": [
       "$$\\left[\\begin{matrix}m_{p} r_{13}^{2} + r_{11}^{2} + r_{12}^{2} & m_{p} r_{13} r_{23} + r_{11} r_{21} + r_{12} r_{22} & m_{p} r_{13} r_{33} + r_{11} r_{31} + r_{12} r_{32}\\\\m_{p} r_{13} r_{23} + r_{11} r_{21} + r_{12} r_{22} & m_{p} r_{23}^{2} + r_{21}^{2} + r_{22}^{2} & m_{p} r_{23} r_{33} + r_{21} r_{31} + r_{22} r_{32}\\\\m_{p} r_{13} r_{33} + r_{11} r_{31} + r_{12} r_{32} & m_{p} r_{23} r_{33} + r_{21} r_{31} + r_{22} r_{32} & m_{p} r_{33}^{2} + r_{31}^{2} + r_{32}^{2}\\end{matrix}\\right]$$"
      ],
      "text/plain": [
       "⎡           2      2      2                                                   \n",
       "⎢    m_p⋅r₁₃  + r₁₁  + r₁₂        m_p⋅r₁₃⋅r₂₃ + r₁₁⋅r₂₁ + r₁₂⋅r₂₂  m_p⋅r₁₃⋅r₃₃\n",
       "⎢                                                                             \n",
       "⎢                                            2      2      2                  \n",
       "⎢m_p⋅r₁₃⋅r₂₃ + r₁₁⋅r₂₁ + r₁₂⋅r₂₂      m_p⋅r₂₃  + r₂₁  + r₂₂        m_p⋅r₂₃⋅r₃₃\n",
       "⎢                                                                             \n",
       "⎢                                                                             \n",
       "⎣m_p⋅r₁₃⋅r₃₃ + r₁₁⋅r₃₁ + r₁₂⋅r₃₂  m_p⋅r₂₃⋅r₃₃ + r₂₁⋅r₃₁ + r₂₂⋅r₃₂      m_p⋅r₃₃\n",
       "\n",
       "                    ⎤\n",
       " + r₁₁⋅r₃₁ + r₁₂⋅r₃₂⎥\n",
       "                    ⎥\n",
       "                    ⎥\n",
       " + r₂₁⋅r₃₁ + r₂₂⋅r₃₂⎥\n",
       "                    ⎥\n",
       "2      2      2     ⎥\n",
       "  + r₃₁  + r₃₂      ⎦"
      ]
     },
     "execution_count": 33,
     "metadata": {},
     "output_type": "execute_result"
    }
   ],
   "source": [
    "R*Mp*R.T"
   ]
  },
  {
   "cell_type": "code",
   "execution_count": 34,
   "metadata": {
    "collapsed": false
   },
   "outputs": [
    {
     "data": {
      "text/latex": [
       "$$\\left[\\begin{matrix}l\\\\m\\\\n\\end{matrix}\\right]$$"
      ],
      "text/plain": [
       "⎡l⎤\n",
       "⎢ ⎥\n",
       "⎢m⎥\n",
       "⎢ ⎥\n",
       "⎣n⎦"
      ]
     },
     "execution_count": 34,
     "metadata": {},
     "output_type": "execute_result"
    }
   ],
   "source": [
    "l, m, n = sy.symbols('l, m, n', real=True)\n",
    "L = sy.Matrix(((l), (m), (n)))\n",
    "L"
   ]
  },
  {
   "cell_type": "code",
   "execution_count": 35,
   "metadata": {
    "collapsed": false
   },
   "outputs": [
    {
     "data": {
      "text/latex": [
       "$$\\left[\\begin{matrix}n_{1}\\\\n_{2}\\\\n_{3}\\end{matrix}\\right]$$"
      ],
      "text/plain": [
       "⎡n₁⎤\n",
       "⎢  ⎥\n",
       "⎢n₂⎥\n",
       "⎢  ⎥\n",
       "⎣n₃⎦"
      ]
     },
     "execution_count": 35,
     "metadata": {},
     "output_type": "execute_result"
    }
   ],
   "source": [
    "n1, n2, n3 = sy.symbols('n_1, n_2, n_3', real=True)\n",
    "N = sy.Matrix(((n1), (n2), (n3)))\n",
    "N"
   ]
  },
  {
   "cell_type": "code",
   "execution_count": 40,
   "metadata": {
    "collapsed": false
   },
   "outputs": [
    {
     "data": {
      "text/latex": [
       "$$\\left[\\begin{matrix}l n_{1} + m n_{2} + n n_{3}\\end{matrix}\\right]$$"
      ],
      "text/plain": [
       "[l⋅n₁ + m⋅n₂ + n⋅n₃]"
      ]
     },
     "execution_count": 40,
     "metadata": {},
     "output_type": "execute_result"
    }
   ],
   "source": [
    "N.T*L"
   ]
  },
  {
   "cell_type": "code",
   "execution_count": 45,
   "metadata": {
    "collapsed": false
   },
   "outputs": [
    {
     "data": {
      "text/latex": [
       "$$\\left[\\begin{matrix}l n_{1} + m n_{2} + m_{p} n n_{3}\\end{matrix}\\right]$$"
      ],
      "text/plain": [
       "[l⋅n₁ + m⋅n₂ + m_p⋅n⋅n₃]"
      ]
     },
     "execution_count": 45,
     "metadata": {},
     "output_type": "execute_result"
    }
   ],
   "source": [
    "N.T*sy.eye(3)*Mp*sy.eye(3).T*L"
   ]
  },
  {
   "cell_type": "code",
   "execution_count": 46,
   "metadata": {
    "collapsed": false
   },
   "outputs": [
    {
     "data": {
      "text/latex": [
       "$$\\left[\\begin{matrix}l n_{1} + m n_{2} + m_{p} n n_{3}\\end{matrix}\\right]$$"
      ],
      "text/plain": [
       "[l⋅n₁ + m⋅n₂ + m_p⋅n⋅n₃]"
      ]
     },
     "execution_count": 46,
     "metadata": {},
     "output_type": "execute_result"
    }
   ],
   "source": [
    "(sy.eye(3)*Mp*sy.eye(3).T*N).T*L"
   ]
  },
  {
   "cell_type": "code",
   "execution_count": 47,
   "metadata": {
    "collapsed": false
   },
   "outputs": [
    {
     "data": {
      "text/latex": [
       "$$\\left[\\begin{matrix}l \\left(m_{p} r_{13} \\left(n_{1} r_{13} + n_{2} r_{23} + n_{3} r_{33}\\right) + r_{11} \\left(n_{1} r_{11} + n_{2} r_{21} + n_{3} r_{31}\\right) + r_{12} \\left(n_{1} r_{12} + n_{2} r_{22} + n_{3} r_{32}\\right)\\right) + m \\left(m_{p} r_{23} \\left(n_{1} r_{13} + n_{2} r_{23} + n_{3} r_{33}\\right) + r_{21} \\left(n_{1} r_{11} + n_{2} r_{21} + n_{3} r_{31}\\right) + r_{22} \\left(n_{1} r_{12} + n_{2} r_{22} + n_{3} r_{32}\\right)\\right) + n \\left(m_{p} r_{33} \\left(n_{1} r_{13} + n_{2} r_{23} + n_{3} r_{33}\\right) + r_{31} \\left(n_{1} r_{11} + n_{2} r_{21} + n_{3} r_{31}\\right) + r_{32} \\left(n_{1} r_{12} + n_{2} r_{22} + n_{3} r_{32}\\right)\\right)\\end{matrix}\\right]$$"
      ],
      "text/plain": [
       "[l⋅(m_p⋅r₁₃⋅(n₁⋅r₁₃ + n₂⋅r₂₃ + n₃⋅r₃₃) + r₁₁⋅(n₁⋅r₁₁ + n₂⋅r₂₁ + n₃⋅r₃₁) + r₁₂⋅\n",
       "(n₁⋅r₁₂ + n₂⋅r₂₂ + n₃⋅r₃₂)) + m⋅(m_p⋅r₂₃⋅(n₁⋅r₁₃ + n₂⋅r₂₃ + n₃⋅r₃₃) + r₂₁⋅(n₁⋅\n",
       "r₁₁ + n₂⋅r₂₁ + n₃⋅r₃₁) + r₂₂⋅(n₁⋅r₁₂ + n₂⋅r₂₂ + n₃⋅r₃₂)) + n⋅(m_p⋅r₃₃⋅(n₁⋅r₁₃ \n",
       "+ n₂⋅r₂₃ + n₃⋅r₃₃) + r₃₁⋅(n₁⋅r₁₁ + n₂⋅r₂₁ + n₃⋅r₃₁) + r₃₂⋅(n₁⋅r₁₂ + n₂⋅r₂₂ + n\n",
       "₃⋅r₃₂))]"
      ]
     },
     "execution_count": 47,
     "metadata": {},
     "output_type": "execute_result"
    }
   ],
   "source": [
    "N.T*R*Mp*R.T*L"
   ]
  },
  {
   "cell_type": "code",
   "execution_count": 48,
   "metadata": {
    "collapsed": false
   },
   "outputs": [
    {
     "data": {
      "text/latex": [
       "$$\\left[\\begin{matrix}l \\left(n_{1} \\left(m_{p} r_{13}^{2} + r_{11}^{2} + r_{12}^{2}\\right) + n_{2} \\left(m_{p} r_{13} r_{23} + r_{11} r_{21} + r_{12} r_{22}\\right) + n_{3} \\left(m_{p} r_{13} r_{33} + r_{11} r_{31} + r_{12} r_{32}\\right)\\right) + m \\left(n_{1} \\left(m_{p} r_{13} r_{23} + r_{11} r_{21} + r_{12} r_{22}\\right) + n_{2} \\left(m_{p} r_{23}^{2} + r_{21}^{2} + r_{22}^{2}\\right) + n_{3} \\left(m_{p} r_{23} r_{33} + r_{21} r_{31} + r_{22} r_{32}\\right)\\right) + n \\left(n_{1} \\left(m_{p} r_{13} r_{33} + r_{11} r_{31} + r_{12} r_{32}\\right) + n_{2} \\left(m_{p} r_{23} r_{33} + r_{21} r_{31} + r_{22} r_{32}\\right) + n_{3} \\left(m_{p} r_{33}^{2} + r_{31}^{2} + r_{32}^{2}\\right)\\right)\\end{matrix}\\right]$$"
      ],
      "text/plain": [
       "⎡  ⎛   ⎛       2      2      2⎞                                               \n",
       "⎣l⋅⎝n₁⋅⎝m_p⋅r₁₃  + r₁₁  + r₁₂ ⎠ + n₂⋅(m_p⋅r₁₃⋅r₂₃ + r₁₁⋅r₂₁ + r₁₂⋅r₂₂) + n₃⋅(m\n",
       "\n",
       "                               ⎞     ⎛                                        \n",
       "_p⋅r₁₃⋅r₃₃ + r₁₁⋅r₃₁ + r₁₂⋅r₃₂)⎠ + m⋅⎝n₁⋅(m_p⋅r₁₃⋅r₂₃ + r₁₁⋅r₂₁ + r₁₂⋅r₂₂) + n\n",
       "\n",
       "  ⎛       2      2      2⎞                                       ⎞     ⎛      \n",
       "₂⋅⎝m_p⋅r₂₃  + r₂₁  + r₂₂ ⎠ + n₃⋅(m_p⋅r₂₃⋅r₃₃ + r₂₁⋅r₃₁ + r₂₂⋅r₃₂)⎠ + n⋅⎝n₁⋅(m_\n",
       "\n",
       "                                                                           ⎛  \n",
       "p⋅r₁₃⋅r₃₃ + r₁₁⋅r₃₁ + r₁₂⋅r₃₂) + n₂⋅(m_p⋅r₂₃⋅r₃₃ + r₂₁⋅r₃₁ + r₂₂⋅r₃₂) + n₃⋅⎝m_\n",
       "\n",
       "     2      2      2⎞⎞⎤\n",
       "p⋅r₃₃  + r₃₁  + r₃₂ ⎠⎠⎦"
      ]
     },
     "execution_count": 48,
     "metadata": {},
     "output_type": "execute_result"
    }
   ],
   "source": [
    "(R*Mp*R.T*N).T*L"
   ]
  },
  {
   "cell_type": "code",
   "execution_count": 49,
   "metadata": {
    "collapsed": false
   },
   "outputs": [
    {
     "data": {
      "text/latex": [
       "$$\\left[\\begin{matrix}- l \\left(n_{1} \\left(m_{p} r_{13}^{2} + r_{11}^{2} + r_{12}^{2}\\right) + n_{2} \\left(m_{p} r_{13} r_{23} + r_{11} r_{21} + r_{12} r_{22}\\right) + n_{3} \\left(m_{p} r_{13} r_{33} + r_{11} r_{31} + r_{12} r_{32}\\right)\\right) + l \\left(m_{p} r_{13} \\left(n_{1} r_{13} + n_{2} r_{23} + n_{3} r_{33}\\right) + r_{11} \\left(n_{1} r_{11} + n_{2} r_{21} + n_{3} r_{31}\\right) + r_{12} \\left(n_{1} r_{12} + n_{2} r_{22} + n_{3} r_{32}\\right)\\right) - m \\left(n_{1} \\left(m_{p} r_{13} r_{23} + r_{11} r_{21} + r_{12} r_{22}\\right) + n_{2} \\left(m_{p} r_{23}^{2} + r_{21}^{2} + r_{22}^{2}\\right) + n_{3} \\left(m_{p} r_{23} r_{33} + r_{21} r_{31} + r_{22} r_{32}\\right)\\right) + m \\left(m_{p} r_{23} \\left(n_{1} r_{13} + n_{2} r_{23} + n_{3} r_{33}\\right) + r_{21} \\left(n_{1} r_{11} + n_{2} r_{21} + n_{3} r_{31}\\right) + r_{22} \\left(n_{1} r_{12} + n_{2} r_{22} + n_{3} r_{32}\\right)\\right) - n \\left(n_{1} \\left(m_{p} r_{13} r_{33} + r_{11} r_{31} + r_{12} r_{32}\\right) + n_{2} \\left(m_{p} r_{23} r_{33} + r_{21} r_{31} + r_{22} r_{32}\\right) + n_{3} \\left(m_{p} r_{33}^{2} + r_{31}^{2} + r_{32}^{2}\\right)\\right) + n \\left(m_{p} r_{33} \\left(n_{1} r_{13} + n_{2} r_{23} + n_{3} r_{33}\\right) + r_{31} \\left(n_{1} r_{11} + n_{2} r_{21} + n_{3} r_{31}\\right) + r_{32} \\left(n_{1} r_{12} + n_{2} r_{22} + n_{3} r_{32}\\right)\\right)\\end{matrix}\\right]$$"
      ],
      "text/plain": [
       "⎡    ⎛   ⎛       2      2      2⎞                                             \n",
       "⎣- l⋅⎝n₁⋅⎝m_p⋅r₁₃  + r₁₁  + r₁₂ ⎠ + n₂⋅(m_p⋅r₁₃⋅r₂₃ + r₁₁⋅r₂₁ + r₁₂⋅r₂₂) + n₃⋅\n",
       "\n",
       "                                 ⎞                                            \n",
       "(m_p⋅r₁₃⋅r₃₃ + r₁₁⋅r₃₁ + r₁₂⋅r₃₂)⎠ + l⋅(m_p⋅r₁₃⋅(n₁⋅r₁₃ + n₂⋅r₂₃ + n₃⋅r₃₃) + r\n",
       "\n",
       "                                                                    ⎛         \n",
       "₁₁⋅(n₁⋅r₁₁ + n₂⋅r₂₁ + n₃⋅r₃₁) + r₁₂⋅(n₁⋅r₁₂ + n₂⋅r₂₂ + n₃⋅r₃₂)) - m⋅⎝n₁⋅(m_p⋅r\n",
       "\n",
       "                                 ⎛       2      2      2⎞                     \n",
       "₁₃⋅r₂₃ + r₁₁⋅r₂₁ + r₁₂⋅r₂₂) + n₂⋅⎝m_p⋅r₂₃  + r₂₁  + r₂₂ ⎠ + n₃⋅(m_p⋅r₂₃⋅r₃₃ + \n",
       "\n",
       "                  ⎞                                                           \n",
       "r₂₁⋅r₃₁ + r₂₂⋅r₃₂)⎠ + m⋅(m_p⋅r₂₃⋅(n₁⋅r₁₃ + n₂⋅r₂₃ + n₃⋅r₃₃) + r₂₁⋅(n₁⋅r₁₁ + n₂\n",
       "\n",
       "                                                     ⎛                        \n",
       "⋅r₂₁ + n₃⋅r₃₁) + r₂₂⋅(n₁⋅r₁₂ + n₂⋅r₂₂ + n₃⋅r₃₂)) - n⋅⎝n₁⋅(m_p⋅r₁₃⋅r₃₃ + r₁₁⋅r₃\n",
       "\n",
       "                                                         ⎛       2      2     \n",
       "₁ + r₁₂⋅r₃₂) + n₂⋅(m_p⋅r₂₃⋅r₃₃ + r₂₁⋅r₃₁ + r₂₂⋅r₃₂) + n₃⋅⎝m_p⋅r₃₃  + r₃₁  + r₃\n",
       "\n",
       " 2⎞⎞                                                                          \n",
       "₂ ⎠⎠ + n⋅(m_p⋅r₃₃⋅(n₁⋅r₁₃ + n₂⋅r₂₃ + n₃⋅r₃₃) + r₃₁⋅(n₁⋅r₁₁ + n₂⋅r₂₁ + n₃⋅r₃₁) \n",
       "\n",
       "                                 ⎤\n",
       "+ r₃₂⋅(n₁⋅r₁₂ + n₂⋅r₂₂ + n₃⋅r₃₂))⎦"
      ]
     },
     "execution_count": 49,
     "metadata": {},
     "output_type": "execute_result"
    }
   ],
   "source": [
    "N.T*R*Mp*R.T*L - (R*Mp*R.T*N).T*L"
   ]
  },
  {
   "cell_type": "code",
   "execution_count": null,
   "metadata": {
    "collapsed": true
   },
   "outputs": [],
   "source": []
  }
 ],
 "metadata": {
  "kernelspec": {
   "display_name": "Python 2",
   "language": "python",
   "name": "python2"
  },
  "language_info": {
   "codemirror_mode": {
    "name": "ipython",
    "version": 2
   },
   "file_extension": ".py",
   "mimetype": "text/x-python",
   "name": "python",
   "nbconvert_exporter": "python",
   "pygments_lexer": "ipython2",
   "version": "2.7.10"
  }
 },
 "nbformat": 4,
 "nbformat_minor": 0
}
